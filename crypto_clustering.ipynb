{
 "cells": [
  {
   "cell_type": "markdown",
   "metadata": {},
   "source": [
    "# Clustering Crypto"
   ]
  },
  {
   "cell_type": "code",
   "execution_count": 309,
   "metadata": {},
   "outputs": [],
   "source": [
    "# Initial imports\n",
    "import pandas as pd\n",
    "import hvplot.pandas\n",
    "import hvplot\n",
    "from pathlib import Path\n",
    "import plotly.express as px\n",
    "from sklearn.preprocessing import StandardScaler, MinMaxScaler\n",
    "from sklearn.decomposition import PCA\n",
    "from sklearn.cluster import KMeans\n",
    "from unicodedata import name"
   ]
  },
  {
   "cell_type": "markdown",
   "metadata": {},
   "source": [
    "### Deliverable 1: Preprocessing the Data for PCA"
   ]
  },
  {
   "cell_type": "code",
   "execution_count": 310,
   "metadata": {},
   "outputs": [
    {
     "data": {
      "text/html": [
       "<div>\n",
       "<style scoped>\n",
       "    .dataframe tbody tr th:only-of-type {\n",
       "        vertical-align: middle;\n",
       "    }\n",
       "\n",
       "    .dataframe tbody tr th {\n",
       "        vertical-align: top;\n",
       "    }\n",
       "\n",
       "    .dataframe thead th {\n",
       "        text-align: right;\n",
       "    }\n",
       "</style>\n",
       "<table border=\"1\" class=\"dataframe\">\n",
       "  <thead>\n",
       "    <tr style=\"text-align: right;\">\n",
       "      <th></th>\n",
       "      <th>Unnamed: 0</th>\n",
       "      <th>CoinName</th>\n",
       "      <th>Algorithm</th>\n",
       "      <th>IsTrading</th>\n",
       "      <th>ProofType</th>\n",
       "      <th>TotalCoinsMined</th>\n",
       "      <th>TotalCoinSupply</th>\n",
       "    </tr>\n",
       "  </thead>\n",
       "  <tbody>\n",
       "    <tr>\n",
       "      <th>0</th>\n",
       "      <td>42</td>\n",
       "      <td>42 Coin</td>\n",
       "      <td>Scrypt</td>\n",
       "      <td>True</td>\n",
       "      <td>PoW/PoS</td>\n",
       "      <td>4.199995e+01</td>\n",
       "      <td>42</td>\n",
       "    </tr>\n",
       "    <tr>\n",
       "      <th>1</th>\n",
       "      <td>365</td>\n",
       "      <td>365Coin</td>\n",
       "      <td>X11</td>\n",
       "      <td>True</td>\n",
       "      <td>PoW/PoS</td>\n",
       "      <td>NaN</td>\n",
       "      <td>2300000000</td>\n",
       "    </tr>\n",
       "    <tr>\n",
       "      <th>2</th>\n",
       "      <td>404</td>\n",
       "      <td>404Coin</td>\n",
       "      <td>Scrypt</td>\n",
       "      <td>True</td>\n",
       "      <td>PoW/PoS</td>\n",
       "      <td>1.055185e+09</td>\n",
       "      <td>532000000</td>\n",
       "    </tr>\n",
       "    <tr>\n",
       "      <th>3</th>\n",
       "      <td>611</td>\n",
       "      <td>SixEleven</td>\n",
       "      <td>SHA-256</td>\n",
       "      <td>True</td>\n",
       "      <td>PoW</td>\n",
       "      <td>NaN</td>\n",
       "      <td>611000</td>\n",
       "    </tr>\n",
       "    <tr>\n",
       "      <th>4</th>\n",
       "      <td>808</td>\n",
       "      <td>808</td>\n",
       "      <td>SHA-256</td>\n",
       "      <td>True</td>\n",
       "      <td>PoW/PoS</td>\n",
       "      <td>0.000000e+00</td>\n",
       "      <td>0</td>\n",
       "    </tr>\n",
       "    <tr>\n",
       "      <th>5</th>\n",
       "      <td>1337</td>\n",
       "      <td>EliteCoin</td>\n",
       "      <td>X13</td>\n",
       "      <td>True</td>\n",
       "      <td>PoW/PoS</td>\n",
       "      <td>2.927942e+10</td>\n",
       "      <td>314159265359</td>\n",
       "    </tr>\n",
       "    <tr>\n",
       "      <th>6</th>\n",
       "      <td>2015</td>\n",
       "      <td>2015 coin</td>\n",
       "      <td>X11</td>\n",
       "      <td>True</td>\n",
       "      <td>PoW/PoS</td>\n",
       "      <td>NaN</td>\n",
       "      <td>0</td>\n",
       "    </tr>\n",
       "    <tr>\n",
       "      <th>7</th>\n",
       "      <td>BTC</td>\n",
       "      <td>Bitcoin</td>\n",
       "      <td>SHA-256</td>\n",
       "      <td>True</td>\n",
       "      <td>PoW</td>\n",
       "      <td>1.792718e+07</td>\n",
       "      <td>21000000</td>\n",
       "    </tr>\n",
       "    <tr>\n",
       "      <th>8</th>\n",
       "      <td>ETH</td>\n",
       "      <td>Ethereum</td>\n",
       "      <td>Ethash</td>\n",
       "      <td>True</td>\n",
       "      <td>PoW</td>\n",
       "      <td>1.076842e+08</td>\n",
       "      <td>0</td>\n",
       "    </tr>\n",
       "    <tr>\n",
       "      <th>9</th>\n",
       "      <td>LTC</td>\n",
       "      <td>Litecoin</td>\n",
       "      <td>Scrypt</td>\n",
       "      <td>True</td>\n",
       "      <td>PoW</td>\n",
       "      <td>6.303924e+07</td>\n",
       "      <td>84000000</td>\n",
       "    </tr>\n",
       "  </tbody>\n",
       "</table>\n",
       "</div>"
      ],
      "text/plain": [
       "  Unnamed: 0   CoinName Algorithm  IsTrading ProofType  TotalCoinsMined  \\\n",
       "0         42    42 Coin    Scrypt       True   PoW/PoS     4.199995e+01   \n",
       "1        365    365Coin       X11       True   PoW/PoS              NaN   \n",
       "2        404    404Coin    Scrypt       True   PoW/PoS     1.055185e+09   \n",
       "3        611  SixEleven   SHA-256       True       PoW              NaN   \n",
       "4        808        808   SHA-256       True   PoW/PoS     0.000000e+00   \n",
       "5       1337  EliteCoin       X13       True   PoW/PoS     2.927942e+10   \n",
       "6       2015  2015 coin       X11       True   PoW/PoS              NaN   \n",
       "7        BTC    Bitcoin   SHA-256       True       PoW     1.792718e+07   \n",
       "8        ETH   Ethereum    Ethash       True       PoW     1.076842e+08   \n",
       "9        LTC   Litecoin    Scrypt       True       PoW     6.303924e+07   \n",
       "\n",
       "  TotalCoinSupply  \n",
       "0              42  \n",
       "1      2300000000  \n",
       "2       532000000  \n",
       "3          611000  \n",
       "4               0  \n",
       "5    314159265359  \n",
       "6               0  \n",
       "7        21000000  \n",
       "8               0  \n",
       "9        84000000  "
      ]
     },
     "execution_count": 310,
     "metadata": {},
     "output_type": "execute_result"
    }
   ],
   "source": [
    "# Load the crypto_data.csv dataset.\n",
    "file_path = \"/Users/delonjackson/Desktop/GitHub/Cryptocurrencies/crypto_data.csv\"\n",
    "crypto_df = pd.read_csv(file_path)\n",
    "crypto_df.head(10)"
   ]
  },
  {
   "cell_type": "code",
   "execution_count": 311,
   "metadata": {},
   "outputs": [
    {
     "data": {
      "text/html": [
       "<div>\n",
       "<style scoped>\n",
       "    .dataframe tbody tr th:only-of-type {\n",
       "        vertical-align: middle;\n",
       "    }\n",
       "\n",
       "    .dataframe tbody tr th {\n",
       "        vertical-align: top;\n",
       "    }\n",
       "\n",
       "    .dataframe thead th {\n",
       "        text-align: right;\n",
       "    }\n",
       "</style>\n",
       "<table border=\"1\" class=\"dataframe\">\n",
       "  <thead>\n",
       "    <tr style=\"text-align: right;\">\n",
       "      <th></th>\n",
       "      <th>CoinName</th>\n",
       "      <th>Algorithm</th>\n",
       "      <th>IsTrading</th>\n",
       "      <th>ProofType</th>\n",
       "      <th>TotalCoinsMined</th>\n",
       "      <th>TotalCoinSupply</th>\n",
       "    </tr>\n",
       "  </thead>\n",
       "  <tbody>\n",
       "    <tr>\n",
       "      <th>0</th>\n",
       "      <td>42 Coin</td>\n",
       "      <td>Scrypt</td>\n",
       "      <td>True</td>\n",
       "      <td>PoW/PoS</td>\n",
       "      <td>4.199995e+01</td>\n",
       "      <td>42</td>\n",
       "    </tr>\n",
       "    <tr>\n",
       "      <th>1</th>\n",
       "      <td>365Coin</td>\n",
       "      <td>X11</td>\n",
       "      <td>True</td>\n",
       "      <td>PoW/PoS</td>\n",
       "      <td>NaN</td>\n",
       "      <td>2300000000</td>\n",
       "    </tr>\n",
       "    <tr>\n",
       "      <th>2</th>\n",
       "      <td>404Coin</td>\n",
       "      <td>Scrypt</td>\n",
       "      <td>True</td>\n",
       "      <td>PoW/PoS</td>\n",
       "      <td>1.055185e+09</td>\n",
       "      <td>532000000</td>\n",
       "    </tr>\n",
       "    <tr>\n",
       "      <th>3</th>\n",
       "      <td>SixEleven</td>\n",
       "      <td>SHA-256</td>\n",
       "      <td>True</td>\n",
       "      <td>PoW</td>\n",
       "      <td>NaN</td>\n",
       "      <td>611000</td>\n",
       "    </tr>\n",
       "    <tr>\n",
       "      <th>4</th>\n",
       "      <td>808</td>\n",
       "      <td>SHA-256</td>\n",
       "      <td>True</td>\n",
       "      <td>PoW/PoS</td>\n",
       "      <td>0.000000e+00</td>\n",
       "      <td>0</td>\n",
       "    </tr>\n",
       "  </tbody>\n",
       "</table>\n",
       "</div>"
      ],
      "text/plain": [
       "    CoinName Algorithm  IsTrading ProofType  TotalCoinsMined TotalCoinSupply\n",
       "0    42 Coin    Scrypt       True   PoW/PoS     4.199995e+01              42\n",
       "1    365Coin       X11       True   PoW/PoS              NaN      2300000000\n",
       "2    404Coin    Scrypt       True   PoW/PoS     1.055185e+09       532000000\n",
       "3  SixEleven   SHA-256       True       PoW              NaN          611000\n",
       "4        808   SHA-256       True   PoW/PoS     0.000000e+00               0"
      ]
     },
     "execution_count": 311,
     "metadata": {},
     "output_type": "execute_result"
    }
   ],
   "source": [
    "crypto_df.drop(columns=['Unnamed: 0'], inplace=True)\n",
    "crypto_df.head()"
   ]
  },
  {
   "cell_type": "code",
   "execution_count": 312,
   "metadata": {},
   "outputs": [
    {
     "data": {
      "text/html": [
       "<div>\n",
       "<style scoped>\n",
       "    .dataframe tbody tr th:only-of-type {\n",
       "        vertical-align: middle;\n",
       "    }\n",
       "\n",
       "    .dataframe tbody tr th {\n",
       "        vertical-align: top;\n",
       "    }\n",
       "\n",
       "    .dataframe thead th {\n",
       "        text-align: right;\n",
       "    }\n",
       "</style>\n",
       "<table border=\"1\" class=\"dataframe\">\n",
       "  <thead>\n",
       "    <tr style=\"text-align: right;\">\n",
       "      <th></th>\n",
       "      <th>CoinName</th>\n",
       "      <th>Algorithm</th>\n",
       "      <th>IsTrading</th>\n",
       "      <th>ProofType</th>\n",
       "      <th>TotalCoinsMined</th>\n",
       "      <th>TotalCoinSupply</th>\n",
       "    </tr>\n",
       "  </thead>\n",
       "  <tbody>\n",
       "    <tr>\n",
       "      <th>0</th>\n",
       "      <td>42 Coin</td>\n",
       "      <td>Scrypt</td>\n",
       "      <td>True</td>\n",
       "      <td>PoW/PoS</td>\n",
       "      <td>4.199995e+01</td>\n",
       "      <td>42</td>\n",
       "    </tr>\n",
       "    <tr>\n",
       "      <th>1</th>\n",
       "      <td>365Coin</td>\n",
       "      <td>X11</td>\n",
       "      <td>True</td>\n",
       "      <td>PoW/PoS</td>\n",
       "      <td>NaN</td>\n",
       "      <td>2300000000</td>\n",
       "    </tr>\n",
       "    <tr>\n",
       "      <th>2</th>\n",
       "      <td>404Coin</td>\n",
       "      <td>Scrypt</td>\n",
       "      <td>True</td>\n",
       "      <td>PoW/PoS</td>\n",
       "      <td>1.055185e+09</td>\n",
       "      <td>532000000</td>\n",
       "    </tr>\n",
       "    <tr>\n",
       "      <th>3</th>\n",
       "      <td>SixEleven</td>\n",
       "      <td>SHA-256</td>\n",
       "      <td>True</td>\n",
       "      <td>PoW</td>\n",
       "      <td>NaN</td>\n",
       "      <td>611000</td>\n",
       "    </tr>\n",
       "    <tr>\n",
       "      <th>4</th>\n",
       "      <td>808</td>\n",
       "      <td>SHA-256</td>\n",
       "      <td>True</td>\n",
       "      <td>PoW/PoS</td>\n",
       "      <td>0.000000e+00</td>\n",
       "      <td>0</td>\n",
       "    </tr>\n",
       "    <tr>\n",
       "      <th>5</th>\n",
       "      <td>EliteCoin</td>\n",
       "      <td>X13</td>\n",
       "      <td>True</td>\n",
       "      <td>PoW/PoS</td>\n",
       "      <td>2.927942e+10</td>\n",
       "      <td>314159265359</td>\n",
       "    </tr>\n",
       "    <tr>\n",
       "      <th>6</th>\n",
       "      <td>2015 coin</td>\n",
       "      <td>X11</td>\n",
       "      <td>True</td>\n",
       "      <td>PoW/PoS</td>\n",
       "      <td>NaN</td>\n",
       "      <td>0</td>\n",
       "    </tr>\n",
       "    <tr>\n",
       "      <th>7</th>\n",
       "      <td>Bitcoin</td>\n",
       "      <td>SHA-256</td>\n",
       "      <td>True</td>\n",
       "      <td>PoW</td>\n",
       "      <td>1.792718e+07</td>\n",
       "      <td>21000000</td>\n",
       "    </tr>\n",
       "    <tr>\n",
       "      <th>8</th>\n",
       "      <td>Ethereum</td>\n",
       "      <td>Ethash</td>\n",
       "      <td>True</td>\n",
       "      <td>PoW</td>\n",
       "      <td>1.076842e+08</td>\n",
       "      <td>0</td>\n",
       "    </tr>\n",
       "    <tr>\n",
       "      <th>9</th>\n",
       "      <td>Litecoin</td>\n",
       "      <td>Scrypt</td>\n",
       "      <td>True</td>\n",
       "      <td>PoW</td>\n",
       "      <td>6.303924e+07</td>\n",
       "      <td>84000000</td>\n",
       "    </tr>\n",
       "  </tbody>\n",
       "</table>\n",
       "</div>"
      ],
      "text/plain": [
       "    CoinName Algorithm  IsTrading ProofType  TotalCoinsMined TotalCoinSupply\n",
       "0    42 Coin    Scrypt       True   PoW/PoS     4.199995e+01              42\n",
       "1    365Coin       X11       True   PoW/PoS              NaN      2300000000\n",
       "2    404Coin    Scrypt       True   PoW/PoS     1.055185e+09       532000000\n",
       "3  SixEleven   SHA-256       True       PoW              NaN          611000\n",
       "4        808   SHA-256       True   PoW/PoS     0.000000e+00               0\n",
       "5  EliteCoin       X13       True   PoW/PoS     2.927942e+10    314159265359\n",
       "6  2015 coin       X11       True   PoW/PoS              NaN               0\n",
       "7    Bitcoin   SHA-256       True       PoW     1.792718e+07        21000000\n",
       "8   Ethereum    Ethash       True       PoW     1.076842e+08               0\n",
       "9   Litecoin    Scrypt       True       PoW     6.303924e+07        84000000"
      ]
     },
     "execution_count": 312,
     "metadata": {},
     "output_type": "execute_result"
    }
   ],
   "source": [
    "# Keep all the cryptocurrencies that are being traded.\n",
    "crypto_df = crypto_df[crypto_df['IsTrading']==True]\n",
    "crypto_df.head(10)\n"
   ]
  },
  {
   "cell_type": "code",
   "execution_count": 313,
   "metadata": {},
   "outputs": [
    {
     "data": {
      "text/plain": [
       "0       False\n",
       "1       False\n",
       "2       False\n",
       "3       False\n",
       "4       False\n",
       "        ...  \n",
       "1243    False\n",
       "1244    False\n",
       "1245    False\n",
       "1246    False\n",
       "1247    False\n",
       "Name: Algorithm, Length: 1144, dtype: bool"
      ]
     },
     "execution_count": 313,
     "metadata": {},
     "output_type": "execute_result"
    }
   ],
   "source": [
    "# Keep all the cryptocurrencies that have a working algorithm.\n",
    "pd.isna(crypto_df['Algorithm'])\n"
   ]
  },
  {
   "cell_type": "code",
   "execution_count": 314,
   "metadata": {},
   "outputs": [
    {
     "data": {
      "text/html": [
       "<div>\n",
       "<style scoped>\n",
       "    .dataframe tbody tr th:only-of-type {\n",
       "        vertical-align: middle;\n",
       "    }\n",
       "\n",
       "    .dataframe tbody tr th {\n",
       "        vertical-align: top;\n",
       "    }\n",
       "\n",
       "    .dataframe thead th {\n",
       "        text-align: right;\n",
       "    }\n",
       "</style>\n",
       "<table border=\"1\" class=\"dataframe\">\n",
       "  <thead>\n",
       "    <tr style=\"text-align: right;\">\n",
       "      <th></th>\n",
       "      <th>CoinName</th>\n",
       "      <th>Algorithm</th>\n",
       "      <th>ProofType</th>\n",
       "      <th>TotalCoinsMined</th>\n",
       "      <th>TotalCoinSupply</th>\n",
       "    </tr>\n",
       "  </thead>\n",
       "  <tbody>\n",
       "    <tr>\n",
       "      <th>0</th>\n",
       "      <td>42 Coin</td>\n",
       "      <td>Scrypt</td>\n",
       "      <td>PoW/PoS</td>\n",
       "      <td>4.199995e+01</td>\n",
       "      <td>42</td>\n",
       "    </tr>\n",
       "    <tr>\n",
       "      <th>1</th>\n",
       "      <td>365Coin</td>\n",
       "      <td>X11</td>\n",
       "      <td>PoW/PoS</td>\n",
       "      <td>NaN</td>\n",
       "      <td>2300000000</td>\n",
       "    </tr>\n",
       "    <tr>\n",
       "      <th>2</th>\n",
       "      <td>404Coin</td>\n",
       "      <td>Scrypt</td>\n",
       "      <td>PoW/PoS</td>\n",
       "      <td>1.055185e+09</td>\n",
       "      <td>532000000</td>\n",
       "    </tr>\n",
       "    <tr>\n",
       "      <th>3</th>\n",
       "      <td>SixEleven</td>\n",
       "      <td>SHA-256</td>\n",
       "      <td>PoW</td>\n",
       "      <td>NaN</td>\n",
       "      <td>611000</td>\n",
       "    </tr>\n",
       "    <tr>\n",
       "      <th>4</th>\n",
       "      <td>808</td>\n",
       "      <td>SHA-256</td>\n",
       "      <td>PoW/PoS</td>\n",
       "      <td>0.000000e+00</td>\n",
       "      <td>0</td>\n",
       "    </tr>\n",
       "  </tbody>\n",
       "</table>\n",
       "</div>"
      ],
      "text/plain": [
       "    CoinName Algorithm ProofType  TotalCoinsMined TotalCoinSupply\n",
       "0    42 Coin    Scrypt   PoW/PoS     4.199995e+01              42\n",
       "1    365Coin       X11   PoW/PoS              NaN      2300000000\n",
       "2    404Coin    Scrypt   PoW/PoS     1.055185e+09       532000000\n",
       "3  SixEleven   SHA-256       PoW              NaN          611000\n",
       "4        808   SHA-256   PoW/PoS     0.000000e+00               0"
      ]
     },
     "execution_count": 314,
     "metadata": {},
     "output_type": "execute_result"
    }
   ],
   "source": [
    "# Remove the \"IsTrading\" column. \n",
    "crypto_df  = crypto_df.drop(['IsTrading'], axis=1) \n",
    "crypto_df.head()"
   ]
  },
  {
   "cell_type": "code",
   "execution_count": 315,
   "metadata": {},
   "outputs": [
    {
     "data": {
      "text/html": [
       "<div>\n",
       "<style scoped>\n",
       "    .dataframe tbody tr th:only-of-type {\n",
       "        vertical-align: middle;\n",
       "    }\n",
       "\n",
       "    .dataframe tbody tr th {\n",
       "        vertical-align: top;\n",
       "    }\n",
       "\n",
       "    .dataframe thead th {\n",
       "        text-align: right;\n",
       "    }\n",
       "</style>\n",
       "<table border=\"1\" class=\"dataframe\">\n",
       "  <thead>\n",
       "    <tr style=\"text-align: right;\">\n",
       "      <th></th>\n",
       "      <th>CoinName</th>\n",
       "      <th>Algorithm</th>\n",
       "      <th>ProofType</th>\n",
       "      <th>TotalCoinsMined</th>\n",
       "      <th>TotalCoinSupply</th>\n",
       "    </tr>\n",
       "  </thead>\n",
       "  <tbody>\n",
       "    <tr>\n",
       "      <th>0</th>\n",
       "      <td>42 Coin</td>\n",
       "      <td>Scrypt</td>\n",
       "      <td>PoW/PoS</td>\n",
       "      <td>4.199995e+01</td>\n",
       "      <td>42</td>\n",
       "    </tr>\n",
       "    <tr>\n",
       "      <th>2</th>\n",
       "      <td>404Coin</td>\n",
       "      <td>Scrypt</td>\n",
       "      <td>PoW/PoS</td>\n",
       "      <td>1.055185e+09</td>\n",
       "      <td>532000000</td>\n",
       "    </tr>\n",
       "    <tr>\n",
       "      <th>4</th>\n",
       "      <td>808</td>\n",
       "      <td>SHA-256</td>\n",
       "      <td>PoW/PoS</td>\n",
       "      <td>0.000000e+00</td>\n",
       "      <td>0</td>\n",
       "    </tr>\n",
       "    <tr>\n",
       "      <th>5</th>\n",
       "      <td>EliteCoin</td>\n",
       "      <td>X13</td>\n",
       "      <td>PoW/PoS</td>\n",
       "      <td>2.927942e+10</td>\n",
       "      <td>314159265359</td>\n",
       "    </tr>\n",
       "    <tr>\n",
       "      <th>7</th>\n",
       "      <td>Bitcoin</td>\n",
       "      <td>SHA-256</td>\n",
       "      <td>PoW</td>\n",
       "      <td>1.792718e+07</td>\n",
       "      <td>21000000</td>\n",
       "    </tr>\n",
       "    <tr>\n",
       "      <th>8</th>\n",
       "      <td>Ethereum</td>\n",
       "      <td>Ethash</td>\n",
       "      <td>PoW</td>\n",
       "      <td>1.076842e+08</td>\n",
       "      <td>0</td>\n",
       "    </tr>\n",
       "    <tr>\n",
       "      <th>9</th>\n",
       "      <td>Litecoin</td>\n",
       "      <td>Scrypt</td>\n",
       "      <td>PoW</td>\n",
       "      <td>6.303924e+07</td>\n",
       "      <td>84000000</td>\n",
       "    </tr>\n",
       "    <tr>\n",
       "      <th>10</th>\n",
       "      <td>Dash</td>\n",
       "      <td>X11</td>\n",
       "      <td>PoW/PoS</td>\n",
       "      <td>9.031294e+06</td>\n",
       "      <td>22000000</td>\n",
       "    </tr>\n",
       "    <tr>\n",
       "      <th>11</th>\n",
       "      <td>Monero</td>\n",
       "      <td>CryptoNight-V7</td>\n",
       "      <td>PoW</td>\n",
       "      <td>1.720114e+07</td>\n",
       "      <td>0</td>\n",
       "    </tr>\n",
       "    <tr>\n",
       "      <th>12</th>\n",
       "      <td>Ethereum Classic</td>\n",
       "      <td>Ethash</td>\n",
       "      <td>PoW</td>\n",
       "      <td>1.133597e+08</td>\n",
       "      <td>210000000</td>\n",
       "    </tr>\n",
       "  </tbody>\n",
       "</table>\n",
       "</div>"
      ],
      "text/plain": [
       "            CoinName       Algorithm ProofType  TotalCoinsMined  \\\n",
       "0            42 Coin          Scrypt   PoW/PoS     4.199995e+01   \n",
       "2            404Coin          Scrypt   PoW/PoS     1.055185e+09   \n",
       "4                808         SHA-256   PoW/PoS     0.000000e+00   \n",
       "5          EliteCoin             X13   PoW/PoS     2.927942e+10   \n",
       "7            Bitcoin         SHA-256       PoW     1.792718e+07   \n",
       "8           Ethereum          Ethash       PoW     1.076842e+08   \n",
       "9           Litecoin          Scrypt       PoW     6.303924e+07   \n",
       "10              Dash             X11   PoW/PoS     9.031294e+06   \n",
       "11            Monero  CryptoNight-V7       PoW     1.720114e+07   \n",
       "12  Ethereum Classic          Ethash       PoW     1.133597e+08   \n",
       "\n",
       "   TotalCoinSupply  \n",
       "0               42  \n",
       "2        532000000  \n",
       "4                0  \n",
       "5     314159265359  \n",
       "7         21000000  \n",
       "8                0  \n",
       "9         84000000  \n",
       "10        22000000  \n",
       "11               0  \n",
       "12       210000000  "
      ]
     },
     "execution_count": 315,
     "metadata": {},
     "output_type": "execute_result"
    }
   ],
   "source": [
    "# Remove rows that have at least 1 null value.\n",
    "crypto_df = crypto_df.dropna()\n",
    "crypto_df.head(10)"
   ]
  },
  {
   "cell_type": "code",
   "execution_count": 316,
   "metadata": {},
   "outputs": [
    {
     "data": {
      "text/html": [
       "<div>\n",
       "<style scoped>\n",
       "    .dataframe tbody tr th:only-of-type {\n",
       "        vertical-align: middle;\n",
       "    }\n",
       "\n",
       "    .dataframe tbody tr th {\n",
       "        vertical-align: top;\n",
       "    }\n",
       "\n",
       "    .dataframe thead th {\n",
       "        text-align: right;\n",
       "    }\n",
       "</style>\n",
       "<table border=\"1\" class=\"dataframe\">\n",
       "  <thead>\n",
       "    <tr style=\"text-align: right;\">\n",
       "      <th></th>\n",
       "      <th>CoinName</th>\n",
       "      <th>Algorithm</th>\n",
       "      <th>ProofType</th>\n",
       "      <th>TotalCoinsMined</th>\n",
       "      <th>TotalCoinSupply</th>\n",
       "    </tr>\n",
       "  </thead>\n",
       "  <tbody>\n",
       "    <tr>\n",
       "      <th>0</th>\n",
       "      <td>42 Coin</td>\n",
       "      <td>Scrypt</td>\n",
       "      <td>PoW/PoS</td>\n",
       "      <td>4.199995e+01</td>\n",
       "      <td>42</td>\n",
       "    </tr>\n",
       "    <tr>\n",
       "      <th>2</th>\n",
       "      <td>404Coin</td>\n",
       "      <td>Scrypt</td>\n",
       "      <td>PoW/PoS</td>\n",
       "      <td>1.055185e+09</td>\n",
       "      <td>532000000</td>\n",
       "    </tr>\n",
       "    <tr>\n",
       "      <th>4</th>\n",
       "      <td>808</td>\n",
       "      <td>SHA-256</td>\n",
       "      <td>PoW/PoS</td>\n",
       "      <td>0.000000e+00</td>\n",
       "      <td>0</td>\n",
       "    </tr>\n",
       "    <tr>\n",
       "      <th>5</th>\n",
       "      <td>EliteCoin</td>\n",
       "      <td>X13</td>\n",
       "      <td>PoW/PoS</td>\n",
       "      <td>2.927942e+10</td>\n",
       "      <td>314159265359</td>\n",
       "    </tr>\n",
       "    <tr>\n",
       "      <th>7</th>\n",
       "      <td>Bitcoin</td>\n",
       "      <td>SHA-256</td>\n",
       "      <td>PoW</td>\n",
       "      <td>1.792718e+07</td>\n",
       "      <td>21000000</td>\n",
       "    </tr>\n",
       "    <tr>\n",
       "      <th>...</th>\n",
       "      <td>...</td>\n",
       "      <td>...</td>\n",
       "      <td>...</td>\n",
       "      <td>...</td>\n",
       "      <td>...</td>\n",
       "    </tr>\n",
       "    <tr>\n",
       "      <th>1238</th>\n",
       "      <td>ZEPHYR</td>\n",
       "      <td>SHA-256</td>\n",
       "      <td>DPoS</td>\n",
       "      <td>2.000000e+09</td>\n",
       "      <td>2000000000</td>\n",
       "    </tr>\n",
       "    <tr>\n",
       "      <th>1242</th>\n",
       "      <td>Gapcoin</td>\n",
       "      <td>Scrypt</td>\n",
       "      <td>PoW/PoS</td>\n",
       "      <td>1.493105e+07</td>\n",
       "      <td>250000000</td>\n",
       "    </tr>\n",
       "    <tr>\n",
       "      <th>1245</th>\n",
       "      <td>Beldex</td>\n",
       "      <td>CryptoNight</td>\n",
       "      <td>PoW</td>\n",
       "      <td>9.802226e+08</td>\n",
       "      <td>1400222610</td>\n",
       "    </tr>\n",
       "    <tr>\n",
       "      <th>1246</th>\n",
       "      <td>Horizen</td>\n",
       "      <td>Equihash</td>\n",
       "      <td>PoW</td>\n",
       "      <td>7.296538e+06</td>\n",
       "      <td>21000000</td>\n",
       "    </tr>\n",
       "    <tr>\n",
       "      <th>1247</th>\n",
       "      <td>BitcoinPlus</td>\n",
       "      <td>Scrypt</td>\n",
       "      <td>PoS</td>\n",
       "      <td>1.283270e+05</td>\n",
       "      <td>1000000</td>\n",
       "    </tr>\n",
       "  </tbody>\n",
       "</table>\n",
       "<p>685 rows × 5 columns</p>\n",
       "</div>"
      ],
      "text/plain": [
       "         CoinName    Algorithm ProofType  TotalCoinsMined TotalCoinSupply\n",
       "0         42 Coin       Scrypt   PoW/PoS     4.199995e+01              42\n",
       "2         404Coin       Scrypt   PoW/PoS     1.055185e+09       532000000\n",
       "4             808      SHA-256   PoW/PoS     0.000000e+00               0\n",
       "5       EliteCoin          X13   PoW/PoS     2.927942e+10    314159265359\n",
       "7         Bitcoin      SHA-256       PoW     1.792718e+07        21000000\n",
       "...           ...          ...       ...              ...             ...\n",
       "1238       ZEPHYR      SHA-256      DPoS     2.000000e+09      2000000000\n",
       "1242      Gapcoin       Scrypt   PoW/PoS     1.493105e+07       250000000\n",
       "1245       Beldex  CryptoNight       PoW     9.802226e+08      1400222610\n",
       "1246      Horizen     Equihash       PoW     7.296538e+06        21000000\n",
       "1247  BitcoinPlus       Scrypt       PoS     1.283270e+05         1000000\n",
       "\n",
       "[685 rows x 5 columns]"
      ]
     },
     "execution_count": 316,
     "metadata": {},
     "output_type": "execute_result"
    }
   ],
   "source": [
    "# Keep the rows where coins are mined.\n",
    "crypto_df[crypto_df['TotalCoinsMined'] > 0]\n",
    "crypto_df"
   ]
  },
  {
   "cell_type": "code",
   "execution_count": 317,
   "metadata": {},
   "outputs": [
    {
     "data": {
      "text/html": [
       "<div>\n",
       "<style scoped>\n",
       "    .dataframe tbody tr th:only-of-type {\n",
       "        vertical-align: middle;\n",
       "    }\n",
       "\n",
       "    .dataframe tbody tr th {\n",
       "        vertical-align: top;\n",
       "    }\n",
       "\n",
       "    .dataframe thead th {\n",
       "        text-align: right;\n",
       "    }\n",
       "</style>\n",
       "<table border=\"1\" class=\"dataframe\">\n",
       "  <thead>\n",
       "    <tr style=\"text-align: right;\">\n",
       "      <th></th>\n",
       "      <th>CoinName</th>\n",
       "    </tr>\n",
       "  </thead>\n",
       "  <tbody>\n",
       "    <tr>\n",
       "      <th>0</th>\n",
       "      <td>42 Coin</td>\n",
       "    </tr>\n",
       "    <tr>\n",
       "      <th>2</th>\n",
       "      <td>404Coin</td>\n",
       "    </tr>\n",
       "    <tr>\n",
       "      <th>4</th>\n",
       "      <td>808</td>\n",
       "    </tr>\n",
       "    <tr>\n",
       "      <th>5</th>\n",
       "      <td>EliteCoin</td>\n",
       "    </tr>\n",
       "    <tr>\n",
       "      <th>7</th>\n",
       "      <td>Bitcoin</td>\n",
       "    </tr>\n",
       "    <tr>\n",
       "      <th>8</th>\n",
       "      <td>Ethereum</td>\n",
       "    </tr>\n",
       "    <tr>\n",
       "      <th>9</th>\n",
       "      <td>Litecoin</td>\n",
       "    </tr>\n",
       "    <tr>\n",
       "      <th>10</th>\n",
       "      <td>Dash</td>\n",
       "    </tr>\n",
       "    <tr>\n",
       "      <th>11</th>\n",
       "      <td>Monero</td>\n",
       "    </tr>\n",
       "    <tr>\n",
       "      <th>12</th>\n",
       "      <td>Ethereum Classic</td>\n",
       "    </tr>\n",
       "  </tbody>\n",
       "</table>\n",
       "</div>"
      ],
      "text/plain": [
       "            CoinName\n",
       "0            42 Coin\n",
       "2            404Coin\n",
       "4                808\n",
       "5          EliteCoin\n",
       "7            Bitcoin\n",
       "8           Ethereum\n",
       "9           Litecoin\n",
       "10              Dash\n",
       "11            Monero\n",
       "12  Ethereum Classic"
      ]
     },
     "execution_count": 317,
     "metadata": {},
     "output_type": "execute_result"
    }
   ],
   "source": [
    "# Create a new DataFrame that holds only the cryptocurrencies names.\n",
    "coins_names = crypto_df.filter(['CoinName'], axis = 1)\n",
    "coins_names.head(10)"
   ]
  },
  {
   "cell_type": "code",
   "execution_count": 318,
   "metadata": {},
   "outputs": [
    {
     "name": "stdout",
     "output_type": "stream",
     "text": [
      "(685, 4)\n"
     ]
    },
    {
     "data": {
      "text/html": [
       "<div>\n",
       "<style scoped>\n",
       "    .dataframe tbody tr th:only-of-type {\n",
       "        vertical-align: middle;\n",
       "    }\n",
       "\n",
       "    .dataframe tbody tr th {\n",
       "        vertical-align: top;\n",
       "    }\n",
       "\n",
       "    .dataframe thead th {\n",
       "        text-align: right;\n",
       "    }\n",
       "</style>\n",
       "<table border=\"1\" class=\"dataframe\">\n",
       "  <thead>\n",
       "    <tr style=\"text-align: right;\">\n",
       "      <th></th>\n",
       "      <th>Algorithm</th>\n",
       "      <th>ProofType</th>\n",
       "      <th>TotalCoinsMined</th>\n",
       "      <th>TotalCoinSupply</th>\n",
       "    </tr>\n",
       "  </thead>\n",
       "  <tbody>\n",
       "    <tr>\n",
       "      <th>0</th>\n",
       "      <td>Scrypt</td>\n",
       "      <td>PoW/PoS</td>\n",
       "      <td>4.199995e+01</td>\n",
       "      <td>42</td>\n",
       "    </tr>\n",
       "    <tr>\n",
       "      <th>2</th>\n",
       "      <td>Scrypt</td>\n",
       "      <td>PoW/PoS</td>\n",
       "      <td>1.055185e+09</td>\n",
       "      <td>532000000</td>\n",
       "    </tr>\n",
       "    <tr>\n",
       "      <th>4</th>\n",
       "      <td>SHA-256</td>\n",
       "      <td>PoW/PoS</td>\n",
       "      <td>0.000000e+00</td>\n",
       "      <td>0</td>\n",
       "    </tr>\n",
       "    <tr>\n",
       "      <th>5</th>\n",
       "      <td>X13</td>\n",
       "      <td>PoW/PoS</td>\n",
       "      <td>2.927942e+10</td>\n",
       "      <td>314159265359</td>\n",
       "    </tr>\n",
       "    <tr>\n",
       "      <th>7</th>\n",
       "      <td>SHA-256</td>\n",
       "      <td>PoW</td>\n",
       "      <td>1.792718e+07</td>\n",
       "      <td>21000000</td>\n",
       "    </tr>\n",
       "    <tr>\n",
       "      <th>8</th>\n",
       "      <td>Ethash</td>\n",
       "      <td>PoW</td>\n",
       "      <td>1.076842e+08</td>\n",
       "      <td>0</td>\n",
       "    </tr>\n",
       "    <tr>\n",
       "      <th>9</th>\n",
       "      <td>Scrypt</td>\n",
       "      <td>PoW</td>\n",
       "      <td>6.303924e+07</td>\n",
       "      <td>84000000</td>\n",
       "    </tr>\n",
       "    <tr>\n",
       "      <th>10</th>\n",
       "      <td>X11</td>\n",
       "      <td>PoW/PoS</td>\n",
       "      <td>9.031294e+06</td>\n",
       "      <td>22000000</td>\n",
       "    </tr>\n",
       "    <tr>\n",
       "      <th>11</th>\n",
       "      <td>CryptoNight-V7</td>\n",
       "      <td>PoW</td>\n",
       "      <td>1.720114e+07</td>\n",
       "      <td>0</td>\n",
       "    </tr>\n",
       "    <tr>\n",
       "      <th>12</th>\n",
       "      <td>Ethash</td>\n",
       "      <td>PoW</td>\n",
       "      <td>1.133597e+08</td>\n",
       "      <td>210000000</td>\n",
       "    </tr>\n",
       "  </tbody>\n",
       "</table>\n",
       "</div>"
      ],
      "text/plain": [
       "         Algorithm ProofType  TotalCoinsMined TotalCoinSupply\n",
       "0           Scrypt   PoW/PoS     4.199995e+01              42\n",
       "2           Scrypt   PoW/PoS     1.055185e+09       532000000\n",
       "4          SHA-256   PoW/PoS     0.000000e+00               0\n",
       "5              X13   PoW/PoS     2.927942e+10    314159265359\n",
       "7          SHA-256       PoW     1.792718e+07        21000000\n",
       "8           Ethash       PoW     1.076842e+08               0\n",
       "9           Scrypt       PoW     6.303924e+07        84000000\n",
       "10             X11   PoW/PoS     9.031294e+06        22000000\n",
       "11  CryptoNight-V7       PoW     1.720114e+07               0\n",
       "12          Ethash       PoW     1.133597e+08       210000000"
      ]
     },
     "execution_count": 318,
     "metadata": {},
     "output_type": "execute_result"
    }
   ],
   "source": [
    "# Drop the 'CoinName' column since it's not going to be used on the clustering algorithm.\n",
    "crypto_df = crypto_df.drop(\"CoinName\", axis=1)\n",
    "print(crypto_df.shape)\n",
    "crypto_df.head(10)"
   ]
  },
  {
   "cell_type": "code",
   "execution_count": 319,
   "metadata": {},
   "outputs": [
    {
     "name": "stdout",
     "output_type": "stream",
     "text": [
      "(685, 109)\n"
     ]
    },
    {
     "data": {
      "text/html": [
       "<div>\n",
       "<style scoped>\n",
       "    .dataframe tbody tr th:only-of-type {\n",
       "        vertical-align: middle;\n",
       "    }\n",
       "\n",
       "    .dataframe tbody tr th {\n",
       "        vertical-align: top;\n",
       "    }\n",
       "\n",
       "    .dataframe thead th {\n",
       "        text-align: right;\n",
       "    }\n",
       "</style>\n",
       "<table border=\"1\" class=\"dataframe\">\n",
       "  <thead>\n",
       "    <tr style=\"text-align: right;\">\n",
       "      <th></th>\n",
       "      <th>TotalCoinsMined</th>\n",
       "      <th>TotalCoinSupply</th>\n",
       "      <th>Algorithm_1GB AES Pattern Search</th>\n",
       "      <th>Algorithm_536</th>\n",
       "      <th>Algorithm_Argon2</th>\n",
       "      <th>Algorithm_Argon2d</th>\n",
       "      <th>Algorithm_BLAKE256</th>\n",
       "      <th>Algorithm_Blake</th>\n",
       "      <th>Algorithm_Blake2S</th>\n",
       "      <th>Algorithm_Blake2b</th>\n",
       "      <th>...</th>\n",
       "      <th>ProofType_PoW/PoS</th>\n",
       "      <th>ProofType_PoW/PoS</th>\n",
       "      <th>ProofType_PoW/PoW</th>\n",
       "      <th>ProofType_PoW/nPoS</th>\n",
       "      <th>ProofType_Pos</th>\n",
       "      <th>ProofType_Proof of Authority</th>\n",
       "      <th>ProofType_Proof of Trust</th>\n",
       "      <th>ProofType_TPoS</th>\n",
       "      <th>ProofType_Zero-Knowledge Proof</th>\n",
       "      <th>ProofType_dPoW/PoW</th>\n",
       "    </tr>\n",
       "  </thead>\n",
       "  <tbody>\n",
       "    <tr>\n",
       "      <th>0</th>\n",
       "      <td>4.199995e+01</td>\n",
       "      <td>42</td>\n",
       "      <td>0</td>\n",
       "      <td>0</td>\n",
       "      <td>0</td>\n",
       "      <td>0</td>\n",
       "      <td>0</td>\n",
       "      <td>0</td>\n",
       "      <td>0</td>\n",
       "      <td>0</td>\n",
       "      <td>...</td>\n",
       "      <td>1</td>\n",
       "      <td>0</td>\n",
       "      <td>0</td>\n",
       "      <td>0</td>\n",
       "      <td>0</td>\n",
       "      <td>0</td>\n",
       "      <td>0</td>\n",
       "      <td>0</td>\n",
       "      <td>0</td>\n",
       "      <td>0</td>\n",
       "    </tr>\n",
       "    <tr>\n",
       "      <th>2</th>\n",
       "      <td>1.055185e+09</td>\n",
       "      <td>532000000</td>\n",
       "      <td>0</td>\n",
       "      <td>0</td>\n",
       "      <td>0</td>\n",
       "      <td>0</td>\n",
       "      <td>0</td>\n",
       "      <td>0</td>\n",
       "      <td>0</td>\n",
       "      <td>0</td>\n",
       "      <td>...</td>\n",
       "      <td>1</td>\n",
       "      <td>0</td>\n",
       "      <td>0</td>\n",
       "      <td>0</td>\n",
       "      <td>0</td>\n",
       "      <td>0</td>\n",
       "      <td>0</td>\n",
       "      <td>0</td>\n",
       "      <td>0</td>\n",
       "      <td>0</td>\n",
       "    </tr>\n",
       "    <tr>\n",
       "      <th>4</th>\n",
       "      <td>0.000000e+00</td>\n",
       "      <td>0</td>\n",
       "      <td>0</td>\n",
       "      <td>0</td>\n",
       "      <td>0</td>\n",
       "      <td>0</td>\n",
       "      <td>0</td>\n",
       "      <td>0</td>\n",
       "      <td>0</td>\n",
       "      <td>0</td>\n",
       "      <td>...</td>\n",
       "      <td>1</td>\n",
       "      <td>0</td>\n",
       "      <td>0</td>\n",
       "      <td>0</td>\n",
       "      <td>0</td>\n",
       "      <td>0</td>\n",
       "      <td>0</td>\n",
       "      <td>0</td>\n",
       "      <td>0</td>\n",
       "      <td>0</td>\n",
       "    </tr>\n",
       "    <tr>\n",
       "      <th>5</th>\n",
       "      <td>2.927942e+10</td>\n",
       "      <td>314159265359</td>\n",
       "      <td>0</td>\n",
       "      <td>0</td>\n",
       "      <td>0</td>\n",
       "      <td>0</td>\n",
       "      <td>0</td>\n",
       "      <td>0</td>\n",
       "      <td>0</td>\n",
       "      <td>0</td>\n",
       "      <td>...</td>\n",
       "      <td>1</td>\n",
       "      <td>0</td>\n",
       "      <td>0</td>\n",
       "      <td>0</td>\n",
       "      <td>0</td>\n",
       "      <td>0</td>\n",
       "      <td>0</td>\n",
       "      <td>0</td>\n",
       "      <td>0</td>\n",
       "      <td>0</td>\n",
       "    </tr>\n",
       "    <tr>\n",
       "      <th>7</th>\n",
       "      <td>1.792718e+07</td>\n",
       "      <td>21000000</td>\n",
       "      <td>0</td>\n",
       "      <td>0</td>\n",
       "      <td>0</td>\n",
       "      <td>0</td>\n",
       "      <td>0</td>\n",
       "      <td>0</td>\n",
       "      <td>0</td>\n",
       "      <td>0</td>\n",
       "      <td>...</td>\n",
       "      <td>0</td>\n",
       "      <td>0</td>\n",
       "      <td>0</td>\n",
       "      <td>0</td>\n",
       "      <td>0</td>\n",
       "      <td>0</td>\n",
       "      <td>0</td>\n",
       "      <td>0</td>\n",
       "      <td>0</td>\n",
       "      <td>0</td>\n",
       "    </tr>\n",
       "    <tr>\n",
       "      <th>8</th>\n",
       "      <td>1.076842e+08</td>\n",
       "      <td>0</td>\n",
       "      <td>0</td>\n",
       "      <td>0</td>\n",
       "      <td>0</td>\n",
       "      <td>0</td>\n",
       "      <td>0</td>\n",
       "      <td>0</td>\n",
       "      <td>0</td>\n",
       "      <td>0</td>\n",
       "      <td>...</td>\n",
       "      <td>0</td>\n",
       "      <td>0</td>\n",
       "      <td>0</td>\n",
       "      <td>0</td>\n",
       "      <td>0</td>\n",
       "      <td>0</td>\n",
       "      <td>0</td>\n",
       "      <td>0</td>\n",
       "      <td>0</td>\n",
       "      <td>0</td>\n",
       "    </tr>\n",
       "    <tr>\n",
       "      <th>9</th>\n",
       "      <td>6.303924e+07</td>\n",
       "      <td>84000000</td>\n",
       "      <td>0</td>\n",
       "      <td>0</td>\n",
       "      <td>0</td>\n",
       "      <td>0</td>\n",
       "      <td>0</td>\n",
       "      <td>0</td>\n",
       "      <td>0</td>\n",
       "      <td>0</td>\n",
       "      <td>...</td>\n",
       "      <td>0</td>\n",
       "      <td>0</td>\n",
       "      <td>0</td>\n",
       "      <td>0</td>\n",
       "      <td>0</td>\n",
       "      <td>0</td>\n",
       "      <td>0</td>\n",
       "      <td>0</td>\n",
       "      <td>0</td>\n",
       "      <td>0</td>\n",
       "    </tr>\n",
       "    <tr>\n",
       "      <th>10</th>\n",
       "      <td>9.031294e+06</td>\n",
       "      <td>22000000</td>\n",
       "      <td>0</td>\n",
       "      <td>0</td>\n",
       "      <td>0</td>\n",
       "      <td>0</td>\n",
       "      <td>0</td>\n",
       "      <td>0</td>\n",
       "      <td>0</td>\n",
       "      <td>0</td>\n",
       "      <td>...</td>\n",
       "      <td>1</td>\n",
       "      <td>0</td>\n",
       "      <td>0</td>\n",
       "      <td>0</td>\n",
       "      <td>0</td>\n",
       "      <td>0</td>\n",
       "      <td>0</td>\n",
       "      <td>0</td>\n",
       "      <td>0</td>\n",
       "      <td>0</td>\n",
       "    </tr>\n",
       "    <tr>\n",
       "      <th>11</th>\n",
       "      <td>1.720114e+07</td>\n",
       "      <td>0</td>\n",
       "      <td>0</td>\n",
       "      <td>0</td>\n",
       "      <td>0</td>\n",
       "      <td>0</td>\n",
       "      <td>0</td>\n",
       "      <td>0</td>\n",
       "      <td>0</td>\n",
       "      <td>0</td>\n",
       "      <td>...</td>\n",
       "      <td>0</td>\n",
       "      <td>0</td>\n",
       "      <td>0</td>\n",
       "      <td>0</td>\n",
       "      <td>0</td>\n",
       "      <td>0</td>\n",
       "      <td>0</td>\n",
       "      <td>0</td>\n",
       "      <td>0</td>\n",
       "      <td>0</td>\n",
       "    </tr>\n",
       "    <tr>\n",
       "      <th>12</th>\n",
       "      <td>1.133597e+08</td>\n",
       "      <td>210000000</td>\n",
       "      <td>0</td>\n",
       "      <td>0</td>\n",
       "      <td>0</td>\n",
       "      <td>0</td>\n",
       "      <td>0</td>\n",
       "      <td>0</td>\n",
       "      <td>0</td>\n",
       "      <td>0</td>\n",
       "      <td>...</td>\n",
       "      <td>0</td>\n",
       "      <td>0</td>\n",
       "      <td>0</td>\n",
       "      <td>0</td>\n",
       "      <td>0</td>\n",
       "      <td>0</td>\n",
       "      <td>0</td>\n",
       "      <td>0</td>\n",
       "      <td>0</td>\n",
       "      <td>0</td>\n",
       "    </tr>\n",
       "  </tbody>\n",
       "</table>\n",
       "<p>10 rows × 109 columns</p>\n",
       "</div>"
      ],
      "text/plain": [
       "    TotalCoinsMined TotalCoinSupply  Algorithm_1GB AES Pattern Search  \\\n",
       "0      4.199995e+01              42                                 0   \n",
       "2      1.055185e+09       532000000                                 0   \n",
       "4      0.000000e+00               0                                 0   \n",
       "5      2.927942e+10    314159265359                                 0   \n",
       "7      1.792718e+07        21000000                                 0   \n",
       "8      1.076842e+08               0                                 0   \n",
       "9      6.303924e+07        84000000                                 0   \n",
       "10     9.031294e+06        22000000                                 0   \n",
       "11     1.720114e+07               0                                 0   \n",
       "12     1.133597e+08       210000000                                 0   \n",
       "\n",
       "    Algorithm_536  Algorithm_Argon2  Algorithm_Argon2d  Algorithm_BLAKE256  \\\n",
       "0               0                 0                  0                   0   \n",
       "2               0                 0                  0                   0   \n",
       "4               0                 0                  0                   0   \n",
       "5               0                 0                  0                   0   \n",
       "7               0                 0                  0                   0   \n",
       "8               0                 0                  0                   0   \n",
       "9               0                 0                  0                   0   \n",
       "10              0                 0                  0                   0   \n",
       "11              0                 0                  0                   0   \n",
       "12              0                 0                  0                   0   \n",
       "\n",
       "    Algorithm_Blake  Algorithm_Blake2S  Algorithm_Blake2b  ...  \\\n",
       "0                 0                  0                  0  ...   \n",
       "2                 0                  0                  0  ...   \n",
       "4                 0                  0                  0  ...   \n",
       "5                 0                  0                  0  ...   \n",
       "7                 0                  0                  0  ...   \n",
       "8                 0                  0                  0  ...   \n",
       "9                 0                  0                  0  ...   \n",
       "10                0                  0                  0  ...   \n",
       "11                0                  0                  0  ...   \n",
       "12                0                  0                  0  ...   \n",
       "\n",
       "    ProofType_PoW/PoS  ProofType_PoW/PoS   ProofType_PoW/PoW  \\\n",
       "0                   1                   0                  0   \n",
       "2                   1                   0                  0   \n",
       "4                   1                   0                  0   \n",
       "5                   1                   0                  0   \n",
       "7                   0                   0                  0   \n",
       "8                   0                   0                  0   \n",
       "9                   0                   0                  0   \n",
       "10                  1                   0                  0   \n",
       "11                  0                   0                  0   \n",
       "12                  0                   0                  0   \n",
       "\n",
       "    ProofType_PoW/nPoS  ProofType_Pos  ProofType_Proof of Authority  \\\n",
       "0                    0              0                             0   \n",
       "2                    0              0                             0   \n",
       "4                    0              0                             0   \n",
       "5                    0              0                             0   \n",
       "7                    0              0                             0   \n",
       "8                    0              0                             0   \n",
       "9                    0              0                             0   \n",
       "10                   0              0                             0   \n",
       "11                   0              0                             0   \n",
       "12                   0              0                             0   \n",
       "\n",
       "    ProofType_Proof of Trust  ProofType_TPoS  ProofType_Zero-Knowledge Proof  \\\n",
       "0                          0               0                               0   \n",
       "2                          0               0                               0   \n",
       "4                          0               0                               0   \n",
       "5                          0               0                               0   \n",
       "7                          0               0                               0   \n",
       "8                          0               0                               0   \n",
       "9                          0               0                               0   \n",
       "10                         0               0                               0   \n",
       "11                         0               0                               0   \n",
       "12                         0               0                               0   \n",
       "\n",
       "    ProofType_dPoW/PoW  \n",
       "0                    0  \n",
       "2                    0  \n",
       "4                    0  \n",
       "5                    0  \n",
       "7                    0  \n",
       "8                    0  \n",
       "9                    0  \n",
       "10                   0  \n",
       "11                   0  \n",
       "12                   0  \n",
       "\n",
       "[10 rows x 109 columns]"
      ]
     },
     "execution_count": 319,
     "metadata": {},
     "output_type": "execute_result"
    }
   ],
   "source": [
    "# Use get_dummies() to create variables for text features.\n",
    "crypto_scaled = pd.get_dummies(data=crypto_df, columns=['Algorithm', 'ProofType'])\n",
    "print(crypto_scaled.shape)\n",
    "crypto_scaled.head(10)"
   ]
  },
  {
   "cell_type": "code",
   "execution_count": 320,
   "metadata": {},
   "outputs": [
    {
     "name": "stdout",
     "output_type": "stream",
     "text": [
      "[[-0.10282804 -0.03823841 -0.03823596 ... -0.03823596 -0.03823596\n",
      "  -0.03823596]\n",
      " [-0.07661326 -0.03823825 -0.03823596 ... -0.03823596 -0.03823596\n",
      "  -0.03823596]\n",
      " [-0.10282804 -0.03823841 -0.03823596 ... -0.03823596 -0.03823596\n",
      "  -0.03823596]\n",
      " ...\n",
      " [-0.0784756  -0.03823801 -0.03823596 ... -0.03823596 -0.03823596\n",
      "  -0.03823596]\n",
      " [-0.10264677 -0.0382384  -0.03823596 ... -0.03823596 -0.03823596\n",
      "  -0.03823596]\n",
      " [-0.10282485 -0.03823841 -0.03823596 ... -0.03823596 -0.03823596\n",
      "  -0.03823596]]\n"
     ]
    }
   ],
   "source": [
    "# Standardize the data with StandardScaler().\n",
    "crypto_scaled = StandardScaler().fit_transform(crypto_scaled)\n",
    "print(crypto_scaled)"
   ]
  },
  {
   "cell_type": "markdown",
   "metadata": {},
   "source": [
    "### Deliverable 2: Reducing Data Dimensions Using PCA"
   ]
  },
  {
   "cell_type": "code",
   "execution_count": 321,
   "metadata": {},
   "outputs": [
    {
     "data": {
      "text/plain": [
       "array([[-0.25460817,  1.21706093, -0.41385225],\n",
       "       [-0.24032054,  1.21524311, -0.41431992],\n",
       "       [-0.16226477,  0.83799313, -0.30237059],\n",
       "       ...,\n",
       "       [-0.09670735, -2.32610903,  0.26733469],\n",
       "       [-0.25827722, -2.00449482,  0.25042975],\n",
       "       [-0.12920049,  0.73468686, -0.1457278 ]])"
      ]
     },
     "execution_count": 321,
     "metadata": {},
     "output_type": "execute_result"
    }
   ],
   "source": [
    "# Using PCA to reduce dimension to three principal components.\n",
    "pca = PCA(n_components=3)\n",
    "\n",
    "crypto_pca = pca.fit_transform(crypto_scaled)\n",
    "\n",
    "crypto_pca"
   ]
  },
  {
   "cell_type": "code",
   "execution_count": 322,
   "metadata": {},
   "outputs": [
    {
     "data": {
      "text/html": [
       "<div>\n",
       "<style scoped>\n",
       "    .dataframe tbody tr th:only-of-type {\n",
       "        vertical-align: middle;\n",
       "    }\n",
       "\n",
       "    .dataframe tbody tr th {\n",
       "        vertical-align: top;\n",
       "    }\n",
       "\n",
       "    .dataframe thead th {\n",
       "        text-align: right;\n",
       "    }\n",
       "</style>\n",
       "<table border=\"1\" class=\"dataframe\">\n",
       "  <thead>\n",
       "    <tr style=\"text-align: right;\">\n",
       "      <th></th>\n",
       "      <th>PC 1</th>\n",
       "      <th>PC 2</th>\n",
       "      <th>PC 3</th>\n",
       "    </tr>\n",
       "  </thead>\n",
       "  <tbody>\n",
       "    <tr>\n",
       "      <th>0</th>\n",
       "      <td>-0.254608</td>\n",
       "      <td>1.217061</td>\n",
       "      <td>-0.413852</td>\n",
       "    </tr>\n",
       "    <tr>\n",
       "      <th>2</th>\n",
       "      <td>-0.240321</td>\n",
       "      <td>1.215243</td>\n",
       "      <td>-0.414320</td>\n",
       "    </tr>\n",
       "    <tr>\n",
       "      <th>4</th>\n",
       "      <td>-0.162265</td>\n",
       "      <td>0.837993</td>\n",
       "      <td>-0.302371</td>\n",
       "    </tr>\n",
       "    <tr>\n",
       "      <th>5</th>\n",
       "      <td>0.275136</td>\n",
       "      <td>1.945880</td>\n",
       "      <td>-0.536135</td>\n",
       "    </tr>\n",
       "    <tr>\n",
       "      <th>7</th>\n",
       "      <td>-0.205165</td>\n",
       "      <td>-1.439999</td>\n",
       "      <td>0.105917</td>\n",
       "    </tr>\n",
       "    <tr>\n",
       "      <th>8</th>\n",
       "      <td>-0.257211</td>\n",
       "      <td>-2.098442</td>\n",
       "      <td>0.267158</td>\n",
       "    </tr>\n",
       "    <tr>\n",
       "      <th>9</th>\n",
       "      <td>-0.296898</td>\n",
       "      <td>-1.061009</td>\n",
       "      <td>-0.005585</td>\n",
       "    </tr>\n",
       "    <tr>\n",
       "      <th>10</th>\n",
       "      <td>-0.200874</td>\n",
       "      <td>1.429312</td>\n",
       "      <td>-0.421018</td>\n",
       "    </tr>\n",
       "    <tr>\n",
       "      <th>11</th>\n",
       "      <td>-0.253281</td>\n",
       "      <td>-2.200522</td>\n",
       "      <td>0.217714</td>\n",
       "    </tr>\n",
       "    <tr>\n",
       "      <th>12</th>\n",
       "      <td>-0.257135</td>\n",
       "      <td>-2.098451</td>\n",
       "      <td>0.267155</td>\n",
       "    </tr>\n",
       "  </tbody>\n",
       "</table>\n",
       "</div>"
      ],
      "text/plain": [
       "        PC 1      PC 2      PC 3\n",
       "0  -0.254608  1.217061 -0.413852\n",
       "2  -0.240321  1.215243 -0.414320\n",
       "4  -0.162265  0.837993 -0.302371\n",
       "5   0.275136  1.945880 -0.536135\n",
       "7  -0.205165 -1.439999  0.105917\n",
       "8  -0.257211 -2.098442  0.267158\n",
       "9  -0.296898 -1.061009 -0.005585\n",
       "10 -0.200874  1.429312 -0.421018\n",
       "11 -0.253281 -2.200522  0.217714\n",
       "12 -0.257135 -2.098451  0.267155"
      ]
     },
     "execution_count": 322,
     "metadata": {},
     "output_type": "execute_result"
    }
   ],
   "source": [
    "# Create a DataFrame with the three principal components.\n",
    "pcs_df = pd.DataFrame(data= crypto_pca, columns=['PC 1', 'PC 2', 'PC 3'], index=crypto_df.index)\n",
    "pcs_df.head(10)"
   ]
  },
  {
   "cell_type": "markdown",
   "metadata": {},
   "source": [
    "### Deliverable 3: Clustering Crytocurrencies Using K-Means\n",
    "\n",
    "#### Finding the Best Value for `k` Using the Elbow Curve"
   ]
  },
  {
   "cell_type": "code",
   "execution_count": 323,
   "metadata": {},
   "outputs": [
    {
     "data": {},
     "metadata": {},
     "output_type": "display_data"
    },
    {
     "data": {
      "application/vnd.holoviews_exec.v0+json": "",
      "text/html": [
       "<div id='9359'>\n",
       "\n",
       "\n",
       "\n",
       "\n",
       "\n",
       "  <div class=\"bk-root\" id=\"4f57451d-ff1e-47ec-a5c7-7eb30bb56368\" data-root-id=\"9359\"></div>\n",
       "</div>\n",
       "<script type=\"application/javascript\">(function(root) {\n",
       "  function embed_document(root) {\n",
       "    var docs_json = {\"88f6a0df-4640-4fc8-a399-a641fb75fbfe\":{\"defs\":[{\"extends\":null,\"module\":null,\"name\":\"ReactiveHTML1\",\"overrides\":[],\"properties\":[]},{\"extends\":null,\"module\":null,\"name\":\"FlexBox1\",\"overrides\":[],\"properties\":[{\"default\":\"flex-start\",\"kind\":null,\"name\":\"align_content\"},{\"default\":\"flex-start\",\"kind\":null,\"name\":\"align_items\"},{\"default\":\"row\",\"kind\":null,\"name\":\"flex_direction\"},{\"default\":\"wrap\",\"kind\":null,\"name\":\"flex_wrap\"},{\"default\":\"flex-start\",\"kind\":null,\"name\":\"justify_content\"}]},{\"extends\":null,\"module\":null,\"name\":\"GridStack1\",\"overrides\":[],\"properties\":[{\"default\":\"warn\",\"kind\":null,\"name\":\"mode\"},{\"default\":null,\"kind\":null,\"name\":\"ncols\"},{\"default\":null,\"kind\":null,\"name\":\"nrows\"},{\"default\":true,\"kind\":null,\"name\":\"allow_resize\"},{\"default\":true,\"kind\":null,\"name\":\"allow_drag\"},{\"default\":[],\"kind\":null,\"name\":\"state\"}]},{\"extends\":null,\"module\":null,\"name\":\"click1\",\"overrides\":[],\"properties\":[{\"default\":\"\",\"kind\":null,\"name\":\"terminal_output\"},{\"default\":\"\",\"kind\":null,\"name\":\"debug_name\"},{\"default\":0,\"kind\":null,\"name\":\"clears\"}]},{\"extends\":null,\"module\":null,\"name\":\"TemplateActions1\",\"overrides\":[],\"properties\":[{\"default\":0,\"kind\":null,\"name\":\"open_modal\"},{\"default\":0,\"kind\":null,\"name\":\"close_modal\"}]},{\"extends\":null,\"module\":null,\"name\":\"MaterialTemplateActions1\",\"overrides\":[],\"properties\":[{\"default\":0,\"kind\":null,\"name\":\"open_modal\"},{\"default\":0,\"kind\":null,\"name\":\"close_modal\"}]}],\"roots\":{\"references\":[{\"attributes\":{},\"id\":\"9371\",\"type\":\"LinearScale\"},{\"attributes\":{\"children\":[{\"id\":\"9360\"},{\"id\":\"9364\"},{\"id\":\"9430\"}],\"margin\":[0,0,0,0],\"name\":\"Row18420\",\"tags\":[\"embedded\"]},\"id\":\"9359\",\"type\":\"Row\"},{\"attributes\":{\"margin\":[5,5,5,5],\"name\":\"HSpacer18425\",\"sizing_mode\":\"stretch_width\"},\"id\":\"9430\",\"type\":\"Spacer\"},{\"attributes\":{},\"id\":\"9418\",\"type\":\"UnionRenderers\"},{\"attributes\":{\"below\":[{\"id\":\"9373\"}],\"center\":[{\"id\":\"9376\"},{\"id\":\"9380\"}],\"height\":300,\"left\":[{\"id\":\"9377\"}],\"margin\":[5,5,5,5],\"min_border_bottom\":10,\"min_border_left\":10,\"min_border_right\":10,\"min_border_top\":10,\"renderers\":[{\"id\":\"9400\"}],\"sizing_mode\":\"fixed\",\"title\":{\"id\":\"9365\"},\"toolbar\":{\"id\":\"9387\"},\"width\":700,\"x_range\":{\"id\":\"9361\"},\"x_scale\":{\"id\":\"9369\"},\"y_range\":{\"id\":\"9362\"},\"y_scale\":{\"id\":\"9371\"}},\"id\":\"9364\",\"subtype\":\"Figure\",\"type\":\"Plot\"},{\"attributes\":{\"axis_label\":\"k\",\"coordinates\":null,\"formatter\":{\"id\":\"9405\"},\"group\":null,\"major_label_policy\":{\"id\":\"9406\"},\"ticker\":{\"id\":\"9403\"}},\"id\":\"9373\",\"type\":\"LinearAxis\"},{\"attributes\":{\"axis_label\":\"inertia\",\"coordinates\":null,\"formatter\":{\"id\":\"9410\"},\"group\":null,\"major_label_policy\":{\"id\":\"9411\"},\"ticker\":{\"id\":\"9378\"}},\"id\":\"9377\",\"type\":\"LinearAxis\"},{\"attributes\":{\"axis\":{\"id\":\"9377\"},\"coordinates\":null,\"dimension\":1,\"grid_line_color\":null,\"group\":null,\"ticker\":null},\"id\":\"9380\",\"type\":\"Grid\"},{\"attributes\":{},\"id\":\"9383\",\"type\":\"WheelZoomTool\"},{\"attributes\":{\"ticks\":[1,2,3,4,5,6,7,8,9,10]},\"id\":\"9403\",\"type\":\"FixedTicker\"},{\"attributes\":{\"axis\":{\"id\":\"9373\"},\"coordinates\":null,\"grid_line_color\":null,\"group\":null,\"ticker\":null},\"id\":\"9376\",\"type\":\"Grid\"},{\"attributes\":{\"data\":{\"inertia\":{\"__ndarray__\":\"cTaSbx/zsEAaEc39IQSoQGRZWYO5mp1AkXtSCUVsi0AvgookV6R+QPCSjYrFXXVA5MAiThdecEBqfLYWD/RpQH5JgIIcsmRAJJm09iQeYEA=\",\"dtype\":\"float64\",\"order\":\"little\",\"shape\":[10]},\"k\":[1,2,3,4,5,6,7,8,9,10]},\"selected\":{\"id\":\"9395\"},\"selection_policy\":{\"id\":\"9418\"}},\"id\":\"9394\",\"type\":\"ColumnDataSource\"},{\"attributes\":{},\"id\":\"9406\",\"type\":\"AllLabels\"},{\"attributes\":{},\"id\":\"9378\",\"type\":\"BasicTicker\"},{\"attributes\":{\"margin\":[5,5,5,5],\"name\":\"HSpacer18424\",\"sizing_mode\":\"stretch_width\"},\"id\":\"9360\",\"type\":\"Spacer\"},{\"attributes\":{\"bottom_units\":\"screen\",\"coordinates\":null,\"fill_alpha\":0.5,\"fill_color\":\"lightgrey\",\"group\":null,\"left_units\":\"screen\",\"level\":\"overlay\",\"line_alpha\":1.0,\"line_color\":\"black\",\"line_dash\":[4,4],\"line_width\":2,\"right_units\":\"screen\",\"syncable\":false,\"top_units\":\"screen\"},\"id\":\"9386\",\"type\":\"BoxAnnotation\"},{\"attributes\":{},\"id\":\"9385\",\"type\":\"ResetTool\"},{\"attributes\":{},\"id\":\"9410\",\"type\":\"BasicTickFormatter\"},{\"attributes\":{\"line_alpha\":0.1,\"line_color\":\"#30a2da\",\"line_width\":2,\"x\":{\"field\":\"k\"},\"y\":{\"field\":\"inertia\"}},\"id\":\"9398\",\"type\":\"Line\"},{\"attributes\":{},\"id\":\"9405\",\"type\":\"BasicTickFormatter\"},{\"attributes\":{},\"id\":\"9395\",\"type\":\"Selection\"},{\"attributes\":{\"source\":{\"id\":\"9394\"}},\"id\":\"9401\",\"type\":\"CDSView\"},{\"attributes\":{\"coordinates\":null,\"data_source\":{\"id\":\"9394\"},\"glyph\":{\"id\":\"9397\"},\"group\":null,\"hover_glyph\":null,\"muted_glyph\":{\"id\":\"9399\"},\"nonselection_glyph\":{\"id\":\"9398\"},\"selection_glyph\":{\"id\":\"9402\"},\"view\":{\"id\":\"9401\"}},\"id\":\"9400\",\"type\":\"GlyphRenderer\"},{\"attributes\":{\"overlay\":{\"id\":\"9386\"}},\"id\":\"9384\",\"type\":\"BoxZoomTool\"},{\"attributes\":{\"end\":10.0,\"reset_end\":10.0,\"reset_start\":1.0,\"start\":1.0,\"tags\":[[[\"k\",\"k\",null]]]},\"id\":\"9361\",\"type\":\"Range1d\"},{\"attributes\":{\"line_alpha\":0.2,\"line_color\":\"#30a2da\",\"line_width\":2,\"x\":{\"field\":\"k\"},\"y\":{\"field\":\"inertia\"}},\"id\":\"9399\",\"type\":\"Line\"},{\"attributes\":{},\"id\":\"9382\",\"type\":\"PanTool\"},{\"attributes\":{},\"id\":\"9381\",\"type\":\"SaveTool\"},{\"attributes\":{\"line_color\":\"#30a2da\",\"line_width\":2,\"x\":{\"field\":\"k\"},\"y\":{\"field\":\"inertia\"}},\"id\":\"9397\",\"type\":\"Line\"},{\"attributes\":{\"callback\":null,\"renderers\":[{\"id\":\"9400\"}],\"tags\":[\"hv_created\"],\"tooltips\":[[\"k\",\"@{k}\"],[\"inertia\",\"@{inertia}\"]]},\"id\":\"9363\",\"type\":\"HoverTool\"},{\"attributes\":{},\"id\":\"9411\",\"type\":\"AllLabels\"},{\"attributes\":{\"end\":4760.140874592636,\"reset_end\":4760.140874592636,\"reset_start\":-292.07606623251456,\"start\":-292.07606623251456,\"tags\":[[[\"inertia\",\"inertia\",null]]]},\"id\":\"9362\",\"type\":\"Range1d\"},{\"attributes\":{\"tools\":[{\"id\":\"9363\"},{\"id\":\"9381\"},{\"id\":\"9382\"},{\"id\":\"9383\"},{\"id\":\"9384\"},{\"id\":\"9385\"}]},\"id\":\"9387\",\"type\":\"Toolbar\"},{\"attributes\":{},\"id\":\"9369\",\"type\":\"LinearScale\"},{\"attributes\":{\"line_color\":\"#30a2da\",\"line_width\":2,\"x\":{\"field\":\"k\"},\"y\":{\"field\":\"inertia\"}},\"id\":\"9402\",\"type\":\"Line\"},{\"attributes\":{\"coordinates\":null,\"group\":null,\"text\":\"Elbow Curve\",\"text_color\":\"black\",\"text_font_size\":\"12pt\"},\"id\":\"9365\",\"type\":\"Title\"}],\"root_ids\":[\"9359\"]},\"title\":\"Bokeh Application\",\"version\":\"2.4.2\"}};\n",
       "    var render_items = [{\"docid\":\"88f6a0df-4640-4fc8-a399-a641fb75fbfe\",\"root_ids\":[\"9359\"],\"roots\":{\"9359\":\"4f57451d-ff1e-47ec-a5c7-7eb30bb56368\"}}];\n",
       "    root.Bokeh.embed.embed_items_notebook(docs_json, render_items);\n",
       "  }\n",
       "  if (root.Bokeh !== undefined && root.Bokeh.Panel !== undefined) {\n",
       "    embed_document(root);\n",
       "  } else {\n",
       "    var attempts = 0;\n",
       "    var timer = setInterval(function(root) {\n",
       "      if (root.Bokeh !== undefined && root.Bokeh.Panel !== undefined) {\n",
       "        clearInterval(timer);\n",
       "        embed_document(root);\n",
       "      } else if (document.readyState == \"complete\") {\n",
       "        attempts++;\n",
       "        if (attempts > 200) {\n",
       "          clearInterval(timer);\n",
       "          console.log(\"Bokeh: ERROR: Unable to run BokehJS code because BokehJS library is missing\");\n",
       "        }\n",
       "      }\n",
       "    }, 25, root)\n",
       "  }\n",
       "})(window);</script>"
      ],
      "text/plain": [
       ":Curve   [k]   (inertia)"
      ]
     },
     "execution_count": 323,
     "metadata": {
      "application/vnd.holoviews_exec.v0+json": {
       "id": "9359"
      }
     },
     "output_type": "execute_result"
    }
   ],
   "source": [
    "# Create an elbow curve to find the best value for K.\n",
    "inertia = []\n",
    "k = list(range(1, 11))\n",
    "\n",
    "# Calculate the inertia for the range ok k values\n",
    "for i in k:\n",
    "    km = KMeans(n_clusters=i, random_state=0)\n",
    "    km.fit(pcs_df)\n",
    "    inertia.append(km.inertia_)\n",
    "\n",
    "# Create the Elbow Curve using hvPlot\n",
    "elbow_data = {\"k\": k, \"inertia\": inertia}\n",
    "df_elbow = pd.DataFrame(elbow_data)\n",
    "df_elbow.hvplot.line(x=\"k\", y=\"inertia\", xticks=k, title=\"Elbow Curve\")"
   ]
  },
  {
   "cell_type": "markdown",
   "metadata": {},
   "source": [
    "Running K-Means with `k=4`"
   ]
  },
  {
   "cell_type": "code",
   "execution_count": 324,
   "metadata": {},
   "outputs": [
    {
     "name": "stdout",
     "output_type": "stream",
     "text": [
      "KMeans(n_clusters=4, random_state=0)\n",
      "[0 0 0 0 1 1 1 0 1 1 1 0 1 0 0 0 1 0 1 1 0 0 0 1 0 1 0 1 1 1 1 1 0 1 1 1 1\n",
      " 0 1 0 1 0 1 0 0 1 0 0 0 1 0 1 1 1 1 1 1 1 0 1 0 0 1 0 1 1 1 1 1 0 0 0 1 0\n",
      " 1 0 1 0 0 1 1 1 1 0 0 1 1 0 1 0 0 0 1 1 1 1 0 0 0 0 0 1 1 1 0 0 1 1 1 0 0\n",
      " 1 0 1 0 0 1 1 1 1 1 0 0 0 1 1 0 1 1 0 0 0 1 0 0 0 1 1 0 0 1 0 1 0 0 1 0 1\n",
      " 0 1 0 1 0 0 0 0 1 0 1 1 0 1 1 0 1 0 0 1 1 1 1 1 1 1 1 0 0 1 0 1 0 1 1 0 1\n",
      " 0 0 0 1 1 0 1 0 0 1 0 0 0 1 1 0 1 1 1 0 0 1 1 0 0 1 0 0 0 0 1 1 0 1 1 1 1\n",
      " 1 0 1 1 0 1 0 0 0 0 1 1 0 0 0 0 0 1 0 0 0 0 0 0 0 1 0 0 0 0 0 1 0 1 0 0 0\n",
      " 1 0 1 0 0 1 0 1 0 0 1 0 1 0 0 0 1 0 1 1 1 0 0 1 0 0 0 1 1 1 0 0 0 1 1 1 0\n",
      " 0 0 0 0 0 0 1 0 0 0 0 0 0 0 0 1 0 0 0 0 0 0 1 1 0 1 0 0 0 0 0 0 1 0 1 0 1\n",
      " 1 0 0 1 1 0 1 1 0 1 1 1 1 0 1 0 0 0 1 0 0 0 1 0 0 0 0 0 1 0 0 1 1 0 1 0 0\n",
      " 0 0 0 1 0 1 0 1 1 1 1 0 1 0 0 1 0 1 0 1 1 0 1 0 1 1 1 0 1 0 1 0 1 0 2 1 0\n",
      " 1 1 1 1 1 1 0 0 1 0 0 0 1 0 1 0 1 0 1 0 0 0 0 1 0 0 1 0 0 0 0 0 0 1 1 1 1\n",
      " 1 1 0 0 0 0 0 1 0 1 1 1 0 0 1 1 1 0 0 1 0 0 1 1 0 1 0 1 1 0 0 0 1 1 1 0 0\n",
      " 0 1 0 1 1 0 1 1 1 1 1 1 0 0 0 1 1 1 1 1 1 0 2 0 0 0 0 1 1 1 1 1 1 0 1 0 0\n",
      " 1 1 0 1 0 0 0 0 0 0 0 1 0 0 1 0 0 1 1 0 1 0 1 1 1 1 0 0 1 0 1 0 0 0 0 0 0\n",
      " 1 1 1 0 0 0 0 0 0 0 1 0 1 1 0 1 1 0 0 0 0 1 0 1 0 0 0 1 0 0 0 1 2 0 1 0 1\n",
      " 1 1 1 1 0 1 0 1 0 1 0 1 1 1 1 1 1 1 0 1 0 1 0 0 1 0 0 1 0 0 0 1 1 1 1 0 0\n",
      " 0 0 1 1 0 1 0 0 1 0 0 0 0 1 1 0 0 0 1 0 1 1 0 0 1 0 0 0 1 1 0 0 0 0 0 1 0\n",
      " 0 2 1 0 1 0 1 0 1 0 2 0 3 0 0 0 1 1 0]\n"
     ]
    }
   ],
   "source": [
    "# Initialize the K-Means model.\n",
    "model = KMeans(n_clusters=4, random_state=0)\n",
    "\n",
    "# Fit the model\n",
    "model.fit(pcs_df)\n",
    "print(model.fit(pcs_df))\n",
    "\n",
    "# Predict clusters\n",
    "predictions = model.predict(pcs_df)\n",
    "print(predictions)"
   ]
  },
  {
   "cell_type": "code",
   "execution_count": 325,
   "metadata": {},
   "outputs": [
    {
     "name": "stdout",
     "output_type": "stream",
     "text": [
      "(685, 9)\n"
     ]
    },
    {
     "data": {
      "text/html": [
       "<div>\n",
       "<style scoped>\n",
       "    .dataframe tbody tr th:only-of-type {\n",
       "        vertical-align: middle;\n",
       "    }\n",
       "\n",
       "    .dataframe tbody tr th {\n",
       "        vertical-align: top;\n",
       "    }\n",
       "\n",
       "    .dataframe thead th {\n",
       "        text-align: right;\n",
       "    }\n",
       "</style>\n",
       "<table border=\"1\" class=\"dataframe\">\n",
       "  <thead>\n",
       "    <tr style=\"text-align: right;\">\n",
       "      <th></th>\n",
       "      <th>Algorithm</th>\n",
       "      <th>ProofType</th>\n",
       "      <th>TotalCoinsMined</th>\n",
       "      <th>TotalCoinSupply</th>\n",
       "      <th>PC 1</th>\n",
       "      <th>PC 2</th>\n",
       "      <th>PC 3</th>\n",
       "      <th>CoinName</th>\n",
       "      <th>class</th>\n",
       "    </tr>\n",
       "  </thead>\n",
       "  <tbody>\n",
       "    <tr>\n",
       "      <th>0</th>\n",
       "      <td>Scrypt</td>\n",
       "      <td>PoW/PoS</td>\n",
       "      <td>4.199995e+01</td>\n",
       "      <td>42</td>\n",
       "      <td>-0.254608</td>\n",
       "      <td>1.217061</td>\n",
       "      <td>-0.413852</td>\n",
       "      <td>42 Coin</td>\n",
       "      <td>0</td>\n",
       "    </tr>\n",
       "    <tr>\n",
       "      <th>2</th>\n",
       "      <td>Scrypt</td>\n",
       "      <td>PoW/PoS</td>\n",
       "      <td>1.055185e+09</td>\n",
       "      <td>532000000</td>\n",
       "      <td>-0.240321</td>\n",
       "      <td>1.215243</td>\n",
       "      <td>-0.414320</td>\n",
       "      <td>404Coin</td>\n",
       "      <td>0</td>\n",
       "    </tr>\n",
       "    <tr>\n",
       "      <th>4</th>\n",
       "      <td>SHA-256</td>\n",
       "      <td>PoW/PoS</td>\n",
       "      <td>0.000000e+00</td>\n",
       "      <td>0</td>\n",
       "      <td>-0.162265</td>\n",
       "      <td>0.837993</td>\n",
       "      <td>-0.302371</td>\n",
       "      <td>808</td>\n",
       "      <td>0</td>\n",
       "    </tr>\n",
       "    <tr>\n",
       "      <th>5</th>\n",
       "      <td>X13</td>\n",
       "      <td>PoW/PoS</td>\n",
       "      <td>2.927942e+10</td>\n",
       "      <td>314159265359</td>\n",
       "      <td>0.275136</td>\n",
       "      <td>1.945880</td>\n",
       "      <td>-0.536135</td>\n",
       "      <td>EliteCoin</td>\n",
       "      <td>0</td>\n",
       "    </tr>\n",
       "    <tr>\n",
       "      <th>7</th>\n",
       "      <td>SHA-256</td>\n",
       "      <td>PoW</td>\n",
       "      <td>1.792718e+07</td>\n",
       "      <td>21000000</td>\n",
       "      <td>-0.205165</td>\n",
       "      <td>-1.439999</td>\n",
       "      <td>0.105917</td>\n",
       "      <td>Bitcoin</td>\n",
       "      <td>1</td>\n",
       "    </tr>\n",
       "    <tr>\n",
       "      <th>8</th>\n",
       "      <td>Ethash</td>\n",
       "      <td>PoW</td>\n",
       "      <td>1.076842e+08</td>\n",
       "      <td>0</td>\n",
       "      <td>-0.257211</td>\n",
       "      <td>-2.098442</td>\n",
       "      <td>0.267158</td>\n",
       "      <td>Ethereum</td>\n",
       "      <td>1</td>\n",
       "    </tr>\n",
       "    <tr>\n",
       "      <th>9</th>\n",
       "      <td>Scrypt</td>\n",
       "      <td>PoW</td>\n",
       "      <td>6.303924e+07</td>\n",
       "      <td>84000000</td>\n",
       "      <td>-0.296898</td>\n",
       "      <td>-1.061009</td>\n",
       "      <td>-0.005585</td>\n",
       "      <td>Litecoin</td>\n",
       "      <td>1</td>\n",
       "    </tr>\n",
       "    <tr>\n",
       "      <th>10</th>\n",
       "      <td>X11</td>\n",
       "      <td>PoW/PoS</td>\n",
       "      <td>9.031294e+06</td>\n",
       "      <td>22000000</td>\n",
       "      <td>-0.200874</td>\n",
       "      <td>1.429312</td>\n",
       "      <td>-0.421018</td>\n",
       "      <td>Dash</td>\n",
       "      <td>0</td>\n",
       "    </tr>\n",
       "    <tr>\n",
       "      <th>11</th>\n",
       "      <td>CryptoNight-V7</td>\n",
       "      <td>PoW</td>\n",
       "      <td>1.720114e+07</td>\n",
       "      <td>0</td>\n",
       "      <td>-0.253281</td>\n",
       "      <td>-2.200522</td>\n",
       "      <td>0.217714</td>\n",
       "      <td>Monero</td>\n",
       "      <td>1</td>\n",
       "    </tr>\n",
       "    <tr>\n",
       "      <th>12</th>\n",
       "      <td>Ethash</td>\n",
       "      <td>PoW</td>\n",
       "      <td>1.133597e+08</td>\n",
       "      <td>210000000</td>\n",
       "      <td>-0.257135</td>\n",
       "      <td>-2.098451</td>\n",
       "      <td>0.267155</td>\n",
       "      <td>Ethereum Classic</td>\n",
       "      <td>1</td>\n",
       "    </tr>\n",
       "  </tbody>\n",
       "</table>\n",
       "</div>"
      ],
      "text/plain": [
       "         Algorithm ProofType  TotalCoinsMined TotalCoinSupply      PC 1  \\\n",
       "0           Scrypt   PoW/PoS     4.199995e+01              42 -0.254608   \n",
       "2           Scrypt   PoW/PoS     1.055185e+09       532000000 -0.240321   \n",
       "4          SHA-256   PoW/PoS     0.000000e+00               0 -0.162265   \n",
       "5              X13   PoW/PoS     2.927942e+10    314159265359  0.275136   \n",
       "7          SHA-256       PoW     1.792718e+07        21000000 -0.205165   \n",
       "8           Ethash       PoW     1.076842e+08               0 -0.257211   \n",
       "9           Scrypt       PoW     6.303924e+07        84000000 -0.296898   \n",
       "10             X11   PoW/PoS     9.031294e+06        22000000 -0.200874   \n",
       "11  CryptoNight-V7       PoW     1.720114e+07               0 -0.253281   \n",
       "12          Ethash       PoW     1.133597e+08       210000000 -0.257135   \n",
       "\n",
       "        PC 2      PC 3          CoinName  class  \n",
       "0   1.217061 -0.413852           42 Coin      0  \n",
       "2   1.215243 -0.414320           404Coin      0  \n",
       "4   0.837993 -0.302371               808      0  \n",
       "5   1.945880 -0.536135         EliteCoin      0  \n",
       "7  -1.439999  0.105917           Bitcoin      1  \n",
       "8  -2.098442  0.267158          Ethereum      1  \n",
       "9  -1.061009 -0.005585          Litecoin      1  \n",
       "10  1.429312 -0.421018              Dash      0  \n",
       "11 -2.200522  0.217714            Monero      1  \n",
       "12 -2.098451  0.267155  Ethereum Classic      1  "
      ]
     },
     "execution_count": 325,
     "metadata": {},
     "output_type": "execute_result"
    }
   ],
   "source": [
    "# Create a new DataFrame including predicted clusters and cryptocurrencies features.\n",
    "#coin_names = pd.DataFrame(crypto_df, index=crypto_df.index)\n",
    "\n",
    "# Concatentate the crypto_df and pcs_df DataFrames on the same columns.\n",
    "clustered_df = pd.concat([crypto_df, pcs_df ], axis=1, sort=False)\n",
    "\n",
    "#  Add a new column, \"CoinName\" to the clustered_df DataFrame that holds the names of the cryptocurrencies. \n",
    "clustered_df[\"CoinName\"] = coins_names [\"CoinName\"]\n",
    "\n",
    "#  Add a new column, \"Class\" to the clustered_df DataFrame that holds the predictions.\n",
    "clustered_df[\"class\"]=model.labels_\n",
    "\n",
    "# Print the shape of the clustered_df\n",
    "print(clustered_df.shape)\n",
    "clustered_df.head(10)"
   ]
  },
  {
   "cell_type": "markdown",
   "metadata": {},
   "source": [
    "### Deliverable 4: Visualizing Cryptocurrencies Results\n",
    "\n",
    "#### 3D-Scatter with Clusters"
   ]
  },
  {
   "cell_type": "code",
   "execution_count": 326,
   "metadata": {},
   "outputs": [
    {
     "data": {
      "application/vnd.plotly.v1+json": {
       "config": {
        "plotlyServerURL": "https://plot.ly"
       },
       "data": [
        {
         "customdata": [
          [
           "Scrypt"
          ],
          [
           "Scrypt"
          ],
          [
           "SHA-256"
          ],
          [
           "X13"
          ],
          [
           "X11"
          ],
          [
           "SHA-512"
          ],
          [
           "SHA-256"
          ],
          [
           "X11"
          ],
          [
           "SHA-256"
          ],
          [
           "X15"
          ],
          [
           "X13"
          ],
          [
           "X13"
          ],
          [
           "Scrypt"
          ],
          [
           "Scrypt"
          ],
          [
           "Scrypt"
          ],
          [
           "Scrypt"
          ],
          [
           "Scrypt"
          ],
          [
           "Scrypt"
          ],
          [
           "Scrypt"
          ],
          [
           "Multiple"
          ],
          [
           "Scrypt"
          ],
          [
           "Scrypt"
          ],
          [
           "SHA-256"
          ],
          [
           "Groestl"
          ],
          [
           "X11"
          ],
          [
           "PoS"
          ],
          [
           "X11"
          ],
          [
           "NIST5"
          ],
          [
           "Scrypt"
          ],
          [
           "X11"
          ],
          [
           "X15"
          ],
          [
           "Scrypt"
          ],
          [
           "X11"
          ],
          [
           "X11"
          ],
          [
           "X11"
          ],
          [
           "X13"
          ],
          [
           "X11"
          ],
          [
           "SHA3"
          ],
          [
           "Scrypt"
          ],
          [
           "SHA-256"
          ],
          [
           "Scrypt"
          ],
          [
           "X13"
          ],
          [
           "X13"
          ],
          [
           "NeoScrypt"
          ],
          [
           "Scrypt"
          ],
          [
           "Scrypt"
          ],
          [
           "Scrypt"
          ],
          [
           "X15"
          ],
          [
           "Scrypt"
          ],
          [
           "X11"
          ],
          [
           "X11"
          ],
          [
           "Multiple"
          ],
          [
           "PHI1612"
          ],
          [
           "X11"
          ],
          [
           "Scrypt"
          ],
          [
           "Scrypt"
          ],
          [
           "X13"
          ],
          [
           "Scrypt"
          ],
          [
           "Scrypt"
          ],
          [
           "X11"
          ],
          [
           "Multiple"
          ],
          [
           "X13"
          ],
          [
           "Scrypt"
          ],
          [
           "Scrypt"
          ],
          [
           "Shabal256"
          ],
          [
           "Counterparty"
          ],
          [
           "SHA-256"
          ],
          [
           "Scrypt"
          ],
          [
           "Groestl"
          ],
          [
           "Scrypt"
          ],
          [
           "X13"
          ],
          [
           "Scrypt"
          ],
          [
           "SHA-256"
          ],
          [
           "Scrypt"
          ],
          [
           "X13"
          ],
          [
           "X13"
          ],
          [
           "X11"
          ],
          [
           "X11"
          ],
          [
           "X15"
          ],
          [
           "Scrypt"
          ],
          [
           "Scrypt"
          ],
          [
           "Scrypt"
          ],
          [
           "X11"
          ],
          [
           "SHA3"
          ],
          [
           "Scrypt"
          ],
          [
           "QUAIT"
          ],
          [
           "vDPOS"
          ],
          [
           "X11"
          ],
          [
           "X11"
          ],
          [
           "Scrypt"
          ],
          [
           "X11"
          ],
          [
           "X13"
          ],
          [
           "SHA-256"
          ],
          [
           "X13"
          ],
          [
           "X15"
          ],
          [
           "BLAKE256"
          ],
          [
           "SHA-256"
          ],
          [
           "X11"
          ],
          [
           "SHA-256"
          ],
          [
           "Quark"
          ],
          [
           "NIST5"
          ],
          [
           "Blake"
          ],
          [
           "Scrypt"
          ],
          [
           "Scrypt"
          ],
          [
           "Scrypt"
          ],
          [
           "SHA-256"
          ],
          [
           "X11"
          ],
          [
           "Scrypt"
          ],
          [
           "SHA-256"
          ],
          [
           "Scrypt"
          ],
          [
           "PoS"
          ],
          [
           "X11"
          ],
          [
           "X11"
          ],
          [
           "X11"
          ],
          [
           "PoS"
          ],
          [
           "SHA-256"
          ],
          [
           "SHA-256"
          ],
          [
           "NIST5"
          ],
          [
           "X15"
          ],
          [
           "X11"
          ],
          [
           "NIST5"
          ],
          [
           "Scrypt"
          ],
          [
           "Scrypt"
          ],
          [
           "POS 3.0"
          ],
          [
           "Scrypt"
          ],
          [
           "Scrypt"
          ],
          [
           "Scrypt"
          ],
          [
           "X13"
          ],
          [
           "X11"
          ],
          [
           "X11"
          ],
          [
           "X11"
          ],
          [
           "Scrypt"
          ],
          [
           "SHA-256"
          ],
          [
           "X11"
          ],
          [
           "Scrypt"
          ],
          [
           "Scrypt"
          ],
          [
           "X11"
          ],
          [
           "Scrypt"
          ],
          [
           "Scrypt"
          ],
          [
           "SHA-256D"
          ],
          [
           "PoS"
          ],
          [
           "Scrypt"
          ],
          [
           "X11"
          ],
          [
           "PoS"
          ],
          [
           "X13"
          ],
          [
           "X14"
          ],
          [
           "PoS"
          ],
          [
           "SHA-256D"
          ],
          [
           "DPoS"
          ],
          [
           "X11"
          ],
          [
           "Scrypt"
          ],
          [
           "X13"
          ],
          [
           "X11"
          ],
          [
           "PoS"
          ],
          [
           "SHA-256D"
          ],
          [
           "Scrypt"
          ],
          [
           "Scrypt"
          ],
          [
           "Scrypt"
          ],
          [
           "PoS"
          ],
          [
           "X11"
          ],
          [
           "SHA-256"
          ],
          [
           "Scrypt"
          ],
          [
           "X11"
          ],
          [
           "Scrypt"
          ],
          [
           "Scrypt"
          ],
          [
           "X11"
          ],
          [
           "Scrypt"
          ],
          [
           "Scrypt"
          ],
          [
           "Scrypt"
          ],
          [
           "Scrypt"
          ],
          [
           "Quark"
          ],
          [
           "QuBit"
          ],
          [
           "X11"
          ],
          [
           "X13"
          ],
          [
           "PoS"
          ],
          [
           "Scrypt"
          ],
          [
           "SHA-256"
          ],
          [
           "X11"
          ],
          [
           "X11"
          ],
          [
           "Scrypt"
          ],
          [
           "Scrypt"
          ],
          [
           "Scrypt"
          ],
          [
           "Scrypt"
          ],
          [
           "X13"
          ],
          [
           "Scrypt"
          ],
          [
           "Scrypt"
          ],
          [
           "X11"
          ],
          [
           "Blake2S"
          ],
          [
           "X11"
          ],
          [
           "Scrypt"
          ],
          [
           "PoS"
          ],
          [
           "X11"
          ],
          [
           "PoS"
          ],
          [
           "X11"
          ],
          [
           "Scrypt"
          ],
          [
           "Scrypt"
          ],
          [
           "Scrypt"
          ],
          [
           "SHA-256"
          ],
          [
           "X11"
          ],
          [
           "Scrypt"
          ],
          [
           "PoS"
          ],
          [
           "Scrypt"
          ],
          [
           "X11"
          ],
          [
           "X15"
          ],
          [
           "SHA-256"
          ],
          [
           "POS 3.0"
          ],
          [
           "536"
          ],
          [
           "NIST5"
          ],
          [
           "NIST5"
          ],
          [
           "Skein"
          ],
          [
           "X13"
          ],
          [
           "X11"
          ],
          [
           "Scrypt"
          ],
          [
           "X13"
          ],
          [
           "SkunkHash v2 Raptor"
          ],
          [
           "Skein"
          ],
          [
           "X11"
          ],
          [
           "Scrypt"
          ],
          [
           "PoS"
          ],
          [
           "Scrypt"
          ],
          [
           "Scrypt"
          ],
          [
           "SHA-512"
          ],
          [
           "Ouroboros"
          ],
          [
           "X11"
          ],
          [
           "NeoScrypt"
          ],
          [
           "Scrypt"
          ],
          [
           "Lyra2REv2"
          ],
          [
           "Scrypt"
          ],
          [
           "SHA-256"
          ],
          [
           "NIST5"
          ],
          [
           "PHI1612"
          ],
          [
           "Scrypt"
          ],
          [
           "Quark"
          ],
          [
           "POS 2.0"
          ],
          [
           "Scrypt"
          ],
          [
           "SkunkHash"
          ],
          [
           "X11"
          ],
          [
           "Quark"
          ],
          [
           "SHA-256"
          ],
          [
           "Quark"
          ],
          [
           "X11"
          ],
          [
           "DPoS"
          ],
          [
           "NIST5"
          ],
          [
           "X13"
          ],
          [
           "Scrypt"
          ],
          [
           "NIST5"
          ],
          [
           "Quark"
          ],
          [
           "Scrypt"
          ],
          [
           "Scrypt"
          ],
          [
           "X11"
          ],
          [
           "SHA-256"
          ],
          [
           "Scrypt"
          ],
          [
           "Quark"
          ],
          [
           "Scrypt"
          ],
          [
           "Scrypt"
          ],
          [
           "X11"
          ],
          [
           "Scrypt"
          ],
          [
           "Scrypt"
          ],
          [
           "POS 3.0"
          ],
          [
           "Scrypt"
          ],
          [
           "Scrypt"
          ],
          [
           "X13"
          ],
          [
           "Proof-of-BibleHash"
          ],
          [
           "SHA-256 + Hive"
          ],
          [
           "C11"
          ],
          [
           "X11"
          ],
          [
           "XEVAN"
          ],
          [
           "Scrypt"
          ],
          [
           "VBFT"
          ],
          [
           "NIST5"
          ],
          [
           "Scrypt"
          ],
          [
           "Scrypt"
          ],
          [
           "Scrypt"
          ],
          [
           "Equihash"
          ],
          [
           "Green Protocol"
          ],
          [
           "PoS"
          ],
          [
           "Scrypt"
          ],
          [
           "Scrypt"
          ],
          [
           "Semux BFT consensus"
          ],
          [
           "Scrypt"
          ],
          [
           "Quark"
          ],
          [
           "PoS"
          ],
          [
           "X16R"
          ],
          [
           "Scrypt"
          ],
          [
           "XEVAN"
          ],
          [
           "Scrypt"
          ],
          [
           "Scrypt"
          ],
          [
           "Scrypt"
          ],
          [
           "SHA-256D"
          ],
          [
           "Scrypt"
          ],
          [
           "X15"
          ],
          [
           "Scrypt"
          ],
          [
           "Quark"
          ],
          [
           "SHA-256"
          ],
          [
           "DPoS"
          ],
          [
           "X16R"
          ],
          [
           "Quark"
          ],
          [
           "Quark"
          ],
          [
           "Scrypt"
          ],
          [
           "Zhash"
          ],
          [
           "Lyra2REv2"
          ],
          [
           "Quark"
          ],
          [
           "Scrypt"
          ],
          [
           "Scrypt"
          ],
          [
           "X11"
          ],
          [
           "X11"
          ],
          [
           "Scrypt"
          ],
          [
           "PoS"
          ],
          [
           "Scrypt"
          ],
          [
           "Scrypt"
          ],
          [
           "Keccak"
          ],
          [
           "X11"
          ],
          [
           "Quark"
          ],
          [
           "Scrypt"
          ],
          [
           "SHA-512"
          ],
          [
           "NeoScrypt"
          ],
          [
           "XEVAN"
          ],
          [
           "XEVAN"
          ],
          [
           "X11"
          ],
          [
           "Quark"
          ],
          [
           "Quark"
          ],
          [
           "Scrypt"
          ],
          [
           "Quark"
          ],
          [
           "Quark"
          ],
          [
           "Scrypt"
          ],
          [
           "X11"
          ],
          [
           "Scrypt"
          ],
          [
           "XEVAN"
          ],
          [
           "SHA-256D"
          ],
          [
           "X11"
          ],
          [
           "X11"
          ],
          [
           "DPoS"
          ],
          [
           "X11"
          ],
          [
           "Scrypt"
          ],
          [
           "X11"
          ],
          [
           "QuBit"
          ],
          [
           "Scrypt"
          ],
          [
           "Scrypt"
          ],
          [
           "SHA-256"
          ],
          [
           "Scrypt"
          ],
          [
           "X11"
          ],
          [
           "Scrypt"
          ],
          [
           "SHA-256"
          ],
          [
           "X11"
          ],
          [
           "Scrypt"
          ],
          [
           "SHA-256"
          ],
          [
           "Scrypt"
          ],
          [
           "X11"
          ],
          [
           "Scrypt"
          ],
          [
           "PoS"
          ],
          [
           "X11"
          ],
          [
           "SHA-256"
          ],
          [
           "DPoS"
          ],
          [
           "Scrypt"
          ],
          [
           "Scrypt"
          ],
          [
           "NeoScrypt"
          ],
          [
           "Scrypt"
          ],
          [
           "X13"
          ],
          [
           "DPoS"
          ],
          [
           "DPoS"
          ],
          [
           "SHA-256"
          ],
          [
           "PoS"
          ],
          [
           "PoS"
          ],
          [
           "SHA-256"
          ],
          [
           "Scrypt"
          ],
          [
           "Scrypt"
          ]
         ],
         "hovertemplate": "<b>%{hovertext}</b><br><br>class=%{marker.color}<br>PC 1=%{x}<br>PC 2=%{y}<br>PC 3=%{z}<br>Algorithm=%{customdata[0]}<extra></extra>",
         "hovertext": [
          "42 Coin",
          "404Coin",
          "808",
          "EliteCoin",
          "Dash",
          "Bitshares",
          "BitcoinDark",
          "Bitstake",
          "PayCoin",
          "KoboCoin",
          "Aero Coin",
          "ApexCoin",
          "ArchCoin",
          "Aurora Coin",
          "BlueCoin",
          "EnergyCoin",
          "BitBar",
          "CashCoin",
          "CryptoBullion",
          "CinderCoin",
          "CoolCoin",
          "CasinoCoin",
          "eMark",
          "Diamond",
          "DarkCash",
          "Exclusive Coin",
          "Fuel2Coin",
          "FIBRE",
          "FlutterCoin",
          "GlyphCoin",
          "Halcyon",
          "HoboNickels",
          "HyperStake",
          "IOCoin",
          "JumBucks Coin",
          "JudgeCoin",
          "LibrexCoin",
          "MaxCoin",
          "MintCoin",
          "MazaCoin",
          "Nautilus Coin",
          "NavCoin",
          "OpalCoin",
          "Orbitcoin",
          "PotCoin",
          "PhoenixCoin",
          "Reddcoin",
          "ShieldCoin",
          "SilkCoin",
          "SuperCoin",
          "SyncCoin",
          "TeslaCoin",
          "TittieCoin",
          "TorCoin",
          "UnitaryStatus Dollar",
          "UltraCoin",
          "Utility Coin",
          "VeriCoin",
          "SocialXbotCoin",
          "X11 Coin",
          "Crypti",
          "StealthCoin",
          "XXXCoin",
          "ZCC Coin",
          "BurstCoin",
          "StorjCoin",
          "Neutron",
          "KryptCoin",
          "FairCoin",
          "RubyCoin",
          "Kore",
          "Dnotes",
          "MaieutiCoin",
          "8BIT Coin",
          "Sativa Coin",
          "AeroMe",
          "MasterTraderCoin",
          "Ucoin",
          "MaryJane Coin",
          "CyberCoin",
          "Vtorrent",
          "ViorCoin",
          "IslaCoin",
          "Nexus",
          "Singular",
          "Droidz",
          "CryptoCircuits",
          "Squall Coin",
          "Milllionaire Coin",
          "Diggits",
          "MapCoin",
          "Paycon",
          "Emercoin",
          "BlitzCoin",
          "EverGreenCoin",
          "Decred",
          "EDRCoin",
          "Hitcoin",
          "DubaiCoin",
          "BiosCrypto",
          "PWR Coin",
          "TrumpCoin",
          "BillaryCoin",
          "EthereumScrypt",
          "GPU Coin",
          "Universal Currency",
          "EuropeCoin",
          "ZeitCoin",
          "SwingCoin",
          "SafeExchangeCoin",
          "Nebuchadnezzar",
          "GIZMOcoin",
          "SecretCoin",
          "Ratecoin",
          "Digital Bullion Gold",
          "Revenu",
          "Clockcoin",
          "VIP Tokens",
          "OrlyCoin",
          "BitSend",
          "16BitCoin",
          "ChessCoin",
          "ReeCoin",
          "Let it Ride",
          "PutinCoin",
          "iBankCoin",
          "Frankywillcoin",
          "MudraCoin",
          "Lutetium Coin",
          "GoldBlocks",
          "WayCoin",
          "CarterCoin",
          "BitTokens",
          "MustangCoin",
          "ZoneCoin",
          "RootCoin",
          "PROUD Money",
          "BitCurrency",
          "Swiscoin",
          "BuzzCoin",
          "Opair",
          "PesoBit",
          "Halloween Coin",
          "CoffeeCoin",
          "RoyalCoin",
          "GanjaCoin V2",
          "TeamUP",
          "LanaCoin",
          "ARK",
          "InsaneCoin",
          "LuckChain",
          "EmberCoin",
          "XenixCoin",
          "FreeCoin",
          "NPCcoin",
          "PLNCoin",
          "Icobid",
          "AquariusCoin",
          "Creatio",
          "Eternity",
          "Eurocoin",
          "BitcoinFast",
          "Stakenet",
          "BitConnect Coin",
          "MoneyCoin",
          "Enigma",
          "Russiacoin",
          "PandaCoin",
          "GameUnits",
          "GAKHcoin",
          "Allsafe",
          "LiteCreed",
          "NeptuneClassic",
          "GoldenBird",
          "Ride My Car",
          "Klingon Empire Darsek",
          "Internet of People",
          "KushCoin",
          "Eryllium",
          "Printerium",
          "Impeach",
          "Zilbercoin",
          "FirstCoin",
          "FindCoin",
          "OpenChat",
          "RenosCoin",
          "VirtacoinPlus",
          "TajCoin",
          "Impact",
          "Universe",
          "Atmos",
          "HappyCoin",
          "MacronCoin",
          "Condensate",
          "Independent Money System",
          "ArgusCoin",
          "LomoCoin",
          "ProCurrency",
          "GoldReserve",
          "GrowthCoin",
          "Phreak",
          "Degas Coin",
          "ZSEcoin",
          "HTML5 Coin",
          "Ultimate Secure Cash",
          "QTUM",
          "Espers",
          "Denarius",
          "Virta Unique Coin",
          "Bitcoin Planet",
          "BritCoin",
          "Octanox",
          "Linda",
          "DeepOnion",
          "Signatum",
          "Cream",
          "Monoeci",
          "Draftcoin",
          "Stakecoin",
          "CoinonatX",
          "Ethereum Dark",
          "Obsidian",
          "Cardano",
          "Regalcoin",
          "TrezarCoin",
          "TerraNovaCoin",
          "Rupee",
          "WomenCoin",
          "Theresa May Coin",
          "NamoCoin",
          "LUXCoin",
          "Xios",
          "Bitcloud 2.0",
          "KekCoin",
          "BlackholeCoin",
          "AltCommunity Coin",
          "Pure",
          "Rupaya",
          "Infinity Economics",
          "Castle",
          "Magnet",
          "Lamden Tau",
          "Electra",
          "Bitcoin Diamond",
          "Cash & Back Coin",
          "Bulwark",
          "Kalkulus",
          "GermanCoin",
          "LiteCoin Ultra",
          "PhantomX",
          "HTML Coin",
          "Fantasy Cash",
          "Digiwage",
          "Trollcoin",
          "Litecoin Plus",
          "Monkey Project",
          "OP Coin",
          "Valorbit",
          "TokenPay",
          "My Big Coin",
          "Unified Society USDEX",
          "Tokyo Coin",
          "BiblePay",
          "LitecoinCash",
          "Stipend",
          "Pushi",
          "Ellerium",
          "Velox",
          "Ontology",
          "Bitspace",
          "Briacoin",
          "Ignition",
          "MedicCoin",
          "Zelcash",
          "Bitcoin Green",
          "Deviant Coin",
          "Abjcoin",
          "Profit Hunters Coin",
          "Semux",
          "BitBlocks",
          "Carebit",
          "Zealium",
          "Proton",
          "iDealCash",
          "Bitcoin Incognito",
          "HollyWoodCoin",
          "Swisscoin",
          "Xt3ch",
          "TheVig",
          "EmaratCoin",
          "Dekado",
          "Lynx",
          "Poseidon Quark",
          "BitcoinWSpectrum",
          "Muse",
          "Trivechain",
          "Dystem",
          "Giant",
          "Peony Coin",
          "SafeCoin",
          "Absolute Coin",
          "Vitae",
          "TPCash",
          "MUSDcoin",
          "ARENON",
          "EUNO",
          "MMOCoin",
          "Ketan",
          "Safe Trade Coin",
          "Mont Blanc",
          "XDNA",
          "PAXEX",
          "Apollon",
          "ThunderStake",
          "Kcash",
          "Traid",
          "Bettex coin",
          "BitMoney",
          "Junson Ming Chan Coin",
          "Zenad",
          "HerbCoin",
          "Oduwa",
          "Galilel",
          "Crypto Sports",
          "Credit",
          "Dash Platinum",
          "Nasdacoin",
          "Beetle Coin",
          "Titan Coin",
          "Award",
          "Insane Coin",
          "ALAX",
          "The Freedom Coin",
          "LiteDoge",
          "TruckCoin",
          "Ascension Coin",
          "OrangeCoin",
          "BitstarCoin",
          "NeosCoin",
          "HyperCoin",
          "PinkCoin",
          "AudioCoin",
          "IncaKoin",
          "Piggy Coin",
          "Genstake",
          "ParkByte",
          "XiaoMiCoin",
          "CapriCoin",
          " ClubCoin",
          "Radium",
          "Creditbit ",
          "OKCash",
          "Lisk",
          "HiCoin",
          "WhiteCoin",
          "FriendshipCoin",
          "The Hempcoin",
          "Triangles Coin",
          "EOS",
          "Oxycoin",
          "TigerCash",
          "Particl",
          "Nxt",
          "ZEPHYR",
          "Gapcoin",
          "BitcoinPlus"
         ],
         "legendgroup": "0",
         "marker": {
          "color": [
           0,
           0,
           0,
           0,
           0,
           0,
           0,
           0,
           0,
           0,
           0,
           0,
           0,
           0,
           0,
           0,
           0,
           0,
           0,
           0,
           0,
           0,
           0,
           0,
           0,
           0,
           0,
           0,
           0,
           0,
           0,
           0,
           0,
           0,
           0,
           0,
           0,
           0,
           0,
           0,
           0,
           0,
           0,
           0,
           0,
           0,
           0,
           0,
           0,
           0,
           0,
           0,
           0,
           0,
           0,
           0,
           0,
           0,
           0,
           0,
           0,
           0,
           0,
           0,
           0,
           0,
           0,
           0,
           0,
           0,
           0,
           0,
           0,
           0,
           0,
           0,
           0,
           0,
           0,
           0,
           0,
           0,
           0,
           0,
           0,
           0,
           0,
           0,
           0,
           0,
           0,
           0,
           0,
           0,
           0,
           0,
           0,
           0,
           0,
           0,
           0,
           0,
           0,
           0,
           0,
           0,
           0,
           0,
           0,
           0,
           0,
           0,
           0,
           0,
           0,
           0,
           0,
           0,
           0,
           0,
           0,
           0,
           0,
           0,
           0,
           0,
           0,
           0,
           0,
           0,
           0,
           0,
           0,
           0,
           0,
           0,
           0,
           0,
           0,
           0,
           0,
           0,
           0,
           0,
           0,
           0,
           0,
           0,
           0,
           0,
           0,
           0,
           0,
           0,
           0,
           0,
           0,
           0,
           0,
           0,
           0,
           0,
           0,
           0,
           0,
           0,
           0,
           0,
           0,
           0,
           0,
           0,
           0,
           0,
           0,
           0,
           0,
           0,
           0,
           0,
           0,
           0,
           0,
           0,
           0,
           0,
           0,
           0,
           0,
           0,
           0,
           0,
           0,
           0,
           0,
           0,
           0,
           0,
           0,
           0,
           0,
           0,
           0,
           0,
           0,
           0,
           0,
           0,
           0,
           0,
           0,
           0,
           0,
           0,
           0,
           0,
           0,
           0,
           0,
           0,
           0,
           0,
           0,
           0,
           0,
           0,
           0,
           0,
           0,
           0,
           0,
           0,
           0,
           0,
           0,
           0,
           0,
           0,
           0,
           0,
           0,
           0,
           0,
           0,
           0,
           0,
           0,
           0,
           0,
           0,
           0,
           0,
           0,
           0,
           0,
           0,
           0,
           0,
           0,
           0,
           0,
           0,
           0,
           0,
           0,
           0,
           0,
           0,
           0,
           0,
           0,
           0,
           0,
           0,
           0,
           0,
           0,
           0,
           0,
           0,
           0,
           0,
           0,
           0,
           0,
           0,
           0,
           0,
           0,
           0,
           0,
           0,
           0,
           0,
           0,
           0,
           0,
           0,
           0,
           0,
           0,
           0,
           0,
           0,
           0,
           0,
           0,
           0,
           0,
           0,
           0,
           0,
           0,
           0,
           0,
           0,
           0,
           0,
           0,
           0,
           0,
           0,
           0,
           0,
           0,
           0,
           0,
           0,
           0,
           0,
           0,
           0,
           0,
           0,
           0,
           0,
           0,
           0,
           0,
           0,
           0,
           0,
           0,
           0,
           0,
           0,
           0,
           0,
           0,
           0,
           0,
           0,
           0,
           0,
           0,
           0,
           0,
           0,
           0,
           0,
           0,
           0,
           0,
           0,
           0,
           0
          ],
          "coloraxis": "coloraxis",
          "symbol": "circle"
         },
         "mode": "markers",
         "name": "0",
         "scene": "scene",
         "showlegend": true,
         "type": "scatter3d",
         "x": [
          -0.25460816921102264,
          -0.2403205385013581,
          -0.16226476643950427,
          0.27513586395487594,
          -0.20087387573700197,
          0.09717243927312869,
          -0.16224731478118212,
          -0.20099616308152826,
          -0.036696399800584485,
          -0.10927259335213686,
          0.004087310906089416,
          -0.12131863405053998,
          -0.1292022248631872,
          -0.25436261319485015,
          -0.24600427177934933,
          -0.25294184940909403,
          -0.2546075932375879,
          -0.25460816990320106,
          -0.2545940997203059,
          -0.19240472620560517,
          -0.12920222508081272,
          0.7035516474591696,
          -0.1622647664395044,
          -0.18721267398559435,
          -0.2009961630878282,
          0.01886106516236987,
          -0.07559021837923822,
          -0.16123012774293982,
          -0.2755244516193628,
          -0.20099616309636667,
          -0.10961844875969728,
          -0.2533994595097282,
          -0.05286237352167914,
          -0.20075716258248,
          -0.20099616308671622,
          -0.12131863409115073,
          -0.20099616308074714,
          -0.3853906351976484,
          0.15912618486087432,
          -0.14041277567881813,
          -0.12898314108302877,
          -0.12042378787802924,
          -0.1211134106985656,
          -0.22603770799589687,
          -0.25159303068143274,
          -0.253606731380966,
          0.14233653083009462,
          -0.10961844876230063,
          -0.25460816978232187,
          -0.07490361575861491,
          -0.20099614714108774,
          -0.06591202189315849,
          -0.059628361371837385,
          -0.20097677525937613,
          -0.23972790895339097,
          -0.25392796485309527,
          -0.12131863403492053,
          -0.23621595805481918,
          -0.2546081697849252,
          -0.20090204601286057,
          -0.06564474028471909,
          -0.12087053153531287,
          -0.2546081699098823,
          -0.2526043243807102,
          0.769830163857898,
          0.00025493620106392645,
          -0.16173504297097674,
          -0.12920222486474095,
          -0.18653715197910953,
          -0.12883413576603953,
          -0.12129124906915698,
          -0.1268374467198124,
          -0.036858821480276784,
          -0.25458829461568294,
          -0.12122254004267406,
          -0.1213186340661595,
          -0.2009961631044629,
          -0.07555379702268773,
          -0.10961844875969728,
          -0.2546081697797185,
          -0.2544510371768577,
          -0.2546081697797185,
          -0.20097566691043806,
          -0.6153342473582774,
          -0.2546081697797185,
          -0.12914508713725983,
          -0.010980661673364306,
          -0.05465160382739176,
          -0.20099616307814402,
          -0.12784818441593204,
          -0.07559021812471368,
          -0.12100662793667648,
          -0.16168172191090524,
          0.004087310914284354,
          -0.10943523959207285,
          -0.03451161382991426,
          -0.16221507737692012,
          -0.052101613494934695,
          -0.16219531753157143,
          0.05112179275336788,
          -0.02488569311963473,
          -0.06284383686799731,
          -0.2544863232462419,
          -0.25460816979065215,
          -0.12865414978732453,
          -0.16226476698619147,
          -0.2008552454127642,
          0.3714030878383402,
          -0.16220549907870713,
          0.1910133184604369,
          0.019054967727935204,
          -0.20099616307840437,
          -0.20099616313281274,
          -0.19917423465359613,
          0.018784159607975952,
          -0.16224857912465956,
          -0.1620391464475063,
          -0.1601001755839837,
          -0.10961844885341522,
          -0.20066594373301477,
          -0.16123012778296816,
          -0.25460816997409624,
          -0.2546081706908638,
          0.0474795843209399,
          -0.24359857407891958,
          -0.2545468816275461,
          -0.25325412937516517,
          0.004155012436902116,
          -0.06669417266099593,
          -0.200785422038857,
          -0.07559021837923822,
          -0.25402369159081406,
          -0.1622567041433826,
          -0.20098725842240853,
          -0.2545732089106324,
          -0.25458190289380483,
          -0.2009961891108605,
          -0.12690579059277088,
          -0.2687148414553819,
          0.10144768145945068,
          0.019786607304145266,
          -0.2541542553098681,
          -0.1974123130266448,
          0.02079784570704973,
          0.004121163613436437,
          -0.16552866273609781,
          0.019025431065904885,
          -0.14899056464061106,
          7.111252800687386,
          -0.2007477940091389,
          -0.25460817238299016,
          1.127009673522889,
          -0.20094398747666303,
          0.01946117984930118,
          -0.16364348546866644,
          -0.2543767697465835,
          -0.2546081703003732,
          -0.2545750016147345,
          0.019054967727935204,
          -0.20091397997886698,
          -0.16209664130123297,
          -0.25433405755332295,
          -0.11998543218535383,
          -0.2544581323656638,
          -0.254460385815508,
          -0.20098513211453536,
          -0.25449473034731757,
          0.32864140795650243,
          -0.2545611442114567,
          -0.25456327265692863,
          0.17667015264604066,
          -0.20347305866492804,
          -0.20099616372896173,
          -0.1213186352063931,
          0.018784159386697283,
          -0.25428367019898446,
          -0.16223056236439132,
          -0.20091953662842815,
          -0.20099616333847095,
          -0.2544480988273724,
          -0.2546039969678365,
          -0.12916265158211188,
          -0.3131713834111454,
          0.004283983282089579,
          -0.24106776573418545,
          -0.12871408830816874,
          -0.20081793436323303,
          -0.18402468566380295,
          -0.19949818292529337,
          -0.12920222511205182,
          0.020288983784642296,
          -0.20070475588683687,
          0.02421956761278905,
          -0.19934876468941112,
          -0.254535472285309,
          -0.25459262108024755,
          -0.2546014021796657,
          -0.03549758645153955,
          -0.20076365568727295,
          -0.12520597579600437,
          0.018938387860439995,
          -0.25431896370298646,
          -0.20099616852809296,
          0.4409209816877394,
          -0.0367187720451104,
          0.048311103110868205,
          0.3357813369757191,
          -0.16117364555878078,
          -0.16037786676288884,
          -0.22784515776144984,
          -0.12103065549869416,
          -0.2009961630987242,
          -0.132136256861442,
          -0.12102186874720101,
          -0.02556504873785663,
          -0.22729639973695023,
          -0.20082597017688156,
          -0.1289495162302849,
          0.01883832111325892,
          -0.2543435959380615,
          -0.25455130008272747,
          0.060388985918537884,
          0.6035354128069224,
          -0.20089782727152783,
          -0.22360831927578448,
          -0.25459272380602477,
          -0.10137609968447575,
          0.4015527281522035,
          -0.16101836143548368,
          -0.1536398769140782,
          -0.20688879732240753,
          -0.25457906218469933,
          0.05153763916825809,
          0.03510197341007739,
          -0.2543866143052155,
          -0.2201856290303655,
          -0.20099616308774204,
          0.17652773756991627,
          0.08500481479412246,
          4.298076423611307,
          -0.20047893894554702,
          7.113688562929103,
          0.22330583645734328,
          -0.11883350925070746,
          -0.2531054969251982,
          -0.03564481066524101,
          0.1767573256649118,
          -0.1881045890397764,
          -0.2544941680390432,
          -0.20038448597924682,
          -0.16226500073395453,
          -0.25460816979169365,
          0.17689738622135162,
          -0.24660548377604888,
          -0.2545742580281621,
          -0.07553054218929589,
          -0.254608174986262,
          -0.4947175999401583,
          0.04723390792069419,
          -0.31806259510177237,
          -0.25142825644503386,
          0.007205649936977649,
          0.5950457061043467,
          0.3243839201098183,
          -0.21560693911145845,
          -0.2009668098827474,
          -0.08152210234837141,
          -0.12885599676743065,
          0.014695704197497989,
          -0.16104343471300456,
          -0.25459671950765633,
          -0.25459216295362375,
          -0.1255829068885695,
          -0.21523265450777668,
          0.04484215480562406,
          0.0190803773000147,
          -0.25447438383780835,
          -0.2546081700400459,
          7.555091445766318,
          -0.25460817108135464,
          0.053013923246915534,
          0.01893412288292107,
          -0.05838120549712798,
          -0.23559531916567605,
          0.06495997997743506,
          -0.12867811894791573,
          -0.11649604851528057,
          -0.1290989116320903,
          -0.16319340898222104,
          -0.2543157061558779,
          0.016197556299111442,
          1.664778602402982,
          0.1765645154050651,
          -0.03607603727895477,
          2.988485381604198,
          -0.1833468257289589,
          0.17662363618156995,
          0.05120194509113373,
          -0.1291881594913742,
          -0.1442332807286092,
          -0.226926485408854,
          0.17742213386861558,
          -0.2545350026997457,
          -0.2546081700400459,
          -0.0753293012615802,
          -0.20057950964954976,
          -0.12774305890368265,
          0.01891045225502952,
          -0.12920222700723374,
          -0.12920222500271433,
          -0.20898998989066495,
          -0.07552922373537238,
          0.051121792155110944,
          -0.24025600736046698,
          0.13338506488333177,
          -0.2260813170961874,
          0.04397006970398044,
          0.18974501500085725,
          0.15743914755754554,
          0.3894271638433799,
          0.05159993401998066,
          -0.25440807580631886,
          0.051369108436124314,
          0.1765539343777832,
          0.16278428413408966,
          -0.07558052785032378,
          -0.25432996165126326,
          -0.07883407728031494,
          -0.15150638554320586,
          -0.2007873679252409,
          -0.20067422698503323,
          7.123328104840718,
          -0.07559021818399295,
          -0.04718430041016708,
          -0.19771161105094331,
          -0.203882354486777,
          -0.2545602758509952,
          -0.2543295553102597,
          -0.03679934857217622,
          -0.254477759415296,
          -0.19508775886150106,
          -0.2413286798579751,
          0.08064640534744433,
          -0.19430394608101248,
          -0.2537957454198393,
          -0.16226476650458632,
          -0.2491335613273302,
          -0.19826960874169283,
          -0.2532050878552278,
          0.018835900844840273,
          -0.05678393459109197,
          -0.16125362242650784,
          7.111412713557268,
          0.006205128647403065,
          -0.2511959127437712,
          -0.22606614612822568,
          -0.2546081705607,
          -0.12131672784720504,
          7.123606288640794,
          7.124985213327428,
          -0.023318417434738264,
          0.0189098570820308,
          0.038454839092312766,
          4.11177067252354,
          -0.2544059979939104,
          -0.12920048722337424
         ],
         "y": [
          1.21706093165352,
          1.2152431105810808,
          0.8379931324751166,
          1.945880301524746,
          1.4293122912542835,
          1.0811129326033628,
          0.8379909123463004,
          1.4293278497317483,
          0.3555986205111407,
          2.129058700418395,
          1.5139439769531562,
          1.9963178240049133,
          0.7346870848615886,
          1.2170296895518837,
          1.2159662504871287,
          1.2168489243720695,
          1.2170608583778502,
          1.2170609323031876,
          1.2170591415921235,
          0.5242256669213068,
          0.7346870858790435,
          0.7793306193811671,
          0.8379931324751132,
          1.135292665482611,
          1.4293278497612016,
          1.2359194253211803,
          0.9469540038690947,
          1.7594335419987541,
          0.336706079882119,
          1.4293278498011226,
          2.129102699751274,
          1.2169071479140001,
          0.944062319710539,
          1.4292974417406632,
          1.4293278497560047,
          1.9963178241947799,
          1.4293278497280972,
          2.199784794507322,
          0.69800281659391,
          0.8352129138027369,
          0.7346592106438128,
          1.9962039718965108,
          1.9962917131927718,
          0.7083681930195139,
          1.2166773179942392,
          1.2169335190294712,
          1.1665573208557234,
          2.1291026997634446,
          1.2170609317380454,
          0.9468666456514544,
          1.4293278476882525,
          0.041713550377534186,
          1.4091346137279637,
          1.4293253831057005,
          1.2151677224659916,
          1.2169743898602174,
          1.9963178239318868,
          0.3947602904248829,
          1.2170609317502166,
          1.4293158751870163,
          0.041679542727860584,
          1.9962608114708686,
          1.2170609323344228,
          1.2168059926162378,
          1.7450757439521942,
          1.3030208869861168,
          0.8379257361141068,
          0.7346870848688533,
          1.1352067181930212,
          0.7346402523794077,
          1.9963143398615468,
          0.7343862178587275,
          0.3556192854112096,
          1.2170584029919005,
          1.996305597930163,
          1.9963178240779382,
          1.4293278498389737,
          0.946949369001835,
          2.129102699751274,
          1.2170609317258745,
          1.2170409398483584,
          1.2170609317258745,
          1.4293252419711278,
          2.304536790800251,
          1.2170609317258745,
          2.1358347010576493,
          1.099121099990932,
          0.735904756643813,
          1.4293278497159259,
          0.7345148101370158,
          0.9469540026791259,
          1.9962781277234123,
          0.8379189630650667,
          1.5139439769148435,
          2.129079390204877,
          1.0426653789975455,
          0.8379868107540186,
          1.4103841842543845,
          0.837984296555981,
          1.6271246742464283,
          1.7420863239533175,
          -0.02891575774305664,
          1.2170454295853634,
          1.2170609317769925,
          0.7346173552279149,
          0.8379931350310166,
          1.4293099251883254,
          0.6709958183514623,
          0.8379855923121299,
          0.8445408574509266,
          1.2358947551701283,
          1.4293278497171433,
          1.429327849971516,
          1.4290960451054455,
          1.2359292102576784,
          0.8379910755863271,
          0.837964432868074,
          1.7592897782855532,
          2.129102700189429,
          1.4292858372743427,
          1.7594335421858942,
          1.21706093263464,
          1.2170609359857139,
          1.2320461315599374,
          1.215660195208162,
          1.2170531345071967,
          1.2168886572009436,
          1.5139353655150511,
          0.945822159023203,
          1.429301037546775,
          0.9469540038690947,
          1.2169865691358368,
          0.8379921069509754,
          1.429326716804545,
          1.2170564838734885,
          1.2170575897677052,
          1.4293279714256164,
          0.7343949073877637,
          0.43877427739102587,
          2.0858648553591026,
          1.2358016686857585,
          1.217003179802953,
          1.4288718911943756,
          1.2356730075636677,
          1.5139396697912153,
          2.182190125507231,
          1.2358985164716565,
          2.117728177857729,
          0.8976392292541602,
          1.4292962498638504,
          1.2170609438968432,
          1.8374919648349601,
          1.4293212114155265,
          1.2358430728126486,
          2.1195924754095357,
          1.2170314909597342,
          1.217060934160068,
          1.217056712209387,
          1.2358947551701283,
          1.4293173942008983,
          0.8379717420079946,
          1.217026056585573,
          0.787891699129194,
          1.2170418426699647,
          1.217042136750438,
          1.4293264462962707,
          1.2170465004356172,
          0.6764356359780648,
          1.2170549487768632,
          1.2170552194661275,
          1.144732707548296,
          1.1790630994279003,
          1.4293278527586681,
          1.9963178294088222,
          1.2359292112922107,
          1.2170196512889162,
          0.8379887809102659,
          1.429318100578498,
          1.4293278509330223,
          1.2170405659996613,
          1.2170604010751653,
          0.7346820503764565,
          0.41263629335917446,
          1.51391895424907,
          1.2153381864765678,
          0.734624979047142,
          1.4293051747093637,
          2.1782674503534167,
          1.429137261733155,
          0.7346870860250948,
          1.235737751329792,
          1.429290774915836,
          1.2352376632462712,
          1.4291182557417992,
          1.2170516826131592,
          1.2170589537902725,
          1.2170600825181332,
          0.35544698230558597,
          1.4292982680770079,
          0.734178662189223,
          1.235909587843927,
          1.217024137034657,
          1.4293278751958496,
          2.0590581667323304,
          0.3556014691717342,
          1.231940337506505,
          2.1145934348891893,
          1.7594263558335748,
          1.7593251095249216,
          1.4473192662473018,
          1.9962811845337078,
          1.4293278498121451,
          1.2014793183759693,
          1.9962800664564215,
          1.1657507588316958,
          1.4472494472984945,
          1.4293061960413374,
          0.7346549325397983,
          1.235922319795164,
          1.2170272703429317,
          1.2170536961958272,
          1.0857928810184223,
          1.179394354891162,
          1.429315338687534,
          0.7080591045237825,
          1.2170589667078222,
          0.34856018984073833,
          1.1335773202473047,
          0.8378345524934678,
          1.7584678421495337,
          1.8942889996924175,
          1.217057228590511,
          1.6270717678833218,
          1.2343951043712962,
          1.217032743210063,
          0.8056969122234928,
          1.4293278497607986,
          1.1447508278495857,
          0.34011457818464863,
          0.8912020653323374,
          1.4292620445558506,
          0.8973293295985122,
          1.7105090603698616,
          1.9960016418845383,
          1.2168697478706663,
          1.2770368735888489,
          1.1447216165103813,
          1.2086002167405114,
          1.2170464289636966,
          1.4292500261119148,
          0.8379942278623255,
          1.2170609317818606,
          1.1447037976709884,
          1.2160427538550775,
          1.2170566171523256,
          0.9469464102815021,
          1.2170609560678127,
          2.339634680894922,
          1.2320773890760377,
          0.3387483368398083,
          1.2166563514025392,
          1.5135472374228087,
          3.9044959910839037,
          3.558188700843528,
          1.136331497143284,
          1.4293241153799774,
          1.4494346137665999,
          0.7346430352412825,
          1.186784468026062,
          1.7594097894708374,
          1.2170594749335695,
          1.2170588952230152,
          0.734226601692141,
          0.2734787311650347,
          1.2488730942246409,
          1.235891523093828,
          1.2170439103822266,
          1.2170609329429716,
          0.8809122412208891,
          1.217060937811359,
          1.6268839390080962,
          1.2359101310726217,
          0.5369782245627424,
          1.2146419712618701,
          0.7559940230552767,
          0.7346204025351679,
          1.1994889301829417,
          0.7346739405583259,
          2.119535130102204,
          1.2170237223255416,
          1.646676681458721,
          0.05509211909215589,
          1.1447461553822895,
          0.3555196923005254,
          1.151343050647929,
          1.019296049182747,
          1.1447386259485557,
          1.6271144762184615,
          0.7346854949732194,
          2.208121921112676,
          0.8309524145631354,
          1.1446370333460425,
          1.2170516344559956,
          1.2170609329429716,
          0.946920806630167,
          1.4292748391388683,
          0.7345014368233056,
          1.2359131442458489,
          0.7346870948855607,
          0.7346870855139143,
          0.7795603940945584,
          0.9469462434688322,
          1.6271246770434333,
          1.215235107046097,
          0.936458401767314,
          0.7083737443813064,
          0.9670497958380959,
          0.7534604367869725,
          0.9173054788466369,
          1.1794759730900206,
          1.627063840327907,
          1.2170354738485927,
          1.6270932080487177,
          1.1447474940778215,
          1.1639566214765262,
          0.9469527699841513,
          1.217025536064308,
          1.4490926192672198,
          2.1180482382141776,
          1.4293012895042585,
          1.4292868898689883,
          0.8961028884265819,
          0.9469540029562719,
          1.1906706313206,
          1.4289099533761849,
          1.1791151735490102,
          1.217054840508659,
          1.2170254840130377,
          0.35561171887128956,
          1.2170443395046202,
          1.4285761243569548,
          1.215371495279443,
          0.8070873403480345,
          1.4284764051120915,
          1.2169575664632226,
          0.8379931327793871,
          1.2163643973858762,
          1.4289809503582334,
          1.2168824183171596,
          1.2359226271051966,
          0.8058026978912535,
          0.8378644850080572,
          0.8976188838175431,
          0.7174592107560901,
          1.2166267909215014,
          0.7083718118949461,
          1.2170609353771649,
          1.9963175814074283,
          0.8960674830260447,
          0.8958920412688273,
          0.353896540161878,
          1.235913217586092,
          1.3226697045434275,
          0.0986250327076841,
          1.2170352121980614,
          0.7346868635978324
         ],
         "z": [
          -0.4138522521948712,
          -0.4143199158373159,
          -0.30237059408607225,
          -0.5361348360642346,
          -0.4210175384585992,
          0.34112135637246166,
          -0.3023711654345439,
          -0.4210135356509026,
          -0.03425140244670445,
          -0.5135317346198208,
          -0.2550318756779455,
          -0.5231563837447623,
          -0.14572774419447132,
          -0.4138602897928446,
          -0.4141338737201319,
          -0.4139067939334146,
          -0.41385227105035,
          -0.4138522524381153,
          -0.4138527127210079,
          -0.18708590871638583,
          -0.1457277446559754,
          -0.4354706349713158,
          -0.30237059408606226,
          -0.34164729937306243,
          -0.4210135356642621,
          -0.0024558424584594143,
          -0.15288902812344699,
          -0.4589485232902545,
          -0.05252731649735579,
          -0.42101353568236954,
          -0.5135204121686556,
          -0.4138918161785383,
          -0.15363295209074257,
          -0.4210213586966802,
          -0.42101353566190525,
          -0.5231563838308825,
          -0.4210135356492463,
          -0.5110968655234243,
          -0.1551652678722042,
          -0.30308586384597336,
          -0.14573491521179865,
          -0.5231856736865115,
          -0.5231631010521766,
          -0.2877750770960026,
          -0.41395094562719387,
          -0.41388503166232576,
          -0.4268449886563011,
          -0.5135204121741765,
          -0.4138522521817743,
          -0.15291150134045542,
          -0.42101353616538073,
          0.08100302778459852,
          -0.21926452702094573,
          -0.421014170299061,
          -0.41433931968888543,
          -0.41387451710602813,
          -0.5231563837116385,
          -0.08523832981065001,
          -0.41385225218729527,
          -0.4210166163007137,
          0.08099427972226217,
          -0.5231710509377898,
          -0.41385225245228324,
          -0.4139178473595835,
          -0.755489955865556,
          -0.08730049317356879,
          -0.3023879332991476,
          -0.14572774419776643,
          -0.34166941043703986,
          -0.1457397923415633,
          -0.5231572801396435,
          -0.14580515048129,
          -0.03424608601373556,
          -0.41385290272724645,
          -0.5231595291023408,
          -0.5231563837778852,
          -0.42101353569953803,
          -0.15289021981355352,
          -0.5135204121686556,
          -0.4138522521762537,
          -0.41385739552998035,
          -0.4138522521762537,
          -0.4210142065213204,
          -0.4097225091832555,
          -0.4138522521762537,
          -0.4960786630532115,
          -0.01984580579312374,
          -0.3036259694991111,
          -0.4210135356437259,
          -0.14577206491901193,
          -0.15288902758369338,
          -0.5231665965303708,
          -0.30238968382097214,
          -0.25503187566056773,
          -0.5135264090920312,
          -0.34491488911009255,
          -0.30237222062459373,
          -0.42588727932120174,
          -0.30237286733652435,
          -0.28913884307410803,
          -0.46341132958410725,
          0.1556003333103591,
          -0.41385624067479276,
          -0.4138522521994404,
          -0.145745684855741,
          -0.3023705952453862,
          -0.42101815029297696,
          -0.16211403970612523,
          -0.30237253424096855,
          -0.41869409238616256,
          -0.002462189361282348,
          -0.4210135356442778,
          -0.4210135357596582,
          -0.42107317116161663,
          -0.002453325281071453,
          -0.30237112517546033,
          -0.302377981990025,
          -0.4589855092217772,
          -0.513520412367397,
          -0.4210243451147353,
          -0.45894852337513936,
          -0.41385225258845737,
          -0.41385225410846044,
          -0.07012424157592415,
          -0.4142126278806206,
          -0.41385425849970287,
          -0.41389657299134974,
          -0.255034092756571,
          -0.15318021532656662,
          -0.42102043386920723,
          -0.15288902812344699,
          -0.41387138373624793,
          -0.30237085809769393,
          -0.4210138271264458,
          -0.4138533966280815,
          -0.41385311194016083,
          -0.42101359084961837,
          -0.14580291065663395,
          -0.17931736427921888,
          -0.5417584747824588,
          -0.002486137584694528,
          -0.4138671096389738,
          -0.42113085011352464,
          -0.0025192371031168585,
          -0.2550329837146359,
          -0.5738041035922196,
          -0.0024612241467664854,
          -0.5335610963248124,
          -0.6747049937672879,
          -0.4210216653923133,
          -0.413852257696843,
          -0.5640164899359531,
          -0.4210152434695612,
          -0.002475485605810304,
          -0.5330814762048396,
          -0.413859826544689,
          -0.4138522532803715,
          -0.41385333806727215,
          -0.002462189361282348,
          -0.4210162259853821,
          -0.3023760972458668,
          -0.41386122456296026,
          -0.14312865423195573,
          -0.41385716333613454,
          -0.41385709306704577,
          -0.4210138967356587,
          -0.413855966066569,
          -0.16071399788823917,
          -0.41385379148322216,
          -0.4138537217609653,
          -0.02101899647765804,
          -0.3643670591955313,
          -0.42101353702387345,
          -0.5231563861959038,
          -0.0024533257503214587,
          -0.4138628764524559,
          -0.3023717137666192,
          -0.42101604382202223,
          -0.42101353619578413,
          -0.41385749170761055,
          -0.41385238888308257,
          -0.1457290397177452,
          -0.3388846784594491,
          -0.25503831317186965,
          -0.4142954603272107,
          -0.14574372191056423,
          -0.4210193699608018,
          -0.5665877612486053,
          -0.4210625679298847,
          -0.14572774472222208,
          -0.002502581502366789,
          -0.421023074502308,
          -0.002631238427308034,
          -0.4210674608522138,
          -0.41385463181902793,
          -0.4138527612743598,
          -0.4138524792981573,
          -0.03429106219657439,
          -0.42102114626621884,
          -0.1458585599601009,
          -0.0024583735419930228,
          -0.4138617190163022,
          -0.4210135472010791,
          -0.5315410936338424,
          -0.03425067121319501,
          -0.07015145910137417,
          -0.5469817834068263,
          -0.4589503721094901,
          -0.4589764200424813,
          -0.39202773664274804,
          -0.5231658099515729,
          -0.42101353568736904,
          -0.4178612653912509,
          -0.5231660974960165,
          0.00007235739433278097,
          -0.39204569851096926,
          -0.42101910642642915,
          -0.14573601582248305,
          -0.002455098348852582,
          -0.41386091243943113,
          -0.4138541136504876,
          0.3423253667147901,
          -0.17057928223570507,
          -0.42101675450846965,
          -0.2878545977171056,
          -0.41385275783982683,
          0.017168554908530982,
          -0.43532975584880645,
          -0.3024113917948085,
          -0.45919697300510803,
          -0.48667368450074383,
          -0.413853205039562,
          -0.28915245550673935,
          -0.044090670630435334,
          -0.41385950418087375,
          -0.423753319186452,
          -0.4210135356640794,
          -0.021014335304350398,
          -0.03823495936790062,
          -0.3443868142112302,
          -0.4210304661563977,
          -0.6747847228865647,
          -0.4715352669768675,
          -0.5232377276335554,
          -0.4139014386238239,
          -0.19082988655200686,
          -0.021021849840322706,
          -0.41602931804416826,
          -0.41385598450559646,
          -0.42103355725027247,
          -0.30237109093909464,
          -0.4138522522016483,
          -0.021026434842760594,
          -0.4141141999813044,
          -0.4138533621932193,
          -0.15289098099299953,
          -0.4138522632174323,
          -0.9230367353853582,
          -0.07011620008390526,
          -0.07646494365461548,
          -0.41395633793975717,
          -0.2551339491451033,
          1.5956932157291102,
          6.40159798883901,
          -0.3391704747509945,
          -0.42101449656841283,
          -0.4171433113399082,
          -0.14573907748554965,
          -0.06032460239431539,
          -0.4589546343762778,
          -0.4138526269817184,
          -0.41385277613739735,
          -0.1458462138974435,
          -0.15786219803036994,
          0.03503915217975206,
          -0.002463021444911522,
          -0.41385663140651213,
          -0.41385225272831255,
          -0.7513537971781848,
          -0.4138522549365485,
          -0.2892007770235006,
          -0.002458234221656424,
          0.0025992650982305534,
          -0.4144746067629495,
          -0.2997602463620515,
          -0.14574489920722064,
          -0.41837297531600964,
          -0.1457311259828988,
          -0.5330961693632285,
          -0.4138618255241405,
          -0.24540932662866122,
          -0.12957418263898196,
          -0.021015542334461308,
          -0.034271708554938766,
          -0.35129262272739253,
          -0.2655396558298227,
          -0.021017473941111586,
          -0.2891414665245167,
          -0.1457282991141226,
          -0.4619950611191628,
          -0.2509512255093555,
          -0.021043610694675047,
          -0.41385465267632343,
          -0.41385225272831255,
          -0.1528975681725118,
          -0.421027173763727,
          -0.14577550676898926,
          -0.0024574601668454705,
          -0.14572774874121125,
          -0.14572774449035725,
          -0.28067392900003324,
          -0.1528910245913007,
          -0.28913884434279197,
          -0.414322125983377,
          1.0070068002116312,
          -0.2877736510807721,
          -0.14902162558424217,
          -0.2152930356990211,
          -0.16051651103620207,
          0.30666199685989326,
          -0.28915449371436197,
          -0.4138588017409475,
          -0.28914693816876363,
          -0.02101519242898718,
          -0.42751470087128046,
          -0.15288934486229128,
          -0.4138613589153292,
          -0.4172312978538778,
          -0.5334787347910767,
          -0.4210203722508817,
          -0.4210240733774966,
          -0.6751002457799293,
          -0.15288902770940288,
          -0.4206418164454816,
          -0.42112104512522053,
          -0.36435366174200445,
          -0.4138538209545554,
          -0.41386137204888584,
          -0.034248032790064595,
          -0.41385652074942453,
          -0.42120693147816446,
          -0.4142869733789709,
          -0.3103215284631311,
          -0.42123258992753293,
          -0.41387884441688466,
          -0.3023705942240771,
          -0.41403144850995177,
          -0.4211027819915865,
          -0.41389817854762856,
          -0.002455018834111402,
          -0.2526583276594619,
          -0.3024036912941349,
          -0.6747102282079419,
          -0.15015993410405956,
          -0.413963943361348,
          -0.2877741465793288,
          -0.4138522538324303,
          -0.5231564461053718,
          -0.6751093456460056,
          -0.67515448040924,
          -0.03468929416468124,
          -0.0024574395569128596,
          0.10208165811178634,
          -0.3585049813584498,
          -0.4138588710353309,
          -0.14572780098429927
         ]
        },
        {
         "customdata": [
          [
           "SHA-256"
          ],
          [
           "Ethash"
          ],
          [
           "Scrypt"
          ],
          [
           "CryptoNight-V7"
          ],
          [
           "Ethash"
          ],
          [
           "Equihash"
          ],
          [
           "Multiple"
          ],
          [
           "Scrypt"
          ],
          [
           "X11"
          ],
          [
           "SHA-256"
          ],
          [
           "Scrypt"
          ],
          [
           "SHA-256"
          ],
          [
           "Multiple"
          ],
          [
           "Scrypt"
          ],
          [
           "SHA-256"
          ],
          [
           "Scrypt"
          ],
          [
           "Scrypt"
          ],
          [
           "Quark"
          ],
          [
           "Groestl"
          ],
          [
           "Scrypt"
          ],
          [
           "X11"
          ],
          [
           "Scrypt"
          ],
          [
           "Scrypt"
          ],
          [
           "Scrypt"
          ],
          [
           "X11"
          ],
          [
           "Multiple"
          ],
          [
           "Scrypt"
          ],
          [
           "SHA-256"
          ],
          [
           "Scrypt"
          ],
          [
           "Scrypt"
          ],
          [
           "Scrypt"
          ],
          [
           "Scrypt"
          ],
          [
           "Scrypt"
          ],
          [
           "Scrypt"
          ],
          [
           "SHA-256"
          ],
          [
           "Scrypt"
          ],
          [
           "NeoScrypt"
          ],
          [
           "Scrypt"
          ],
          [
           "Scrypt"
          ],
          [
           "Scrypt"
          ],
          [
           "Multiple"
          ],
          [
           "Scrypt"
          ],
          [
           "SHA-256"
          ],
          [
           "Scrypt"
          ],
          [
           "Scrypt"
          ],
          [
           "Scrypt"
          ],
          [
           "Scrypt"
          ],
          [
           "Scrypt"
          ],
          [
           "HybridScryptHash256"
          ],
          [
           "Scrypt"
          ],
          [
           "SHA-256"
          ],
          [
           "Scrypt"
          ],
          [
           "SHA-256"
          ],
          [
           "Scrypt"
          ],
          [
           "Scrypt"
          ],
          [
           "Scrypt"
          ],
          [
           "Scrypt"
          ],
          [
           "Scrypt"
          ],
          [
           "Scrypt-n"
          ],
          [
           "Scrypt"
          ],
          [
           "SHA-256"
          ],
          [
           "SHA-256"
          ],
          [
           "SHA-256"
          ],
          [
           "SHA-256"
          ],
          [
           "SHA-256"
          ],
          [
           "SHA-256"
          ],
          [
           "X11"
          ],
          [
           "Scrypt"
          ],
          [
           "X11"
          ],
          [
           "Lyra2REv2"
          ],
          [
           "Scrypt"
          ],
          [
           "SHA-256"
          ],
          [
           "CryptoNight"
          ],
          [
           "CryptoNight"
          ],
          [
           "Scrypt"
          ],
          [
           "SHA-256"
          ],
          [
           "Scrypt"
          ],
          [
           "Scrypt"
          ],
          [
           "Scrypt"
          ],
          [
           "Scrypt"
          ],
          [
           "Scrypt"
          ],
          [
           "Momentum"
          ],
          [
           "Stanford Folding"
          ],
          [
           "Multiple"
          ],
          [
           "QuBit"
          ],
          [
           "Scrypt"
          ],
          [
           "Scrypt"
          ],
          [
           "SHA-256"
          ],
          [
           "M7 POW"
          ],
          [
           "Scrypt"
          ],
          [
           "X11"
          ],
          [
           "Scrypt"
          ],
          [
           "SHA-256"
          ],
          [
           "Scrypt"
          ],
          [
           "X11"
          ],
          [
           "X11"
          ],
          [
           "Lyra2RE"
          ],
          [
           "SHA-256"
          ],
          [
           "X11"
          ],
          [
           "Scrypt"
          ],
          [
           "Scrypt"
          ],
          [
           "Ethash"
          ],
          [
           "Blake2b"
          ],
          [
           "X11"
          ],
          [
           "SHA-256"
          ],
          [
           "Scrypt"
          ],
          [
           "Scrypt"
          ],
          [
           "1GB AES Pattern Search"
          ],
          [
           "Scrypt"
          ],
          [
           "CryptoNight"
          ],
          [
           "SHA-256"
          ],
          [
           "SHA-256"
          ],
          [
           "X11"
          ],
          [
           "Scrypt-n"
          ],
          [
           "X11"
          ],
          [
           "Scrypt"
          ],
          [
           "Dagger"
          ],
          [
           "Scrypt"
          ],
          [
           "CryptoNight-Lite"
          ],
          [
           "X11GOST"
          ],
          [
           "SHA-256"
          ],
          [
           "Scrypt"
          ],
          [
           "X11"
          ],
          [
           "SHA-256"
          ],
          [
           "Scrypt"
          ],
          [
           "X11"
          ],
          [
           "Equihash"
          ],
          [
           "CryptoNight"
          ],
          [
           "SHA-256"
          ],
          [
           "Multiple"
          ],
          [
           "Scrypt"
          ],
          [
           "SHA-256"
          ],
          [
           "Scrypt"
          ],
          [
           "Scrypt"
          ],
          [
           "Scrypt-n"
          ],
          [
           "Lyra2Z"
          ],
          [
           "SHA-256"
          ],
          [
           "Quark"
          ],
          [
           "Ethash"
          ],
          [
           "SHA-256"
          ],
          [
           "Equihash"
          ],
          [
           "Scrypt"
          ],
          [
           "Equihash"
          ],
          [
           "X11"
          ],
          [
           "X11"
          ],
          [
           "CryptoNight"
          ],
          [
           "Scrypt"
          ],
          [
           "CryptoNight"
          ],
          [
           "Lyra2RE"
          ],
          [
           "X11"
          ],
          [
           "X11"
          ],
          [
           "Scrypt"
          ],
          [
           "CryptoNight-V7"
          ],
          [
           "Keccak"
          ],
          [
           "Scrypt"
          ],
          [
           "X11"
          ],
          [
           "Equihash"
          ],
          [
           "Scrypt"
          ],
          [
           "Lyra2RE"
          ],
          [
           "Ethash"
          ],
          [
           "X11"
          ],
          [
           "Dagger-Hashimoto"
          ],
          [
           "Scrypt"
          ],
          [
           "NIST5"
          ],
          [
           "Scrypt"
          ],
          [
           "Scrypt"
          ],
          [
           "Scrypt"
          ],
          [
           "SHA-256"
          ],
          [
           "Scrypt"
          ],
          [
           "CryptoNight-V7"
          ],
          [
           "Argon2d"
          ],
          [
           "Blake2b"
          ],
          [
           "Cloverhash"
          ],
          [
           "CryptoNight"
          ],
          [
           "X11"
          ],
          [
           "Scrypt"
          ],
          [
           "Scrypt"
          ],
          [
           "X11"
          ],
          [
           "X11"
          ],
          [
           "CryptoNight"
          ],
          [
           "Time Travel"
          ],
          [
           "Scrypt"
          ],
          [
           "Keccak"
          ],
          [
           "X11"
          ],
          [
           "SHA-256"
          ],
          [
           "Scrypt"
          ],
          [
           "Scrypt"
          ],
          [
           "Scrypt"
          ],
          [
           "Scrypt"
          ],
          [
           "Scrypt"
          ],
          [
           "Scrypt"
          ],
          [
           "Scrypt"
          ],
          [
           "Scrypt"
          ],
          [
           "CryptoNight"
          ],
          [
           "Equihash"
          ],
          [
           "X11"
          ],
          [
           "NeoScrypt"
          ],
          [
           "Equihash"
          ],
          [
           "Dagger"
          ],
          [
           "Scrypt"
          ],
          [
           "X11"
          ],
          [
           "NeoScrypt"
          ],
          [
           "Scrypt"
          ],
          [
           "Ethash"
          ],
          [
           "Scrypt"
          ],
          [
           "NeoScrypt"
          ],
          [
           "Multiple"
          ],
          [
           "CryptoNight"
          ],
          [
           "CryptoNight"
          ],
          [
           "Ethash"
          ],
          [
           "X11"
          ],
          [
           "SHA-256"
          ],
          [
           "CryptoNight-V7"
          ],
          [
           "Scrypt"
          ],
          [
           "BLAKE256"
          ],
          [
           "X11"
          ],
          [
           "NeoScrypt"
          ],
          [
           "NeoScrypt"
          ],
          [
           "Scrypt"
          ],
          [
           "X11"
          ],
          [
           "SHA-256"
          ],
          [
           "C11"
          ],
          [
           "Ethash"
          ],
          [
           "CryptoNight"
          ],
          [
           "SkunkHash"
          ],
          [
           "CryptoNight"
          ],
          [
           "Equihash"
          ],
          [
           "Skein"
          ],
          [
           "Scrypt"
          ],
          [
           "Dagger"
          ],
          [
           "Lyra2REv2"
          ],
          [
           "Scrypt"
          ],
          [
           "Scrypt"
          ],
          [
           "Scrypt"
          ],
          [
           "NeoScrypt"
          ],
          [
           "Equihash"
          ],
          [
           "X11"
          ],
          [
           "Ethash"
          ],
          [
           "X11"
          ],
          [
           "CryptoNight"
          ],
          [
           "NeoScrypt"
          ],
          [
           "Scrypt"
          ],
          [
           "IMesh"
          ],
          [
           "Equihash"
          ],
          [
           "Equihash"
          ],
          [
           "Equihash"
          ],
          [
           "Lyra2Z"
          ],
          [
           "X11"
          ],
          [
           "CryptoNight"
          ],
          [
           "NIST5"
          ],
          [
           "Lyra2RE"
          ],
          [
           "Tribus"
          ],
          [
           "Lyra2Z"
          ],
          [
           "CryptoNight"
          ],
          [
           "CryptoNight Heavy"
          ],
          [
           "CryptoNight"
          ],
          [
           "Jump Consistent Hash"
          ],
          [
           "CryptoNight"
          ],
          [
           "X16R"
          ],
          [
           "HMQ1725"
          ],
          [
           "X11"
          ],
          [
           "Scrypt"
          ],
          [
           "CryptoNight-V7"
          ],
          [
           "Cryptonight-GPU"
          ],
          [
           "XEVAN"
          ],
          [
           "CryptoNight Heavy"
          ],
          [
           "Lyra2REv2"
          ],
          [
           "SHA-256"
          ],
          [
           "X11"
          ],
          [
           "X16R"
          ],
          [
           "Equihash"
          ],
          [
           "Quark"
          ],
          [
           "CryptoNight Heavy X"
          ],
          [
           "Lyra2Z"
          ],
          [
           "Ethash"
          ],
          [
           "SHA-256"
          ],
          [
           "Ethash"
          ],
          [
           "CryptoNight"
          ],
          [
           "SkunkHash"
          ],
          [
           "Argon2"
          ],
          [
           "Blake"
          ],
          [
           "Blake"
          ],
          [
           "SHA-256"
          ],
          [
           "Equihash"
          ],
          [
           "Exosis"
          ],
          [
           "Scrypt"
          ],
          [
           "Equihash"
          ],
          [
           "Equihash"
          ],
          [
           "QuBit"
          ],
          [
           "Equihash1927"
          ],
          [
           "SHA-256"
          ],
          [
           "SHA-256"
          ],
          [
           "X13"
          ],
          [
           "SHA-256"
          ],
          [
           "X11"
          ],
          [
           "Scrypt"
          ],
          [
           "NeoScrypt"
          ],
          [
           "Blake"
          ],
          [
           "CryptoNight"
          ],
          [
           "Scrypt"
          ],
          [
           "SHA-256"
          ],
          [
           "CryptoNight"
          ],
          [
           "Scrypt"
          ],
          [
           "Groestl"
          ],
          [
           "Scrypt"
          ],
          [
           "Scrypt"
          ],
          [
           "Scrypt"
          ],
          [
           "Multiple"
          ],
          [
           "Equihash+Scrypt"
          ],
          [
           "Ethash"
          ],
          [
           "Ethash"
          ],
          [
           "CryptoNight"
          ],
          [
           "Equihash"
          ]
         ],
         "hovertemplate": "<b>%{hovertext}</b><br><br>class=%{marker.color}<br>PC 1=%{x}<br>PC 2=%{y}<br>PC 3=%{z}<br>Algorithm=%{customdata[0]}<extra></extra>",
         "hovertext": [
          "Bitcoin",
          "Ethereum",
          "Litecoin",
          "Monero",
          "Ethereum Classic",
          "ZCash",
          "DigiByte",
          "ProsperCoin",
          "Spreadcoin",
          "ACoin",
          "Argentum",
          "BetaCoin",
          "MyriadCoin",
          "MoonCoin",
          "ZetaCoin",
          "SexCoin",
          "Quatloo",
          "QuarkCoin",
          "Riecoin",
          "Digitalcoin ",
          "LimeCoinX",
          "BitMark",
          "Catcoin",
          "CannaCoin",
          "CryptCoin",
          "Verge",
          "DarkShibe",
          "DevCoin",
          "EarthCoin",
          "E-Gulden",
          "Elacoin",
          "Einsteinium",
          "Emerald",
          "Flappy Coin",
          "FireRoosterCoin",
          "Franko",
          "FeatherCoin",
          "GrandCoin",
          "GlobalCoin",
          "GoldCoin",
          "HunterCoin",
          "Infinite Coin",
          "IXcoin",
          "KrugerCoin",
          "LuckyCoin",
          "Litebar ",
          "LitecoinDark",
          "MegaCoin",
          "MediterraneanCoin",
          "MinCoin",
          "NoirBits",
          "NobleCoin",
          "Namecoin",
          "NyanCoin",
          "RipOffCoin",
          "RonPaulCoin",
          "StableCoin",
          "SmartCoin",
          "SpainCoin",
          "SecureCoin",
          "SysCoin",
          "TigerCoin",
          "TerraCoin",
          "Umbrella",
          "UnbreakableCoin",
          "Unobtanium",
          "UroCoin",
          "ViaCoin",
          "VootCoin",
          "Vertcoin",
          "WorldCoin",
          "JouleCoin",
          "ByteCoin",
          "DigitalNote ",
          "MonaCoin",
          "Sling Coin",
          "Gulden",
          "PesetaCoin",
          "Wild Beast Coin",
          "Flo",
          "ArtByte",
          "BitCredit",
          "Folding Coin",
          "Unitus",
          "CypherPunkCoin",
          "OmniCron",
          "GreenCoin",
          "Unattanium",
          "Cryptonite",
          "Gridmaster",
          "ConSpiracy Coin ",
          "MasterCoin",
          "SoonCoin",
          "1Credit",
          "Quicksilver coin",
          "MarsCoin ",
          "Crypto",
          "Anarchists Prime",
          "BowsCoin",
          "Song Coin",
          "BitZeny",
          "Expanse",
          "Siacoin",
          "MindCoin",
          "I0coin",
          "DogeCoinDark",
          "Revolution VR",
          "HOdlcoin",
          "Gamecredits",
          "Dashcoin",
          "CarpeDiemCoin",
          "Phalanx",
          "SunShotCoin",
          "HempCoin",
          "Adzcoin",
          "VirtaCoin",
          "SoilCoin",
          "YoCoin",
          "AEON",
          "SibCoin",
          "Anti Bitcoin",
          "Francs",
          "BolivarCoin",
          "Clinton",
          "Omni",
          "PizzaCoin",
          "Komodo",
          "Karbo",
          "ZayedCoin",
          "Circuits of Value",
          "DopeCoin",
          "DollarCoin",
          "Shilling",
          "GBR Coin",
          "FujiCoin",
          "ZCoin",
          "LeaCoin",
          "Zurcoin",
          "Elementrem",
          "CashOut",
          "ZClassic",
          "KiloCoin",
          "Hush",
          "ArtexCoin",
          "Kurrent",
          "Cannabis Industry Coin",
          "OsmiumCoin",
          "Bikercoins",
          "HexxCoin",
          "MarxCoin",
          "PacCoin",
          "Solarflarecoin",
          "Citadel",
          "CreativeChain",
          "BeaverCoin",
          "VaultCoin",
          "Zero",
          "Canada eCoin",
          "Zoin",
          "Musicoin",
          "BnrtxCoin",
          "DubaiCoin",
          "EB3coin",
          "Coinonat",
          "Bitcoin Scrypt",
          "BenjiRolls",
          "ParallelCoin",
          "ILCoin",
          "EquiTrader",
          "Quantum Resistant Ledger",
          "Dynamic",
          "Nano",
          "ChanCoin",
          "Dinastycoin",
          "DigitalPrice",
          "Unify",
          "SocialCoin",
          "ArcticCoin",
          "DAS",
          "LeviarCoin",
          "Bitcore",
          "gCn Coin",
          "SmartCash",
          "Onix",
          "Bitcoin Cash",
          "CampusCoin",
          "Sojourn Coin",
          "NewYorkCoin",
          "LiteBitcoin",
          "FrazCoin",
          "Kronecoin",
          "AdCoin",
          "Linx",
          "Sumokoin",
          "BitcoinZ",
          "Elements",
          "VIVO Coin",
          "Bitcoin Gold",
          "Pirl",
          "eBoost",
          "Pura",
          "Innova",
          "Bitdeal",
          "Ellaism",
          "Sakuracoin",
          "GoByte",
          "SHIELD",
          "UltraNote",
          "BitCoal",
          "DaxxCoin",
          "AC3",
          "CHIPS",
          "Lethean",
          "PopularCoin",
          "Photon",
          "Sucre",
          "SparksPay",
          "GunCoin",
          "IrishCoin",
          "Pioneer Coin",
          "UnitedBitcoin",
          "Interzone",
          "1717 Masonic Commemorative Token",
          "TurtleCoin",
          "MUNcoin",
          "Niobio Cash",
          "Bitcoin Private",
          "Skeincoin",
          "ShareChain",
          "Travelflex",
          "KREDS",
          "BitFlip",
          "LottoCoin",
          "LeafCoin",
          "Cerberus",
          "Bitcoin Hush",
          "Crypto Improvement Fund",
          "Callisto Network",
          "Curium",
          "BitTube",
          "Dinero",
          "Poseidon",
          "Aidos Kuneen",
          "Snowgem",
          "Bitrolium",
          "Bitcoin Interest",
          "Alpenschillling",
          "FuturoCoin",
          "Monero Classic",
          "Jumpcoin",
          "Infinex",
          "KEYCO",
          "GINcoin",
          "PlatinCoin",
          "Loki",
          "Newton Coin",
          "MassGrid",
          "PluraCoin",
          "Motion",
          "PlusOneCoin",
          "Axe",
          "HexCoin",
          "Webchain",
          "Ryo",
          "Urals Coin",
          "Qwertycoin",
          "NIX",
          "Project Pai",
          "Azart",
          "Xchange",
          "CrypticCoin",
          "ZestCoin",
          "X-CASH",
          "Actinium",
          "ETHER-1",
          "Bitcoin SV",
          "Bitcoiin2Gen",
          "FREDEnergy",
          "C25 Coin",
          "Aquachain",
          "Universal Molecule",
          "Lithium",
          "Smart Bitcoin",
          "PirateCash",
          "Exosis",
          "Block-Logic",
          "Beam",
          "Bithereum",
          "SLICE",
          "Vidulum",
          "BlockStamp",
          "BLAST",
          "Bitcoin Rhodium",
          "GlobalToken",
          "Boolberry",
          "SolarCoin",
          "UFO Coin",
          "BlakeCoin",
          "FantomCoin ",
          "Crypto Escudo",
          "Crown Coin",
          "Quazar Coin",
          "SmileyCoin",
          "Groestlcoin",
          "Bata",
          "Pakcoin",
          "Dotcoin",
          "JoinCoin",
          "Vollar",
          "Reality Clash",
          "iOlite",
          "Beldex",
          "Horizen"
         ],
         "legendgroup": "1",
         "marker": {
          "color": [
           1,
           1,
           1,
           1,
           1,
           1,
           1,
           1,
           1,
           1,
           1,
           1,
           1,
           1,
           1,
           1,
           1,
           1,
           1,
           1,
           1,
           1,
           1,
           1,
           1,
           1,
           1,
           1,
           1,
           1,
           1,
           1,
           1,
           1,
           1,
           1,
           1,
           1,
           1,
           1,
           1,
           1,
           1,
           1,
           1,
           1,
           1,
           1,
           1,
           1,
           1,
           1,
           1,
           1,
           1,
           1,
           1,
           1,
           1,
           1,
           1,
           1,
           1,
           1,
           1,
           1,
           1,
           1,
           1,
           1,
           1,
           1,
           1,
           1,
           1,
           1,
           1,
           1,
           1,
           1,
           1,
           1,
           1,
           1,
           1,
           1,
           1,
           1,
           1,
           1,
           1,
           1,
           1,
           1,
           1,
           1,
           1,
           1,
           1,
           1,
           1,
           1,
           1,
           1,
           1,
           1,
           1,
           1,
           1,
           1,
           1,
           1,
           1,
           1,
           1,
           1,
           1,
           1,
           1,
           1,
           1,
           1,
           1,
           1,
           1,
           1,
           1,
           1,
           1,
           1,
           1,
           1,
           1,
           1,
           1,
           1,
           1,
           1,
           1,
           1,
           1,
           1,
           1,
           1,
           1,
           1,
           1,
           1,
           1,
           1,
           1,
           1,
           1,
           1,
           1,
           1,
           1,
           1,
           1,
           1,
           1,
           1,
           1,
           1,
           1,
           1,
           1,
           1,
           1,
           1,
           1,
           1,
           1,
           1,
           1,
           1,
           1,
           1,
           1,
           1,
           1,
           1,
           1,
           1,
           1,
           1,
           1,
           1,
           1,
           1,
           1,
           1,
           1,
           1,
           1,
           1,
           1,
           1,
           1,
           1,
           1,
           1,
           1,
           1,
           1,
           1,
           1,
           1,
           1,
           1,
           1,
           1,
           1,
           1,
           1,
           1,
           1,
           1,
           1,
           1,
           1,
           1,
           1,
           1,
           1,
           1,
           1,
           1,
           1,
           1,
           1,
           1,
           1,
           1,
           1,
           1,
           1,
           1,
           1,
           1,
           1,
           1,
           1,
           1,
           1,
           1,
           1,
           1,
           1,
           1,
           1,
           1,
           1,
           1,
           1,
           1,
           1,
           1,
           1,
           1,
           1,
           1,
           1,
           1,
           1,
           1,
           1,
           1,
           1,
           1,
           1,
           1,
           1,
           1,
           1,
           1,
           1,
           1,
           1,
           1,
           1,
           1,
           1,
           1,
           1,
           1,
           1,
           1,
           1,
           1,
           1,
           1,
           1,
           1,
           1,
           1,
           1,
           1,
           1,
           1,
           1,
           1,
           1,
           1,
           1,
           1,
           1,
           1,
           1,
           1,
           1,
           1,
           1
          ],
          "coloraxis": "coloraxis",
          "symbol": "diamond"
         },
         "mode": "markers",
         "name": "1",
         "scene": "scene",
         "showlegend": true,
         "type": "scatter3d",
         "x": [
          -0.20516538620703528,
          -0.2572114256555344,
          -0.2968979539617073,
          -0.2532811593350379,
          -0.2571345778908483,
          -0.2582760453842499,
          -0.08110329603544465,
          -0.2976734255237386,
          -0.2439885521502832,
          -0.20540812739609732,
          -0.2975862594649588,
          -0.20540812747523654,
          -0.21268844299623046,
          -0.29775252919691125,
          -0.20310349118326393,
          -0.29600561847026186,
          -0.2976519034589445,
          0.011492940772050066,
          -0.22972987126147384,
          -0.29729869919580604,
          -0.24413952408524,
          -0.2977515308039443,
          -0.29765376963783796,
          -0.29768783832484913,
          -0.24407186285218616,
          -0.01985580697392224,
          -0.29775153073746724,
          0.048797482856076595,
          -0.12796820127120492,
          -0.2974683944005571,
          -0.2977515309273915,
          -0.29478791702998225,
          -0.2974875364004654,
          -0.29775179105931304,
          -0.20540812739870687,
          -0.2977360577034062,
          -0.26639921389292825,
          -0.2857801115425985,
          -0.2968622955734662,
          -0.29718745588586243,
          -0.23554808697059762,
          0.9289515699383943,
          -0.20512256908519577,
          -0.2957008686588107,
          -0.29748984456398064,
          -0.2977365774657146,
          -0.29775153094562284,
          -0.2972349372471118,
          -0.29561198714104125,
          -0.2976729394637231,
          -0.20540812752209567,
          -0.26571406984313023,
          -0.20520859059806146,
          -0.2932194326143814,
          -0.29775153076338534,
          -0.2977365800463208,
          -0.297423647975333,
          -0.29740498125695647,
          -0.2570878898661836,
          -0.2977515307868151,
          -0.19778032385430463,
          -0.2048186215381294,
          -0.20509757291277794,
          -0.2054081273987658,
          -0.20537728052278695,
          -0.20540540696522516,
          -0.2441231765622202,
          -0.29743805829778464,
          -0.24413952403057165,
          -0.26955746248169327,
          -0.29613200480394886,
          -0.20487740125921605,
          2.382359270303646,
          -0.01646198340752226,
          -0.2968281473767636,
          -0.20540812739453537,
          -0.2921318273664051,
          -0.2958894862031392,
          -0.29774906747845226,
          -0.29568972442577274,
          -0.28702025668609266,
          -0.21031168654350801,
          -0.2367548503892827,
          -0.2346664262739336,
          -0.24693952689186904,
          -0.29761423041572704,
          -0.23532566969770077,
          -0.20540812739193196,
          -0.23357328438932703,
          -0.2977515309508211,
          -0.24413952411647946,
          -0.2977431427497291,
          -0.20523937850389126,
          -0.29775057579324804,
          -0.24413952411647946,
          -0.24370323089053822,
          -0.2727719288196797,
          -0.20520844444695005,
          -0.24392472127447964,
          -0.2973105838748177,
          -0.29672768030441815,
          -0.258527403532368,
          0.3676607126283187,
          -0.2439246690293447,
          -0.2051238130712494,
          -0.2977515736861288,
          -0.2949080458825842,
          -0.25351964332043486,
          -0.2968059217580543,
          -0.10997996222300924,
          0.08895987676124674,
          -0.2054081274309812,
          -0.24413952988793283,
          -0.2570879027523786,
          -0.24352871211822713,
          -0.29775158540085134,
          -0.2766149300910724,
          -0.2977429132085334,
          -0.38766108043053904,
          -0.3045034045546587,
          -0.20540812750126963,
          -0.29766255937652797,
          -0.2439546422662032,
          -0.20540812739823505,
          -0.2977431837771531,
          -0.24412086653914514,
          -0.15772395079594054,
          -0.10987404328094878,
          -0.20532358328462752,
          -0.2220076833363817,
          -0.296169399350708,
          -0.20528481880883195,
          -0.2976009723206349,
          -0.29775153095993256,
          -0.25708788976205293,
          -0.22508076245979627,
          -0.20540813259847537,
          0.007978431525489087,
          -0.25831468023407744,
          -0.2054081276522593,
          -0.25830000521844265,
          -0.29509360241318744,
          -0.258376014968186,
          -0.2329822302535922,
          -0.24330862010216942,
          -0.10996671774859462,
          -0.29773942526361763,
          -0.10985326346350051,
          -0.27293260714965445,
          -0.2441395242925648,
          -0.23686882871265966,
          -0.2977515307842117,
          -0.2533655412561891,
          -0.2521966179271955,
          -0.2977093488807573,
          -0.24372809406599946,
          -0.2582822929492872,
          -0.29639961064267406,
          -0.2727068938659089,
          -0.2586695150045926,
          -0.24413952457725868,
          -0.3326563180023028,
          -0.29688365453656995,
          -0.2042364165747688,
          -0.2977515307868151,
          -0.2974769841969201,
          -0.2977515307347495,
          -0.18756529688966514,
          -0.297566387436211,
          -0.2525792943400419,
          -0.27668772556944865,
          -0.07869944652981241,
          -0.18135238865725148,
          -0.08547904644765977,
          -0.24366372828017638,
          -0.2975059999481868,
          -0.2976815571524222,
          -0.24378689998305358,
          -0.24410400913673982,
          -0.10978820574406388,
          -0.2304468032078718,
          1.910080274924033,
          -0.2218524554600121,
          -0.24248115694580138,
          -0.20516445984489654,
          -0.29775153336145055,
          -0.2977449880716271,
          1.6386169310616234,
          -0.2977515333354178,
          -0.29762013410939464,
          -0.297515200086341,
          -0.2973094809781258,
          -0.29729499551964844,
          -0.10985882108662373,
          -0.18780951919679376,
          -0.2075417638471652,
          -0.2691682685678278,
          -0.25814308800372143,
          -0.2762319409385695,
          -0.2963976257114372,
          -0.24176703095953697,
          -0.269138353909845,
          -0.2977515315131276,
          -0.25849678815274285,
          -0.2977515310057501,
          -0.26914570566858653,
          -0.2290252608129545,
          0.15110351941523997,
          -0.10991903037760858,
          -0.25161645333186583,
          -0.24305201135910146,
          -0.20540812744660078,
          -0.2475393648161623,
          -0.2440746468010878,
          0.32963083247977815,
          -0.24408226115395876,
          -0.2691184202254203,
          -0.26516529249812726,
          -0.29713567191506685,
          -0.24402472711007625,
          -0.20513507160394973,
          -0.25874129237331267,
          -0.09009829908812862,
          0.6095524125982662,
          -0.26326374774370137,
          -0.10816646297254737,
          -0.258376014968186,
          -0.27108065232627127,
          -0.16234749027681475,
          -0.27523891057624505,
          -0.26153311971573756,
          -0.29758300558104767,
          -0.10153735063648069,
          -0.29775158540085134,
          -0.2692246774745935,
          -0.258376014968186,
          -0.2412784693829787,
          -0.25531675743670645,
          -0.2441395240878436,
          -0.1088960676438519,
          -0.2692246776529178,
          -0.29769641845916645,
          -0.27035524012843876,
          -0.25837601513244185,
          -0.25740983292054687,
          -0.2583760149715702,
          -0.22481303928047627,
          -0.24370891957440338,
          -0.10976308737108838,
          -0.2040882012323315,
          -0.2728889861861613,
          -0.3030637881031975,
          -0.22508864134416462,
          -0.10997882228067124,
          0.2685066920319502,
          0.4491641522204148,
          -0.3218865626682778,
          -0.10239617322441705,
          -0.226880113075153,
          -0.30299144139567236,
          -0.24407191641918796,
          -0.2977323485956942,
          -0.2533031121294603,
          -0.28821040112841445,
          -0.12447147194100364,
          1.6162364639442244,
          -0.2702503757488018,
          -0.17697327889631248,
          -0.24407160702215872,
          -0.22685807100446687,
          -0.20103090273119098,
          0.007978431777225454,
          -0.3196009975988306,
          -0.22499861881491756,
          -0.2586695138559456,
          -0.205164501481647,
          -0.2586695140806957,
          -0.08469930098952465,
          -0.26332898998565674,
          -0.3106399721426214,
          -0.23137177245128504,
          -0.23117857176434464,
          -0.20540812744660014,
          -0.0896442398384332,
          -0.3151501881311005,
          -0.2972737616255154,
          -0.2578927920645697,
          -0.2580354631036341,
          -0.24685069524095124,
          -0.27794084918890616,
          -0.20540812766527547,
          -0.20470004774537495,
          -0.1644461487564665,
          -0.20426243204746566,
          -0.2441395240786019,
          -0.29699941238335376,
          -0.21743689743960865,
          -0.23107690053468694,
          -0.10997996222288761,
          -0.2871871631856693,
          -0.2050968751338453,
          -0.10997996222300924,
          0.10282758483052355,
          -0.2294082918205665,
          -0.2976831170833924,
          -0.2968079753422012,
          -0.2977515330490578,
          -0.2355029577425704,
          -0.29812779762558655,
          -0.25833793716306674,
          -0.25866951642364,
          -0.0967073532775009,
          -0.2582772168833077
         ],
         "y": [
          -1.4399987306293622,
          -2.098441585425546,
          -1.0610086477622334,
          -2.200521961269031,
          -2.098451360345468,
          -2.0044949695365277,
          -1.7733852067245974,
          -1.0609099846036996,
          -0.848652337513943,
          -1.4399678466917225,
          -1.0609210743061661,
          -1.4399678463217254,
          -1.7566437418470557,
          -1.0608953739599323,
          -1.4402610655200336,
          -1.0611221783981208,
          -1.0609127219389136,
          -0.651283456211232,
          -1.1427479800965754,
          -1.0609576610305338,
          -0.8486331292147932,
          -1.0609000471247598,
          -1.0609124854387308,
          -1.0609081509438525,
          -0.8486417378463713,
          -1.7811778293238447,
          -1.060900047435558,
          -1.472310393436178,
          -1.082501564608406,
          -1.0609360708873699,
          -1.0609000465476124,
          -1.0612771069954556,
          -1.0609336353042516,
          -1.0608988303635325,
          -1.4399678466795227,
          -1.0609020159739735,
          -1.5699467200110033,
          -1.0624231644560924,
          -1.061013184774968,
          -1.0609718143260956,
          -1.7537353131413123,
          -1.2169734505289929,
          -1.4400041782880832,
          -1.0611609517924832,
          -1.060933341776727,
          -1.06090194996122,
          -1.0609000464623766,
          -1.060965773590341,
          -2.260314634066535,
          -1.0609100465757648,
          -1.4399678461026484,
          -1.0649760231810217,
          -1.4399932336980548,
          -1.0614766661572086,
          -1.0609000473143835,
          -1.0609019494002359,
          -1.0609417613016927,
          -1.0609441386378442,
          -2.2283347064612937,
          -1.0609000472048449,
          -1.4409383281100134,
          -1.44004284948427,
          -1.4400073583236614,
          -1.4399678466792476,
          -1.439971770437336,
          -1.4399681928304333,
          -0.8486352093726448,
          -1.0609399305517713,
          -0.8486331294703836,
          -1.447073755285727,
          -1.061106097975131,
          -1.4400353709143323,
          -2.641520610602603,
          -2.336318613928979,
          -1.0610175290631805,
          -1.4399678466990256,
          -1.0616150271944171,
          -1.0611369549949168,
          -1.0609003608311764,
          -1.0611623709308589,
          -1.0622653847177486,
          -2.311321824296826,
          -2.282160667637012,
          -1.7538474880766723,
          -1.0988567714792652,
          -1.060917516256209,
          -1.0688424242998387,
          -1.4399678467111963,
          -2.206492339398437,
          -1.0609000464380736,
          -0.8486331290687419,
          -1.0609011146632166,
          -1.4399893165266875,
          -1.0608990797008848,
          -0.8486331290687419,
          -0.8486886390258576,
          -2.2135355716151217,
          -1.439993251905114,
          -0.8486604587585604,
          -1.0609561470138291,
          -1.0610303098586484,
          -2.098274152244152,
          -2.229300412199706,
          -0.8486604654649524,
          -1.4400040200146829,
          -1.0608998466394464,
          -1.0612618239627893,
          -2.268467591223611,
          -1.0610203570975516,
          -2.3244203603595794,
          -1.4774202814556923,
          -1.439967846528632,
          -0.8486331020857034,
          -2.2283346462149973,
          -0.8487108425934244,
          -1.0608997918700853,
          -2.210399639087677,
          -1.060901141882034,
          -2.2358913356077244,
          -2.2927075466191775,
          -1.4399678462000156,
          -1.0609113671246635,
          -0.8486566518380515,
          -1.439967846681728,
          -1.0609011094432985,
          -0.8486355029828455,
          -1.3683040736604741,
          -2.3244338366164055,
          -1.4399786032143913,
          -1.755458056467607,
          -1.0611013410098018,
          -1.4399835352408354,
          -1.0609192027796135,
          -1.0609000463954756,
          -2.2283347069481327,
          -2.2279055707681046,
          -1.4399678223692585,
          -0.6508363036520765,
          -2.098301217099685,
          -1.4399678454940996,
          -2.004491921106505,
          -1.0612380995368702,
          -2.004482250321588,
          -0.8500526754992068,
          -0.8487388433823424,
          -2.3244220454350613,
          -1.0609015876173247,
          -2.324436480272604,
          -2.2135151290354718,
          -0.8486331282454973,
          -0.8495570022260196,
          -1.0609000472170156,
          -2.200511223095292,
          -1.498392538538768,
          -1.060905414253376,
          -0.8486854642139187,
          -2.004494174700888,
          -1.0610720522158796,
          -2.213543846597731,
          -2.0982560660953133,
          -0.8486331269144805,
          -2.287461989186375,
          -1.0610104207257525,
          -0.5185448764257936,
          -1.0609000472048449,
          -1.0609349778283759,
          -1.0609000474482642,
          -1.4422379755674493,
          -1.0609236025465176,
          -2.200611258904356,
          -2.170742071623663,
          -2.172509626604979,
          -2.1436324870401675,
          -2.3275376091895055,
          -0.8486936641832087,
          -1.0609312863220572,
          -1.0609089493703403,
          -0.8486779934165919,
          -0.8486376478366713,
          -2.324444757278065,
          -2.1869183550254054,
          -1.3418019923986044,
          -1.5022531942243134,
          -0.8488441118971567,
          -1.439998848491203,
          -1.0609000351677564,
          -1.0609007555712788,
          -1.3072658489069044,
          -1.0609000352894657,
          -1.060916764927378,
          -1.0609301150143713,
          -1.0609562886415245,
          -1.0609581316386905,
          -2.3244357724150726,
          -2.0134602370332386,
          -0.8532894722220908,
          -1.5695944144950233,
          -2.0045118858168007,
          -2.2104483656268874,
          -1.0610723047603643,
          -0.8489349796317871,
          -1.5695982203492111,
          -1.0609000438091443,
          -2.0982780443499007,
          -1.0609000461812663,
          -1.5695972851349969,
          -1.7545652105277794,
          -2.3576372269682606,
          -2.324428112840349,
          -2.099153320101333,
          -0.8487714881179285,
          -1.4399678464556067,
          -2.201252482821131,
          -1.0677293437225508,
          -1.287113853498515,
          -0.8486404148403076,
          -1.5696007568129389,
          -1.5701037109347173,
          -1.0609784029422398,
          -0.8486477349076126,
          -1.4400025875918936,
          -1.141630628055809,
          -0.3026717269681494,
          -2.4159552350418427,
          -1.472272367650881,
          -2.3246510896473227,
          -2.004482250321588,
          -0.830629991684073,
          -1.078127499953506,
          -2.2105747103886393,
          -1.4480946871913432,
          -1.0609214885847293,
          -1.0858643260507597,
          -1.0608997918700853,
          -1.5695872374887012,
          -2.004482250321588,
          -0.8489971379595127,
          -2.0986825687113275,
          -0.8486331292026226,
          -2.3245582535646876,
          -1.5695872366549901,
          -1.0609070591930272,
          -2.151384553515922,
          -2.0044822495536483,
          -2.0046051779026897,
          -2.0044822503057658,
          -2.2279396301166847,
          -0.8486879144565219,
          -2.3244479535314535,
          -0.5185637343121563,
          -2.2135206787748962,
          -2.1997735252339465,
          -2.2279045684600174,
          -2.324420498509957,
          -2.346276462641185,
          -2.3955585619018223,
          -2.196219989005327,
          -2.325385240643622,
          -1.2586153200537842,
          -2.2384980603849765,
          -0.8486417309954769,
          -1.0609024877582016,
          -2.2005191474768133,
          -2.2103634064223736,
          -0.8285510453289594,
          -2.5177470821015846,
          -1.4469855942657406,
          -1.4435856117347414,
          -0.8486417703129644,
          -1.258618123562525,
          -2.011778227847027,
          -0.6508363048290089,
          -2.2321958915862656,
          -2.2279160212325317,
          -2.098256071465536,
          -1.4399988431937234,
          -2.09825607041477,
          -2.327636744879677,
          -1.4722640669494287,
          -2.090050941510417,
          -1.8245056077279216,
          -1.8245301897610482,
          -1.439967846455609,
          -0.20891833291801995,
          -2.2198888527959646,
          -1.060960833008252,
          -2.0045437283185388,
          -2.0045255789070566,
          -1.0988680724215665,
          -2.238334932378098,
          -1.439967845433245,
          -1.44005793552734,
          -0.28164517135895173,
          -1.4401136125123508,
          -0.8486331292458293,
          -1.0609945786360266,
          -1.5761761936728536,
          -1.8245430428982503,
          -2.3244203603601483,
          -1.06224414906227,
          -1.4400074471026667,
          -2.3244203603595794,
          -1.1118654760394167,
          -1.1427888946729083,
          -1.0609087517277822,
          -1.0610200946580033,
          -1.0609000366282726,
          -1.7537410554353832,
          -2.259820463005202,
          -2.0982982581212237,
          -2.098256059460898,
          -2.326109029291087,
          -2.0044948204857085
         ],
         "z": [
          0.10591664309476306,
          0.2671579156606921,
          -0.005585009130556973,
          0.21771440835856146,
          0.26715539911356195,
          0.25042971349095444,
          0.2161538923226338,
          -0.005559626154468318,
          -0.012723294677689997,
          0.1059245885729881,
          -0.005562479502335912,
          0.10592458840516225,
          0.22046102481533744,
          -0.00555918945364573,
          0.10584915261120992,
          -0.005614217857245016,
          -0.0055603310544361595,
          0.11904130192343215,
          0.06662738734966715,
          -0.0055718917946775024,
          -0.01271835309177492,
          -0.00555706966062898,
          -0.005560269528080481,
          -0.00555915435268729,
          -0.012720567752643408,
          0.21414917329441982,
          -0.005557069519655093,
          0.09760384962330676,
          -0.011114468549340775,
          -0.005566337203512716,
          -0.005557069922415083,
          -0.005654075763644703,
          -0.005565710712006484,
          -0.0055576215672964195,
          0.10592458856745425,
          -0.005557576032294326,
          0.12042904843248377,
          -0.005948924231995338,
          -0.005586176217268566,
          -0.005575533129581233,
          0.22120927434897977,
          -0.04570984571171517,
          0.10591524161093946,
          -0.005624192970404486,
          -0.00556563509426298,
          -0.005557558964091099,
          -0.005557069961076894,
          -0.005573978806986757,
          0.3522305632544682,
          -0.00555964200245082,
          0.10592458830579164,
          -0.0066057991275482765,
          0.10591805725464647,
          -0.0057054153770657035,
          -0.005557069574618311,
          -0.005557558989777303,
          -0.005567803120754017,
          -0.0055684130026450165,
          0.28615206317991815,
          -0.005557069624303619,
          0.1056749114426516,
          0.10590529269800963,
          0.10591442332212052,
          0.10592458856732957,
          0.10592357845810149,
          0.10592449953580652,
          -0.012718888058810237,
          -0.005567330171649021,
          -0.012718352975842532,
          0.1573271857069688,
          -0.005610081084511729,
          0.10590721667860999,
          0.18618921852885997,
          0.2647080665898746,
          -0.005587294147975872,
          0.10592458857630044,
          -0.005741022243192998,
          -0.005618018613078215,
          -0.005557150149966826,
          -0.00562455715085977,
          -0.005908329622824871,
          0.489853171232684,
          0.3006145494481366,
          0.22118041619412634,
          0.04393869981482378,
          -0.005561563621352305,
          -0.007600439813195079,
          0.10592458858182081,
          0.24927362119592383,
          -0.005557069972100647,
          -0.012718353158021788,
          -0.005557344066070599,
          0.10591906499992335,
          -0.00555761649881632,
          -0.012718353158021788,
          -0.012732633844737195,
          0.2845131816950954,
          0.10591805228720354,
          -0.012725383986282566,
          -0.00557150369563836,
          -0.005590583433812474,
          0.2672009899632843,
          0.19319444791636087,
          -0.012725385668334002,
          0.1059152823289111,
          -0.005557160598094016,
          -0.005650143220072349,
          0.3234040862109582,
          -0.005588021515315309,
          0.26776913948971376,
          0.0962892564489694,
          0.10592458849901226,
          -0.012718365397168295,
          0.2861520358530015,
          -0.012738346453825591,
          -0.005557185440745371,
          0.24966151343310572,
          -0.005557352519650355,
          0.08132150005680099,
          0.38654965103070743,
          0.10592458834995624,
          -0.005559981818020112,
          -0.0127244046391359,
          0.10592458856845444,
          -0.005557342723149448,
          -0.012718963810295941,
          0.364854056146674,
          0.2677656726135854,
          0.1059218212417611,
          0.22076606532577012,
          -0.00560885672488474,
          0.10592055240349248,
          -0.005561997732676651,
          -0.005557069991422904,
          0.28615206340074234,
          0.3294753925915268,
          0.10592457754064252,
          0.11915633900964435,
          0.26719402708294854,
          0.10592458802976217,
          0.250430497740779,
          -0.005644124491346466,
          0.25043298568090455,
          -0.01308355470355968,
          -0.012745551281070478,
          0.2677687059591816,
          -0.005557465758030882,
          0.2677649923675217,
          0.28451844130767584,
          -0.012718353531434651,
          -0.012956896902424318,
          -0.005557069618783493,
          0.21771716929831936,
          0.1276233259239439,
          -0.005558450217460259,
          -0.012731825447684803,
          0.25042991800777203,
          -0.005601320921620849,
          0.2845110532314819,
          0.2672056390801262,
          -0.012718354135166199,
          0.14981501380709214,
          -0.005585499129571002,
          -0.05065782751417411,
          -0.005557069624303619,
          -0.005566056124940327,
          -0.0055570695138920925,
          0.1053405456221883,
          -0.005563129995550494,
          0.21769143442653832,
          0.14251310845245913,
          0.20780464212484978,
          0.34552012272536214,
          0.26696716795303116,
          -0.012733927214049591,
          -0.005565106294511637,
          -0.005559360293888449,
          -0.012729895351469267,
          -0.01271951555015597,
          0.26776286274509836,
          0.4170395188857663,
          -0.07782462173300723,
          0.1266300778062526,
          -0.01277264057358082,
          0.10591661277322229,
          -0.005557075084166215,
          -0.005557342522679498,
          -0.06893800169794582,
          -0.005557075028960988,
          -0.005561370475722786,
          -0.005564805519746532,
          -0.005571539177510342,
          -0.0055720133134403715,
          0.2677651739206888,
          0.2481230957522114,
          -0.013916275654841674,
          0.12051968646145603,
          0.2504253615492213,
          0.24964897677955625,
          -0.0056013858921025814,
          -0.012796011037639658,
          0.12051870719829695,
          -0.005557071164548145,
          0.26719998639026027,
          -0.005557070088585122,
          0.12051894790899628,
          0.2209957666830255,
          0.259222916372733,
          0.26776714511070643,
          0.26697472577850845,
          -0.012753952366370015,
          0.1059245884658886,
          0.21752646316864127,
          -0.007314041532122238,
          0.05004856906753851,
          -0.012720227407025437,
          0.12051805486636284,
          0.12038865897665608,
          -0.0055772280687938275,
          -0.012722110620959811,
          0.10591565084624888,
          0.06912441305795035,
          0.12703424987047401,
          0.24421190425827566,
          -0.015460272083122088,
          0.2677097785146232,
          0.25043298568090455,
          0.016270462194480643,
          -0.009989151017936182,
          0.24961647336912846,
          0.1570645283856372,
          -0.005562585873453947,
          -0.011979626833822888,
          -0.005557185440745371,
          0.12052153280440071,
          0.25043298568090455,
          -0.012812003405310798,
          0.2670958632171221,
          -0.012718353097295493,
          0.2677336561068591,
          0.12052153242624024,
          -0.005558873553034285,
          0.20461834022293407,
          0.2504329853325774,
          0.25040136047529804,
          0.25043298567372746,
          0.3294666279534005,
          -0.012732448019148626,
          0.26776204077371646,
          -0.05066267872453847,
          0.2845170134213507,
          0.09478415218803568,
          0.3294756505431322,
          0.2677690989172124,
          0.3529176737888038,
          0.2494662839118417,
          0.27797374165806904,
          0.267520902503624,
          0.1427682901913245,
          0.17290319442749266,
          -0.012720566016113478,
          -0.005557697499202334,
          0.21771511710410452,
          0.2663729776006555,
          -0.008854479210001338,
          0.30880294472627173,
          0.15734986553359656,
          0.10499385146481245,
          -0.012720576165675361,
          0.14276756827662954,
          0.24855593128188727,
          0.1191563395434852,
          0.12542706995186714,
          0.32947270352671015,
          0.2672056415159879,
          0.10591661413607033,
          0.2672056410393749,
          0.2669416113543102,
          -0.015458136524641352,
          0.191657384255261,
          0.2957703078933979,
          0.29576398452433367,
          0.10592458846589002,
          0.11025633805843844,
          0.03093571665938875,
          -0.0055727084503055455,
          0.2504171675432906,
          0.2504218387311519,
          0.04393579162950507,
          0.18308887418006758,
          0.10592458800215897,
          0.10590141146255781,
          -0.11486171973206272,
          0.10588708690587853,
          -0.012718353077697352,
          -0.0055822376661878335,
          0.11882640043829756,
          0.29576061753719535,
          0.2677691394899715,
          -0.005902866463441389,
          0.10591440048252143,
          0.26776913948971376,
          -0.018669047422508807,
          0.06661686134023645,
          -0.005559308842047907,
          -0.005587954847064488,
          -0.0055570744216955435,
          0.22120779740536822,
          0.1869267702293692,
          0.26719478833501026,
          0.2672056360708441,
          0.26733469462904713,
          0.25042975183629196
         ]
        },
        {
         "customdata": [
          [
           "VeChainThor Authority"
          ],
          [
           "Proof-of-Authority"
          ],
          [
           "ECC 256K1"
          ],
          [
           "SHA3-256"
          ],
          [
           "Leased POS"
          ]
         ],
         "hovertemplate": "<b>%{hovertext}</b><br><br>class=%{marker.color}<br>PC 1=%{x}<br>PC 2=%{y}<br>PC 3=%{z}<br>Algorithm=%{customdata[0]}<extra></extra>",
         "hovertext": [
          "Vechain",
          "Poa Network",
          "Acute Angle Cloud",
          "Fiii",
          "Waves"
         ],
         "legendgroup": "2",
         "marker": {
          "color": [
           2,
           2,
           2,
           2,
           2
          ],
          "coloraxis": "coloraxis",
          "symbol": "square"
         },
         "mode": "markers",
         "name": "2",
         "scene": "scene",
         "showlegend": true,
         "type": "scatter3d",
         "x": [
          7.535226120971721,
          0.11527773781039677,
          0.36234118692969775,
          -0.7833199641134508,
          -0.20094292415618928
         ],
         "y": [
          0.16959631586215834,
          3.107976082775873,
          3.2658339636733924,
          2.409332712056305,
          2.5883527276869125
         ],
         "z": [
          10.12560873726865,
          25.19095952940306,
          12.47861463671755,
          13.551208706570176,
          13.936552453842987
         ]
        },
        {
         "customdata": [
          [
           "TRC10"
          ]
         ],
         "hovertemplate": "<b>%{hovertext}</b><br><br>class=%{marker.color}<br>PC 1=%{x}<br>PC 2=%{y}<br>PC 3=%{z}<br>Algorithm=%{customdata[0]}<extra></extra>",
         "hovertext": [
          "BitTorrent"
         ],
         "legendgroup": "3",
         "marker": {
          "color": [
           3
          ],
          "coloraxis": "coloraxis",
          "symbol": "x"
         },
         "mode": "markers",
         "name": "3",
         "scene": "scene",
         "showlegend": true,
         "type": "scatter3d",
         "x": [
          31.783408407449
         ],
         "y": [
          -2.735010652453495
         ],
         "z": [
          -1.4460963765123103
         ]
        }
       ],
       "layout": {
        "coloraxis": {
         "colorbar": {
          "title": {
           "text": "class"
          }
         },
         "colorscale": [
          [
           0,
           "#0d0887"
          ],
          [
           0.1111111111111111,
           "#46039f"
          ],
          [
           0.2222222222222222,
           "#7201a8"
          ],
          [
           0.3333333333333333,
           "#9c179e"
          ],
          [
           0.4444444444444444,
           "#bd3786"
          ],
          [
           0.5555555555555556,
           "#d8576b"
          ],
          [
           0.6666666666666666,
           "#ed7953"
          ],
          [
           0.7777777777777778,
           "#fb9f3a"
          ],
          [
           0.8888888888888888,
           "#fdca26"
          ],
          [
           1,
           "#f0f921"
          ]
         ]
        },
        "legend": {
         "title": {
          "text": "class"
         },
         "tracegroupgap": 0,
         "x": 0,
         "y": 1
        },
        "margin": {
         "t": 60
        },
        "scene": {
         "domain": {
          "x": [
           0,
           1
          ],
          "y": [
           0,
           1
          ]
         },
         "xaxis": {
          "title": {
           "text": "PC 1"
          }
         },
         "yaxis": {
          "title": {
           "text": "PC 2"
          }
         },
         "zaxis": {
          "title": {
           "text": "PC 3"
          }
         }
        },
        "template": {
         "data": {
          "bar": [
           {
            "error_x": {
             "color": "#2a3f5f"
            },
            "error_y": {
             "color": "#2a3f5f"
            },
            "marker": {
             "line": {
              "color": "#E5ECF6",
              "width": 0.5
             },
             "pattern": {
              "fillmode": "overlay",
              "size": 10,
              "solidity": 0.2
             }
            },
            "type": "bar"
           }
          ],
          "barpolar": [
           {
            "marker": {
             "line": {
              "color": "#E5ECF6",
              "width": 0.5
             },
             "pattern": {
              "fillmode": "overlay",
              "size": 10,
              "solidity": 0.2
             }
            },
            "type": "barpolar"
           }
          ],
          "carpet": [
           {
            "aaxis": {
             "endlinecolor": "#2a3f5f",
             "gridcolor": "white",
             "linecolor": "white",
             "minorgridcolor": "white",
             "startlinecolor": "#2a3f5f"
            },
            "baxis": {
             "endlinecolor": "#2a3f5f",
             "gridcolor": "white",
             "linecolor": "white",
             "minorgridcolor": "white",
             "startlinecolor": "#2a3f5f"
            },
            "type": "carpet"
           }
          ],
          "choropleth": [
           {
            "colorbar": {
             "outlinewidth": 0,
             "ticks": ""
            },
            "type": "choropleth"
           }
          ],
          "contour": [
           {
            "colorbar": {
             "outlinewidth": 0,
             "ticks": ""
            },
            "colorscale": [
             [
              0,
              "#0d0887"
             ],
             [
              0.1111111111111111,
              "#46039f"
             ],
             [
              0.2222222222222222,
              "#7201a8"
             ],
             [
              0.3333333333333333,
              "#9c179e"
             ],
             [
              0.4444444444444444,
              "#bd3786"
             ],
             [
              0.5555555555555556,
              "#d8576b"
             ],
             [
              0.6666666666666666,
              "#ed7953"
             ],
             [
              0.7777777777777778,
              "#fb9f3a"
             ],
             [
              0.8888888888888888,
              "#fdca26"
             ],
             [
              1,
              "#f0f921"
             ]
            ],
            "type": "contour"
           }
          ],
          "contourcarpet": [
           {
            "colorbar": {
             "outlinewidth": 0,
             "ticks": ""
            },
            "type": "contourcarpet"
           }
          ],
          "heatmap": [
           {
            "colorbar": {
             "outlinewidth": 0,
             "ticks": ""
            },
            "colorscale": [
             [
              0,
              "#0d0887"
             ],
             [
              0.1111111111111111,
              "#46039f"
             ],
             [
              0.2222222222222222,
              "#7201a8"
             ],
             [
              0.3333333333333333,
              "#9c179e"
             ],
             [
              0.4444444444444444,
              "#bd3786"
             ],
             [
              0.5555555555555556,
              "#d8576b"
             ],
             [
              0.6666666666666666,
              "#ed7953"
             ],
             [
              0.7777777777777778,
              "#fb9f3a"
             ],
             [
              0.8888888888888888,
              "#fdca26"
             ],
             [
              1,
              "#f0f921"
             ]
            ],
            "type": "heatmap"
           }
          ],
          "heatmapgl": [
           {
            "colorbar": {
             "outlinewidth": 0,
             "ticks": ""
            },
            "colorscale": [
             [
              0,
              "#0d0887"
             ],
             [
              0.1111111111111111,
              "#46039f"
             ],
             [
              0.2222222222222222,
              "#7201a8"
             ],
             [
              0.3333333333333333,
              "#9c179e"
             ],
             [
              0.4444444444444444,
              "#bd3786"
             ],
             [
              0.5555555555555556,
              "#d8576b"
             ],
             [
              0.6666666666666666,
              "#ed7953"
             ],
             [
              0.7777777777777778,
              "#fb9f3a"
             ],
             [
              0.8888888888888888,
              "#fdca26"
             ],
             [
              1,
              "#f0f921"
             ]
            ],
            "type": "heatmapgl"
           }
          ],
          "histogram": [
           {
            "marker": {
             "pattern": {
              "fillmode": "overlay",
              "size": 10,
              "solidity": 0.2
             }
            },
            "type": "histogram"
           }
          ],
          "histogram2d": [
           {
            "colorbar": {
             "outlinewidth": 0,
             "ticks": ""
            },
            "colorscale": [
             [
              0,
              "#0d0887"
             ],
             [
              0.1111111111111111,
              "#46039f"
             ],
             [
              0.2222222222222222,
              "#7201a8"
             ],
             [
              0.3333333333333333,
              "#9c179e"
             ],
             [
              0.4444444444444444,
              "#bd3786"
             ],
             [
              0.5555555555555556,
              "#d8576b"
             ],
             [
              0.6666666666666666,
              "#ed7953"
             ],
             [
              0.7777777777777778,
              "#fb9f3a"
             ],
             [
              0.8888888888888888,
              "#fdca26"
             ],
             [
              1,
              "#f0f921"
             ]
            ],
            "type": "histogram2d"
           }
          ],
          "histogram2dcontour": [
           {
            "colorbar": {
             "outlinewidth": 0,
             "ticks": ""
            },
            "colorscale": [
             [
              0,
              "#0d0887"
             ],
             [
              0.1111111111111111,
              "#46039f"
             ],
             [
              0.2222222222222222,
              "#7201a8"
             ],
             [
              0.3333333333333333,
              "#9c179e"
             ],
             [
              0.4444444444444444,
              "#bd3786"
             ],
             [
              0.5555555555555556,
              "#d8576b"
             ],
             [
              0.6666666666666666,
              "#ed7953"
             ],
             [
              0.7777777777777778,
              "#fb9f3a"
             ],
             [
              0.8888888888888888,
              "#fdca26"
             ],
             [
              1,
              "#f0f921"
             ]
            ],
            "type": "histogram2dcontour"
           }
          ],
          "mesh3d": [
           {
            "colorbar": {
             "outlinewidth": 0,
             "ticks": ""
            },
            "type": "mesh3d"
           }
          ],
          "parcoords": [
           {
            "line": {
             "colorbar": {
              "outlinewidth": 0,
              "ticks": ""
             }
            },
            "type": "parcoords"
           }
          ],
          "pie": [
           {
            "automargin": true,
            "type": "pie"
           }
          ],
          "scatter": [
           {
            "marker": {
             "colorbar": {
              "outlinewidth": 0,
              "ticks": ""
             }
            },
            "type": "scatter"
           }
          ],
          "scatter3d": [
           {
            "line": {
             "colorbar": {
              "outlinewidth": 0,
              "ticks": ""
             }
            },
            "marker": {
             "colorbar": {
              "outlinewidth": 0,
              "ticks": ""
             }
            },
            "type": "scatter3d"
           }
          ],
          "scattercarpet": [
           {
            "marker": {
             "colorbar": {
              "outlinewidth": 0,
              "ticks": ""
             }
            },
            "type": "scattercarpet"
           }
          ],
          "scattergeo": [
           {
            "marker": {
             "colorbar": {
              "outlinewidth": 0,
              "ticks": ""
             }
            },
            "type": "scattergeo"
           }
          ],
          "scattergl": [
           {
            "marker": {
             "colorbar": {
              "outlinewidth": 0,
              "ticks": ""
             }
            },
            "type": "scattergl"
           }
          ],
          "scattermapbox": [
           {
            "marker": {
             "colorbar": {
              "outlinewidth": 0,
              "ticks": ""
             }
            },
            "type": "scattermapbox"
           }
          ],
          "scatterpolar": [
           {
            "marker": {
             "colorbar": {
              "outlinewidth": 0,
              "ticks": ""
             }
            },
            "type": "scatterpolar"
           }
          ],
          "scatterpolargl": [
           {
            "marker": {
             "colorbar": {
              "outlinewidth": 0,
              "ticks": ""
             }
            },
            "type": "scatterpolargl"
           }
          ],
          "scatterternary": [
           {
            "marker": {
             "colorbar": {
              "outlinewidth": 0,
              "ticks": ""
             }
            },
            "type": "scatterternary"
           }
          ],
          "surface": [
           {
            "colorbar": {
             "outlinewidth": 0,
             "ticks": ""
            },
            "colorscale": [
             [
              0,
              "#0d0887"
             ],
             [
              0.1111111111111111,
              "#46039f"
             ],
             [
              0.2222222222222222,
              "#7201a8"
             ],
             [
              0.3333333333333333,
              "#9c179e"
             ],
             [
              0.4444444444444444,
              "#bd3786"
             ],
             [
              0.5555555555555556,
              "#d8576b"
             ],
             [
              0.6666666666666666,
              "#ed7953"
             ],
             [
              0.7777777777777778,
              "#fb9f3a"
             ],
             [
              0.8888888888888888,
              "#fdca26"
             ],
             [
              1,
              "#f0f921"
             ]
            ],
            "type": "surface"
           }
          ],
          "table": [
           {
            "cells": {
             "fill": {
              "color": "#EBF0F8"
             },
             "line": {
              "color": "white"
             }
            },
            "header": {
             "fill": {
              "color": "#C8D4E3"
             },
             "line": {
              "color": "white"
             }
            },
            "type": "table"
           }
          ]
         },
         "layout": {
          "annotationdefaults": {
           "arrowcolor": "#2a3f5f",
           "arrowhead": 0,
           "arrowwidth": 1
          },
          "autotypenumbers": "strict",
          "coloraxis": {
           "colorbar": {
            "outlinewidth": 0,
            "ticks": ""
           }
          },
          "colorscale": {
           "diverging": [
            [
             0,
             "#8e0152"
            ],
            [
             0.1,
             "#c51b7d"
            ],
            [
             0.2,
             "#de77ae"
            ],
            [
             0.3,
             "#f1b6da"
            ],
            [
             0.4,
             "#fde0ef"
            ],
            [
             0.5,
             "#f7f7f7"
            ],
            [
             0.6,
             "#e6f5d0"
            ],
            [
             0.7,
             "#b8e186"
            ],
            [
             0.8,
             "#7fbc41"
            ],
            [
             0.9,
             "#4d9221"
            ],
            [
             1,
             "#276419"
            ]
           ],
           "sequential": [
            [
             0,
             "#0d0887"
            ],
            [
             0.1111111111111111,
             "#46039f"
            ],
            [
             0.2222222222222222,
             "#7201a8"
            ],
            [
             0.3333333333333333,
             "#9c179e"
            ],
            [
             0.4444444444444444,
             "#bd3786"
            ],
            [
             0.5555555555555556,
             "#d8576b"
            ],
            [
             0.6666666666666666,
             "#ed7953"
            ],
            [
             0.7777777777777778,
             "#fb9f3a"
            ],
            [
             0.8888888888888888,
             "#fdca26"
            ],
            [
             1,
             "#f0f921"
            ]
           ],
           "sequentialminus": [
            [
             0,
             "#0d0887"
            ],
            [
             0.1111111111111111,
             "#46039f"
            ],
            [
             0.2222222222222222,
             "#7201a8"
            ],
            [
             0.3333333333333333,
             "#9c179e"
            ],
            [
             0.4444444444444444,
             "#bd3786"
            ],
            [
             0.5555555555555556,
             "#d8576b"
            ],
            [
             0.6666666666666666,
             "#ed7953"
            ],
            [
             0.7777777777777778,
             "#fb9f3a"
            ],
            [
             0.8888888888888888,
             "#fdca26"
            ],
            [
             1,
             "#f0f921"
            ]
           ]
          },
          "colorway": [
           "#636efa",
           "#EF553B",
           "#00cc96",
           "#ab63fa",
           "#FFA15A",
           "#19d3f3",
           "#FF6692",
           "#B6E880",
           "#FF97FF",
           "#FECB52"
          ],
          "font": {
           "color": "#2a3f5f"
          },
          "geo": {
           "bgcolor": "white",
           "lakecolor": "white",
           "landcolor": "#E5ECF6",
           "showlakes": true,
           "showland": true,
           "subunitcolor": "white"
          },
          "hoverlabel": {
           "align": "left"
          },
          "hovermode": "closest",
          "mapbox": {
           "style": "light"
          },
          "paper_bgcolor": "white",
          "plot_bgcolor": "#E5ECF6",
          "polar": {
           "angularaxis": {
            "gridcolor": "white",
            "linecolor": "white",
            "ticks": ""
           },
           "bgcolor": "#E5ECF6",
           "radialaxis": {
            "gridcolor": "white",
            "linecolor": "white",
            "ticks": ""
           }
          },
          "scene": {
           "xaxis": {
            "backgroundcolor": "#E5ECF6",
            "gridcolor": "white",
            "gridwidth": 2,
            "linecolor": "white",
            "showbackground": true,
            "ticks": "",
            "zerolinecolor": "white"
           },
           "yaxis": {
            "backgroundcolor": "#E5ECF6",
            "gridcolor": "white",
            "gridwidth": 2,
            "linecolor": "white",
            "showbackground": true,
            "ticks": "",
            "zerolinecolor": "white"
           },
           "zaxis": {
            "backgroundcolor": "#E5ECF6",
            "gridcolor": "white",
            "gridwidth": 2,
            "linecolor": "white",
            "showbackground": true,
            "ticks": "",
            "zerolinecolor": "white"
           }
          },
          "shapedefaults": {
           "line": {
            "color": "#2a3f5f"
           }
          },
          "ternary": {
           "aaxis": {
            "gridcolor": "white",
            "linecolor": "white",
            "ticks": ""
           },
           "baxis": {
            "gridcolor": "white",
            "linecolor": "white",
            "ticks": ""
           },
           "bgcolor": "#E5ECF6",
           "caxis": {
            "gridcolor": "white",
            "linecolor": "white",
            "ticks": ""
           }
          },
          "title": {
           "x": 0.05
          },
          "xaxis": {
           "automargin": true,
           "gridcolor": "white",
           "linecolor": "white",
           "ticks": "",
           "title": {
            "standoff": 15
           },
           "zerolinecolor": "white",
           "zerolinewidth": 2
          },
          "yaxis": {
           "automargin": true,
           "gridcolor": "white",
           "linecolor": "white",
           "ticks": "",
           "title": {
            "standoff": 15
           },
           "zerolinecolor": "white",
           "zerolinewidth": 2
          }
         }
        },
        "width": 800
       }
      }
     },
     "metadata": {},
     "output_type": "display_data"
    }
   ],
   "source": [
    "# Creating a 3D-Scatter with the PCA data and the clusters\n",
    "fig = px.scatter_3d(clustered_df,\n",
    "    x=\"PC 1\",\n",
    "    y=\"PC 2\",\n",
    "    z=\"PC 3\",\n",
    "    color=\"class\",\n",
    "    symbol=\"class\",\n",
    "    width=800,\n",
    "    hover_name=\"CoinName\", \n",
    "    hover_data=[\"Algorithm\"],\n",
    ")\n",
    "fig.update_layout(legend=dict(x=0, y=1))\n",
    "fig.show()\n"
   ]
  },
  {
   "cell_type": "code",
   "execution_count": 327,
   "metadata": {},
   "outputs": [
    {
     "data": {},
     "metadata": {},
     "output_type": "display_data"
    },
    {
     "data": {
      "application/vnd.holoviews_exec.v0+json": "",
      "text/html": [
       "<div id='9477'>\n",
       "\n",
       "\n",
       "\n",
       "\n",
       "\n",
       "  <div class=\"bk-root\" id=\"5d847619-4f91-4836-934a-9dc8210cf0c5\" data-root-id=\"9477\"></div>\n",
       "</div>\n",
       "<script type=\"application/javascript\">(function(root) {\n",
       "  function embed_document(root) {\n",
       "    var docs_json = {\"78b1ef71-f571-40de-9d08-dd08e2a95c1d\":{\"defs\":[{\"extends\":null,\"module\":null,\"name\":\"ReactiveHTML1\",\"overrides\":[],\"properties\":[]},{\"extends\":null,\"module\":null,\"name\":\"FlexBox1\",\"overrides\":[],\"properties\":[{\"default\":\"flex-start\",\"kind\":null,\"name\":\"align_content\"},{\"default\":\"flex-start\",\"kind\":null,\"name\":\"align_items\"},{\"default\":\"row\",\"kind\":null,\"name\":\"flex_direction\"},{\"default\":\"wrap\",\"kind\":null,\"name\":\"flex_wrap\"},{\"default\":\"flex-start\",\"kind\":null,\"name\":\"justify_content\"}]},{\"extends\":null,\"module\":null,\"name\":\"GridStack1\",\"overrides\":[],\"properties\":[{\"default\":\"warn\",\"kind\":null,\"name\":\"mode\"},{\"default\":null,\"kind\":null,\"name\":\"ncols\"},{\"default\":null,\"kind\":null,\"name\":\"nrows\"},{\"default\":true,\"kind\":null,\"name\":\"allow_resize\"},{\"default\":true,\"kind\":null,\"name\":\"allow_drag\"},{\"default\":[],\"kind\":null,\"name\":\"state\"}]},{\"extends\":null,\"module\":null,\"name\":\"click1\",\"overrides\":[],\"properties\":[{\"default\":\"\",\"kind\":null,\"name\":\"terminal_output\"},{\"default\":\"\",\"kind\":null,\"name\":\"debug_name\"},{\"default\":0,\"kind\":null,\"name\":\"clears\"}]},{\"extends\":null,\"module\":null,\"name\":\"TemplateActions1\",\"overrides\":[],\"properties\":[{\"default\":0,\"kind\":null,\"name\":\"open_modal\"},{\"default\":0,\"kind\":null,\"name\":\"close_modal\"}]},{\"extends\":null,\"module\":null,\"name\":\"MaterialTemplateActions1\",\"overrides\":[],\"properties\":[{\"default\":0,\"kind\":null,\"name\":\"open_modal\"},{\"default\":0,\"kind\":null,\"name\":\"close_modal\"}]}],\"roots\":{\"references\":[{\"attributes\":{},\"id\":\"9482\",\"type\":\"StringEditor\"},{\"attributes\":{\"format\":\"0,0.0[00000]\"},\"id\":\"9511\",\"type\":\"NumberFormatter\"},{\"attributes\":{\"format\":\"0,0.0[00000]\"},\"id\":\"9506\",\"type\":\"NumberFormatter\"},{\"attributes\":{\"margin\":[5,5,5,5],\"name\":\"HSpacer18596\",\"sizing_mode\":\"stretch_width\"},\"id\":\"9478\",\"type\":\"Spacer\"},{\"attributes\":{\"editor\":{\"id\":\"9482\"},\"field\":\"Algorithm\",\"formatter\":{\"id\":\"9481\"},\"title\":\"Algorithm\"},\"id\":\"9483\",\"type\":\"TableColumn\"},{\"attributes\":{},\"id\":\"9507\",\"type\":\"NumberEditor\"},{\"attributes\":{},\"id\":\"9486\",\"type\":\"StringFormatter\"},{\"attributes\":{\"editor\":{\"id\":\"9507\"},\"field\":\"PC_2\",\"formatter\":{\"id\":\"9506\"},\"title\":\"PC 2\"},\"id\":\"9508\",\"type\":\"TableColumn\"},{\"attributes\":{},\"id\":\"9512\",\"type\":\"NumberEditor\"},{\"attributes\":{},\"id\":\"9487\",\"type\":\"StringEditor\"},{\"attributes\":{\"editor\":{\"id\":\"9487\"},\"field\":\"ProofType\",\"formatter\":{\"id\":\"9486\"},\"title\":\"ProofType\"},\"id\":\"9488\",\"type\":\"TableColumn\"},{\"attributes\":{\"format\":\"0,0.0[00000]\"},\"id\":\"9491\",\"type\":\"NumberFormatter\"},{\"attributes\":{},\"id\":\"9516\",\"type\":\"StringFormatter\"},{\"attributes\":{\"editor\":{\"id\":\"9512\"},\"field\":\"PC_3\",\"formatter\":{\"id\":\"9511\"},\"title\":\"PC 3\"},\"id\":\"9513\",\"type\":\"TableColumn\"},{\"attributes\":{\"data\":{\"Algorithm\":[\"Scrypt\",\"Scrypt\",\"SHA-256\",\"X13\",\"SHA-256\",\"Ethash\",\"Scrypt\",\"X11\",\"CryptoNight-V7\",\"Ethash\",\"Equihash\",\"SHA-512\",\"Multiple\",\"SHA-256\",\"X11\",\"SHA-256\",\"Scrypt\",\"X15\",\"X11\",\"SHA-256\",\"X13\",\"X13\",\"Scrypt\",\"Scrypt\",\"Scrypt\",\"SHA-256\",\"Scrypt\",\"Multiple\",\"Scrypt\",\"SHA-256\",\"Scrypt\",\"Scrypt\",\"Scrypt\",\"Quark\",\"Groestl\",\"Scrypt\",\"X11\",\"Scrypt\",\"Scrypt\",\"Scrypt\",\"Scrypt\",\"Scrypt\",\"Scrypt\",\"Multiple\",\"Scrypt\",\"X11\",\"Scrypt\",\"SHA-256\",\"Groestl\",\"Multiple\",\"X11\",\"Scrypt\",\"SHA-256\",\"Scrypt\",\"Scrypt\",\"Scrypt\",\"Scrypt\",\"Scrypt\",\"PoS\",\"Scrypt\",\"X11\",\"NIST5\",\"SHA-256\",\"Scrypt\",\"Scrypt\",\"NeoScrypt\",\"Scrypt\",\"Scrypt\",\"Scrypt\",\"X11\",\"X15\",\"Scrypt\",\"Multiple\",\"X11\",\"Scrypt\",\"X11\",\"SHA-256\",\"X11\",\"X13\",\"Scrypt\",\"Scrypt\",\"Scrypt\",\"Scrypt\",\"X11\",\"SHA3\",\"Scrypt\",\"HybridScryptHash256\",\"Scrypt\",\"Scrypt\",\"SHA-256\",\"Scrypt\",\"X13\",\"SHA-256\",\"Scrypt\",\"SHA-256\",\"Scrypt\",\"X13\",\"NeoScrypt\",\"Scrypt\",\"Scrypt\",\"Scrypt\",\"Scrypt\",\"Scrypt\",\"Scrypt\",\"X15\",\"Scrypt\",\"Scrypt\",\"Scrypt-n\",\"Scrypt\",\"X11\",\"X11\",\"SHA-256\",\"Multiple\",\"SHA-256\",\"PHI1612\",\"X11\",\"SHA-256\",\"SHA-256\",\"SHA-256\",\"SHA-256\",\"X11\",\"Scrypt\",\"Scrypt\",\"X13\",\"Scrypt\",\"X11\",\"Scrypt\",\"Lyra2REv2\",\"Scrypt\",\"Scrypt\",\"X11\",\"Multiple\",\"SHA-256\",\"X13\",\"Scrypt\",\"Scrypt\",\"CryptoNight\",\"CryptoNight\",\"Shabal256\",\"Counterparty\",\"Scrypt\",\"SHA-256\",\"SHA-256\",\"Scrypt\",\"Groestl\",\"Scrypt\",\"Scrypt\",\"Scrypt\",\"X13\",\"Scrypt\",\"Scrypt\",\"Scrypt\",\"SHA-256\",\"Scrypt\",\"X13\",\"X13\",\"Scrypt\",\"X11\",\"Momentum\",\"Stanford Folding\",\"X11\",\"Multiple\",\"QuBit\",\"X15\",\"Scrypt\",\"Scrypt\",\"Scrypt\",\"Scrypt\",\"SHA-256\",\"M7 POW\",\"Scrypt\",\"X11\",\"Scrypt\",\"SHA-256\",\"Scrypt\",\"Scrypt\",\"X11\",\"X11\",\"SHA3\",\"X11\",\"Scrypt\",\"Lyra2RE\",\"SHA-256\",\"QUAIT\",\"X11\",\"vDPOS\",\"X11\",\"X11\",\"Scrypt\",\"Scrypt\",\"Scrypt\",\"Ethash\",\"X11\",\"X13\",\"Blake2b\",\"SHA-256\",\"X13\",\"X15\",\"X11\",\"SHA-256\",\"BLAKE256\",\"Scrypt\",\"Scrypt\",\"1GB AES Pattern Search\",\"SHA-256\",\"X11\",\"Scrypt\",\"CryptoNight\",\"SHA-256\",\"Quark\",\"SHA-256\",\"NIST5\",\"Blake\",\"Scrypt\",\"Scrypt\",\"SHA-256\",\"X11\",\"Scrypt\",\"Scrypt-n\",\"X11\",\"Scrypt\",\"Dagger\",\"Scrypt\",\"SHA-256\",\"CryptoNight-Lite\",\"X11GOST\",\"X11\",\"SHA-256\",\"Scrypt\",\"SHA-256\",\"Scrypt\",\"PoS\",\"Scrypt\",\"X11\",\"X11\",\"X11\",\"X11\",\"PoS\",\"SHA-256\",\"SHA-256\",\"SHA-256\",\"NIST5\",\"X15\",\"X11\",\"NIST5\",\"Scrypt\",\"Scrypt\",\"Scrypt\",\"POS 3.0\",\"Scrypt\",\"Scrypt\",\"Scrypt\",\"X13\",\"X11\",\"X11\",\"Equihash\",\"X11\",\"X11\",\"Scrypt\",\"CryptoNight\",\"SHA-256\",\"SHA-256\",\"X11\",\"Scrypt\",\"Multiple\",\"Scrypt\",\"Scrypt\",\"X11\",\"Scrypt\",\"SHA-256\",\"Scrypt\",\"Scrypt\",\"SHA-256D\",\"PoS\",\"Scrypt\",\"Scrypt\",\"X11\",\"Scrypt-n\",\"Lyra2Z\",\"SHA-256\",\"PoS\",\"X13\",\"Quark\",\"X14\",\"PoS\",\"SHA-256D\",\"Ethash\",\"SHA-256\",\"Equihash\",\"DPoS\",\"X11\",\"Scrypt\",\"Scrypt\",\"Equihash\",\"X11\",\"X13\",\"X11\",\"PoS\",\"SHA-256D\",\"Scrypt\",\"Scrypt\",\"Scrypt\",\"X11\",\"PoS\",\"X11\",\"SHA-256\",\"Scrypt\",\"X11\",\"Scrypt\",\"Scrypt\",\"X11\",\"CryptoNight\",\"Scrypt\",\"Scrypt\",\"Scrypt\",\"Scrypt\",\"Quark\",\"QuBit\",\"Scrypt\",\"CryptoNight\",\"X11\",\"Lyra2RE\",\"X13\",\"PoS\",\"Scrypt\",\"SHA-256\",\"X11\",\"X11\",\"X11\",\"Scrypt\",\"X11\",\"Scrypt\",\"Scrypt\",\"CryptoNight-V7\",\"Scrypt\",\"Scrypt\",\"Keccak\",\"Scrypt\",\"X13\",\"X11\",\"Equihash\",\"Scrypt\",\"Scrypt\",\"Lyra2RE\",\"Ethash\",\"X11\",\"Scrypt\",\"Dagger-Hashimoto\",\"X11\",\"Blake2S\",\"X11\",\"Scrypt\",\"Scrypt\",\"PoS\",\"X11\",\"NIST5\",\"PoS\",\"X11\",\"Scrypt\",\"Scrypt\",\"Scrypt\",\"Scrypt\",\"SHA-256\",\"X11\",\"Scrypt\",\"Scrypt\",\"Scrypt\",\"SHA-256\",\"PoS\",\"Scrypt\",\"X11\",\"X15\",\"SHA-256\",\"Scrypt\",\"POS 3.0\",\"CryptoNight-V7\",\"536\",\"Argon2d\",\"Blake2b\",\"Cloverhash\",\"CryptoNight\",\"NIST5\",\"X11\",\"NIST5\",\"Skein\",\"Scrypt\",\"X13\",\"Scrypt\",\"X11\",\"X11\",\"X11\",\"Scrypt\",\"CryptoNight\",\"X13\",\"Time Travel\",\"Scrypt\",\"Keccak\",\"SkunkHash v2 Raptor\",\"X11\",\"Skein\",\"SHA-256\",\"X11\",\"Scrypt\",\"Scrypt\",\"VeChainThor Authority\",\"Scrypt\",\"PoS\",\"Scrypt\",\"Scrypt\",\"Scrypt\",\"Scrypt\",\"Scrypt\",\"Scrypt\",\"Scrypt\",\"Scrypt\",\"CryptoNight\",\"SHA-512\",\"Ouroboros\",\"X11\",\"Equihash\",\"NeoScrypt\",\"X11\",\"Scrypt\",\"NeoScrypt\",\"Lyra2REv2\",\"Equihash\",\"Scrypt\",\"SHA-256\",\"NIST5\",\"PHI1612\",\"Dagger\",\"Scrypt\",\"Quark\",\"Scrypt\",\"POS 2.0\",\"Scrypt\",\"SkunkHash\",\"X11\",\"Quark\",\"SHA-256\",\"X11\",\"NeoScrypt\",\"Scrypt\",\"Ethash\",\"Scrypt\",\"NeoScrypt\",\"Quark\",\"X11\",\"DPoS\",\"NIST5\",\"X13\",\"Multiple\",\"Scrypt\",\"CryptoNight\",\"CryptoNight\",\"Ethash\",\"NIST5\",\"Quark\",\"X11\",\"SHA-256\",\"CryptoNight-V7\",\"Scrypt\",\"Scrypt\",\"Scrypt\",\"X11\",\"SHA-256\",\"BLAKE256\",\"X11\",\"Scrypt\",\"NeoScrypt\",\"Quark\",\"NeoScrypt\",\"Scrypt\",\"Scrypt\",\"Scrypt\",\"X11\",\"X11\",\"SHA-256\",\"C11\",\"Scrypt\",\"Scrypt\",\"POS 3.0\",\"Ethash\",\"Scrypt\",\"CryptoNight\",\"SkunkHash\",\"Scrypt\",\"CryptoNight\",\"Equihash\",\"Skein\",\"Scrypt\",\"Dagger\",\"Lyra2REv2\",\"X13\",\"Proof-of-BibleHash\",\"SHA-256 + Hive\",\"Scrypt\",\"Scrypt\",\"Scrypt\",\"NeoScrypt\",\"Equihash\",\"X11\",\"C11\",\"Proof-of-Authority\",\"X11\",\"XEVAN\",\"Scrypt\",\"VBFT\",\"Ethash\",\"X11\",\"CryptoNight\",\"NeoScrypt\",\"Scrypt\",\"IMesh\",\"NIST5\",\"Equihash\",\"Scrypt\",\"Scrypt\",\"Equihash\",\"Equihash\",\"Scrypt\",\"Lyra2Z\",\"Equihash\",\"Green Protocol\",\"PoS\",\"Scrypt\",\"Scrypt\",\"Semux BFT consensus\",\"Scrypt\",\"X11\",\"Quark\",\"PoS\",\"CryptoNight\",\"X16R\",\"Scrypt\",\"NIST5\",\"Lyra2RE\",\"XEVAN\",\"Tribus\",\"Scrypt\",\"Lyra2Z\",\"CryptoNight\",\"CryptoNight Heavy\",\"CryptoNight\",\"Scrypt\",\"Scrypt\",\"Jump Consistent Hash\",\"SHA-256D\",\"CryptoNight\",\"Scrypt\",\"X15\",\"Scrypt\",\"Quark\",\"SHA-256\",\"DPoS\",\"X16R\",\"HMQ1725\",\"X11\",\"X16R\",\"Quark\",\"Quark\",\"Scrypt\",\"Zhash\",\"Lyra2REv2\",\"Quark\",\"Scrypt\",\"Scrypt\",\"CryptoNight-V7\",\"Cryptonight-GPU\",\"Scrypt\",\"XEVAN\",\"CryptoNight Heavy\",\"X11\",\"X11\",\"Scrypt\",\"PoS\",\"Lyra2REv2\",\"Scrypt\",\"SHA-256\",\"Scrypt\",\"Keccak\",\"X11\",\"X11\",\"Quark\",\"Scrypt\",\"SHA-512\",\"X16R\",\"ECC 256K1\",\"NeoScrypt\",\"Equihash\",\"XEVAN\",\"Quark\",\"CryptoNight Heavy X\",\"Lyra2Z\",\"Ethash\",\"SHA-256\",\"XEVAN\",\"Ethash\",\"X11\",\"CryptoNight\",\"Quark\",\"SkunkHash\",\"Quark\",\"Argon2\",\"Blake\",\"Blake\",\"SHA-256\",\"Equihash\",\"Exosis\",\"Scrypt\",\"Scrypt\",\"Equihash\",\"Quark\",\"Equihash\",\"Quark\",\"Scrypt\",\"QuBit\",\"X11\",\"Scrypt\",\"Equihash1927\",\"XEVAN\",\"SHA-256D\",\"X11\",\"SHA-256\",\"SHA-256\",\"X13\",\"SHA-256\",\"X11\",\"DPoS\",\"X11\",\"Scrypt\",\"X11\",\"Scrypt\",\"X11\",\"NeoScrypt\",\"QuBit\",\"Scrypt\",\"Blake\",\"Scrypt\",\"SHA-256\",\"Scrypt\",\"X11\",\"CryptoNight\",\"Scrypt\",\"Scrypt\",\"SHA-256\",\"X11\",\"SHA-256\",\"Scrypt\",\"CryptoNight\",\"Scrypt\",\"SHA-256\",\"Scrypt\",\"Groestl\",\"X11\",\"Scrypt\",\"PoS\",\"Scrypt\",\"Scrypt\",\"X11\",\"SHA-256\",\"DPoS\",\"Scrypt\",\"Scrypt\",\"Scrypt\",\"NeoScrypt\",\"Scrypt\",\"SHA3-256\",\"Multiple\",\"X13\",\"Equihash+Scrypt\",\"DPoS\",\"Ethash\",\"DPoS\",\"Ethash\",\"SHA-256\",\"Leased POS\",\"PoS\",\"TRC10\",\"PoS\",\"SHA-256\",\"Scrypt\",\"CryptoNight\",\"Equihash\",\"Scrypt\"],\"CoinName\":[\"42 Coin\",\"404Coin\",\"808\",\"EliteCoin\",\"Bitcoin\",\"Ethereum\",\"Litecoin\",\"Dash\",\"Monero\",\"Ethereum Classic\",\"ZCash\",\"Bitshares\",\"DigiByte\",\"BitcoinDark\",\"Bitstake\",\"PayCoin\",\"ProsperCoin\",\"KoboCoin\",\"Spreadcoin\",\"ACoin\",\"Aero Coin\",\"ApexCoin\",\"ArchCoin\",\"Argentum\",\"Aurora Coin\",\"BetaCoin\",\"BlueCoin\",\"MyriadCoin\",\"MoonCoin\",\"ZetaCoin\",\"SexCoin\",\"Quatloo\",\"EnergyCoin\",\"QuarkCoin\",\"Riecoin\",\"Digitalcoin \",\"LimeCoinX\",\"BitBar\",\"BitMark\",\"CashCoin\",\"Catcoin\",\"CryptoBullion\",\"CannaCoin\",\"CinderCoin\",\"CoolCoin\",\"CryptCoin\",\"CasinoCoin\",\"eMark\",\"Diamond\",\"Verge\",\"DarkCash\",\"DarkShibe\",\"DevCoin\",\"EarthCoin\",\"E-Gulden\",\"Elacoin\",\"Einsteinium\",\"Emerald\",\"Exclusive Coin\",\"Flappy Coin\",\"Fuel2Coin\",\"FIBRE\",\"FireRoosterCoin\",\"FlutterCoin\",\"Franko\",\"FeatherCoin\",\"GrandCoin\",\"GlobalCoin\",\"GoldCoin\",\"GlyphCoin\",\"Halcyon\",\"HoboNickels\",\"HunterCoin\",\"HyperStake\",\"Infinite Coin\",\"IOCoin\",\"IXcoin\",\"JumBucks Coin\",\"JudgeCoin\",\"KrugerCoin\",\"LuckyCoin\",\"Litebar \",\"LitecoinDark\",\"LibrexCoin\",\"MaxCoin\",\"MegaCoin\",\"MediterraneanCoin\",\"MintCoin\",\"MinCoin\",\"MazaCoin\",\"Nautilus Coin\",\"NavCoin\",\"NoirBits\",\"NobleCoin\",\"Namecoin\",\"NyanCoin\",\"OpalCoin\",\"Orbitcoin\",\"PotCoin\",\"PhoenixCoin\",\"Reddcoin\",\"RipOffCoin\",\"RonPaulCoin\",\"StableCoin\",\"ShieldCoin\",\"SilkCoin\",\"SmartCoin\",\"SpainCoin\",\"SecureCoin\",\"SuperCoin\",\"SyncCoin\",\"SysCoin\",\"TeslaCoin\",\"TigerCoin\",\"TittieCoin\",\"TorCoin\",\"TerraCoin\",\"Umbrella\",\"UnbreakableCoin\",\"Unobtanium\",\"UroCoin\",\"UnitaryStatus Dollar\",\"UltraCoin\",\"Utility Coin\",\"ViaCoin\",\"VootCoin\",\"VeriCoin\",\"Vertcoin\",\"WorldCoin\",\"SocialXbotCoin\",\"X11 Coin\",\"Crypti\",\"JouleCoin\",\"StealthCoin\",\"XXXCoin\",\"ZCC Coin\",\"ByteCoin\",\"DigitalNote \",\"BurstCoin\",\"StorjCoin\",\"MonaCoin\",\"Neutron\",\"Sling Coin\",\"KryptCoin\",\"FairCoin\",\"Gulden\",\"RubyCoin\",\"PesetaCoin\",\"Kore\",\"Wild Beast Coin\",\"Dnotes\",\"Flo\",\"MaieutiCoin\",\"8BIT Coin\",\"Sativa Coin\",\"AeroMe\",\"ArtByte\",\"MasterTraderCoin\",\"BitCredit\",\"Folding Coin\",\"Ucoin\",\"Unitus\",\"CypherPunkCoin\",\"MaryJane Coin\",\"OmniCron\",\"CyberCoin\",\"Vtorrent\",\"GreenCoin\",\"Unattanium\",\"Cryptonite\",\"Gridmaster\",\"ConSpiracy Coin \",\"MasterCoin\",\"SoonCoin\",\"1Credit\",\"ViorCoin\",\"IslaCoin\",\"Quicksilver coin\",\"Nexus\",\"MarsCoin \",\"Singular\",\"Crypto\",\"Anarchists Prime\",\"Droidz\",\"BowsCoin\",\"CryptoCircuits\",\"Squall Coin\",\"Milllionaire Coin\",\"Song Coin\",\"BitZeny\",\"Diggits\",\"Expanse\",\"MapCoin\",\"Paycon\",\"Siacoin\",\"Emercoin\",\"BlitzCoin\",\"EverGreenCoin\",\"MindCoin\",\"I0coin\",\"Decred\",\"DogeCoinDark\",\"Revolution VR\",\"HOdlcoin\",\"EDRCoin\",\"Hitcoin\",\"Gamecredits\",\"Dashcoin\",\"DubaiCoin\",\"BiosCrypto\",\"CarpeDiemCoin\",\"PWR Coin\",\"TrumpCoin\",\"BillaryCoin\",\"EthereumScrypt\",\"Phalanx\",\"SunShotCoin\",\"GPU Coin\",\"HempCoin\",\"Adzcoin\",\"VirtaCoin\",\"SoilCoin\",\"YoCoin\",\"Universal Currency\",\"AEON\",\"SibCoin\",\"EuropeCoin\",\"Anti Bitcoin\",\"ZeitCoin\",\"SwingCoin\",\"SafeExchangeCoin\",\"Nebuchadnezzar\",\"Francs\",\"BolivarCoin\",\"GIZMOcoin\",\"SecretCoin\",\"Ratecoin\",\"Digital Bullion Gold\",\"Revenu\",\"Clinton\",\"Clockcoin\",\"VIP Tokens\",\"OrlyCoin\",\"BitSend\",\"16BitCoin\",\"ChessCoin\",\"ReeCoin\",\"Omni\",\"Let it Ride\",\"PutinCoin\",\"iBankCoin\",\"Frankywillcoin\",\"MudraCoin\",\"PizzaCoin\",\"Lutetium Coin\",\"Komodo\",\"GoldBlocks\",\"WayCoin\",\"CarterCoin\",\"Karbo\",\"BitTokens\",\"ZayedCoin\",\"MustangCoin\",\"ZoneCoin\",\"Circuits of Value\",\"RootCoin\",\"DopeCoin\",\"PROUD Money\",\"BitCurrency\",\"DollarCoin\",\"Swiscoin\",\"Shilling\",\"BuzzCoin\",\"Opair\",\"PesoBit\",\"GBR Coin\",\"Halloween Coin\",\"FujiCoin\",\"ZCoin\",\"LeaCoin\",\"CoffeeCoin\",\"RoyalCoin\",\"Zurcoin\",\"GanjaCoin V2\",\"TeamUP\",\"LanaCoin\",\"Elementrem\",\"CashOut\",\"ZClassic\",\"ARK\",\"InsaneCoin\",\"LuckChain\",\"KiloCoin\",\"Hush\",\"ArtexCoin\",\"EmberCoin\",\"XenixCoin\",\"FreeCoin\",\"NPCcoin\",\"PLNCoin\",\"Icobid\",\"AquariusCoin\",\"Kurrent\",\"Creatio\",\"Eternity\",\"Eurocoin\",\"BitcoinFast\",\"Stakenet\",\"BitConnect Coin\",\"MoneyCoin\",\"Enigma\",\"Cannabis Industry Coin\",\"Russiacoin\",\"PandaCoin\",\"GameUnits\",\"GAKHcoin\",\"Allsafe\",\"LiteCreed\",\"OsmiumCoin\",\"Bikercoins\",\"NeptuneClassic\",\"HexxCoin\",\"GoldenBird\",\"Ride My Car\",\"Klingon Empire Darsek\",\"Internet of People\",\"KushCoin\",\"Eryllium\",\"MarxCoin\",\"Printerium\",\"PacCoin\",\"Impeach\",\"Solarflarecoin\",\"Citadel\",\"Zilbercoin\",\"FirstCoin\",\"CreativeChain\",\"BeaverCoin\",\"FindCoin\",\"VaultCoin\",\"Zero\",\"OpenChat\",\"Canada eCoin\",\"Zoin\",\"Musicoin\",\"BnrtxCoin\",\"RenosCoin\",\"DubaiCoin\",\"VirtacoinPlus\",\"TajCoin\",\"Impact\",\"EB3coin\",\"Universe\",\"Atmos\",\"HappyCoin\",\"Coinonat\",\"MacronCoin\",\"Condensate\",\"Independent Money System\",\"ArgusCoin\",\"LomoCoin\",\"Bitcoin Scrypt\",\"ProCurrency\",\"GoldReserve\",\"BenjiRolls\",\"ParallelCoin\",\"GrowthCoin\",\"ILCoin\",\"Phreak\",\"Degas Coin\",\"ZSEcoin\",\"HTML5 Coin\",\"Ultimate Secure Cash\",\"EquiTrader\",\"QTUM\",\"Quantum Resistant Ledger\",\"Espers\",\"Dynamic\",\"Nano\",\"ChanCoin\",\"Dinastycoin\",\"Denarius\",\"DigitalPrice\",\"Virta Unique Coin\",\"Bitcoin Planet\",\"Unify\",\"BritCoin\",\"SocialCoin\",\"Octanox\",\"ArcticCoin\",\"DAS\",\"Linda\",\"LeviarCoin\",\"DeepOnion\",\"Bitcore\",\"gCn Coin\",\"SmartCash\",\"Signatum\",\"Onix\",\"Cream\",\"Bitcoin Cash\",\"Monoeci\",\"CampusCoin\",\"Draftcoin\",\"Vechain\",\"Sojourn Coin\",\"Stakecoin\",\"NewYorkCoin\",\"LiteBitcoin\",\"FrazCoin\",\"Kronecoin\",\"AdCoin\",\"Linx\",\"CoinonatX\",\"Ethereum Dark\",\"Sumokoin\",\"Obsidian\",\"Cardano\",\"Regalcoin\",\"BitcoinZ\",\"TrezarCoin\",\"Elements\",\"TerraNovaCoin\",\"VIVO Coin\",\"Rupee\",\"Bitcoin Gold\",\"WomenCoin\",\"Theresa May Coin\",\"NamoCoin\",\"LUXCoin\",\"Pirl\",\"Xios\",\"Bitcloud 2.0\",\"eBoost\",\"KekCoin\",\"BlackholeCoin\",\"AltCommunity Coin\",\"Pure\",\"Rupaya\",\"Infinity Economics\",\"Pura\",\"Innova\",\"Bitdeal\",\"Ellaism\",\"Sakuracoin\",\"GoByte\",\"Castle\",\"Magnet\",\"Lamden Tau\",\"Electra\",\"Bitcoin Diamond\",\"SHIELD\",\"Cash & Back Coin\",\"UltraNote\",\"BitCoal\",\"DaxxCoin\",\"Bulwark\",\"Kalkulus\",\"AC3\",\"CHIPS\",\"Lethean\",\"GermanCoin\",\"LiteCoin Ultra\",\"PopularCoin\",\"PhantomX\",\"HTML Coin\",\"Photon\",\"Sucre\",\"Fantasy Cash\",\"SparksPay\",\"Digiwage\",\"GunCoin\",\"IrishCoin\",\"Trollcoin\",\"Litecoin Plus\",\"Monkey Project\",\"Pioneer Coin\",\"UnitedBitcoin\",\"Interzone\",\"OP Coin\",\"Valorbit\",\"TokenPay\",\"1717 Masonic Commemorative Token\",\"My Big Coin\",\"TurtleCoin\",\"MUNcoin\",\"Unified Society USDEX\",\"Niobio Cash\",\"Bitcoin Private\",\"Skeincoin\",\"ShareChain\",\"Travelflex\",\"KREDS\",\"Tokyo Coin\",\"BiblePay\",\"LitecoinCash\",\"BitFlip\",\"LottoCoin\",\"LeafCoin\",\"Cerberus\",\"Bitcoin Hush\",\"Crypto Improvement Fund\",\"Stipend\",\"Poa Network\",\"Pushi\",\"Ellerium\",\"Velox\",\"Ontology\",\"Callisto Network\",\"Curium\",\"BitTube\",\"Dinero\",\"Poseidon\",\"Aidos Kuneen\",\"Bitspace\",\"Snowgem\",\"Briacoin\",\"Ignition\",\"Bitrolium\",\"Bitcoin Interest\",\"MedicCoin\",\"Alpenschillling\",\"Zelcash\",\"Bitcoin Green\",\"Deviant Coin\",\"Abjcoin\",\"Profit Hunters Coin\",\"Semux\",\"BitBlocks\",\"FuturoCoin\",\"Carebit\",\"Zealium\",\"Monero Classic\",\"Proton\",\"iDealCash\",\"Jumpcoin\",\"Infinex\",\"Bitcoin Incognito\",\"KEYCO\",\"HollyWoodCoin\",\"GINcoin\",\"PlatinCoin\",\"Loki\",\"Newton Coin\",\"Swisscoin\",\"Xt3ch\",\"MassGrid\",\"TheVig\",\"PluraCoin\",\"EmaratCoin\",\"Dekado\",\"Lynx\",\"Poseidon Quark\",\"BitcoinWSpectrum\",\"Muse\",\"Motion\",\"PlusOneCoin\",\"Axe\",\"Trivechain\",\"Dystem\",\"Giant\",\"Peony Coin\",\"SafeCoin\",\"Absolute Coin\",\"Vitae\",\"HexCoin\",\"TPCash\",\"Webchain\",\"Ryo\",\"MUSDcoin\",\"Urals Coin\",\"Qwertycoin\",\"ARENON\",\"EUNO\",\"MMOCoin\",\"Ketan\",\"NIX\",\"Safe Trade Coin\",\"Project Pai\",\"Mont Blanc\",\"XDNA\",\"PAXEX\",\"Azart\",\"Apollon\",\"ThunderStake\",\"Kcash\",\"Xchange\",\"Acute Angle Cloud\",\"Traid\",\"CrypticCoin\",\"Bettex coin\",\"ZestCoin\",\"X-CASH\",\"Actinium\",\"ETHER-1\",\"Bitcoin SV\",\"BitMoney\",\"Bitcoiin2Gen\",\"Junson Ming Chan Coin\",\"FREDEnergy\",\"Zenad\",\"C25 Coin\",\"HerbCoin\",\"Aquachain\",\"Universal Molecule\",\"Lithium\",\"Smart Bitcoin\",\"PirateCash\",\"Exosis\",\"Block-Logic\",\"Oduwa\",\"Beam\",\"Galilel\",\"Bithereum\",\"Crypto Sports\",\"Credit\",\"SLICE\",\"Dash Platinum\",\"Nasdacoin\",\"Vidulum\",\"Beetle Coin\",\"Titan Coin\",\"Award\",\"BlockStamp\",\"BLAST\",\"Bitcoin Rhodium\",\"GlobalToken\",\"Insane Coin\",\"ALAX\",\"The Freedom Coin\",\"LiteDoge\",\"Boolberry\",\"SolarCoin\",\"TruckCoin\",\"UFO Coin\",\"Ascension Coin\",\"OrangeCoin\",\"BlakeCoin\",\"BitstarCoin\",\"NeosCoin\",\"HyperCoin\",\"PinkCoin\",\"FantomCoin \",\"Crypto Escudo\",\"AudioCoin\",\"IncaKoin\",\"Piggy Coin\",\"Crown Coin\",\"Genstake\",\"Quazar Coin\",\"SmileyCoin\",\"ParkByte\",\"XiaoMiCoin\",\"Groestlcoin\",\"CapriCoin\",\" ClubCoin\",\"Radium\",\"Bata\",\"Pakcoin\",\"Creditbit \",\"OKCash\",\"Lisk\",\"HiCoin\",\"WhiteCoin\",\"Dotcoin\",\"FriendshipCoin\",\"The Hempcoin\",\"Fiii\",\"JoinCoin\",\"Triangles Coin\",\"Vollar\",\"EOS\",\"Reality Clash\",\"Oxycoin\",\"iOlite\",\"TigerCash\",\"Waves\",\"Particl\",\"BitTorrent\",\"Nxt\",\"ZEPHYR\",\"Gapcoin\",\"Beldex\",\"Horizen\",\"BitcoinPlus\"],\"PC_1\":{\"__ndarray__\":\"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\",\"dtype\":\"float64\",\"order\":\"little\",\"shape\":[685]},\"PC_2\":{\"__ndarray__\":\"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\",\"dtype\":\"float64\",\"order\":\"little\",\"shape\":[685]},\"PC_3\":{\"__ndarray__\":\"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\",\"dtype\":\"float64\",\"order\":\"little\",\"shape\":[685]},\"ProofType\":[\"PoW/PoS\",\"PoW/PoS\",\"PoW/PoS\",\"PoW/PoS\",\"PoW\",\"PoW\",\"PoW\",\"PoW/PoS\",\"PoW\",\"PoW\",\"PoW\",\"PoS\",\"PoW\",\"PoW/PoS\",\"PoW/PoS\",\"PoS\",\"PoW\",\"PoW/PoS\",\"PoW\",\"PoW\",\"PoS\",\"PoW/PoS\",\"PoS\",\"PoW\",\"PoW/PoS\",\"PoW\",\"PoW/PoS\",\"PoW\",\"PoW\",\"PoW\",\"PoW\",\"PoW\",\"PoW/PoS\",\"PoW\",\"PoW\",\"PoW\",\"PoW\",\"PoW/PoS\",\"PoW\",\"PoW/PoS\",\"PoW\",\"PoW/PoS\",\"PoW\",\"PoW/PoS\",\"PoS\",\"PoW\",\"PoC\",\"PoW/PoS\",\"PoW/PoS\",\"PoW\",\"PoW/PoS\",\"PoW\",\"PoW\",\"PoW\",\"PoW\",\"PoW\",\"PoW\",\"PoW\",\"PoS\",\"PoW\",\"PoS\",\"PoW/PoS\",\"PoW\",\"PoS/PoW/PoT\",\"PoW\",\"PoW\",\"PoW\",\"PoW\",\"PoW\",\"PoW/PoS\",\"PoW/PoS\",\"PoW/PoS\",\"PoW\",\"PoS\",\"PoW\",\"PoW/PoS\",\"PoW\",\"PoW/PoS\",\"PoW/PoS\",\"PoW\",\"PoW\",\"PoW\",\"PoW\",\"PoW/PoS\",\"PoW/PoS\",\"PoW\",\"PoW\",\"PoS\",\"PoW\",\"PoW/PoS\",\"PoS\",\"PoW/PoS\",\"PoW\",\"PoW\",\"PoW\",\"PoW\",\"PoW/PoS\",\"PoW/PoS\",\"PoW/PoS\",\"PoW/PoS\",\"PoW/PoS\",\"PoW\",\"PoW\",\"PoW\",\"PoW/PoS\",\"PoW/PoS\",\"PoW\",\"PoW\",\"PoW\",\"PoS\",\"PoW/PoS\",\"PoW\",\"PoS\",\"PoW\",\"PoS\",\"PoW/PoS\",\"PoW\",\"PoW\",\"PoW\",\"PoW\",\"PoW\",\"PoW/PoS\",\"PoW/PoS\",\"PoW/PoS\",\"PoW\",\"PoW\",\"PoST\",\"PoW\",\"PoW\",\"PoW/PoS\",\"PoW/PoS\",\"PoS\",\"PoW\",\"PoW/PoS\",\"PoW/PoS\",\"PoW/PoS\",\"PoW\",\"PoW\",\"PoC\",\"PoS\",\"PoW\",\"PoW/PoS\",\"PoW\",\"PoS\",\"PoW/PoS\",\"PoW\",\"PoS\",\"PoW\",\"PoW/PoS\",\"PoW\",\"PoS\",\"PoW\",\"PoS\",\"PoW/PoS\",\"PoW/PoS\",\"PoW/PoS\",\"PoW\",\"PoW/PoS\",\"PoW\",\"PoW\",\"PoS\",\"PoW\",\"PoW\",\"PoW/PoS\",\"PoW\",\"PoW/PoS\",\"PoW/PoS\",\"PoW\",\"PoW\",\"PoW\",\"PoW\",\"PoW\",\"PoW\",\"PoW\",\"PoW\",\"PoW/PoS\",\"PoW/PoS\",\"PoW\",\"PoW/nPoS\",\"PoW\",\"PoW/PoS\",\"PoW\",\"PoW\",\"PoW/PoS\",\"PoW\",\"PoS\",\"PoS/PoW\",\"PoW/PoS\",\"PoW\",\"PoW\",\"PoS\",\"PoW\",\"PoS\",\"PoW/PoS\",\"PoW\",\"PoW/PoS\",\"PoS\",\"PoW/PoS\",\"PoW\",\"PoW\",\"PoW/PoS\",\"PoW\",\"PoW\",\"PoW\",\"PoW/PoS\",\"PoW/PoS\",\"PoW\",\"PoW\",\"PoW/PoS\",\"PoW/PoS\",\"PoW\",\"PoW/PoS\",\"PoS\",\"PoW/PoS\",\"PoW/PoS\",\"PoW\",\"PoW\",\"PoS\",\"PoW\",\"PoW\",\"PoW\",\"PoW\",\"PoW\",\"PoW/PoS\",\"PoW\",\"PoW\",\"PoW/PoS\",\"PoW\",\"PoS\",\"PoW/PoS\",\"PoC\",\"PoS\",\"PoW\",\"PoW\",\"PoW/PoS\",\"PoW/PoS\",\"PoW/PoS\",\"PoS\",\"PoW/PoS\",\"PoW\",\"PoW/PoS\",\"PoW/PoS\",\"PoW/PoS\",\"PoW/PoS\",\"PoW/PoS\",\"PoW/PoS\",\"PoW/PoS\",\"PoW\",\"PoS\",\"PoW/PoS\",\"PoW/PoS\",\"PoW/PoS\",\"PoS\",\"PoW\",\"PoS\",\"dPoW/PoW\",\"PoW/PoS\",\"PoS\",\"PoW/PoS\",\"PoW\",\"PoW/PoS\",\"PoW\",\"PoW/PoS\",\"PoW/PoS\",\"PoW\",\"PoW/PoS\",\"PoW\",\"PoW/PoS\",\"PoS\",\"PoW\",\"PoW/PoW\",\"PoW\",\"PoW/PoS\",\"PoS\",\"PoW/PoS\",\"PoW\",\"PoW/PoS\",\"PoW\",\"PoW\",\"PoW\",\"PoS\",\"PoS\",\"PoW\",\"PoW/PoS\",\"PoS\",\"PoW/PoS\",\"PoW\",\"PoW\",\"PoW\",\"DPoS\",\"PoW/PoS\",\"PoW/PoS\",\"PoW\",\"PoW\",\"PoW\",\"PoW/PoS\",\"PoW/PoS\",\"PoS\",\"PoW/PoS\",\"PoW/PoS\",\"PoW/PoS\",\"PoW/PoS\",\"PoW\",\"PoS\",\"PoW/PoS\",\"PoW/PoS\",\"PoW/PoS\",\"TPoS\",\"PoW/PoS\",\"PoW/PoS\",\"PoW/PoS\",\"PoW\",\"PoW/PoS\",\"PoS\",\"PoW/PoS\",\"PoW/PoS\",\"PoS\",\"PoW/PoS\",\"PoW\",\"PoW\",\"PoW/PoS\",\"PoW\",\"PoW/PoS\",\"PoS\",\"PoW/PoS\",\"PoW/PoS\",\"PoW/PoS\",\"PoW/PoS\",\"PoW\",\"PoW/PoS\",\"PoW\",\"PoW/PoS\",\"PoW\",\"PoW\",\"PoS\",\"PoW/PoS \",\"PoW\",\"PoW\",\"PoS\",\"PoW\",\"PoW\",\"PoW/PoS\",\"PoW\",\"PoW\",\"PoW\",\"PoW\",\"PoS\",\"PoW\",\"PoW/PoS\",\"PoW/PoS\",\"PoW/PoS\",\"PoW\",\"PoS\",\"PoS\",\"PoW/PoS\",\"PoW\",\"PoS\",\"PoW/PoS\",\"PoW/PoS\",\"PoW/PoS\",\"PoW/PoS\",\"PoW\",\"PoS\",\"PoW/PoS\",\"PoW\",\"PoW\",\"PoS\",\"PoW\",\"PoS\",\"PoW/PoS\",\"PoW/PoS\",\"PoW/PoS\",\"PoS\",\"PoW\",\"PoS\",\"PoW\",\"PoW/PoS\",\"PoW\",\"PoW\",\"PoW\",\"PoW\",\"PoW/PoS\",\"PoW\",\"PoW/PoS\",\"PoW/PoS\",\"PoW\",\"PoW/PoS\",\"PoW\",\"PoW/PoS\",\"PoW\",\"PoW\",\"PoW/PoS\",\"PoW\",\"PoW/PoS\",\"PoW\",\"PoW\",\"PoW\",\"PoS\",\"PoW\",\"PoW/PoS\",\"PoW\",\"PoW/PoS\",\"PoW\",\"PoS\",\"Proof of Authority\",\"PoW\",\"PoS\",\"PoW\",\"PoW\",\"PoW\",\"PoW\",\"PoW\",\"PoW\",\"PoW/PoS\",\"PoW/PoS\",\"PoW\",\"PoS\",\"PoS\",\"PoW/PoS\",\"PoW\",\"PoW/PoS\",\"PoW\",\"PoW/PoS\",\"PoW\",\"PoS\",\"PoW\",\"PoW/PoS\",\"PoW/PoS\",\"PoW/PoS\",\"PoW/PoS\",\"PoW\",\"PoW/PoS\",\"PoW/PoS\",\"PoW\",\"PoS\",\"PoW/PoS\",\"PoW/PoS\",\"PoW/PoS\",\"PoS\",\"PoS\",\"PoW\",\"PoW\",\"PoW\",\"PoW\",\"PoW\",\"PoW\",\"DPoS\",\"PoW/PoS\",\"DPoS\",\"PoW/PoS\",\"PoW/PoS\",\"PoW\",\"PoW/PoS\",\"PoW\",\"PoW\",\"PoW\",\"PoS\",\"PoS\",\"PoW\",\"PoW\",\"PoW\",\"PoW/PoS\",\"PoW/PoS\",\"PoW\",\"PoW/PoS\",\"PoW/PoS\",\"PoW\",\"PoW\",\"PoW/PoS\",\"PoW\",\"PoS\",\"PoW\",\"PoW\",\"PoW/PoS\",\"PoW/PoS\",\"PoS\",\"PoW\",\"PoW\",\"PoW\",\"PoW/PoS\",\"PoW/PoS\",\"PoS\",\"PoS\",\"PoW and PoS\",\"PoW\",\"PoW\",\"PoW/PoS\",\"PoW\",\"PoW\",\"PoW\",\"PoW\",\"PoW\",\"PoW\",\"PoS\",\"POBh\",\"PoW + Hive\",\"PoW\",\"PoW\",\"PoW\",\"PoW\",\"PoW\",\"PoW\",\"PoW/PoS\",\"PoA\",\"PoW/PoS\",\"PoW/PoS\",\"PoS\",\"PoS\",\"PoW\",\"PoW\",\"PoW\",\"PoW\",\"PoW\",\"PoW\",\"PoW/PoS\",\"PoW\",\"PoW/PoS\",\"PoW/PoS\",\"PoW\",\"PoW\",\"PoS\",\"PoW\",\"PoW/PoS\",\"PoS\",\"PoS\",\"PoW/PoS\",\"PoW/PoS\",\"DPoS\",\"PoW/PoS\",\"PoW\",\"PoW/PoS\",\"PoS\",\"PoW\",\"PoS\",\"PoW/PoS\",\"PoW\",\"PoW\",\"PoS/PoW\",\"PoW\",\"PoS\",\"PoW\",\"PoW\",\"PoW\",\"PoW\",\"PoW/PoS\",\"PoS\",\"PoW\",\"PoW/PoS\",\"PoW\",\"PoW/PoS\",\"PoS\",\"HPoW\",\"PoS\",\"PoS\",\"PoS\",\"PoW\",\"PoW\",\"PoW\",\"PoW/PoS\",\"PoS\",\"PoW/PoS\",\"PoS\",\"PoW/PoS\",\"PoW/PoS\",\"PoS\",\"PoW\",\"PoW/PoS\",\"PoW\",\"PoW\",\"PoW/PoS\",\"PoW\",\"PoW\",\"PoS\",\"PoW/PoS\",\"PoS\",\"PoS\",\"PoW\",\"PoS\",\"PoW\",\"PoS\",\"PoW/PoS\",\"PoS\",\"PoW\",\"PoW/PoS\",\"PoW/PoS\",\"Zero-Knowledge Proof\",\"PoW\",\"DPOS\",\"PoW/PoS\",\"PoW\",\"PoS\",\"PoW\",\"PoW\",\"PoW\",\"PoW\",\"PoW\",\"Pos\",\"PoW\",\"PoS\",\"PoW\",\"POS / MN\",\"PoW\",\"PoW/PoS\",\"PoW\",\"PoW\",\"PoW\",\"PoW\",\"PoS\",\"PoW\",\"PoW\",\"PoW/PoS\",\"PoW\",\"PoW/PoS\",\"PoW\",\"PoS\",\"PoW/PoS\",\"PoW\",\"PoS\",\"PoW/PoS\",\"PoW\",\"PoW/PoS\",\"PoW/PoS\",\"PoW/PoS\",\"PoW\",\"PoW\",\"PoW\",\"PoW\",\"PoW/PoS\",\"DPoS\",\"PoS\",\"PoW/PoS\",\"PoW\",\"PoW\",\"PoW/PoS\",\"PoW\",\"PoW/PoS\",\"PoW/PoS\",\"PoW\",\"PoW/PoS\",\"PoS\",\"PoW/PoS\",\"PoW/PoS\",\"PoW\",\"PoW\",\"PoW/PoS\",\"PoW/PoS\",\"PoW/PoS\",\"PoW\",\"PoW/PoS\",\"PoW\",\"PoW\",\"PoW/PoS\",\"PoW/PoS\",\"PoW\",\"PoW/PoS\",\"PoW/PoS\",\"PoS\",\"PoW\",\"PoW\",\"Proof of Trust\",\"PoW/PoS\",\"DPoS\",\"PoS\",\"PoW/PoS\",\"PoW\",\"PoW/PoS\",\"PoW/PoS\",\"DPoC\",\"PoW\",\"PoW/PoS\",\"PoW\",\"DPoS\",\"PoW\",\"DPoS\",\"PoW\",\"PoS\",\"LPoS\",\"PoS\",\"DPoS\",\"PoS/LPoS\",\"DPoS\",\"PoW/PoS\",\"PoW\",\"PoW\",\"PoS\"],\"TotalCoinSupply\":[\"42\",\"532000000\",\"0\",\"314159265359\",\"21000000\",\"0\",\"84000000\",\"22000000\",\"0\",\"210000000\",\"21000000\",\"3600570502\",\"21000000000\",\"22000000\",\"1300000\",\"12500000\",\"21000000\",\"350000000\",\"20000000\",\"1600000\",\"7000000\",\"6000000\",\"16403135\",\"64000000\",\"16768584\",\"32000000\",\"0\",\"2000000000\",\"384000000000\",\"169795588\",\"250000000\",\"100000000\",\"0\",\"247000000\",\"84000000\",\"48166000\",\"21000000 \",\"500000\",\"27580000\",\"47433600\",\"21000000 \",\"1000000\",\"13140000\",\"114000000\",\"100000000\",\"18000000\",\"40000000000\",\"0\",\"4380000\",\"16555000000\",\"3720000\",\"2043962\",\"21000000000\",\"13500000000\",\"21000000 \",\"75000000\",\"299792458\",\"32000000\",\"0\",\"100000000000\",\"100000000\",\"624000\",\"2602410\",\"0\",\"11235813\",\"336000000\",\"1420609614\",\"70000000\",\"72245700\",\"7000000\",\"0\",\"120000000\",\"42000000\",\"0\",\"90600000000\",\"22000000\",\"21000000\",\"3293010\",\"21600000\",\"265420800\",\"20000000\",\"1350000\",\"82003200\",\"1000000\",\"100000000\",\"42000000\",\"200000000\",\"0\",\"10000000\",\"2419200000\",\"16180000\",\"0\",\"50000000\",\"15000000000\",\"21000000\",\"337000000\",\"0\",\"3770000\",\"420000000\",\"98000000\",\"0\",\"12000000\",\"21000000\",\"250000000\",\"1000000\",\"1000000\",\"51200000\",\"50000000\",\"21000000\",\"0\",\"1000\",\"888000000\",\"100000000\",\"47011968\",\"2300000000\",\"10000000\",\"42000000\",\"2625000\",\"80000000\",\"250000\",\"0\",\"1600000000\",\"100000000\",\"0\",\"23000000\",\"0\",\"0\",\"84000000\",\"265420800\",\"2000000\",\"5500000\",\"0\",\"45000000\",\"0\",\"50000000\",\"1000000000\",\"184467440735\",\"10000000000\",\"2158812800\",\"500000000\",\"105120000\",\"68000000\",\"1000000\",\"17000000\",\"0\",\"1680000000\",\"0\",\"166386000\",\"12000000\",\"2628000\",\"500000000\",\"160000000\",\"2014\",\"0\",\"10000000\",\"12000000\",\"1000000000\",\"10110000\",\"210000000\",\"1000000000\",\"20000000\",\"0\",\"0\",\"0\",\"3371337\",\"0\",\"20000000\",\"10000000000\",\"0\",\"1840000000\",\"84000000\",\"33000000\",\"619478\",\"21000000\",\"92000000000\",\"0\",\"0\",\"33000000\",\"78000000\",\"33000000\",\"0\",\"65789100\",\"53760000\",\"5060000\",\"21000000\",\"0\",\"0\",\"0\",\"210240000\",\"250000000\",\"100000000\",\"16906397\",\"2228921.184\",\"50000000\",\"0\",\"1000000000\",\"3852156\",\"26298000\",\"16000000\",\"21000000\",\"21000000\",\"16500000000\",\"210000000\",\"81962100\",\"22000000\",\"26550000000\",\"84000000\",\"18446744\",\"10500000\",\"20190463.54969237\",\"21626280000 \",\"0\",\"12000000\",\"42000000\",\"4200000\",\"15000000\",\"2250000000\",\"221052632\",\"5000000000\",\"84000000\",\"21000000000\",\"30000000\",\"168351300\",\"210000000\",\"18400000\",\"24000000\",\"384000000\",\"42000000\",\" 99000000000\",\"40000000\",\"2147483647\",\"20000000\",\"20000000\",\"25000000\",\"100000\",\"21000000\",\"75000000\",\"15000000\",\"222725000\",\"2421227\",\"525000000\",\"90000000\",\"36000000\",\"139000000\",\"16000000\",\"74666667\",\"350000000\",\"616448\",\"33500000\",\"2000000000\",\"44333333\",\"100000000\",\"200000000\",\"25000000\",\"657000000\",\"200000000\",\"50000000\",\"100000000\",\"90000000\",\"10000000\",\"21000000\",\"9736000\",\"3000000\",\"21000000\",\"1200000000\",\"0\",\"200000000\",\"10000000000\",\"0\",\"10638298\",\"3100000000\",\"30000000\",\"20000000000\",\"74000000\",\"0\",\"87500000\",\"1500000000\",\"10000000\",\"21400000\",\"2000000000\",\"39999898\",\"2500124\",\"126000000\",\"100000000\",\"301000000\",\"7506000000\",\"26205539\",\"100000000\",\"21000000\",\"125000000\",\"30000000\",\"1000000000\",\"10000000000\",\"21000000\",\"500000000\",\"850000000\",\"3853326.77707314\",\"50000000\",\"7000000000\",\"38540000 \",\"200000000 \",\"42000000\",\"228000000\",\"20000000\",\"60000000\",\"20000000\",\"33000000\",\"76500000\",\"28000000\",\"650659833\",\"5000000\",\"21000000\",\"144000000\",\"32514916898\",\"13000000\",\"3315789\",\"15000000\",\"78835200\",\"2714286\",\"25000000\",\"250000000\",\"9999999\",\"450000000\",\"100000000\",\"500000000\",\"21000000\",\"9354000\",\"100000000\",\"100640000\",\"20000000\",\"100000000000\",\"21933333\",\"20000000\",\"185000000\",\"55000000\",\"110000000\",\"115000000\",\"3360000\",\"14524851.4827\",\"1000000000\",\"17000000\",\"1000000000\",\"100000000 \",\"21000000\",\"454898394\",\"210000000\",\"34426423\",\"2232901\",\"100000000\",\"36900000\",\"110000000\",\"4000000000\",\"112000000\",\"110290030\",\"100000000\",\"48252000\",\"400000000\",\"500000000\",\"21212121\",\"28600000\",\"1000000000\",\"21000000\",\"75000000000\",\"40000000\",\"35520400\",\"1000000\",\"2000000000\",\"2500000000\",\"30000000\",\"105000000\",\"2093500000\",\"90000000000\",\"200084200\",\"72000000\",\"100000000\",\"105000000\",\"50000000000\",\"0\",\"340282367\",\"30000000\",\"2000000000\",\"10000000\",\"100000000\",\"120000000\",\"100000000\",\"19276800\",\"30000000\",\" 75000000\",\"7905634\",\"60000000\",\"18900000\",\"50000000000\",\"54000000\",\"18898187.6216583\",\"21000000\",\"200000000000\",\"5000000000\",\"137500000\",\"1100000000\",\"100000000\",\"21000000\",\"9507271\",\"1010000000\",\"17405891.19707116\",\"86712634466\",\"10500000000\",\"61599965\",\"0\",\"1000000000\",\"20000000\",\"84000000\",\"100000000\",\"100000000\",\"48252000\",\"4200000\",\"88888888\",\"91388946\",\"45000000000\",\"27000000\",\"21000000000\",\"400000000\",\"1800000000\",\"15733333\",\"27000000\",\"24000000\",\"21000000\",\"25000000000\",\"100000000\",\"1200000000\",\"60000000\",\"156306732.71\",\"21000000\",\"200000000\",\"100000000\",\"21000000\",\"14788275.991\",\"5000000\",\"3686860\",\"75000000\",\"9000000000\",\"350000000\",\"45000000\",\"300000000\",\"280000000\",\"105100000\",\"31800000\",\"50000000 \",\"144000000\",\"500000000\",\"30000000000\",\"210000000\",\"660000000\",\"210000000\",\"85000000000\",\"12500000\",\"10000000000\",\"27716121\",\"20000000\",\"550000000\",\"21000000\",\"999481516\",\"50000000000\",\"150000000\",\"4999999999\",\"50000000\",\"90000000000\",\" 90000000000\",\"19800000\",\"4600000\",\"21000000\",\"120000000\",\"500000000\",\"64000000\",\"900000000\",\"4000000\",\"21000000\",\"23000000\",\"20166000\",\"23000000\",\"2000000000\",\"92233720000000000\",\"25000000\",\"1618033\",\"30000000\",\"1000000000000\",\"16600000\",\"232000000\",\"336000000\",\"21000000\",\"17000000\",\"10000000000\",\"100000000\",\"1100000000\",\"800000000\",\"5200000000\",\"840000000\",\"40000000\",\"18406979840\",\"21000000000\",\"31500000\",\"21000000\",\"500000000\",\"19340594\",\"252460800\",\"25000000\",\"60000000\",\"124000000\",\"1000000000\",\"6500000000\",\"22000000\",\"1000000000\",\"100000000\",\"21000000\",\"25000000\",\"50000000\",\"84096000\",\"3000000\",\"5000000\",\"70000000\",\"22300000\",\"500000000\",\"300000000\",\"210000000\",\"21000000\",\"88000000\",\"30000000\",\"100000000\",\"100000000\",\"500000000\",\"100000000\",\"200000000\",\"80000000\",\"18400000\",\"45000000\",\"5121951220\",\"21000000\",\"26280000\",\"21000000\",\"18000000\",\"26000000\",\"10500000\",\"600000518\",\"150000000\",\"184000000000\",\"10200000000\",\"44000000\",\"168000000\",\"100000000\",\"1000000000\",\"84000000\",\"90000000\",\"92000000000\",\"650000000 \",\"100262205\",\"18081806 \",\"22075700\",\"21000000\",\"21000000\",\"82546564\",\"21000000\",\"5151000\",\"16880000000\",\"36000000\",\"52500000\",\"100000000\",\"22105263\",\"1000000000\",\"1750000000\",\"88188888\",\"100000000\",\"210000000\",\"184470000000\",\"55000000\",\"50000000\",\"260000000\",\"210000000\",\"175000000\",\"840000000\",\"2100000000\",\"70000000\",\"366000000\",\"100000000\",\"25000000\",\"250000000\",\"18000000000\",\"1000000000\",\"100000000\",\"1000000000\",\"252000000\",\"7600000000\",\"50000000\",\"29300000\",\"100000000000\",\"84000000\",\"13666237\",\"21000000\",\"70000000000\",\"100000000\",\"0\",\"8080000000\",\"46000000\",\"6100000\",\"54000000\",\"42000000\",\"105120001.44\",\"25228800\",\"20999764\",\"105000000\",\"21000000\",\"120000000\",\"21000000\",\"262800000\",\"19035999\",\"30886000\",\"13370000\",\"74800000000\",\"100000000\",\"19700000\",\"84000000\",\"100000000\",\"500000000\",\"5000000000\",\"420000000\",\"105000000\",\"64000000\",\"2100000\",\"168000000\",\"30000000\",\"1000000000\",\"25000000\",\"35000000000\",\"18450000\",\"98100000000\",\"0\",\"4000000000\",\"0\",\"200000000\",\"7000000000\",\"54256119\",\"21000000\",\"0\",\"500000000\",\"18400000\",\"1000000000\",\"10500000000\",\"190000000\",\"1000000000\",\"42000000\",\"15000000\",\"18446744\",\"50000000000\",\"25000000\",\"400000000\",\"105000000\",\"208000000\",\"160000000\",\"9000000\",\"5000000\",\"182000000\",\"16504333\",\"105000000\",\"159918400\",\"10008835635\",\"300000000\",\"890000000\",\"60168145\",\"300000000\",\"5000000000\",\"2800000\",\"120000\",\"2100000000\",\"0\",\"24487944\",\"0\",\"1000000000\",\"1000000000\",\"100000000\",\"8634140\",\"990000000000\",\"1000000000\",\"2000000000\",\"250000000\",\"1400222610\",\"21000000\",\"1000000\"],\"TotalCoinsMined\":{\"__ndarray__\":\"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\",\"dtype\":\"float64\",\"order\":\"little\",\"shape\":[685]},\"class\":{\"__ndarray__\":\"AAAAAAAAAAAAAAAAAAAAAAEAAAABAAAAAQAAAAAAAAABAAAAAQAAAAEAAAAAAAAAAQAAAAAAAAAAAAAAAAAAAAEAAAAAAAAAAQAAAAEAAAAAAAAAAAAAAAAAAAABAAAAAAAAAAEAAAAAAAAAAQAAAAEAAAABAAAAAQAAAAEAAAAAAAAAAQAAAAEAAAABAAAAAQAAAAAAAAABAAAAAAAAAAEAAAAAAAAAAQAAAAAAAAAAAAAAAQAAAAAAAAAAAAAAAAAAAAEAAAAAAAAAAQAAAAEAAAABAAAAAQAAAAEAAAABAAAAAQAAAAAAAAABAAAAAAAAAAAAAAABAAAAAAAAAAEAAAABAAAAAQAAAAEAAAABAAAAAAAAAAAAAAAAAAAAAQAAAAAAAAABAAAAAAAAAAEAAAAAAAAAAAAAAAEAAAABAAAAAQAAAAEAAAAAAAAAAAAAAAEAAAABAAAAAAAAAAEAAAAAAAAAAAAAAAAAAAABAAAAAQAAAAEAAAABAAAAAAAAAAAAAAAAAAAAAAAAAAAAAAABAAAAAQAAAAEAAAAAAAAAAAAAAAEAAAABAAAAAQAAAAAAAAAAAAAAAQAAAAAAAAABAAAAAAAAAAAAAAABAAAAAQAAAAEAAAABAAAAAQAAAAAAAAAAAAAAAAAAAAEAAAABAAAAAAAAAAEAAAABAAAAAAAAAAAAAAAAAAAAAQAAAAAAAAAAAAAAAAAAAAEAAAABAAAAAAAAAAAAAAABAAAAAAAAAAEAAAAAAAAAAAAAAAEAAAAAAAAAAQAAAAAAAAABAAAAAAAAAAEAAAAAAAAAAAAAAAAAAAAAAAAAAQAAAAAAAAABAAAAAQAAAAAAAAABAAAAAQAAAAAAAAABAAAAAAAAAAAAAAABAAAAAQAAAAEAAAABAAAAAQAAAAEAAAABAAAAAQAAAAAAAAAAAAAAAQAAAAAAAAABAAAAAAAAAAEAAAABAAAAAAAAAAEAAAAAAAAAAAAAAAAAAAABAAAAAQAAAAAAAAABAAAAAAAAAAAAAAABAAAAAAAAAAAAAAAAAAAAAQAAAAEAAAAAAAAAAQAAAAEAAAABAAAAAAAAAAAAAAABAAAAAQAAAAAAAAAAAAAAAQAAAAAAAAAAAAAAAAAAAAAAAAABAAAAAQAAAAAAAAABAAAAAQAAAAEAAAABAAAAAQAAAAAAAAABAAAAAQAAAAAAAAABAAAAAAAAAAAAAAAAAAAAAAAAAAEAAAABAAAAAAAAAAAAAAAAAAAAAAAAAAAAAAABAAAAAAAAAAAAAAAAAAAAAAAAAAAAAAAAAAAAAAAAAAEAAAAAAAAAAAAAAAAAAAAAAAAAAAAAAAEAAAAAAAAAAQAAAAAAAAAAAAAAAAAAAAEAAAAAAAAAAQAAAAAAAAAAAAAAAQAAAAAAAAABAAAAAAAAAAAAAAABAAAAAAAAAAEAAAAAAAAAAAAAAAAAAAABAAAAAAAAAAEAAAABAAAAAQAAAAAAAAAAAAAAAQAAAAAAAAAAAAAAAAAAAAEAAAABAAAAAQAAAAAAAAAAAAAAAAAAAAEAAAABAAAAAQAAAAAAAAAAAAAAAAAAAAAAAAAAAAAAAAAAAAAAAAABAAAAAAAAAAAAAAAAAAAAAAAAAAAAAAAAAAAAAAAAAAAAAAABAAAAAAAAAAAAAAAAAAAAAAAAAAAAAAAAAAAAAQAAAAEAAAAAAAAAAQAAAAAAAAAAAAAAAAAAAAAAAAAAAAAAAAAAAAEAAAAAAAAAAQAAAAAAAAABAAAAAQAAAAAAAAAAAAAAAQAAAAEAAAAAAAAAAQAAAAEAAAAAAAAAAQAAAAEAAAABAAAAAQAAAAAAAAABAAAAAAAAAAAAAAAAAAAAAQAAAAAAAAAAAAAAAAAAAAEAAAAAAAAAAAAAAAAAAAAAAAAAAAAAAAEAAAAAAAAAAAAAAAEAAAABAAAAAAAAAAEAAAAAAAAAAAAAAAAAAAAAAAAAAAAAAAEAAAAAAAAAAQAAAAAAAAABAAAAAQAAAAEAAAABAAAAAAAAAAEAAAAAAAAAAAAAAAEAAAAAAAAAAQAAAAAAAAABAAAAAQAAAAAAAAABAAAAAAAAAAEAAAABAAAAAQAAAAAAAAABAAAAAAAAAAEAAAAAAAAAAQAAAAAAAAACAAAAAQAAAAAAAAABAAAAAQAAAAEAAAABAAAAAQAAAAEAAAAAAAAAAAAAAAEAAAAAAAAAAAAAAAAAAAABAAAAAAAAAAEAAAAAAAAAAQAAAAAAAAABAAAAAAAAAAAAAAAAAAAAAAAAAAEAAAAAAAAAAAAAAAEAAAAAAAAAAAAAAAAAAAAAAAAAAAAAAAAAAAABAAAAAQAAAAEAAAABAAAAAQAAAAEAAAAAAAAAAAAAAAAAAAAAAAAAAAAAAAEAAAAAAAAAAQAAAAEAAAABAAAAAAAAAAAAAAABAAAAAQAAAAEAAAAAAAAAAAAAAAEAAAAAAAAAAAAAAAEAAAABAAAAAAAAAAEAAAAAAAAAAQAAAAEAAAAAAAAAAAAAAAAAAAABAAAAAQAAAAEAAAAAAAAAAAAAAAAAAAABAAAAAAAAAAEAAAABAAAAAAAAAAEAAAABAAAAAQAAAAEAAAABAAAAAQAAAAAAAAAAAAAAAAAAAAEAAAABAAAAAQAAAAEAAAABAAAAAQAAAAAAAAACAAAAAAAAAAAAAAAAAAAAAAAAAAEAAAABAAAAAQAAAAEAAAABAAAAAQAAAAAAAAABAAAAAAAAAAAAAAABAAAAAQAAAAAAAAABAAAAAAAAAAAAAAAAAAAAAAAAAAAAAAAAAAAAAAAAAAEAAAAAAAAAAAAAAAEAAAAAAAAAAAAAAAEAAAABAAAAAAAAAAEAAAAAAAAAAQAAAAEAAAABAAAAAQAAAAAAAAAAAAAAAQAAAAAAAAABAAAAAAAAAAAAAAAAAAAAAAAAAAAAAAAAAAAAAQAAAAEAAAABAAAAAAAAAAAAAAAAAAAAAAAAAAAAAAAAAAAAAAAAAAEAAAAAAAAAAQAAAAEAAAAAAAAAAQAAAAEAAAAAAAAAAAAAAAAAAAAAAAAAAQAAAAAAAAABAAAAAAAAAAAAAAAAAAAAAQAAAAAAAAAAAAAAAAAAAAEAAAACAAAAAAAAAAEAAAAAAAAAAQAAAAEAAAABAAAAAQAAAAEAAAAAAAAAAQAAAAAAAAABAAAAAAAAAAEAAAAAAAAAAQAAAAEAAAABAAAAAQAAAAEAAAABAAAAAQAAAAAAAAABAAAAAAAAAAEAAAAAAAAAAAAAAAEAAAAAAAAAAAAAAAEAAAAAAAAAAAAAAAAAAAABAAAAAQAAAAEAAAABAAAAAAAAAAAAAAAAAAAAAAAAAAEAAAABAAAAAAAAAAEAAAAAAAAAAAAAAAEAAAAAAAAAAAAAAAAAAAAAAAAAAQAAAAEAAAAAAAAAAAAAAAAAAAABAAAAAAAAAAEAAAABAAAAAAAAAAAAAAABAAAAAAAAAAAAAAAAAAAAAQAAAAEAAAAAAAAAAAAAAAAAAAAAAAAAAAAAAAEAAAAAAAAAAAAAAAIAAAABAAAAAAAAAAEAAAAAAAAAAQAAAAAAAAABAAAAAAAAAAIAAAAAAAAAAwAAAAAAAAAAAAAAAAAAAAEAAAABAAAAAAAAAA==\",\"dtype\":\"int32\",\"order\":\"little\",\"shape\":[685]}},\"selected\":{\"id\":\"9480\"},\"selection_policy\":{\"id\":\"9529\"}},\"id\":\"9479\",\"type\":\"ColumnDataSource\"},{\"attributes\":{},\"id\":\"9529\",\"type\":\"UnionRenderers\"},{\"attributes\":{},\"id\":\"9480\",\"type\":\"Selection\"},{\"attributes\":{},\"id\":\"9517\",\"type\":\"StringEditor\"},{\"attributes\":{\"editor\":{\"id\":\"9517\"},\"field\":\"CoinName\",\"formatter\":{\"id\":\"9516\"},\"title\":\"CoinName\"},\"id\":\"9518\",\"type\":\"TableColumn\"},{\"attributes\":{},\"id\":\"9492\",\"type\":\"NumberEditor\"},{\"attributes\":{},\"id\":\"9521\",\"type\":\"NumberFormatter\"},{\"attributes\":{},\"id\":\"9496\",\"type\":\"StringFormatter\"},{\"attributes\":{\"editor\":{\"id\":\"9492\"},\"field\":\"TotalCoinsMined\",\"formatter\":{\"id\":\"9491\"},\"title\":\"TotalCoinsMined\"},\"id\":\"9493\",\"type\":\"TableColumn\"},{\"attributes\":{},\"id\":\"9522\",\"type\":\"IntEditor\"},{\"attributes\":{\"editor\":{\"id\":\"9522\"},\"field\":\"class\",\"formatter\":{\"id\":\"9521\"},\"title\":\"class\"},\"id\":\"9523\",\"type\":\"TableColumn\"},{\"attributes\":{},\"id\":\"9497\",\"type\":\"StringEditor\"},{\"attributes\":{\"editor\":{\"id\":\"9497\"},\"field\":\"TotalCoinSupply\",\"formatter\":{\"id\":\"9496\"},\"title\":\"TotalCoinSupply\"},\"id\":\"9498\",\"type\":\"TableColumn\"},{\"attributes\":{\"source\":{\"id\":\"9479\"}},\"id\":\"9528\",\"type\":\"CDSView\"},{\"attributes\":{\"format\":\"0,0.0[00000]\"},\"id\":\"9501\",\"type\":\"NumberFormatter\"},{\"attributes\":{\"margin\":[5,5,5,5],\"name\":\"HSpacer18597\",\"sizing_mode\":\"stretch_width\"},\"id\":\"9533\",\"type\":\"Spacer\"},{\"attributes\":{\"children\":[{\"id\":\"9478\"},{\"id\":\"9526\"},{\"id\":\"9533\"}],\"margin\":[0,0,0,0],\"name\":\"Row18592\",\"tags\":[\"embedded\"]},\"id\":\"9477\",\"type\":\"Row\"},{\"attributes\":{},\"id\":\"9502\",\"type\":\"NumberEditor\"},{\"attributes\":{},\"id\":\"9481\",\"type\":\"StringFormatter\"},{\"attributes\":{\"columns\":[{\"id\":\"9483\"},{\"id\":\"9488\"},{\"id\":\"9493\"},{\"id\":\"9498\"},{\"id\":\"9503\"},{\"id\":\"9508\"},{\"id\":\"9513\"},{\"id\":\"9518\"},{\"id\":\"9523\"}],\"height\":300,\"reorderable\":false,\"source\":{\"id\":\"9479\"},\"view\":{\"id\":\"9528\"},\"width\":700},\"id\":\"9526\",\"type\":\"DataTable\"},{\"attributes\":{\"editor\":{\"id\":\"9502\"},\"field\":\"PC_1\",\"formatter\":{\"id\":\"9501\"},\"title\":\"PC 1\"},\"id\":\"9503\",\"type\":\"TableColumn\"}],\"root_ids\":[\"9477\"]},\"title\":\"Bokeh Application\",\"version\":\"2.4.2\"}};\n",
       "    var render_items = [{\"docid\":\"78b1ef71-f571-40de-9d08-dd08e2a95c1d\",\"root_ids\":[\"9477\"],\"roots\":{\"9477\":\"5d847619-4f91-4836-934a-9dc8210cf0c5\"}}];\n",
       "    root.Bokeh.embed.embed_items_notebook(docs_json, render_items);\n",
       "  }\n",
       "  if (root.Bokeh !== undefined && root.Bokeh.Panel !== undefined) {\n",
       "    embed_document(root);\n",
       "  } else {\n",
       "    var attempts = 0;\n",
       "    var timer = setInterval(function(root) {\n",
       "      if (root.Bokeh !== undefined && root.Bokeh.Panel !== undefined) {\n",
       "        clearInterval(timer);\n",
       "        embed_document(root);\n",
       "      } else if (document.readyState == \"complete\") {\n",
       "        attempts++;\n",
       "        if (attempts > 200) {\n",
       "          clearInterval(timer);\n",
       "          console.log(\"Bokeh: ERROR: Unable to run BokehJS code because BokehJS library is missing\");\n",
       "        }\n",
       "      }\n",
       "    }, 25, root)\n",
       "  }\n",
       "})(window);</script>"
      ],
      "text/plain": [
       ":Table   [Algorithm,ProofType,TotalCoinsMined,TotalCoinSupply,PC 1,PC 2,PC 3,CoinName,class]"
      ]
     },
     "execution_count": 327,
     "metadata": {
      "application/vnd.holoviews_exec.v0+json": {
       "id": "9477"
      }
     },
     "output_type": "execute_result"
    }
   ],
   "source": [
    "# Create a table with tradable cryptocurrencies.\n",
    "clustered_df.hvplot.table(columns= ['Algorithm', 'ProofType','TotalCoinsMined', 'TotalCoinSupply', 'PC 1', 'PC 2', 'PC 3','CoinName','class'], sortable=True, selectable=True)\n"
   ]
  },
  {
   "cell_type": "code",
   "execution_count": 328,
   "metadata": {},
   "outputs": [
    {
     "name": "stdout",
     "output_type": "stream",
     "text": [
      "There are 685 tradable cryptocurrencies\n"
     ]
    }
   ],
   "source": [
    "# Print the total number of tradable cryptocurrencies.\n",
    "print(f\"There are {clustered_df.shape[0]} tradable cryptocurrencies\")"
   ]
  },
  {
   "cell_type": "code",
   "execution_count": 329,
   "metadata": {},
   "outputs": [
    {
     "name": "stdout",
     "output_type": "stream",
     "text": [
      "[[4.55364914e-16 5.94230127e-03]\n",
      " [5.76795558e-09 7.00182308e-03]\n",
      " [0.00000000e+00 5.94230122e-03]\n",
      " ...\n",
      " [1.51812440e-08 6.92655266e-03]\n",
      " [2.27682457e-10 5.94962775e-03]\n",
      " [1.08420218e-11 5.94243008e-03]]\n"
     ]
    }
   ],
   "source": [
    "# Scaling data to create the scatter plot with tradable cryptocurrencies.\n",
    "scaled_df = MinMaxScaler().fit_transform(clustered_df[[\"TotalCoinSupply\", \"TotalCoinsMined\"]])\n",
    "print(scaled_df)"
   ]
  },
  {
   "cell_type": "code",
   "execution_count": 330,
   "metadata": {},
   "outputs": [
    {
     "data": {
      "text/html": [
       "<div>\n",
       "<style scoped>\n",
       "    .dataframe tbody tr th:only-of-type {\n",
       "        vertical-align: middle;\n",
       "    }\n",
       "\n",
       "    .dataframe tbody tr th {\n",
       "        vertical-align: top;\n",
       "    }\n",
       "\n",
       "    .dataframe thead th {\n",
       "        text-align: right;\n",
       "    }\n",
       "</style>\n",
       "<table border=\"1\" class=\"dataframe\">\n",
       "  <thead>\n",
       "    <tr style=\"text-align: right;\">\n",
       "      <th></th>\n",
       "      <th>TotalCoinSupply</th>\n",
       "      <th>TotalCoinsMined</th>\n",
       "      <th>CoinName</th>\n",
       "      <th>class</th>\n",
       "    </tr>\n",
       "  </thead>\n",
       "  <tbody>\n",
       "    <tr>\n",
       "      <th>0</th>\n",
       "      <td>4.553649e-16</td>\n",
       "      <td>0.005942</td>\n",
       "      <td>42 Coin</td>\n",
       "      <td>0</td>\n",
       "    </tr>\n",
       "    <tr>\n",
       "      <th>2</th>\n",
       "      <td>5.767956e-09</td>\n",
       "      <td>0.007002</td>\n",
       "      <td>404Coin</td>\n",
       "      <td>0</td>\n",
       "    </tr>\n",
       "    <tr>\n",
       "      <th>4</th>\n",
       "      <td>0.000000e+00</td>\n",
       "      <td>0.005942</td>\n",
       "      <td>808</td>\n",
       "      <td>0</td>\n",
       "    </tr>\n",
       "    <tr>\n",
       "      <th>5</th>\n",
       "      <td>3.406122e-06</td>\n",
       "      <td>0.035342</td>\n",
       "      <td>EliteCoin</td>\n",
       "      <td>0</td>\n",
       "    </tr>\n",
       "    <tr>\n",
       "      <th>7</th>\n",
       "      <td>2.276825e-10</td>\n",
       "      <td>0.005960</td>\n",
       "      <td>Bitcoin</td>\n",
       "      <td>1</td>\n",
       "    </tr>\n",
       "    <tr>\n",
       "      <th>8</th>\n",
       "      <td>0.000000e+00</td>\n",
       "      <td>0.006050</td>\n",
       "      <td>Ethereum</td>\n",
       "      <td>1</td>\n",
       "    </tr>\n",
       "    <tr>\n",
       "      <th>9</th>\n",
       "      <td>9.107298e-10</td>\n",
       "      <td>0.006006</td>\n",
       "      <td>Litecoin</td>\n",
       "      <td>1</td>\n",
       "    </tr>\n",
       "    <tr>\n",
       "      <th>10</th>\n",
       "      <td>2.385245e-10</td>\n",
       "      <td>0.005951</td>\n",
       "      <td>Dash</td>\n",
       "      <td>0</td>\n",
       "    </tr>\n",
       "    <tr>\n",
       "      <th>11</th>\n",
       "      <td>0.000000e+00</td>\n",
       "      <td>0.005960</td>\n",
       "      <td>Monero</td>\n",
       "      <td>1</td>\n",
       "    </tr>\n",
       "    <tr>\n",
       "      <th>12</th>\n",
       "      <td>2.276825e-09</td>\n",
       "      <td>0.006056</td>\n",
       "      <td>Ethereum Classic</td>\n",
       "      <td>1</td>\n",
       "    </tr>\n",
       "  </tbody>\n",
       "</table>\n",
       "</div>"
      ],
      "text/plain": [
       "    TotalCoinSupply  TotalCoinsMined          CoinName  class\n",
       "0      4.553649e-16         0.005942           42 Coin      0\n",
       "2      5.767956e-09         0.007002           404Coin      0\n",
       "4      0.000000e+00         0.005942               808      0\n",
       "5      3.406122e-06         0.035342         EliteCoin      0\n",
       "7      2.276825e-10         0.005960           Bitcoin      1\n",
       "8      0.000000e+00         0.006050          Ethereum      1\n",
       "9      9.107298e-10         0.006006          Litecoin      1\n",
       "10     2.385245e-10         0.005951              Dash      0\n",
       "11     0.000000e+00         0.005960            Monero      1\n",
       "12     2.276825e-09         0.006056  Ethereum Classic      1"
      ]
     },
     "execution_count": 330,
     "metadata": {},
     "output_type": "execute_result"
    }
   ],
   "source": [
    "# Create a new DataFrame that has the scaled data with the clustered_df DataFrame index.\n",
    "plot_df = pd.DataFrame(data=scaled_df, columns= ['TotalCoinSupply', 'TotalCoinsMined'], index=clustered_df.index)\n",
    "\n",
    "# Add the \"CoinName\" column from the clustered_df DataFrame to the new DataFrame.\n",
    "plot_df[\"CoinName\"] = clustered_df[\"CoinName\"]\n",
    "\n",
    "# Add the \"Class\" column from the clustered_df DataFrame to the new DataFrame. \n",
    "plot_df[\"class\"]= clustered_df['class']\n",
    "\n",
    "plot_df.head(10)"
   ]
  },
  {
   "cell_type": "code",
   "execution_count": 332,
   "metadata": {},
   "outputs": [
    {
     "data": {},
     "metadata": {},
     "output_type": "display_data"
    },
    {
     "data": {
      "application/vnd.holoviews_exec.v0+json": "",
      "text/html": [
       "<div id='9595'>\n",
       "\n",
       "\n",
       "\n",
       "\n",
       "\n",
       "  <div class=\"bk-root\" id=\"ad094a9a-03d5-43e7-ac0a-7f67e28d8373\" data-root-id=\"9595\"></div>\n",
       "</div>\n",
       "<script type=\"application/javascript\">(function(root) {\n",
       "  function embed_document(root) {\n",
       "    var docs_json = {\"caaf4e2d-ea72-4cfa-8315-b307e0ad2711\":{\"defs\":[{\"extends\":null,\"module\":null,\"name\":\"ReactiveHTML1\",\"overrides\":[],\"properties\":[]},{\"extends\":null,\"module\":null,\"name\":\"FlexBox1\",\"overrides\":[],\"properties\":[{\"default\":\"flex-start\",\"kind\":null,\"name\":\"align_content\"},{\"default\":\"flex-start\",\"kind\":null,\"name\":\"align_items\"},{\"default\":\"row\",\"kind\":null,\"name\":\"flex_direction\"},{\"default\":\"wrap\",\"kind\":null,\"name\":\"flex_wrap\"},{\"default\":\"flex-start\",\"kind\":null,\"name\":\"justify_content\"}]},{\"extends\":null,\"module\":null,\"name\":\"GridStack1\",\"overrides\":[],\"properties\":[{\"default\":\"warn\",\"kind\":null,\"name\":\"mode\"},{\"default\":null,\"kind\":null,\"name\":\"ncols\"},{\"default\":null,\"kind\":null,\"name\":\"nrows\"},{\"default\":true,\"kind\":null,\"name\":\"allow_resize\"},{\"default\":true,\"kind\":null,\"name\":\"allow_drag\"},{\"default\":[],\"kind\":null,\"name\":\"state\"}]},{\"extends\":null,\"module\":null,\"name\":\"click1\",\"overrides\":[],\"properties\":[{\"default\":\"\",\"kind\":null,\"name\":\"terminal_output\"},{\"default\":\"\",\"kind\":null,\"name\":\"debug_name\"},{\"default\":0,\"kind\":null,\"name\":\"clears\"}]},{\"extends\":null,\"module\":null,\"name\":\"TemplateActions1\",\"overrides\":[],\"properties\":[{\"default\":0,\"kind\":null,\"name\":\"open_modal\"},{\"default\":0,\"kind\":null,\"name\":\"close_modal\"}]},{\"extends\":null,\"module\":null,\"name\":\"MaterialTemplateActions1\",\"overrides\":[],\"properties\":[{\"default\":0,\"kind\":null,\"name\":\"open_modal\"},{\"default\":0,\"kind\":null,\"name\":\"close_modal\"}]}],\"roots\":{\"references\":[{\"attributes\":{\"label\":{\"value\":\"1\"},\"renderers\":[{\"id\":\"9668\"}]},\"id\":\"9682\",\"type\":\"LegendItem\"},{\"attributes\":{\"margin\":[5,5,5,5],\"name\":\"HSpacer19487\",\"sizing_mode\":\"stretch_width\"},\"id\":\"9596\",\"type\":\"Spacer\"},{\"attributes\":{\"label\":{\"value\":\"3\"},\"renderers\":[{\"id\":\"9716\"}]},\"id\":\"9734\",\"type\":\"LegendItem\"},{\"attributes\":{\"coordinates\":null,\"group\":null,\"text_color\":\"black\",\"text_font_size\":\"12pt\"},\"id\":\"9604\",\"type\":\"Title\"},{\"attributes\":{\"source\":{\"id\":\"9661\"}},\"id\":\"9669\",\"type\":\"CDSView\"},{\"attributes\":{\"data\":{\"TotalCoinSupply\":{\"__ndarray__\":\"H1DO9o6C5j4=\",\"dtype\":\"float64\",\"order\":\"little\",\"shape\":[1]},\"TotalCoinsMined\":{\"__ndarray__\":\"AAAAAAAA8D8=\",\"dtype\":\"float64\",\"order\":\"little\",\"shape\":[1]},\"class\":[3]},\"selected\":{\"id\":\"9710\"},\"selection_policy\":{\"id\":\"9731\"}},\"id\":\"9709\",\"type\":\"ColumnDataSource\"},{\"attributes\":{},\"id\":\"9655\",\"type\":\"UnionRenderers\"},{\"attributes\":{},\"id\":\"9685\",\"type\":\"Selection\"},{\"attributes\":{},\"id\":\"9731\",\"type\":\"UnionRenderers\"},{\"attributes\":{\"coordinates\":null,\"data_source\":{\"id\":\"9639\"},\"glyph\":{\"id\":\"9642\"},\"group\":null,\"hover_glyph\":{\"id\":\"9644\"},\"muted_glyph\":{\"id\":\"9645\"},\"nonselection_glyph\":{\"id\":\"9643\"},\"selection_glyph\":{\"id\":\"9660\"},\"view\":{\"id\":\"9647\"}},\"id\":\"9646\",\"type\":\"GlyphRenderer\"},{\"attributes\":{\"source\":{\"id\":\"9639\"}},\"id\":\"9647\",\"type\":\"CDSView\"},{\"attributes\":{\"fill_alpha\":{\"value\":0.2},\"fill_color\":{\"value\":\"#fc4f30\"},\"hatch_alpha\":{\"value\":0.2},\"hatch_color\":{\"value\":\"#fc4f30\"},\"line_alpha\":{\"value\":0.2},\"line_color\":{\"value\":\"#fc4f30\"},\"size\":{\"value\":5.477225575051661},\"x\":{\"field\":\"TotalCoinsMined\"},\"y\":{\"field\":\"TotalCoinSupply\"}},\"id\":\"9667\",\"type\":\"Scatter\"},{\"attributes\":{},\"id\":\"9638\",\"type\":\"AllLabels\"},{\"attributes\":{\"end\":1.042857142857143,\"reset_end\":1.042857142857143,\"reset_start\":-0.04285714285714286,\"start\":-0.04285714285714286,\"tags\":[[[\"TotalCoinsMined\",\"TotalCoinsMined\",null]]]},\"id\":\"9597\",\"type\":\"Range1d\"},{\"attributes\":{\"fill_color\":{\"field\":\"CoinNamed\"},\"hatch_color\":{\"field\":\"CoinNamed\"},\"line_color\":{\"field\":\"CoinNamed\"},\"size\":{\"value\":5.477225575051661},\"x\":{\"field\":\"TotalCoinsMined\"},\"y\":{\"field\":\"TotalCoinSupply\"}},\"id\":\"9644\",\"type\":\"Scatter\"},{\"attributes\":{\"fill_color\":{\"field\":\"CoinNamed\"},\"hatch_color\":{\"field\":\"CoinNamed\"},\"line_color\":{\"field\":\"CoinNamed\"},\"size\":{\"value\":5.477225575051661},\"x\":{\"field\":\"TotalCoinsMined\"},\"y\":{\"field\":\"TotalCoinSupply\"}},\"id\":\"9666\",\"type\":\"Scatter\"},{\"attributes\":{\"angle\":{\"value\":0.0},\"fill_alpha\":{\"value\":1.0},\"fill_color\":{\"value\":\"#6d904f\"},\"hatch_alpha\":{\"value\":1.0},\"hatch_color\":{\"value\":\"#6d904f\"},\"hatch_scale\":{\"value\":12.0},\"hatch_weight\":{\"value\":1.0},\"line_alpha\":{\"value\":1.0},\"line_cap\":{\"value\":\"butt\"},\"line_color\":{\"value\":\"#6d904f\"},\"line_dash\":{\"value\":[]},\"line_dash_offset\":{\"value\":0},\"line_join\":{\"value\":\"bevel\"},\"line_width\":{\"value\":1},\"marker\":{\"value\":\"circle\"},\"size\":{\"value\":5.477225575051661},\"x\":{\"field\":\"TotalCoinsMined\"},\"y\":{\"field\":\"TotalCoinSupply\"}},\"id\":\"9735\",\"type\":\"Scatter\"},{\"attributes\":{\"fill_alpha\":{\"value\":0.1},\"fill_color\":{\"value\":\"#fc4f30\"},\"hatch_alpha\":{\"value\":0.1},\"hatch_color\":{\"value\":\"#fc4f30\"},\"line_alpha\":{\"value\":0.1},\"line_color\":{\"value\":\"#fc4f30\"},\"size\":{\"value\":5.477225575051661},\"x\":{\"field\":\"TotalCoinsMined\"},\"y\":{\"field\":\"TotalCoinSupply\"}},\"id\":\"9665\",\"type\":\"Scatter\"},{\"attributes\":{},\"id\":\"9613\",\"type\":\"BasicTicker\"},{\"attributes\":{\"angle\":{\"value\":0.0},\"fill_alpha\":{\"value\":1.0},\"fill_color\":{\"value\":\"#30a2da\"},\"hatch_alpha\":{\"value\":1.0},\"hatch_color\":{\"value\":\"#30a2da\"},\"hatch_scale\":{\"value\":12.0},\"hatch_weight\":{\"value\":1.0},\"line_alpha\":{\"value\":1.0},\"line_cap\":{\"value\":\"butt\"},\"line_color\":{\"value\":\"#30a2da\"},\"line_dash\":{\"value\":[]},\"line_dash_offset\":{\"value\":0},\"line_join\":{\"value\":\"bevel\"},\"line_width\":{\"value\":1},\"marker\":{\"value\":\"circle\"},\"size\":{\"value\":5.477225575051661},\"x\":{\"field\":\"TotalCoinsMined\"},\"y\":{\"field\":\"TotalCoinSupply\"}},\"id\":\"9660\",\"type\":\"Scatter\"},{\"attributes\":{\"fill_alpha\":{\"value\":0.2},\"fill_color\":{\"value\":\"#30a2da\"},\"hatch_alpha\":{\"value\":0.2},\"hatch_color\":{\"value\":\"#30a2da\"},\"line_alpha\":{\"value\":0.2},\"line_color\":{\"value\":\"#30a2da\"},\"size\":{\"value\":5.477225575051661},\"x\":{\"field\":\"TotalCoinsMined\"},\"y\":{\"field\":\"TotalCoinSupply\"}},\"id\":\"9645\",\"type\":\"Scatter\"},{\"attributes\":{},\"id\":\"9634\",\"type\":\"BasicTickFormatter\"},{\"attributes\":{},\"id\":\"9610\",\"type\":\"LinearScale\"},{\"attributes\":{\"coordinates\":null,\"data_source\":{\"id\":\"9661\"},\"glyph\":{\"id\":\"9664\"},\"group\":null,\"hover_glyph\":{\"id\":\"9666\"},\"muted_glyph\":{\"id\":\"9667\"},\"nonselection_glyph\":{\"id\":\"9665\"},\"selection_glyph\":{\"id\":\"9683\"},\"view\":{\"id\":\"9669\"}},\"id\":\"9668\",\"type\":\"GlyphRenderer\"},{\"attributes\":{\"below\":[{\"id\":\"9612\"}],\"center\":[{\"id\":\"9615\"},{\"id\":\"9619\"}],\"height\":300,\"left\":[{\"id\":\"9616\"}],\"margin\":[5,5,5,5],\"min_border_bottom\":10,\"min_border_left\":10,\"min_border_right\":10,\"min_border_top\":10,\"renderers\":[{\"id\":\"9646\"},{\"id\":\"9668\"},{\"id\":\"9691\"},{\"id\":\"9716\"}],\"right\":[{\"id\":\"9658\"}],\"sizing_mode\":\"fixed\",\"title\":{\"id\":\"9604\"},\"toolbar\":{\"id\":\"9626\"},\"width\":700,\"x_range\":{\"id\":\"9597\"},\"x_scale\":{\"id\":\"9608\"},\"y_range\":{\"id\":\"9598\"},\"y_scale\":{\"id\":\"9610\"}},\"id\":\"9603\",\"subtype\":\"Figure\",\"type\":\"Plot\"},{\"attributes\":{},\"id\":\"9710\",\"type\":\"Selection\"},{\"attributes\":{\"data\":{\"TotalCoinSupply\":{\"__ndarray__\":\"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\",\"dtype\":\"float64\",\"order\":\"little\",\"shape\":[366]},\"TotalCoinsMined\":{\"__ndarray__\":\"qPiOWfRWeD8cYvKR8a18Pz8QqVb0Vng/T8T7BVsYoj+Uv1afdmB4PxOfQNzBzoE/O+advE9YeD8/EKlW9FZ4P6Vo1YuVY3g/O4O7CtlxeD8/EKlW9FZ4Pz8QqVb0Vng/PxCpVvRWeD+Zs25zDGp4P6WsorX783o/M06UiIbYeD9v57nQ/1Z4Pz8QqVb0Vng/0B61awxYeD8/EKlW9FZ4Pz8QqVb0Vng/syowQkybpz8/EKlW9FZ4PxZVqwZvWng/PxCpVvRWeD9/ITo971x4Pz8QqVb0Vng/PxCpVvRWeD80uDFmNT16Pz8QqVb0Vng/PxCpVvRWeD92Fr088bR4P3E8mZA+Pn8/w4Sq8YlpeD8/EKlW9FZ4Pz8QqVb0Vng/PxCpVvRWeD/Af1xdppd4PxnPRqjB+ps/ZUbauCP6fj88/cV5/Wd4P94oYV+JnHg/9p7xkOlmeD+RbmBrWFp4PzeocntoQXk/YfXTOtOkeD9UnSLAHB2iPz8QqVb0Vng/PxCpVvRWeD9CDtQEWIx4P74r4Kf0Vng//D/+pHWreD+j+x42FAN/PyX8IUd2WHg/yPLBqAbcfD8E9NOs2It4Pz8QqVb0Vng/nxu3RKt4eD8/EKlW9FZ4PxA/X9tFXng/uQv0Nj7AeD8iyllhzHl4Pz8QqVb0Vng/S9enccXyeD+v1HlB38t/P4ys/3vVjHg/EU/GJiWAeD8/EKlW9FZ4P7SQSSP2jng/+HLFnJNzeD/mbKB4FVl4P+mdWjzWDnk/PxCpVvRWeD+xD4P6f1h4P41l2jVtXng/PxCpVvRWeD8/EKlW9FZ4P0FY3FjJWXg/PxCpVvRWeD8/EKlW9FZ4Pzwgy0IsY3g/PxCpVvRWeD+WqyVXjFh4PwKsP236mXg/PxCpVvRWeD8FbsjB+V94Pz8QqVb0Vng/TTUYEk1XeD8/EKlW9FZ4P7kL9DY+wHg/PxCpVvRWeD9OTKU2N294P1uITZ9KhHg/PxCpVvRWeD8kURJZM2V4PwRn1B7eYXg/iUp0dtFaeD9zVyiTNGSRP+E3fc5aXHg/PxCpVvRWeD+ouCzKO3CQPz8QqVb0Vng/UXw/2W1geD8/EKlW9FZ4P+mTZHiSgXg/PxCpVvRWeD9vyUmA6WF4P3J2XjCuDKY/z1G1IZBbeD+MiOE1AZaAP751Hh0DbHg/PxCpVvRWeD8/EKlW9FZ4PyrlVhyg5Hg/PxCpVvRWeD8xLy+UNlh4P5wlSJ1/aHg/RsXvdNGueD8/EKlW9FZ4P879i8ahcHg/PxCpVvRWeD8/EKlW9FZ4Pz8QqVb0Vng/Q++pyZV/eD9lfIo9DK97P0dfuFu4W3g/uQv0Nj7AeD+faUYIOFx4P1tWBk6zCns/SFzTZ1dneD8/EKlW9FZ4P/MiKh1nhHg//Ado1JRXeD9yNNWYpVd4P1wrjkesWXg/6067Nv9YeD8/EKlW9FZ4P0FeSr2FCXk/cdO5iVUTez9ueo43CDeaPxbmsFHnpHg/AdonE0B6eD/TfT1xoW15Py2w70iJ83g/kyIGOJZZeD+5C/Q2PsB4P79u/im3aXg/AjJvHVnKfD/RdYX+4Mh4Pz+CB3BEang/PxCpVvRWeD/nymx5Nzi5P1MhnvUCW3g//I3ORpmLeD8/EKlW9FZ4P2go7KXyaHg/PxCpVvRWeD+EYTaYiFl4P751Hh0DbHg/WUyYTFhdeD/dNsMUB2R4P9ssOONEbHg/4u9534qmeD/W1c8Fn2J4Pz90fTJyYng/OqWG7M9XeD/W6AGAxl94P4aI1KcKbaQ/kWsqcZxaeD/qOHoSclp4P2tPNEkHYng/ykWJ48d2eD8/EKlW9FZ4Pz8QqVb0Vng/PxCpVvRWeD87gGnvL3B4PzfD7jadWXg/CIU7r+lceD8/EKlW9FZ4P3fvn8BmY3g/bqCaZ0dXeD+216QYCFp4P3i+LprFyng/ycxXWT9meD//4pYZ13N8PybuKk/pfHg/DIqoNdBkeD9Fz5tzyGN4Pz8OKIRvy3g/PxCpVvRWeD+GsBzB98t4Pw5YQyudbXg/Nvg795r9eT+aIcfkDdd4PyM0bnmbXHg/Fnw52ylYeD/JMp8be1d4PyxhaFDRwHg/JqoJsQhpeD/dKV3Jso15P9W8J3LyYng/a6JyWnFteD8/EKlW9FZ4P940YkcI8qc/qLJYNdhheD+5C/Q2PsB4P4NQyuauh50/LSgKsFhbeD/8WN6qOZl4P3cDuWAeXng/lsrn6VhteD8/EKlW9FZ4P/aGQOkdxY4//fgM0wdueD8BbCMvo8h4P+8KDBjKiHg/f/fxPTBkeD9e0BDSmmp4P4wkWn4qW3g/uD7OA4dreD/DmLxmYFt4Px3Pu85GcXg/Plc2WiZfoD9hzl3WmV54P04JdndAF3k/6i6QzydYeD8Kis9EOXB4P6+Ow9Cn9Ks/MhjemN+3eD8tgMPaKaV6P471IBGzX3g/Ox9EwzdZeD8C/LNKSnd4P8m4AfjvY3g/25a6rS5oeD8/EKlW9FZ4Pz8QqVb0Vng/PxCpVvRWeD/yaSqYdq2OPz8QqVb0Vng/ATsoVyx/eD93kcvpR4Z5P4T6kYOApKE/oPpM3zEYeT86l37vzMt4P8L/effmZHg/2xoLk85oeD9FpdsEGkWGP4BHnLHRX3g/lvdMioSGeD8/EKlW9FZ4Pz8QqVb0Vng/YWQTqbJzeD8vZsTgO8V6P0GsBmWXWXg/2fKFQ5hbeD8/EKlW9FZ4Pz8QqVb0Vng/lBZsSntseD9uf17T2WB4P7mRl4I4Tnk/fXlV025JeT94ezWzw6B/P3CNJR8Z93o/syroAs1ieD8dHeamPFl4P7zFd1llV3g/Jmy8cuBxeD94M1JFOQR7P6WNJLN4ZXg/wq5LRdhXeD8LbYb5Mlh4P/8GUmxjcHk/PxCpVvRWeD8OVzfQRmF4P0JrOO38bXg/99RShFtheD8/EKlW9FZ4P126Ky5AWHg/PxCpVvRWeD8lWIeTFep4PyZgfYydYng/Dh9UVZdbeD8N1Ek4Xx1+P5hPFaZvYng/sqzxUrV/eD+tUCLtmJKQP7BaVev8Xng/d35AUfN5eD82v6Eysm14P0i5cRrXdng/IHonbtWJtT87VCp60Fl4P7ta5aTSk3g/qWI7lBxqeD/81/uM1H14P5krWFFpXng/YVDW3i9deD/G+IUzDVh4Pz8QqVb0Vng/FKDv/v1keD/dxTtrgJx4P+Z6bN+kXHg/PxCpVvRWeD8fceY3Pmt4P3YAhllad3g/itzE4GrIeD9RD61cxmB4Pz8QqVb0Vng/PxCpVvRWeD9GvxnD31t4P3jbaYOyW3g/PxCpVvRWeD+sQ20M97J8P//ilhnXc3w/PxCpVvRWeD9xZqvOGV54P99QQ3J/Mnk/hhVYd8LHlz8/EKlW9FZ4P/4pYVcifHg/IBr8dYNmeD+WEo93L2p4P6zZy9D9WHg/xwwKAd3joj9PwIk8tVd4P+C6nWyWbHg//Vcq4WkoeT9QK+RquAZ8PxXgfrAwZ3g/ZFuk4fxveD//4pYZ13N8Pz8QqVb0Vng/OXwYjP/VlT83pl92W1Z5Pz8QqVb0Vng/SuXPvK1aeD9phO+Cnmx4P8vn7DiUW3g/BOT6URhheD8tyNONYiJ6P4P9CcWNX3w/s8fm5tuHmD+1jgFbVV96P7tACaoglng/PxCpVvRWeD8E5vFMpwB6PyJTdtT3Knk/15lfcw7EeD/i7PZP+lp4PzI5T9G/aHg/6xe9bpSleD/fYBhDUNV4P/Coy3kEXpA/ELItm0lgeT/pUmFTIlh4Pz8QqVb0Vng/e5mYSBpXeD/+4S+leIl8P3xwed6x9Hw//+KWGddzfD+mqACBumB4P//ilhnXc3w/lOQY7lxIgD9ecY7VrGZ4P15MeO0WV3g/\",\"dtype\":\"float64\",\"order\":\"little\",\"shape\":[366]},\"class\":[0,0,0,0,0,0,0,0,0,0,0,0,0,0,0,0,0,0,0,0,0,0,0,0,0,0,0,0,0,0,0,0,0,0,0,0,0,0,0,0,0,0,0,0,0,0,0,0,0,0,0,0,0,0,0,0,0,0,0,0,0,0,0,0,0,0,0,0,0,0,0,0,0,0,0,0,0,0,0,0,0,0,0,0,0,0,0,0,0,0,0,0,0,0,0,0,0,0,0,0,0,0,0,0,0,0,0,0,0,0,0,0,0,0,0,0,0,0,0,0,0,0,0,0,0,0,0,0,0,0,0,0,0,0,0,0,0,0,0,0,0,0,0,0,0,0,0,0,0,0,0,0,0,0,0,0,0,0,0,0,0,0,0,0,0,0,0,0,0,0,0,0,0,0,0,0,0,0,0,0,0,0,0,0,0,0,0,0,0,0,0,0,0,0,0,0,0,0,0,0,0,0,0,0,0,0,0,0,0,0,0,0,0,0,0,0,0,0,0,0,0,0,0,0,0,0,0,0,0,0,0,0,0,0,0,0,0,0,0,0,0,0,0,0,0,0,0,0,0,0,0,0,0,0,0,0,0,0,0,0,0,0,0,0,0,0,0,0,0,0,0,0,0,0,0,0,0,0,0,0,0,0,0,0,0,0,0,0,0,0,0,0,0,0,0,0,0,0,0,0,0,0,0,0,0,0,0,0,0,0,0,0,0,0,0,0,0,0,0,0,0,0,0,0,0,0,0,0,0,0,0,0,0,0,0,0,0,0,0,0,0,0,0,0,0,0,0,0,0,0,0,0,0,0,0,0,0,0,0,0,0,0,0,0,0,0]},\"selected\":{\"id\":\"9640\"},\"selection_policy\":{\"id\":\"9655\"}},\"id\":\"9639\",\"type\":\"ColumnDataSource\"},{\"attributes\":{\"children\":[{\"id\":\"9596\"},{\"id\":\"9603\"},{\"id\":\"9880\"}],\"margin\":[0,0,0,0],\"name\":\"Row19483\",\"tags\":[\"embedded\"]},\"id\":\"9595\",\"type\":\"Row\"},{\"attributes\":{\"data\":{\"TotalCoinSupply\":{\"__ndarray__\":\"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\",\"dtype\":\"float64\",\"order\":\"little\",\"shape\":[313]},\"TotalCoinsMined\":{\"__ndarray__\":\"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\",\"dtype\":\"float64\",\"order\":\"little\",\"shape\":[313]},\"class\":[1,1,1,1,1,1,1,1,1,1,1,1,1,1,1,1,1,1,1,1,1,1,1,1,1,1,1,1,1,1,1,1,1,1,1,1,1,1,1,1,1,1,1,1,1,1,1,1,1,1,1,1,1,1,1,1,1,1,1,1,1,1,1,1,1,1,1,1,1,1,1,1,1,1,1,1,1,1,1,1,1,1,1,1,1,1,1,1,1,1,1,1,1,1,1,1,1,1,1,1,1,1,1,1,1,1,1,1,1,1,1,1,1,1,1,1,1,1,1,1,1,1,1,1,1,1,1,1,1,1,1,1,1,1,1,1,1,1,1,1,1,1,1,1,1,1,1,1,1,1,1,1,1,1,1,1,1,1,1,1,1,1,1,1,1,1,1,1,1,1,1,1,1,1,1,1,1,1,1,1,1,1,1,1,1,1,1,1,1,1,1,1,1,1,1,1,1,1,1,1,1,1,1,1,1,1,1,1,1,1,1,1,1,1,1,1,1,1,1,1,1,1,1,1,1,1,1,1,1,1,1,1,1,1,1,1,1,1,1,1,1,1,1,1,1,1,1,1,1,1,1,1,1,1,1,1,1,1,1,1,1,1,1,1,1,1,1,1,1,1,1,1,1,1,1,1,1,1,1,1,1,1,1,1,1,1,1,1,1,1,1,1,1,1,1,1,1,1,1,1,1,1,1,1,1,1,1,1,1,1,1,1,1]},\"selected\":{\"id\":\"9662\"},\"selection_policy\":{\"id\":\"9679\"}},\"id\":\"9661\",\"type\":\"ColumnDataSource\"},{\"attributes\":{},\"id\":\"9679\",\"type\":\"UnionRenderers\"},{\"attributes\":{\"axis\":{\"id\":\"9616\"},\"coordinates\":null,\"dimension\":1,\"grid_line_color\":null,\"group\":null,\"ticker\":null},\"id\":\"9619\",\"type\":\"Grid\"},{\"attributes\":{},\"id\":\"9608\",\"type\":\"LinearScale\"},{\"attributes\":{\"axis_label\":\"TotalCoinsMined\",\"coordinates\":null,\"formatter\":{\"id\":\"9634\"},\"group\":null,\"major_label_policy\":{\"id\":\"9635\"},\"ticker\":{\"id\":\"9613\"}},\"id\":\"9612\",\"type\":\"LinearAxis\"},{\"attributes\":{},\"id\":\"9704\",\"type\":\"UnionRenderers\"},{\"attributes\":{\"angle\":{\"value\":0.0},\"fill_alpha\":{\"value\":1.0},\"fill_color\":{\"value\":\"#fc4f30\"},\"hatch_alpha\":{\"value\":1.0},\"hatch_color\":{\"value\":\"#fc4f30\"},\"hatch_scale\":{\"value\":12.0},\"hatch_weight\":{\"value\":1.0},\"line_alpha\":{\"value\":1.0},\"line_cap\":{\"value\":\"butt\"},\"line_color\":{\"value\":\"#fc4f30\"},\"line_dash\":{\"value\":[]},\"line_dash_offset\":{\"value\":0},\"line_join\":{\"value\":\"bevel\"},\"line_width\":{\"value\":1},\"marker\":{\"value\":\"circle\"},\"size\":{\"value\":5.477225575051661},\"x\":{\"field\":\"TotalCoinsMined\"},\"y\":{\"field\":\"TotalCoinSupply\"}},\"id\":\"9683\",\"type\":\"Scatter\"},{\"attributes\":{\"axis\":{\"id\":\"9612\"},\"coordinates\":null,\"grid_line_color\":null,\"group\":null,\"ticker\":null},\"id\":\"9615\",\"type\":\"Grid\"},{\"attributes\":{},\"id\":\"9617\",\"type\":\"BasicTicker\"},{\"attributes\":{\"axis_label\":\"TotalCoinSupply\",\"coordinates\":null,\"formatter\":{\"id\":\"9637\"},\"group\":null,\"major_label_policy\":{\"id\":\"9638\"},\"ticker\":{\"id\":\"9617\"}},\"id\":\"9616\",\"type\":\"LinearAxis\"},{\"attributes\":{\"fill_color\":{\"value\":\"#e5ae38\"},\"hatch_color\":{\"value\":\"#e5ae38\"},\"line_color\":{\"value\":\"#e5ae38\"},\"size\":{\"value\":5.477225575051661},\"x\":{\"field\":\"TotalCoinsMined\"},\"y\":{\"field\":\"TotalCoinSupply\"}},\"id\":\"9687\",\"type\":\"Scatter\"},{\"attributes\":{},\"id\":\"9640\",\"type\":\"Selection\"},{\"attributes\":{\"fill_color\":{\"value\":\"#30a2da\"},\"hatch_color\":{\"value\":\"#30a2da\"},\"line_color\":{\"value\":\"#30a2da\"},\"size\":{\"value\":5.477225575051661},\"x\":{\"field\":\"TotalCoinsMined\"},\"y\":{\"field\":\"TotalCoinSupply\"}},\"id\":\"9642\",\"type\":\"Scatter\"},{\"attributes\":{\"label\":{\"value\":\"2\"},\"renderers\":[{\"id\":\"9691\"}]},\"id\":\"9707\",\"type\":\"LegendItem\"},{\"attributes\":{\"coordinates\":null,\"data_source\":{\"id\":\"9709\"},\"glyph\":{\"id\":\"9712\"},\"group\":null,\"hover_glyph\":{\"id\":\"9714\"},\"muted_glyph\":{\"id\":\"9715\"},\"nonselection_glyph\":{\"id\":\"9713\"},\"selection_glyph\":{\"id\":\"9735\"},\"view\":{\"id\":\"9717\"}},\"id\":\"9716\",\"type\":\"GlyphRenderer\"},{\"attributes\":{\"fill_alpha\":{\"value\":0.1},\"fill_color\":{\"value\":\"#30a2da\"},\"hatch_alpha\":{\"value\":0.1},\"hatch_color\":{\"value\":\"#30a2da\"},\"line_alpha\":{\"value\":0.1},\"line_color\":{\"value\":\"#30a2da\"},\"size\":{\"value\":5.477225575051661},\"x\":{\"field\":\"TotalCoinsMined\"},\"y\":{\"field\":\"TotalCoinSupply\"}},\"id\":\"9643\",\"type\":\"Scatter\"},{\"attributes\":{\"end\":1.1,\"reset_end\":1.1,\"reset_start\":-0.1,\"start\":-0.1,\"tags\":[[[\"TotalCoinSupply\",\"TotalCoinSupply\",null]]]},\"id\":\"9598\",\"type\":\"Range1d\"},{\"attributes\":{\"fill_alpha\":{\"value\":0.1},\"fill_color\":{\"value\":\"#e5ae38\"},\"hatch_alpha\":{\"value\":0.1},\"hatch_color\":{\"value\":\"#e5ae38\"},\"line_alpha\":{\"value\":0.1},\"line_color\":{\"value\":\"#e5ae38\"},\"size\":{\"value\":5.477225575051661},\"x\":{\"field\":\"TotalCoinsMined\"},\"y\":{\"field\":\"TotalCoinSupply\"}},\"id\":\"9688\",\"type\":\"Scatter\"},{\"attributes\":{\"source\":{\"id\":\"9684\"}},\"id\":\"9692\",\"type\":\"CDSView\"},{\"attributes\":{\"callback\":null,\"renderers\":[{\"id\":\"9646\"},{\"id\":\"9668\"},{\"id\":\"9691\"},{\"id\":\"9716\"}],\"tags\":[\"hv_created\"],\"tooltips\":[[\"class\",\"@{class}\"],[\"TotalCoinsMined\",\"@{TotalCoinsMined}\"],[\"TotalCoinSupply\",\"@{TotalCoinSupply}\"]]},\"id\":\"9599\",\"type\":\"HoverTool\"},{\"attributes\":{},\"id\":\"9637\",\"type\":\"BasicTickFormatter\"},{\"attributes\":{\"margin\":[5,5,5,5],\"name\":\"HSpacer19488\",\"sizing_mode\":\"stretch_width\"},\"id\":\"9880\",\"type\":\"Spacer\"},{\"attributes\":{\"coordinates\":null,\"data_source\":{\"id\":\"9684\"},\"glyph\":{\"id\":\"9687\"},\"group\":null,\"hover_glyph\":{\"id\":\"9689\"},\"muted_glyph\":{\"id\":\"9690\"},\"nonselection_glyph\":{\"id\":\"9688\"},\"selection_glyph\":{\"id\":\"9708\"},\"view\":{\"id\":\"9692\"}},\"id\":\"9691\",\"type\":\"GlyphRenderer\"},{\"attributes\":{},\"id\":\"9662\",\"type\":\"Selection\"},{\"attributes\":{\"fill_color\":{\"field\":\"CoinNamed\"},\"hatch_color\":{\"field\":\"CoinNamed\"},\"line_color\":{\"field\":\"CoinNamed\"},\"size\":{\"value\":5.477225575051661},\"x\":{\"field\":\"TotalCoinsMined\"},\"y\":{\"field\":\"TotalCoinSupply\"}},\"id\":\"9689\",\"type\":\"Scatter\"},{\"attributes\":{},\"id\":\"9620\",\"type\":\"SaveTool\"},{\"attributes\":{\"fill_alpha\":{\"value\":0.2},\"fill_color\":{\"value\":\"#e5ae38\"},\"hatch_alpha\":{\"value\":0.2},\"hatch_color\":{\"value\":\"#e5ae38\"},\"line_alpha\":{\"value\":0.2},\"line_color\":{\"value\":\"#e5ae38\"},\"size\":{\"value\":5.477225575051661},\"x\":{\"field\":\"TotalCoinsMined\"},\"y\":{\"field\":\"TotalCoinSupply\"}},\"id\":\"9690\",\"type\":\"Scatter\"},{\"attributes\":{},\"id\":\"9621\",\"type\":\"PanTool\"},{\"attributes\":{},\"id\":\"9622\",\"type\":\"WheelZoomTool\"},{\"attributes\":{\"tools\":[{\"id\":\"9599\"},{\"id\":\"9620\"},{\"id\":\"9621\"},{\"id\":\"9622\"},{\"id\":\"9623\"},{\"id\":\"9624\"}]},\"id\":\"9626\",\"type\":\"Toolbar\"},{\"attributes\":{\"overlay\":{\"id\":\"9625\"}},\"id\":\"9623\",\"type\":\"BoxZoomTool\"},{\"attributes\":{\"angle\":{\"value\":0.0},\"fill_alpha\":{\"value\":1.0},\"fill_color\":{\"value\":\"#e5ae38\"},\"hatch_alpha\":{\"value\":1.0},\"hatch_color\":{\"value\":\"#e5ae38\"},\"hatch_scale\":{\"value\":12.0},\"hatch_weight\":{\"value\":1.0},\"line_alpha\":{\"value\":1.0},\"line_cap\":{\"value\":\"butt\"},\"line_color\":{\"value\":\"#e5ae38\"},\"line_dash\":{\"value\":[]},\"line_dash_offset\":{\"value\":0},\"line_join\":{\"value\":\"bevel\"},\"line_width\":{\"value\":1},\"marker\":{\"value\":\"circle\"},\"size\":{\"value\":5.477225575051661},\"x\":{\"field\":\"TotalCoinsMined\"},\"y\":{\"field\":\"TotalCoinSupply\"}},\"id\":\"9708\",\"type\":\"Scatter\"},{\"attributes\":{\"fill_alpha\":{\"value\":0.1},\"fill_color\":{\"value\":\"#6d904f\"},\"hatch_alpha\":{\"value\":0.1},\"hatch_color\":{\"value\":\"#6d904f\"},\"line_alpha\":{\"value\":0.1},\"line_color\":{\"value\":\"#6d904f\"},\"size\":{\"value\":5.477225575051661},\"x\":{\"field\":\"TotalCoinsMined\"},\"y\":{\"field\":\"TotalCoinSupply\"}},\"id\":\"9713\",\"type\":\"Scatter\"},{\"attributes\":{},\"id\":\"9624\",\"type\":\"ResetTool\"},{\"attributes\":{\"fill_alpha\":{\"value\":0.2},\"fill_color\":{\"value\":\"#6d904f\"},\"hatch_alpha\":{\"value\":0.2},\"hatch_color\":{\"value\":\"#6d904f\"},\"line_alpha\":{\"value\":0.2},\"line_color\":{\"value\":\"#6d904f\"},\"size\":{\"value\":5.477225575051661},\"x\":{\"field\":\"TotalCoinsMined\"},\"y\":{\"field\":\"TotalCoinSupply\"}},\"id\":\"9715\",\"type\":\"Scatter\"},{\"attributes\":{\"label\":{\"value\":\"0\"},\"renderers\":[{\"id\":\"9646\"}]},\"id\":\"9659\",\"type\":\"LegendItem\"},{\"attributes\":{\"data\":{\"TotalCoinSupply\":{\"__ndarray__\":\"o4J2Ub6Lrz5xg5NxIoMnPo6Uj+l2SEc+sXnzo5QabT4Lqj8hX6ASPg==\",\"dtype\":\"float64\",\"order\":\"little\",\"shape\":[5]},\"TotalCoinsMined\":{\"__ndarray__\":\"XRjsm06Nrz/h0YxdPy55P//ilhnXc3w/AAAAAAAAAAC5C/Q2PsB4Pw==\",\"dtype\":\"float64\",\"order\":\"little\",\"shape\":[5]},\"class\":[2,2,2,2,2]},\"selected\":{\"id\":\"9685\"},\"selection_policy\":{\"id\":\"9704\"}},\"id\":\"9684\",\"type\":\"ColumnDataSource\"},{\"attributes\":{\"bottom_units\":\"screen\",\"coordinates\":null,\"fill_alpha\":0.5,\"fill_color\":\"lightgrey\",\"group\":null,\"left_units\":\"screen\",\"level\":\"overlay\",\"line_alpha\":1.0,\"line_color\":\"black\",\"line_dash\":[4,4],\"line_width\":2,\"right_units\":\"screen\",\"syncable\":false,\"top_units\":\"screen\"},\"id\":\"9625\",\"type\":\"BoxAnnotation\"},{\"attributes\":{\"source\":{\"id\":\"9709\"}},\"id\":\"9717\",\"type\":\"CDSView\"},{\"attributes\":{\"fill_color\":{\"value\":\"#6d904f\"},\"hatch_color\":{\"value\":\"#6d904f\"},\"line_color\":{\"value\":\"#6d904f\"},\"size\":{\"value\":5.477225575051661},\"x\":{\"field\":\"TotalCoinsMined\"},\"y\":{\"field\":\"TotalCoinSupply\"}},\"id\":\"9712\",\"type\":\"Scatter\"},{\"attributes\":{},\"id\":\"9635\",\"type\":\"AllLabels\"},{\"attributes\":{\"fill_color\":{\"value\":\"#fc4f30\"},\"hatch_color\":{\"value\":\"#fc4f30\"},\"line_color\":{\"value\":\"#fc4f30\"},\"size\":{\"value\":5.477225575051661},\"x\":{\"field\":\"TotalCoinsMined\"},\"y\":{\"field\":\"TotalCoinSupply\"}},\"id\":\"9664\",\"type\":\"Scatter\"},{\"attributes\":{\"fill_color\":{\"field\":\"CoinNamed\"},\"hatch_color\":{\"field\":\"CoinNamed\"},\"line_color\":{\"field\":\"CoinNamed\"},\"size\":{\"value\":5.477225575051661},\"x\":{\"field\":\"TotalCoinsMined\"},\"y\":{\"field\":\"TotalCoinSupply\"}},\"id\":\"9714\",\"type\":\"Scatter\"},{\"attributes\":{\"click_policy\":\"mute\",\"coordinates\":null,\"group\":null,\"items\":[{\"id\":\"9659\"},{\"id\":\"9682\"},{\"id\":\"9707\"},{\"id\":\"9734\"}],\"location\":[0,0],\"title\":\"class\"},\"id\":\"9658\",\"type\":\"Legend\"}],\"root_ids\":[\"9595\"]},\"title\":\"Bokeh Application\",\"version\":\"2.4.2\"}};\n",
       "    var render_items = [{\"docid\":\"caaf4e2d-ea72-4cfa-8315-b307e0ad2711\",\"root_ids\":[\"9595\"],\"roots\":{\"9595\":\"ad094a9a-03d5-43e7-ac0a-7f67e28d8373\"}}];\n",
       "    root.Bokeh.embed.embed_items_notebook(docs_json, render_items);\n",
       "  }\n",
       "  if (root.Bokeh !== undefined && root.Bokeh.Panel !== undefined) {\n",
       "    embed_document(root);\n",
       "  } else {\n",
       "    var attempts = 0;\n",
       "    var timer = setInterval(function(root) {\n",
       "      if (root.Bokeh !== undefined && root.Bokeh.Panel !== undefined) {\n",
       "        clearInterval(timer);\n",
       "        embed_document(root);\n",
       "      } else if (document.readyState == \"complete\") {\n",
       "        attempts++;\n",
       "        if (attempts > 200) {\n",
       "          clearInterval(timer);\n",
       "          console.log(\"Bokeh: ERROR: Unable to run BokehJS code because BokehJS library is missing\");\n",
       "        }\n",
       "      }\n",
       "    }, 25, root)\n",
       "  }\n",
       "})(window);</script>"
      ],
      "text/plain": [
       ":NdOverlay   [class]\n",
       "   :Scatter   [TotalCoinsMined]   (TotalCoinSupply)"
      ]
     },
     "execution_count": 332,
     "metadata": {
      "application/vnd.holoviews_exec.v0+json": {
       "id": "9595"
      }
     },
     "output_type": "execute_result"
    }
   ],
   "source": [
    "# Create a hvplot.scatter plot using x=\"TotalCoinsMined\" and y=\"TotalCoinSupply\".\n",
    "plot_df.hvplot.scatter(\n",
    "   x='TotalCoinsMined',\n",
    "   y='TotalCoinSupply',\n",
    "   hover_color=['CoinNamed'],\n",
    "   by='class'\n",
    ")"
   ]
  },
  {
   "cell_type": "code",
   "execution_count": null,
   "metadata": {},
   "outputs": [],
   "source": []
  }
 ],
 "metadata": {
  "file_extension": ".py",
  "kernelspec": {
   "display_name": "PythonData",
   "language": "python",
   "name": "pythondata"
  },
  "language_info": {
   "codemirror_mode": {
    "name": "ipython",
    "version": 3
   },
   "file_extension": ".py",
   "mimetype": "text/x-python",
   "name": "python",
   "nbconvert_exporter": "python",
   "pygments_lexer": "ipython3",
   "version": "3.7.13"
  },
  "latex_envs": {
   "LaTeX_envs_menu_present": true,
   "autoclose": false,
   "autocomplete": true,
   "bibliofile": "biblio.bib",
   "cite_by": "apalike",
   "current_citInitial": 1,
   "eqLabelWithNumbers": true,
   "eqNumInitial": 1,
   "hotkeys": {
    "equation": "Ctrl-E",
    "itemize": "Ctrl-I"
   },
   "labels_anchors": false,
   "latex_user_defs": false,
   "report_style_numbering": false,
   "user_envs_cfg": false
  },
  "mimetype": "text/x-python",
  "name": "python",
  "npconvert_exporter": "python",
  "pygments_lexer": "ipython3",
  "version": 3
 },
 "nbformat": 4,
 "nbformat_minor": 2
}
