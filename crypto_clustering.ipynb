{
 "cells": [
  {
   "cell_type": "markdown",
   "metadata": {},
   "source": [
    "# Clustering Crypto"
   ]
  },
  {
   "cell_type": "code",
   "execution_count": 98,
   "metadata": {},
   "outputs": [],
   "source": [
    "# Initial imports\n",
    "import pandas as pd\n",
    "import hvplot.pandas\n",
    "import hvplot\n",
    "from pathlib import Path\n",
    "import plotly.express as px\n",
    "from sklearn.preprocessing import StandardScaler, MinMaxScaler\n",
    "from sklearn.decomposition import PCA\n",
    "from sklearn.cluster import KMeans\n",
    "from unicodedata import name"
   ]
  },
  {
   "cell_type": "markdown",
   "metadata": {},
   "source": [
    "### Deliverable 1: Preprocessing the Data for PCA"
   ]
  },
  {
   "cell_type": "code",
   "execution_count": 99,
   "metadata": {},
   "outputs": [
    {
     "data": {
      "text/html": [
       "<div>\n",
       "<style scoped>\n",
       "    .dataframe tbody tr th:only-of-type {\n",
       "        vertical-align: middle;\n",
       "    }\n",
       "\n",
       "    .dataframe tbody tr th {\n",
       "        vertical-align: top;\n",
       "    }\n",
       "\n",
       "    .dataframe thead th {\n",
       "        text-align: right;\n",
       "    }\n",
       "</style>\n",
       "<table border=\"1\" class=\"dataframe\">\n",
       "  <thead>\n",
       "    <tr style=\"text-align: right;\">\n",
       "      <th></th>\n",
       "      <th>Unnamed: 0</th>\n",
       "      <th>CoinName</th>\n",
       "      <th>Algorithm</th>\n",
       "      <th>IsTrading</th>\n",
       "      <th>ProofType</th>\n",
       "      <th>TotalCoinsMined</th>\n",
       "      <th>TotalCoinSupply</th>\n",
       "    </tr>\n",
       "  </thead>\n",
       "  <tbody>\n",
       "    <tr>\n",
       "      <th>0</th>\n",
       "      <td>42</td>\n",
       "      <td>42 Coin</td>\n",
       "      <td>Scrypt</td>\n",
       "      <td>True</td>\n",
       "      <td>PoW/PoS</td>\n",
       "      <td>4.199995e+01</td>\n",
       "      <td>42</td>\n",
       "    </tr>\n",
       "    <tr>\n",
       "      <th>1</th>\n",
       "      <td>365</td>\n",
       "      <td>365Coin</td>\n",
       "      <td>X11</td>\n",
       "      <td>True</td>\n",
       "      <td>PoW/PoS</td>\n",
       "      <td>NaN</td>\n",
       "      <td>2300000000</td>\n",
       "    </tr>\n",
       "    <tr>\n",
       "      <th>2</th>\n",
       "      <td>404</td>\n",
       "      <td>404Coin</td>\n",
       "      <td>Scrypt</td>\n",
       "      <td>True</td>\n",
       "      <td>PoW/PoS</td>\n",
       "      <td>1.055185e+09</td>\n",
       "      <td>532000000</td>\n",
       "    </tr>\n",
       "    <tr>\n",
       "      <th>3</th>\n",
       "      <td>611</td>\n",
       "      <td>SixEleven</td>\n",
       "      <td>SHA-256</td>\n",
       "      <td>True</td>\n",
       "      <td>PoW</td>\n",
       "      <td>NaN</td>\n",
       "      <td>611000</td>\n",
       "    </tr>\n",
       "    <tr>\n",
       "      <th>4</th>\n",
       "      <td>808</td>\n",
       "      <td>808</td>\n",
       "      <td>SHA-256</td>\n",
       "      <td>True</td>\n",
       "      <td>PoW/PoS</td>\n",
       "      <td>0.000000e+00</td>\n",
       "      <td>0</td>\n",
       "    </tr>\n",
       "    <tr>\n",
       "      <th>5</th>\n",
       "      <td>1337</td>\n",
       "      <td>EliteCoin</td>\n",
       "      <td>X13</td>\n",
       "      <td>True</td>\n",
       "      <td>PoW/PoS</td>\n",
       "      <td>2.927942e+10</td>\n",
       "      <td>314159265359</td>\n",
       "    </tr>\n",
       "    <tr>\n",
       "      <th>6</th>\n",
       "      <td>2015</td>\n",
       "      <td>2015 coin</td>\n",
       "      <td>X11</td>\n",
       "      <td>True</td>\n",
       "      <td>PoW/PoS</td>\n",
       "      <td>NaN</td>\n",
       "      <td>0</td>\n",
       "    </tr>\n",
       "    <tr>\n",
       "      <th>7</th>\n",
       "      <td>BTC</td>\n",
       "      <td>Bitcoin</td>\n",
       "      <td>SHA-256</td>\n",
       "      <td>True</td>\n",
       "      <td>PoW</td>\n",
       "      <td>1.792718e+07</td>\n",
       "      <td>21000000</td>\n",
       "    </tr>\n",
       "    <tr>\n",
       "      <th>8</th>\n",
       "      <td>ETH</td>\n",
       "      <td>Ethereum</td>\n",
       "      <td>Ethash</td>\n",
       "      <td>True</td>\n",
       "      <td>PoW</td>\n",
       "      <td>1.076842e+08</td>\n",
       "      <td>0</td>\n",
       "    </tr>\n",
       "    <tr>\n",
       "      <th>9</th>\n",
       "      <td>LTC</td>\n",
       "      <td>Litecoin</td>\n",
       "      <td>Scrypt</td>\n",
       "      <td>True</td>\n",
       "      <td>PoW</td>\n",
       "      <td>6.303924e+07</td>\n",
       "      <td>84000000</td>\n",
       "    </tr>\n",
       "  </tbody>\n",
       "</table>\n",
       "</div>"
      ],
      "text/plain": [
       "  Unnamed: 0   CoinName Algorithm  IsTrading ProofType  TotalCoinsMined  \\\n",
       "0         42    42 Coin    Scrypt       True   PoW/PoS     4.199995e+01   \n",
       "1        365    365Coin       X11       True   PoW/PoS              NaN   \n",
       "2        404    404Coin    Scrypt       True   PoW/PoS     1.055185e+09   \n",
       "3        611  SixEleven   SHA-256       True       PoW              NaN   \n",
       "4        808        808   SHA-256       True   PoW/PoS     0.000000e+00   \n",
       "5       1337  EliteCoin       X13       True   PoW/PoS     2.927942e+10   \n",
       "6       2015  2015 coin       X11       True   PoW/PoS              NaN   \n",
       "7        BTC    Bitcoin   SHA-256       True       PoW     1.792718e+07   \n",
       "8        ETH   Ethereum    Ethash       True       PoW     1.076842e+08   \n",
       "9        LTC   Litecoin    Scrypt       True       PoW     6.303924e+07   \n",
       "\n",
       "  TotalCoinSupply  \n",
       "0              42  \n",
       "1      2300000000  \n",
       "2       532000000  \n",
       "3          611000  \n",
       "4               0  \n",
       "5    314159265359  \n",
       "6               0  \n",
       "7        21000000  \n",
       "8               0  \n",
       "9        84000000  "
      ]
     },
     "execution_count": 99,
     "metadata": {},
     "output_type": "execute_result"
    }
   ],
   "source": [
    "# Load the crypto_data.csv dataset.\n",
    "file_path = \"/Users/delonjackson/Desktop/GitHub/Cryptocurrencies/crypto_data.csv\"\n",
    "crypto_df = pd.read_csv(file_path)\n",
    "crypto_df.head(10)"
   ]
  },
  {
   "cell_type": "code",
   "execution_count": 100,
   "metadata": {},
   "outputs": [
    {
     "data": {
      "text/html": [
       "<div>\n",
       "<style scoped>\n",
       "    .dataframe tbody tr th:only-of-type {\n",
       "        vertical-align: middle;\n",
       "    }\n",
       "\n",
       "    .dataframe tbody tr th {\n",
       "        vertical-align: top;\n",
       "    }\n",
       "\n",
       "    .dataframe thead th {\n",
       "        text-align: right;\n",
       "    }\n",
       "</style>\n",
       "<table border=\"1\" class=\"dataframe\">\n",
       "  <thead>\n",
       "    <tr style=\"text-align: right;\">\n",
       "      <th></th>\n",
       "      <th>CoinName</th>\n",
       "      <th>Algorithm</th>\n",
       "      <th>IsTrading</th>\n",
       "      <th>ProofType</th>\n",
       "      <th>TotalCoinsMined</th>\n",
       "      <th>TotalCoinSupply</th>\n",
       "    </tr>\n",
       "  </thead>\n",
       "  <tbody>\n",
       "    <tr>\n",
       "      <th>0</th>\n",
       "      <td>42 Coin</td>\n",
       "      <td>Scrypt</td>\n",
       "      <td>True</td>\n",
       "      <td>PoW/PoS</td>\n",
       "      <td>4.199995e+01</td>\n",
       "      <td>42</td>\n",
       "    </tr>\n",
       "    <tr>\n",
       "      <th>1</th>\n",
       "      <td>365Coin</td>\n",
       "      <td>X11</td>\n",
       "      <td>True</td>\n",
       "      <td>PoW/PoS</td>\n",
       "      <td>NaN</td>\n",
       "      <td>2300000000</td>\n",
       "    </tr>\n",
       "    <tr>\n",
       "      <th>2</th>\n",
       "      <td>404Coin</td>\n",
       "      <td>Scrypt</td>\n",
       "      <td>True</td>\n",
       "      <td>PoW/PoS</td>\n",
       "      <td>1.055185e+09</td>\n",
       "      <td>532000000</td>\n",
       "    </tr>\n",
       "    <tr>\n",
       "      <th>3</th>\n",
       "      <td>SixEleven</td>\n",
       "      <td>SHA-256</td>\n",
       "      <td>True</td>\n",
       "      <td>PoW</td>\n",
       "      <td>NaN</td>\n",
       "      <td>611000</td>\n",
       "    </tr>\n",
       "    <tr>\n",
       "      <th>4</th>\n",
       "      <td>808</td>\n",
       "      <td>SHA-256</td>\n",
       "      <td>True</td>\n",
       "      <td>PoW/PoS</td>\n",
       "      <td>0.000000e+00</td>\n",
       "      <td>0</td>\n",
       "    </tr>\n",
       "  </tbody>\n",
       "</table>\n",
       "</div>"
      ],
      "text/plain": [
       "    CoinName Algorithm  IsTrading ProofType  TotalCoinsMined TotalCoinSupply\n",
       "0    42 Coin    Scrypt       True   PoW/PoS     4.199995e+01              42\n",
       "1    365Coin       X11       True   PoW/PoS              NaN      2300000000\n",
       "2    404Coin    Scrypt       True   PoW/PoS     1.055185e+09       532000000\n",
       "3  SixEleven   SHA-256       True       PoW              NaN          611000\n",
       "4        808   SHA-256       True   PoW/PoS     0.000000e+00               0"
      ]
     },
     "execution_count": 100,
     "metadata": {},
     "output_type": "execute_result"
    }
   ],
   "source": [
    "crypto_df.drop(columns=['Unnamed: 0'], inplace=True)\n",
    "crypto_df.head()"
   ]
  },
  {
   "cell_type": "code",
   "execution_count": 101,
   "metadata": {},
   "outputs": [
    {
     "data": {
      "text/html": [
       "<div>\n",
       "<style scoped>\n",
       "    .dataframe tbody tr th:only-of-type {\n",
       "        vertical-align: middle;\n",
       "    }\n",
       "\n",
       "    .dataframe tbody tr th {\n",
       "        vertical-align: top;\n",
       "    }\n",
       "\n",
       "    .dataframe thead th {\n",
       "        text-align: right;\n",
       "    }\n",
       "</style>\n",
       "<table border=\"1\" class=\"dataframe\">\n",
       "  <thead>\n",
       "    <tr style=\"text-align: right;\">\n",
       "      <th></th>\n",
       "      <th>CoinName</th>\n",
       "      <th>Algorithm</th>\n",
       "      <th>IsTrading</th>\n",
       "      <th>ProofType</th>\n",
       "      <th>TotalCoinsMined</th>\n",
       "      <th>TotalCoinSupply</th>\n",
       "    </tr>\n",
       "  </thead>\n",
       "  <tbody>\n",
       "    <tr>\n",
       "      <th>0</th>\n",
       "      <td>42 Coin</td>\n",
       "      <td>Scrypt</td>\n",
       "      <td>True</td>\n",
       "      <td>PoW/PoS</td>\n",
       "      <td>4.199995e+01</td>\n",
       "      <td>42</td>\n",
       "    </tr>\n",
       "    <tr>\n",
       "      <th>1</th>\n",
       "      <td>365Coin</td>\n",
       "      <td>X11</td>\n",
       "      <td>True</td>\n",
       "      <td>PoW/PoS</td>\n",
       "      <td>NaN</td>\n",
       "      <td>2300000000</td>\n",
       "    </tr>\n",
       "    <tr>\n",
       "      <th>2</th>\n",
       "      <td>404Coin</td>\n",
       "      <td>Scrypt</td>\n",
       "      <td>True</td>\n",
       "      <td>PoW/PoS</td>\n",
       "      <td>1.055185e+09</td>\n",
       "      <td>532000000</td>\n",
       "    </tr>\n",
       "    <tr>\n",
       "      <th>3</th>\n",
       "      <td>SixEleven</td>\n",
       "      <td>SHA-256</td>\n",
       "      <td>True</td>\n",
       "      <td>PoW</td>\n",
       "      <td>NaN</td>\n",
       "      <td>611000</td>\n",
       "    </tr>\n",
       "    <tr>\n",
       "      <th>4</th>\n",
       "      <td>808</td>\n",
       "      <td>SHA-256</td>\n",
       "      <td>True</td>\n",
       "      <td>PoW/PoS</td>\n",
       "      <td>0.000000e+00</td>\n",
       "      <td>0</td>\n",
       "    </tr>\n",
       "    <tr>\n",
       "      <th>5</th>\n",
       "      <td>EliteCoin</td>\n",
       "      <td>X13</td>\n",
       "      <td>True</td>\n",
       "      <td>PoW/PoS</td>\n",
       "      <td>2.927942e+10</td>\n",
       "      <td>314159265359</td>\n",
       "    </tr>\n",
       "    <tr>\n",
       "      <th>6</th>\n",
       "      <td>2015 coin</td>\n",
       "      <td>X11</td>\n",
       "      <td>True</td>\n",
       "      <td>PoW/PoS</td>\n",
       "      <td>NaN</td>\n",
       "      <td>0</td>\n",
       "    </tr>\n",
       "    <tr>\n",
       "      <th>7</th>\n",
       "      <td>Bitcoin</td>\n",
       "      <td>SHA-256</td>\n",
       "      <td>True</td>\n",
       "      <td>PoW</td>\n",
       "      <td>1.792718e+07</td>\n",
       "      <td>21000000</td>\n",
       "    </tr>\n",
       "    <tr>\n",
       "      <th>8</th>\n",
       "      <td>Ethereum</td>\n",
       "      <td>Ethash</td>\n",
       "      <td>True</td>\n",
       "      <td>PoW</td>\n",
       "      <td>1.076842e+08</td>\n",
       "      <td>0</td>\n",
       "    </tr>\n",
       "    <tr>\n",
       "      <th>9</th>\n",
       "      <td>Litecoin</td>\n",
       "      <td>Scrypt</td>\n",
       "      <td>True</td>\n",
       "      <td>PoW</td>\n",
       "      <td>6.303924e+07</td>\n",
       "      <td>84000000</td>\n",
       "    </tr>\n",
       "  </tbody>\n",
       "</table>\n",
       "</div>"
      ],
      "text/plain": [
       "    CoinName Algorithm  IsTrading ProofType  TotalCoinsMined TotalCoinSupply\n",
       "0    42 Coin    Scrypt       True   PoW/PoS     4.199995e+01              42\n",
       "1    365Coin       X11       True   PoW/PoS              NaN      2300000000\n",
       "2    404Coin    Scrypt       True   PoW/PoS     1.055185e+09       532000000\n",
       "3  SixEleven   SHA-256       True       PoW              NaN          611000\n",
       "4        808   SHA-256       True   PoW/PoS     0.000000e+00               0\n",
       "5  EliteCoin       X13       True   PoW/PoS     2.927942e+10    314159265359\n",
       "6  2015 coin       X11       True   PoW/PoS              NaN               0\n",
       "7    Bitcoin   SHA-256       True       PoW     1.792718e+07        21000000\n",
       "8   Ethereum    Ethash       True       PoW     1.076842e+08               0\n",
       "9   Litecoin    Scrypt       True       PoW     6.303924e+07        84000000"
      ]
     },
     "execution_count": 101,
     "metadata": {},
     "output_type": "execute_result"
    }
   ],
   "source": [
    "# Keep all the cryptocurrencies that are being traded.\n",
    "crypto_df = crypto_df[crypto_df['IsTrading']==True]\n",
    "crypto_df.head(10)\n"
   ]
  },
  {
   "cell_type": "code",
   "execution_count": 102,
   "metadata": {},
   "outputs": [
    {
     "data": {
      "text/plain": [
       "0       False\n",
       "1       False\n",
       "2       False\n",
       "3       False\n",
       "4       False\n",
       "        ...  \n",
       "1243    False\n",
       "1244    False\n",
       "1245    False\n",
       "1246    False\n",
       "1247    False\n",
       "Name: Algorithm, Length: 1144, dtype: bool"
      ]
     },
     "execution_count": 102,
     "metadata": {},
     "output_type": "execute_result"
    }
   ],
   "source": [
    "# Keep all the cryptocurrencies that have a working algorithm.\n",
    "pd.isna(crypto_df['Algorithm'])\n"
   ]
  },
  {
   "cell_type": "code",
   "execution_count": 103,
   "metadata": {},
   "outputs": [
    {
     "data": {
      "text/html": [
       "<div>\n",
       "<style scoped>\n",
       "    .dataframe tbody tr th:only-of-type {\n",
       "        vertical-align: middle;\n",
       "    }\n",
       "\n",
       "    .dataframe tbody tr th {\n",
       "        vertical-align: top;\n",
       "    }\n",
       "\n",
       "    .dataframe thead th {\n",
       "        text-align: right;\n",
       "    }\n",
       "</style>\n",
       "<table border=\"1\" class=\"dataframe\">\n",
       "  <thead>\n",
       "    <tr style=\"text-align: right;\">\n",
       "      <th></th>\n",
       "      <th>CoinName</th>\n",
       "      <th>Algorithm</th>\n",
       "      <th>ProofType</th>\n",
       "      <th>TotalCoinsMined</th>\n",
       "      <th>TotalCoinSupply</th>\n",
       "    </tr>\n",
       "  </thead>\n",
       "  <tbody>\n",
       "    <tr>\n",
       "      <th>0</th>\n",
       "      <td>42 Coin</td>\n",
       "      <td>Scrypt</td>\n",
       "      <td>PoW/PoS</td>\n",
       "      <td>4.199995e+01</td>\n",
       "      <td>42</td>\n",
       "    </tr>\n",
       "    <tr>\n",
       "      <th>1</th>\n",
       "      <td>365Coin</td>\n",
       "      <td>X11</td>\n",
       "      <td>PoW/PoS</td>\n",
       "      <td>NaN</td>\n",
       "      <td>2300000000</td>\n",
       "    </tr>\n",
       "    <tr>\n",
       "      <th>2</th>\n",
       "      <td>404Coin</td>\n",
       "      <td>Scrypt</td>\n",
       "      <td>PoW/PoS</td>\n",
       "      <td>1.055185e+09</td>\n",
       "      <td>532000000</td>\n",
       "    </tr>\n",
       "    <tr>\n",
       "      <th>3</th>\n",
       "      <td>SixEleven</td>\n",
       "      <td>SHA-256</td>\n",
       "      <td>PoW</td>\n",
       "      <td>NaN</td>\n",
       "      <td>611000</td>\n",
       "    </tr>\n",
       "    <tr>\n",
       "      <th>4</th>\n",
       "      <td>808</td>\n",
       "      <td>SHA-256</td>\n",
       "      <td>PoW/PoS</td>\n",
       "      <td>0.000000e+00</td>\n",
       "      <td>0</td>\n",
       "    </tr>\n",
       "  </tbody>\n",
       "</table>\n",
       "</div>"
      ],
      "text/plain": [
       "    CoinName Algorithm ProofType  TotalCoinsMined TotalCoinSupply\n",
       "0    42 Coin    Scrypt   PoW/PoS     4.199995e+01              42\n",
       "1    365Coin       X11   PoW/PoS              NaN      2300000000\n",
       "2    404Coin    Scrypt   PoW/PoS     1.055185e+09       532000000\n",
       "3  SixEleven   SHA-256       PoW              NaN          611000\n",
       "4        808   SHA-256   PoW/PoS     0.000000e+00               0"
      ]
     },
     "execution_count": 103,
     "metadata": {},
     "output_type": "execute_result"
    }
   ],
   "source": [
    "# Remove the \"IsTrading\" column. \n",
    "crypto_df  = crypto_df.drop(['IsTrading'], axis=1) \n",
    "crypto_df.head()"
   ]
  },
  {
   "cell_type": "code",
   "execution_count": 104,
   "metadata": {},
   "outputs": [
    {
     "data": {
      "text/html": [
       "<div>\n",
       "<style scoped>\n",
       "    .dataframe tbody tr th:only-of-type {\n",
       "        vertical-align: middle;\n",
       "    }\n",
       "\n",
       "    .dataframe tbody tr th {\n",
       "        vertical-align: top;\n",
       "    }\n",
       "\n",
       "    .dataframe thead th {\n",
       "        text-align: right;\n",
       "    }\n",
       "</style>\n",
       "<table border=\"1\" class=\"dataframe\">\n",
       "  <thead>\n",
       "    <tr style=\"text-align: right;\">\n",
       "      <th></th>\n",
       "      <th>CoinName</th>\n",
       "      <th>Algorithm</th>\n",
       "      <th>ProofType</th>\n",
       "      <th>TotalCoinsMined</th>\n",
       "      <th>TotalCoinSupply</th>\n",
       "    </tr>\n",
       "  </thead>\n",
       "  <tbody>\n",
       "    <tr>\n",
       "      <th>0</th>\n",
       "      <td>42 Coin</td>\n",
       "      <td>Scrypt</td>\n",
       "      <td>PoW/PoS</td>\n",
       "      <td>4.199995e+01</td>\n",
       "      <td>42</td>\n",
       "    </tr>\n",
       "    <tr>\n",
       "      <th>2</th>\n",
       "      <td>404Coin</td>\n",
       "      <td>Scrypt</td>\n",
       "      <td>PoW/PoS</td>\n",
       "      <td>1.055185e+09</td>\n",
       "      <td>532000000</td>\n",
       "    </tr>\n",
       "    <tr>\n",
       "      <th>4</th>\n",
       "      <td>808</td>\n",
       "      <td>SHA-256</td>\n",
       "      <td>PoW/PoS</td>\n",
       "      <td>0.000000e+00</td>\n",
       "      <td>0</td>\n",
       "    </tr>\n",
       "    <tr>\n",
       "      <th>5</th>\n",
       "      <td>EliteCoin</td>\n",
       "      <td>X13</td>\n",
       "      <td>PoW/PoS</td>\n",
       "      <td>2.927942e+10</td>\n",
       "      <td>314159265359</td>\n",
       "    </tr>\n",
       "    <tr>\n",
       "      <th>7</th>\n",
       "      <td>Bitcoin</td>\n",
       "      <td>SHA-256</td>\n",
       "      <td>PoW</td>\n",
       "      <td>1.792718e+07</td>\n",
       "      <td>21000000</td>\n",
       "    </tr>\n",
       "    <tr>\n",
       "      <th>8</th>\n",
       "      <td>Ethereum</td>\n",
       "      <td>Ethash</td>\n",
       "      <td>PoW</td>\n",
       "      <td>1.076842e+08</td>\n",
       "      <td>0</td>\n",
       "    </tr>\n",
       "    <tr>\n",
       "      <th>9</th>\n",
       "      <td>Litecoin</td>\n",
       "      <td>Scrypt</td>\n",
       "      <td>PoW</td>\n",
       "      <td>6.303924e+07</td>\n",
       "      <td>84000000</td>\n",
       "    </tr>\n",
       "    <tr>\n",
       "      <th>10</th>\n",
       "      <td>Dash</td>\n",
       "      <td>X11</td>\n",
       "      <td>PoW/PoS</td>\n",
       "      <td>9.031294e+06</td>\n",
       "      <td>22000000</td>\n",
       "    </tr>\n",
       "    <tr>\n",
       "      <th>11</th>\n",
       "      <td>Monero</td>\n",
       "      <td>CryptoNight-V7</td>\n",
       "      <td>PoW</td>\n",
       "      <td>1.720114e+07</td>\n",
       "      <td>0</td>\n",
       "    </tr>\n",
       "    <tr>\n",
       "      <th>12</th>\n",
       "      <td>Ethereum Classic</td>\n",
       "      <td>Ethash</td>\n",
       "      <td>PoW</td>\n",
       "      <td>1.133597e+08</td>\n",
       "      <td>210000000</td>\n",
       "    </tr>\n",
       "  </tbody>\n",
       "</table>\n",
       "</div>"
      ],
      "text/plain": [
       "            CoinName       Algorithm ProofType  TotalCoinsMined  \\\n",
       "0            42 Coin          Scrypt   PoW/PoS     4.199995e+01   \n",
       "2            404Coin          Scrypt   PoW/PoS     1.055185e+09   \n",
       "4                808         SHA-256   PoW/PoS     0.000000e+00   \n",
       "5          EliteCoin             X13   PoW/PoS     2.927942e+10   \n",
       "7            Bitcoin         SHA-256       PoW     1.792718e+07   \n",
       "8           Ethereum          Ethash       PoW     1.076842e+08   \n",
       "9           Litecoin          Scrypt       PoW     6.303924e+07   \n",
       "10              Dash             X11   PoW/PoS     9.031294e+06   \n",
       "11            Monero  CryptoNight-V7       PoW     1.720114e+07   \n",
       "12  Ethereum Classic          Ethash       PoW     1.133597e+08   \n",
       "\n",
       "   TotalCoinSupply  \n",
       "0               42  \n",
       "2        532000000  \n",
       "4                0  \n",
       "5     314159265359  \n",
       "7         21000000  \n",
       "8                0  \n",
       "9         84000000  \n",
       "10        22000000  \n",
       "11               0  \n",
       "12       210000000  "
      ]
     },
     "execution_count": 104,
     "metadata": {},
     "output_type": "execute_result"
    }
   ],
   "source": [
    "# Remove rows that have at least 1 null value.\n",
    "crypto_df = crypto_df.dropna()\n",
    "crypto_df.head(10)"
   ]
  },
  {
   "cell_type": "code",
   "execution_count": 105,
   "metadata": {},
   "outputs": [
    {
     "data": {
      "text/html": [
       "<div>\n",
       "<style scoped>\n",
       "    .dataframe tbody tr th:only-of-type {\n",
       "        vertical-align: middle;\n",
       "    }\n",
       "\n",
       "    .dataframe tbody tr th {\n",
       "        vertical-align: top;\n",
       "    }\n",
       "\n",
       "    .dataframe thead th {\n",
       "        text-align: right;\n",
       "    }\n",
       "</style>\n",
       "<table border=\"1\" class=\"dataframe\">\n",
       "  <thead>\n",
       "    <tr style=\"text-align: right;\">\n",
       "      <th></th>\n",
       "      <th>CoinName</th>\n",
       "      <th>Algorithm</th>\n",
       "      <th>ProofType</th>\n",
       "      <th>TotalCoinsMined</th>\n",
       "      <th>TotalCoinSupply</th>\n",
       "    </tr>\n",
       "  </thead>\n",
       "  <tbody>\n",
       "    <tr>\n",
       "      <th>0</th>\n",
       "      <td>42 Coin</td>\n",
       "      <td>Scrypt</td>\n",
       "      <td>PoW/PoS</td>\n",
       "      <td>4.199995e+01</td>\n",
       "      <td>42</td>\n",
       "    </tr>\n",
       "    <tr>\n",
       "      <th>2</th>\n",
       "      <td>404Coin</td>\n",
       "      <td>Scrypt</td>\n",
       "      <td>PoW/PoS</td>\n",
       "      <td>1.055185e+09</td>\n",
       "      <td>532000000</td>\n",
       "    </tr>\n",
       "    <tr>\n",
       "      <th>4</th>\n",
       "      <td>808</td>\n",
       "      <td>SHA-256</td>\n",
       "      <td>PoW/PoS</td>\n",
       "      <td>0.000000e+00</td>\n",
       "      <td>0</td>\n",
       "    </tr>\n",
       "    <tr>\n",
       "      <th>5</th>\n",
       "      <td>EliteCoin</td>\n",
       "      <td>X13</td>\n",
       "      <td>PoW/PoS</td>\n",
       "      <td>2.927942e+10</td>\n",
       "      <td>314159265359</td>\n",
       "    </tr>\n",
       "    <tr>\n",
       "      <th>7</th>\n",
       "      <td>Bitcoin</td>\n",
       "      <td>SHA-256</td>\n",
       "      <td>PoW</td>\n",
       "      <td>1.792718e+07</td>\n",
       "      <td>21000000</td>\n",
       "    </tr>\n",
       "    <tr>\n",
       "      <th>...</th>\n",
       "      <td>...</td>\n",
       "      <td>...</td>\n",
       "      <td>...</td>\n",
       "      <td>...</td>\n",
       "      <td>...</td>\n",
       "    </tr>\n",
       "    <tr>\n",
       "      <th>1238</th>\n",
       "      <td>ZEPHYR</td>\n",
       "      <td>SHA-256</td>\n",
       "      <td>DPoS</td>\n",
       "      <td>2.000000e+09</td>\n",
       "      <td>2000000000</td>\n",
       "    </tr>\n",
       "    <tr>\n",
       "      <th>1242</th>\n",
       "      <td>Gapcoin</td>\n",
       "      <td>Scrypt</td>\n",
       "      <td>PoW/PoS</td>\n",
       "      <td>1.493105e+07</td>\n",
       "      <td>250000000</td>\n",
       "    </tr>\n",
       "    <tr>\n",
       "      <th>1245</th>\n",
       "      <td>Beldex</td>\n",
       "      <td>CryptoNight</td>\n",
       "      <td>PoW</td>\n",
       "      <td>9.802226e+08</td>\n",
       "      <td>1400222610</td>\n",
       "    </tr>\n",
       "    <tr>\n",
       "      <th>1246</th>\n",
       "      <td>Horizen</td>\n",
       "      <td>Equihash</td>\n",
       "      <td>PoW</td>\n",
       "      <td>7.296538e+06</td>\n",
       "      <td>21000000</td>\n",
       "    </tr>\n",
       "    <tr>\n",
       "      <th>1247</th>\n",
       "      <td>BitcoinPlus</td>\n",
       "      <td>Scrypt</td>\n",
       "      <td>PoS</td>\n",
       "      <td>1.283270e+05</td>\n",
       "      <td>1000000</td>\n",
       "    </tr>\n",
       "  </tbody>\n",
       "</table>\n",
       "<p>685 rows × 5 columns</p>\n",
       "</div>"
      ],
      "text/plain": [
       "         CoinName    Algorithm ProofType  TotalCoinsMined TotalCoinSupply\n",
       "0         42 Coin       Scrypt   PoW/PoS     4.199995e+01              42\n",
       "2         404Coin       Scrypt   PoW/PoS     1.055185e+09       532000000\n",
       "4             808      SHA-256   PoW/PoS     0.000000e+00               0\n",
       "5       EliteCoin          X13   PoW/PoS     2.927942e+10    314159265359\n",
       "7         Bitcoin      SHA-256       PoW     1.792718e+07        21000000\n",
       "...           ...          ...       ...              ...             ...\n",
       "1238       ZEPHYR      SHA-256      DPoS     2.000000e+09      2000000000\n",
       "1242      Gapcoin       Scrypt   PoW/PoS     1.493105e+07       250000000\n",
       "1245       Beldex  CryptoNight       PoW     9.802226e+08      1400222610\n",
       "1246      Horizen     Equihash       PoW     7.296538e+06        21000000\n",
       "1247  BitcoinPlus       Scrypt       PoS     1.283270e+05         1000000\n",
       "\n",
       "[685 rows x 5 columns]"
      ]
     },
     "execution_count": 105,
     "metadata": {},
     "output_type": "execute_result"
    }
   ],
   "source": [
    "# Keep the rows where coins are mined.\n",
    "crypto_df[crypto_df['TotalCoinsMined'] > 0]\n",
    "crypto_df"
   ]
  },
  {
   "cell_type": "code",
   "execution_count": 106,
   "metadata": {},
   "outputs": [
    {
     "data": {
      "text/html": [
       "<div>\n",
       "<style scoped>\n",
       "    .dataframe tbody tr th:only-of-type {\n",
       "        vertical-align: middle;\n",
       "    }\n",
       "\n",
       "    .dataframe tbody tr th {\n",
       "        vertical-align: top;\n",
       "    }\n",
       "\n",
       "    .dataframe thead th {\n",
       "        text-align: right;\n",
       "    }\n",
       "</style>\n",
       "<table border=\"1\" class=\"dataframe\">\n",
       "  <thead>\n",
       "    <tr style=\"text-align: right;\">\n",
       "      <th></th>\n",
       "      <th>CoinName</th>\n",
       "    </tr>\n",
       "  </thead>\n",
       "  <tbody>\n",
       "    <tr>\n",
       "      <th>0</th>\n",
       "      <td>42 Coin</td>\n",
       "    </tr>\n",
       "    <tr>\n",
       "      <th>2</th>\n",
       "      <td>404Coin</td>\n",
       "    </tr>\n",
       "    <tr>\n",
       "      <th>4</th>\n",
       "      <td>808</td>\n",
       "    </tr>\n",
       "    <tr>\n",
       "      <th>5</th>\n",
       "      <td>EliteCoin</td>\n",
       "    </tr>\n",
       "    <tr>\n",
       "      <th>7</th>\n",
       "      <td>Bitcoin</td>\n",
       "    </tr>\n",
       "    <tr>\n",
       "      <th>8</th>\n",
       "      <td>Ethereum</td>\n",
       "    </tr>\n",
       "    <tr>\n",
       "      <th>9</th>\n",
       "      <td>Litecoin</td>\n",
       "    </tr>\n",
       "    <tr>\n",
       "      <th>10</th>\n",
       "      <td>Dash</td>\n",
       "    </tr>\n",
       "    <tr>\n",
       "      <th>11</th>\n",
       "      <td>Monero</td>\n",
       "    </tr>\n",
       "    <tr>\n",
       "      <th>12</th>\n",
       "      <td>Ethereum Classic</td>\n",
       "    </tr>\n",
       "  </tbody>\n",
       "</table>\n",
       "</div>"
      ],
      "text/plain": [
       "            CoinName\n",
       "0            42 Coin\n",
       "2            404Coin\n",
       "4                808\n",
       "5          EliteCoin\n",
       "7            Bitcoin\n",
       "8           Ethereum\n",
       "9           Litecoin\n",
       "10              Dash\n",
       "11            Monero\n",
       "12  Ethereum Classic"
      ]
     },
     "execution_count": 106,
     "metadata": {},
     "output_type": "execute_result"
    }
   ],
   "source": [
    "# Create a new DataFrame that holds only the cryptocurrencies names.\n",
    "coins_names = crypto_df.filter(['CoinName'], axis = 1)\n",
    "coins_names.head(10)"
   ]
  },
  {
   "cell_type": "code",
   "execution_count": 107,
   "metadata": {},
   "outputs": [
    {
     "name": "stdout",
     "output_type": "stream",
     "text": [
      "(685, 4)\n"
     ]
    },
    {
     "data": {
      "text/html": [
       "<div>\n",
       "<style scoped>\n",
       "    .dataframe tbody tr th:only-of-type {\n",
       "        vertical-align: middle;\n",
       "    }\n",
       "\n",
       "    .dataframe tbody tr th {\n",
       "        vertical-align: top;\n",
       "    }\n",
       "\n",
       "    .dataframe thead th {\n",
       "        text-align: right;\n",
       "    }\n",
       "</style>\n",
       "<table border=\"1\" class=\"dataframe\">\n",
       "  <thead>\n",
       "    <tr style=\"text-align: right;\">\n",
       "      <th></th>\n",
       "      <th>Algorithm</th>\n",
       "      <th>ProofType</th>\n",
       "      <th>TotalCoinsMined</th>\n",
       "      <th>TotalCoinSupply</th>\n",
       "    </tr>\n",
       "  </thead>\n",
       "  <tbody>\n",
       "    <tr>\n",
       "      <th>0</th>\n",
       "      <td>Scrypt</td>\n",
       "      <td>PoW/PoS</td>\n",
       "      <td>4.199995e+01</td>\n",
       "      <td>42</td>\n",
       "    </tr>\n",
       "    <tr>\n",
       "      <th>2</th>\n",
       "      <td>Scrypt</td>\n",
       "      <td>PoW/PoS</td>\n",
       "      <td>1.055185e+09</td>\n",
       "      <td>532000000</td>\n",
       "    </tr>\n",
       "    <tr>\n",
       "      <th>4</th>\n",
       "      <td>SHA-256</td>\n",
       "      <td>PoW/PoS</td>\n",
       "      <td>0.000000e+00</td>\n",
       "      <td>0</td>\n",
       "    </tr>\n",
       "    <tr>\n",
       "      <th>5</th>\n",
       "      <td>X13</td>\n",
       "      <td>PoW/PoS</td>\n",
       "      <td>2.927942e+10</td>\n",
       "      <td>314159265359</td>\n",
       "    </tr>\n",
       "    <tr>\n",
       "      <th>7</th>\n",
       "      <td>SHA-256</td>\n",
       "      <td>PoW</td>\n",
       "      <td>1.792718e+07</td>\n",
       "      <td>21000000</td>\n",
       "    </tr>\n",
       "    <tr>\n",
       "      <th>8</th>\n",
       "      <td>Ethash</td>\n",
       "      <td>PoW</td>\n",
       "      <td>1.076842e+08</td>\n",
       "      <td>0</td>\n",
       "    </tr>\n",
       "    <tr>\n",
       "      <th>9</th>\n",
       "      <td>Scrypt</td>\n",
       "      <td>PoW</td>\n",
       "      <td>6.303924e+07</td>\n",
       "      <td>84000000</td>\n",
       "    </tr>\n",
       "    <tr>\n",
       "      <th>10</th>\n",
       "      <td>X11</td>\n",
       "      <td>PoW/PoS</td>\n",
       "      <td>9.031294e+06</td>\n",
       "      <td>22000000</td>\n",
       "    </tr>\n",
       "    <tr>\n",
       "      <th>11</th>\n",
       "      <td>CryptoNight-V7</td>\n",
       "      <td>PoW</td>\n",
       "      <td>1.720114e+07</td>\n",
       "      <td>0</td>\n",
       "    </tr>\n",
       "    <tr>\n",
       "      <th>12</th>\n",
       "      <td>Ethash</td>\n",
       "      <td>PoW</td>\n",
       "      <td>1.133597e+08</td>\n",
       "      <td>210000000</td>\n",
       "    </tr>\n",
       "  </tbody>\n",
       "</table>\n",
       "</div>"
      ],
      "text/plain": [
       "         Algorithm ProofType  TotalCoinsMined TotalCoinSupply\n",
       "0           Scrypt   PoW/PoS     4.199995e+01              42\n",
       "2           Scrypt   PoW/PoS     1.055185e+09       532000000\n",
       "4          SHA-256   PoW/PoS     0.000000e+00               0\n",
       "5              X13   PoW/PoS     2.927942e+10    314159265359\n",
       "7          SHA-256       PoW     1.792718e+07        21000000\n",
       "8           Ethash       PoW     1.076842e+08               0\n",
       "9           Scrypt       PoW     6.303924e+07        84000000\n",
       "10             X11   PoW/PoS     9.031294e+06        22000000\n",
       "11  CryptoNight-V7       PoW     1.720114e+07               0\n",
       "12          Ethash       PoW     1.133597e+08       210000000"
      ]
     },
     "execution_count": 107,
     "metadata": {},
     "output_type": "execute_result"
    }
   ],
   "source": [
    "# Drop the 'CoinName' column since it's not going to be used on the clustering algorithm.\n",
    "crypto_df = crypto_df.drop(\"CoinName\", axis=1)\n",
    "print(crypto_df.shape)\n",
    "crypto_df.head(10)"
   ]
  },
  {
   "cell_type": "code",
   "execution_count": 108,
   "metadata": {},
   "outputs": [
    {
     "name": "stdout",
     "output_type": "stream",
     "text": [
      "(685, 109)\n"
     ]
    },
    {
     "data": {
      "text/html": [
       "<div>\n",
       "<style scoped>\n",
       "    .dataframe tbody tr th:only-of-type {\n",
       "        vertical-align: middle;\n",
       "    }\n",
       "\n",
       "    .dataframe tbody tr th {\n",
       "        vertical-align: top;\n",
       "    }\n",
       "\n",
       "    .dataframe thead th {\n",
       "        text-align: right;\n",
       "    }\n",
       "</style>\n",
       "<table border=\"1\" class=\"dataframe\">\n",
       "  <thead>\n",
       "    <tr style=\"text-align: right;\">\n",
       "      <th></th>\n",
       "      <th>TotalCoinsMined</th>\n",
       "      <th>TotalCoinSupply</th>\n",
       "      <th>Algorithm_1GB AES Pattern Search</th>\n",
       "      <th>Algorithm_536</th>\n",
       "      <th>Algorithm_Argon2</th>\n",
       "      <th>Algorithm_Argon2d</th>\n",
       "      <th>Algorithm_BLAKE256</th>\n",
       "      <th>Algorithm_Blake</th>\n",
       "      <th>Algorithm_Blake2S</th>\n",
       "      <th>Algorithm_Blake2b</th>\n",
       "      <th>...</th>\n",
       "      <th>ProofType_PoW/PoS</th>\n",
       "      <th>ProofType_PoW/PoS</th>\n",
       "      <th>ProofType_PoW/PoW</th>\n",
       "      <th>ProofType_PoW/nPoS</th>\n",
       "      <th>ProofType_Pos</th>\n",
       "      <th>ProofType_Proof of Authority</th>\n",
       "      <th>ProofType_Proof of Trust</th>\n",
       "      <th>ProofType_TPoS</th>\n",
       "      <th>ProofType_Zero-Knowledge Proof</th>\n",
       "      <th>ProofType_dPoW/PoW</th>\n",
       "    </tr>\n",
       "  </thead>\n",
       "  <tbody>\n",
       "    <tr>\n",
       "      <th>0</th>\n",
       "      <td>4.199995e+01</td>\n",
       "      <td>42</td>\n",
       "      <td>0</td>\n",
       "      <td>0</td>\n",
       "      <td>0</td>\n",
       "      <td>0</td>\n",
       "      <td>0</td>\n",
       "      <td>0</td>\n",
       "      <td>0</td>\n",
       "      <td>0</td>\n",
       "      <td>...</td>\n",
       "      <td>1</td>\n",
       "      <td>0</td>\n",
       "      <td>0</td>\n",
       "      <td>0</td>\n",
       "      <td>0</td>\n",
       "      <td>0</td>\n",
       "      <td>0</td>\n",
       "      <td>0</td>\n",
       "      <td>0</td>\n",
       "      <td>0</td>\n",
       "    </tr>\n",
       "    <tr>\n",
       "      <th>2</th>\n",
       "      <td>1.055185e+09</td>\n",
       "      <td>532000000</td>\n",
       "      <td>0</td>\n",
       "      <td>0</td>\n",
       "      <td>0</td>\n",
       "      <td>0</td>\n",
       "      <td>0</td>\n",
       "      <td>0</td>\n",
       "      <td>0</td>\n",
       "      <td>0</td>\n",
       "      <td>...</td>\n",
       "      <td>1</td>\n",
       "      <td>0</td>\n",
       "      <td>0</td>\n",
       "      <td>0</td>\n",
       "      <td>0</td>\n",
       "      <td>0</td>\n",
       "      <td>0</td>\n",
       "      <td>0</td>\n",
       "      <td>0</td>\n",
       "      <td>0</td>\n",
       "    </tr>\n",
       "    <tr>\n",
       "      <th>4</th>\n",
       "      <td>0.000000e+00</td>\n",
       "      <td>0</td>\n",
       "      <td>0</td>\n",
       "      <td>0</td>\n",
       "      <td>0</td>\n",
       "      <td>0</td>\n",
       "      <td>0</td>\n",
       "      <td>0</td>\n",
       "      <td>0</td>\n",
       "      <td>0</td>\n",
       "      <td>...</td>\n",
       "      <td>1</td>\n",
       "      <td>0</td>\n",
       "      <td>0</td>\n",
       "      <td>0</td>\n",
       "      <td>0</td>\n",
       "      <td>0</td>\n",
       "      <td>0</td>\n",
       "      <td>0</td>\n",
       "      <td>0</td>\n",
       "      <td>0</td>\n",
       "    </tr>\n",
       "    <tr>\n",
       "      <th>5</th>\n",
       "      <td>2.927942e+10</td>\n",
       "      <td>314159265359</td>\n",
       "      <td>0</td>\n",
       "      <td>0</td>\n",
       "      <td>0</td>\n",
       "      <td>0</td>\n",
       "      <td>0</td>\n",
       "      <td>0</td>\n",
       "      <td>0</td>\n",
       "      <td>0</td>\n",
       "      <td>...</td>\n",
       "      <td>1</td>\n",
       "      <td>0</td>\n",
       "      <td>0</td>\n",
       "      <td>0</td>\n",
       "      <td>0</td>\n",
       "      <td>0</td>\n",
       "      <td>0</td>\n",
       "      <td>0</td>\n",
       "      <td>0</td>\n",
       "      <td>0</td>\n",
       "    </tr>\n",
       "    <tr>\n",
       "      <th>7</th>\n",
       "      <td>1.792718e+07</td>\n",
       "      <td>21000000</td>\n",
       "      <td>0</td>\n",
       "      <td>0</td>\n",
       "      <td>0</td>\n",
       "      <td>0</td>\n",
       "      <td>0</td>\n",
       "      <td>0</td>\n",
       "      <td>0</td>\n",
       "      <td>0</td>\n",
       "      <td>...</td>\n",
       "      <td>0</td>\n",
       "      <td>0</td>\n",
       "      <td>0</td>\n",
       "      <td>0</td>\n",
       "      <td>0</td>\n",
       "      <td>0</td>\n",
       "      <td>0</td>\n",
       "      <td>0</td>\n",
       "      <td>0</td>\n",
       "      <td>0</td>\n",
       "    </tr>\n",
       "    <tr>\n",
       "      <th>8</th>\n",
       "      <td>1.076842e+08</td>\n",
       "      <td>0</td>\n",
       "      <td>0</td>\n",
       "      <td>0</td>\n",
       "      <td>0</td>\n",
       "      <td>0</td>\n",
       "      <td>0</td>\n",
       "      <td>0</td>\n",
       "      <td>0</td>\n",
       "      <td>0</td>\n",
       "      <td>...</td>\n",
       "      <td>0</td>\n",
       "      <td>0</td>\n",
       "      <td>0</td>\n",
       "      <td>0</td>\n",
       "      <td>0</td>\n",
       "      <td>0</td>\n",
       "      <td>0</td>\n",
       "      <td>0</td>\n",
       "      <td>0</td>\n",
       "      <td>0</td>\n",
       "    </tr>\n",
       "    <tr>\n",
       "      <th>9</th>\n",
       "      <td>6.303924e+07</td>\n",
       "      <td>84000000</td>\n",
       "      <td>0</td>\n",
       "      <td>0</td>\n",
       "      <td>0</td>\n",
       "      <td>0</td>\n",
       "      <td>0</td>\n",
       "      <td>0</td>\n",
       "      <td>0</td>\n",
       "      <td>0</td>\n",
       "      <td>...</td>\n",
       "      <td>0</td>\n",
       "      <td>0</td>\n",
       "      <td>0</td>\n",
       "      <td>0</td>\n",
       "      <td>0</td>\n",
       "      <td>0</td>\n",
       "      <td>0</td>\n",
       "      <td>0</td>\n",
       "      <td>0</td>\n",
       "      <td>0</td>\n",
       "    </tr>\n",
       "    <tr>\n",
       "      <th>10</th>\n",
       "      <td>9.031294e+06</td>\n",
       "      <td>22000000</td>\n",
       "      <td>0</td>\n",
       "      <td>0</td>\n",
       "      <td>0</td>\n",
       "      <td>0</td>\n",
       "      <td>0</td>\n",
       "      <td>0</td>\n",
       "      <td>0</td>\n",
       "      <td>0</td>\n",
       "      <td>...</td>\n",
       "      <td>1</td>\n",
       "      <td>0</td>\n",
       "      <td>0</td>\n",
       "      <td>0</td>\n",
       "      <td>0</td>\n",
       "      <td>0</td>\n",
       "      <td>0</td>\n",
       "      <td>0</td>\n",
       "      <td>0</td>\n",
       "      <td>0</td>\n",
       "    </tr>\n",
       "    <tr>\n",
       "      <th>11</th>\n",
       "      <td>1.720114e+07</td>\n",
       "      <td>0</td>\n",
       "      <td>0</td>\n",
       "      <td>0</td>\n",
       "      <td>0</td>\n",
       "      <td>0</td>\n",
       "      <td>0</td>\n",
       "      <td>0</td>\n",
       "      <td>0</td>\n",
       "      <td>0</td>\n",
       "      <td>...</td>\n",
       "      <td>0</td>\n",
       "      <td>0</td>\n",
       "      <td>0</td>\n",
       "      <td>0</td>\n",
       "      <td>0</td>\n",
       "      <td>0</td>\n",
       "      <td>0</td>\n",
       "      <td>0</td>\n",
       "      <td>0</td>\n",
       "      <td>0</td>\n",
       "    </tr>\n",
       "    <tr>\n",
       "      <th>12</th>\n",
       "      <td>1.133597e+08</td>\n",
       "      <td>210000000</td>\n",
       "      <td>0</td>\n",
       "      <td>0</td>\n",
       "      <td>0</td>\n",
       "      <td>0</td>\n",
       "      <td>0</td>\n",
       "      <td>0</td>\n",
       "      <td>0</td>\n",
       "      <td>0</td>\n",
       "      <td>...</td>\n",
       "      <td>0</td>\n",
       "      <td>0</td>\n",
       "      <td>0</td>\n",
       "      <td>0</td>\n",
       "      <td>0</td>\n",
       "      <td>0</td>\n",
       "      <td>0</td>\n",
       "      <td>0</td>\n",
       "      <td>0</td>\n",
       "      <td>0</td>\n",
       "    </tr>\n",
       "  </tbody>\n",
       "</table>\n",
       "<p>10 rows × 109 columns</p>\n",
       "</div>"
      ],
      "text/plain": [
       "    TotalCoinsMined TotalCoinSupply  Algorithm_1GB AES Pattern Search  \\\n",
       "0      4.199995e+01              42                                 0   \n",
       "2      1.055185e+09       532000000                                 0   \n",
       "4      0.000000e+00               0                                 0   \n",
       "5      2.927942e+10    314159265359                                 0   \n",
       "7      1.792718e+07        21000000                                 0   \n",
       "8      1.076842e+08               0                                 0   \n",
       "9      6.303924e+07        84000000                                 0   \n",
       "10     9.031294e+06        22000000                                 0   \n",
       "11     1.720114e+07               0                                 0   \n",
       "12     1.133597e+08       210000000                                 0   \n",
       "\n",
       "    Algorithm_536  Algorithm_Argon2  Algorithm_Argon2d  Algorithm_BLAKE256  \\\n",
       "0               0                 0                  0                   0   \n",
       "2               0                 0                  0                   0   \n",
       "4               0                 0                  0                   0   \n",
       "5               0                 0                  0                   0   \n",
       "7               0                 0                  0                   0   \n",
       "8               0                 0                  0                   0   \n",
       "9               0                 0                  0                   0   \n",
       "10              0                 0                  0                   0   \n",
       "11              0                 0                  0                   0   \n",
       "12              0                 0                  0                   0   \n",
       "\n",
       "    Algorithm_Blake  Algorithm_Blake2S  Algorithm_Blake2b  ...  \\\n",
       "0                 0                  0                  0  ...   \n",
       "2                 0                  0                  0  ...   \n",
       "4                 0                  0                  0  ...   \n",
       "5                 0                  0                  0  ...   \n",
       "7                 0                  0                  0  ...   \n",
       "8                 0                  0                  0  ...   \n",
       "9                 0                  0                  0  ...   \n",
       "10                0                  0                  0  ...   \n",
       "11                0                  0                  0  ...   \n",
       "12                0                  0                  0  ...   \n",
       "\n",
       "    ProofType_PoW/PoS  ProofType_PoW/PoS   ProofType_PoW/PoW  \\\n",
       "0                   1                   0                  0   \n",
       "2                   1                   0                  0   \n",
       "4                   1                   0                  0   \n",
       "5                   1                   0                  0   \n",
       "7                   0                   0                  0   \n",
       "8                   0                   0                  0   \n",
       "9                   0                   0                  0   \n",
       "10                  1                   0                  0   \n",
       "11                  0                   0                  0   \n",
       "12                  0                   0                  0   \n",
       "\n",
       "    ProofType_PoW/nPoS  ProofType_Pos  ProofType_Proof of Authority  \\\n",
       "0                    0              0                             0   \n",
       "2                    0              0                             0   \n",
       "4                    0              0                             0   \n",
       "5                    0              0                             0   \n",
       "7                    0              0                             0   \n",
       "8                    0              0                             0   \n",
       "9                    0              0                             0   \n",
       "10                   0              0                             0   \n",
       "11                   0              0                             0   \n",
       "12                   0              0                             0   \n",
       "\n",
       "    ProofType_Proof of Trust  ProofType_TPoS  ProofType_Zero-Knowledge Proof  \\\n",
       "0                          0               0                               0   \n",
       "2                          0               0                               0   \n",
       "4                          0               0                               0   \n",
       "5                          0               0                               0   \n",
       "7                          0               0                               0   \n",
       "8                          0               0                               0   \n",
       "9                          0               0                               0   \n",
       "10                         0               0                               0   \n",
       "11                         0               0                               0   \n",
       "12                         0               0                               0   \n",
       "\n",
       "    ProofType_dPoW/PoW  \n",
       "0                    0  \n",
       "2                    0  \n",
       "4                    0  \n",
       "5                    0  \n",
       "7                    0  \n",
       "8                    0  \n",
       "9                    0  \n",
       "10                   0  \n",
       "11                   0  \n",
       "12                   0  \n",
       "\n",
       "[10 rows x 109 columns]"
      ]
     },
     "execution_count": 108,
     "metadata": {},
     "output_type": "execute_result"
    }
   ],
   "source": [
    "# Use get_dummies() to create variables for text features.\n",
    "crypto_scaled = pd.get_dummies(data=crypto_df, columns=['Algorithm', 'ProofType'])\n",
    "print(crypto_scaled.shape)\n",
    "crypto_scaled.head(10)"
   ]
  },
  {
   "cell_type": "code",
   "execution_count": 109,
   "metadata": {},
   "outputs": [
    {
     "name": "stdout",
     "output_type": "stream",
     "text": [
      "[[-0.10282804 -0.03823841 -0.03823596 ... -0.03823596 -0.03823596\n",
      "  -0.03823596]\n",
      " [-0.07661326 -0.03823825 -0.03823596 ... -0.03823596 -0.03823596\n",
      "  -0.03823596]\n",
      " [-0.10282804 -0.03823841 -0.03823596 ... -0.03823596 -0.03823596\n",
      "  -0.03823596]\n",
      " ...\n",
      " [-0.0784756  -0.03823801 -0.03823596 ... -0.03823596 -0.03823596\n",
      "  -0.03823596]\n",
      " [-0.10264677 -0.0382384  -0.03823596 ... -0.03823596 -0.03823596\n",
      "  -0.03823596]\n",
      " [-0.10282485 -0.03823841 -0.03823596 ... -0.03823596 -0.03823596\n",
      "  -0.03823596]]\n"
     ]
    }
   ],
   "source": [
    "# Standardize the data with StandardScaler().\n",
    "crypto_scaled = StandardScaler().fit_transform(crypto_scaled)\n",
    "print(crypto_scaled)"
   ]
  },
  {
   "cell_type": "markdown",
   "metadata": {},
   "source": [
    "### Deliverable 2: Reducing Data Dimensions Using PCA"
   ]
  },
  {
   "cell_type": "code",
   "execution_count": 110,
   "metadata": {},
   "outputs": [
    {
     "data": {
      "text/plain": [
       "array([[-0.20448464,  1.23273912, -0.43530799],\n",
       "       [-0.19027503,  1.23141727, -0.4357083 ],\n",
       "       [-0.14786032,  0.81532324, -0.30836211],\n",
       "       ...,\n",
       "       [-0.14669963, -2.30899675,  0.23905436],\n",
       "       [-0.27282351, -2.01826335,  0.13868603],\n",
       "       [-0.08705627,  0.78951931, -0.16093951]])"
      ]
     },
     "execution_count": 110,
     "metadata": {},
     "output_type": "execute_result"
    }
   ],
   "source": [
    "# Using PCA to reduce dimension to three principal components.\n",
    "pca = PCA(n_components=3)\n",
    "\n",
    "crypto_pca = pca.fit_transform(crypto_scaled)\n",
    "\n",
    "crypto_pca"
   ]
  },
  {
   "cell_type": "code",
   "execution_count": 111,
   "metadata": {},
   "outputs": [
    {
     "data": {
      "text/html": [
       "<div>\n",
       "<style scoped>\n",
       "    .dataframe tbody tr th:only-of-type {\n",
       "        vertical-align: middle;\n",
       "    }\n",
       "\n",
       "    .dataframe tbody tr th {\n",
       "        vertical-align: top;\n",
       "    }\n",
       "\n",
       "    .dataframe thead th {\n",
       "        text-align: right;\n",
       "    }\n",
       "</style>\n",
       "<table border=\"1\" class=\"dataframe\">\n",
       "  <thead>\n",
       "    <tr style=\"text-align: right;\">\n",
       "      <th></th>\n",
       "      <th>PC 1</th>\n",
       "      <th>PC 2</th>\n",
       "      <th>PC 3</th>\n",
       "    </tr>\n",
       "  </thead>\n",
       "  <tbody>\n",
       "    <tr>\n",
       "      <th>0</th>\n",
       "      <td>-0.204485</td>\n",
       "      <td>1.232739</td>\n",
       "      <td>-0.435308</td>\n",
       "    </tr>\n",
       "    <tr>\n",
       "      <th>2</th>\n",
       "      <td>-0.190275</td>\n",
       "      <td>1.231417</td>\n",
       "      <td>-0.435708</td>\n",
       "    </tr>\n",
       "    <tr>\n",
       "      <th>4</th>\n",
       "      <td>-0.147860</td>\n",
       "      <td>0.815323</td>\n",
       "      <td>-0.308362</td>\n",
       "    </tr>\n",
       "    <tr>\n",
       "      <th>5</th>\n",
       "      <td>0.307759</td>\n",
       "      <td>1.986889</td>\n",
       "      <td>-0.491627</td>\n",
       "    </tr>\n",
       "    <tr>\n",
       "      <th>7</th>\n",
       "      <td>-0.223109</td>\n",
       "      <td>-1.464867</td>\n",
       "      <td>0.087360</td>\n",
       "    </tr>\n",
       "    <tr>\n",
       "      <th>8</th>\n",
       "      <td>-0.304736</td>\n",
       "      <td>-2.130318</td>\n",
       "      <td>0.237783</td>\n",
       "    </tr>\n",
       "    <tr>\n",
       "      <th>9</th>\n",
       "      <td>-0.279126</td>\n",
       "      <td>-1.047507</td>\n",
       "      <td>-0.039603</td>\n",
       "    </tr>\n",
       "    <tr>\n",
       "      <th>10</th>\n",
       "      <td>-0.228403</td>\n",
       "      <td>1.418721</td>\n",
       "      <td>-0.401459</td>\n",
       "    </tr>\n",
       "    <tr>\n",
       "      <th>11</th>\n",
       "      <td>-0.313713</td>\n",
       "      <td>-2.222858</td>\n",
       "      <td>0.333265</td>\n",
       "    </tr>\n",
       "    <tr>\n",
       "      <th>12</th>\n",
       "      <td>-0.304659</td>\n",
       "      <td>-2.130325</td>\n",
       "      <td>0.237781</td>\n",
       "    </tr>\n",
       "  </tbody>\n",
       "</table>\n",
       "</div>"
      ],
      "text/plain": [
       "        PC 1      PC 2      PC 3\n",
       "0  -0.204485  1.232739 -0.435308\n",
       "2  -0.190275  1.231417 -0.435708\n",
       "4  -0.147860  0.815323 -0.308362\n",
       "5   0.307759  1.986889 -0.491627\n",
       "7  -0.223109 -1.464867  0.087360\n",
       "8  -0.304736 -2.130318  0.237783\n",
       "9  -0.279126 -1.047507 -0.039603\n",
       "10 -0.228403  1.418721 -0.401459\n",
       "11 -0.313713 -2.222858  0.333265\n",
       "12 -0.304659 -2.130325  0.237781"
      ]
     },
     "execution_count": 111,
     "metadata": {},
     "output_type": "execute_result"
    }
   ],
   "source": [
    "# Create a DataFrame with the three principal components.\n",
    "pcs_df = pd.DataFrame(data= crypto_pca, columns=['PC 1', 'PC 2', 'PC 3'], index=crypto_df.index)\n",
    "pcs_df.head(10)"
   ]
  },
  {
   "cell_type": "markdown",
   "metadata": {},
   "source": [
    "### Deliverable 3: Clustering Crytocurrencies Using K-Means\n",
    "\n",
    "#### Finding the Best Value for `k` Using the Elbow Curve"
   ]
  },
  {
   "cell_type": "code",
   "execution_count": 112,
   "metadata": {},
   "outputs": [
    {
     "data": {},
     "metadata": {},
     "output_type": "display_data"
    },
    {
     "data": {
      "application/vnd.holoviews_exec.v0+json": "",
      "text/html": [
       "<div id='2770'>\n",
       "\n",
       "\n",
       "\n",
       "\n",
       "\n",
       "  <div class=\"bk-root\" id=\"a49bbef9-c1a2-4636-90c5-5f89e3ecdf01\" data-root-id=\"2770\"></div>\n",
       "</div>\n",
       "<script type=\"application/javascript\">(function(root) {\n",
       "  function embed_document(root) {\n",
       "    var docs_json = {\"58a6cbf2-4d84-4e22-905d-bba751619638\":{\"defs\":[{\"extends\":null,\"module\":null,\"name\":\"ReactiveHTML1\",\"overrides\":[],\"properties\":[]},{\"extends\":null,\"module\":null,\"name\":\"FlexBox1\",\"overrides\":[],\"properties\":[{\"default\":\"flex-start\",\"kind\":null,\"name\":\"align_content\"},{\"default\":\"flex-start\",\"kind\":null,\"name\":\"align_items\"},{\"default\":\"row\",\"kind\":null,\"name\":\"flex_direction\"},{\"default\":\"wrap\",\"kind\":null,\"name\":\"flex_wrap\"},{\"default\":\"flex-start\",\"kind\":null,\"name\":\"justify_content\"}]},{\"extends\":null,\"module\":null,\"name\":\"GridStack1\",\"overrides\":[],\"properties\":[{\"default\":\"warn\",\"kind\":null,\"name\":\"mode\"},{\"default\":null,\"kind\":null,\"name\":\"ncols\"},{\"default\":null,\"kind\":null,\"name\":\"nrows\"},{\"default\":true,\"kind\":null,\"name\":\"allow_resize\"},{\"default\":true,\"kind\":null,\"name\":\"allow_drag\"},{\"default\":[],\"kind\":null,\"name\":\"state\"}]},{\"extends\":null,\"module\":null,\"name\":\"click1\",\"overrides\":[],\"properties\":[{\"default\":\"\",\"kind\":null,\"name\":\"terminal_output\"},{\"default\":\"\",\"kind\":null,\"name\":\"debug_name\"},{\"default\":0,\"kind\":null,\"name\":\"clears\"}]},{\"extends\":null,\"module\":null,\"name\":\"TemplateActions1\",\"overrides\":[],\"properties\":[{\"default\":0,\"kind\":null,\"name\":\"open_modal\"},{\"default\":0,\"kind\":null,\"name\":\"close_modal\"}]},{\"extends\":null,\"module\":null,\"name\":\"MaterialTemplateActions1\",\"overrides\":[],\"properties\":[{\"default\":0,\"kind\":null,\"name\":\"open_modal\"},{\"default\":0,\"kind\":null,\"name\":\"close_modal\"}]}],\"roots\":{\"references\":[{\"attributes\":{\"line_alpha\":0.1,\"line_color\":\"#30a2da\",\"line_width\":2,\"x\":{\"field\":\"k\"},\"y\":{\"field\":\"inertia\"}},\"id\":\"2809\",\"type\":\"Line\"},{\"attributes\":{\"line_color\":\"#30a2da\",\"line_width\":2,\"x\":{\"field\":\"k\"},\"y\":{\"field\":\"inertia\"}},\"id\":\"2808\",\"type\":\"Line\"},{\"attributes\":{\"callback\":null,\"renderers\":[{\"id\":\"2811\"}],\"tags\":[\"hv_created\"],\"tooltips\":[[\"k\",\"@{k}\"],[\"inertia\",\"@{inertia}\"]]},\"id\":\"2774\",\"type\":\"HoverTool\"},{\"attributes\":{},\"id\":\"2817\",\"type\":\"AllLabels\"},{\"attributes\":{\"coordinates\":null,\"data_source\":{\"id\":\"2805\"},\"glyph\":{\"id\":\"2808\"},\"group\":null,\"hover_glyph\":null,\"muted_glyph\":{\"id\":\"2810\"},\"nonselection_glyph\":{\"id\":\"2809\"},\"selection_glyph\":{\"id\":\"2813\"},\"view\":{\"id\":\"2812\"}},\"id\":\"2811\",\"type\":\"GlyphRenderer\"},{\"attributes\":{\"below\":[{\"id\":\"2784\"}],\"center\":[{\"id\":\"2787\"},{\"id\":\"2791\"}],\"height\":300,\"left\":[{\"id\":\"2788\"}],\"margin\":[5,5,5,5],\"min_border_bottom\":10,\"min_border_left\":10,\"min_border_right\":10,\"min_border_top\":10,\"renderers\":[{\"id\":\"2811\"}],\"sizing_mode\":\"fixed\",\"title\":{\"id\":\"2776\"},\"toolbar\":{\"id\":\"2798\"},\"width\":700,\"x_range\":{\"id\":\"2772\"},\"x_scale\":{\"id\":\"2780\"},\"y_range\":{\"id\":\"2773\"},\"y_scale\":{\"id\":\"2782\"}},\"id\":\"2775\",\"subtype\":\"Figure\",\"type\":\"Plot\"},{\"attributes\":{},\"id\":\"2821\",\"type\":\"BasicTickFormatter\"},{\"attributes\":{\"ticks\":[1,2,3,4,5,6,7,8,9,10]},\"id\":\"2814\",\"type\":\"FixedTicker\"},{\"attributes\":{\"source\":{\"id\":\"2805\"}},\"id\":\"2812\",\"type\":\"CDSView\"},{\"attributes\":{},\"id\":\"2792\",\"type\":\"SaveTool\"},{\"attributes\":{\"children\":[{\"id\":\"2771\"},{\"id\":\"2775\"},{\"id\":\"2841\"}],\"margin\":[0,0,0,0],\"name\":\"Row04839\",\"tags\":[\"embedded\"]},\"id\":\"2770\",\"type\":\"Row\"},{\"attributes\":{},\"id\":\"2793\",\"type\":\"PanTool\"},{\"attributes\":{\"margin\":[5,5,5,5],\"name\":\"HSpacer04844\",\"sizing_mode\":\"stretch_width\"},\"id\":\"2841\",\"type\":\"Spacer\"},{\"attributes\":{},\"id\":\"2794\",\"type\":\"WheelZoomTool\"},{\"attributes\":{\"tools\":[{\"id\":\"2774\"},{\"id\":\"2792\"},{\"id\":\"2793\"},{\"id\":\"2794\"},{\"id\":\"2795\"},{\"id\":\"2796\"}]},\"id\":\"2798\",\"type\":\"Toolbar\"},{\"attributes\":{\"overlay\":{\"id\":\"2797\"}},\"id\":\"2795\",\"type\":\"BoxZoomTool\"},{\"attributes\":{\"axis_label\":\"k\",\"coordinates\":null,\"formatter\":{\"id\":\"2816\"},\"group\":null,\"major_label_policy\":{\"id\":\"2817\"},\"ticker\":{\"id\":\"2814\"}},\"id\":\"2784\",\"type\":\"LinearAxis\"},{\"attributes\":{\"coordinates\":null,\"group\":null,\"text\":\"Elbow Curve\",\"text_color\":\"black\",\"text_font_size\":\"12pt\"},\"id\":\"2776\",\"type\":\"Title\"},{\"attributes\":{\"margin\":[5,5,5,5],\"name\":\"HSpacer04843\",\"sizing_mode\":\"stretch_width\"},\"id\":\"2771\",\"type\":\"Spacer\"},{\"attributes\":{},\"id\":\"2829\",\"type\":\"UnionRenderers\"},{\"attributes\":{},\"id\":\"2796\",\"type\":\"ResetTool\"},{\"attributes\":{\"line_alpha\":0.2,\"line_color\":\"#30a2da\",\"line_width\":2,\"x\":{\"field\":\"k\"},\"y\":{\"field\":\"inertia\"}},\"id\":\"2810\",\"type\":\"Line\"},{\"attributes\":{\"end\":10.0,\"reset_end\":10.0,\"reset_start\":1.0,\"start\":1.0,\"tags\":[[[\"k\",\"k\",null]]]},\"id\":\"2772\",\"type\":\"Range1d\"},{\"attributes\":{\"data\":{\"inertia\":{\"__ndarray__\":\"Skwlcn3zsEAs9BQXY/2nQBaGpqMt/p1AzhtXQeyDjEA6FRD9q+F8QHIBMUQhOnRAF406AMibbkDCaMyRZtFoQL4zTONZeWNAaK3iLhyuYEA=\",\"dtype\":\"float64\",\"order\":\"little\",\"shape\":[10]},\"k\":[1,2,3,4,5,6,7,8,9,10]},\"selected\":{\"id\":\"2806\"},\"selection_policy\":{\"id\":\"2829\"}},\"id\":\"2805\",\"type\":\"ColumnDataSource\"},{\"attributes\":{\"bottom_units\":\"screen\",\"coordinates\":null,\"fill_alpha\":0.5,\"fill_color\":\"lightgrey\",\"group\":null,\"left_units\":\"screen\",\"level\":\"overlay\",\"line_alpha\":1.0,\"line_color\":\"black\",\"line_dash\":[4,4],\"line_width\":2,\"right_units\":\"screen\",\"syncable\":false,\"top_units\":\"screen\"},\"id\":\"2797\",\"type\":\"BoxAnnotation\"},{\"attributes\":{},\"id\":\"2782\",\"type\":\"LinearScale\"},{\"attributes\":{\"axis\":{\"id\":\"2788\"},\"coordinates\":null,\"dimension\":1,\"grid_line_color\":null,\"group\":null,\"ticker\":null},\"id\":\"2791\",\"type\":\"Grid\"},{\"attributes\":{},\"id\":\"2780\",\"type\":\"LinearScale\"},{\"attributes\":{},\"id\":\"2822\",\"type\":\"AllLabels\"},{\"attributes\":{\"end\":4760.094931240048,\"reset_end\":4760.094931240048,\"reset_start\":-287.1639679394821,\"start\":-287.1639679394821,\"tags\":[[[\"inertia\",\"inertia\",null]]]},\"id\":\"2773\",\"type\":\"Range1d\"},{\"attributes\":{\"axis\":{\"id\":\"2784\"},\"coordinates\":null,\"grid_line_color\":null,\"group\":null,\"ticker\":null},\"id\":\"2787\",\"type\":\"Grid\"},{\"attributes\":{\"line_color\":\"#30a2da\",\"line_width\":2,\"x\":{\"field\":\"k\"},\"y\":{\"field\":\"inertia\"}},\"id\":\"2813\",\"type\":\"Line\"},{\"attributes\":{},\"id\":\"2789\",\"type\":\"BasicTicker\"},{\"attributes\":{\"axis_label\":\"inertia\",\"coordinates\":null,\"formatter\":{\"id\":\"2821\"},\"group\":null,\"major_label_policy\":{\"id\":\"2822\"},\"ticker\":{\"id\":\"2789\"}},\"id\":\"2788\",\"type\":\"LinearAxis\"},{\"attributes\":{},\"id\":\"2806\",\"type\":\"Selection\"},{\"attributes\":{},\"id\":\"2816\",\"type\":\"BasicTickFormatter\"}],\"root_ids\":[\"2770\"]},\"title\":\"Bokeh Application\",\"version\":\"2.4.2\"}};\n",
       "    var render_items = [{\"docid\":\"58a6cbf2-4d84-4e22-905d-bba751619638\",\"root_ids\":[\"2770\"],\"roots\":{\"2770\":\"a49bbef9-c1a2-4636-90c5-5f89e3ecdf01\"}}];\n",
       "    root.Bokeh.embed.embed_items_notebook(docs_json, render_items);\n",
       "  }\n",
       "  if (root.Bokeh !== undefined && root.Bokeh.Panel !== undefined) {\n",
       "    embed_document(root);\n",
       "  } else {\n",
       "    var attempts = 0;\n",
       "    var timer = setInterval(function(root) {\n",
       "      if (root.Bokeh !== undefined && root.Bokeh.Panel !== undefined) {\n",
       "        clearInterval(timer);\n",
       "        embed_document(root);\n",
       "      } else if (document.readyState == \"complete\") {\n",
       "        attempts++;\n",
       "        if (attempts > 200) {\n",
       "          clearInterval(timer);\n",
       "          console.log(\"Bokeh: ERROR: Unable to run BokehJS code because BokehJS library is missing\");\n",
       "        }\n",
       "      }\n",
       "    }, 25, root)\n",
       "  }\n",
       "})(window);</script>"
      ],
      "text/plain": [
       ":Curve   [k]   (inertia)"
      ]
     },
     "execution_count": 112,
     "metadata": {
      "application/vnd.holoviews_exec.v0+json": {
       "id": "2770"
      }
     },
     "output_type": "execute_result"
    }
   ],
   "source": [
    "# Create an elbow curve to find the best value for K.\n",
    "inertia = []\n",
    "k = list(range(1, 11))\n",
    "\n",
    "# Calculate the inertia for the range ok k values\n",
    "for i in k:\n",
    "    km = KMeans(n_clusters=i, random_state=0)\n",
    "    km.fit(pcs_df)\n",
    "    inertia.append(km.inertia_)\n",
    "\n",
    "# Create the Elbow Curve using hvPlot\n",
    "elbow_data = {\"k\": k, \"inertia\": inertia}\n",
    "df_elbow = pd.DataFrame(elbow_data)\n",
    "df_elbow.hvplot.line(x=\"k\", y=\"inertia\", xticks=k, title=\"Elbow Curve\")"
   ]
  },
  {
   "cell_type": "markdown",
   "metadata": {},
   "source": [
    "Running K-Means with `k=4`"
   ]
  },
  {
   "cell_type": "code",
   "execution_count": 113,
   "metadata": {},
   "outputs": [
    {
     "name": "stdout",
     "output_type": "stream",
     "text": [
      "KMeans(n_clusters=4, random_state=0)\n",
      "[0 0 0 0 1 1 1 0 1 1 1 0 1 0 0 0 1 0 1 1 0 0 0 1 0 1 0 1 1 1 1 1 0 1 1 1 1\n",
      " 0 1 0 1 0 1 0 0 1 0 0 0 1 0 1 1 1 1 1 1 1 0 1 0 0 1 0 1 1 1 1 1 0 0 0 1 0\n",
      " 1 0 1 0 0 1 1 1 1 0 0 1 1 0 1 0 0 0 1 1 1 1 0 0 0 0 0 1 1 1 0 0 1 1 1 0 0\n",
      " 1 0 1 0 0 1 1 1 1 1 0 0 0 1 1 0 1 1 0 0 0 1 0 0 0 1 1 0 0 1 0 1 0 0 1 0 1\n",
      " 0 1 0 1 0 0 0 0 1 0 1 1 0 1 1 0 1 0 0 1 1 1 1 1 1 1 1 0 0 1 0 1 0 1 1 0 1\n",
      " 0 0 0 1 1 0 1 0 0 1 0 0 0 1 1 0 1 1 1 0 0 1 1 0 0 1 0 0 0 0 1 1 0 1 1 1 1\n",
      " 1 0 1 1 0 1 0 0 0 0 1 1 0 0 0 0 0 1 0 0 0 0 0 0 0 1 0 0 0 0 0 1 0 1 0 0 0\n",
      " 1 0 1 0 0 1 0 1 0 0 1 0 1 0 0 0 1 0 1 1 1 0 0 1 0 0 0 1 1 1 0 0 0 1 1 1 0\n",
      " 0 0 0 0 0 0 1 0 0 0 0 0 0 0 0 1 0 0 0 0 0 0 1 1 0 1 0 0 0 0 0 0 1 0 1 0 1\n",
      " 1 0 0 1 1 0 1 1 0 1 1 1 1 0 1 0 0 0 1 0 0 0 1 0 0 0 0 0 1 0 0 1 1 0 1 0 0\n",
      " 0 0 0 1 0 1 0 1 1 1 1 0 1 0 0 1 0 1 0 1 1 0 1 0 1 1 1 0 1 0 1 0 1 0 0 1 0\n",
      " 1 1 1 1 1 1 0 0 1 0 0 0 1 0 1 0 1 0 1 0 0 0 0 1 0 0 1 0 0 0 0 0 0 1 1 1 1\n",
      " 1 1 0 0 0 0 0 1 0 1 1 1 0 0 1 1 1 0 0 1 0 0 1 1 0 1 0 1 1 0 0 0 1 1 1 0 0\n",
      " 0 1 0 1 1 0 1 1 1 1 1 1 0 0 2 1 1 1 1 1 1 0 0 0 0 0 0 1 1 1 1 1 1 0 1 0 0\n",
      " 1 1 0 1 0 0 0 0 0 0 0 1 0 0 1 0 0 1 1 0 1 0 1 1 1 1 0 0 1 0 1 0 0 0 0 0 0\n",
      " 1 1 1 0 0 0 0 0 0 0 1 0 1 1 0 1 1 0 0 0 0 1 0 1 0 0 0 1 0 0 0 1 2 0 1 0 1\n",
      " 1 1 1 1 0 1 0 1 0 1 0 1 1 1 1 1 1 1 0 1 0 1 0 0 1 0 0 1 0 0 0 1 1 1 1 0 0\n",
      " 0 0 1 1 0 1 0 0 1 0 0 0 0 1 1 0 0 0 1 0 1 1 0 0 1 0 0 0 1 1 0 0 0 0 0 1 0\n",
      " 0 2 1 0 1 0 1 0 1 0 2 0 3 0 0 0 1 1 0]\n"
     ]
    }
   ],
   "source": [
    "# Initialize the K-Means model.\n",
    "model = KMeans(n_clusters=4, random_state=0)\n",
    "\n",
    "# Fit the model\n",
    "model.fit(pcs_df)\n",
    "print(model.fit(pcs_df))\n",
    "\n",
    "# Predict clusters\n",
    "predictions = model.predict(pcs_df)\n",
    "print(predictions)"
   ]
  },
  {
   "cell_type": "code",
   "execution_count": 114,
   "metadata": {},
   "outputs": [
    {
     "name": "stdout",
     "output_type": "stream",
     "text": [
      "(685, 9)\n"
     ]
    },
    {
     "data": {
      "text/html": [
       "<div>\n",
       "<style scoped>\n",
       "    .dataframe tbody tr th:only-of-type {\n",
       "        vertical-align: middle;\n",
       "    }\n",
       "\n",
       "    .dataframe tbody tr th {\n",
       "        vertical-align: top;\n",
       "    }\n",
       "\n",
       "    .dataframe thead th {\n",
       "        text-align: right;\n",
       "    }\n",
       "</style>\n",
       "<table border=\"1\" class=\"dataframe\">\n",
       "  <thead>\n",
       "    <tr style=\"text-align: right;\">\n",
       "      <th></th>\n",
       "      <th>Algorithm</th>\n",
       "      <th>ProofType</th>\n",
       "      <th>TotalCoinsMined</th>\n",
       "      <th>TotalCoinSupply</th>\n",
       "      <th>PC 1</th>\n",
       "      <th>PC 2</th>\n",
       "      <th>PC 3</th>\n",
       "      <th>CoinName</th>\n",
       "      <th>class</th>\n",
       "    </tr>\n",
       "  </thead>\n",
       "  <tbody>\n",
       "    <tr>\n",
       "      <th>0</th>\n",
       "      <td>Scrypt</td>\n",
       "      <td>PoW/PoS</td>\n",
       "      <td>4.199995e+01</td>\n",
       "      <td>42</td>\n",
       "      <td>-0.204485</td>\n",
       "      <td>1.232739</td>\n",
       "      <td>-0.435308</td>\n",
       "      <td>42 Coin</td>\n",
       "      <td>0</td>\n",
       "    </tr>\n",
       "    <tr>\n",
       "      <th>2</th>\n",
       "      <td>Scrypt</td>\n",
       "      <td>PoW/PoS</td>\n",
       "      <td>1.055185e+09</td>\n",
       "      <td>532000000</td>\n",
       "      <td>-0.190275</td>\n",
       "      <td>1.231417</td>\n",
       "      <td>-0.435708</td>\n",
       "      <td>404Coin</td>\n",
       "      <td>0</td>\n",
       "    </tr>\n",
       "    <tr>\n",
       "      <th>4</th>\n",
       "      <td>SHA-256</td>\n",
       "      <td>PoW/PoS</td>\n",
       "      <td>0.000000e+00</td>\n",
       "      <td>0</td>\n",
       "      <td>-0.147860</td>\n",
       "      <td>0.815323</td>\n",
       "      <td>-0.308362</td>\n",
       "      <td>808</td>\n",
       "      <td>0</td>\n",
       "    </tr>\n",
       "    <tr>\n",
       "      <th>5</th>\n",
       "      <td>X13</td>\n",
       "      <td>PoW/PoS</td>\n",
       "      <td>2.927942e+10</td>\n",
       "      <td>314159265359</td>\n",
       "      <td>0.307759</td>\n",
       "      <td>1.986889</td>\n",
       "      <td>-0.491627</td>\n",
       "      <td>EliteCoin</td>\n",
       "      <td>0</td>\n",
       "    </tr>\n",
       "    <tr>\n",
       "      <th>7</th>\n",
       "      <td>SHA-256</td>\n",
       "      <td>PoW</td>\n",
       "      <td>1.792718e+07</td>\n",
       "      <td>21000000</td>\n",
       "      <td>-0.223109</td>\n",
       "      <td>-1.464867</td>\n",
       "      <td>0.087360</td>\n",
       "      <td>Bitcoin</td>\n",
       "      <td>1</td>\n",
       "    </tr>\n",
       "    <tr>\n",
       "      <th>8</th>\n",
       "      <td>Ethash</td>\n",
       "      <td>PoW</td>\n",
       "      <td>1.076842e+08</td>\n",
       "      <td>0</td>\n",
       "      <td>-0.304736</td>\n",
       "      <td>-2.130318</td>\n",
       "      <td>0.237783</td>\n",
       "      <td>Ethereum</td>\n",
       "      <td>1</td>\n",
       "    </tr>\n",
       "    <tr>\n",
       "      <th>9</th>\n",
       "      <td>Scrypt</td>\n",
       "      <td>PoW</td>\n",
       "      <td>6.303924e+07</td>\n",
       "      <td>84000000</td>\n",
       "      <td>-0.279126</td>\n",
       "      <td>-1.047507</td>\n",
       "      <td>-0.039603</td>\n",
       "      <td>Litecoin</td>\n",
       "      <td>1</td>\n",
       "    </tr>\n",
       "    <tr>\n",
       "      <th>10</th>\n",
       "      <td>X11</td>\n",
       "      <td>PoW/PoS</td>\n",
       "      <td>9.031294e+06</td>\n",
       "      <td>22000000</td>\n",
       "      <td>-0.228403</td>\n",
       "      <td>1.418721</td>\n",
       "      <td>-0.401459</td>\n",
       "      <td>Dash</td>\n",
       "      <td>0</td>\n",
       "    </tr>\n",
       "    <tr>\n",
       "      <th>11</th>\n",
       "      <td>CryptoNight-V7</td>\n",
       "      <td>PoW</td>\n",
       "      <td>1.720114e+07</td>\n",
       "      <td>0</td>\n",
       "      <td>-0.313713</td>\n",
       "      <td>-2.222858</td>\n",
       "      <td>0.333265</td>\n",
       "      <td>Monero</td>\n",
       "      <td>1</td>\n",
       "    </tr>\n",
       "    <tr>\n",
       "      <th>12</th>\n",
       "      <td>Ethash</td>\n",
       "      <td>PoW</td>\n",
       "      <td>1.133597e+08</td>\n",
       "      <td>210000000</td>\n",
       "      <td>-0.304659</td>\n",
       "      <td>-2.130325</td>\n",
       "      <td>0.237781</td>\n",
       "      <td>Ethereum Classic</td>\n",
       "      <td>1</td>\n",
       "    </tr>\n",
       "  </tbody>\n",
       "</table>\n",
       "</div>"
      ],
      "text/plain": [
       "         Algorithm ProofType  TotalCoinsMined TotalCoinSupply      PC 1  \\\n",
       "0           Scrypt   PoW/PoS     4.199995e+01              42 -0.204485   \n",
       "2           Scrypt   PoW/PoS     1.055185e+09       532000000 -0.190275   \n",
       "4          SHA-256   PoW/PoS     0.000000e+00               0 -0.147860   \n",
       "5              X13   PoW/PoS     2.927942e+10    314159265359  0.307759   \n",
       "7          SHA-256       PoW     1.792718e+07        21000000 -0.223109   \n",
       "8           Ethash       PoW     1.076842e+08               0 -0.304736   \n",
       "9           Scrypt       PoW     6.303924e+07        84000000 -0.279126   \n",
       "10             X11   PoW/PoS     9.031294e+06        22000000 -0.228403   \n",
       "11  CryptoNight-V7       PoW     1.720114e+07               0 -0.313713   \n",
       "12          Ethash       PoW     1.133597e+08       210000000 -0.304659   \n",
       "\n",
       "        PC 2      PC 3          CoinName  class  \n",
       "0   1.232739 -0.435308           42 Coin      0  \n",
       "2   1.231417 -0.435708           404Coin      0  \n",
       "4   0.815323 -0.308362               808      0  \n",
       "5   1.986889 -0.491627         EliteCoin      0  \n",
       "7  -1.464867  0.087360           Bitcoin      1  \n",
       "8  -2.130318  0.237783          Ethereum      1  \n",
       "9  -1.047507 -0.039603          Litecoin      1  \n",
       "10  1.418721 -0.401459              Dash      0  \n",
       "11 -2.222858  0.333265            Monero      1  \n",
       "12 -2.130325  0.237781  Ethereum Classic      1  "
      ]
     },
     "execution_count": 114,
     "metadata": {},
     "output_type": "execute_result"
    }
   ],
   "source": [
    "# Create a new DataFrame including predicted clusters and cryptocurrencies features.\n",
    "#coin_names = pd.DataFrame(crypto_df, index=crypto_df.index)\n",
    "\n",
    "# Concatentate the crypto_df and pcs_df DataFrames on the same columns.\n",
    "clustered_df = pd.concat([crypto_df, pcs_df ], axis=1, sort=False)\n",
    "\n",
    "#  Add a new column, \"CoinName\" to the clustered_df DataFrame that holds the names of the cryptocurrencies. \n",
    "clustered_df[\"CoinName\"] = coins_names [\"CoinName\"]\n",
    "\n",
    "#  Add a new column, \"Class\" to the clustered_df DataFrame that holds the predictions.\n",
    "clustered_df[\"class\"]=model.labels_\n",
    "\n",
    "# Print the shape of the clustered_df\n",
    "print(clustered_df.shape)\n",
    "clustered_df.head(10)"
   ]
  },
  {
   "cell_type": "markdown",
   "metadata": {},
   "source": [
    "### Deliverable 4: Visualizing Cryptocurrencies Results\n",
    "\n",
    "#### 3D-Scatter with Clusters"
   ]
  },
  {
   "cell_type": "code",
   "execution_count": 115,
   "metadata": {},
   "outputs": [
    {
     "data": {
      "application/vnd.plotly.v1+json": {
       "config": {
        "plotlyServerURL": "https://plot.ly"
       },
       "data": [
        {
         "customdata": [
          [
           "Scrypt"
          ],
          [
           "Scrypt"
          ],
          [
           "SHA-256"
          ],
          [
           "X13"
          ],
          [
           "X11"
          ],
          [
           "SHA-512"
          ],
          [
           "SHA-256"
          ],
          [
           "X11"
          ],
          [
           "SHA-256"
          ],
          [
           "X15"
          ],
          [
           "X13"
          ],
          [
           "X13"
          ],
          [
           "Scrypt"
          ],
          [
           "Scrypt"
          ],
          [
           "Scrypt"
          ],
          [
           "Scrypt"
          ],
          [
           "Scrypt"
          ],
          [
           "Scrypt"
          ],
          [
           "Scrypt"
          ],
          [
           "Multiple"
          ],
          [
           "Scrypt"
          ],
          [
           "Scrypt"
          ],
          [
           "SHA-256"
          ],
          [
           "Groestl"
          ],
          [
           "X11"
          ],
          [
           "PoS"
          ],
          [
           "X11"
          ],
          [
           "NIST5"
          ],
          [
           "Scrypt"
          ],
          [
           "X11"
          ],
          [
           "X15"
          ],
          [
           "Scrypt"
          ],
          [
           "X11"
          ],
          [
           "X11"
          ],
          [
           "X11"
          ],
          [
           "X13"
          ],
          [
           "X11"
          ],
          [
           "SHA3"
          ],
          [
           "Scrypt"
          ],
          [
           "SHA-256"
          ],
          [
           "Scrypt"
          ],
          [
           "X13"
          ],
          [
           "X13"
          ],
          [
           "NeoScrypt"
          ],
          [
           "Scrypt"
          ],
          [
           "Scrypt"
          ],
          [
           "Scrypt"
          ],
          [
           "X15"
          ],
          [
           "Scrypt"
          ],
          [
           "X11"
          ],
          [
           "X11"
          ],
          [
           "Multiple"
          ],
          [
           "PHI1612"
          ],
          [
           "X11"
          ],
          [
           "Scrypt"
          ],
          [
           "Scrypt"
          ],
          [
           "X13"
          ],
          [
           "Scrypt"
          ],
          [
           "Scrypt"
          ],
          [
           "X11"
          ],
          [
           "Multiple"
          ],
          [
           "X13"
          ],
          [
           "Scrypt"
          ],
          [
           "Scrypt"
          ],
          [
           "Shabal256"
          ],
          [
           "Counterparty"
          ],
          [
           "SHA-256"
          ],
          [
           "Scrypt"
          ],
          [
           "Groestl"
          ],
          [
           "Scrypt"
          ],
          [
           "X13"
          ],
          [
           "Scrypt"
          ],
          [
           "SHA-256"
          ],
          [
           "Scrypt"
          ],
          [
           "X13"
          ],
          [
           "X13"
          ],
          [
           "X11"
          ],
          [
           "X11"
          ],
          [
           "X15"
          ],
          [
           "Scrypt"
          ],
          [
           "Scrypt"
          ],
          [
           "Scrypt"
          ],
          [
           "X11"
          ],
          [
           "SHA3"
          ],
          [
           "Scrypt"
          ],
          [
           "QUAIT"
          ],
          [
           "vDPOS"
          ],
          [
           "X11"
          ],
          [
           "X11"
          ],
          [
           "Scrypt"
          ],
          [
           "X11"
          ],
          [
           "X13"
          ],
          [
           "SHA-256"
          ],
          [
           "X13"
          ],
          [
           "X15"
          ],
          [
           "BLAKE256"
          ],
          [
           "SHA-256"
          ],
          [
           "X11"
          ],
          [
           "SHA-256"
          ],
          [
           "Quark"
          ],
          [
           "NIST5"
          ],
          [
           "Blake"
          ],
          [
           "Scrypt"
          ],
          [
           "Scrypt"
          ],
          [
           "Scrypt"
          ],
          [
           "SHA-256"
          ],
          [
           "X11"
          ],
          [
           "Scrypt"
          ],
          [
           "SHA-256"
          ],
          [
           "Scrypt"
          ],
          [
           "PoS"
          ],
          [
           "X11"
          ],
          [
           "X11"
          ],
          [
           "X11"
          ],
          [
           "PoS"
          ],
          [
           "SHA-256"
          ],
          [
           "SHA-256"
          ],
          [
           "NIST5"
          ],
          [
           "X15"
          ],
          [
           "X11"
          ],
          [
           "NIST5"
          ],
          [
           "Scrypt"
          ],
          [
           "Scrypt"
          ],
          [
           "POS 3.0"
          ],
          [
           "Scrypt"
          ],
          [
           "Scrypt"
          ],
          [
           "Scrypt"
          ],
          [
           "X13"
          ],
          [
           "X11"
          ],
          [
           "X11"
          ],
          [
           "X11"
          ],
          [
           "Scrypt"
          ],
          [
           "SHA-256"
          ],
          [
           "X11"
          ],
          [
           "Scrypt"
          ],
          [
           "Scrypt"
          ],
          [
           "X11"
          ],
          [
           "Scrypt"
          ],
          [
           "Scrypt"
          ],
          [
           "SHA-256D"
          ],
          [
           "PoS"
          ],
          [
           "Scrypt"
          ],
          [
           "X11"
          ],
          [
           "PoS"
          ],
          [
           "X13"
          ],
          [
           "X14"
          ],
          [
           "PoS"
          ],
          [
           "SHA-256D"
          ],
          [
           "DPoS"
          ],
          [
           "X11"
          ],
          [
           "Scrypt"
          ],
          [
           "X13"
          ],
          [
           "X11"
          ],
          [
           "PoS"
          ],
          [
           "SHA-256D"
          ],
          [
           "Scrypt"
          ],
          [
           "Scrypt"
          ],
          [
           "Scrypt"
          ],
          [
           "PoS"
          ],
          [
           "X11"
          ],
          [
           "SHA-256"
          ],
          [
           "Scrypt"
          ],
          [
           "X11"
          ],
          [
           "Scrypt"
          ],
          [
           "Scrypt"
          ],
          [
           "X11"
          ],
          [
           "Scrypt"
          ],
          [
           "Scrypt"
          ],
          [
           "Scrypt"
          ],
          [
           "Scrypt"
          ],
          [
           "Quark"
          ],
          [
           "QuBit"
          ],
          [
           "X11"
          ],
          [
           "X13"
          ],
          [
           "PoS"
          ],
          [
           "Scrypt"
          ],
          [
           "SHA-256"
          ],
          [
           "X11"
          ],
          [
           "X11"
          ],
          [
           "Scrypt"
          ],
          [
           "Scrypt"
          ],
          [
           "Scrypt"
          ],
          [
           "Scrypt"
          ],
          [
           "X13"
          ],
          [
           "Scrypt"
          ],
          [
           "Scrypt"
          ],
          [
           "X11"
          ],
          [
           "Blake2S"
          ],
          [
           "X11"
          ],
          [
           "Scrypt"
          ],
          [
           "PoS"
          ],
          [
           "X11"
          ],
          [
           "PoS"
          ],
          [
           "X11"
          ],
          [
           "Scrypt"
          ],
          [
           "Scrypt"
          ],
          [
           "Scrypt"
          ],
          [
           "SHA-256"
          ],
          [
           "X11"
          ],
          [
           "Scrypt"
          ],
          [
           "PoS"
          ],
          [
           "Scrypt"
          ],
          [
           "X11"
          ],
          [
           "X15"
          ],
          [
           "SHA-256"
          ],
          [
           "POS 3.0"
          ],
          [
           "536"
          ],
          [
           "NIST5"
          ],
          [
           "NIST5"
          ],
          [
           "Skein"
          ],
          [
           "X13"
          ],
          [
           "X11"
          ],
          [
           "Scrypt"
          ],
          [
           "X13"
          ],
          [
           "SkunkHash v2 Raptor"
          ],
          [
           "Skein"
          ],
          [
           "X11"
          ],
          [
           "Scrypt"
          ],
          [
           "VeChainThor Authority"
          ],
          [
           "PoS"
          ],
          [
           "Scrypt"
          ],
          [
           "Scrypt"
          ],
          [
           "SHA-512"
          ],
          [
           "Ouroboros"
          ],
          [
           "X11"
          ],
          [
           "NeoScrypt"
          ],
          [
           "Scrypt"
          ],
          [
           "Lyra2REv2"
          ],
          [
           "Scrypt"
          ],
          [
           "SHA-256"
          ],
          [
           "NIST5"
          ],
          [
           "PHI1612"
          ],
          [
           "Scrypt"
          ],
          [
           "Quark"
          ],
          [
           "POS 2.0"
          ],
          [
           "Scrypt"
          ],
          [
           "SkunkHash"
          ],
          [
           "X11"
          ],
          [
           "Quark"
          ],
          [
           "SHA-256"
          ],
          [
           "Quark"
          ],
          [
           "X11"
          ],
          [
           "DPoS"
          ],
          [
           "NIST5"
          ],
          [
           "X13"
          ],
          [
           "Scrypt"
          ],
          [
           "NIST5"
          ],
          [
           "Quark"
          ],
          [
           "Scrypt"
          ],
          [
           "Scrypt"
          ],
          [
           "X11"
          ],
          [
           "SHA-256"
          ],
          [
           "Scrypt"
          ],
          [
           "Quark"
          ],
          [
           "Scrypt"
          ],
          [
           "Scrypt"
          ],
          [
           "X11"
          ],
          [
           "Scrypt"
          ],
          [
           "Scrypt"
          ],
          [
           "POS 3.0"
          ],
          [
           "Scrypt"
          ],
          [
           "Scrypt"
          ],
          [
           "X13"
          ],
          [
           "Proof-of-BibleHash"
          ],
          [
           "C11"
          ],
          [
           "Proof-of-Authority"
          ],
          [
           "X11"
          ],
          [
           "XEVAN"
          ],
          [
           "Scrypt"
          ],
          [
           "VBFT"
          ],
          [
           "NIST5"
          ],
          [
           "Scrypt"
          ],
          [
           "Scrypt"
          ],
          [
           "Scrypt"
          ],
          [
           "Equihash"
          ],
          [
           "Green Protocol"
          ],
          [
           "PoS"
          ],
          [
           "Scrypt"
          ],
          [
           "Scrypt"
          ],
          [
           "Semux BFT consensus"
          ],
          [
           "Scrypt"
          ],
          [
           "Quark"
          ],
          [
           "PoS"
          ],
          [
           "X16R"
          ],
          [
           "Scrypt"
          ],
          [
           "XEVAN"
          ],
          [
           "Scrypt"
          ],
          [
           "Scrypt"
          ],
          [
           "Scrypt"
          ],
          [
           "SHA-256D"
          ],
          [
           "Scrypt"
          ],
          [
           "X15"
          ],
          [
           "Scrypt"
          ],
          [
           "Quark"
          ],
          [
           "SHA-256"
          ],
          [
           "DPoS"
          ],
          [
           "X16R"
          ],
          [
           "Quark"
          ],
          [
           "Quark"
          ],
          [
           "Scrypt"
          ],
          [
           "Zhash"
          ],
          [
           "Lyra2REv2"
          ],
          [
           "Quark"
          ],
          [
           "Scrypt"
          ],
          [
           "Scrypt"
          ],
          [
           "X11"
          ],
          [
           "X11"
          ],
          [
           "Scrypt"
          ],
          [
           "PoS"
          ],
          [
           "Scrypt"
          ],
          [
           "Scrypt"
          ],
          [
           "Keccak"
          ],
          [
           "X11"
          ],
          [
           "Quark"
          ],
          [
           "Scrypt"
          ],
          [
           "SHA-512"
          ],
          [
           "NeoScrypt"
          ],
          [
           "XEVAN"
          ],
          [
           "XEVAN"
          ],
          [
           "X11"
          ],
          [
           "Quark"
          ],
          [
           "Quark"
          ],
          [
           "Scrypt"
          ],
          [
           "Quark"
          ],
          [
           "Quark"
          ],
          [
           "Scrypt"
          ],
          [
           "X11"
          ],
          [
           "Scrypt"
          ],
          [
           "XEVAN"
          ],
          [
           "SHA-256D"
          ],
          [
           "X11"
          ],
          [
           "X11"
          ],
          [
           "DPoS"
          ],
          [
           "X11"
          ],
          [
           "Scrypt"
          ],
          [
           "X11"
          ],
          [
           "QuBit"
          ],
          [
           "Scrypt"
          ],
          [
           "Scrypt"
          ],
          [
           "SHA-256"
          ],
          [
           "Scrypt"
          ],
          [
           "X11"
          ],
          [
           "Scrypt"
          ],
          [
           "SHA-256"
          ],
          [
           "X11"
          ],
          [
           "Scrypt"
          ],
          [
           "SHA-256"
          ],
          [
           "Scrypt"
          ],
          [
           "X11"
          ],
          [
           "Scrypt"
          ],
          [
           "PoS"
          ],
          [
           "X11"
          ],
          [
           "SHA-256"
          ],
          [
           "DPoS"
          ],
          [
           "Scrypt"
          ],
          [
           "Scrypt"
          ],
          [
           "NeoScrypt"
          ],
          [
           "Scrypt"
          ],
          [
           "X13"
          ],
          [
           "DPoS"
          ],
          [
           "DPoS"
          ],
          [
           "SHA-256"
          ],
          [
           "PoS"
          ],
          [
           "PoS"
          ],
          [
           "SHA-256"
          ],
          [
           "Scrypt"
          ],
          [
           "Scrypt"
          ]
         ],
         "hovertemplate": "<b>%{hovertext}</b><br><br>class=%{marker.color}<br>PC 1=%{x}<br>PC 2=%{y}<br>PC 3=%{z}<br>Algorithm=%{customdata[0]}<extra></extra>",
         "hovertext": [
          "42 Coin",
          "404Coin",
          "808",
          "EliteCoin",
          "Dash",
          "Bitshares",
          "BitcoinDark",
          "Bitstake",
          "PayCoin",
          "KoboCoin",
          "Aero Coin",
          "ApexCoin",
          "ArchCoin",
          "Aurora Coin",
          "BlueCoin",
          "EnergyCoin",
          "BitBar",
          "CashCoin",
          "CryptoBullion",
          "CinderCoin",
          "CoolCoin",
          "CasinoCoin",
          "eMark",
          "Diamond",
          "DarkCash",
          "Exclusive Coin",
          "Fuel2Coin",
          "FIBRE",
          "FlutterCoin",
          "GlyphCoin",
          "Halcyon",
          "HoboNickels",
          "HyperStake",
          "IOCoin",
          "JumBucks Coin",
          "JudgeCoin",
          "LibrexCoin",
          "MaxCoin",
          "MintCoin",
          "MazaCoin",
          "Nautilus Coin",
          "NavCoin",
          "OpalCoin",
          "Orbitcoin",
          "PotCoin",
          "PhoenixCoin",
          "Reddcoin",
          "ShieldCoin",
          "SilkCoin",
          "SuperCoin",
          "SyncCoin",
          "TeslaCoin",
          "TittieCoin",
          "TorCoin",
          "UnitaryStatus Dollar",
          "UltraCoin",
          "Utility Coin",
          "VeriCoin",
          "SocialXbotCoin",
          "X11 Coin",
          "Crypti",
          "StealthCoin",
          "XXXCoin",
          "ZCC Coin",
          "BurstCoin",
          "StorjCoin",
          "Neutron",
          "KryptCoin",
          "FairCoin",
          "RubyCoin",
          "Kore",
          "Dnotes",
          "MaieutiCoin",
          "8BIT Coin",
          "Sativa Coin",
          "AeroMe",
          "MasterTraderCoin",
          "Ucoin",
          "MaryJane Coin",
          "CyberCoin",
          "Vtorrent",
          "ViorCoin",
          "IslaCoin",
          "Nexus",
          "Singular",
          "Droidz",
          "CryptoCircuits",
          "Squall Coin",
          "Milllionaire Coin",
          "Diggits",
          "MapCoin",
          "Paycon",
          "Emercoin",
          "BlitzCoin",
          "EverGreenCoin",
          "Decred",
          "EDRCoin",
          "Hitcoin",
          "DubaiCoin",
          "BiosCrypto",
          "PWR Coin",
          "TrumpCoin",
          "BillaryCoin",
          "EthereumScrypt",
          "GPU Coin",
          "Universal Currency",
          "EuropeCoin",
          "ZeitCoin",
          "SwingCoin",
          "SafeExchangeCoin",
          "Nebuchadnezzar",
          "GIZMOcoin",
          "SecretCoin",
          "Ratecoin",
          "Digital Bullion Gold",
          "Revenu",
          "Clockcoin",
          "VIP Tokens",
          "OrlyCoin",
          "BitSend",
          "16BitCoin",
          "ChessCoin",
          "ReeCoin",
          "Let it Ride",
          "PutinCoin",
          "iBankCoin",
          "Frankywillcoin",
          "MudraCoin",
          "Lutetium Coin",
          "GoldBlocks",
          "WayCoin",
          "CarterCoin",
          "BitTokens",
          "MustangCoin",
          "ZoneCoin",
          "RootCoin",
          "PROUD Money",
          "BitCurrency",
          "Swiscoin",
          "BuzzCoin",
          "Opair",
          "PesoBit",
          "Halloween Coin",
          "CoffeeCoin",
          "RoyalCoin",
          "GanjaCoin V2",
          "TeamUP",
          "LanaCoin",
          "ARK",
          "InsaneCoin",
          "LuckChain",
          "EmberCoin",
          "XenixCoin",
          "FreeCoin",
          "NPCcoin",
          "PLNCoin",
          "Icobid",
          "AquariusCoin",
          "Creatio",
          "Eternity",
          "Eurocoin",
          "BitcoinFast",
          "Stakenet",
          "BitConnect Coin",
          "MoneyCoin",
          "Enigma",
          "Russiacoin",
          "PandaCoin",
          "GameUnits",
          "GAKHcoin",
          "Allsafe",
          "LiteCreed",
          "NeptuneClassic",
          "GoldenBird",
          "Ride My Car",
          "Klingon Empire Darsek",
          "Internet of People",
          "KushCoin",
          "Eryllium",
          "Printerium",
          "Impeach",
          "Zilbercoin",
          "FirstCoin",
          "FindCoin",
          "OpenChat",
          "RenosCoin",
          "VirtacoinPlus",
          "TajCoin",
          "Impact",
          "Universe",
          "Atmos",
          "HappyCoin",
          "MacronCoin",
          "Condensate",
          "Independent Money System",
          "ArgusCoin",
          "LomoCoin",
          "ProCurrency",
          "GoldReserve",
          "GrowthCoin",
          "Phreak",
          "Degas Coin",
          "ZSEcoin",
          "HTML5 Coin",
          "Ultimate Secure Cash",
          "QTUM",
          "Espers",
          "Denarius",
          "Virta Unique Coin",
          "Bitcoin Planet",
          "BritCoin",
          "Octanox",
          "Linda",
          "DeepOnion",
          "Signatum",
          "Cream",
          "Monoeci",
          "Draftcoin",
          "Vechain",
          "Stakecoin",
          "CoinonatX",
          "Ethereum Dark",
          "Obsidian",
          "Cardano",
          "Regalcoin",
          "TrezarCoin",
          "TerraNovaCoin",
          "Rupee",
          "WomenCoin",
          "Theresa May Coin",
          "NamoCoin",
          "LUXCoin",
          "Xios",
          "Bitcloud 2.0",
          "KekCoin",
          "BlackholeCoin",
          "AltCommunity Coin",
          "Pure",
          "Rupaya",
          "Infinity Economics",
          "Castle",
          "Magnet",
          "Lamden Tau",
          "Electra",
          "Bitcoin Diamond",
          "Cash & Back Coin",
          "Bulwark",
          "Kalkulus",
          "GermanCoin",
          "LiteCoin Ultra",
          "PhantomX",
          "HTML Coin",
          "Fantasy Cash",
          "Digiwage",
          "Trollcoin",
          "Litecoin Plus",
          "Monkey Project",
          "OP Coin",
          "Valorbit",
          "TokenPay",
          "My Big Coin",
          "Unified Society USDEX",
          "Tokyo Coin",
          "BiblePay",
          "Stipend",
          "Poa Network",
          "Pushi",
          "Ellerium",
          "Velox",
          "Ontology",
          "Bitspace",
          "Briacoin",
          "Ignition",
          "MedicCoin",
          "Zelcash",
          "Bitcoin Green",
          "Deviant Coin",
          "Abjcoin",
          "Profit Hunters Coin",
          "Semux",
          "BitBlocks",
          "Carebit",
          "Zealium",
          "Proton",
          "iDealCash",
          "Bitcoin Incognito",
          "HollyWoodCoin",
          "Swisscoin",
          "Xt3ch",
          "TheVig",
          "EmaratCoin",
          "Dekado",
          "Lynx",
          "Poseidon Quark",
          "BitcoinWSpectrum",
          "Muse",
          "Trivechain",
          "Dystem",
          "Giant",
          "Peony Coin",
          "SafeCoin",
          "Absolute Coin",
          "Vitae",
          "TPCash",
          "MUSDcoin",
          "ARENON",
          "EUNO",
          "MMOCoin",
          "Ketan",
          "Safe Trade Coin",
          "Mont Blanc",
          "XDNA",
          "PAXEX",
          "Apollon",
          "ThunderStake",
          "Kcash",
          "Traid",
          "Bettex coin",
          "BitMoney",
          "Junson Ming Chan Coin",
          "Zenad",
          "HerbCoin",
          "Oduwa",
          "Galilel",
          "Crypto Sports",
          "Credit",
          "Dash Platinum",
          "Nasdacoin",
          "Beetle Coin",
          "Titan Coin",
          "Award",
          "Insane Coin",
          "ALAX",
          "The Freedom Coin",
          "LiteDoge",
          "TruckCoin",
          "Ascension Coin",
          "OrangeCoin",
          "BitstarCoin",
          "NeosCoin",
          "HyperCoin",
          "PinkCoin",
          "AudioCoin",
          "IncaKoin",
          "Piggy Coin",
          "Genstake",
          "ParkByte",
          "XiaoMiCoin",
          "CapriCoin",
          " ClubCoin",
          "Radium",
          "Creditbit ",
          "OKCash",
          "Lisk",
          "HiCoin",
          "WhiteCoin",
          "FriendshipCoin",
          "The Hempcoin",
          "Triangles Coin",
          "EOS",
          "Oxycoin",
          "TigerCash",
          "Particl",
          "Nxt",
          "ZEPHYR",
          "Gapcoin",
          "BitcoinPlus"
         ],
         "legendgroup": "0",
         "marker": {
          "color": [
           0,
           0,
           0,
           0,
           0,
           0,
           0,
           0,
           0,
           0,
           0,
           0,
           0,
           0,
           0,
           0,
           0,
           0,
           0,
           0,
           0,
           0,
           0,
           0,
           0,
           0,
           0,
           0,
           0,
           0,
           0,
           0,
           0,
           0,
           0,
           0,
           0,
           0,
           0,
           0,
           0,
           0,
           0,
           0,
           0,
           0,
           0,
           0,
           0,
           0,
           0,
           0,
           0,
           0,
           0,
           0,
           0,
           0,
           0,
           0,
           0,
           0,
           0,
           0,
           0,
           0,
           0,
           0,
           0,
           0,
           0,
           0,
           0,
           0,
           0,
           0,
           0,
           0,
           0,
           0,
           0,
           0,
           0,
           0,
           0,
           0,
           0,
           0,
           0,
           0,
           0,
           0,
           0,
           0,
           0,
           0,
           0,
           0,
           0,
           0,
           0,
           0,
           0,
           0,
           0,
           0,
           0,
           0,
           0,
           0,
           0,
           0,
           0,
           0,
           0,
           0,
           0,
           0,
           0,
           0,
           0,
           0,
           0,
           0,
           0,
           0,
           0,
           0,
           0,
           0,
           0,
           0,
           0,
           0,
           0,
           0,
           0,
           0,
           0,
           0,
           0,
           0,
           0,
           0,
           0,
           0,
           0,
           0,
           0,
           0,
           0,
           0,
           0,
           0,
           0,
           0,
           0,
           0,
           0,
           0,
           0,
           0,
           0,
           0,
           0,
           0,
           0,
           0,
           0,
           0,
           0,
           0,
           0,
           0,
           0,
           0,
           0,
           0,
           0,
           0,
           0,
           0,
           0,
           0,
           0,
           0,
           0,
           0,
           0,
           0,
           0,
           0,
           0,
           0,
           0,
           0,
           0,
           0,
           0,
           0,
           0,
           0,
           0,
           0,
           0,
           0,
           0,
           0,
           0,
           0,
           0,
           0,
           0,
           0,
           0,
           0,
           0,
           0,
           0,
           0,
           0,
           0,
           0,
           0,
           0,
           0,
           0,
           0,
           0,
           0,
           0,
           0,
           0,
           0,
           0,
           0,
           0,
           0,
           0,
           0,
           0,
           0,
           0,
           0,
           0,
           0,
           0,
           0,
           0,
           0,
           0,
           0,
           0,
           0,
           0,
           0,
           0,
           0,
           0,
           0,
           0,
           0,
           0,
           0,
           0,
           0,
           0,
           0,
           0,
           0,
           0,
           0,
           0,
           0,
           0,
           0,
           0,
           0,
           0,
           0,
           0,
           0,
           0,
           0,
           0,
           0,
           0,
           0,
           0,
           0,
           0,
           0,
           0,
           0,
           0,
           0,
           0,
           0,
           0,
           0,
           0,
           0,
           0,
           0,
           0,
           0,
           0,
           0,
           0,
           0,
           0,
           0,
           0,
           0,
           0,
           0,
           0,
           0,
           0,
           0,
           0,
           0,
           0,
           0,
           0,
           0,
           0,
           0,
           0,
           0,
           0,
           0,
           0,
           0,
           0,
           0,
           0,
           0,
           0,
           0,
           0,
           0,
           0,
           0,
           0,
           0,
           0,
           0,
           0,
           0,
           0,
           0,
           0,
           0,
           0,
           0,
           0,
           0,
           0,
           0,
           0,
           0,
           0,
           0,
           0,
           0,
           0
          ],
          "coloraxis": "coloraxis",
          "symbol": "circle"
         },
         "mode": "markers",
         "name": "0",
         "scene": "scene",
         "showlegend": true,
         "type": "scatter3d",
         "x": [
          -0.20448463873874484,
          -0.1902750256103447,
          -0.147860323672451,
          0.30775941237234705,
          -0.22840286231791013,
          0.30589151701283207,
          -0.1478429673015966,
          -0.22852448191811522,
          -0.03027214659099852,
          -0.09849171726610789,
          0.030896293658971286,
          -0.08653034864162924,
          -0.08705799703835926,
          -0.20424042357814312,
          -0.19592772298241065,
          -0.2028274178941819,
          -0.2044840659102437,
          -0.20448463941096762,
          -0.20447064607428858,
          -0.1716700679418323,
          -0.08705799722629684,
          0.6457707552090243,
          -0.14786032367244922,
          -0.24587637827412756,
          -0.22852448192355587,
          -0.00256084309733842,
          -0.11109783983715865,
          -0.13155059539445013,
          -0.11998462353894453,
          -0.22852448193092967,
          -0.09883568424578056,
          -0.20328252916898334,
          -0.08849410065730903,
          -0.2282867864768303,
          -0.22852448192259572,
          -0.08653034867669976,
          -0.2285244819174409,
          -0.42470253739491004,
          0.1996959922682074,
          -0.12612765511983426,
          -0.08684010956763714,
          -0.0856403887884048,
          -0.08632624591604175,
          -0.2283405215044502,
          -0.20148596426264356,
          -0.20348866923741737,
          0.1902925404578674,
          -0.09883568424802869,
          -0.20448463930657831,
          -0.11041498645169162,
          -0.22852446606516086,
          -0.05316260055179095,
          0.029570971855586912,
          -0.22850519996041022,
          -0.18968563175834743,
          -0.20380814861000277,
          -0.08653034862814013,
          -0.193649794530203,
          -0.20448463930882635,
          -0.22843087877529086,
          -0.05289677847156831,
          -0.08608469299709748,
          -0.20448463941673714,
          -0.2024917355839658,
          0.48682817198611117,
          0.047957474289999295,
          -0.1473334927414908,
          -0.08705799703970112,
          -0.24520454496438687,
          -0.08669191790131509,
          -0.08650311319418849,
          -0.0847061316268473,
          -0.030433681369605996,
          -0.20446487266884353,
          -0.08643477935477252,
          -0.08653034865511776,
          -0.2285244819379214,
          -0.11106161738709422,
          -0.09883568424578056,
          -0.20448463930433,
          -0.20432836471893479,
          -0.20448463930433,
          -0.22850409766703303,
          -0.751417331638872,
          -0.20448463930433,
          -0.19154066736117809,
          0.05077664250952786,
          -0.08405617557469734,
          -0.22852448191519245,
          -0.08571135031516904,
          -0.11109783961735557,
          -0.08622004622553764,
          -0.1472804625239141,
          0.030896293666047996,
          -0.09865347548483962,
          -0.04124641354958159,
          -0.14781090593003032,
          -0.08044296358535567,
          -0.14779125398745227,
          0.07772147766145238,
          0.004049328962984433,
          -0.06940747831827276,
          -0.20436345810085432,
          -0.20448463931377214,
          -0.08651291466263139,
          -0.14786032414455896,
          -0.22838433360134364,
          0.41081378866268353,
          -0.14780137992808234,
          0.13603113441632805,
          -0.0023679993320198144,
          -0.2285244819154174,
          -0.22852448196240369,
          -0.22671250212502042,
          -0.00263732870300418,
          -0.14784422467268216,
          -0.14763593550188672,
          -0.13042681332105663,
          -0.09883568432671355,
          -0.22819606568899606,
          -0.13155059542901773,
          -0.2044846394721912,
          -0.20448464009117948,
          0.048592604914113026,
          -0.19353516093856515,
          -0.20442368580166412,
          -0.20313799261801638,
          0.030963625570635964,
          -0.10225037088326219,
          -0.22831489161259333,
          -0.11109783983715865,
          -0.20390335263424017,
          -0.14785230539342364,
          -0.22851562588240393,
          -0.20444986933228984,
          -0.20445851584903238,
          -0.2285245043966083,
          -0.08477410247780277,
          -0.18042733774908398,
          0.1584944747963485,
          -0.0016403548632495113,
          -0.2040332034393711,
          -0.22496020100443997,
          -0.0006346383502159815,
          0.030929961511707987,
          -0.1386881749911278,
          -0.0023973746129888262,
          -0.0905762548010735,
          7.22485048372255,
          -0.22827746905795845,
          -0.20448464155247176,
          1.1549814489419619,
          -0.22847259121783628,
          -0.001964005326125124,
          -0.10514916336835192,
          -0.20425450282044932,
          -0.20448463975395853,
          -0.20445165224015283,
          -0.0023679993320198144,
          -0.22844274755716673,
          -0.14769311657650244,
          -0.2042120238594732,
          -0.3057963697101961,
          -0.204335421161658,
          -0.204337662094241,
          -0.2285135111845757,
          -0.20437181926008965,
          0.36828558673238254,
          -0.2044378705152626,
          -0.20443998734163643,
          0.19528975723768022,
          -0.17964729640596688,
          -0.22852448247722792,
          -0.0865303496398039,
          -0.0026373288940963646,
          -0.20416191148662274,
          -0.14782630636190036,
          -0.22844827388184857,
          -0.22852448214000678,
          -0.20432544241433923,
          -0.2044804892706553,
          -0.08701863983445658,
          -0.21811232537984132,
          0.031091892105891816,
          -0.1910181724411914,
          -0.0865725259521554,
          -0.22834722638602312,
          -0.23998763661785877,
          -0.22703468146173056,
          -0.08705799725327457,
          -0.0011407216026081814,
          -0.22823466592192615,
          0.002768399328634807,
          -0.22688607899279128,
          -0.20441233876814655,
          -0.20446917549895124,
          -0.20447790831791612,
          -0.029079853810907663,
          -0.22829324411981725,
          -0.0830835688563604,
          -0.002483942610473769,
          -0.20419701240472385,
          -0.22852448662167707,
          0.44869755034640507,
          -0.03029439660768984,
          0.04941958320933068,
          0.3391962329947983,
          -0.1314944216286747,
          -0.13070298815403697,
          -0.18412610291670037,
          -0.08624394259161032,
          -0.22852448193296565,
          -0.08268146855057176,
          -0.08623520382405399,
          0.008062940583627925,
          -0.18358034139135193,
          -0.22835521835087455,
          -0.08680666832334903,
          6.864649456386705,
          -0.0025834629313229067,
          -0.20422151015455836,
          -0.20442808014350503,
          0.2693089189083373,
          0.6034689669649445,
          -0.22842668306311142,
          -0.22592439835274128,
          -0.20446927766817977,
          -0.12073497657152492,
          0.44809329344286053,
          -0.14662072464239465,
          -0.12400179080376729,
          -0.10959082551689864,
          -0.20445569064449007,
          0.07813505340377877,
          0.062203893006271084,
          -0.2042642936308596,
          -0.23542485103285823,
          -0.2285244819234811,
          0.19514811984108063,
          0.09076452026398242,
          4.358575266803878,
          -0.22801008204149573,
          7.227272945585943,
          0.2508856162253474,
          -0.08405879382320253,
          -0.2029901717396551,
          -0.013945560427300717,
          0.19537645424904038,
          -0.13834418504335505,
          -0.20437126002025993,
          -0.22791614486868966,
          -0.14786052600519242,
          -0.20448463931467156,
          0.1955157500373816,
          -0.19652565174765133,
          -0.20445091272689753,
          -0.11103848953663209,
          -0.2044846438006134,
          -0.41183910148955266,
          0.048348270029620624,
          -0.14059533203568952,
          -0.2013220898418439,
          0.03399760523606815,
          -0.18831492082240225,
          -0.14671592293411442,
          -0.11385580416863632,
          -0.22849528899471563,
          -0.058753713501825976,
          -0.08671365948819734,
          0.07375306278403597,
          -0.13136492178699888,
          -0.20447325155558005,
          -0.20446871988197846,
          -0.08345844222397414,
          -0.19743175929084222,
          0.012647287773341911,
          -0.0023427284860020607,
          -0.2043515838917807,
          -0.20448463952914453,
          7.678054436864282,
          -0.20448464042840103,
          0.0796032762171953,
          -0.002488184281990452,
          -0.0726977475439227,
          -0.18557560682135352,
          0.08585136495418527,
          -0.08653675300585714,
          -0.06712667730031499,
          -0.0869552479408745,
          -0.10470154688176035,
          -0.20419377265264618,
          0.01899877904969934,
          1.710965359498518,
          0.19518469704648678,
          -0.02965517153573456,
          3.0602112585779886,
          -0.18968646950452336,
          0.19524349477891415,
          0.07780119232138027,
          -0.08704400272161086,
          -0.20377497461492786,
          -0.2383052709094356,
          0.19603763228760204,
          -0.2044118714130771,
          -0.20448463952914453,
          -0.11083834747559573,
          -0.22811010361012327,
          -0.08560679878737405,
          -0.0025117256118429502,
          -0.08705799888992181,
          -0.08705799715885264,
          -0.21997805002791168,
          -0.1110371782552078,
          0.07772147714480784,
          -0.19021084088733362,
          0.6804400290642489,
          -0.22838389239214985,
          0.058758685046754126,
          0.17511063138740837,
          0.12065906668265594,
          0.43968005018781237,
          0.07819700804401346,
          -0.20428563793908544,
          0.07796744287384408,
          0.19517417357998235,
          0.210628664083362,
          -0.11108820225085773,
          -0.2042079503057439,
          -0.05608036627383707,
          -0.09307833889064586,
          -0.2283168267473049,
          -0.22820430374738648,
          7.236859850844743,
          -0.11109783966854807,
          0.001806601706388463,
          -0.22525786521999927,
          -0.18005435729041291,
          -0.2044370068327417,
          -0.20420754619371018,
          -0.030374533206807143,
          -0.20435494104711874,
          -0.22264834043346926,
          -0.19127765860188325,
          0.09372442908825644,
          -0.22186880750072177,
          -0.2036766511913755,
          -0.14786032372865276,
          -0.1990399248744721,
          -0.22581281588738983,
          -0.20308921886937625,
          -0.002585870001770978,
          -0.30552922141349903,
          -0.14685470098651823,
          7.225009523398377,
          0.04760996655473271,
          -0.20109101483270272,
          -0.22836880433082182,
          -0.2044846399787728,
          -0.08652845284914251,
          7.237136515278243,
          7.238507910331654,
          -0.01696721450646251,
          -0.002512317603540391,
          -0.09585125422044652,
          4.15992639920005,
          -0.20428357139452474,
          -0.08705626889219853
         ],
         "y": [
          1.2327391229085827,
          1.2314172715142773,
          0.8153232419013898,
          1.9868889923659572,
          1.4187213327773214,
          1.1891437835801055,
          0.8153216275742597,
          1.4187326462683973,
          0.37208856448462635,
          2.0985889144917076,
          1.5803446738686782,
          2.0235643245525257,
          0.7895194724622796,
          1.232716404846558,
          1.2319431107563714,
          1.2325849589587685,
          1.232739069626763,
          1.2327391235306986,
          1.2327378212444802,
          0.5273555892612903,
          0.7895194734659827,
          0.38605036919225316,
          0.8153232419013882,
          1.1273546238708996,
          1.418732646297453,
          1.3928215491037534,
          0.9755129967575827,
          1.7775856745685699,
          0.47902792386612447,
          1.4187326463368342,
          2.098620908094483,
          1.2326272973701213,
          0.9734102693637844,
          1.418710534753509,
          1.4187326462923264,
          2.0235643247398256,
          1.4187326462647958,
          2.3744730969025194,
          0.76284401271294,
          0.8133015760880373,
          0.7894992033487374,
          2.0234815354397178,
          2.0235453377049053,
          0.6771890860418034,
          1.2324601743957053,
          1.232646473412439,
          1.1960147421852643,
          2.0986209081064895,
          1.2327391229731948,
          0.9754494727375548,
          1.4187326447783426,
          0.0840353940069079,
          1.4707311386655613,
          1.418730852655508,
          1.2313624554019318,
          1.2326761931937364,
          2.023564324480487,
          0.4507731726043237,
          1.2327391229852016,
          1.4187239388301904,
          0.08401066457084845,
          2.0235228671016703,
          1.2327391235615122,
          1.2325537437105412,
          0.5502985738074025,
          1.2315748791584833,
          0.8152742339444765,
          0.7895194724694456,
          1.1272921261279982,
          0.7894854175403974,
          2.0235617910296932,
          0.7893006944956983,
          0.3721035912055596,
          1.2327372841582245,
          2.0235554342102464,
          2.0235643246245636,
          1.4187326463741745,
          0.9755096261989424,
          2.098620908094483,
          1.232739122961188,
          1.2327245856613456,
          1.232739122961188,
          1.4187307499960407,
          2.730623855518541,
          1.232739122961188,
          2.102264764226463,
          1.3327076883851625,
          0.7811804923148064,
          1.4187326462527892,
          0.7893942008401317,
          0.9755129955836972,
          2.023535459005714,
          0.8152693117722212,
          1.580344673830884,
          2.0986039583269123,
          1.0616588124036963,
          0.8153186450461958,
          1.4049575885950245,
          0.815316816776938,
          1.589470696307018,
          1.7649714113500243,
          0.01095418558298102,
          1.2327278505035084,
          1.2327391230116156,
          0.7894687682660173,
          0.8153232444227474,
          1.4187196134031306,
          0.7432058227004839,
          0.8153177590965792,
          0.4334687525207587,
          1.3928036099343066,
          1.4187326462539895,
          1.4187326465049248,
          1.4185640866452813,
          1.3928286643994445,
          0.8153217469099691,
          0.8153023742526309,
          1.7774811351305386,
          2.098620908526716,
          1.4187020967788206,
          1.7775856747531815,
          1.2327391238576715,
          1.2327391271634536,
          1.2889537799540025,
          1.231720564851002,
          1.2327334532485463,
          1.2326138515359844,
          1.580338412554635,
          0.9746899622933445,
          1.4187131495807215,
          0.9755129967575827,
          1.2326850494864592,
          0.8153224962439806,
          1.4187318224504895,
          1.2327358887117061,
          1.2327366928112995,
          1.4187327663175033,
          0.7893070116256649,
          0.48147583515400666,
          2.1048158714908993,
          1.3927359210140369,
          1.2326971278726921,
          1.4184010946077348,
          1.3926423632391198,
          1.5803415418436664,
          2.154910818159846,
          1.3928063459022546,
          2.1279856761154603,
          0.1423732873770897,
          1.4187096680894833,
          1.2327391349676595,
          1.908071964814435,
          1.4187278191354178,
          1.392766028506745,
          2.129341323589705,
          1.2327177148332502,
          1.2327391253624826,
          1.23273605481551,
          1.3928036099343066,
          1.4187250435736039,
          0.8153076875982813,
          1.232713763137409,
          0.7209042940005607,
          1.2327252421854844,
          1.2327254579952927,
          1.4187316257530673,
          1.2327286295086224,
          0.7471612495062634,
          1.2327347724202733,
          1.2327349692250515,
          1.1462378696587547,
          1.0722381243785022,
          1.4187326492544066,
          2.023564329883398,
          1.3928286654199942,
          1.2327091069136245,
          0.8153200776686869,
          1.418725557065739,
          1.4187326474534363,
          1.2327243138122315,
          1.2327387371606051,
          0.789515811690435,
          0.46316949744958685,
          1.5803264782961723,
          1.2314864087091466,
          0.7894743114398113,
          1.4187161581320218,
          2.1638238098393363,
          1.418594057981651,
          0.7895194736100603,
          1.392689442762409,
          1.4187056871282366,
          1.3923257978921744,
          1.4185802387499966,
          1.232732397411269,
          1.2327376847689457,
          1.232738508604531,
          0.37197853539594977,
          1.4187111356919215,
          0.7891497723297485,
          1.3928143957443733,
          1.2327123675373555,
          1.4187326713883366,
          2.0476873666775,
          0.37209063651859065,
          1.2888768505932087,
          2.148181081095758,
          1.7775804490813762,
          1.7775068268117364,
          1.4508730187444017,
          2.0235376817433637,
          1.4187326463477077,
          1.221408900785722,
          2.023536868683368,
          1.3533052088538515,
          1.4508222489555251,
          1.4187169005217084,
          0.7894960924716595,
          1.941901160946184,
          1.3928236540539116,
          1.2327146457855567,
          1.23273386156133,
          1.192546860019306,
          1.2193925732322133,
          1.418723548775224,
          0.676964329430216,
          1.2327376941215062,
          0.40409824946687894,
          1.1720329695061529,
          0.8152079286477579,
          1.776883456703592,
          1.9159726885985653,
          1.2327364302427195,
          1.5894322253001074,
          1.2356526799653518,
          1.232718625348976,
          0.7973339121197687,
          1.418732646297055,
          1.146251046269234,
          0.3608291629496869,
          0.5265086902798479,
          1.4186847955989337,
          0.14214794085263893,
          1.7420096735701998,
          2.0233344091095358,
          1.2326001017090014,
          1.3343494291091629,
          1.1462298046769521,
          1.226586957928576,
          1.2327285775557904,
          1.4186760559288916,
          0.8153243224838173,
          1.2327391230164184,
          1.1462168477835404,
          1.2319987440512146,
          1.2327359855735531,
          0.9755074747287635,
          1.2327391469741313,
          2.3401406477429543,
          1.2889765092509526,
          0.3796324723518363,
          1.2324449276628306,
          1.580056181879156,
          3.311717429412656,
          1.0660484858638535,
          2.9200513310970586,
          1.418729930859019,
          1.4986877630645417,
          0.7894874415272539,
          1.2350220972920827,
          1.7775684027538599,
          1.2327380636445138,
          1.23273764210649,
          0.7891846274506151,
          0.2619134228085054,
          1.1899298508845295,
          1.3928012599011195,
          1.2327267457566138,
          1.2327391241618355,
          0.05339194762526122,
          1.2327391289644245,
          1.5892956430039977,
          1.3928147909182427,
          0.5148730210068825,
          1.2309801594495056,
          0.8611228853594761,
          0.789470983540902,
          1.219961437590363,
          0.7895099144922486,
          2.1292996023995174,
          1.2327120659097575,
          1.655363320671203,
          0.26242510815283576,
          1.1462476504365233,
          0.3720311710503459,
          0.7622283961003568,
          0.9580519343466867,
          1.1462421733221433,
          1.589463280626177,
          0.789518369578213,
          2.1743290563728035,
          0.8473312638145309,
          1.146168299142418,
          1.2327323654823774,
          1.2327391241618355,
          0.9754888567962012,
          1.4186940990555987,
          0.7893844767599589,
          1.392816982398038,
          0.7895194823507717,
          0.7895194731057884,
          0.7697675291476205,
          0.9755073536780228,
          1.5894706990662197,
          1.2314115067682962,
          1.0938485482518703,
          0.677193123572751,
          1.0554601347252055,
          0.886251338386183,
          0.9539536721954521,
          1.0345067082187602,
          1.5894264602106245,
          1.232720610989162,
          1.5894478152339533,
          1.1462486218776848,
          1.1941238446909033,
          0.9755120992680875,
          1.2327133847943268,
          1.4984390785474038,
          2.1282184044044965,
          1.418713333962788,
          1.4187028618431683,
          0.14125611921609146,
          0.9755129958570973,
          1.2135491710901032,
          1.4184287673015394,
          1.0722759905281305,
          1.2327346942817974,
          1.2327133468506675,
          0.37209808916043147,
          1.2327270577040559,
          1.4181860206126284,
          1.2315106596375072,
          0.7928496795478213,
          1.4181135099989015,
          1.232663959565775,
          0.81532324220155,
          1.2322326298981117,
          1.4184803943696387,
          1.2326093150369928,
          1.3928238773525248,
          0.7545911075356011,
          0.8152296944946238,
          0.14235849302906994,
          0.7769920233368234,
          1.2324234325755747,
          0.677191717733812,
          1.2327391265631302,
          2.023564148125938,
          0.14123037054609885,
          0.1411027957096662,
          0.37085087695349345,
          1.392817035092835,
          1.7893317901604802,
          -0.2501441929818903,
          1.2327204214492216,
          0.7895193115187442
         ],
         "z": [
          -0.43530799249410485,
          -0.4357082962227197,
          -0.308362111334202,
          -0.49162689574707746,
          -0.4014592941747973,
          -0.1593330601446441,
          -0.3083626004203522,
          -0.40145586788727866,
          -0.033998128703539604,
          -0.43187017832185925,
          -0.20614881473951255,
          -0.48051734805434915,
          -0.16093945925907674,
          -0.43531487240834543,
          -0.4355490501968763,
          -0.4353546782230679,
          -0.43530800863444974,
          -0.43530799277301113,
          -0.435308386689088,
          -0.17213488817366362,
          -0.16093945977870497,
          -0.1270800794967563,
          -0.3083621113342045,
          -0.3355339934541055,
          -0.40145586790232113,
          0.004470993873594553,
          -0.12708733517973383,
          -0.4672317160272558,
          -0.12986680978291695,
          -0.4014558679227093,
          -0.4318604861970255,
          -0.4353418579927598,
          -0.12772410667811918,
          -0.401462564158563,
          -0.40145586789966686,
          -0.4805173481513167,
          -0.4014558678854139,
          -0.06242453723618909,
          -0.169017633569827,
          -0.3089743596361596,
          -0.16094559738672246,
          -0.4805424191619191,
          -0.48052309781433,
          -0.2231767016781471,
          -0.43539247108055384,
          -0.4353360506627785,
          -0.44642929865563136,
          -0.43186048620324147,
          -0.4353079924843854,
          -0.12710657128068978,
          -0.40145586832571717,
          0.10220319720705526,
          -0.14909995627621975,
          -0.4014564111358067,
          -0.4357249068002338,
          -0.43532705059098,
          -0.4805173480170539,
          -0.081999095484361,
          -0.43530799249060137,
          -0.4014585048168562,
          0.10219570933540197,
          -0.4805299026250112,
          -0.43530799278896376,
          -0.43536414104116566,
          0.17315540560321474,
          -0.06024243901748454,
          -0.3083769531663872,
          -0.1609394592627868,
          -0.33555291970785894,
          -0.1609497720069139,
          -0.48051811534445277,
          -0.16100571692404436,
          -0.03399357801316427,
          -0.43530854932597274,
          -0.4805200403711049,
          -0.4805173480916445,
          -0.4014558679420406,
          -0.12708835510354657,
          -0.4318604861970255,
          -0.43530799247816976,
          -0.4353123950302393,
          -0.43530799247816976,
          -0.40145644212582793,
          0.6636745306723018,
          -0.43530799247816976,
          -0.3210037919465123,
          -0.155117428630587,
          -0.19293658770253308,
          -0.4014558678791981,
          -0.1609773962993027,
          -0.1270873345720002,
          -0.4805260898900607,
          -0.3083784529380131,
          -0.2061488147199458,
          -0.4318656193828134,
          -0.4333472835273789,
          -0.30836350362435677,
          -0.40562765339151396,
          -0.30836405716892396,
          -0.26686748384431475,
          -0.4710517146294574,
          0.08117924343691728,
          -0.43531140654931977,
          -0.4353079925042765,
          -0.1609548161125297,
          -0.30836211263954,
          -0.4014598184221439,
          -0.17496567510767536,
          -0.3083637720953062,
          -0.11271991757124927,
          0.004465561127614844,
          -0.40145586787981974,
          -0.40145586800973165,
          -0.40150691380835457,
          0.004473148462813425,
          -0.30836256625922503,
          -0.3083684358916846,
          -0.4672633747621293,
          -0.4318604864207975,
          -0.40146512059733447,
          -0.4672317161228308,
          -0.4353079929422891,
          -0.4353079946537288,
          -0.06465537638973658,
          -0.43561646385243835,
          -0.43530970988357703,
          -0.43534592962035545,
          -0.20615071276520755,
          -0.12733658158230832,
          -0.4014617725818787,
          -0.12708733517973383,
          -0.4353243685263975,
          -0.30836233734978324,
          -0.40145611738219344,
          -0.43530897211828395,
          -0.4353087284045597,
          -0.40145593003802665,
          -0.16100379897100917,
          -0.371655035984043,
          -0.6057534442627553,
          0.004445062245712521,
          -0.43532070992165695,
          -0.40155628700086904,
          0.004416730321883286,
          -0.20614976317159825,
          -0.35278146884103206,
          0.004466386897041181,
          -0.5987367701565431,
          0.42178897180345754,
          -0.40146282669070643,
          -0.4353079986940524,
          -0.515492102482554,
          -0.4014573297212561,
          0.004454179984958537,
          -0.5983262321601747,
          -0.4353144759173539,
          -0.4353079937213461,
          -0.43530892202367744,
          0.004465561127614844,
          -0.40145817080246937,
          -0.308366821867088,
          -0.4353156725614917,
          -0.16341013726485248,
          -0.4353121962927413,
          -0.43531213707302746,
          -0.40145617696810915,
          -0.43531117164677324,
          -0.17376719153676307,
          -0.43530931008788715,
          -0.435309250393757,
          0.007497059431979813,
          -0.40260581797416756,
          -0.40145586943316874,
          -0.4805173508142005,
          0.004473147934463615,
          -0.4353170872143961,
          -0.3083630697710192,
          -0.40145801480182414,
          -0.4014558685007864,
          -0.43531247735476486,
          -0.43530810952689425,
          -0.160940568237039,
          -0.49792022842556166,
          -0.20615432500956057,
          -0.43568736390003043,
          -0.16095313562525118,
          -0.4014608619898047,
          -0.7120923869482745,
          -0.4014978378828195,
          -0.16093945985329552,
          0.004430986800849213,
          -0.4014640329415436,
          0.004320860757224083,
          -0.40150202662626283,
          -0.43531002939677443,
          -0.4353084282901144,
          -0.4353081883766555,
          -0.03403218776162746,
          -0.40146238235270276,
          -0.16105143571587016,
          0.004468827314152727,
          -0.43531609590274156,
          -0.4014558808921488,
          -0.44728566312364376,
          -0.033997503074045546,
          -0.0646786736929772,
          -0.7562139847895887,
          -0.4672332985627271,
          -0.46725559480252965,
          -0.2997642138404798,
          -0.4805254165776325,
          -0.40145586792833843,
          -0.43873963536265165,
          -0.48052566268858926,
          0.1636690647701583,
          -0.29977958854128417,
          -0.401460636279165,
          -0.16094653947095275,
          -2.5291258448498786,
          0.004471630712330076,
          -0.43531540541792463,
          -0.43530958583814144,
          -0.15830246619437888,
          0.08287160224388107,
          -0.40145862314967373,
          -0.22324476900554363,
          -0.4353084253311027,
          -0.0009828957832145994,
          -0.45369198562433555,
          -0.3083970328264953,
          -0.46744438166385527,
          -0.42285617237264067,
          -0.4353088081255343,
          -0.26687913585568224,
          0.23845301361822432,
          -0.4353141999503429,
          -0.2448496219946096,
          -0.40145586790211507,
          0.0075010491360482275,
          -0.03740792080610529,
          0.20285623335899203,
          -0.4014703599920827,
          0.42172072604090644,
          -0.478005551968119,
          -0.48058697574554526,
          -0.435350094587355,
          -0.19286820839334878,
          0.007494617050676989,
          -0.43717155558367743,
          -0.43531118743884795,
          -0.4014730057150323,
          -0.30836267076366086,
          -0.43530799250676255,
          0.007490692307607392,
          -0.4355322115389969,
          -0.4353089426179666,
          -0.1270890066467418,
          -0.4353080049099352,
          -1.0086219906248985,
          -0.0646484931546607,
          -0.1968436083777552,
          -0.4353970864222461,
          -0.2062361870678266,
          3.523737219051134,
          -0.2899555052433245,
          7.365810106988509,
          -0.4014566904327694,
          -0.31337158977041274,
          -0.16094916030118606,
          0.20942716273895365,
          -0.46723694696648166,
          -0.4353083133023805,
          -0.4353084409771548,
          -0.16104086570308998,
          -0.25703969090758244,
          0.02155087754161428,
          0.00446484879317643,
          -0.4353117409834635,
          -0.43530799309975765,
          0.3782378153050796,
          -0.43530799558611094,
          -0.2669204973028019,
          0.004468946492730938,
          0.06397075520380266,
          -0.43584071282600734,
          -0.10485616236937652,
          -0.16095414333547575,
          -0.4391775809811499,
          -0.1609423539871429,
          -0.598338798680997,
          -0.4353161870382478,
          -0.15750344220579562,
          -0.17632833908091491,
          0.007500015105502413,
          -0.034015510118672265,
          0.22646793398074255,
          -0.21041011504940044,
          0.007498362658512371,
          -0.2668697293992863,
          -0.1609399593844877,
          -0.7120361105611397,
          -0.2753473824478282,
          0.007475990437760549,
          -0.43531004870869927,
          -0.43530799309975765,
          -0.12709464508162646,
          -0.4014675416845365,
          -0.16098034263519598,
          0.004469608861516787,
          -0.16093946437845824,
          -0.16093945959222855,
          -0.27299935167892336,
          -0.12708904408303584,
          -0.2668674852727839,
          -0.43571021406211186,
          -0.39227187363272326,
          -0.22317548143135754,
          -0.039005472234074724,
          0.09656225719981328,
          -0.13361618081820714,
          0.2437443390809731,
          -0.266880880269089,
          -0.43531359869677283,
          -0.26687441294689335,
          0.007500315560633669,
          -0.4470026592497843,
          -0.12708760617689013,
          -0.43531578763820866,
          -0.31344690365702377,
          -0.5986662679675381,
          -0.40146172039032085,
          -0.4014648878377589,
          0.4214506492644652,
          -0.1270873347135425,
          -0.44111966278691167,
          -0.401547892054591,
          -0.40259435012753214,
          -0.43530933559298435,
          -0.43531579883571975,
          -0.033995244413639866,
          -0.43531164622033863,
          -0.40162140836977345,
          -0.43568011354280517,
          -0.31516782000223326,
          -0.40164337180715165,
          -0.43533075448376635,
          -0.30836211148960163,
          -0.4354613785675481,
          -0.4015322597916529,
          -0.4353473040071067,
          0.004471698852431027,
          -0.12154413445441796,
          -0.30839044148763334,
          0.4217844912620802,
          -0.1647332662528521,
          -0.43540359648570187,
          -0.22317590527404135,
          -0.43530799434293443,
          -0.480517401423981,
          0.4214428616031213,
          0.4214042279002102,
          -0.03437294943501275,
          0.004469626802991711,
          0.08746400333852064,
          0.1606028632124552,
          -0.43531365835154023,
          -0.16093950784612995
         ]
        },
        {
         "customdata": [
          [
           "SHA-256"
          ],
          [
           "Ethash"
          ],
          [
           "Scrypt"
          ],
          [
           "CryptoNight-V7"
          ],
          [
           "Ethash"
          ],
          [
           "Equihash"
          ],
          [
           "Multiple"
          ],
          [
           "Scrypt"
          ],
          [
           "X11"
          ],
          [
           "SHA-256"
          ],
          [
           "Scrypt"
          ],
          [
           "SHA-256"
          ],
          [
           "Multiple"
          ],
          [
           "Scrypt"
          ],
          [
           "SHA-256"
          ],
          [
           "Scrypt"
          ],
          [
           "Scrypt"
          ],
          [
           "Quark"
          ],
          [
           "Groestl"
          ],
          [
           "Scrypt"
          ],
          [
           "X11"
          ],
          [
           "Scrypt"
          ],
          [
           "Scrypt"
          ],
          [
           "Scrypt"
          ],
          [
           "X11"
          ],
          [
           "Multiple"
          ],
          [
           "Scrypt"
          ],
          [
           "SHA-256"
          ],
          [
           "Scrypt"
          ],
          [
           "Scrypt"
          ],
          [
           "Scrypt"
          ],
          [
           "Scrypt"
          ],
          [
           "Scrypt"
          ],
          [
           "Scrypt"
          ],
          [
           "SHA-256"
          ],
          [
           "Scrypt"
          ],
          [
           "NeoScrypt"
          ],
          [
           "Scrypt"
          ],
          [
           "Scrypt"
          ],
          [
           "Scrypt"
          ],
          [
           "Multiple"
          ],
          [
           "Scrypt"
          ],
          [
           "SHA-256"
          ],
          [
           "Scrypt"
          ],
          [
           "Scrypt"
          ],
          [
           "Scrypt"
          ],
          [
           "Scrypt"
          ],
          [
           "Scrypt"
          ],
          [
           "HybridScryptHash256"
          ],
          [
           "Scrypt"
          ],
          [
           "SHA-256"
          ],
          [
           "Scrypt"
          ],
          [
           "SHA-256"
          ],
          [
           "Scrypt"
          ],
          [
           "Scrypt"
          ],
          [
           "Scrypt"
          ],
          [
           "Scrypt"
          ],
          [
           "Scrypt"
          ],
          [
           "Scrypt-n"
          ],
          [
           "Scrypt"
          ],
          [
           "SHA-256"
          ],
          [
           "SHA-256"
          ],
          [
           "SHA-256"
          ],
          [
           "SHA-256"
          ],
          [
           "SHA-256"
          ],
          [
           "SHA-256"
          ],
          [
           "X11"
          ],
          [
           "Scrypt"
          ],
          [
           "X11"
          ],
          [
           "Lyra2REv2"
          ],
          [
           "Scrypt"
          ],
          [
           "SHA-256"
          ],
          [
           "CryptoNight"
          ],
          [
           "CryptoNight"
          ],
          [
           "Scrypt"
          ],
          [
           "SHA-256"
          ],
          [
           "Scrypt"
          ],
          [
           "Scrypt"
          ],
          [
           "Scrypt"
          ],
          [
           "Scrypt"
          ],
          [
           "Scrypt"
          ],
          [
           "Momentum"
          ],
          [
           "Stanford Folding"
          ],
          [
           "Multiple"
          ],
          [
           "QuBit"
          ],
          [
           "Scrypt"
          ],
          [
           "Scrypt"
          ],
          [
           "SHA-256"
          ],
          [
           "M7 POW"
          ],
          [
           "Scrypt"
          ],
          [
           "X11"
          ],
          [
           "Scrypt"
          ],
          [
           "SHA-256"
          ],
          [
           "Scrypt"
          ],
          [
           "X11"
          ],
          [
           "X11"
          ],
          [
           "Lyra2RE"
          ],
          [
           "SHA-256"
          ],
          [
           "X11"
          ],
          [
           "Scrypt"
          ],
          [
           "Scrypt"
          ],
          [
           "Ethash"
          ],
          [
           "Blake2b"
          ],
          [
           "X11"
          ],
          [
           "SHA-256"
          ],
          [
           "Scrypt"
          ],
          [
           "Scrypt"
          ],
          [
           "1GB AES Pattern Search"
          ],
          [
           "Scrypt"
          ],
          [
           "CryptoNight"
          ],
          [
           "SHA-256"
          ],
          [
           "SHA-256"
          ],
          [
           "X11"
          ],
          [
           "Scrypt-n"
          ],
          [
           "X11"
          ],
          [
           "Scrypt"
          ],
          [
           "Dagger"
          ],
          [
           "Scrypt"
          ],
          [
           "CryptoNight-Lite"
          ],
          [
           "X11GOST"
          ],
          [
           "SHA-256"
          ],
          [
           "Scrypt"
          ],
          [
           "X11"
          ],
          [
           "SHA-256"
          ],
          [
           "Scrypt"
          ],
          [
           "X11"
          ],
          [
           "Equihash"
          ],
          [
           "CryptoNight"
          ],
          [
           "SHA-256"
          ],
          [
           "Multiple"
          ],
          [
           "Scrypt"
          ],
          [
           "SHA-256"
          ],
          [
           "Scrypt"
          ],
          [
           "Scrypt"
          ],
          [
           "Scrypt-n"
          ],
          [
           "Lyra2Z"
          ],
          [
           "SHA-256"
          ],
          [
           "Quark"
          ],
          [
           "Ethash"
          ],
          [
           "SHA-256"
          ],
          [
           "Equihash"
          ],
          [
           "Scrypt"
          ],
          [
           "Equihash"
          ],
          [
           "X11"
          ],
          [
           "X11"
          ],
          [
           "CryptoNight"
          ],
          [
           "Scrypt"
          ],
          [
           "CryptoNight"
          ],
          [
           "Lyra2RE"
          ],
          [
           "X11"
          ],
          [
           "X11"
          ],
          [
           "Scrypt"
          ],
          [
           "CryptoNight-V7"
          ],
          [
           "Keccak"
          ],
          [
           "Scrypt"
          ],
          [
           "X11"
          ],
          [
           "Equihash"
          ],
          [
           "Scrypt"
          ],
          [
           "Lyra2RE"
          ],
          [
           "Ethash"
          ],
          [
           "X11"
          ],
          [
           "Dagger-Hashimoto"
          ],
          [
           "Scrypt"
          ],
          [
           "NIST5"
          ],
          [
           "Scrypt"
          ],
          [
           "Scrypt"
          ],
          [
           "Scrypt"
          ],
          [
           "SHA-256"
          ],
          [
           "Scrypt"
          ],
          [
           "CryptoNight-V7"
          ],
          [
           "Argon2d"
          ],
          [
           "Blake2b"
          ],
          [
           "Cloverhash"
          ],
          [
           "CryptoNight"
          ],
          [
           "X11"
          ],
          [
           "Scrypt"
          ],
          [
           "Scrypt"
          ],
          [
           "X11"
          ],
          [
           "X11"
          ],
          [
           "CryptoNight"
          ],
          [
           "Time Travel"
          ],
          [
           "Scrypt"
          ],
          [
           "Keccak"
          ],
          [
           "X11"
          ],
          [
           "SHA-256"
          ],
          [
           "Scrypt"
          ],
          [
           "Scrypt"
          ],
          [
           "Scrypt"
          ],
          [
           "Scrypt"
          ],
          [
           "Scrypt"
          ],
          [
           "Scrypt"
          ],
          [
           "Scrypt"
          ],
          [
           "Scrypt"
          ],
          [
           "CryptoNight"
          ],
          [
           "Equihash"
          ],
          [
           "X11"
          ],
          [
           "NeoScrypt"
          ],
          [
           "Equihash"
          ],
          [
           "Dagger"
          ],
          [
           "Scrypt"
          ],
          [
           "X11"
          ],
          [
           "NeoScrypt"
          ],
          [
           "Scrypt"
          ],
          [
           "Ethash"
          ],
          [
           "Scrypt"
          ],
          [
           "NeoScrypt"
          ],
          [
           "Multiple"
          ],
          [
           "CryptoNight"
          ],
          [
           "CryptoNight"
          ],
          [
           "Ethash"
          ],
          [
           "X11"
          ],
          [
           "SHA-256"
          ],
          [
           "CryptoNight-V7"
          ],
          [
           "Scrypt"
          ],
          [
           "BLAKE256"
          ],
          [
           "X11"
          ],
          [
           "NeoScrypt"
          ],
          [
           "NeoScrypt"
          ],
          [
           "Scrypt"
          ],
          [
           "X11"
          ],
          [
           "SHA-256"
          ],
          [
           "C11"
          ],
          [
           "Ethash"
          ],
          [
           "CryptoNight"
          ],
          [
           "SkunkHash"
          ],
          [
           "CryptoNight"
          ],
          [
           "Equihash"
          ],
          [
           "Skein"
          ],
          [
           "Scrypt"
          ],
          [
           "Dagger"
          ],
          [
           "Lyra2REv2"
          ],
          [
           "Scrypt"
          ],
          [
           "Scrypt"
          ],
          [
           "Scrypt"
          ],
          [
           "NeoScrypt"
          ],
          [
           "Equihash"
          ],
          [
           "X11"
          ],
          [
           "Ethash"
          ],
          [
           "X11"
          ],
          [
           "CryptoNight"
          ],
          [
           "NeoScrypt"
          ],
          [
           "Scrypt"
          ],
          [
           "IMesh"
          ],
          [
           "Equihash"
          ],
          [
           "Equihash"
          ],
          [
           "Equihash"
          ],
          [
           "Lyra2Z"
          ],
          [
           "X11"
          ],
          [
           "CryptoNight"
          ],
          [
           "NIST5"
          ],
          [
           "Lyra2RE"
          ],
          [
           "Tribus"
          ],
          [
           "Lyra2Z"
          ],
          [
           "CryptoNight"
          ],
          [
           "CryptoNight Heavy"
          ],
          [
           "CryptoNight"
          ],
          [
           "Jump Consistent Hash"
          ],
          [
           "CryptoNight"
          ],
          [
           "X16R"
          ],
          [
           "HMQ1725"
          ],
          [
           "X11"
          ],
          [
           "Scrypt"
          ],
          [
           "CryptoNight-V7"
          ],
          [
           "Cryptonight-GPU"
          ],
          [
           "XEVAN"
          ],
          [
           "CryptoNight Heavy"
          ],
          [
           "Lyra2REv2"
          ],
          [
           "SHA-256"
          ],
          [
           "X11"
          ],
          [
           "X16R"
          ],
          [
           "Equihash"
          ],
          [
           "Quark"
          ],
          [
           "CryptoNight Heavy X"
          ],
          [
           "Lyra2Z"
          ],
          [
           "Ethash"
          ],
          [
           "SHA-256"
          ],
          [
           "Ethash"
          ],
          [
           "CryptoNight"
          ],
          [
           "SkunkHash"
          ],
          [
           "Argon2"
          ],
          [
           "Blake"
          ],
          [
           "Blake"
          ],
          [
           "SHA-256"
          ],
          [
           "Equihash"
          ],
          [
           "Exosis"
          ],
          [
           "Scrypt"
          ],
          [
           "Equihash"
          ],
          [
           "Equihash"
          ],
          [
           "QuBit"
          ],
          [
           "Equihash1927"
          ],
          [
           "SHA-256"
          ],
          [
           "SHA-256"
          ],
          [
           "X13"
          ],
          [
           "SHA-256"
          ],
          [
           "X11"
          ],
          [
           "Scrypt"
          ],
          [
           "NeoScrypt"
          ],
          [
           "Blake"
          ],
          [
           "CryptoNight"
          ],
          [
           "Scrypt"
          ],
          [
           "SHA-256"
          ],
          [
           "CryptoNight"
          ],
          [
           "Scrypt"
          ],
          [
           "Groestl"
          ],
          [
           "Scrypt"
          ],
          [
           "Scrypt"
          ],
          [
           "Scrypt"
          ],
          [
           "Multiple"
          ],
          [
           "Equihash+Scrypt"
          ],
          [
           "Ethash"
          ],
          [
           "Ethash"
          ],
          [
           "CryptoNight"
          ],
          [
           "Equihash"
          ]
         ],
         "hovertemplate": "<b>%{hovertext}</b><br><br>class=%{marker.color}<br>PC 1=%{x}<br>PC 2=%{y}<br>PC 3=%{z}<br>Algorithm=%{customdata[0]}<extra></extra>",
         "hovertext": [
          "Bitcoin",
          "Ethereum",
          "Litecoin",
          "Monero",
          "Ethereum Classic",
          "ZCash",
          "DigiByte",
          "ProsperCoin",
          "Spreadcoin",
          "ACoin",
          "Argentum",
          "BetaCoin",
          "MyriadCoin",
          "MoonCoin",
          "ZetaCoin",
          "SexCoin",
          "Quatloo",
          "QuarkCoin",
          "Riecoin",
          "Digitalcoin ",
          "LimeCoinX",
          "BitMark",
          "Catcoin",
          "CannaCoin",
          "CryptCoin",
          "Verge",
          "DarkShibe",
          "DevCoin",
          "EarthCoin",
          "E-Gulden",
          "Elacoin",
          "Einsteinium",
          "Emerald",
          "Flappy Coin",
          "FireRoosterCoin",
          "Franko",
          "FeatherCoin",
          "GrandCoin",
          "GlobalCoin",
          "GoldCoin",
          "HunterCoin",
          "Infinite Coin",
          "IXcoin",
          "KrugerCoin",
          "LuckyCoin",
          "Litebar ",
          "LitecoinDark",
          "MegaCoin",
          "MediterraneanCoin",
          "MinCoin",
          "NoirBits",
          "NobleCoin",
          "Namecoin",
          "NyanCoin",
          "RipOffCoin",
          "RonPaulCoin",
          "StableCoin",
          "SmartCoin",
          "SpainCoin",
          "SecureCoin",
          "SysCoin",
          "TigerCoin",
          "TerraCoin",
          "Umbrella",
          "UnbreakableCoin",
          "Unobtanium",
          "UroCoin",
          "ViaCoin",
          "VootCoin",
          "Vertcoin",
          "WorldCoin",
          "JouleCoin",
          "ByteCoin",
          "DigitalNote ",
          "MonaCoin",
          "Sling Coin",
          "Gulden",
          "PesetaCoin",
          "Wild Beast Coin",
          "Flo",
          "ArtByte",
          "BitCredit",
          "Folding Coin",
          "Unitus",
          "CypherPunkCoin",
          "OmniCron",
          "GreenCoin",
          "Unattanium",
          "Cryptonite",
          "Gridmaster",
          "ConSpiracy Coin ",
          "MasterCoin",
          "SoonCoin",
          "1Credit",
          "Quicksilver coin",
          "MarsCoin ",
          "Crypto",
          "Anarchists Prime",
          "BowsCoin",
          "Song Coin",
          "BitZeny",
          "Expanse",
          "Siacoin",
          "MindCoin",
          "I0coin",
          "DogeCoinDark",
          "Revolution VR",
          "HOdlcoin",
          "Gamecredits",
          "Dashcoin",
          "CarpeDiemCoin",
          "Phalanx",
          "SunShotCoin",
          "HempCoin",
          "Adzcoin",
          "VirtaCoin",
          "SoilCoin",
          "YoCoin",
          "AEON",
          "SibCoin",
          "Anti Bitcoin",
          "Francs",
          "BolivarCoin",
          "Clinton",
          "Omni",
          "PizzaCoin",
          "Komodo",
          "Karbo",
          "ZayedCoin",
          "Circuits of Value",
          "DopeCoin",
          "DollarCoin",
          "Shilling",
          "GBR Coin",
          "FujiCoin",
          "ZCoin",
          "LeaCoin",
          "Zurcoin",
          "Elementrem",
          "CashOut",
          "ZClassic",
          "KiloCoin",
          "Hush",
          "ArtexCoin",
          "Kurrent",
          "Cannabis Industry Coin",
          "OsmiumCoin",
          "Bikercoins",
          "HexxCoin",
          "MarxCoin",
          "PacCoin",
          "Solarflarecoin",
          "Citadel",
          "CreativeChain",
          "BeaverCoin",
          "VaultCoin",
          "Zero",
          "Canada eCoin",
          "Zoin",
          "Musicoin",
          "BnrtxCoin",
          "DubaiCoin",
          "EB3coin",
          "Coinonat",
          "Bitcoin Scrypt",
          "BenjiRolls",
          "ParallelCoin",
          "ILCoin",
          "EquiTrader",
          "Quantum Resistant Ledger",
          "Dynamic",
          "Nano",
          "ChanCoin",
          "Dinastycoin",
          "DigitalPrice",
          "Unify",
          "SocialCoin",
          "ArcticCoin",
          "DAS",
          "LeviarCoin",
          "Bitcore",
          "gCn Coin",
          "SmartCash",
          "Onix",
          "Bitcoin Cash",
          "CampusCoin",
          "Sojourn Coin",
          "NewYorkCoin",
          "LiteBitcoin",
          "FrazCoin",
          "Kronecoin",
          "AdCoin",
          "Linx",
          "Sumokoin",
          "BitcoinZ",
          "Elements",
          "VIVO Coin",
          "Bitcoin Gold",
          "Pirl",
          "eBoost",
          "Pura",
          "Innova",
          "Bitdeal",
          "Ellaism",
          "Sakuracoin",
          "GoByte",
          "SHIELD",
          "UltraNote",
          "BitCoal",
          "DaxxCoin",
          "AC3",
          "CHIPS",
          "Lethean",
          "PopularCoin",
          "Photon",
          "Sucre",
          "SparksPay",
          "GunCoin",
          "IrishCoin",
          "Pioneer Coin",
          "UnitedBitcoin",
          "Interzone",
          "1717 Masonic Commemorative Token",
          "TurtleCoin",
          "MUNcoin",
          "Niobio Cash",
          "Bitcoin Private",
          "Skeincoin",
          "ShareChain",
          "Travelflex",
          "KREDS",
          "BitFlip",
          "LottoCoin",
          "LeafCoin",
          "Cerberus",
          "Bitcoin Hush",
          "Crypto Improvement Fund",
          "Callisto Network",
          "Curium",
          "BitTube",
          "Dinero",
          "Poseidon",
          "Aidos Kuneen",
          "Snowgem",
          "Bitrolium",
          "Bitcoin Interest",
          "Alpenschillling",
          "FuturoCoin",
          "Monero Classic",
          "Jumpcoin",
          "Infinex",
          "KEYCO",
          "GINcoin",
          "PlatinCoin",
          "Loki",
          "Newton Coin",
          "MassGrid",
          "PluraCoin",
          "Motion",
          "PlusOneCoin",
          "Axe",
          "HexCoin",
          "Webchain",
          "Ryo",
          "Urals Coin",
          "Qwertycoin",
          "NIX",
          "Project Pai",
          "Azart",
          "Xchange",
          "CrypticCoin",
          "ZestCoin",
          "X-CASH",
          "Actinium",
          "ETHER-1",
          "Bitcoin SV",
          "Bitcoiin2Gen",
          "FREDEnergy",
          "C25 Coin",
          "Aquachain",
          "Universal Molecule",
          "Lithium",
          "Smart Bitcoin",
          "PirateCash",
          "Exosis",
          "Block-Logic",
          "Beam",
          "Bithereum",
          "SLICE",
          "Vidulum",
          "BlockStamp",
          "BLAST",
          "Bitcoin Rhodium",
          "GlobalToken",
          "Boolberry",
          "SolarCoin",
          "UFO Coin",
          "BlakeCoin",
          "FantomCoin ",
          "Crypto Escudo",
          "Crown Coin",
          "Quazar Coin",
          "SmileyCoin",
          "Groestlcoin",
          "Bata",
          "Pakcoin",
          "Dotcoin",
          "JoinCoin",
          "Vollar",
          "Reality Clash",
          "iOlite",
          "Beldex",
          "Horizen"
         ],
         "legendgroup": "1",
         "marker": {
          "color": [
           1,
           1,
           1,
           1,
           1,
           1,
           1,
           1,
           1,
           1,
           1,
           1,
           1,
           1,
           1,
           1,
           1,
           1,
           1,
           1,
           1,
           1,
           1,
           1,
           1,
           1,
           1,
           1,
           1,
           1,
           1,
           1,
           1,
           1,
           1,
           1,
           1,
           1,
           1,
           1,
           1,
           1,
           1,
           1,
           1,
           1,
           1,
           1,
           1,
           1,
           1,
           1,
           1,
           1,
           1,
           1,
           1,
           1,
           1,
           1,
           1,
           1,
           1,
           1,
           1,
           1,
           1,
           1,
           1,
           1,
           1,
           1,
           1,
           1,
           1,
           1,
           1,
           1,
           1,
           1,
           1,
           1,
           1,
           1,
           1,
           1,
           1,
           1,
           1,
           1,
           1,
           1,
           1,
           1,
           1,
           1,
           1,
           1,
           1,
           1,
           1,
           1,
           1,
           1,
           1,
           1,
           1,
           1,
           1,
           1,
           1,
           1,
           1,
           1,
           1,
           1,
           1,
           1,
           1,
           1,
           1,
           1,
           1,
           1,
           1,
           1,
           1,
           1,
           1,
           1,
           1,
           1,
           1,
           1,
           1,
           1,
           1,
           1,
           1,
           1,
           1,
           1,
           1,
           1,
           1,
           1,
           1,
           1,
           1,
           1,
           1,
           1,
           1,
           1,
           1,
           1,
           1,
           1,
           1,
           1,
           1,
           1,
           1,
           1,
           1,
           1,
           1,
           1,
           1,
           1,
           1,
           1,
           1,
           1,
           1,
           1,
           1,
           1,
           1,
           1,
           1,
           1,
           1,
           1,
           1,
           1,
           1,
           1,
           1,
           1,
           1,
           1,
           1,
           1,
           1,
           1,
           1,
           1,
           1,
           1,
           1,
           1,
           1,
           1,
           1,
           1,
           1,
           1,
           1,
           1,
           1,
           1,
           1,
           1,
           1,
           1,
           1,
           1,
           1,
           1,
           1,
           1,
           1,
           1,
           1,
           1,
           1,
           1,
           1,
           1,
           1,
           1,
           1,
           1,
           1,
           1,
           1,
           1,
           1,
           1,
           1,
           1,
           1,
           1,
           1,
           1,
           1,
           1,
           1,
           1,
           1,
           1,
           1,
           1,
           1,
           1,
           1,
           1,
           1,
           1,
           1,
           1,
           1,
           1,
           1,
           1,
           1,
           1,
           1,
           1,
           1,
           1,
           1,
           1,
           1,
           1,
           1,
           1,
           1,
           1,
           1,
           1,
           1,
           1,
           1,
           1,
           1,
           1,
           1,
           1,
           1,
           1,
           1,
           1,
           1,
           1,
           1,
           1,
           1,
           1,
           1,
           1,
           1,
           1,
           1,
           1,
           1,
           1,
           1,
           1,
           1,
           1,
           1
          ],
          "coloraxis": "coloraxis",
          "symbol": "diamond"
         },
         "mode": "markers",
         "name": "1",
         "scene": "scene",
         "showlegend": true,
         "type": "scatter3d",
         "x": [
          -0.22310891919077125,
          -0.3047359056209943,
          -0.2791257346899784,
          -0.31371278260632013,
          -0.30465947741276844,
          -0.2728223463865082,
          -0.09355862837724988,
          -0.279896971802604,
          -0.3038643456311794,
          -0.2233503348955489,
          -0.2798102817003754,
          -0.2233503349638923,
          -0.2244252596917174,
          -0.2799755126251549,
          -0.22105828311643833,
          -0.27823827174958227,
          -0.27987556723234625,
          0.0057267844759866775,
          -0.3207436449634925,
          -0.2795242916625926,
          -0.30401449318190565,
          -0.2799746505858362,
          -0.2798774232478819,
          -0.27991130590513763,
          -0.30394720141477183,
          -0.03264558341012561,
          -0.2799746505284277,
          0.029467190020403124,
          -0.11111842017453072,
          -0.27969306025409707,
          -0.27997465069244304,
          -0.2770272195642637,
          -0.2797120977251571,
          -0.27997487533799187,
          -0.22335033489780226,
          -0.2799592619819037,
          -0.3010638679050287,
          -0.26806860091444507,
          -0.2790902710195276,
          -0.27941365578974175,
          -0.24716007899946907,
          0.9400300554331199,
          -0.22306633587229077,
          -0.2779351860225284,
          -0.2797143932890112,
          -0.27995977890941426,
          -0.2799746507081873,
          -0.27946087788881374,
          -0.2789504396959347,
          -0.2798964884004749,
          -0.22335033500435889,
          -0.2481121254241333,
          -0.2231518876637515,
          -0.2754672998621599,
          -0.2799746505508102,
          -0.2799597814692302,
          -0.27964855808914413,
          -0.2796299933683598,
          -0.3293406603044525,
          -0.27997465057104337,
          -0.21576418275563006,
          -0.22276404802523736,
          -0.2230414761845846,
          -0.22335033489785325,
          -0.22331965643519736,
          -0.2233476293200792,
          -0.30399823493187184,
          -0.2796628898012612,
          -0.30401449313469464,
          -0.31328569611634904,
          -0.27836396794406476,
          -0.22282250677970492,
          2.318830080806925,
          -0.06689244288104397,
          -0.27905630927745056,
          -0.22335033489419998,
          -0.2743856330366005,
          -0.27812277365247057,
          -0.27997220071986606,
          -0.277924102678635,
          -0.26930197437531017,
          -0.3354741434762138,
          -0.2637795751157855,
          -0.2462832326349307,
          -0.2554586505960784,
          -0.2798380999361326,
          -0.21788966317222302,
          -0.22335033489195188,
          -0.28299971938600416,
          -0.27997465071267646,
          -0.30401449320888324,
          -0.27996630834387304,
          -0.22318250745188706,
          -0.2799736694352196,
          -0.30401449320888324,
          -0.30358058236683977,
          -0.34953451688560006,
          -0.22315174229953122,
          -0.3038008633042254,
          -0.27953611138993234,
          -0.2789563907572529,
          -0.30604469758057873,
          0.2886545360307783,
          -0.3038008113460801,
          -0.22306757306554517,
          -0.27997468761816885,
          -0.2771466924825735,
          -0.36703516553546317,
          -0.27903420502917414,
          -0.1598997691606722,
          0.06941027695108838,
          -0.22335033492567394,
          -0.30401449819301324,
          -0.32934067143275314,
          -0.3034070165387926,
          -0.279974697734806,
          -0.29762088793462665,
          -0.27996607999890744,
          -0.3070736867561422,
          -0.3106972446089928,
          -0.22335033498637372,
          -0.27988616499044927,
          -0.3038306209106853,
          -0.22335033489739506,
          -0.27996634914726776,
          -0.30399593751417997,
          -0.1010945371778792,
          -0.15979442859302423,
          -0.2232662524353439,
          -0.23369361249153678,
          -0.2784011583197984,
          -0.2232276996330818,
          -0.27982491422793454,
          -0.27997465072054495,
          -0.3293406602145266,
          -0.289013949879479,
          -0.22335033938823504,
          0.0022314662040755938,
          -0.3058331358569979,
          -0.2233503351167661,
          -0.2728461753877667,
          -0.27733123244216984,
          -0.2729217700854462,
          -0.29291812371107045,
          -0.3031881262884869,
          -0.15988659700698313,
          -0.2799626111564208,
          -0.15977376223888112,
          -0.349694317848829,
          -0.3040144933609475,
          -0.29678346543602163,
          -0.2799746505687952,
          -0.31379670369600055,
          -0.29553098294648733,
          -0.2799326990057557,
          -0.30360530944699665,
          -0.27282855983801285,
          -0.27863011257459636,
          -0.3494698370711705,
          -0.30618603290224805,
          -0.30401449360680444,
          -0.3299382573191458,
          -0.2791115120119859,
          -0.20690428296091964,
          -0.27997465057104337,
          -0.2797016031408336,
          -0.27997465052608067,
          -0.20560493450708892,
          -0.27979051818032924,
          -0.3130147501169492,
          -0.2792092955829712,
          -0.1552682685157843,
          -0.3178458102581474,
          -0.1355326402263978,
          -0.3035412954380691,
          -0.27973046045681305,
          -0.2799050590100316,
          -0.3036637945741619,
          -0.303979172163883,
          -0.15970905975794103,
          -0.3693944230146786,
          1.9158013337684003,
          -0.2653525134425566,
          -0.3023651812063907,
          -0.22310799788704344,
          -0.27997465279445544,
          -0.2799681400099759,
          1.6458202502596617,
          -0.27997465277197403,
          -0.2798439713869477,
          -0.2797396103354478,
          -0.279535014553202,
          -0.27952060819272806,
          -0.1597792894927618,
          -0.2027405962783561,
          -0.2676165748044934,
          -0.30381780223215343,
          -0.2726901150212001,
          -0.29723999005548957,
          -0.2786281384820979,
          -0.30165495496851424,
          -0.3037880509173489,
          -0.27997465119827497,
          -0.3060142492868741,
          -0.27997465076011196,
          -0.303795362536232,
          -0.24067287059419765,
          0.09975809226278194,
          -0.15983917003630194,
          -0.29917148129529825,
          -0.30293291865047184,
          -0.223350334939163,
          -0.30800234087801487,
          -0.22659086809571707,
          0.28832542459544447,
          -0.30395754293589133,
          -0.30376822608920623,
          -0.29983668429549226,
          -0.2793621545886921,
          -0.30390032305618914,
          -0.22307877012118962,
          -0.222196975648388,
          -0.11324758916944369,
          0.5557039322239657,
          -0.31084997626526945,
          -0.15809617243429905,
          -0.2729217700854462,
          -0.2597077446803016,
          -0.14530998189244518,
          -0.29625238216543653,
          -0.30530517001482355,
          -0.27980704559251485,
          -0.08483189381381537,
          -0.279974697734806,
          -0.30387390311593737,
          -0.2729217700854462,
          -0.3011690611366123,
          -0.3028515810425999,
          -0.30401449318415374,
          -0.1588217928650062,
          -0.3038739032699352,
          -0.27991983918485863,
          -0.3263924752859506,
          -0.27292177022729475,
          -0.27196086386866414,
          -0.27292177008836904,
          -0.28874768851050775,
          -0.3035862399647434,
          -0.15968407855625108,
          -0.20675687695925962,
          -0.3496509350725306,
          -0.28266249662722415,
          -0.2890217857448304,
          -0.15989863524474096,
          0.25857142504153047,
          0.3961911954968228,
          -0.266756691582976,
          -0.1523573911896233,
          -0.26556427794110093,
          -0.30934621179029625,
          -0.30394725468824796,
          -0.27995557312410857,
          -0.31373461493066457,
          -0.26904059870901187,
          -0.1340507926023212,
          1.5989419667383655,
          -0.3139748256920153,
          -0.19507075447936073,
          -0.3039469469793208,
          -0.2655423562048156,
          -0.21588978887266788,
          0.002231466421470835,
          -0.2886051156081385,
          -0.2889322547595238,
          -0.30618603191029586,
          -0.2231080392964358,
          -0.30618603210438633,
          -0.13475715050404077,
          -0.3109148622548335,
          -0.2965618584702937,
          -0.26230287817341436,
          -0.2621107324881589,
          -0.22335033493916226,
          -0.07982364369151314,
          -0.2898852058472107,
          -0.2794994902396863,
          -0.2724411857433089,
          -0.2725830778046783,
          -0.25537030397726335,
          -0.31854581228873086,
          -0.2233503351280066,
          -0.22264612170017425,
          -0.16200460014456078,
          -0.2222108955720799,
          -0.30401449317617285,
          -0.27922660568170005,
          -0.2523689094632126,
          -0.26200961405755124,
          -0.1598997691605669,
          -0.2694679694801337,
          -0.22304078221588167,
          -0.1598997691606722,
          0.11841711547465417,
          -0.3204238215034549,
          -0.279906610446846,
          -0.2790362473662925,
          -0.2799746525246785,
          -0.2471151962134452,
          -0.2955664527740216,
          -0.3058562657918592,
          -0.3061860341277136,
          -0.1466996349693527,
          -0.27282351148858297
         ],
         "y": [
          -1.4648668425315263,
          -2.1303178355138592,
          -1.0475074737878505,
          -2.222858046944604,
          -2.1303249428157227,
          -2.018263455251328,
          -1.767100657042011,
          -1.0474357297422587,
          -0.8614489479138152,
          -1.46484438492158,
          -1.047443793633036,
          -1.464844384556583,
          -1.754926935366704,
          -1.0474238935061984,
          -1.4650576024105046,
          -1.0475900285947173,
          -1.047437719983085,
          -0.6910220818880536,
          -1.152870933210431,
          -1.0474703982123483,
          -0.8614349803372545,
          -1.0474285035498518,
          -1.0474375482581308,
          -1.0474343963966148,
          -0.8614412402291075,
          -1.7727671815374892,
          -1.0474285038564495,
          -1.4883626370687246,
          -1.0631362953740535,
          -1.047454698734733,
          -1.0474285029805053,
          -1.047702686853537,
          -1.0474529276329512,
          -1.0474273032338468,
          -1.4648443849095445,
          -1.0474299352766576,
          -1.603235907513035,
          -1.0485360544324762,
          -1.0475107729819393,
          -1.0474806898958184,
          -1.7528120384453538,
          -1.1609190948108918,
          -1.4648708038699203,
          -1.0476182231419175,
          -1.047452714228333,
          -1.0474298873057963,
          -1.0474285028964214,
          -1.047476297388925,
          -2.268379159198257,
          -1.0474357748407988,
          -1.4648443843404668,
          -1.0503923571745335,
          -1.4648628453638906,
          -1.0478477988680335,
          -1.0474285037369127,
          -1.0474298868358503,
          -1.047458835873374,
          -1.0474605652128224,
          -2.2321306308702256,
          -1.0474285036288544,
          -1.4655500807567101,
          -1.464898924068914,
          -1.4648731162093371,
          -1.4648443849092732,
          -1.4648472378785982,
          -1.464844636625266,
          -0.8614364930183298,
          -1.0474575053353683,
          -0.8614349805893903,
          -1.4328837671964247,
          -1.0475783354499144,
          -1.4648934859324199,
          -2.538351946655881,
          -2.3164207552739278,
          -1.0475139318787723,
          -1.4648443849287838,
          -1.0479484057207866,
          -1.047600773859975,
          -1.0474287317444508,
          -1.0476192554202273,
          -1.048421324098444,
          -2.1433768285264976,
          -2.2063247253940736,
          -1.7528936080928188,
          -1.2078996102737105,
          -1.0474412065404488,
          -1.0532038785978095,
          -1.4648443849407902,
          -2.19696340318754,
          -1.047428502872447,
          -0.8614349801931771,
          -1.0474292799099099,
          -1.4648599969399783,
          -1.0474275097923595,
          -0.8614349801931771,
          -0.861475345006046,
          -2.223732070479289,
          -1.4648628585000025,
          -0.8614548533830518,
          -1.047469296763176,
          -1.047523225149047,
          -2.1301960841678302,
          -2.288363198228049,
          -0.8614548582754756,
          -1.4648706887792855,
          -1.0474283057742115,
          -1.0476915738739192,
          -2.152946070559891,
          -1.0475159883887093,
          -2.3077688114609125,
          -1.4920783589802749,
          -1.464844384760693,
          -0.8614349535748298,
          -2.2321305714381925,
          -0.8614914904682517,
          -1.0474282517450901,
          -2.2194298140184294,
          -1.0474292991730467,
          -2.122859338438681,
          -2.176144651728119,
          -1.464844384436518,
          -1.047436735064152,
          -0.861452085116911,
          -1.4648443849117205,
          -1.047429276114186,
          -0.8614367064420366,
          -1.3719035039431915,
          -2.307778610929207,
          -1.4648522066462177,
          -1.7540647508003726,
          -1.0475748765649935,
          -1.4648557930328185,
          -1.04744243283461,
          -1.0474285028304242,
          -2.2321306313504845,
          -2.2117037705598386,
          -1.4648443609278474,
          -0.6906969292647626,
          -2.1302157647126636,
          -1.4648443837401428,
          -2.0182612385443846,
          -1.0476742914390407,
          -2.018254206302896,
          -0.8624672210231696,
          -0.8615118511645089,
          -2.3077700367781837,
          -1.0474296238182477,
          -2.307780533252072,
          -2.223717205558278,
          -0.8614349793810593,
          -0.8621064714866976,
          -1.0474285036408613,
          -2.222850237953065,
          -1.5103942473273961,
          -1.0474324064061475,
          -0.8614730333467562,
          -2.0182628772885143,
          -1.04755357913968,
          -2.2237380878856956,
          -2.130182931198751,
          -0.8614349780680317,
          -2.2121693166026497,
          -1.0475087506625123,
          -0.502594633300226,
          -1.0474285036288544,
          -1.0474539038563369,
          -1.047428503868984,
          -1.4664951318199513,
          -1.047445632051806,
          -2.2229229805913024,
          -2.2005468667540065,
          -2.247067012607826,
          -2.316995212481967,
          -2.3100355546734033,
          -0.8614789989054229,
          -1.047451219579071,
          -1.0474349767879456,
          -0.8614676038226867,
          -0.8614382661206336,
          -2.3077865518965295,
          -2.1359466911465894,
          -1.2516895048093786,
          -1.5132015596825827,
          -0.8615883958305107,
          -1.4648669282363425,
          -1.0474284917544543,
          -1.0474289856533592,
          -1.226576714208923,
          -1.047428491874519,
          -1.0474406601490882,
          -1.047450367642635,
          -1.0474694000976006,
          -1.0474707402578092,
          -2.30778001832229,
          -2.0247826040330867,
          -0.864820897247085,
          -1.6029797247878566,
          -2.0182757561523403,
          -2.2194652457789688,
          -1.0475537627808031,
          -0.8616544738946029,
          -1.6029824922091707,
          -1.047428500279049,
          -2.130198913534568,
          -1.0474285026191104,
          -1.6029818121972224,
          -1.7534155075556201,
          -2.331922635128965,
          -2.3077744488004757,
          -2.1308353514064104,
          -0.8615355882073242,
          -1.4648443846886543,
          -2.223389252374591,
          -1.0523945028471249,
          -1.2561888711780531,
          -0.8614402781817502,
          -1.6029843367086771,
          -1.6033500650597934,
          -1.0474854809228014,
          -0.8614456010571704,
          -1.464869647176397,
          -1.2141199743054043,
          -0.29323698744714966,
          -2.374326472156308,
          -1.4828397506429094,
          -2.307936588367467,
          -2.018254206302896,
          -0.8292860850913649,
          -1.0599556464014077,
          -2.2195571192516743,
          -1.433626148373789,
          -1.047444094957021,
          -1.0655815571557923,
          -1.0474282517450901,
          -1.6029745059168543,
          -2.018254206302896,
          -0.8616996726862661,
          -2.1304930492402185,
          -0.8614349803252483,
          -2.3078690792640484,
          -1.602974505094411,
          -1.0474336024904916,
          -2.217505734942936,
          -2.018254205545336,
          -2.018343594594305,
          -2.0182542062872875,
          -2.2117285363945225,
          -0.8614748179142313,
          -2.3077888762075855,
          -0.502608346152266,
          -2.223721241074656,
          -2.255848358385755,
          -2.2117030417524184,
          -2.3077689100833276,
          -2.2940665980838886,
          -2.359497332049642,
          -2.3546739833104366,
          -2.3084704340555238,
          -1.3220796181432715,
          -2.1628633923453844,
          -0.8614412352379187,
          -1.0474302783066067,
          -2.222855995334372,
          -2.2085654587404098,
          -0.7814978096325845,
          -2.418753186469416,
          -1.432819659436265,
          -1.4674750848700784,
          -0.8614412638155344,
          -1.3220816565064624,
          -2.023559550694641,
          -0.6906969304257885,
          -2.2892510252840665,
          -2.211711369558207,
          -2.130182936496392,
          -1.4648669243842094,
          -2.1301829354598283,
          -2.3101076233359517,
          -1.4828337147092032,
          -2.201989445297586,
          -1.8259957665997466,
          -1.8260136420083317,
          -1.4648443846886574,
          -0.18132311078686864,
          -2.244055112838411,
          -1.0474727045319423,
          -2.018298910093136,
          -2.018285713236124,
          -1.2079078275904755,
          -2.1890274436933135,
          -1.4648443836801108,
          -1.4649098940346779,
          -0.25660476839262464,
          -1.464950379975887,
          -0.8614349803678709,
          -1.0474969338763878,
          -1.6077657416142466,
          -1.8260229663264569,
          -2.3077688114614743,
          -1.048405882305582,
          -1.4648731807661868,
          -2.3077688114609125,
          -1.0844885438138154,
          -1.1529006847293277,
          -1.0474348332904313,
          -1.047515797242951,
          -1.047428493195231,
          -1.752816214155541,
          -2.1493568180976754,
          -2.1302136130570477,
          -2.130182924654004,
          -2.308996745454605,
          -2.0182633468670184
         ],
         "z": [
          0.08735957962877422,
          0.2377826953479847,
          -0.039603415855869795,
          0.3332653686329262,
          0.2377805409628911,
          0.13868600143251722,
          0.21926635136750477,
          -0.039581688864861984,
          -0.005731605784697779,
          0.08736638069580265,
          -0.03958413129013665,
          0.08736638050683976,
          0.2229531272218395,
          -0.0395818873706148,
          0.08730181002694086,
          -0.039628417702692355,
          -0.03958229235114231,
          0.1287625398284852,
          0.06017695468940542,
          -0.03959218784377303,
          -0.005727375969778999,
          -0.03957950060965111,
          -0.039582239569090814,
          -0.03958128500811609,
          -0.005729271633832602,
          0.21755039198753587,
          -0.03957950045092205,
          0.08024410185471999,
          -0.04433645043174492,
          -0.039587433276850104,
          -0.039579500904408295,
          -0.03966253468379042,
          -0.039586897039479874,
          -0.039580122026501866,
          0.08736638068957167,
          -0.039579934020874716,
          0.1724738482930108,
          -0.039914915835546086,
          -0.03960441481845746,
          -0.03959530472886719,
          0.22359360431383257,
          -0.0739489401018441,
          0.08735838000998754,
          -0.0396369560569029,
          -0.03958683229557753,
          -0.039579919396384534,
          -0.03957950094793943,
          -0.03959397424062008,
          0.4892792784510698,
          -0.0395817024137587,
          0.08736638039495377,
          -0.04047719690790379,
          0.08736079009779303,
          -0.0397064795664791,
          -0.039579500512807765,
          -0.0395799194476584,
          -0.03958868838959072,
          -0.039589210129830514,
          0.35011163542972656,
          -0.03957950056875072,
          0.08715266490301891,
          0.08734986406642742,
          0.08735767955345322,
          0.08736638068943135,
          0.08736551595763328,
          0.08736630448525085,
          -0.005727833850652315,
          -0.03958828322415822,
          -0.005727375839245446,
          0.12036675379739917,
          -0.03962487679985053,
          0.08735151092629669,
          0.16959653722363316,
          0.23680605308811958,
          -0.0396053717785098,
          0.08736638069953206,
          -0.039736959740401034,
          -0.03963167088574531,
          -0.039579569468383806,
          -0.03963726762489768,
          -0.03988016771119137,
          0.1491892336712361,
          0.34445876385631286,
          0.2235689028536745,
          -0.006868272855234569,
          -0.03958334723922181,
          -0.04132856542390544,
          0.08736638070574797,
          0.10278073794402674,
          -0.03957950096035135,
          -0.005727376044369687,
          -0.03957973545046692,
          0.08736165269081116,
          -0.039580105764382104,
          -0.005727376044369687,
          -0.005739599788738468,
          0.28372460087001067,
          0.08736078579701637,
          -0.005733394157759845,
          -0.03959185588678648,
          -0.039608187502555306,
          0.237819565346916,
          0.3428817296149055,
          -0.005733395590081681,
          0.0873584148630785,
          -0.039579603000284076,
          -0.03965916843680788,
          0.19239976202824788,
          -0.03960599434681243,
          0.23942623416370276,
          0.07911885735052504,
          0.08736638061250966,
          -0.005727389824981896,
          0.3501116046611063,
          -0.00574448964873565,
          -0.039579630971756846,
          0.24032644360914532,
          -0.03957974293641919,
          0.16015539967948336,
          0.33045587124368336,
          0.08736638044468088,
          -0.03958199329833482,
          -0.005732555878462226,
          0.08736638069069799,
          -0.039579734300971364,
          -0.005727898728409131,
          -0.1775703916737575,
          0.2394232666574051,
          0.08736401194958246,
          0.22321423190986212,
          -0.03962382869538137,
          0.08736292586918919,
          -0.03958371886229191,
          -0.03957950098210679,
          0.35011163567836173,
          0.30447743882166917,
          0.08736636827398232,
          0.12886100753793805,
          0.23781360536271332,
          0.08736638008415981,
          0.1386866727216201,
          -0.039654031217247004,
          0.1386888023071719,
          -0.006039975876912722,
          -0.005750656931390354,
          0.23942586307365274,
          -0.039579839617446495,
          0.23942268436935224,
          0.2837291029887393,
          -0.005727376464811898,
          -0.0059317097426397365,
          -0.0395795005625348,
          0.3332677316204156,
          0.12273091451039267,
          -0.039580682279595346,
          -0.005738909271769154,
          0.138686176497378,
          -0.03961737817496678,
          0.2837227790499325,
          0.23782354416770946,
          -0.005727377144580813,
          0.3058241905591773,
          -0.039603841113717814,
          -0.07150706467320601,
          -0.03957950056875072,
          -0.0395871927055368,
          -0.03957950044443302,
          0.08686645761427646,
          -0.039584688100408286,
          0.33324570363272094,
          0.1497742521190269,
          0.3553875198127354,
          0.3532623987271323,
          0.23873977297118548,
          -0.005740706965322495,
          -0.03958637966129563,
          -0.039581461378435746,
          -0.00573725577912319,
          -0.005728370988413322,
          0.23942086144739583,
          0.3537673956822817,
          -0.10143817426362951,
          0.12188072324831165,
          -0.005773845672501624,
          0.08735955367464132,
          -0.03957950671625885,
          -0.03957974977829615,
          -0.0938312551609935,
          -0.03957950665409996,
          -0.03958318193842696,
          -0.03958612230558915,
          -0.03959188609365958,
          -0.03959229193663629,
          0.23942283967698458,
          0.13671158992897356,
          -0.006752756425377709,
          0.17255143158402134,
          0.13868227632991398,
          0.24031571250498338,
          -0.039617433787317725,
          -0.00579384881524462,
          0.17255059334382375,
          -0.039579502302982,
          0.23781870593306276,
          -0.039579501091506375,
          0.17255079940303336,
          0.22341084865680566,
          0.23211085377616406,
          0.2394245270572402,
          0.2376258766190641,
          -0.0057578484323929265,
          0.08736638057521452,
          0.33310449294980166,
          -0.04108341154094742,
          -0.04903039308617206,
          -0.00572898031314179,
          0.17255003500737076,
          0.1724392761548644,
          -0.039596755522414914,
          -0.005730592280009811,
          0.08735873030165466,
          0.10577273440273108,
          0.11646297444092468,
          0.21926061386401138,
          0.15087704206307537,
          0.23937542287160501,
          0.1386888023071719,
          0.09596686005358278,
          -0.043373214656825185,
          0.24028789086099436,
          0.1201419272437496,
          -0.03958422230414353,
          -0.04507700152449946,
          -0.039579630971756846,
          0.17255301197919712,
          0.1386888023071719,
          -0.005807537919339323,
          0.237729571042831,
          -0.005727375975994865,
          0.23939586022565795,
          0.17255301155340913,
          -0.03958104466562107,
          0.1969513206905582,
          0.13868880191497457,
          0.13866173221736375,
          0.13868880229909128,
          0.304469936197459,
          -0.005739440828707288,
          0.23942015792308283,
          -0.07151121709083838,
          0.28372788074611954,
          0.4248297993518288,
          0.30447765963503476,
          0.23942619856834588,
          0.3884474765472785,
          0.22375938646391208,
          0.1133565905645791,
          0.23921375093978375,
          0.18532930204323406,
          -0.0074528165541804785,
          -0.005729270151897969,
          -0.03958003800829671,
          0.33326597268481994,
          0.1691581409028624,
          0.08235146621824078,
          0.3506866107757957,
          0.12038616676203032,
          0.08656970071984044,
          -0.005729278845512856,
          0.1853286839945738,
          0.13708210124894113,
          0.128861008139014,
          0.2884173521117034,
          0.3044751369874516,
          0.23782354691035673,
          0.08735955484118932,
          0.23782354637371605,
          0.23871788839745653,
          0.15087887003850545,
          0.33739654052571616,
          0.20253860283197853,
          0.20253319037891804,
          0.08736638057521591,
          0.01732373077097119,
          0.39539364111342346,
          -0.039592886978121605,
          0.1386752622007959,
          0.13867926091204127,
          -0.006870762304313883,
          0.28584722320716544,
          0.08736638005308035,
          0.0873465418458278,
          -0.08478929995840981,
          0.0873342803953698,
          -0.005727375953928495,
          -0.039601189672973006,
          0.17110203489408787,
          0.20253029796572167,
          0.23942623416399342,
          -0.039875491447011566,
          0.0873576600035937,
          0.23942623416370276,
          -0.050802947435499166,
          0.060167944779864466,
          -0.03958141723321372,
          -0.0396059374272987,
          -0.039579505970352806,
          0.22359234016266424,
          0.18478456759289516,
          0.23781425696913427,
          0.2378235407794215,
          0.23905436322808965,
          0.13868603425472031
         ]
        },
        {
         "customdata": [
          [
           "SHA-256 + Hive"
          ],
          [
           "ECC 256K1"
          ],
          [
           "SHA3-256"
          ],
          [
           "Leased POS"
          ]
         ],
         "hovertemplate": "<b>%{hovertext}</b><br><br>class=%{marker.color}<br>PC 1=%{x}<br>PC 2=%{y}<br>PC 3=%{z}<br>Algorithm=%{customdata[0]}<extra></extra>",
         "hovertext": [
          "LitecoinCash",
          "Acute Angle Cloud",
          "Fiii",
          "Waves"
         ],
         "legendgroup": "2",
         "marker": {
          "color": [
           2,
           2,
           2,
           2
          ],
          "coloraxis": "coloraxis",
          "symbol": "square"
         },
         "mode": "markers",
         "name": "2",
         "scene": "scene",
         "showlegend": true,
         "type": "scatter3d",
         "x": [
          0.6294211594552089,
          0.4709196240772226,
          -1.327933682224958,
          0.09348068591852829
         ],
         "y": [
          2.121359717762269,
          2.29782332577981,
          3.606563977792029,
          2.505032013211342
         ],
         "z": [
          10.189692060630938,
          25.701742730264446,
          14.647766116316081,
          16.38391201762844
         ]
        },
        {
         "customdata": [
          [
           "TRC10"
          ]
         ],
         "hovertemplate": "<b>%{hovertext}</b><br><br>class=%{marker.color}<br>PC 1=%{x}<br>PC 2=%{y}<br>PC 3=%{z}<br>Algorithm=%{customdata[0]}<extra></extra>",
         "hovertext": [
          "BitTorrent"
         ],
         "legendgroup": "3",
         "marker": {
          "color": [
           3
          ],
          "coloraxis": "coloraxis",
          "symbol": "x"
         },
         "mode": "markers",
         "name": "3",
         "scene": "scene",
         "showlegend": true,
         "type": "scatter3d",
         "x": [
          31.69197083655914
         ],
         "y": [
          -2.1766456899027733
         ],
         "z": [
          -0.4290959650513617
         ]
        }
       ],
       "layout": {
        "coloraxis": {
         "colorbar": {
          "title": {
           "text": "class"
          }
         },
         "colorscale": [
          [
           0,
           "#0d0887"
          ],
          [
           0.1111111111111111,
           "#46039f"
          ],
          [
           0.2222222222222222,
           "#7201a8"
          ],
          [
           0.3333333333333333,
           "#9c179e"
          ],
          [
           0.4444444444444444,
           "#bd3786"
          ],
          [
           0.5555555555555556,
           "#d8576b"
          ],
          [
           0.6666666666666666,
           "#ed7953"
          ],
          [
           0.7777777777777778,
           "#fb9f3a"
          ],
          [
           0.8888888888888888,
           "#fdca26"
          ],
          [
           1,
           "#f0f921"
          ]
         ]
        },
        "legend": {
         "title": {
          "text": "class"
         },
         "tracegroupgap": 0,
         "x": 0,
         "y": 1
        },
        "margin": {
         "t": 60
        },
        "scene": {
         "domain": {
          "x": [
           0,
           1
          ],
          "y": [
           0,
           1
          ]
         },
         "xaxis": {
          "title": {
           "text": "PC 1"
          }
         },
         "yaxis": {
          "title": {
           "text": "PC 2"
          }
         },
         "zaxis": {
          "title": {
           "text": "PC 3"
          }
         }
        },
        "template": {
         "data": {
          "bar": [
           {
            "error_x": {
             "color": "#2a3f5f"
            },
            "error_y": {
             "color": "#2a3f5f"
            },
            "marker": {
             "line": {
              "color": "#E5ECF6",
              "width": 0.5
             },
             "pattern": {
              "fillmode": "overlay",
              "size": 10,
              "solidity": 0.2
             }
            },
            "type": "bar"
           }
          ],
          "barpolar": [
           {
            "marker": {
             "line": {
              "color": "#E5ECF6",
              "width": 0.5
             },
             "pattern": {
              "fillmode": "overlay",
              "size": 10,
              "solidity": 0.2
             }
            },
            "type": "barpolar"
           }
          ],
          "carpet": [
           {
            "aaxis": {
             "endlinecolor": "#2a3f5f",
             "gridcolor": "white",
             "linecolor": "white",
             "minorgridcolor": "white",
             "startlinecolor": "#2a3f5f"
            },
            "baxis": {
             "endlinecolor": "#2a3f5f",
             "gridcolor": "white",
             "linecolor": "white",
             "minorgridcolor": "white",
             "startlinecolor": "#2a3f5f"
            },
            "type": "carpet"
           }
          ],
          "choropleth": [
           {
            "colorbar": {
             "outlinewidth": 0,
             "ticks": ""
            },
            "type": "choropleth"
           }
          ],
          "contour": [
           {
            "colorbar": {
             "outlinewidth": 0,
             "ticks": ""
            },
            "colorscale": [
             [
              0,
              "#0d0887"
             ],
             [
              0.1111111111111111,
              "#46039f"
             ],
             [
              0.2222222222222222,
              "#7201a8"
             ],
             [
              0.3333333333333333,
              "#9c179e"
             ],
             [
              0.4444444444444444,
              "#bd3786"
             ],
             [
              0.5555555555555556,
              "#d8576b"
             ],
             [
              0.6666666666666666,
              "#ed7953"
             ],
             [
              0.7777777777777778,
              "#fb9f3a"
             ],
             [
              0.8888888888888888,
              "#fdca26"
             ],
             [
              1,
              "#f0f921"
             ]
            ],
            "type": "contour"
           }
          ],
          "contourcarpet": [
           {
            "colorbar": {
             "outlinewidth": 0,
             "ticks": ""
            },
            "type": "contourcarpet"
           }
          ],
          "heatmap": [
           {
            "colorbar": {
             "outlinewidth": 0,
             "ticks": ""
            },
            "colorscale": [
             [
              0,
              "#0d0887"
             ],
             [
              0.1111111111111111,
              "#46039f"
             ],
             [
              0.2222222222222222,
              "#7201a8"
             ],
             [
              0.3333333333333333,
              "#9c179e"
             ],
             [
              0.4444444444444444,
              "#bd3786"
             ],
             [
              0.5555555555555556,
              "#d8576b"
             ],
             [
              0.6666666666666666,
              "#ed7953"
             ],
             [
              0.7777777777777778,
              "#fb9f3a"
             ],
             [
              0.8888888888888888,
              "#fdca26"
             ],
             [
              1,
              "#f0f921"
             ]
            ],
            "type": "heatmap"
           }
          ],
          "heatmapgl": [
           {
            "colorbar": {
             "outlinewidth": 0,
             "ticks": ""
            },
            "colorscale": [
             [
              0,
              "#0d0887"
             ],
             [
              0.1111111111111111,
              "#46039f"
             ],
             [
              0.2222222222222222,
              "#7201a8"
             ],
             [
              0.3333333333333333,
              "#9c179e"
             ],
             [
              0.4444444444444444,
              "#bd3786"
             ],
             [
              0.5555555555555556,
              "#d8576b"
             ],
             [
              0.6666666666666666,
              "#ed7953"
             ],
             [
              0.7777777777777778,
              "#fb9f3a"
             ],
             [
              0.8888888888888888,
              "#fdca26"
             ],
             [
              1,
              "#f0f921"
             ]
            ],
            "type": "heatmapgl"
           }
          ],
          "histogram": [
           {
            "marker": {
             "pattern": {
              "fillmode": "overlay",
              "size": 10,
              "solidity": 0.2
             }
            },
            "type": "histogram"
           }
          ],
          "histogram2d": [
           {
            "colorbar": {
             "outlinewidth": 0,
             "ticks": ""
            },
            "colorscale": [
             [
              0,
              "#0d0887"
             ],
             [
              0.1111111111111111,
              "#46039f"
             ],
             [
              0.2222222222222222,
              "#7201a8"
             ],
             [
              0.3333333333333333,
              "#9c179e"
             ],
             [
              0.4444444444444444,
              "#bd3786"
             ],
             [
              0.5555555555555556,
              "#d8576b"
             ],
             [
              0.6666666666666666,
              "#ed7953"
             ],
             [
              0.7777777777777778,
              "#fb9f3a"
             ],
             [
              0.8888888888888888,
              "#fdca26"
             ],
             [
              1,
              "#f0f921"
             ]
            ],
            "type": "histogram2d"
           }
          ],
          "histogram2dcontour": [
           {
            "colorbar": {
             "outlinewidth": 0,
             "ticks": ""
            },
            "colorscale": [
             [
              0,
              "#0d0887"
             ],
             [
              0.1111111111111111,
              "#46039f"
             ],
             [
              0.2222222222222222,
              "#7201a8"
             ],
             [
              0.3333333333333333,
              "#9c179e"
             ],
             [
              0.4444444444444444,
              "#bd3786"
             ],
             [
              0.5555555555555556,
              "#d8576b"
             ],
             [
              0.6666666666666666,
              "#ed7953"
             ],
             [
              0.7777777777777778,
              "#fb9f3a"
             ],
             [
              0.8888888888888888,
              "#fdca26"
             ],
             [
              1,
              "#f0f921"
             ]
            ],
            "type": "histogram2dcontour"
           }
          ],
          "mesh3d": [
           {
            "colorbar": {
             "outlinewidth": 0,
             "ticks": ""
            },
            "type": "mesh3d"
           }
          ],
          "parcoords": [
           {
            "line": {
             "colorbar": {
              "outlinewidth": 0,
              "ticks": ""
             }
            },
            "type": "parcoords"
           }
          ],
          "pie": [
           {
            "automargin": true,
            "type": "pie"
           }
          ],
          "scatter": [
           {
            "marker": {
             "colorbar": {
              "outlinewidth": 0,
              "ticks": ""
             }
            },
            "type": "scatter"
           }
          ],
          "scatter3d": [
           {
            "line": {
             "colorbar": {
              "outlinewidth": 0,
              "ticks": ""
             }
            },
            "marker": {
             "colorbar": {
              "outlinewidth": 0,
              "ticks": ""
             }
            },
            "type": "scatter3d"
           }
          ],
          "scattercarpet": [
           {
            "marker": {
             "colorbar": {
              "outlinewidth": 0,
              "ticks": ""
             }
            },
            "type": "scattercarpet"
           }
          ],
          "scattergeo": [
           {
            "marker": {
             "colorbar": {
              "outlinewidth": 0,
              "ticks": ""
             }
            },
            "type": "scattergeo"
           }
          ],
          "scattergl": [
           {
            "marker": {
             "colorbar": {
              "outlinewidth": 0,
              "ticks": ""
             }
            },
            "type": "scattergl"
           }
          ],
          "scattermapbox": [
           {
            "marker": {
             "colorbar": {
              "outlinewidth": 0,
              "ticks": ""
             }
            },
            "type": "scattermapbox"
           }
          ],
          "scatterpolar": [
           {
            "marker": {
             "colorbar": {
              "outlinewidth": 0,
              "ticks": ""
             }
            },
            "type": "scatterpolar"
           }
          ],
          "scatterpolargl": [
           {
            "marker": {
             "colorbar": {
              "outlinewidth": 0,
              "ticks": ""
             }
            },
            "type": "scatterpolargl"
           }
          ],
          "scatterternary": [
           {
            "marker": {
             "colorbar": {
              "outlinewidth": 0,
              "ticks": ""
             }
            },
            "type": "scatterternary"
           }
          ],
          "surface": [
           {
            "colorbar": {
             "outlinewidth": 0,
             "ticks": ""
            },
            "colorscale": [
             [
              0,
              "#0d0887"
             ],
             [
              0.1111111111111111,
              "#46039f"
             ],
             [
              0.2222222222222222,
              "#7201a8"
             ],
             [
              0.3333333333333333,
              "#9c179e"
             ],
             [
              0.4444444444444444,
              "#bd3786"
             ],
             [
              0.5555555555555556,
              "#d8576b"
             ],
             [
              0.6666666666666666,
              "#ed7953"
             ],
             [
              0.7777777777777778,
              "#fb9f3a"
             ],
             [
              0.8888888888888888,
              "#fdca26"
             ],
             [
              1,
              "#f0f921"
             ]
            ],
            "type": "surface"
           }
          ],
          "table": [
           {
            "cells": {
             "fill": {
              "color": "#EBF0F8"
             },
             "line": {
              "color": "white"
             }
            },
            "header": {
             "fill": {
              "color": "#C8D4E3"
             },
             "line": {
              "color": "white"
             }
            },
            "type": "table"
           }
          ]
         },
         "layout": {
          "annotationdefaults": {
           "arrowcolor": "#2a3f5f",
           "arrowhead": 0,
           "arrowwidth": 1
          },
          "autotypenumbers": "strict",
          "coloraxis": {
           "colorbar": {
            "outlinewidth": 0,
            "ticks": ""
           }
          },
          "colorscale": {
           "diverging": [
            [
             0,
             "#8e0152"
            ],
            [
             0.1,
             "#c51b7d"
            ],
            [
             0.2,
             "#de77ae"
            ],
            [
             0.3,
             "#f1b6da"
            ],
            [
             0.4,
             "#fde0ef"
            ],
            [
             0.5,
             "#f7f7f7"
            ],
            [
             0.6,
             "#e6f5d0"
            ],
            [
             0.7,
             "#b8e186"
            ],
            [
             0.8,
             "#7fbc41"
            ],
            [
             0.9,
             "#4d9221"
            ],
            [
             1,
             "#276419"
            ]
           ],
           "sequential": [
            [
             0,
             "#0d0887"
            ],
            [
             0.1111111111111111,
             "#46039f"
            ],
            [
             0.2222222222222222,
             "#7201a8"
            ],
            [
             0.3333333333333333,
             "#9c179e"
            ],
            [
             0.4444444444444444,
             "#bd3786"
            ],
            [
             0.5555555555555556,
             "#d8576b"
            ],
            [
             0.6666666666666666,
             "#ed7953"
            ],
            [
             0.7777777777777778,
             "#fb9f3a"
            ],
            [
             0.8888888888888888,
             "#fdca26"
            ],
            [
             1,
             "#f0f921"
            ]
           ],
           "sequentialminus": [
            [
             0,
             "#0d0887"
            ],
            [
             0.1111111111111111,
             "#46039f"
            ],
            [
             0.2222222222222222,
             "#7201a8"
            ],
            [
             0.3333333333333333,
             "#9c179e"
            ],
            [
             0.4444444444444444,
             "#bd3786"
            ],
            [
             0.5555555555555556,
             "#d8576b"
            ],
            [
             0.6666666666666666,
             "#ed7953"
            ],
            [
             0.7777777777777778,
             "#fb9f3a"
            ],
            [
             0.8888888888888888,
             "#fdca26"
            ],
            [
             1,
             "#f0f921"
            ]
           ]
          },
          "colorway": [
           "#636efa",
           "#EF553B",
           "#00cc96",
           "#ab63fa",
           "#FFA15A",
           "#19d3f3",
           "#FF6692",
           "#B6E880",
           "#FF97FF",
           "#FECB52"
          ],
          "font": {
           "color": "#2a3f5f"
          },
          "geo": {
           "bgcolor": "white",
           "lakecolor": "white",
           "landcolor": "#E5ECF6",
           "showlakes": true,
           "showland": true,
           "subunitcolor": "white"
          },
          "hoverlabel": {
           "align": "left"
          },
          "hovermode": "closest",
          "mapbox": {
           "style": "light"
          },
          "paper_bgcolor": "white",
          "plot_bgcolor": "#E5ECF6",
          "polar": {
           "angularaxis": {
            "gridcolor": "white",
            "linecolor": "white",
            "ticks": ""
           },
           "bgcolor": "#E5ECF6",
           "radialaxis": {
            "gridcolor": "white",
            "linecolor": "white",
            "ticks": ""
           }
          },
          "scene": {
           "xaxis": {
            "backgroundcolor": "#E5ECF6",
            "gridcolor": "white",
            "gridwidth": 2,
            "linecolor": "white",
            "showbackground": true,
            "ticks": "",
            "zerolinecolor": "white"
           },
           "yaxis": {
            "backgroundcolor": "#E5ECF6",
            "gridcolor": "white",
            "gridwidth": 2,
            "linecolor": "white",
            "showbackground": true,
            "ticks": "",
            "zerolinecolor": "white"
           },
           "zaxis": {
            "backgroundcolor": "#E5ECF6",
            "gridcolor": "white",
            "gridwidth": 2,
            "linecolor": "white",
            "showbackground": true,
            "ticks": "",
            "zerolinecolor": "white"
           }
          },
          "shapedefaults": {
           "line": {
            "color": "#2a3f5f"
           }
          },
          "ternary": {
           "aaxis": {
            "gridcolor": "white",
            "linecolor": "white",
            "ticks": ""
           },
           "baxis": {
            "gridcolor": "white",
            "linecolor": "white",
            "ticks": ""
           },
           "bgcolor": "#E5ECF6",
           "caxis": {
            "gridcolor": "white",
            "linecolor": "white",
            "ticks": ""
           }
          },
          "title": {
           "x": 0.05
          },
          "xaxis": {
           "automargin": true,
           "gridcolor": "white",
           "linecolor": "white",
           "ticks": "",
           "title": {
            "standoff": 15
           },
           "zerolinecolor": "white",
           "zerolinewidth": 2
          },
          "yaxis": {
           "automargin": true,
           "gridcolor": "white",
           "linecolor": "white",
           "ticks": "",
           "title": {
            "standoff": 15
           },
           "zerolinecolor": "white",
           "zerolinewidth": 2
          }
         }
        },
        "width": 800
       }
      }
     },
     "metadata": {},
     "output_type": "display_data"
    }
   ],
   "source": [
    "# Creating a 3D-Scatter with the PCA data and the clusters\n",
    "fig = px.scatter_3d(clustered_df,\n",
    "    x=\"PC 1\",\n",
    "    y=\"PC 2\",\n",
    "    z=\"PC 3\",\n",
    "    color=\"class\",\n",
    "    symbol=\"class\",\n",
    "    width=800,\n",
    "    hover_name=\"CoinName\", \n",
    "    hover_data=[\"Algorithm\"],\n",
    ")\n",
    "fig.update_layout(legend=dict(x=0, y=1))\n",
    "fig.show()\n"
   ]
  },
  {
   "cell_type": "code",
   "execution_count": 116,
   "metadata": {},
   "outputs": [
    {
     "data": {},
     "metadata": {},
     "output_type": "display_data"
    },
    {
     "data": {
      "application/vnd.holoviews_exec.v0+json": "",
      "text/html": [
       "<div id='2888'>\n",
       "\n",
       "\n",
       "\n",
       "\n",
       "\n",
       "  <div class=\"bk-root\" id=\"019b47b7-b0e3-4be1-8750-6fcdb782eeec\" data-root-id=\"2888\"></div>\n",
       "</div>\n",
       "<script type=\"application/javascript\">(function(root) {\n",
       "  function embed_document(root) {\n",
       "    var docs_json = {\"4bd79b36-d9bd-4bd1-9cdc-4116b53cf70c\":{\"defs\":[{\"extends\":null,\"module\":null,\"name\":\"ReactiveHTML1\",\"overrides\":[],\"properties\":[]},{\"extends\":null,\"module\":null,\"name\":\"FlexBox1\",\"overrides\":[],\"properties\":[{\"default\":\"flex-start\",\"kind\":null,\"name\":\"align_content\"},{\"default\":\"flex-start\",\"kind\":null,\"name\":\"align_items\"},{\"default\":\"row\",\"kind\":null,\"name\":\"flex_direction\"},{\"default\":\"wrap\",\"kind\":null,\"name\":\"flex_wrap\"},{\"default\":\"flex-start\",\"kind\":null,\"name\":\"justify_content\"}]},{\"extends\":null,\"module\":null,\"name\":\"GridStack1\",\"overrides\":[],\"properties\":[{\"default\":\"warn\",\"kind\":null,\"name\":\"mode\"},{\"default\":null,\"kind\":null,\"name\":\"ncols\"},{\"default\":null,\"kind\":null,\"name\":\"nrows\"},{\"default\":true,\"kind\":null,\"name\":\"allow_resize\"},{\"default\":true,\"kind\":null,\"name\":\"allow_drag\"},{\"default\":[],\"kind\":null,\"name\":\"state\"}]},{\"extends\":null,\"module\":null,\"name\":\"click1\",\"overrides\":[],\"properties\":[{\"default\":\"\",\"kind\":null,\"name\":\"terminal_output\"},{\"default\":\"\",\"kind\":null,\"name\":\"debug_name\"},{\"default\":0,\"kind\":null,\"name\":\"clears\"}]},{\"extends\":null,\"module\":null,\"name\":\"TemplateActions1\",\"overrides\":[],\"properties\":[{\"default\":0,\"kind\":null,\"name\":\"open_modal\"},{\"default\":0,\"kind\":null,\"name\":\"close_modal\"}]},{\"extends\":null,\"module\":null,\"name\":\"MaterialTemplateActions1\",\"overrides\":[],\"properties\":[{\"default\":0,\"kind\":null,\"name\":\"open_modal\"},{\"default\":0,\"kind\":null,\"name\":\"close_modal\"}]}],\"roots\":{\"references\":[{\"attributes\":{},\"id\":\"2923\",\"type\":\"NumberEditor\"},{\"attributes\":{},\"id\":\"2898\",\"type\":\"StringEditor\"},{\"attributes\":{},\"id\":\"2940\",\"type\":\"UnionRenderers\"},{\"attributes\":{\"data\":{\"Algorithm\":[\"Scrypt\",\"Scrypt\",\"SHA-256\",\"X13\",\"SHA-256\",\"Ethash\",\"Scrypt\",\"X11\",\"CryptoNight-V7\",\"Ethash\",\"Equihash\",\"SHA-512\",\"Multiple\",\"SHA-256\",\"X11\",\"SHA-256\",\"Scrypt\",\"X15\",\"X11\",\"SHA-256\",\"X13\",\"X13\",\"Scrypt\",\"Scrypt\",\"Scrypt\",\"SHA-256\",\"Scrypt\",\"Multiple\",\"Scrypt\",\"SHA-256\",\"Scrypt\",\"Scrypt\",\"Scrypt\",\"Quark\",\"Groestl\",\"Scrypt\",\"X11\",\"Scrypt\",\"Scrypt\",\"Scrypt\",\"Scrypt\",\"Scrypt\",\"Scrypt\",\"Multiple\",\"Scrypt\",\"X11\",\"Scrypt\",\"SHA-256\",\"Groestl\",\"Multiple\",\"X11\",\"Scrypt\",\"SHA-256\",\"Scrypt\",\"Scrypt\",\"Scrypt\",\"Scrypt\",\"Scrypt\",\"PoS\",\"Scrypt\",\"X11\",\"NIST5\",\"SHA-256\",\"Scrypt\",\"Scrypt\",\"NeoScrypt\",\"Scrypt\",\"Scrypt\",\"Scrypt\",\"X11\",\"X15\",\"Scrypt\",\"Multiple\",\"X11\",\"Scrypt\",\"X11\",\"SHA-256\",\"X11\",\"X13\",\"Scrypt\",\"Scrypt\",\"Scrypt\",\"Scrypt\",\"X11\",\"SHA3\",\"Scrypt\",\"HybridScryptHash256\",\"Scrypt\",\"Scrypt\",\"SHA-256\",\"Scrypt\",\"X13\",\"SHA-256\",\"Scrypt\",\"SHA-256\",\"Scrypt\",\"X13\",\"NeoScrypt\",\"Scrypt\",\"Scrypt\",\"Scrypt\",\"Scrypt\",\"Scrypt\",\"Scrypt\",\"X15\",\"Scrypt\",\"Scrypt\",\"Scrypt-n\",\"Scrypt\",\"X11\",\"X11\",\"SHA-256\",\"Multiple\",\"SHA-256\",\"PHI1612\",\"X11\",\"SHA-256\",\"SHA-256\",\"SHA-256\",\"SHA-256\",\"X11\",\"Scrypt\",\"Scrypt\",\"X13\",\"Scrypt\",\"X11\",\"Scrypt\",\"Lyra2REv2\",\"Scrypt\",\"Scrypt\",\"X11\",\"Multiple\",\"SHA-256\",\"X13\",\"Scrypt\",\"Scrypt\",\"CryptoNight\",\"CryptoNight\",\"Shabal256\",\"Counterparty\",\"Scrypt\",\"SHA-256\",\"SHA-256\",\"Scrypt\",\"Groestl\",\"Scrypt\",\"Scrypt\",\"Scrypt\",\"X13\",\"Scrypt\",\"Scrypt\",\"Scrypt\",\"SHA-256\",\"Scrypt\",\"X13\",\"X13\",\"Scrypt\",\"X11\",\"Momentum\",\"Stanford Folding\",\"X11\",\"Multiple\",\"QuBit\",\"X15\",\"Scrypt\",\"Scrypt\",\"Scrypt\",\"Scrypt\",\"SHA-256\",\"M7 POW\",\"Scrypt\",\"X11\",\"Scrypt\",\"SHA-256\",\"Scrypt\",\"Scrypt\",\"X11\",\"X11\",\"SHA3\",\"X11\",\"Scrypt\",\"Lyra2RE\",\"SHA-256\",\"QUAIT\",\"X11\",\"vDPOS\",\"X11\",\"X11\",\"Scrypt\",\"Scrypt\",\"Scrypt\",\"Ethash\",\"X11\",\"X13\",\"Blake2b\",\"SHA-256\",\"X13\",\"X15\",\"X11\",\"SHA-256\",\"BLAKE256\",\"Scrypt\",\"Scrypt\",\"1GB AES Pattern Search\",\"SHA-256\",\"X11\",\"Scrypt\",\"CryptoNight\",\"SHA-256\",\"Quark\",\"SHA-256\",\"NIST5\",\"Blake\",\"Scrypt\",\"Scrypt\",\"SHA-256\",\"X11\",\"Scrypt\",\"Scrypt-n\",\"X11\",\"Scrypt\",\"Dagger\",\"Scrypt\",\"SHA-256\",\"CryptoNight-Lite\",\"X11GOST\",\"X11\",\"SHA-256\",\"Scrypt\",\"SHA-256\",\"Scrypt\",\"PoS\",\"Scrypt\",\"X11\",\"X11\",\"X11\",\"X11\",\"PoS\",\"SHA-256\",\"SHA-256\",\"SHA-256\",\"NIST5\",\"X15\",\"X11\",\"NIST5\",\"Scrypt\",\"Scrypt\",\"Scrypt\",\"POS 3.0\",\"Scrypt\",\"Scrypt\",\"Scrypt\",\"X13\",\"X11\",\"X11\",\"Equihash\",\"X11\",\"X11\",\"Scrypt\",\"CryptoNight\",\"SHA-256\",\"SHA-256\",\"X11\",\"Scrypt\",\"Multiple\",\"Scrypt\",\"Scrypt\",\"X11\",\"Scrypt\",\"SHA-256\",\"Scrypt\",\"Scrypt\",\"SHA-256D\",\"PoS\",\"Scrypt\",\"Scrypt\",\"X11\",\"Scrypt-n\",\"Lyra2Z\",\"SHA-256\",\"PoS\",\"X13\",\"Quark\",\"X14\",\"PoS\",\"SHA-256D\",\"Ethash\",\"SHA-256\",\"Equihash\",\"DPoS\",\"X11\",\"Scrypt\",\"Scrypt\",\"Equihash\",\"X11\",\"X13\",\"X11\",\"PoS\",\"SHA-256D\",\"Scrypt\",\"Scrypt\",\"Scrypt\",\"X11\",\"PoS\",\"X11\",\"SHA-256\",\"Scrypt\",\"X11\",\"Scrypt\",\"Scrypt\",\"X11\",\"CryptoNight\",\"Scrypt\",\"Scrypt\",\"Scrypt\",\"Scrypt\",\"Quark\",\"QuBit\",\"Scrypt\",\"CryptoNight\",\"X11\",\"Lyra2RE\",\"X13\",\"PoS\",\"Scrypt\",\"SHA-256\",\"X11\",\"X11\",\"X11\",\"Scrypt\",\"X11\",\"Scrypt\",\"Scrypt\",\"CryptoNight-V7\",\"Scrypt\",\"Scrypt\",\"Keccak\",\"Scrypt\",\"X13\",\"X11\",\"Equihash\",\"Scrypt\",\"Scrypt\",\"Lyra2RE\",\"Ethash\",\"X11\",\"Scrypt\",\"Dagger-Hashimoto\",\"X11\",\"Blake2S\",\"X11\",\"Scrypt\",\"Scrypt\",\"PoS\",\"X11\",\"NIST5\",\"PoS\",\"X11\",\"Scrypt\",\"Scrypt\",\"Scrypt\",\"Scrypt\",\"SHA-256\",\"X11\",\"Scrypt\",\"Scrypt\",\"Scrypt\",\"SHA-256\",\"PoS\",\"Scrypt\",\"X11\",\"X15\",\"SHA-256\",\"Scrypt\",\"POS 3.0\",\"CryptoNight-V7\",\"536\",\"Argon2d\",\"Blake2b\",\"Cloverhash\",\"CryptoNight\",\"NIST5\",\"X11\",\"NIST5\",\"Skein\",\"Scrypt\",\"X13\",\"Scrypt\",\"X11\",\"X11\",\"X11\",\"Scrypt\",\"CryptoNight\",\"X13\",\"Time Travel\",\"Scrypt\",\"Keccak\",\"SkunkHash v2 Raptor\",\"X11\",\"Skein\",\"SHA-256\",\"X11\",\"Scrypt\",\"Scrypt\",\"VeChainThor Authority\",\"Scrypt\",\"PoS\",\"Scrypt\",\"Scrypt\",\"Scrypt\",\"Scrypt\",\"Scrypt\",\"Scrypt\",\"Scrypt\",\"Scrypt\",\"CryptoNight\",\"SHA-512\",\"Ouroboros\",\"X11\",\"Equihash\",\"NeoScrypt\",\"X11\",\"Scrypt\",\"NeoScrypt\",\"Lyra2REv2\",\"Equihash\",\"Scrypt\",\"SHA-256\",\"NIST5\",\"PHI1612\",\"Dagger\",\"Scrypt\",\"Quark\",\"Scrypt\",\"POS 2.0\",\"Scrypt\",\"SkunkHash\",\"X11\",\"Quark\",\"SHA-256\",\"X11\",\"NeoScrypt\",\"Scrypt\",\"Ethash\",\"Scrypt\",\"NeoScrypt\",\"Quark\",\"X11\",\"DPoS\",\"NIST5\",\"X13\",\"Multiple\",\"Scrypt\",\"CryptoNight\",\"CryptoNight\",\"Ethash\",\"NIST5\",\"Quark\",\"X11\",\"SHA-256\",\"CryptoNight-V7\",\"Scrypt\",\"Scrypt\",\"Scrypt\",\"X11\",\"SHA-256\",\"BLAKE256\",\"X11\",\"Scrypt\",\"NeoScrypt\",\"Quark\",\"NeoScrypt\",\"Scrypt\",\"Scrypt\",\"Scrypt\",\"X11\",\"X11\",\"SHA-256\",\"C11\",\"Scrypt\",\"Scrypt\",\"POS 3.0\",\"Ethash\",\"Scrypt\",\"CryptoNight\",\"SkunkHash\",\"Scrypt\",\"CryptoNight\",\"Equihash\",\"Skein\",\"Scrypt\",\"Dagger\",\"Lyra2REv2\",\"X13\",\"Proof-of-BibleHash\",\"SHA-256 + Hive\",\"Scrypt\",\"Scrypt\",\"Scrypt\",\"NeoScrypt\",\"Equihash\",\"X11\",\"C11\",\"Proof-of-Authority\",\"X11\",\"XEVAN\",\"Scrypt\",\"VBFT\",\"Ethash\",\"X11\",\"CryptoNight\",\"NeoScrypt\",\"Scrypt\",\"IMesh\",\"NIST5\",\"Equihash\",\"Scrypt\",\"Scrypt\",\"Equihash\",\"Equihash\",\"Scrypt\",\"Lyra2Z\",\"Equihash\",\"Green Protocol\",\"PoS\",\"Scrypt\",\"Scrypt\",\"Semux BFT consensus\",\"Scrypt\",\"X11\",\"Quark\",\"PoS\",\"CryptoNight\",\"X16R\",\"Scrypt\",\"NIST5\",\"Lyra2RE\",\"XEVAN\",\"Tribus\",\"Scrypt\",\"Lyra2Z\",\"CryptoNight\",\"CryptoNight Heavy\",\"CryptoNight\",\"Scrypt\",\"Scrypt\",\"Jump Consistent Hash\",\"SHA-256D\",\"CryptoNight\",\"Scrypt\",\"X15\",\"Scrypt\",\"Quark\",\"SHA-256\",\"DPoS\",\"X16R\",\"HMQ1725\",\"X11\",\"X16R\",\"Quark\",\"Quark\",\"Scrypt\",\"Zhash\",\"Lyra2REv2\",\"Quark\",\"Scrypt\",\"Scrypt\",\"CryptoNight-V7\",\"Cryptonight-GPU\",\"Scrypt\",\"XEVAN\",\"CryptoNight Heavy\",\"X11\",\"X11\",\"Scrypt\",\"PoS\",\"Lyra2REv2\",\"Scrypt\",\"SHA-256\",\"Scrypt\",\"Keccak\",\"X11\",\"X11\",\"Quark\",\"Scrypt\",\"SHA-512\",\"X16R\",\"ECC 256K1\",\"NeoScrypt\",\"Equihash\",\"XEVAN\",\"Quark\",\"CryptoNight Heavy X\",\"Lyra2Z\",\"Ethash\",\"SHA-256\",\"XEVAN\",\"Ethash\",\"X11\",\"CryptoNight\",\"Quark\",\"SkunkHash\",\"Quark\",\"Argon2\",\"Blake\",\"Blake\",\"SHA-256\",\"Equihash\",\"Exosis\",\"Scrypt\",\"Scrypt\",\"Equihash\",\"Quark\",\"Equihash\",\"Quark\",\"Scrypt\",\"QuBit\",\"X11\",\"Scrypt\",\"Equihash1927\",\"XEVAN\",\"SHA-256D\",\"X11\",\"SHA-256\",\"SHA-256\",\"X13\",\"SHA-256\",\"X11\",\"DPoS\",\"X11\",\"Scrypt\",\"X11\",\"Scrypt\",\"X11\",\"NeoScrypt\",\"QuBit\",\"Scrypt\",\"Blake\",\"Scrypt\",\"SHA-256\",\"Scrypt\",\"X11\",\"CryptoNight\",\"Scrypt\",\"Scrypt\",\"SHA-256\",\"X11\",\"SHA-256\",\"Scrypt\",\"CryptoNight\",\"Scrypt\",\"SHA-256\",\"Scrypt\",\"Groestl\",\"X11\",\"Scrypt\",\"PoS\",\"Scrypt\",\"Scrypt\",\"X11\",\"SHA-256\",\"DPoS\",\"Scrypt\",\"Scrypt\",\"Scrypt\",\"NeoScrypt\",\"Scrypt\",\"SHA3-256\",\"Multiple\",\"X13\",\"Equihash+Scrypt\",\"DPoS\",\"Ethash\",\"DPoS\",\"Ethash\",\"SHA-256\",\"Leased POS\",\"PoS\",\"TRC10\",\"PoS\",\"SHA-256\",\"Scrypt\",\"CryptoNight\",\"Equihash\",\"Scrypt\"],\"CoinName\":[\"42 Coin\",\"404Coin\",\"808\",\"EliteCoin\",\"Bitcoin\",\"Ethereum\",\"Litecoin\",\"Dash\",\"Monero\",\"Ethereum Classic\",\"ZCash\",\"Bitshares\",\"DigiByte\",\"BitcoinDark\",\"Bitstake\",\"PayCoin\",\"ProsperCoin\",\"KoboCoin\",\"Spreadcoin\",\"ACoin\",\"Aero Coin\",\"ApexCoin\",\"ArchCoin\",\"Argentum\",\"Aurora Coin\",\"BetaCoin\",\"BlueCoin\",\"MyriadCoin\",\"MoonCoin\",\"ZetaCoin\",\"SexCoin\",\"Quatloo\",\"EnergyCoin\",\"QuarkCoin\",\"Riecoin\",\"Digitalcoin \",\"LimeCoinX\",\"BitBar\",\"BitMark\",\"CashCoin\",\"Catcoin\",\"CryptoBullion\",\"CannaCoin\",\"CinderCoin\",\"CoolCoin\",\"CryptCoin\",\"CasinoCoin\",\"eMark\",\"Diamond\",\"Verge\",\"DarkCash\",\"DarkShibe\",\"DevCoin\",\"EarthCoin\",\"E-Gulden\",\"Elacoin\",\"Einsteinium\",\"Emerald\",\"Exclusive Coin\",\"Flappy Coin\",\"Fuel2Coin\",\"FIBRE\",\"FireRoosterCoin\",\"FlutterCoin\",\"Franko\",\"FeatherCoin\",\"GrandCoin\",\"GlobalCoin\",\"GoldCoin\",\"GlyphCoin\",\"Halcyon\",\"HoboNickels\",\"HunterCoin\",\"HyperStake\",\"Infinite Coin\",\"IOCoin\",\"IXcoin\",\"JumBucks Coin\",\"JudgeCoin\",\"KrugerCoin\",\"LuckyCoin\",\"Litebar \",\"LitecoinDark\",\"LibrexCoin\",\"MaxCoin\",\"MegaCoin\",\"MediterraneanCoin\",\"MintCoin\",\"MinCoin\",\"MazaCoin\",\"Nautilus Coin\",\"NavCoin\",\"NoirBits\",\"NobleCoin\",\"Namecoin\",\"NyanCoin\",\"OpalCoin\",\"Orbitcoin\",\"PotCoin\",\"PhoenixCoin\",\"Reddcoin\",\"RipOffCoin\",\"RonPaulCoin\",\"StableCoin\",\"ShieldCoin\",\"SilkCoin\",\"SmartCoin\",\"SpainCoin\",\"SecureCoin\",\"SuperCoin\",\"SyncCoin\",\"SysCoin\",\"TeslaCoin\",\"TigerCoin\",\"TittieCoin\",\"TorCoin\",\"TerraCoin\",\"Umbrella\",\"UnbreakableCoin\",\"Unobtanium\",\"UroCoin\",\"UnitaryStatus Dollar\",\"UltraCoin\",\"Utility Coin\",\"ViaCoin\",\"VootCoin\",\"VeriCoin\",\"Vertcoin\",\"WorldCoin\",\"SocialXbotCoin\",\"X11 Coin\",\"Crypti\",\"JouleCoin\",\"StealthCoin\",\"XXXCoin\",\"ZCC Coin\",\"ByteCoin\",\"DigitalNote \",\"BurstCoin\",\"StorjCoin\",\"MonaCoin\",\"Neutron\",\"Sling Coin\",\"KryptCoin\",\"FairCoin\",\"Gulden\",\"RubyCoin\",\"PesetaCoin\",\"Kore\",\"Wild Beast Coin\",\"Dnotes\",\"Flo\",\"MaieutiCoin\",\"8BIT Coin\",\"Sativa Coin\",\"AeroMe\",\"ArtByte\",\"MasterTraderCoin\",\"BitCredit\",\"Folding Coin\",\"Ucoin\",\"Unitus\",\"CypherPunkCoin\",\"MaryJane Coin\",\"OmniCron\",\"CyberCoin\",\"Vtorrent\",\"GreenCoin\",\"Unattanium\",\"Cryptonite\",\"Gridmaster\",\"ConSpiracy Coin \",\"MasterCoin\",\"SoonCoin\",\"1Credit\",\"ViorCoin\",\"IslaCoin\",\"Quicksilver coin\",\"Nexus\",\"MarsCoin \",\"Singular\",\"Crypto\",\"Anarchists Prime\",\"Droidz\",\"BowsCoin\",\"CryptoCircuits\",\"Squall Coin\",\"Milllionaire Coin\",\"Song Coin\",\"BitZeny\",\"Diggits\",\"Expanse\",\"MapCoin\",\"Paycon\",\"Siacoin\",\"Emercoin\",\"BlitzCoin\",\"EverGreenCoin\",\"MindCoin\",\"I0coin\",\"Decred\",\"DogeCoinDark\",\"Revolution VR\",\"HOdlcoin\",\"EDRCoin\",\"Hitcoin\",\"Gamecredits\",\"Dashcoin\",\"DubaiCoin\",\"BiosCrypto\",\"CarpeDiemCoin\",\"PWR Coin\",\"TrumpCoin\",\"BillaryCoin\",\"EthereumScrypt\",\"Phalanx\",\"SunShotCoin\",\"GPU Coin\",\"HempCoin\",\"Adzcoin\",\"VirtaCoin\",\"SoilCoin\",\"YoCoin\",\"Universal Currency\",\"AEON\",\"SibCoin\",\"EuropeCoin\",\"Anti Bitcoin\",\"ZeitCoin\",\"SwingCoin\",\"SafeExchangeCoin\",\"Nebuchadnezzar\",\"Francs\",\"BolivarCoin\",\"GIZMOcoin\",\"SecretCoin\",\"Ratecoin\",\"Digital Bullion Gold\",\"Revenu\",\"Clinton\",\"Clockcoin\",\"VIP Tokens\",\"OrlyCoin\",\"BitSend\",\"16BitCoin\",\"ChessCoin\",\"ReeCoin\",\"Omni\",\"Let it Ride\",\"PutinCoin\",\"iBankCoin\",\"Frankywillcoin\",\"MudraCoin\",\"PizzaCoin\",\"Lutetium Coin\",\"Komodo\",\"GoldBlocks\",\"WayCoin\",\"CarterCoin\",\"Karbo\",\"BitTokens\",\"ZayedCoin\",\"MustangCoin\",\"ZoneCoin\",\"Circuits of Value\",\"RootCoin\",\"DopeCoin\",\"PROUD Money\",\"BitCurrency\",\"DollarCoin\",\"Swiscoin\",\"Shilling\",\"BuzzCoin\",\"Opair\",\"PesoBit\",\"GBR Coin\",\"Halloween Coin\",\"FujiCoin\",\"ZCoin\",\"LeaCoin\",\"CoffeeCoin\",\"RoyalCoin\",\"Zurcoin\",\"GanjaCoin V2\",\"TeamUP\",\"LanaCoin\",\"Elementrem\",\"CashOut\",\"ZClassic\",\"ARK\",\"InsaneCoin\",\"LuckChain\",\"KiloCoin\",\"Hush\",\"ArtexCoin\",\"EmberCoin\",\"XenixCoin\",\"FreeCoin\",\"NPCcoin\",\"PLNCoin\",\"Icobid\",\"AquariusCoin\",\"Kurrent\",\"Creatio\",\"Eternity\",\"Eurocoin\",\"BitcoinFast\",\"Stakenet\",\"BitConnect Coin\",\"MoneyCoin\",\"Enigma\",\"Cannabis Industry Coin\",\"Russiacoin\",\"PandaCoin\",\"GameUnits\",\"GAKHcoin\",\"Allsafe\",\"LiteCreed\",\"OsmiumCoin\",\"Bikercoins\",\"NeptuneClassic\",\"HexxCoin\",\"GoldenBird\",\"Ride My Car\",\"Klingon Empire Darsek\",\"Internet of People\",\"KushCoin\",\"Eryllium\",\"MarxCoin\",\"Printerium\",\"PacCoin\",\"Impeach\",\"Solarflarecoin\",\"Citadel\",\"Zilbercoin\",\"FirstCoin\",\"CreativeChain\",\"BeaverCoin\",\"FindCoin\",\"VaultCoin\",\"Zero\",\"OpenChat\",\"Canada eCoin\",\"Zoin\",\"Musicoin\",\"BnrtxCoin\",\"RenosCoin\",\"DubaiCoin\",\"VirtacoinPlus\",\"TajCoin\",\"Impact\",\"EB3coin\",\"Universe\",\"Atmos\",\"HappyCoin\",\"Coinonat\",\"MacronCoin\",\"Condensate\",\"Independent Money System\",\"ArgusCoin\",\"LomoCoin\",\"Bitcoin Scrypt\",\"ProCurrency\",\"GoldReserve\",\"BenjiRolls\",\"ParallelCoin\",\"GrowthCoin\",\"ILCoin\",\"Phreak\",\"Degas Coin\",\"ZSEcoin\",\"HTML5 Coin\",\"Ultimate Secure Cash\",\"EquiTrader\",\"QTUM\",\"Quantum Resistant Ledger\",\"Espers\",\"Dynamic\",\"Nano\",\"ChanCoin\",\"Dinastycoin\",\"Denarius\",\"DigitalPrice\",\"Virta Unique Coin\",\"Bitcoin Planet\",\"Unify\",\"BritCoin\",\"SocialCoin\",\"Octanox\",\"ArcticCoin\",\"DAS\",\"Linda\",\"LeviarCoin\",\"DeepOnion\",\"Bitcore\",\"gCn Coin\",\"SmartCash\",\"Signatum\",\"Onix\",\"Cream\",\"Bitcoin Cash\",\"Monoeci\",\"CampusCoin\",\"Draftcoin\",\"Vechain\",\"Sojourn Coin\",\"Stakecoin\",\"NewYorkCoin\",\"LiteBitcoin\",\"FrazCoin\",\"Kronecoin\",\"AdCoin\",\"Linx\",\"CoinonatX\",\"Ethereum Dark\",\"Sumokoin\",\"Obsidian\",\"Cardano\",\"Regalcoin\",\"BitcoinZ\",\"TrezarCoin\",\"Elements\",\"TerraNovaCoin\",\"VIVO Coin\",\"Rupee\",\"Bitcoin Gold\",\"WomenCoin\",\"Theresa May Coin\",\"NamoCoin\",\"LUXCoin\",\"Pirl\",\"Xios\",\"Bitcloud 2.0\",\"eBoost\",\"KekCoin\",\"BlackholeCoin\",\"AltCommunity Coin\",\"Pure\",\"Rupaya\",\"Infinity Economics\",\"Pura\",\"Innova\",\"Bitdeal\",\"Ellaism\",\"Sakuracoin\",\"GoByte\",\"Castle\",\"Magnet\",\"Lamden Tau\",\"Electra\",\"Bitcoin Diamond\",\"SHIELD\",\"Cash & Back Coin\",\"UltraNote\",\"BitCoal\",\"DaxxCoin\",\"Bulwark\",\"Kalkulus\",\"AC3\",\"CHIPS\",\"Lethean\",\"GermanCoin\",\"LiteCoin Ultra\",\"PopularCoin\",\"PhantomX\",\"HTML Coin\",\"Photon\",\"Sucre\",\"Fantasy Cash\",\"SparksPay\",\"Digiwage\",\"GunCoin\",\"IrishCoin\",\"Trollcoin\",\"Litecoin Plus\",\"Monkey Project\",\"Pioneer Coin\",\"UnitedBitcoin\",\"Interzone\",\"OP Coin\",\"Valorbit\",\"TokenPay\",\"1717 Masonic Commemorative Token\",\"My Big Coin\",\"TurtleCoin\",\"MUNcoin\",\"Unified Society USDEX\",\"Niobio Cash\",\"Bitcoin Private\",\"Skeincoin\",\"ShareChain\",\"Travelflex\",\"KREDS\",\"Tokyo Coin\",\"BiblePay\",\"LitecoinCash\",\"BitFlip\",\"LottoCoin\",\"LeafCoin\",\"Cerberus\",\"Bitcoin Hush\",\"Crypto Improvement Fund\",\"Stipend\",\"Poa Network\",\"Pushi\",\"Ellerium\",\"Velox\",\"Ontology\",\"Callisto Network\",\"Curium\",\"BitTube\",\"Dinero\",\"Poseidon\",\"Aidos Kuneen\",\"Bitspace\",\"Snowgem\",\"Briacoin\",\"Ignition\",\"Bitrolium\",\"Bitcoin Interest\",\"MedicCoin\",\"Alpenschillling\",\"Zelcash\",\"Bitcoin Green\",\"Deviant Coin\",\"Abjcoin\",\"Profit Hunters Coin\",\"Semux\",\"BitBlocks\",\"FuturoCoin\",\"Carebit\",\"Zealium\",\"Monero Classic\",\"Proton\",\"iDealCash\",\"Jumpcoin\",\"Infinex\",\"Bitcoin Incognito\",\"KEYCO\",\"HollyWoodCoin\",\"GINcoin\",\"PlatinCoin\",\"Loki\",\"Newton Coin\",\"Swisscoin\",\"Xt3ch\",\"MassGrid\",\"TheVig\",\"PluraCoin\",\"EmaratCoin\",\"Dekado\",\"Lynx\",\"Poseidon Quark\",\"BitcoinWSpectrum\",\"Muse\",\"Motion\",\"PlusOneCoin\",\"Axe\",\"Trivechain\",\"Dystem\",\"Giant\",\"Peony Coin\",\"SafeCoin\",\"Absolute Coin\",\"Vitae\",\"HexCoin\",\"TPCash\",\"Webchain\",\"Ryo\",\"MUSDcoin\",\"Urals Coin\",\"Qwertycoin\",\"ARENON\",\"EUNO\",\"MMOCoin\",\"Ketan\",\"NIX\",\"Safe Trade Coin\",\"Project Pai\",\"Mont Blanc\",\"XDNA\",\"PAXEX\",\"Azart\",\"Apollon\",\"ThunderStake\",\"Kcash\",\"Xchange\",\"Acute Angle Cloud\",\"Traid\",\"CrypticCoin\",\"Bettex coin\",\"ZestCoin\",\"X-CASH\",\"Actinium\",\"ETHER-1\",\"Bitcoin SV\",\"BitMoney\",\"Bitcoiin2Gen\",\"Junson Ming Chan Coin\",\"FREDEnergy\",\"Zenad\",\"C25 Coin\",\"HerbCoin\",\"Aquachain\",\"Universal Molecule\",\"Lithium\",\"Smart Bitcoin\",\"PirateCash\",\"Exosis\",\"Block-Logic\",\"Oduwa\",\"Beam\",\"Galilel\",\"Bithereum\",\"Crypto Sports\",\"Credit\",\"SLICE\",\"Dash Platinum\",\"Nasdacoin\",\"Vidulum\",\"Beetle Coin\",\"Titan Coin\",\"Award\",\"BlockStamp\",\"BLAST\",\"Bitcoin Rhodium\",\"GlobalToken\",\"Insane Coin\",\"ALAX\",\"The Freedom Coin\",\"LiteDoge\",\"Boolberry\",\"SolarCoin\",\"TruckCoin\",\"UFO Coin\",\"Ascension Coin\",\"OrangeCoin\",\"BlakeCoin\",\"BitstarCoin\",\"NeosCoin\",\"HyperCoin\",\"PinkCoin\",\"FantomCoin \",\"Crypto Escudo\",\"AudioCoin\",\"IncaKoin\",\"Piggy Coin\",\"Crown Coin\",\"Genstake\",\"Quazar Coin\",\"SmileyCoin\",\"ParkByte\",\"XiaoMiCoin\",\"Groestlcoin\",\"CapriCoin\",\" ClubCoin\",\"Radium\",\"Bata\",\"Pakcoin\",\"Creditbit \",\"OKCash\",\"Lisk\",\"HiCoin\",\"WhiteCoin\",\"Dotcoin\",\"FriendshipCoin\",\"The Hempcoin\",\"Fiii\",\"JoinCoin\",\"Triangles Coin\",\"Vollar\",\"EOS\",\"Reality Clash\",\"Oxycoin\",\"iOlite\",\"TigerCash\",\"Waves\",\"Particl\",\"BitTorrent\",\"Nxt\",\"ZEPHYR\",\"Gapcoin\",\"Beldex\",\"Horizen\",\"BitcoinPlus\"],\"PC_1\":{\"__ndarray__\":\"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\",\"dtype\":\"float64\",\"order\":\"little\",\"shape\":[685]},\"PC_2\":{\"__ndarray__\":\"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\",\"dtype\":\"float64\",\"order\":\"little\",\"shape\":[685]},\"PC_3\":{\"__ndarray__\":\"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\",\"dtype\":\"float64\",\"order\":\"little\",\"shape\":[685]},\"ProofType\":[\"PoW/PoS\",\"PoW/PoS\",\"PoW/PoS\",\"PoW/PoS\",\"PoW\",\"PoW\",\"PoW\",\"PoW/PoS\",\"PoW\",\"PoW\",\"PoW\",\"PoS\",\"PoW\",\"PoW/PoS\",\"PoW/PoS\",\"PoS\",\"PoW\",\"PoW/PoS\",\"PoW\",\"PoW\",\"PoS\",\"PoW/PoS\",\"PoS\",\"PoW\",\"PoW/PoS\",\"PoW\",\"PoW/PoS\",\"PoW\",\"PoW\",\"PoW\",\"PoW\",\"PoW\",\"PoW/PoS\",\"PoW\",\"PoW\",\"PoW\",\"PoW\",\"PoW/PoS\",\"PoW\",\"PoW/PoS\",\"PoW\",\"PoW/PoS\",\"PoW\",\"PoW/PoS\",\"PoS\",\"PoW\",\"PoC\",\"PoW/PoS\",\"PoW/PoS\",\"PoW\",\"PoW/PoS\",\"PoW\",\"PoW\",\"PoW\",\"PoW\",\"PoW\",\"PoW\",\"PoW\",\"PoS\",\"PoW\",\"PoS\",\"PoW/PoS\",\"PoW\",\"PoS/PoW/PoT\",\"PoW\",\"PoW\",\"PoW\",\"PoW\",\"PoW\",\"PoW/PoS\",\"PoW/PoS\",\"PoW/PoS\",\"PoW\",\"PoS\",\"PoW\",\"PoW/PoS\",\"PoW\",\"PoW/PoS\",\"PoW/PoS\",\"PoW\",\"PoW\",\"PoW\",\"PoW\",\"PoW/PoS\",\"PoW/PoS\",\"PoW\",\"PoW\",\"PoS\",\"PoW\",\"PoW/PoS\",\"PoS\",\"PoW/PoS\",\"PoW\",\"PoW\",\"PoW\",\"PoW\",\"PoW/PoS\",\"PoW/PoS\",\"PoW/PoS\",\"PoW/PoS\",\"PoW/PoS\",\"PoW\",\"PoW\",\"PoW\",\"PoW/PoS\",\"PoW/PoS\",\"PoW\",\"PoW\",\"PoW\",\"PoS\",\"PoW/PoS\",\"PoW\",\"PoS\",\"PoW\",\"PoS\",\"PoW/PoS\",\"PoW\",\"PoW\",\"PoW\",\"PoW\",\"PoW\",\"PoW/PoS\",\"PoW/PoS\",\"PoW/PoS\",\"PoW\",\"PoW\",\"PoST\",\"PoW\",\"PoW\",\"PoW/PoS\",\"PoW/PoS\",\"PoS\",\"PoW\",\"PoW/PoS\",\"PoW/PoS\",\"PoW/PoS\",\"PoW\",\"PoW\",\"PoC\",\"PoS\",\"PoW\",\"PoW/PoS\",\"PoW\",\"PoS\",\"PoW/PoS\",\"PoW\",\"PoS\",\"PoW\",\"PoW/PoS\",\"PoW\",\"PoS\",\"PoW\",\"PoS\",\"PoW/PoS\",\"PoW/PoS\",\"PoW/PoS\",\"PoW\",\"PoW/PoS\",\"PoW\",\"PoW\",\"PoS\",\"PoW\",\"PoW\",\"PoW/PoS\",\"PoW\",\"PoW/PoS\",\"PoW/PoS\",\"PoW\",\"PoW\",\"PoW\",\"PoW\",\"PoW\",\"PoW\",\"PoW\",\"PoW\",\"PoW/PoS\",\"PoW/PoS\",\"PoW\",\"PoW/nPoS\",\"PoW\",\"PoW/PoS\",\"PoW\",\"PoW\",\"PoW/PoS\",\"PoW\",\"PoS\",\"PoS/PoW\",\"PoW/PoS\",\"PoW\",\"PoW\",\"PoS\",\"PoW\",\"PoS\",\"PoW/PoS\",\"PoW\",\"PoW/PoS\",\"PoS\",\"PoW/PoS\",\"PoW\",\"PoW\",\"PoW/PoS\",\"PoW\",\"PoW\",\"PoW\",\"PoW/PoS\",\"PoW/PoS\",\"PoW\",\"PoW\",\"PoW/PoS\",\"PoW/PoS\",\"PoW\",\"PoW/PoS\",\"PoS\",\"PoW/PoS\",\"PoW/PoS\",\"PoW\",\"PoW\",\"PoS\",\"PoW\",\"PoW\",\"PoW\",\"PoW\",\"PoW\",\"PoW/PoS\",\"PoW\",\"PoW\",\"PoW/PoS\",\"PoW\",\"PoS\",\"PoW/PoS\",\"PoC\",\"PoS\",\"PoW\",\"PoW\",\"PoW/PoS\",\"PoW/PoS\",\"PoW/PoS\",\"PoS\",\"PoW/PoS\",\"PoW\",\"PoW/PoS\",\"PoW/PoS\",\"PoW/PoS\",\"PoW/PoS\",\"PoW/PoS\",\"PoW/PoS\",\"PoW/PoS\",\"PoW\",\"PoS\",\"PoW/PoS\",\"PoW/PoS\",\"PoW/PoS\",\"PoS\",\"PoW\",\"PoS\",\"dPoW/PoW\",\"PoW/PoS\",\"PoS\",\"PoW/PoS\",\"PoW\",\"PoW/PoS\",\"PoW\",\"PoW/PoS\",\"PoW/PoS\",\"PoW\",\"PoW/PoS\",\"PoW\",\"PoW/PoS\",\"PoS\",\"PoW\",\"PoW/PoW\",\"PoW\",\"PoW/PoS\",\"PoS\",\"PoW/PoS\",\"PoW\",\"PoW/PoS\",\"PoW\",\"PoW\",\"PoW\",\"PoS\",\"PoS\",\"PoW\",\"PoW/PoS\",\"PoS\",\"PoW/PoS\",\"PoW\",\"PoW\",\"PoW\",\"DPoS\",\"PoW/PoS\",\"PoW/PoS\",\"PoW\",\"PoW\",\"PoW\",\"PoW/PoS\",\"PoW/PoS\",\"PoS\",\"PoW/PoS\",\"PoW/PoS\",\"PoW/PoS\",\"PoW/PoS\",\"PoW\",\"PoS\",\"PoW/PoS\",\"PoW/PoS\",\"PoW/PoS\",\"TPoS\",\"PoW/PoS\",\"PoW/PoS\",\"PoW/PoS\",\"PoW\",\"PoW/PoS\",\"PoS\",\"PoW/PoS\",\"PoW/PoS\",\"PoS\",\"PoW/PoS\",\"PoW\",\"PoW\",\"PoW/PoS\",\"PoW\",\"PoW/PoS\",\"PoS\",\"PoW/PoS\",\"PoW/PoS\",\"PoW/PoS\",\"PoW/PoS\",\"PoW\",\"PoW/PoS\",\"PoW\",\"PoW/PoS\",\"PoW\",\"PoW\",\"PoS\",\"PoW/PoS \",\"PoW\",\"PoW\",\"PoS\",\"PoW\",\"PoW\",\"PoW/PoS\",\"PoW\",\"PoW\",\"PoW\",\"PoW\",\"PoS\",\"PoW\",\"PoW/PoS\",\"PoW/PoS\",\"PoW/PoS\",\"PoW\",\"PoS\",\"PoS\",\"PoW/PoS\",\"PoW\",\"PoS\",\"PoW/PoS\",\"PoW/PoS\",\"PoW/PoS\",\"PoW/PoS\",\"PoW\",\"PoS\",\"PoW/PoS\",\"PoW\",\"PoW\",\"PoS\",\"PoW\",\"PoS\",\"PoW/PoS\",\"PoW/PoS\",\"PoW/PoS\",\"PoS\",\"PoW\",\"PoS\",\"PoW\",\"PoW/PoS\",\"PoW\",\"PoW\",\"PoW\",\"PoW\",\"PoW/PoS\",\"PoW\",\"PoW/PoS\",\"PoW/PoS\",\"PoW\",\"PoW/PoS\",\"PoW\",\"PoW/PoS\",\"PoW\",\"PoW\",\"PoW/PoS\",\"PoW\",\"PoW/PoS\",\"PoW\",\"PoW\",\"PoW\",\"PoS\",\"PoW\",\"PoW/PoS\",\"PoW\",\"PoW/PoS\",\"PoW\",\"PoS\",\"Proof of Authority\",\"PoW\",\"PoS\",\"PoW\",\"PoW\",\"PoW\",\"PoW\",\"PoW\",\"PoW\",\"PoW/PoS\",\"PoW/PoS\",\"PoW\",\"PoS\",\"PoS\",\"PoW/PoS\",\"PoW\",\"PoW/PoS\",\"PoW\",\"PoW/PoS\",\"PoW\",\"PoS\",\"PoW\",\"PoW/PoS\",\"PoW/PoS\",\"PoW/PoS\",\"PoW/PoS\",\"PoW\",\"PoW/PoS\",\"PoW/PoS\",\"PoW\",\"PoS\",\"PoW/PoS\",\"PoW/PoS\",\"PoW/PoS\",\"PoS\",\"PoS\",\"PoW\",\"PoW\",\"PoW\",\"PoW\",\"PoW\",\"PoW\",\"DPoS\",\"PoW/PoS\",\"DPoS\",\"PoW/PoS\",\"PoW/PoS\",\"PoW\",\"PoW/PoS\",\"PoW\",\"PoW\",\"PoW\",\"PoS\",\"PoS\",\"PoW\",\"PoW\",\"PoW\",\"PoW/PoS\",\"PoW/PoS\",\"PoW\",\"PoW/PoS\",\"PoW/PoS\",\"PoW\",\"PoW\",\"PoW/PoS\",\"PoW\",\"PoS\",\"PoW\",\"PoW\",\"PoW/PoS\",\"PoW/PoS\",\"PoS\",\"PoW\",\"PoW\",\"PoW\",\"PoW/PoS\",\"PoW/PoS\",\"PoS\",\"PoS\",\"PoW and PoS\",\"PoW\",\"PoW\",\"PoW/PoS\",\"PoW\",\"PoW\",\"PoW\",\"PoW\",\"PoW\",\"PoW\",\"PoS\",\"POBh\",\"PoW + Hive\",\"PoW\",\"PoW\",\"PoW\",\"PoW\",\"PoW\",\"PoW\",\"PoW/PoS\",\"PoA\",\"PoW/PoS\",\"PoW/PoS\",\"PoS\",\"PoS\",\"PoW\",\"PoW\",\"PoW\",\"PoW\",\"PoW\",\"PoW\",\"PoW/PoS\",\"PoW\",\"PoW/PoS\",\"PoW/PoS\",\"PoW\",\"PoW\",\"PoS\",\"PoW\",\"PoW/PoS\",\"PoS\",\"PoS\",\"PoW/PoS\",\"PoW/PoS\",\"DPoS\",\"PoW/PoS\",\"PoW\",\"PoW/PoS\",\"PoS\",\"PoW\",\"PoS\",\"PoW/PoS\",\"PoW\",\"PoW\",\"PoS/PoW\",\"PoW\",\"PoS\",\"PoW\",\"PoW\",\"PoW\",\"PoW\",\"PoW/PoS\",\"PoS\",\"PoW\",\"PoW/PoS\",\"PoW\",\"PoW/PoS\",\"PoS\",\"HPoW\",\"PoS\",\"PoS\",\"PoS\",\"PoW\",\"PoW\",\"PoW\",\"PoW/PoS\",\"PoS\",\"PoW/PoS\",\"PoS\",\"PoW/PoS\",\"PoW/PoS\",\"PoS\",\"PoW\",\"PoW/PoS\",\"PoW\",\"PoW\",\"PoW/PoS\",\"PoW\",\"PoW\",\"PoS\",\"PoW/PoS\",\"PoS\",\"PoS\",\"PoW\",\"PoS\",\"PoW\",\"PoS\",\"PoW/PoS\",\"PoS\",\"PoW\",\"PoW/PoS\",\"PoW/PoS\",\"Zero-Knowledge Proof\",\"PoW\",\"DPOS\",\"PoW/PoS\",\"PoW\",\"PoS\",\"PoW\",\"PoW\",\"PoW\",\"PoW\",\"PoW\",\"Pos\",\"PoW\",\"PoS\",\"PoW\",\"POS / MN\",\"PoW\",\"PoW/PoS\",\"PoW\",\"PoW\",\"PoW\",\"PoW\",\"PoS\",\"PoW\",\"PoW\",\"PoW/PoS\",\"PoW\",\"PoW/PoS\",\"PoW\",\"PoS\",\"PoW/PoS\",\"PoW\",\"PoS\",\"PoW/PoS\",\"PoW\",\"PoW/PoS\",\"PoW/PoS\",\"PoW/PoS\",\"PoW\",\"PoW\",\"PoW\",\"PoW\",\"PoW/PoS\",\"DPoS\",\"PoS\",\"PoW/PoS\",\"PoW\",\"PoW\",\"PoW/PoS\",\"PoW\",\"PoW/PoS\",\"PoW/PoS\",\"PoW\",\"PoW/PoS\",\"PoS\",\"PoW/PoS\",\"PoW/PoS\",\"PoW\",\"PoW\",\"PoW/PoS\",\"PoW/PoS\",\"PoW/PoS\",\"PoW\",\"PoW/PoS\",\"PoW\",\"PoW\",\"PoW/PoS\",\"PoW/PoS\",\"PoW\",\"PoW/PoS\",\"PoW/PoS\",\"PoS\",\"PoW\",\"PoW\",\"Proof of Trust\",\"PoW/PoS\",\"DPoS\",\"PoS\",\"PoW/PoS\",\"PoW\",\"PoW/PoS\",\"PoW/PoS\",\"DPoC\",\"PoW\",\"PoW/PoS\",\"PoW\",\"DPoS\",\"PoW\",\"DPoS\",\"PoW\",\"PoS\",\"LPoS\",\"PoS\",\"DPoS\",\"PoS/LPoS\",\"DPoS\",\"PoW/PoS\",\"PoW\",\"PoW\",\"PoS\"],\"TotalCoinSupply\":[\"42\",\"532000000\",\"0\",\"314159265359\",\"21000000\",\"0\",\"84000000\",\"22000000\",\"0\",\"210000000\",\"21000000\",\"3600570502\",\"21000000000\",\"22000000\",\"1300000\",\"12500000\",\"21000000\",\"350000000\",\"20000000\",\"1600000\",\"7000000\",\"6000000\",\"16403135\",\"64000000\",\"16768584\",\"32000000\",\"0\",\"2000000000\",\"384000000000\",\"169795588\",\"250000000\",\"100000000\",\"0\",\"247000000\",\"84000000\",\"48166000\",\"21000000 \",\"500000\",\"27580000\",\"47433600\",\"21000000 \",\"1000000\",\"13140000\",\"114000000\",\"100000000\",\"18000000\",\"40000000000\",\"0\",\"4380000\",\"16555000000\",\"3720000\",\"2043962\",\"21000000000\",\"13500000000\",\"21000000 \",\"75000000\",\"299792458\",\"32000000\",\"0\",\"100000000000\",\"100000000\",\"624000\",\"2602410\",\"0\",\"11235813\",\"336000000\",\"1420609614\",\"70000000\",\"72245700\",\"7000000\",\"0\",\"120000000\",\"42000000\",\"0\",\"90600000000\",\"22000000\",\"21000000\",\"3293010\",\"21600000\",\"265420800\",\"20000000\",\"1350000\",\"82003200\",\"1000000\",\"100000000\",\"42000000\",\"200000000\",\"0\",\"10000000\",\"2419200000\",\"16180000\",\"0\",\"50000000\",\"15000000000\",\"21000000\",\"337000000\",\"0\",\"3770000\",\"420000000\",\"98000000\",\"0\",\"12000000\",\"21000000\",\"250000000\",\"1000000\",\"1000000\",\"51200000\",\"50000000\",\"21000000\",\"0\",\"1000\",\"888000000\",\"100000000\",\"47011968\",\"2300000000\",\"10000000\",\"42000000\",\"2625000\",\"80000000\",\"250000\",\"0\",\"1600000000\",\"100000000\",\"0\",\"23000000\",\"0\",\"0\",\"84000000\",\"265420800\",\"2000000\",\"5500000\",\"0\",\"45000000\",\"0\",\"50000000\",\"1000000000\",\"184467440735\",\"10000000000\",\"2158812800\",\"500000000\",\"105120000\",\"68000000\",\"1000000\",\"17000000\",\"0\",\"1680000000\",\"0\",\"166386000\",\"12000000\",\"2628000\",\"500000000\",\"160000000\",\"2014\",\"0\",\"10000000\",\"12000000\",\"1000000000\",\"10110000\",\"210000000\",\"1000000000\",\"20000000\",\"0\",\"0\",\"0\",\"3371337\",\"0\",\"20000000\",\"10000000000\",\"0\",\"1840000000\",\"84000000\",\"33000000\",\"619478\",\"21000000\",\"92000000000\",\"0\",\"0\",\"33000000\",\"78000000\",\"33000000\",\"0\",\"65789100\",\"53760000\",\"5060000\",\"21000000\",\"0\",\"0\",\"0\",\"210240000\",\"250000000\",\"100000000\",\"16906397\",\"2228921.184\",\"50000000\",\"0\",\"1000000000\",\"3852156\",\"26298000\",\"16000000\",\"21000000\",\"21000000\",\"16500000000\",\"210000000\",\"81962100\",\"22000000\",\"26550000000\",\"84000000\",\"18446744\",\"10500000\",\"20190463.54969237\",\"21626280000 \",\"0\",\"12000000\",\"42000000\",\"4200000\",\"15000000\",\"2250000000\",\"221052632\",\"5000000000\",\"84000000\",\"21000000000\",\"30000000\",\"168351300\",\"210000000\",\"18400000\",\"24000000\",\"384000000\",\"42000000\",\" 99000000000\",\"40000000\",\"2147483647\",\"20000000\",\"20000000\",\"25000000\",\"100000\",\"21000000\",\"75000000\",\"15000000\",\"222725000\",\"2421227\",\"525000000\",\"90000000\",\"36000000\",\"139000000\",\"16000000\",\"74666667\",\"350000000\",\"616448\",\"33500000\",\"2000000000\",\"44333333\",\"100000000\",\"200000000\",\"25000000\",\"657000000\",\"200000000\",\"50000000\",\"100000000\",\"90000000\",\"10000000\",\"21000000\",\"9736000\",\"3000000\",\"21000000\",\"1200000000\",\"0\",\"200000000\",\"10000000000\",\"0\",\"10638298\",\"3100000000\",\"30000000\",\"20000000000\",\"74000000\",\"0\",\"87500000\",\"1500000000\",\"10000000\",\"21400000\",\"2000000000\",\"39999898\",\"2500124\",\"126000000\",\"100000000\",\"301000000\",\"7506000000\",\"26205539\",\"100000000\",\"21000000\",\"125000000\",\"30000000\",\"1000000000\",\"10000000000\",\"21000000\",\"500000000\",\"850000000\",\"3853326.77707314\",\"50000000\",\"7000000000\",\"38540000 \",\"200000000 \",\"42000000\",\"228000000\",\"20000000\",\"60000000\",\"20000000\",\"33000000\",\"76500000\",\"28000000\",\"650659833\",\"5000000\",\"21000000\",\"144000000\",\"32514916898\",\"13000000\",\"3315789\",\"15000000\",\"78835200\",\"2714286\",\"25000000\",\"250000000\",\"9999999\",\"450000000\",\"100000000\",\"500000000\",\"21000000\",\"9354000\",\"100000000\",\"100640000\",\"20000000\",\"100000000000\",\"21933333\",\"20000000\",\"185000000\",\"55000000\",\"110000000\",\"115000000\",\"3360000\",\"14524851.4827\",\"1000000000\",\"17000000\",\"1000000000\",\"100000000 \",\"21000000\",\"454898394\",\"210000000\",\"34426423\",\"2232901\",\"100000000\",\"36900000\",\"110000000\",\"4000000000\",\"112000000\",\"110290030\",\"100000000\",\"48252000\",\"400000000\",\"500000000\",\"21212121\",\"28600000\",\"1000000000\",\"21000000\",\"75000000000\",\"40000000\",\"35520400\",\"1000000\",\"2000000000\",\"2500000000\",\"30000000\",\"105000000\",\"2093500000\",\"90000000000\",\"200084200\",\"72000000\",\"100000000\",\"105000000\",\"50000000000\",\"0\",\"340282367\",\"30000000\",\"2000000000\",\"10000000\",\"100000000\",\"120000000\",\"100000000\",\"19276800\",\"30000000\",\" 75000000\",\"7905634\",\"60000000\",\"18900000\",\"50000000000\",\"54000000\",\"18898187.6216583\",\"21000000\",\"200000000000\",\"5000000000\",\"137500000\",\"1100000000\",\"100000000\",\"21000000\",\"9507271\",\"1010000000\",\"17405891.19707116\",\"86712634466\",\"10500000000\",\"61599965\",\"0\",\"1000000000\",\"20000000\",\"84000000\",\"100000000\",\"100000000\",\"48252000\",\"4200000\",\"88888888\",\"91388946\",\"45000000000\",\"27000000\",\"21000000000\",\"400000000\",\"1800000000\",\"15733333\",\"27000000\",\"24000000\",\"21000000\",\"25000000000\",\"100000000\",\"1200000000\",\"60000000\",\"156306732.71\",\"21000000\",\"200000000\",\"100000000\",\"21000000\",\"14788275.991\",\"5000000\",\"3686860\",\"75000000\",\"9000000000\",\"350000000\",\"45000000\",\"300000000\",\"280000000\",\"105100000\",\"31800000\",\"50000000 \",\"144000000\",\"500000000\",\"30000000000\",\"210000000\",\"660000000\",\"210000000\",\"85000000000\",\"12500000\",\"10000000000\",\"27716121\",\"20000000\",\"550000000\",\"21000000\",\"999481516\",\"50000000000\",\"150000000\",\"4999999999\",\"50000000\",\"90000000000\",\" 90000000000\",\"19800000\",\"4600000\",\"21000000\",\"120000000\",\"500000000\",\"64000000\",\"900000000\",\"4000000\",\"21000000\",\"23000000\",\"20166000\",\"23000000\",\"2000000000\",\"92233720000000000\",\"25000000\",\"1618033\",\"30000000\",\"1000000000000\",\"16600000\",\"232000000\",\"336000000\",\"21000000\",\"17000000\",\"10000000000\",\"100000000\",\"1100000000\",\"800000000\",\"5200000000\",\"840000000\",\"40000000\",\"18406979840\",\"21000000000\",\"31500000\",\"21000000\",\"500000000\",\"19340594\",\"252460800\",\"25000000\",\"60000000\",\"124000000\",\"1000000000\",\"6500000000\",\"22000000\",\"1000000000\",\"100000000\",\"21000000\",\"25000000\",\"50000000\",\"84096000\",\"3000000\",\"5000000\",\"70000000\",\"22300000\",\"500000000\",\"300000000\",\"210000000\",\"21000000\",\"88000000\",\"30000000\",\"100000000\",\"100000000\",\"500000000\",\"100000000\",\"200000000\",\"80000000\",\"18400000\",\"45000000\",\"5121951220\",\"21000000\",\"26280000\",\"21000000\",\"18000000\",\"26000000\",\"10500000\",\"600000518\",\"150000000\",\"184000000000\",\"10200000000\",\"44000000\",\"168000000\",\"100000000\",\"1000000000\",\"84000000\",\"90000000\",\"92000000000\",\"650000000 \",\"100262205\",\"18081806 \",\"22075700\",\"21000000\",\"21000000\",\"82546564\",\"21000000\",\"5151000\",\"16880000000\",\"36000000\",\"52500000\",\"100000000\",\"22105263\",\"1000000000\",\"1750000000\",\"88188888\",\"100000000\",\"210000000\",\"184470000000\",\"55000000\",\"50000000\",\"260000000\",\"210000000\",\"175000000\",\"840000000\",\"2100000000\",\"70000000\",\"366000000\",\"100000000\",\"25000000\",\"250000000\",\"18000000000\",\"1000000000\",\"100000000\",\"1000000000\",\"252000000\",\"7600000000\",\"50000000\",\"29300000\",\"100000000000\",\"84000000\",\"13666237\",\"21000000\",\"70000000000\",\"100000000\",\"0\",\"8080000000\",\"46000000\",\"6100000\",\"54000000\",\"42000000\",\"105120001.44\",\"25228800\",\"20999764\",\"105000000\",\"21000000\",\"120000000\",\"21000000\",\"262800000\",\"19035999\",\"30886000\",\"13370000\",\"74800000000\",\"100000000\",\"19700000\",\"84000000\",\"100000000\",\"500000000\",\"5000000000\",\"420000000\",\"105000000\",\"64000000\",\"2100000\",\"168000000\",\"30000000\",\"1000000000\",\"25000000\",\"35000000000\",\"18450000\",\"98100000000\",\"0\",\"4000000000\",\"0\",\"200000000\",\"7000000000\",\"54256119\",\"21000000\",\"0\",\"500000000\",\"18400000\",\"1000000000\",\"10500000000\",\"190000000\",\"1000000000\",\"42000000\",\"15000000\",\"18446744\",\"50000000000\",\"25000000\",\"400000000\",\"105000000\",\"208000000\",\"160000000\",\"9000000\",\"5000000\",\"182000000\",\"16504333\",\"105000000\",\"159918400\",\"10008835635\",\"300000000\",\"890000000\",\"60168145\",\"300000000\",\"5000000000\",\"2800000\",\"120000\",\"2100000000\",\"0\",\"24487944\",\"0\",\"1000000000\",\"1000000000\",\"100000000\",\"8634140\",\"990000000000\",\"1000000000\",\"2000000000\",\"250000000\",\"1400222610\",\"21000000\",\"1000000\"],\"TotalCoinsMined\":{\"__ndarray__\":\"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\",\"dtype\":\"float64\",\"order\":\"little\",\"shape\":[685]},\"class\":{\"__ndarray__\":\"AAAAAAAAAAAAAAAAAAAAAAEAAAABAAAAAQAAAAAAAAABAAAAAQAAAAEAAAAAAAAAAQAAAAAAAAAAAAAAAAAAAAEAAAAAAAAAAQAAAAEAAAAAAAAAAAAAAAAAAAABAAAAAAAAAAEAAAAAAAAAAQAAAAEAAAABAAAAAQAAAAEAAAAAAAAAAQAAAAEAAAABAAAAAQAAAAAAAAABAAAAAAAAAAEAAAAAAAAAAQAAAAAAAAAAAAAAAQAAAAAAAAAAAAAAAAAAAAEAAAAAAAAAAQAAAAEAAAABAAAAAQAAAAEAAAABAAAAAQAAAAAAAAABAAAAAAAAAAAAAAABAAAAAAAAAAEAAAABAAAAAQAAAAEAAAABAAAAAAAAAAAAAAAAAAAAAQAAAAAAAAABAAAAAAAAAAEAAAAAAAAAAAAAAAEAAAABAAAAAQAAAAEAAAAAAAAAAAAAAAEAAAABAAAAAAAAAAEAAAAAAAAAAAAAAAAAAAABAAAAAQAAAAEAAAABAAAAAAAAAAAAAAAAAAAAAAAAAAAAAAABAAAAAQAAAAEAAAAAAAAAAAAAAAEAAAABAAAAAQAAAAAAAAAAAAAAAQAAAAAAAAABAAAAAAAAAAAAAAABAAAAAQAAAAEAAAABAAAAAQAAAAAAAAAAAAAAAAAAAAEAAAABAAAAAAAAAAEAAAABAAAAAAAAAAAAAAAAAAAAAQAAAAAAAAAAAAAAAAAAAAEAAAABAAAAAAAAAAAAAAABAAAAAAAAAAEAAAAAAAAAAAAAAAEAAAAAAAAAAQAAAAAAAAABAAAAAAAAAAEAAAAAAAAAAAAAAAAAAAAAAAAAAQAAAAAAAAABAAAAAQAAAAAAAAABAAAAAQAAAAAAAAABAAAAAAAAAAAAAAABAAAAAQAAAAEAAAABAAAAAQAAAAEAAAABAAAAAQAAAAAAAAAAAAAAAQAAAAAAAAABAAAAAAAAAAEAAAABAAAAAAAAAAEAAAAAAAAAAAAAAAAAAAABAAAAAQAAAAAAAAABAAAAAAAAAAAAAAABAAAAAAAAAAAAAAAAAAAAAQAAAAEAAAAAAAAAAQAAAAEAAAABAAAAAAAAAAAAAAABAAAAAQAAAAAAAAAAAAAAAQAAAAAAAAAAAAAAAAAAAAAAAAABAAAAAQAAAAAAAAABAAAAAQAAAAEAAAABAAAAAQAAAAAAAAABAAAAAQAAAAAAAAABAAAAAAAAAAAAAAAAAAAAAAAAAAEAAAABAAAAAAAAAAAAAAAAAAAAAAAAAAAAAAABAAAAAAAAAAAAAAAAAAAAAAAAAAAAAAAAAAAAAAAAAAEAAAAAAAAAAAAAAAAAAAAAAAAAAAAAAAEAAAAAAAAAAQAAAAAAAAAAAAAAAAAAAAEAAAAAAAAAAQAAAAAAAAAAAAAAAQAAAAAAAAABAAAAAAAAAAAAAAABAAAAAAAAAAEAAAAAAAAAAAAAAAAAAAABAAAAAAAAAAEAAAABAAAAAQAAAAAAAAAAAAAAAQAAAAAAAAAAAAAAAAAAAAEAAAABAAAAAQAAAAAAAAAAAAAAAAAAAAEAAAABAAAAAQAAAAAAAAAAAAAAAAAAAAAAAAAAAAAAAAAAAAAAAAABAAAAAAAAAAAAAAAAAAAAAAAAAAAAAAAAAAAAAAAAAAAAAAABAAAAAAAAAAAAAAAAAAAAAAAAAAAAAAAAAAAAAQAAAAEAAAAAAAAAAQAAAAAAAAAAAAAAAAAAAAAAAAAAAAAAAAAAAAEAAAAAAAAAAQAAAAAAAAABAAAAAQAAAAAAAAAAAAAAAQAAAAEAAAAAAAAAAQAAAAEAAAAAAAAAAQAAAAEAAAABAAAAAQAAAAAAAAABAAAAAAAAAAAAAAAAAAAAAQAAAAAAAAAAAAAAAAAAAAEAAAAAAAAAAAAAAAAAAAAAAAAAAAAAAAEAAAAAAAAAAAAAAAEAAAABAAAAAAAAAAEAAAAAAAAAAAAAAAAAAAAAAAAAAAAAAAEAAAAAAAAAAQAAAAAAAAABAAAAAQAAAAEAAAABAAAAAAAAAAEAAAAAAAAAAAAAAAEAAAAAAAAAAQAAAAAAAAABAAAAAQAAAAAAAAABAAAAAAAAAAEAAAABAAAAAQAAAAAAAAABAAAAAAAAAAEAAAAAAAAAAQAAAAAAAAAAAAAAAQAAAAAAAAABAAAAAQAAAAEAAAABAAAAAQAAAAEAAAAAAAAAAAAAAAEAAAAAAAAAAAAAAAAAAAABAAAAAAAAAAEAAAAAAAAAAQAAAAAAAAABAAAAAAAAAAAAAAAAAAAAAAAAAAEAAAAAAAAAAAAAAAEAAAAAAAAAAAAAAAAAAAAAAAAAAAAAAAAAAAABAAAAAQAAAAEAAAABAAAAAQAAAAEAAAAAAAAAAAAAAAAAAAAAAAAAAAAAAAEAAAAAAAAAAQAAAAEAAAABAAAAAAAAAAAAAAABAAAAAQAAAAEAAAAAAAAAAAAAAAEAAAAAAAAAAAAAAAEAAAABAAAAAAAAAAEAAAAAAAAAAQAAAAEAAAAAAAAAAAAAAAAAAAABAAAAAQAAAAEAAAAAAAAAAAAAAAAAAAABAAAAAAAAAAEAAAABAAAAAAAAAAEAAAABAAAAAQAAAAEAAAABAAAAAQAAAAAAAAAAAAAAAgAAAAEAAAABAAAAAQAAAAEAAAABAAAAAQAAAAAAAAAAAAAAAAAAAAAAAAAAAAAAAAAAAAEAAAABAAAAAQAAAAEAAAABAAAAAQAAAAAAAAABAAAAAAAAAAAAAAABAAAAAQAAAAAAAAABAAAAAAAAAAAAAAAAAAAAAAAAAAAAAAAAAAAAAAAAAAEAAAAAAAAAAAAAAAEAAAAAAAAAAAAAAAEAAAABAAAAAAAAAAEAAAAAAAAAAQAAAAEAAAABAAAAAQAAAAAAAAAAAAAAAQAAAAAAAAABAAAAAAAAAAAAAAAAAAAAAAAAAAAAAAAAAAAAAQAAAAEAAAABAAAAAAAAAAAAAAAAAAAAAAAAAAAAAAAAAAAAAAAAAAEAAAAAAAAAAQAAAAEAAAAAAAAAAQAAAAEAAAAAAAAAAAAAAAAAAAAAAAAAAQAAAAAAAAABAAAAAAAAAAAAAAAAAAAAAQAAAAAAAAAAAAAAAAAAAAEAAAACAAAAAAAAAAEAAAAAAAAAAQAAAAEAAAABAAAAAQAAAAEAAAAAAAAAAQAAAAAAAAABAAAAAAAAAAEAAAAAAAAAAQAAAAEAAAABAAAAAQAAAAEAAAABAAAAAQAAAAAAAAABAAAAAAAAAAEAAAAAAAAAAAAAAAEAAAAAAAAAAAAAAAEAAAAAAAAAAAAAAAAAAAABAAAAAQAAAAEAAAABAAAAAAAAAAAAAAAAAAAAAAAAAAEAAAABAAAAAAAAAAEAAAAAAAAAAAAAAAEAAAAAAAAAAAAAAAAAAAAAAAAAAQAAAAEAAAAAAAAAAAAAAAAAAAABAAAAAAAAAAEAAAABAAAAAAAAAAAAAAABAAAAAAAAAAAAAAAAAAAAAQAAAAEAAAAAAAAAAAAAAAAAAAAAAAAAAAAAAAEAAAAAAAAAAAAAAAIAAAABAAAAAAAAAAEAAAAAAAAAAQAAAAAAAAABAAAAAAAAAAIAAAAAAAAAAwAAAAAAAAAAAAAAAAAAAAEAAAABAAAAAAAAAA==\",\"dtype\":\"int32\",\"order\":\"little\",\"shape\":[685]}},\"selected\":{\"id\":\"2891\"},\"selection_policy\":{\"id\":\"2940\"}},\"id\":\"2890\",\"type\":\"ColumnDataSource\"},{\"attributes\":{},\"id\":\"2902\",\"type\":\"NumberFormatter\"},{\"attributes\":{\"editor\":{\"id\":\"2898\"},\"field\":\"CoinName\",\"formatter\":{\"id\":\"2897\"},\"title\":\"CoinName\"},\"id\":\"2899\",\"type\":\"TableColumn\"},{\"attributes\":{\"format\":\"0,0.0[00000]\"},\"id\":\"2922\",\"type\":\"NumberFormatter\"},{\"attributes\":{\"format\":\"0,0.0[00000]\"},\"id\":\"2927\",\"type\":\"NumberFormatter\"},{\"attributes\":{\"margin\":[5,5,5,5],\"name\":\"HSpacer05015\",\"sizing_mode\":\"stretch_width\"},\"id\":\"2889\",\"type\":\"Spacer\"},{\"attributes\":{\"editor\":{\"id\":\"2923\"},\"field\":\"PC_1\",\"formatter\":{\"id\":\"2922\"},\"title\":\"PC 1\"},\"id\":\"2924\",\"type\":\"TableColumn\"},{\"attributes\":{},\"id\":\"2893\",\"type\":\"StringEditor\"},{\"attributes\":{},\"id\":\"2897\",\"type\":\"StringFormatter\"},{\"attributes\":{},\"id\":\"2928\",\"type\":\"NumberEditor\"},{\"attributes\":{},\"id\":\"2903\",\"type\":\"IntEditor\"},{\"attributes\":{\"editor\":{\"id\":\"2903\"},\"field\":\"class\",\"formatter\":{\"id\":\"2902\"},\"title\":\"class\"},\"id\":\"2904\",\"type\":\"TableColumn\"},{\"attributes\":{\"format\":\"0,0.0[00000]\"},\"id\":\"2907\",\"type\":\"NumberFormatter\"},{\"attributes\":{\"format\":\"0,0.0[00000]\"},\"id\":\"2932\",\"type\":\"NumberFormatter\"},{\"attributes\":{\"editor\":{\"id\":\"2928\"},\"field\":\"PC_2\",\"formatter\":{\"id\":\"2927\"},\"title\":\"PC 2\"},\"id\":\"2929\",\"type\":\"TableColumn\"},{\"attributes\":{},\"id\":\"2933\",\"type\":\"NumberEditor\"},{\"attributes\":{},\"id\":\"2908\",\"type\":\"NumberEditor\"},{\"attributes\":{\"source\":{\"id\":\"2890\"}},\"id\":\"2939\",\"type\":\"CDSView\"},{\"attributes\":{\"editor\":{\"id\":\"2933\"},\"field\":\"PC_3\",\"formatter\":{\"id\":\"2932\"},\"title\":\"PC 3\"},\"id\":\"2934\",\"type\":\"TableColumn\"},{\"attributes\":{},\"id\":\"2912\",\"type\":\"StringFormatter\"},{\"attributes\":{\"editor\":{\"id\":\"2908\"},\"field\":\"TotalCoinsMined\",\"formatter\":{\"id\":\"2907\"},\"title\":\"TotalCoinsMined\"},\"id\":\"2909\",\"type\":\"TableColumn\"},{\"attributes\":{},\"id\":\"2913\",\"type\":\"StringEditor\"},{\"attributes\":{\"editor\":{\"id\":\"2913\"},\"field\":\"TotalCoinSupply\",\"formatter\":{\"id\":\"2912\"},\"title\":\"TotalCoinSupply\"},\"id\":\"2914\",\"type\":\"TableColumn\"},{\"attributes\":{\"columns\":[{\"id\":\"2894\"},{\"id\":\"2899\"},{\"id\":\"2904\"},{\"id\":\"2909\"},{\"id\":\"2914\"},{\"id\":\"2919\"},{\"id\":\"2924\"},{\"id\":\"2929\"},{\"id\":\"2934\"}],\"height\":300,\"reorderable\":false,\"source\":{\"id\":\"2890\"},\"view\":{\"id\":\"2939\"},\"width\":700},\"id\":\"2937\",\"type\":\"DataTable\"},{\"attributes\":{},\"id\":\"2892\",\"type\":\"StringFormatter\"},{\"attributes\":{\"editor\":{\"id\":\"2918\"},\"field\":\"ProofType\",\"formatter\":{\"id\":\"2917\"},\"title\":\"ProofType\"},\"id\":\"2919\",\"type\":\"TableColumn\"},{\"attributes\":{},\"id\":\"2891\",\"type\":\"Selection\"},{\"attributes\":{\"margin\":[5,5,5,5],\"name\":\"HSpacer05016\",\"sizing_mode\":\"stretch_width\"},\"id\":\"2944\",\"type\":\"Spacer\"},{\"attributes\":{},\"id\":\"2917\",\"type\":\"StringFormatter\"},{\"attributes\":{\"editor\":{\"id\":\"2893\"},\"field\":\"Algorithm\",\"formatter\":{\"id\":\"2892\"},\"title\":\"Algorithm\"},\"id\":\"2894\",\"type\":\"TableColumn\"},{\"attributes\":{},\"id\":\"2918\",\"type\":\"StringEditor\"},{\"attributes\":{\"children\":[{\"id\":\"2889\"},{\"id\":\"2937\"},{\"id\":\"2944\"}],\"margin\":[0,0,0,0],\"name\":\"Row05011\",\"tags\":[\"embedded\"]},\"id\":\"2888\",\"type\":\"Row\"}],\"root_ids\":[\"2888\"]},\"title\":\"Bokeh Application\",\"version\":\"2.4.2\"}};\n",
       "    var render_items = [{\"docid\":\"4bd79b36-d9bd-4bd1-9cdc-4116b53cf70c\",\"root_ids\":[\"2888\"],\"roots\":{\"2888\":\"019b47b7-b0e3-4be1-8750-6fcdb782eeec\"}}];\n",
       "    root.Bokeh.embed.embed_items_notebook(docs_json, render_items);\n",
       "  }\n",
       "  if (root.Bokeh !== undefined && root.Bokeh.Panel !== undefined) {\n",
       "    embed_document(root);\n",
       "  } else {\n",
       "    var attempts = 0;\n",
       "    var timer = setInterval(function(root) {\n",
       "      if (root.Bokeh !== undefined && root.Bokeh.Panel !== undefined) {\n",
       "        clearInterval(timer);\n",
       "        embed_document(root);\n",
       "      } else if (document.readyState == \"complete\") {\n",
       "        attempts++;\n",
       "        if (attempts > 200) {\n",
       "          clearInterval(timer);\n",
       "          console.log(\"Bokeh: ERROR: Unable to run BokehJS code because BokehJS library is missing\");\n",
       "        }\n",
       "      }\n",
       "    }, 25, root)\n",
       "  }\n",
       "})(window);</script>"
      ],
      "text/plain": [
       ":Table   [Algorithm,CoinName,class,TotalCoinsMined,TotalCoinSupply,ProofType,PC 1,PC 2,PC 3]"
      ]
     },
     "execution_count": 116,
     "metadata": {
      "application/vnd.holoviews_exec.v0+json": {
       "id": "2888"
      }
     },
     "output_type": "execute_result"
    }
   ],
   "source": [
    "# Create a table with tradable cryptocurrencies.\n",
    "clustered_df.hvplot.table(columns= ['Algorithm','CoinName', 'class', 'TotalCoinsMined', 'TotalCoinSupply', 'ProofType', 'PC 1', 'PC 2', 'PC 3'], sortable=True, selectable=True)"
   ]
  },
  {
   "cell_type": "code",
   "execution_count": 117,
   "metadata": {},
   "outputs": [
    {
     "name": "stdout",
     "output_type": "stream",
     "text": [
      "There are 685 tradable cryptocurrencies\n"
     ]
    }
   ],
   "source": [
    "# Print the total number of tradable cryptocurrencies.\n",
    "print(f\"There are {clustered_df.shape[0]} tradable cryptocurrencies\")"
   ]
  },
  {
   "cell_type": "code",
   "execution_count": 118,
   "metadata": {},
   "outputs": [
    {
     "name": "stdout",
     "output_type": "stream",
     "text": [
      "[[4.55364914e-16 5.94230127e-03]\n",
      " [5.76795558e-09 7.00182308e-03]\n",
      " [0.00000000e+00 5.94230122e-03]\n",
      " ...\n",
      " [1.51812440e-08 6.92655266e-03]\n",
      " [2.27682457e-10 5.94962775e-03]\n",
      " [1.08420218e-11 5.94243008e-03]]\n"
     ]
    }
   ],
   "source": [
    "# Scaling data to create the scatter plot with tradable cryptocurrencies.\n",
    "scaled_df = MinMaxScaler().fit_transform(clustered_df[[\"TotalCoinSupply\", \"TotalCoinsMined\"]])\n",
    "print(scaled_df)"
   ]
  },
  {
   "cell_type": "code",
   "execution_count": 119,
   "metadata": {},
   "outputs": [
    {
     "data": {
      "text/html": [
       "<div>\n",
       "<style scoped>\n",
       "    .dataframe tbody tr th:only-of-type {\n",
       "        vertical-align: middle;\n",
       "    }\n",
       "\n",
       "    .dataframe tbody tr th {\n",
       "        vertical-align: top;\n",
       "    }\n",
       "\n",
       "    .dataframe thead th {\n",
       "        text-align: right;\n",
       "    }\n",
       "</style>\n",
       "<table border=\"1\" class=\"dataframe\">\n",
       "  <thead>\n",
       "    <tr style=\"text-align: right;\">\n",
       "      <th></th>\n",
       "      <th>TotalCoinsMined</th>\n",
       "      <th>TotalCoinSupply</th>\n",
       "      <th>CoinName</th>\n",
       "      <th>class</th>\n",
       "    </tr>\n",
       "  </thead>\n",
       "  <tbody>\n",
       "    <tr>\n",
       "      <th>0</th>\n",
       "      <td>4.553649e-16</td>\n",
       "      <td>0.005942</td>\n",
       "      <td>42 Coin</td>\n",
       "      <td>0</td>\n",
       "    </tr>\n",
       "    <tr>\n",
       "      <th>2</th>\n",
       "      <td>5.767956e-09</td>\n",
       "      <td>0.007002</td>\n",
       "      <td>404Coin</td>\n",
       "      <td>0</td>\n",
       "    </tr>\n",
       "    <tr>\n",
       "      <th>4</th>\n",
       "      <td>0.000000e+00</td>\n",
       "      <td>0.005942</td>\n",
       "      <td>808</td>\n",
       "      <td>0</td>\n",
       "    </tr>\n",
       "    <tr>\n",
       "      <th>5</th>\n",
       "      <td>3.406122e-06</td>\n",
       "      <td>0.035342</td>\n",
       "      <td>EliteCoin</td>\n",
       "      <td>0</td>\n",
       "    </tr>\n",
       "    <tr>\n",
       "      <th>7</th>\n",
       "      <td>2.276825e-10</td>\n",
       "      <td>0.005960</td>\n",
       "      <td>Bitcoin</td>\n",
       "      <td>1</td>\n",
       "    </tr>\n",
       "    <tr>\n",
       "      <th>8</th>\n",
       "      <td>0.000000e+00</td>\n",
       "      <td>0.006050</td>\n",
       "      <td>Ethereum</td>\n",
       "      <td>1</td>\n",
       "    </tr>\n",
       "    <tr>\n",
       "      <th>9</th>\n",
       "      <td>9.107298e-10</td>\n",
       "      <td>0.006006</td>\n",
       "      <td>Litecoin</td>\n",
       "      <td>1</td>\n",
       "    </tr>\n",
       "    <tr>\n",
       "      <th>10</th>\n",
       "      <td>2.385245e-10</td>\n",
       "      <td>0.005951</td>\n",
       "      <td>Dash</td>\n",
       "      <td>0</td>\n",
       "    </tr>\n",
       "    <tr>\n",
       "      <th>11</th>\n",
       "      <td>0.000000e+00</td>\n",
       "      <td>0.005960</td>\n",
       "      <td>Monero</td>\n",
       "      <td>1</td>\n",
       "    </tr>\n",
       "    <tr>\n",
       "      <th>12</th>\n",
       "      <td>2.276825e-09</td>\n",
       "      <td>0.006056</td>\n",
       "      <td>Ethereum Classic</td>\n",
       "      <td>1</td>\n",
       "    </tr>\n",
       "  </tbody>\n",
       "</table>\n",
       "</div>"
      ],
      "text/plain": [
       "    TotalCoinsMined  TotalCoinSupply          CoinName  class\n",
       "0      4.553649e-16         0.005942           42 Coin      0\n",
       "2      5.767956e-09         0.007002           404Coin      0\n",
       "4      0.000000e+00         0.005942               808      0\n",
       "5      3.406122e-06         0.035342         EliteCoin      0\n",
       "7      2.276825e-10         0.005960           Bitcoin      1\n",
       "8      0.000000e+00         0.006050          Ethereum      1\n",
       "9      9.107298e-10         0.006006          Litecoin      1\n",
       "10     2.385245e-10         0.005951              Dash      0\n",
       "11     0.000000e+00         0.005960            Monero      1\n",
       "12     2.276825e-09         0.006056  Ethereum Classic      1"
      ]
     },
     "execution_count": 119,
     "metadata": {},
     "output_type": "execute_result"
    }
   ],
   "source": [
    "# Create a new DataFrame that has the scaled data with the clustered_df DataFrame index.\n",
    "plot_df = pd.DataFrame(data=scaled_df, columns= ['TotalCoinsMined', 'TotalCoinSupply'], index=clustered_df.index)\n",
    "\n",
    "# Add the \"CoinName\" column from the clustered_df DataFrame to the new DataFrame.\n",
    "plot_df[\"CoinName\"] = clustered_df[\"CoinName\"]\n",
    "\n",
    "# Add the \"Class\" column from the clustered_df DataFrame to the new DataFrame. \n",
    "plot_df[\"class\"]= clustered_df ['class']\n",
    "\n",
    "plot_df.head(10)"
   ]
  },
  {
   "cell_type": "code",
   "execution_count": 121,
   "metadata": {},
   "outputs": [
    {
     "ename": "SyntaxError",
     "evalue": "invalid syntax (2675665911.py, line 6)",
     "output_type": "error",
     "traceback": [
      "\u001b[0;36m  File \u001b[0;32m\"/var/folders/21/qt_jjgf124l7lcyj5rzfm34w0000gn/T/ipykernel_8529/2675665911.py\"\u001b[0;36m, line \u001b[0;32m6\u001b[0m\n\u001b[0;31m    by='class')\u001b[0m\n\u001b[0m     ^\u001b[0m\n\u001b[0;31mSyntaxError\u001b[0m\u001b[0;31m:\u001b[0m invalid syntax\n"
     ]
    }
   ],
   "source": [
    "# Create a hvplot.scatter plot using x=\"TotalCoinsMined\" and y=\"TotalCoinSupply\".\n",
    "plot_df.hvplot.scatter(\n",
    "   x='TotalCoinsMined',\n",
    "   y='TotalCoinSupply',\n",
    "   hover_cols=['CoinName']"
   ]
  },
  {
   "cell_type": "code",
   "execution_count": null,
   "metadata": {},
   "outputs": [],
   "source": []
  }
 ],
 "metadata": {
  "file_extension": ".py",
  "kernelspec": {
   "display_name": "PythonData",
   "language": "python",
   "name": "pythondata"
  },
  "language_info": {
   "codemirror_mode": {
    "name": "ipython",
    "version": 3
   },
   "file_extension": ".py",
   "mimetype": "text/x-python",
   "name": "python",
   "nbconvert_exporter": "python",
   "pygments_lexer": "ipython3",
   "version": "3.7.13"
  },
  "latex_envs": {
   "LaTeX_envs_menu_present": true,
   "autoclose": false,
   "autocomplete": true,
   "bibliofile": "biblio.bib",
   "cite_by": "apalike",
   "current_citInitial": 1,
   "eqLabelWithNumbers": true,
   "eqNumInitial": 1,
   "hotkeys": {
    "equation": "Ctrl-E",
    "itemize": "Ctrl-I"
   },
   "labels_anchors": false,
   "latex_user_defs": false,
   "report_style_numbering": false,
   "user_envs_cfg": false
  },
  "mimetype": "text/x-python",
  "name": "python",
  "npconvert_exporter": "python",
  "pygments_lexer": "ipython3",
  "version": 3
 },
 "nbformat": 4,
 "nbformat_minor": 2
}
