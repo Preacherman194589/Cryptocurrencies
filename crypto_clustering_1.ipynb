{
 "cells": [
  {
   "cell_type": "markdown",
   "metadata": {},
   "source": [
    "# Clustering Crypto"
   ]
  },
  {
   "cell_type": "code",
   "execution_count": 410,
   "metadata": {},
   "outputs": [],
   "source": [
    "# Initial imports\n",
    "import pandas as pd\n",
    "import hvplot.pandas\n",
    "import hvplot\n",
    "from pathlib import Path\n",
    "import plotly.express as px\n",
    "from sklearn.preprocessing import StandardScaler, MinMaxScaler\n",
    "from sklearn.decomposition import PCA\n",
    "from sklearn.cluster import KMeans\n",
    "from unicodedata import name"
   ]
  },
  {
   "cell_type": "markdown",
   "metadata": {},
   "source": [
    "### Deliverable 1: Preprocessing the Data for PCA"
   ]
  },
  {
   "cell_type": "code",
   "execution_count": 411,
   "metadata": {},
   "outputs": [
    {
     "data": {
      "text/html": [
       "<div>\n",
       "<style scoped>\n",
       "    .dataframe tbody tr th:only-of-type {\n",
       "        vertical-align: middle;\n",
       "    }\n",
       "\n",
       "    .dataframe tbody tr th {\n",
       "        vertical-align: top;\n",
       "    }\n",
       "\n",
       "    .dataframe thead th {\n",
       "        text-align: right;\n",
       "    }\n",
       "</style>\n",
       "<table border=\"1\" class=\"dataframe\">\n",
       "  <thead>\n",
       "    <tr style=\"text-align: right;\">\n",
       "      <th></th>\n",
       "      <th>Unnamed: 0</th>\n",
       "      <th>CoinName</th>\n",
       "      <th>Algorithm</th>\n",
       "      <th>IsTrading</th>\n",
       "      <th>ProofType</th>\n",
       "      <th>TotalCoinsMined</th>\n",
       "      <th>TotalCoinSupply</th>\n",
       "    </tr>\n",
       "  </thead>\n",
       "  <tbody>\n",
       "    <tr>\n",
       "      <th>0</th>\n",
       "      <td>42</td>\n",
       "      <td>42 Coin</td>\n",
       "      <td>Scrypt</td>\n",
       "      <td>True</td>\n",
       "      <td>PoW/PoS</td>\n",
       "      <td>4.199995e+01</td>\n",
       "      <td>42</td>\n",
       "    </tr>\n",
       "    <tr>\n",
       "      <th>1</th>\n",
       "      <td>365</td>\n",
       "      <td>365Coin</td>\n",
       "      <td>X11</td>\n",
       "      <td>True</td>\n",
       "      <td>PoW/PoS</td>\n",
       "      <td>NaN</td>\n",
       "      <td>2300000000</td>\n",
       "    </tr>\n",
       "    <tr>\n",
       "      <th>2</th>\n",
       "      <td>404</td>\n",
       "      <td>404Coin</td>\n",
       "      <td>Scrypt</td>\n",
       "      <td>True</td>\n",
       "      <td>PoW/PoS</td>\n",
       "      <td>1.055185e+09</td>\n",
       "      <td>532000000</td>\n",
       "    </tr>\n",
       "    <tr>\n",
       "      <th>3</th>\n",
       "      <td>611</td>\n",
       "      <td>SixEleven</td>\n",
       "      <td>SHA-256</td>\n",
       "      <td>True</td>\n",
       "      <td>PoW</td>\n",
       "      <td>NaN</td>\n",
       "      <td>611000</td>\n",
       "    </tr>\n",
       "    <tr>\n",
       "      <th>4</th>\n",
       "      <td>808</td>\n",
       "      <td>808</td>\n",
       "      <td>SHA-256</td>\n",
       "      <td>True</td>\n",
       "      <td>PoW/PoS</td>\n",
       "      <td>0.000000e+00</td>\n",
       "      <td>0</td>\n",
       "    </tr>\n",
       "    <tr>\n",
       "      <th>5</th>\n",
       "      <td>1337</td>\n",
       "      <td>EliteCoin</td>\n",
       "      <td>X13</td>\n",
       "      <td>True</td>\n",
       "      <td>PoW/PoS</td>\n",
       "      <td>2.927942e+10</td>\n",
       "      <td>314159265359</td>\n",
       "    </tr>\n",
       "    <tr>\n",
       "      <th>6</th>\n",
       "      <td>2015</td>\n",
       "      <td>2015 coin</td>\n",
       "      <td>X11</td>\n",
       "      <td>True</td>\n",
       "      <td>PoW/PoS</td>\n",
       "      <td>NaN</td>\n",
       "      <td>0</td>\n",
       "    </tr>\n",
       "    <tr>\n",
       "      <th>7</th>\n",
       "      <td>BTC</td>\n",
       "      <td>Bitcoin</td>\n",
       "      <td>SHA-256</td>\n",
       "      <td>True</td>\n",
       "      <td>PoW</td>\n",
       "      <td>1.792718e+07</td>\n",
       "      <td>21000000</td>\n",
       "    </tr>\n",
       "    <tr>\n",
       "      <th>8</th>\n",
       "      <td>ETH</td>\n",
       "      <td>Ethereum</td>\n",
       "      <td>Ethash</td>\n",
       "      <td>True</td>\n",
       "      <td>PoW</td>\n",
       "      <td>1.076842e+08</td>\n",
       "      <td>0</td>\n",
       "    </tr>\n",
       "    <tr>\n",
       "      <th>9</th>\n",
       "      <td>LTC</td>\n",
       "      <td>Litecoin</td>\n",
       "      <td>Scrypt</td>\n",
       "      <td>True</td>\n",
       "      <td>PoW</td>\n",
       "      <td>6.303924e+07</td>\n",
       "      <td>84000000</td>\n",
       "    </tr>\n",
       "  </tbody>\n",
       "</table>\n",
       "</div>"
      ],
      "text/plain": [
       "  Unnamed: 0   CoinName Algorithm  IsTrading ProofType  TotalCoinsMined  \\\n",
       "0         42    42 Coin    Scrypt       True   PoW/PoS     4.199995e+01   \n",
       "1        365    365Coin       X11       True   PoW/PoS              NaN   \n",
       "2        404    404Coin    Scrypt       True   PoW/PoS     1.055185e+09   \n",
       "3        611  SixEleven   SHA-256       True       PoW              NaN   \n",
       "4        808        808   SHA-256       True   PoW/PoS     0.000000e+00   \n",
       "5       1337  EliteCoin       X13       True   PoW/PoS     2.927942e+10   \n",
       "6       2015  2015 coin       X11       True   PoW/PoS              NaN   \n",
       "7        BTC    Bitcoin   SHA-256       True       PoW     1.792718e+07   \n",
       "8        ETH   Ethereum    Ethash       True       PoW     1.076842e+08   \n",
       "9        LTC   Litecoin    Scrypt       True       PoW     6.303924e+07   \n",
       "\n",
       "  TotalCoinSupply  \n",
       "0              42  \n",
       "1      2300000000  \n",
       "2       532000000  \n",
       "3          611000  \n",
       "4               0  \n",
       "5    314159265359  \n",
       "6               0  \n",
       "7        21000000  \n",
       "8               0  \n",
       "9        84000000  "
      ]
     },
     "execution_count": 411,
     "metadata": {},
     "output_type": "execute_result"
    }
   ],
   "source": [
    "# Load the crypto_data.csv dataset.\n",
    "file_path = \"/Users/delonjackson/Desktop/GitHub/Cryptocurrencies/crypto_data.csv\"\n",
    "crypto_df = pd.read_csv(file_path)\n",
    "crypto_df.head(10)"
   ]
  },
  {
   "cell_type": "code",
   "execution_count": 412,
   "metadata": {},
   "outputs": [
    {
     "data": {
      "text/html": [
       "<div>\n",
       "<style scoped>\n",
       "    .dataframe tbody tr th:only-of-type {\n",
       "        vertical-align: middle;\n",
       "    }\n",
       "\n",
       "    .dataframe tbody tr th {\n",
       "        vertical-align: top;\n",
       "    }\n",
       "\n",
       "    .dataframe thead th {\n",
       "        text-align: right;\n",
       "    }\n",
       "</style>\n",
       "<table border=\"1\" class=\"dataframe\">\n",
       "  <thead>\n",
       "    <tr style=\"text-align: right;\">\n",
       "      <th></th>\n",
       "      <th>CoinName</th>\n",
       "      <th>Algorithm</th>\n",
       "      <th>IsTrading</th>\n",
       "      <th>ProofType</th>\n",
       "      <th>TotalCoinsMined</th>\n",
       "      <th>TotalCoinSupply</th>\n",
       "    </tr>\n",
       "  </thead>\n",
       "  <tbody>\n",
       "    <tr>\n",
       "      <th>0</th>\n",
       "      <td>42 Coin</td>\n",
       "      <td>Scrypt</td>\n",
       "      <td>True</td>\n",
       "      <td>PoW/PoS</td>\n",
       "      <td>4.199995e+01</td>\n",
       "      <td>42</td>\n",
       "    </tr>\n",
       "    <tr>\n",
       "      <th>1</th>\n",
       "      <td>365Coin</td>\n",
       "      <td>X11</td>\n",
       "      <td>True</td>\n",
       "      <td>PoW/PoS</td>\n",
       "      <td>NaN</td>\n",
       "      <td>2300000000</td>\n",
       "    </tr>\n",
       "    <tr>\n",
       "      <th>2</th>\n",
       "      <td>404Coin</td>\n",
       "      <td>Scrypt</td>\n",
       "      <td>True</td>\n",
       "      <td>PoW/PoS</td>\n",
       "      <td>1.055185e+09</td>\n",
       "      <td>532000000</td>\n",
       "    </tr>\n",
       "    <tr>\n",
       "      <th>3</th>\n",
       "      <td>SixEleven</td>\n",
       "      <td>SHA-256</td>\n",
       "      <td>True</td>\n",
       "      <td>PoW</td>\n",
       "      <td>NaN</td>\n",
       "      <td>611000</td>\n",
       "    </tr>\n",
       "    <tr>\n",
       "      <th>4</th>\n",
       "      <td>808</td>\n",
       "      <td>SHA-256</td>\n",
       "      <td>True</td>\n",
       "      <td>PoW/PoS</td>\n",
       "      <td>0.000000e+00</td>\n",
       "      <td>0</td>\n",
       "    </tr>\n",
       "  </tbody>\n",
       "</table>\n",
       "</div>"
      ],
      "text/plain": [
       "    CoinName Algorithm  IsTrading ProofType  TotalCoinsMined TotalCoinSupply\n",
       "0    42 Coin    Scrypt       True   PoW/PoS     4.199995e+01              42\n",
       "1    365Coin       X11       True   PoW/PoS              NaN      2300000000\n",
       "2    404Coin    Scrypt       True   PoW/PoS     1.055185e+09       532000000\n",
       "3  SixEleven   SHA-256       True       PoW              NaN          611000\n",
       "4        808   SHA-256       True   PoW/PoS     0.000000e+00               0"
      ]
     },
     "execution_count": 412,
     "metadata": {},
     "output_type": "execute_result"
    }
   ],
   "source": [
    "crypto_df.drop(columns=['Unnamed: 0'], inplace=True)\n",
    "crypto_df.head()"
   ]
  },
  {
   "cell_type": "code",
   "execution_count": 413,
   "metadata": {},
   "outputs": [
    {
     "data": {
      "text/html": [
       "<div>\n",
       "<style scoped>\n",
       "    .dataframe tbody tr th:only-of-type {\n",
       "        vertical-align: middle;\n",
       "    }\n",
       "\n",
       "    .dataframe tbody tr th {\n",
       "        vertical-align: top;\n",
       "    }\n",
       "\n",
       "    .dataframe thead th {\n",
       "        text-align: right;\n",
       "    }\n",
       "</style>\n",
       "<table border=\"1\" class=\"dataframe\">\n",
       "  <thead>\n",
       "    <tr style=\"text-align: right;\">\n",
       "      <th></th>\n",
       "      <th>CoinName</th>\n",
       "      <th>Algorithm</th>\n",
       "      <th>IsTrading</th>\n",
       "      <th>ProofType</th>\n",
       "      <th>TotalCoinsMined</th>\n",
       "      <th>TotalCoinSupply</th>\n",
       "    </tr>\n",
       "  </thead>\n",
       "  <tbody>\n",
       "    <tr>\n",
       "      <th>0</th>\n",
       "      <td>42 Coin</td>\n",
       "      <td>Scrypt</td>\n",
       "      <td>True</td>\n",
       "      <td>PoW/PoS</td>\n",
       "      <td>4.199995e+01</td>\n",
       "      <td>42</td>\n",
       "    </tr>\n",
       "    <tr>\n",
       "      <th>1</th>\n",
       "      <td>365Coin</td>\n",
       "      <td>X11</td>\n",
       "      <td>True</td>\n",
       "      <td>PoW/PoS</td>\n",
       "      <td>NaN</td>\n",
       "      <td>2300000000</td>\n",
       "    </tr>\n",
       "    <tr>\n",
       "      <th>2</th>\n",
       "      <td>404Coin</td>\n",
       "      <td>Scrypt</td>\n",
       "      <td>True</td>\n",
       "      <td>PoW/PoS</td>\n",
       "      <td>1.055185e+09</td>\n",
       "      <td>532000000</td>\n",
       "    </tr>\n",
       "    <tr>\n",
       "      <th>3</th>\n",
       "      <td>SixEleven</td>\n",
       "      <td>SHA-256</td>\n",
       "      <td>True</td>\n",
       "      <td>PoW</td>\n",
       "      <td>NaN</td>\n",
       "      <td>611000</td>\n",
       "    </tr>\n",
       "    <tr>\n",
       "      <th>4</th>\n",
       "      <td>808</td>\n",
       "      <td>SHA-256</td>\n",
       "      <td>True</td>\n",
       "      <td>PoW/PoS</td>\n",
       "      <td>0.000000e+00</td>\n",
       "      <td>0</td>\n",
       "    </tr>\n",
       "    <tr>\n",
       "      <th>5</th>\n",
       "      <td>EliteCoin</td>\n",
       "      <td>X13</td>\n",
       "      <td>True</td>\n",
       "      <td>PoW/PoS</td>\n",
       "      <td>2.927942e+10</td>\n",
       "      <td>314159265359</td>\n",
       "    </tr>\n",
       "    <tr>\n",
       "      <th>6</th>\n",
       "      <td>2015 coin</td>\n",
       "      <td>X11</td>\n",
       "      <td>True</td>\n",
       "      <td>PoW/PoS</td>\n",
       "      <td>NaN</td>\n",
       "      <td>0</td>\n",
       "    </tr>\n",
       "    <tr>\n",
       "      <th>7</th>\n",
       "      <td>Bitcoin</td>\n",
       "      <td>SHA-256</td>\n",
       "      <td>True</td>\n",
       "      <td>PoW</td>\n",
       "      <td>1.792718e+07</td>\n",
       "      <td>21000000</td>\n",
       "    </tr>\n",
       "    <tr>\n",
       "      <th>8</th>\n",
       "      <td>Ethereum</td>\n",
       "      <td>Ethash</td>\n",
       "      <td>True</td>\n",
       "      <td>PoW</td>\n",
       "      <td>1.076842e+08</td>\n",
       "      <td>0</td>\n",
       "    </tr>\n",
       "    <tr>\n",
       "      <th>9</th>\n",
       "      <td>Litecoin</td>\n",
       "      <td>Scrypt</td>\n",
       "      <td>True</td>\n",
       "      <td>PoW</td>\n",
       "      <td>6.303924e+07</td>\n",
       "      <td>84000000</td>\n",
       "    </tr>\n",
       "  </tbody>\n",
       "</table>\n",
       "</div>"
      ],
      "text/plain": [
       "    CoinName Algorithm  IsTrading ProofType  TotalCoinsMined TotalCoinSupply\n",
       "0    42 Coin    Scrypt       True   PoW/PoS     4.199995e+01              42\n",
       "1    365Coin       X11       True   PoW/PoS              NaN      2300000000\n",
       "2    404Coin    Scrypt       True   PoW/PoS     1.055185e+09       532000000\n",
       "3  SixEleven   SHA-256       True       PoW              NaN          611000\n",
       "4        808   SHA-256       True   PoW/PoS     0.000000e+00               0\n",
       "5  EliteCoin       X13       True   PoW/PoS     2.927942e+10    314159265359\n",
       "6  2015 coin       X11       True   PoW/PoS              NaN               0\n",
       "7    Bitcoin   SHA-256       True       PoW     1.792718e+07        21000000\n",
       "8   Ethereum    Ethash       True       PoW     1.076842e+08               0\n",
       "9   Litecoin    Scrypt       True       PoW     6.303924e+07        84000000"
      ]
     },
     "execution_count": 413,
     "metadata": {},
     "output_type": "execute_result"
    }
   ],
   "source": [
    "# Keep all the cryptocurrencies that are being traded.\n",
    "crypto_df = crypto_df[crypto_df['IsTrading']==True]\n",
    "crypto_df.head(10)\n"
   ]
  },
  {
   "cell_type": "code",
   "execution_count": 414,
   "metadata": {},
   "outputs": [],
   "source": [
    "# Keep all the cryptocurrencies that have a working algorithm.\n",
    "# YOUR CODE HERE"
   ]
  },
  {
   "cell_type": "code",
   "execution_count": 415,
   "metadata": {},
   "outputs": [
    {
     "data": {
      "text/html": [
       "<div>\n",
       "<style scoped>\n",
       "    .dataframe tbody tr th:only-of-type {\n",
       "        vertical-align: middle;\n",
       "    }\n",
       "\n",
       "    .dataframe tbody tr th {\n",
       "        vertical-align: top;\n",
       "    }\n",
       "\n",
       "    .dataframe thead th {\n",
       "        text-align: right;\n",
       "    }\n",
       "</style>\n",
       "<table border=\"1\" class=\"dataframe\">\n",
       "  <thead>\n",
       "    <tr style=\"text-align: right;\">\n",
       "      <th></th>\n",
       "      <th>CoinName</th>\n",
       "      <th>Algorithm</th>\n",
       "      <th>ProofType</th>\n",
       "      <th>TotalCoinsMined</th>\n",
       "      <th>TotalCoinSupply</th>\n",
       "    </tr>\n",
       "  </thead>\n",
       "  <tbody>\n",
       "    <tr>\n",
       "      <th>0</th>\n",
       "      <td>42 Coin</td>\n",
       "      <td>Scrypt</td>\n",
       "      <td>PoW/PoS</td>\n",
       "      <td>4.199995e+01</td>\n",
       "      <td>42</td>\n",
       "    </tr>\n",
       "    <tr>\n",
       "      <th>1</th>\n",
       "      <td>365Coin</td>\n",
       "      <td>X11</td>\n",
       "      <td>PoW/PoS</td>\n",
       "      <td>NaN</td>\n",
       "      <td>2300000000</td>\n",
       "    </tr>\n",
       "    <tr>\n",
       "      <th>2</th>\n",
       "      <td>404Coin</td>\n",
       "      <td>Scrypt</td>\n",
       "      <td>PoW/PoS</td>\n",
       "      <td>1.055185e+09</td>\n",
       "      <td>532000000</td>\n",
       "    </tr>\n",
       "    <tr>\n",
       "      <th>3</th>\n",
       "      <td>SixEleven</td>\n",
       "      <td>SHA-256</td>\n",
       "      <td>PoW</td>\n",
       "      <td>NaN</td>\n",
       "      <td>611000</td>\n",
       "    </tr>\n",
       "    <tr>\n",
       "      <th>4</th>\n",
       "      <td>808</td>\n",
       "      <td>SHA-256</td>\n",
       "      <td>PoW/PoS</td>\n",
       "      <td>0.000000e+00</td>\n",
       "      <td>0</td>\n",
       "    </tr>\n",
       "  </tbody>\n",
       "</table>\n",
       "</div>"
      ],
      "text/plain": [
       "    CoinName Algorithm ProofType  TotalCoinsMined TotalCoinSupply\n",
       "0    42 Coin    Scrypt   PoW/PoS     4.199995e+01              42\n",
       "1    365Coin       X11   PoW/PoS              NaN      2300000000\n",
       "2    404Coin    Scrypt   PoW/PoS     1.055185e+09       532000000\n",
       "3  SixEleven   SHA-256       PoW              NaN          611000\n",
       "4        808   SHA-256   PoW/PoS     0.000000e+00               0"
      ]
     },
     "execution_count": 415,
     "metadata": {},
     "output_type": "execute_result"
    }
   ],
   "source": [
    "# Remove the \"IsTrading\" column. \n",
    "crypto_df  = crypto_df.drop(['IsTrading'], axis=1) \n",
    "crypto_df.head()"
   ]
  },
  {
   "cell_type": "code",
   "execution_count": 416,
   "metadata": {},
   "outputs": [
    {
     "data": {
      "text/html": [
       "<div>\n",
       "<style scoped>\n",
       "    .dataframe tbody tr th:only-of-type {\n",
       "        vertical-align: middle;\n",
       "    }\n",
       "\n",
       "    .dataframe tbody tr th {\n",
       "        vertical-align: top;\n",
       "    }\n",
       "\n",
       "    .dataframe thead th {\n",
       "        text-align: right;\n",
       "    }\n",
       "</style>\n",
       "<table border=\"1\" class=\"dataframe\">\n",
       "  <thead>\n",
       "    <tr style=\"text-align: right;\">\n",
       "      <th></th>\n",
       "      <th>CoinName</th>\n",
       "      <th>Algorithm</th>\n",
       "      <th>ProofType</th>\n",
       "      <th>TotalCoinsMined</th>\n",
       "      <th>TotalCoinSupply</th>\n",
       "    </tr>\n",
       "  </thead>\n",
       "  <tbody>\n",
       "    <tr>\n",
       "      <th>0</th>\n",
       "      <td>42 Coin</td>\n",
       "      <td>Scrypt</td>\n",
       "      <td>PoW/PoS</td>\n",
       "      <td>4.199995e+01</td>\n",
       "      <td>42</td>\n",
       "    </tr>\n",
       "    <tr>\n",
       "      <th>2</th>\n",
       "      <td>404Coin</td>\n",
       "      <td>Scrypt</td>\n",
       "      <td>PoW/PoS</td>\n",
       "      <td>1.055185e+09</td>\n",
       "      <td>532000000</td>\n",
       "    </tr>\n",
       "    <tr>\n",
       "      <th>4</th>\n",
       "      <td>808</td>\n",
       "      <td>SHA-256</td>\n",
       "      <td>PoW/PoS</td>\n",
       "      <td>0.000000e+00</td>\n",
       "      <td>0</td>\n",
       "    </tr>\n",
       "    <tr>\n",
       "      <th>5</th>\n",
       "      <td>EliteCoin</td>\n",
       "      <td>X13</td>\n",
       "      <td>PoW/PoS</td>\n",
       "      <td>2.927942e+10</td>\n",
       "      <td>314159265359</td>\n",
       "    </tr>\n",
       "    <tr>\n",
       "      <th>7</th>\n",
       "      <td>Bitcoin</td>\n",
       "      <td>SHA-256</td>\n",
       "      <td>PoW</td>\n",
       "      <td>1.792718e+07</td>\n",
       "      <td>21000000</td>\n",
       "    </tr>\n",
       "    <tr>\n",
       "      <th>8</th>\n",
       "      <td>Ethereum</td>\n",
       "      <td>Ethash</td>\n",
       "      <td>PoW</td>\n",
       "      <td>1.076842e+08</td>\n",
       "      <td>0</td>\n",
       "    </tr>\n",
       "    <tr>\n",
       "      <th>9</th>\n",
       "      <td>Litecoin</td>\n",
       "      <td>Scrypt</td>\n",
       "      <td>PoW</td>\n",
       "      <td>6.303924e+07</td>\n",
       "      <td>84000000</td>\n",
       "    </tr>\n",
       "    <tr>\n",
       "      <th>10</th>\n",
       "      <td>Dash</td>\n",
       "      <td>X11</td>\n",
       "      <td>PoW/PoS</td>\n",
       "      <td>9.031294e+06</td>\n",
       "      <td>22000000</td>\n",
       "    </tr>\n",
       "    <tr>\n",
       "      <th>11</th>\n",
       "      <td>Monero</td>\n",
       "      <td>CryptoNight-V7</td>\n",
       "      <td>PoW</td>\n",
       "      <td>1.720114e+07</td>\n",
       "      <td>0</td>\n",
       "    </tr>\n",
       "    <tr>\n",
       "      <th>12</th>\n",
       "      <td>Ethereum Classic</td>\n",
       "      <td>Ethash</td>\n",
       "      <td>PoW</td>\n",
       "      <td>1.133597e+08</td>\n",
       "      <td>210000000</td>\n",
       "    </tr>\n",
       "  </tbody>\n",
       "</table>\n",
       "</div>"
      ],
      "text/plain": [
       "            CoinName       Algorithm ProofType  TotalCoinsMined  \\\n",
       "0            42 Coin          Scrypt   PoW/PoS     4.199995e+01   \n",
       "2            404Coin          Scrypt   PoW/PoS     1.055185e+09   \n",
       "4                808         SHA-256   PoW/PoS     0.000000e+00   \n",
       "5          EliteCoin             X13   PoW/PoS     2.927942e+10   \n",
       "7            Bitcoin         SHA-256       PoW     1.792718e+07   \n",
       "8           Ethereum          Ethash       PoW     1.076842e+08   \n",
       "9           Litecoin          Scrypt       PoW     6.303924e+07   \n",
       "10              Dash             X11   PoW/PoS     9.031294e+06   \n",
       "11            Monero  CryptoNight-V7       PoW     1.720114e+07   \n",
       "12  Ethereum Classic          Ethash       PoW     1.133597e+08   \n",
       "\n",
       "   TotalCoinSupply  \n",
       "0               42  \n",
       "2        532000000  \n",
       "4                0  \n",
       "5     314159265359  \n",
       "7         21000000  \n",
       "8                0  \n",
       "9         84000000  \n",
       "10        22000000  \n",
       "11               0  \n",
       "12       210000000  "
      ]
     },
     "execution_count": 416,
     "metadata": {},
     "output_type": "execute_result"
    }
   ],
   "source": [
    "# Remove rows that have at least 1 null value.\n",
    "crypto_df = crypto_df.dropna()\n",
    "crypto_df.head(10)"
   ]
  },
  {
   "cell_type": "code",
   "execution_count": 417,
   "metadata": {},
   "outputs": [
    {
     "data": {
      "text/html": [
       "<div>\n",
       "<style scoped>\n",
       "    .dataframe tbody tr th:only-of-type {\n",
       "        vertical-align: middle;\n",
       "    }\n",
       "\n",
       "    .dataframe tbody tr th {\n",
       "        vertical-align: top;\n",
       "    }\n",
       "\n",
       "    .dataframe thead th {\n",
       "        text-align: right;\n",
       "    }\n",
       "</style>\n",
       "<table border=\"1\" class=\"dataframe\">\n",
       "  <thead>\n",
       "    <tr style=\"text-align: right;\">\n",
       "      <th></th>\n",
       "      <th>CoinName</th>\n",
       "      <th>Algorithm</th>\n",
       "      <th>ProofType</th>\n",
       "      <th>TotalCoinsMined</th>\n",
       "      <th>TotalCoinSupply</th>\n",
       "    </tr>\n",
       "  </thead>\n",
       "  <tbody>\n",
       "    <tr>\n",
       "      <th>0</th>\n",
       "      <td>42 Coin</td>\n",
       "      <td>Scrypt</td>\n",
       "      <td>PoW/PoS</td>\n",
       "      <td>4.199995e+01</td>\n",
       "      <td>42</td>\n",
       "    </tr>\n",
       "    <tr>\n",
       "      <th>2</th>\n",
       "      <td>404Coin</td>\n",
       "      <td>Scrypt</td>\n",
       "      <td>PoW/PoS</td>\n",
       "      <td>1.055185e+09</td>\n",
       "      <td>532000000</td>\n",
       "    </tr>\n",
       "    <tr>\n",
       "      <th>4</th>\n",
       "      <td>808</td>\n",
       "      <td>SHA-256</td>\n",
       "      <td>PoW/PoS</td>\n",
       "      <td>0.000000e+00</td>\n",
       "      <td>0</td>\n",
       "    </tr>\n",
       "    <tr>\n",
       "      <th>5</th>\n",
       "      <td>EliteCoin</td>\n",
       "      <td>X13</td>\n",
       "      <td>PoW/PoS</td>\n",
       "      <td>2.927942e+10</td>\n",
       "      <td>314159265359</td>\n",
       "    </tr>\n",
       "    <tr>\n",
       "      <th>7</th>\n",
       "      <td>Bitcoin</td>\n",
       "      <td>SHA-256</td>\n",
       "      <td>PoW</td>\n",
       "      <td>1.792718e+07</td>\n",
       "      <td>21000000</td>\n",
       "    </tr>\n",
       "    <tr>\n",
       "      <th>...</th>\n",
       "      <td>...</td>\n",
       "      <td>...</td>\n",
       "      <td>...</td>\n",
       "      <td>...</td>\n",
       "      <td>...</td>\n",
       "    </tr>\n",
       "    <tr>\n",
       "      <th>1238</th>\n",
       "      <td>ZEPHYR</td>\n",
       "      <td>SHA-256</td>\n",
       "      <td>DPoS</td>\n",
       "      <td>2.000000e+09</td>\n",
       "      <td>2000000000</td>\n",
       "    </tr>\n",
       "    <tr>\n",
       "      <th>1242</th>\n",
       "      <td>Gapcoin</td>\n",
       "      <td>Scrypt</td>\n",
       "      <td>PoW/PoS</td>\n",
       "      <td>1.493105e+07</td>\n",
       "      <td>250000000</td>\n",
       "    </tr>\n",
       "    <tr>\n",
       "      <th>1245</th>\n",
       "      <td>Beldex</td>\n",
       "      <td>CryptoNight</td>\n",
       "      <td>PoW</td>\n",
       "      <td>9.802226e+08</td>\n",
       "      <td>1400222610</td>\n",
       "    </tr>\n",
       "    <tr>\n",
       "      <th>1246</th>\n",
       "      <td>Horizen</td>\n",
       "      <td>Equihash</td>\n",
       "      <td>PoW</td>\n",
       "      <td>7.296538e+06</td>\n",
       "      <td>21000000</td>\n",
       "    </tr>\n",
       "    <tr>\n",
       "      <th>1247</th>\n",
       "      <td>BitcoinPlus</td>\n",
       "      <td>Scrypt</td>\n",
       "      <td>PoS</td>\n",
       "      <td>1.283270e+05</td>\n",
       "      <td>1000000</td>\n",
       "    </tr>\n",
       "  </tbody>\n",
       "</table>\n",
       "<p>685 rows × 5 columns</p>\n",
       "</div>"
      ],
      "text/plain": [
       "         CoinName    Algorithm ProofType  TotalCoinsMined TotalCoinSupply\n",
       "0         42 Coin       Scrypt   PoW/PoS     4.199995e+01              42\n",
       "2         404Coin       Scrypt   PoW/PoS     1.055185e+09       532000000\n",
       "4             808      SHA-256   PoW/PoS     0.000000e+00               0\n",
       "5       EliteCoin          X13   PoW/PoS     2.927942e+10    314159265359\n",
       "7         Bitcoin      SHA-256       PoW     1.792718e+07        21000000\n",
       "...           ...          ...       ...              ...             ...\n",
       "1238       ZEPHYR      SHA-256      DPoS     2.000000e+09      2000000000\n",
       "1242      Gapcoin       Scrypt   PoW/PoS     1.493105e+07       250000000\n",
       "1245       Beldex  CryptoNight       PoW     9.802226e+08      1400222610\n",
       "1246      Horizen     Equihash       PoW     7.296538e+06        21000000\n",
       "1247  BitcoinPlus       Scrypt       PoS     1.283270e+05         1000000\n",
       "\n",
       "[685 rows x 5 columns]"
      ]
     },
     "execution_count": 417,
     "metadata": {},
     "output_type": "execute_result"
    }
   ],
   "source": [
    "# Keep the rows where coins are mined.\n",
    "crypto_df[crypto_df['TotalCoinsMined'] > 0]\n",
    "crypto_df"
   ]
  },
  {
   "cell_type": "code",
   "execution_count": 418,
   "metadata": {},
   "outputs": [
    {
     "data": {
      "text/html": [
       "<div>\n",
       "<style scoped>\n",
       "    .dataframe tbody tr th:only-of-type {\n",
       "        vertical-align: middle;\n",
       "    }\n",
       "\n",
       "    .dataframe tbody tr th {\n",
       "        vertical-align: top;\n",
       "    }\n",
       "\n",
       "    .dataframe thead th {\n",
       "        text-align: right;\n",
       "    }\n",
       "</style>\n",
       "<table border=\"1\" class=\"dataframe\">\n",
       "  <thead>\n",
       "    <tr style=\"text-align: right;\">\n",
       "      <th></th>\n",
       "      <th>CoinName</th>\n",
       "    </tr>\n",
       "  </thead>\n",
       "  <tbody>\n",
       "    <tr>\n",
       "      <th>0</th>\n",
       "      <td>42 Coin</td>\n",
       "    </tr>\n",
       "    <tr>\n",
       "      <th>2</th>\n",
       "      <td>404Coin</td>\n",
       "    </tr>\n",
       "    <tr>\n",
       "      <th>4</th>\n",
       "      <td>808</td>\n",
       "    </tr>\n",
       "    <tr>\n",
       "      <th>5</th>\n",
       "      <td>EliteCoin</td>\n",
       "    </tr>\n",
       "    <tr>\n",
       "      <th>7</th>\n",
       "      <td>Bitcoin</td>\n",
       "    </tr>\n",
       "    <tr>\n",
       "      <th>8</th>\n",
       "      <td>Ethereum</td>\n",
       "    </tr>\n",
       "    <tr>\n",
       "      <th>9</th>\n",
       "      <td>Litecoin</td>\n",
       "    </tr>\n",
       "    <tr>\n",
       "      <th>10</th>\n",
       "      <td>Dash</td>\n",
       "    </tr>\n",
       "    <tr>\n",
       "      <th>11</th>\n",
       "      <td>Monero</td>\n",
       "    </tr>\n",
       "    <tr>\n",
       "      <th>12</th>\n",
       "      <td>Ethereum Classic</td>\n",
       "    </tr>\n",
       "  </tbody>\n",
       "</table>\n",
       "</div>"
      ],
      "text/plain": [
       "            CoinName\n",
       "0            42 Coin\n",
       "2            404Coin\n",
       "4                808\n",
       "5          EliteCoin\n",
       "7            Bitcoin\n",
       "8           Ethereum\n",
       "9           Litecoin\n",
       "10              Dash\n",
       "11            Monero\n",
       "12  Ethereum Classic"
      ]
     },
     "execution_count": 418,
     "metadata": {},
     "output_type": "execute_result"
    }
   ],
   "source": [
    "# Create a new DataFrame that holds only the cryptocurrencies names.\n",
    "coins_names = crypto_df.filter(['CoinName'], axis = 1)\n",
    "coins_names.head(10)"
   ]
  },
  {
   "cell_type": "code",
   "execution_count": 419,
   "metadata": {},
   "outputs": [
    {
     "name": "stdout",
     "output_type": "stream",
     "text": [
      "(685, 4)\n"
     ]
    },
    {
     "data": {
      "text/html": [
       "<div>\n",
       "<style scoped>\n",
       "    .dataframe tbody tr th:only-of-type {\n",
       "        vertical-align: middle;\n",
       "    }\n",
       "\n",
       "    .dataframe tbody tr th {\n",
       "        vertical-align: top;\n",
       "    }\n",
       "\n",
       "    .dataframe thead th {\n",
       "        text-align: right;\n",
       "    }\n",
       "</style>\n",
       "<table border=\"1\" class=\"dataframe\">\n",
       "  <thead>\n",
       "    <tr style=\"text-align: right;\">\n",
       "      <th></th>\n",
       "      <th>Algorithm</th>\n",
       "      <th>ProofType</th>\n",
       "      <th>TotalCoinsMined</th>\n",
       "      <th>TotalCoinSupply</th>\n",
       "    </tr>\n",
       "  </thead>\n",
       "  <tbody>\n",
       "    <tr>\n",
       "      <th>0</th>\n",
       "      <td>Scrypt</td>\n",
       "      <td>PoW/PoS</td>\n",
       "      <td>4.199995e+01</td>\n",
       "      <td>42</td>\n",
       "    </tr>\n",
       "    <tr>\n",
       "      <th>2</th>\n",
       "      <td>Scrypt</td>\n",
       "      <td>PoW/PoS</td>\n",
       "      <td>1.055185e+09</td>\n",
       "      <td>532000000</td>\n",
       "    </tr>\n",
       "    <tr>\n",
       "      <th>4</th>\n",
       "      <td>SHA-256</td>\n",
       "      <td>PoW/PoS</td>\n",
       "      <td>0.000000e+00</td>\n",
       "      <td>0</td>\n",
       "    </tr>\n",
       "    <tr>\n",
       "      <th>5</th>\n",
       "      <td>X13</td>\n",
       "      <td>PoW/PoS</td>\n",
       "      <td>2.927942e+10</td>\n",
       "      <td>314159265359</td>\n",
       "    </tr>\n",
       "    <tr>\n",
       "      <th>7</th>\n",
       "      <td>SHA-256</td>\n",
       "      <td>PoW</td>\n",
       "      <td>1.792718e+07</td>\n",
       "      <td>21000000</td>\n",
       "    </tr>\n",
       "    <tr>\n",
       "      <th>8</th>\n",
       "      <td>Ethash</td>\n",
       "      <td>PoW</td>\n",
       "      <td>1.076842e+08</td>\n",
       "      <td>0</td>\n",
       "    </tr>\n",
       "    <tr>\n",
       "      <th>9</th>\n",
       "      <td>Scrypt</td>\n",
       "      <td>PoW</td>\n",
       "      <td>6.303924e+07</td>\n",
       "      <td>84000000</td>\n",
       "    </tr>\n",
       "    <tr>\n",
       "      <th>10</th>\n",
       "      <td>X11</td>\n",
       "      <td>PoW/PoS</td>\n",
       "      <td>9.031294e+06</td>\n",
       "      <td>22000000</td>\n",
       "    </tr>\n",
       "    <tr>\n",
       "      <th>11</th>\n",
       "      <td>CryptoNight-V7</td>\n",
       "      <td>PoW</td>\n",
       "      <td>1.720114e+07</td>\n",
       "      <td>0</td>\n",
       "    </tr>\n",
       "    <tr>\n",
       "      <th>12</th>\n",
       "      <td>Ethash</td>\n",
       "      <td>PoW</td>\n",
       "      <td>1.133597e+08</td>\n",
       "      <td>210000000</td>\n",
       "    </tr>\n",
       "  </tbody>\n",
       "</table>\n",
       "</div>"
      ],
      "text/plain": [
       "         Algorithm ProofType  TotalCoinsMined TotalCoinSupply\n",
       "0           Scrypt   PoW/PoS     4.199995e+01              42\n",
       "2           Scrypt   PoW/PoS     1.055185e+09       532000000\n",
       "4          SHA-256   PoW/PoS     0.000000e+00               0\n",
       "5              X13   PoW/PoS     2.927942e+10    314159265359\n",
       "7          SHA-256       PoW     1.792718e+07        21000000\n",
       "8           Ethash       PoW     1.076842e+08               0\n",
       "9           Scrypt       PoW     6.303924e+07        84000000\n",
       "10             X11   PoW/PoS     9.031294e+06        22000000\n",
       "11  CryptoNight-V7       PoW     1.720114e+07               0\n",
       "12          Ethash       PoW     1.133597e+08       210000000"
      ]
     },
     "execution_count": 419,
     "metadata": {},
     "output_type": "execute_result"
    }
   ],
   "source": [
    "# Drop the 'CoinName' column since it's not going to be used on the clustering algorithm.\n",
    "crypto_df = crypto_df.drop(\"CoinName\", axis=1)\n",
    "print(crypto_df.shape)\n",
    "crypto_df.head(10)"
   ]
  },
  {
   "cell_type": "code",
   "execution_count": 420,
   "metadata": {},
   "outputs": [
    {
     "name": "stdout",
     "output_type": "stream",
     "text": [
      "(685, 109)\n"
     ]
    },
    {
     "data": {
      "text/html": [
       "<div>\n",
       "<style scoped>\n",
       "    .dataframe tbody tr th:only-of-type {\n",
       "        vertical-align: middle;\n",
       "    }\n",
       "\n",
       "    .dataframe tbody tr th {\n",
       "        vertical-align: top;\n",
       "    }\n",
       "\n",
       "    .dataframe thead th {\n",
       "        text-align: right;\n",
       "    }\n",
       "</style>\n",
       "<table border=\"1\" class=\"dataframe\">\n",
       "  <thead>\n",
       "    <tr style=\"text-align: right;\">\n",
       "      <th></th>\n",
       "      <th>TotalCoinsMined</th>\n",
       "      <th>TotalCoinSupply</th>\n",
       "      <th>Algorithm_1GB AES Pattern Search</th>\n",
       "      <th>Algorithm_536</th>\n",
       "      <th>Algorithm_Argon2</th>\n",
       "      <th>Algorithm_Argon2d</th>\n",
       "      <th>Algorithm_BLAKE256</th>\n",
       "      <th>Algorithm_Blake</th>\n",
       "      <th>Algorithm_Blake2S</th>\n",
       "      <th>Algorithm_Blake2b</th>\n",
       "      <th>...</th>\n",
       "      <th>ProofType_PoW/PoS</th>\n",
       "      <th>ProofType_PoW/PoS</th>\n",
       "      <th>ProofType_PoW/PoW</th>\n",
       "      <th>ProofType_PoW/nPoS</th>\n",
       "      <th>ProofType_Pos</th>\n",
       "      <th>ProofType_Proof of Authority</th>\n",
       "      <th>ProofType_Proof of Trust</th>\n",
       "      <th>ProofType_TPoS</th>\n",
       "      <th>ProofType_Zero-Knowledge Proof</th>\n",
       "      <th>ProofType_dPoW/PoW</th>\n",
       "    </tr>\n",
       "  </thead>\n",
       "  <tbody>\n",
       "    <tr>\n",
       "      <th>0</th>\n",
       "      <td>4.199995e+01</td>\n",
       "      <td>42</td>\n",
       "      <td>0</td>\n",
       "      <td>0</td>\n",
       "      <td>0</td>\n",
       "      <td>0</td>\n",
       "      <td>0</td>\n",
       "      <td>0</td>\n",
       "      <td>0</td>\n",
       "      <td>0</td>\n",
       "      <td>...</td>\n",
       "      <td>1</td>\n",
       "      <td>0</td>\n",
       "      <td>0</td>\n",
       "      <td>0</td>\n",
       "      <td>0</td>\n",
       "      <td>0</td>\n",
       "      <td>0</td>\n",
       "      <td>0</td>\n",
       "      <td>0</td>\n",
       "      <td>0</td>\n",
       "    </tr>\n",
       "    <tr>\n",
       "      <th>2</th>\n",
       "      <td>1.055185e+09</td>\n",
       "      <td>532000000</td>\n",
       "      <td>0</td>\n",
       "      <td>0</td>\n",
       "      <td>0</td>\n",
       "      <td>0</td>\n",
       "      <td>0</td>\n",
       "      <td>0</td>\n",
       "      <td>0</td>\n",
       "      <td>0</td>\n",
       "      <td>...</td>\n",
       "      <td>1</td>\n",
       "      <td>0</td>\n",
       "      <td>0</td>\n",
       "      <td>0</td>\n",
       "      <td>0</td>\n",
       "      <td>0</td>\n",
       "      <td>0</td>\n",
       "      <td>0</td>\n",
       "      <td>0</td>\n",
       "      <td>0</td>\n",
       "    </tr>\n",
       "    <tr>\n",
       "      <th>4</th>\n",
       "      <td>0.000000e+00</td>\n",
       "      <td>0</td>\n",
       "      <td>0</td>\n",
       "      <td>0</td>\n",
       "      <td>0</td>\n",
       "      <td>0</td>\n",
       "      <td>0</td>\n",
       "      <td>0</td>\n",
       "      <td>0</td>\n",
       "      <td>0</td>\n",
       "      <td>...</td>\n",
       "      <td>1</td>\n",
       "      <td>0</td>\n",
       "      <td>0</td>\n",
       "      <td>0</td>\n",
       "      <td>0</td>\n",
       "      <td>0</td>\n",
       "      <td>0</td>\n",
       "      <td>0</td>\n",
       "      <td>0</td>\n",
       "      <td>0</td>\n",
       "    </tr>\n",
       "    <tr>\n",
       "      <th>5</th>\n",
       "      <td>2.927942e+10</td>\n",
       "      <td>314159265359</td>\n",
       "      <td>0</td>\n",
       "      <td>0</td>\n",
       "      <td>0</td>\n",
       "      <td>0</td>\n",
       "      <td>0</td>\n",
       "      <td>0</td>\n",
       "      <td>0</td>\n",
       "      <td>0</td>\n",
       "      <td>...</td>\n",
       "      <td>1</td>\n",
       "      <td>0</td>\n",
       "      <td>0</td>\n",
       "      <td>0</td>\n",
       "      <td>0</td>\n",
       "      <td>0</td>\n",
       "      <td>0</td>\n",
       "      <td>0</td>\n",
       "      <td>0</td>\n",
       "      <td>0</td>\n",
       "    </tr>\n",
       "    <tr>\n",
       "      <th>7</th>\n",
       "      <td>1.792718e+07</td>\n",
       "      <td>21000000</td>\n",
       "      <td>0</td>\n",
       "      <td>0</td>\n",
       "      <td>0</td>\n",
       "      <td>0</td>\n",
       "      <td>0</td>\n",
       "      <td>0</td>\n",
       "      <td>0</td>\n",
       "      <td>0</td>\n",
       "      <td>...</td>\n",
       "      <td>0</td>\n",
       "      <td>0</td>\n",
       "      <td>0</td>\n",
       "      <td>0</td>\n",
       "      <td>0</td>\n",
       "      <td>0</td>\n",
       "      <td>0</td>\n",
       "      <td>0</td>\n",
       "      <td>0</td>\n",
       "      <td>0</td>\n",
       "    </tr>\n",
       "    <tr>\n",
       "      <th>8</th>\n",
       "      <td>1.076842e+08</td>\n",
       "      <td>0</td>\n",
       "      <td>0</td>\n",
       "      <td>0</td>\n",
       "      <td>0</td>\n",
       "      <td>0</td>\n",
       "      <td>0</td>\n",
       "      <td>0</td>\n",
       "      <td>0</td>\n",
       "      <td>0</td>\n",
       "      <td>...</td>\n",
       "      <td>0</td>\n",
       "      <td>0</td>\n",
       "      <td>0</td>\n",
       "      <td>0</td>\n",
       "      <td>0</td>\n",
       "      <td>0</td>\n",
       "      <td>0</td>\n",
       "      <td>0</td>\n",
       "      <td>0</td>\n",
       "      <td>0</td>\n",
       "    </tr>\n",
       "    <tr>\n",
       "      <th>9</th>\n",
       "      <td>6.303924e+07</td>\n",
       "      <td>84000000</td>\n",
       "      <td>0</td>\n",
       "      <td>0</td>\n",
       "      <td>0</td>\n",
       "      <td>0</td>\n",
       "      <td>0</td>\n",
       "      <td>0</td>\n",
       "      <td>0</td>\n",
       "      <td>0</td>\n",
       "      <td>...</td>\n",
       "      <td>0</td>\n",
       "      <td>0</td>\n",
       "      <td>0</td>\n",
       "      <td>0</td>\n",
       "      <td>0</td>\n",
       "      <td>0</td>\n",
       "      <td>0</td>\n",
       "      <td>0</td>\n",
       "      <td>0</td>\n",
       "      <td>0</td>\n",
       "    </tr>\n",
       "    <tr>\n",
       "      <th>10</th>\n",
       "      <td>9.031294e+06</td>\n",
       "      <td>22000000</td>\n",
       "      <td>0</td>\n",
       "      <td>0</td>\n",
       "      <td>0</td>\n",
       "      <td>0</td>\n",
       "      <td>0</td>\n",
       "      <td>0</td>\n",
       "      <td>0</td>\n",
       "      <td>0</td>\n",
       "      <td>...</td>\n",
       "      <td>1</td>\n",
       "      <td>0</td>\n",
       "      <td>0</td>\n",
       "      <td>0</td>\n",
       "      <td>0</td>\n",
       "      <td>0</td>\n",
       "      <td>0</td>\n",
       "      <td>0</td>\n",
       "      <td>0</td>\n",
       "      <td>0</td>\n",
       "    </tr>\n",
       "    <tr>\n",
       "      <th>11</th>\n",
       "      <td>1.720114e+07</td>\n",
       "      <td>0</td>\n",
       "      <td>0</td>\n",
       "      <td>0</td>\n",
       "      <td>0</td>\n",
       "      <td>0</td>\n",
       "      <td>0</td>\n",
       "      <td>0</td>\n",
       "      <td>0</td>\n",
       "      <td>0</td>\n",
       "      <td>...</td>\n",
       "      <td>0</td>\n",
       "      <td>0</td>\n",
       "      <td>0</td>\n",
       "      <td>0</td>\n",
       "      <td>0</td>\n",
       "      <td>0</td>\n",
       "      <td>0</td>\n",
       "      <td>0</td>\n",
       "      <td>0</td>\n",
       "      <td>0</td>\n",
       "    </tr>\n",
       "    <tr>\n",
       "      <th>12</th>\n",
       "      <td>1.133597e+08</td>\n",
       "      <td>210000000</td>\n",
       "      <td>0</td>\n",
       "      <td>0</td>\n",
       "      <td>0</td>\n",
       "      <td>0</td>\n",
       "      <td>0</td>\n",
       "      <td>0</td>\n",
       "      <td>0</td>\n",
       "      <td>0</td>\n",
       "      <td>...</td>\n",
       "      <td>0</td>\n",
       "      <td>0</td>\n",
       "      <td>0</td>\n",
       "      <td>0</td>\n",
       "      <td>0</td>\n",
       "      <td>0</td>\n",
       "      <td>0</td>\n",
       "      <td>0</td>\n",
       "      <td>0</td>\n",
       "      <td>0</td>\n",
       "    </tr>\n",
       "  </tbody>\n",
       "</table>\n",
       "<p>10 rows × 109 columns</p>\n",
       "</div>"
      ],
      "text/plain": [
       "    TotalCoinsMined TotalCoinSupply  Algorithm_1GB AES Pattern Search  \\\n",
       "0      4.199995e+01              42                                 0   \n",
       "2      1.055185e+09       532000000                                 0   \n",
       "4      0.000000e+00               0                                 0   \n",
       "5      2.927942e+10    314159265359                                 0   \n",
       "7      1.792718e+07        21000000                                 0   \n",
       "8      1.076842e+08               0                                 0   \n",
       "9      6.303924e+07        84000000                                 0   \n",
       "10     9.031294e+06        22000000                                 0   \n",
       "11     1.720114e+07               0                                 0   \n",
       "12     1.133597e+08       210000000                                 0   \n",
       "\n",
       "    Algorithm_536  Algorithm_Argon2  Algorithm_Argon2d  Algorithm_BLAKE256  \\\n",
       "0               0                 0                  0                   0   \n",
       "2               0                 0                  0                   0   \n",
       "4               0                 0                  0                   0   \n",
       "5               0                 0                  0                   0   \n",
       "7               0                 0                  0                   0   \n",
       "8               0                 0                  0                   0   \n",
       "9               0                 0                  0                   0   \n",
       "10              0                 0                  0                   0   \n",
       "11              0                 0                  0                   0   \n",
       "12              0                 0                  0                   0   \n",
       "\n",
       "    Algorithm_Blake  Algorithm_Blake2S  Algorithm_Blake2b  ...  \\\n",
       "0                 0                  0                  0  ...   \n",
       "2                 0                  0                  0  ...   \n",
       "4                 0                  0                  0  ...   \n",
       "5                 0                  0                  0  ...   \n",
       "7                 0                  0                  0  ...   \n",
       "8                 0                  0                  0  ...   \n",
       "9                 0                  0                  0  ...   \n",
       "10                0                  0                  0  ...   \n",
       "11                0                  0                  0  ...   \n",
       "12                0                  0                  0  ...   \n",
       "\n",
       "    ProofType_PoW/PoS  ProofType_PoW/PoS   ProofType_PoW/PoW  \\\n",
       "0                   1                   0                  0   \n",
       "2                   1                   0                  0   \n",
       "4                   1                   0                  0   \n",
       "5                   1                   0                  0   \n",
       "7                   0                   0                  0   \n",
       "8                   0                   0                  0   \n",
       "9                   0                   0                  0   \n",
       "10                  1                   0                  0   \n",
       "11                  0                   0                  0   \n",
       "12                  0                   0                  0   \n",
       "\n",
       "    ProofType_PoW/nPoS  ProofType_Pos  ProofType_Proof of Authority  \\\n",
       "0                    0              0                             0   \n",
       "2                    0              0                             0   \n",
       "4                    0              0                             0   \n",
       "5                    0              0                             0   \n",
       "7                    0              0                             0   \n",
       "8                    0              0                             0   \n",
       "9                    0              0                             0   \n",
       "10                   0              0                             0   \n",
       "11                   0              0                             0   \n",
       "12                   0              0                             0   \n",
       "\n",
       "    ProofType_Proof of Trust  ProofType_TPoS  ProofType_Zero-Knowledge Proof  \\\n",
       "0                          0               0                               0   \n",
       "2                          0               0                               0   \n",
       "4                          0               0                               0   \n",
       "5                          0               0                               0   \n",
       "7                          0               0                               0   \n",
       "8                          0               0                               0   \n",
       "9                          0               0                               0   \n",
       "10                         0               0                               0   \n",
       "11                         0               0                               0   \n",
       "12                         0               0                               0   \n",
       "\n",
       "    ProofType_dPoW/PoW  \n",
       "0                    0  \n",
       "2                    0  \n",
       "4                    0  \n",
       "5                    0  \n",
       "7                    0  \n",
       "8                    0  \n",
       "9                    0  \n",
       "10                   0  \n",
       "11                   0  \n",
       "12                   0  \n",
       "\n",
       "[10 rows x 109 columns]"
      ]
     },
     "execution_count": 420,
     "metadata": {},
     "output_type": "execute_result"
    }
   ],
   "source": [
    "# Use get_dummies() to create variables for text features.\n",
    "crypto_scaled = pd.get_dummies(data=crypto_df, columns=['Algorithm', 'ProofType'])\n",
    "print(crypto_scaled.shape)\n",
    "crypto_scaled.head(10)"
   ]
  },
  {
   "cell_type": "code",
   "execution_count": 421,
   "metadata": {},
   "outputs": [
    {
     "name": "stdout",
     "output_type": "stream",
     "text": [
      "[[-0.10282804 -0.03823841 -0.03823596 ... -0.03823596 -0.03823596\n",
      "  -0.03823596]\n",
      " [-0.07661326 -0.03823825 -0.03823596 ... -0.03823596 -0.03823596\n",
      "  -0.03823596]\n",
      " [-0.10282804 -0.03823841 -0.03823596 ... -0.03823596 -0.03823596\n",
      "  -0.03823596]\n",
      " ...\n",
      " [-0.0784756  -0.03823801 -0.03823596 ... -0.03823596 -0.03823596\n",
      "  -0.03823596]\n",
      " [-0.10264677 -0.0382384  -0.03823596 ... -0.03823596 -0.03823596\n",
      "  -0.03823596]\n",
      " [-0.10282485 -0.03823841 -0.03823596 ... -0.03823596 -0.03823596\n",
      "  -0.03823596]]\n"
     ]
    }
   ],
   "source": [
    "# Standardize the data with StandardScaler().\n",
    "crypto_scaled = StandardScaler().fit_transform(crypto_scaled)\n",
    "print(crypto_scaled)"
   ]
  },
  {
   "cell_type": "markdown",
   "metadata": {},
   "source": [
    "### Deliverable 2: Reducing Data Dimensions Using PCA"
   ]
  },
  {
   "cell_type": "code",
   "execution_count": 422,
   "metadata": {},
   "outputs": [
    {
     "data": {
      "text/plain": [
       "array([[-0.25527958,  1.19533585, -0.46932219],\n",
       "       [-0.24083354,  1.19416803, -0.46997245],\n",
       "       [-0.12886361,  0.84067095, -0.35382029],\n",
       "       ...,\n",
       "       [-0.10586378, -2.31637382,  0.26964612],\n",
       "       [-0.23158259, -2.00766761,  0.27196833],\n",
       "       [-0.12166026,  0.72513287, -0.16351273]])"
      ]
     },
     "execution_count": 422,
     "metadata": {},
     "output_type": "execute_result"
    }
   ],
   "source": [
    "# Using PCA to reduce dimension to three principal components.\n",
    "pca = PCA(n_components=3)\n",
    "\n",
    "crypto_pca = pca.fit_transform(crypto_scaled)\n",
    "\n",
    "crypto_pca"
   ]
  },
  {
   "cell_type": "code",
   "execution_count": 423,
   "metadata": {},
   "outputs": [
    {
     "data": {
      "text/html": [
       "<div>\n",
       "<style scoped>\n",
       "    .dataframe tbody tr th:only-of-type {\n",
       "        vertical-align: middle;\n",
       "    }\n",
       "\n",
       "    .dataframe tbody tr th {\n",
       "        vertical-align: top;\n",
       "    }\n",
       "\n",
       "    .dataframe thead th {\n",
       "        text-align: right;\n",
       "    }\n",
       "</style>\n",
       "<table border=\"1\" class=\"dataframe\">\n",
       "  <thead>\n",
       "    <tr style=\"text-align: right;\">\n",
       "      <th></th>\n",
       "      <th>PC 1</th>\n",
       "      <th>PC 2</th>\n",
       "      <th>PC 3</th>\n",
       "    </tr>\n",
       "  </thead>\n",
       "  <tbody>\n",
       "    <tr>\n",
       "      <th>0</th>\n",
       "      <td>-0.255280</td>\n",
       "      <td>1.195336</td>\n",
       "      <td>-0.469322</td>\n",
       "    </tr>\n",
       "    <tr>\n",
       "      <th>2</th>\n",
       "      <td>-0.240834</td>\n",
       "      <td>1.194168</td>\n",
       "      <td>-0.469972</td>\n",
       "    </tr>\n",
       "    <tr>\n",
       "      <th>4</th>\n",
       "      <td>-0.128864</td>\n",
       "      <td>0.840671</td>\n",
       "      <td>-0.353820</td>\n",
       "    </tr>\n",
       "    <tr>\n",
       "      <th>5</th>\n",
       "      <td>0.287404</td>\n",
       "      <td>1.990405</td>\n",
       "      <td>-0.568933</td>\n",
       "    </tr>\n",
       "    <tr>\n",
       "      <th>7</th>\n",
       "      <td>-0.177820</td>\n",
       "      <td>-1.451417</td>\n",
       "      <td>0.098989</td>\n",
       "    </tr>\n",
       "    <tr>\n",
       "      <th>8</th>\n",
       "      <td>-0.268246</td>\n",
       "      <td>-2.159427</td>\n",
       "      <td>0.265452</td>\n",
       "    </tr>\n",
       "    <tr>\n",
       "      <th>9</th>\n",
       "      <td>-0.303618</td>\n",
       "      <td>-1.096802</td>\n",
       "      <td>-0.016541</td>\n",
       "    </tr>\n",
       "    <tr>\n",
       "      <th>10</th>\n",
       "      <td>-0.216349</td>\n",
       "      <td>1.543631</td>\n",
       "      <td>-0.480741</td>\n",
       "    </tr>\n",
       "    <tr>\n",
       "      <th>11</th>\n",
       "      <td>-0.268110</td>\n",
       "      <td>-2.214056</td>\n",
       "      <td>0.360319</td>\n",
       "    </tr>\n",
       "    <tr>\n",
       "      <th>12</th>\n",
       "      <td>-0.268168</td>\n",
       "      <td>-2.159433</td>\n",
       "      <td>0.265449</td>\n",
       "    </tr>\n",
       "  </tbody>\n",
       "</table>\n",
       "</div>"
      ],
      "text/plain": [
       "        PC 1      PC 2      PC 3\n",
       "0  -0.255280  1.195336 -0.469322\n",
       "2  -0.240834  1.194168 -0.469972\n",
       "4  -0.128864  0.840671 -0.353820\n",
       "5   0.287404  1.990405 -0.568933\n",
       "7  -0.177820 -1.451417  0.098989\n",
       "8  -0.268246 -2.159427  0.265452\n",
       "9  -0.303618 -1.096802 -0.016541\n",
       "10 -0.216349  1.543631 -0.480741\n",
       "11 -0.268110 -2.214056  0.360319\n",
       "12 -0.268168 -2.159433  0.265449"
      ]
     },
     "execution_count": 423,
     "metadata": {},
     "output_type": "execute_result"
    }
   ],
   "source": [
    "# Create a DataFrame with the three principal components.\n",
    "pcs_df = pd.DataFrame(data= crypto_pca, columns=['PC 1', 'PC 2', 'PC 3'], index=crypto_df.index)\n",
    "pcs_df.head(10)"
   ]
  },
  {
   "cell_type": "markdown",
   "metadata": {},
   "source": [
    "### Deliverable 3: Clustering Crytocurrencies Using K-Means\n",
    "\n",
    "#### Finding the Best Value for `k` Using the Elbow Curve"
   ]
  },
  {
   "cell_type": "code",
   "execution_count": 424,
   "metadata": {},
   "outputs": [],
   "source": [
    "# Create an elbow curve to find the best value for K.\n",
    "inertia = []\n",
    "k = list(range(1, 11))\n"
   ]
  },
  {
   "cell_type": "markdown",
   "metadata": {},
   "source": [
    "Running K-Means with `k=4`"
   ]
  },
  {
   "cell_type": "code",
   "execution_count": 425,
   "metadata": {},
   "outputs": [
    {
     "name": "stdout",
     "output_type": "stream",
     "text": [
      "KMeans(n_clusters=1, random_state=0)\n",
      "[0 0 0 0 0 0 0 0 0 0 0 0 0 0 0 0 0 0 0 0 0 0 0 0 0 0 0 0 0 0 0 0 0 0 0 0 0\n",
      " 0 0 0 0 0 0 0 0 0 0 0 0 0 0 0 0 0 0 0 0 0 0 0 0 0 0 0 0 0 0 0 0 0 0 0 0 0\n",
      " 0 0 0 0 0 0 0 0 0 0 0 0 0 0 0 0 0 0 0 0 0 0 0 0 0 0 0 0 0 0 0 0 0 0 0 0 0\n",
      " 0 0 0 0 0 0 0 0 0 0 0 0 0 0 0 0 0 0 0 0 0 0 0 0 0 0 0 0 0 0 0 0 0 0 0 0 0\n",
      " 0 0 0 0 0 0 0 0 0 0 0 0 0 0 0 0 0 0 0 0 0 0 0 0 0 0 0 0 0 0 0 0 0 0 0 0 0\n",
      " 0 0 0 0 0 0 0 0 0 0 0 0 0 0 0 0 0 0 0 0 0 0 0 0 0 0 0 0 0 0 0 0 0 0 0 0 0\n",
      " 0 0 0 0 0 0 0 0 0 0 0 0 0 0 0 0 0 0 0 0 0 0 0 0 0 0 0 0 0 0 0 0 0 0 0 0 0\n",
      " 0 0 0 0 0 0 0 0 0 0 0 0 0 0 0 0 0 0 0 0 0 0 0 0 0 0 0 0 0 0 0 0 0 0 0 0 0\n",
      " 0 0 0 0 0 0 0 0 0 0 0 0 0 0 0 0 0 0 0 0 0 0 0 0 0 0 0 0 0 0 0 0 0 0 0 0 0\n",
      " 0 0 0 0 0 0 0 0 0 0 0 0 0 0 0 0 0 0 0 0 0 0 0 0 0 0 0 0 0 0 0 0 0 0 0 0 0\n",
      " 0 0 0 0 0 0 0 0 0 0 0 0 0 0 0 0 0 0 0 0 0 0 0 0 0 0 0 0 0 0 0 0 0 0 0 0 0\n",
      " 0 0 0 0 0 0 0 0 0 0 0 0 0 0 0 0 0 0 0 0 0 0 0 0 0 0 0 0 0 0 0 0 0 0 0 0 0\n",
      " 0 0 0 0 0 0 0 0 0 0 0 0 0 0 0 0 0 0 0 0 0 0 0 0 0 0 0 0 0 0 0 0 0 0 0 0 0\n",
      " 0 0 0 0 0 0 0 0 0 0 0 0 0 0 0 0 0 0 0 0 0 0 0 0 0 0 0 0 0 0 0 0 0 0 0 0 0\n",
      " 0 0 0 0 0 0 0 0 0 0 0 0 0 0 0 0 0 0 0 0 0 0 0 0 0 0 0 0 0 0 0 0 0 0 0 0 0\n",
      " 0 0 0 0 0 0 0 0 0 0 0 0 0 0 0 0 0 0 0 0 0 0 0 0 0 0 0 0 0 0 0 0 0 0 0 0 0\n",
      " 0 0 0 0 0 0 0 0 0 0 0 0 0 0 0 0 0 0 0 0 0 0 0 0 0 0 0 0 0 0 0 0 0 0 0 0 0\n",
      " 0 0 0 0 0 0 0 0 0 0 0 0 0 0 0 0 0 0 0 0 0 0 0 0 0 0 0 0 0 0 0 0 0 0 0 0 0\n",
      " 0 0 0 0 0 0 0 0 0 0 0 0 0 0 0 0 0 0 0]\n"
     ]
    }
   ],
   "source": [
    "# Initialize the K-Means model.\n",
    "model = KMeans(n_clusters=1, random_state=0)\n",
    "\n",
    "# Fit the model\n",
    "model.fit(pcs_df)\n",
    "print(model.fit(pcs_df))\n",
    "\n",
    "# Predict clusters\n",
    "predictions = model.predict(pcs_df)\n",
    "print(predictions)"
   ]
  },
  {
   "cell_type": "code",
   "execution_count": 426,
   "metadata": {},
   "outputs": [
    {
     "name": "stdout",
     "output_type": "stream",
     "text": [
      "(685, 9)\n"
     ]
    },
    {
     "data": {
      "text/html": [
       "<div>\n",
       "<style scoped>\n",
       "    .dataframe tbody tr th:only-of-type {\n",
       "        vertical-align: middle;\n",
       "    }\n",
       "\n",
       "    .dataframe tbody tr th {\n",
       "        vertical-align: top;\n",
       "    }\n",
       "\n",
       "    .dataframe thead th {\n",
       "        text-align: right;\n",
       "    }\n",
       "</style>\n",
       "<table border=\"1\" class=\"dataframe\">\n",
       "  <thead>\n",
       "    <tr style=\"text-align: right;\">\n",
       "      <th></th>\n",
       "      <th>Algorithm</th>\n",
       "      <th>ProofType</th>\n",
       "      <th>TotalCoinsMined</th>\n",
       "      <th>TotalCoinSupply</th>\n",
       "      <th>PC 1</th>\n",
       "      <th>PC 2</th>\n",
       "      <th>PC 3</th>\n",
       "      <th>CoinName</th>\n",
       "      <th>class</th>\n",
       "    </tr>\n",
       "  </thead>\n",
       "  <tbody>\n",
       "    <tr>\n",
       "      <th>0</th>\n",
       "      <td>Scrypt</td>\n",
       "      <td>PoW/PoS</td>\n",
       "      <td>4.199995e+01</td>\n",
       "      <td>42</td>\n",
       "      <td>-0.255280</td>\n",
       "      <td>1.195336</td>\n",
       "      <td>-0.469322</td>\n",
       "      <td>42 Coin</td>\n",
       "      <td>0</td>\n",
       "    </tr>\n",
       "    <tr>\n",
       "      <th>2</th>\n",
       "      <td>Scrypt</td>\n",
       "      <td>PoW/PoS</td>\n",
       "      <td>1.055185e+09</td>\n",
       "      <td>532000000</td>\n",
       "      <td>-0.240834</td>\n",
       "      <td>1.194168</td>\n",
       "      <td>-0.469972</td>\n",
       "      <td>404Coin</td>\n",
       "      <td>0</td>\n",
       "    </tr>\n",
       "    <tr>\n",
       "      <th>4</th>\n",
       "      <td>SHA-256</td>\n",
       "      <td>PoW/PoS</td>\n",
       "      <td>0.000000e+00</td>\n",
       "      <td>0</td>\n",
       "      <td>-0.128864</td>\n",
       "      <td>0.840671</td>\n",
       "      <td>-0.353820</td>\n",
       "      <td>808</td>\n",
       "      <td>0</td>\n",
       "    </tr>\n",
       "    <tr>\n",
       "      <th>5</th>\n",
       "      <td>X13</td>\n",
       "      <td>PoW/PoS</td>\n",
       "      <td>2.927942e+10</td>\n",
       "      <td>314159265359</td>\n",
       "      <td>0.287404</td>\n",
       "      <td>1.990405</td>\n",
       "      <td>-0.568933</td>\n",
       "      <td>EliteCoin</td>\n",
       "      <td>0</td>\n",
       "    </tr>\n",
       "    <tr>\n",
       "      <th>7</th>\n",
       "      <td>SHA-256</td>\n",
       "      <td>PoW</td>\n",
       "      <td>1.792718e+07</td>\n",
       "      <td>21000000</td>\n",
       "      <td>-0.177820</td>\n",
       "      <td>-1.451417</td>\n",
       "      <td>0.098989</td>\n",
       "      <td>Bitcoin</td>\n",
       "      <td>0</td>\n",
       "    </tr>\n",
       "    <tr>\n",
       "      <th>8</th>\n",
       "      <td>Ethash</td>\n",
       "      <td>PoW</td>\n",
       "      <td>1.076842e+08</td>\n",
       "      <td>0</td>\n",
       "      <td>-0.268246</td>\n",
       "      <td>-2.159427</td>\n",
       "      <td>0.265452</td>\n",
       "      <td>Ethereum</td>\n",
       "      <td>0</td>\n",
       "    </tr>\n",
       "    <tr>\n",
       "      <th>9</th>\n",
       "      <td>Scrypt</td>\n",
       "      <td>PoW</td>\n",
       "      <td>6.303924e+07</td>\n",
       "      <td>84000000</td>\n",
       "      <td>-0.303618</td>\n",
       "      <td>-1.096802</td>\n",
       "      <td>-0.016541</td>\n",
       "      <td>Litecoin</td>\n",
       "      <td>0</td>\n",
       "    </tr>\n",
       "    <tr>\n",
       "      <th>10</th>\n",
       "      <td>X11</td>\n",
       "      <td>PoW/PoS</td>\n",
       "      <td>9.031294e+06</td>\n",
       "      <td>22000000</td>\n",
       "      <td>-0.216349</td>\n",
       "      <td>1.543631</td>\n",
       "      <td>-0.480741</td>\n",
       "      <td>Dash</td>\n",
       "      <td>0</td>\n",
       "    </tr>\n",
       "    <tr>\n",
       "      <th>11</th>\n",
       "      <td>CryptoNight-V7</td>\n",
       "      <td>PoW</td>\n",
       "      <td>1.720114e+07</td>\n",
       "      <td>0</td>\n",
       "      <td>-0.268110</td>\n",
       "      <td>-2.214056</td>\n",
       "      <td>0.360319</td>\n",
       "      <td>Monero</td>\n",
       "      <td>0</td>\n",
       "    </tr>\n",
       "    <tr>\n",
       "      <th>12</th>\n",
       "      <td>Ethash</td>\n",
       "      <td>PoW</td>\n",
       "      <td>1.133597e+08</td>\n",
       "      <td>210000000</td>\n",
       "      <td>-0.268168</td>\n",
       "      <td>-2.159433</td>\n",
       "      <td>0.265449</td>\n",
       "      <td>Ethereum Classic</td>\n",
       "      <td>0</td>\n",
       "    </tr>\n",
       "  </tbody>\n",
       "</table>\n",
       "</div>"
      ],
      "text/plain": [
       "         Algorithm ProofType  TotalCoinsMined TotalCoinSupply      PC 1  \\\n",
       "0           Scrypt   PoW/PoS     4.199995e+01              42 -0.255280   \n",
       "2           Scrypt   PoW/PoS     1.055185e+09       532000000 -0.240834   \n",
       "4          SHA-256   PoW/PoS     0.000000e+00               0 -0.128864   \n",
       "5              X13   PoW/PoS     2.927942e+10    314159265359  0.287404   \n",
       "7          SHA-256       PoW     1.792718e+07        21000000 -0.177820   \n",
       "8           Ethash       PoW     1.076842e+08               0 -0.268246   \n",
       "9           Scrypt       PoW     6.303924e+07        84000000 -0.303618   \n",
       "10             X11   PoW/PoS     9.031294e+06        22000000 -0.216349   \n",
       "11  CryptoNight-V7       PoW     1.720114e+07               0 -0.268110   \n",
       "12          Ethash       PoW     1.133597e+08       210000000 -0.268168   \n",
       "\n",
       "        PC 2      PC 3          CoinName  class  \n",
       "0   1.195336 -0.469322           42 Coin      0  \n",
       "2   1.194168 -0.469972           404Coin      0  \n",
       "4   0.840671 -0.353820               808      0  \n",
       "5   1.990405 -0.568933         EliteCoin      0  \n",
       "7  -1.451417  0.098989           Bitcoin      0  \n",
       "8  -2.159427  0.265452          Ethereum      0  \n",
       "9  -1.096802 -0.016541          Litecoin      0  \n",
       "10  1.543631 -0.480741              Dash      0  \n",
       "11 -2.214056  0.360319            Monero      0  \n",
       "12 -2.159433  0.265449  Ethereum Classic      0  "
      ]
     },
     "execution_count": 426,
     "metadata": {},
     "output_type": "execute_result"
    }
   ],
   "source": [
    "# Create a new DataFrame including predicted clusters and cryptocurrencies features.\n",
    "coin_names = pd.DataFrame(crypto_df, index=crypto_df.index)\n",
    "\n",
    "# Concatentate the crypto_df and pcs_df DataFrames on the same columns.\n",
    "clustered_df = pd.concat([crypto_df, pcs_df ], axis=1, sort=False)\n",
    "\n",
    "#  Add a new column, \"CoinName\" to the clustered_df DataFrame that holds the names of the cryptocurrencies. \n",
    "clustered_df[\"CoinName\"] = coins_names [\"CoinName\"]\n",
    "\n",
    "#  Add a new column, \"Class\" to the clustered_df DataFrame that holds the predictions.\n",
    "clustered_df[\"class\"]=model.labels_\n",
    "\n",
    "# Print the shape of the clustered_df\n",
    "print(clustered_df.shape)\n",
    "clustered_df.head(10)"
   ]
  },
  {
   "cell_type": "markdown",
   "metadata": {},
   "source": [
    "### Deliverable 4: Visualizing Cryptocurrencies Results\n",
    "\n",
    "#### 3D-Scatter with Clusters"
   ]
  },
  {
   "cell_type": "code",
   "execution_count": 428,
   "metadata": {},
   "outputs": [
    {
     "data": {
      "application/vnd.plotly.v1+json": {
       "config": {
        "plotlyServerURL": "https://plot.ly"
       },
       "data": [
        {
         "customdata": [
          [
           "Scrypt"
          ],
          [
           "Scrypt"
          ],
          [
           "SHA-256"
          ],
          [
           "X13"
          ],
          [
           "SHA-256"
          ],
          [
           "Ethash"
          ],
          [
           "Scrypt"
          ],
          [
           "X11"
          ],
          [
           "CryptoNight-V7"
          ],
          [
           "Ethash"
          ],
          [
           "Equihash"
          ],
          [
           "SHA-512"
          ],
          [
           "Multiple"
          ],
          [
           "SHA-256"
          ],
          [
           "X11"
          ],
          [
           "SHA-256"
          ],
          [
           "Scrypt"
          ],
          [
           "X15"
          ],
          [
           "X11"
          ],
          [
           "SHA-256"
          ],
          [
           "X13"
          ],
          [
           "X13"
          ],
          [
           "Scrypt"
          ],
          [
           "Scrypt"
          ],
          [
           "Scrypt"
          ],
          [
           "SHA-256"
          ],
          [
           "Scrypt"
          ],
          [
           "Multiple"
          ],
          [
           "Scrypt"
          ],
          [
           "SHA-256"
          ],
          [
           "Scrypt"
          ],
          [
           "Scrypt"
          ],
          [
           "Scrypt"
          ],
          [
           "Quark"
          ],
          [
           "Groestl"
          ],
          [
           "Scrypt"
          ],
          [
           "X11"
          ],
          [
           "Scrypt"
          ],
          [
           "Scrypt"
          ],
          [
           "Scrypt"
          ],
          [
           "Scrypt"
          ],
          [
           "Scrypt"
          ],
          [
           "Scrypt"
          ],
          [
           "Multiple"
          ],
          [
           "Scrypt"
          ],
          [
           "X11"
          ],
          [
           "Scrypt"
          ],
          [
           "SHA-256"
          ],
          [
           "Groestl"
          ],
          [
           "Multiple"
          ],
          [
           "X11"
          ],
          [
           "Scrypt"
          ],
          [
           "SHA-256"
          ],
          [
           "Scrypt"
          ],
          [
           "Scrypt"
          ],
          [
           "Scrypt"
          ],
          [
           "Scrypt"
          ],
          [
           "Scrypt"
          ],
          [
           "PoS"
          ],
          [
           "Scrypt"
          ],
          [
           "X11"
          ],
          [
           "NIST5"
          ],
          [
           "SHA-256"
          ],
          [
           "Scrypt"
          ],
          [
           "Scrypt"
          ],
          [
           "NeoScrypt"
          ],
          [
           "Scrypt"
          ],
          [
           "Scrypt"
          ],
          [
           "Scrypt"
          ],
          [
           "X11"
          ],
          [
           "X15"
          ],
          [
           "Scrypt"
          ],
          [
           "Multiple"
          ],
          [
           "X11"
          ],
          [
           "Scrypt"
          ],
          [
           "X11"
          ],
          [
           "SHA-256"
          ],
          [
           "X11"
          ],
          [
           "X13"
          ],
          [
           "Scrypt"
          ],
          [
           "Scrypt"
          ],
          [
           "Scrypt"
          ],
          [
           "Scrypt"
          ],
          [
           "X11"
          ],
          [
           "SHA3"
          ],
          [
           "Scrypt"
          ],
          [
           "HybridScryptHash256"
          ],
          [
           "Scrypt"
          ],
          [
           "Scrypt"
          ],
          [
           "SHA-256"
          ],
          [
           "Scrypt"
          ],
          [
           "X13"
          ],
          [
           "SHA-256"
          ],
          [
           "Scrypt"
          ],
          [
           "SHA-256"
          ],
          [
           "Scrypt"
          ],
          [
           "X13"
          ],
          [
           "NeoScrypt"
          ],
          [
           "Scrypt"
          ],
          [
           "Scrypt"
          ],
          [
           "Scrypt"
          ],
          [
           "Scrypt"
          ],
          [
           "Scrypt"
          ],
          [
           "Scrypt"
          ],
          [
           "X15"
          ],
          [
           "Scrypt"
          ],
          [
           "Scrypt"
          ],
          [
           "Scrypt-n"
          ],
          [
           "Scrypt"
          ],
          [
           "X11"
          ],
          [
           "X11"
          ],
          [
           "SHA-256"
          ],
          [
           "Multiple"
          ],
          [
           "SHA-256"
          ],
          [
           "PHI1612"
          ],
          [
           "X11"
          ],
          [
           "SHA-256"
          ],
          [
           "SHA-256"
          ],
          [
           "SHA-256"
          ],
          [
           "SHA-256"
          ],
          [
           "X11"
          ],
          [
           "Scrypt"
          ],
          [
           "Scrypt"
          ],
          [
           "X13"
          ],
          [
           "Scrypt"
          ],
          [
           "X11"
          ],
          [
           "Scrypt"
          ],
          [
           "Lyra2REv2"
          ],
          [
           "Scrypt"
          ],
          [
           "Scrypt"
          ],
          [
           "X11"
          ],
          [
           "Multiple"
          ],
          [
           "SHA-256"
          ],
          [
           "X13"
          ],
          [
           "Scrypt"
          ],
          [
           "Scrypt"
          ],
          [
           "CryptoNight"
          ],
          [
           "CryptoNight"
          ],
          [
           "Shabal256"
          ],
          [
           "Counterparty"
          ],
          [
           "Scrypt"
          ],
          [
           "SHA-256"
          ],
          [
           "SHA-256"
          ],
          [
           "Scrypt"
          ],
          [
           "Groestl"
          ],
          [
           "Scrypt"
          ],
          [
           "Scrypt"
          ],
          [
           "Scrypt"
          ],
          [
           "X13"
          ],
          [
           "Scrypt"
          ],
          [
           "Scrypt"
          ],
          [
           "Scrypt"
          ],
          [
           "SHA-256"
          ],
          [
           "Scrypt"
          ],
          [
           "X13"
          ],
          [
           "X13"
          ],
          [
           "Scrypt"
          ],
          [
           "X11"
          ],
          [
           "Momentum"
          ],
          [
           "Stanford Folding"
          ],
          [
           "X11"
          ],
          [
           "Multiple"
          ],
          [
           "QuBit"
          ],
          [
           "X15"
          ],
          [
           "Scrypt"
          ],
          [
           "Scrypt"
          ],
          [
           "Scrypt"
          ],
          [
           "Scrypt"
          ],
          [
           "SHA-256"
          ],
          [
           "M7 POW"
          ],
          [
           "Scrypt"
          ],
          [
           "X11"
          ],
          [
           "Scrypt"
          ],
          [
           "SHA-256"
          ],
          [
           "Scrypt"
          ],
          [
           "Scrypt"
          ],
          [
           "X11"
          ],
          [
           "X11"
          ],
          [
           "SHA3"
          ],
          [
           "X11"
          ],
          [
           "Scrypt"
          ],
          [
           "Lyra2RE"
          ],
          [
           "SHA-256"
          ],
          [
           "QUAIT"
          ],
          [
           "X11"
          ],
          [
           "vDPOS"
          ],
          [
           "X11"
          ],
          [
           "X11"
          ],
          [
           "Scrypt"
          ],
          [
           "Scrypt"
          ],
          [
           "Scrypt"
          ],
          [
           "Ethash"
          ],
          [
           "X11"
          ],
          [
           "X13"
          ],
          [
           "Blake2b"
          ],
          [
           "SHA-256"
          ],
          [
           "X13"
          ],
          [
           "X15"
          ],
          [
           "X11"
          ],
          [
           "SHA-256"
          ],
          [
           "BLAKE256"
          ],
          [
           "Scrypt"
          ],
          [
           "Scrypt"
          ],
          [
           "1GB AES Pattern Search"
          ],
          [
           "SHA-256"
          ],
          [
           "X11"
          ],
          [
           "Scrypt"
          ],
          [
           "CryptoNight"
          ],
          [
           "SHA-256"
          ],
          [
           "Quark"
          ],
          [
           "SHA-256"
          ],
          [
           "NIST5"
          ],
          [
           "Blake"
          ],
          [
           "Scrypt"
          ],
          [
           "Scrypt"
          ],
          [
           "SHA-256"
          ],
          [
           "X11"
          ],
          [
           "Scrypt"
          ],
          [
           "Scrypt-n"
          ],
          [
           "X11"
          ],
          [
           "Scrypt"
          ],
          [
           "Dagger"
          ],
          [
           "Scrypt"
          ],
          [
           "SHA-256"
          ],
          [
           "CryptoNight-Lite"
          ],
          [
           "X11GOST"
          ],
          [
           "X11"
          ],
          [
           "SHA-256"
          ],
          [
           "Scrypt"
          ],
          [
           "SHA-256"
          ],
          [
           "Scrypt"
          ],
          [
           "PoS"
          ],
          [
           "Scrypt"
          ],
          [
           "X11"
          ],
          [
           "X11"
          ],
          [
           "X11"
          ],
          [
           "X11"
          ],
          [
           "PoS"
          ],
          [
           "SHA-256"
          ],
          [
           "SHA-256"
          ],
          [
           "SHA-256"
          ],
          [
           "NIST5"
          ],
          [
           "X15"
          ],
          [
           "X11"
          ],
          [
           "NIST5"
          ],
          [
           "Scrypt"
          ],
          [
           "Scrypt"
          ],
          [
           "Scrypt"
          ],
          [
           "POS 3.0"
          ],
          [
           "Scrypt"
          ],
          [
           "Scrypt"
          ],
          [
           "Scrypt"
          ],
          [
           "X13"
          ],
          [
           "X11"
          ],
          [
           "X11"
          ],
          [
           "Equihash"
          ],
          [
           "X11"
          ],
          [
           "X11"
          ],
          [
           "Scrypt"
          ],
          [
           "CryptoNight"
          ],
          [
           "SHA-256"
          ],
          [
           "SHA-256"
          ],
          [
           "X11"
          ],
          [
           "Scrypt"
          ],
          [
           "Multiple"
          ],
          [
           "Scrypt"
          ],
          [
           "Scrypt"
          ],
          [
           "X11"
          ],
          [
           "Scrypt"
          ],
          [
           "SHA-256"
          ],
          [
           "Scrypt"
          ],
          [
           "Scrypt"
          ],
          [
           "SHA-256D"
          ],
          [
           "PoS"
          ],
          [
           "Scrypt"
          ],
          [
           "Scrypt"
          ],
          [
           "X11"
          ],
          [
           "Scrypt-n"
          ],
          [
           "Lyra2Z"
          ],
          [
           "SHA-256"
          ],
          [
           "PoS"
          ],
          [
           "X13"
          ],
          [
           "Quark"
          ],
          [
           "X14"
          ],
          [
           "PoS"
          ],
          [
           "SHA-256D"
          ],
          [
           "Ethash"
          ],
          [
           "SHA-256"
          ],
          [
           "Equihash"
          ],
          [
           "DPoS"
          ],
          [
           "X11"
          ],
          [
           "Scrypt"
          ],
          [
           "Scrypt"
          ],
          [
           "Equihash"
          ],
          [
           "X11"
          ],
          [
           "X13"
          ],
          [
           "X11"
          ],
          [
           "PoS"
          ],
          [
           "SHA-256D"
          ],
          [
           "Scrypt"
          ],
          [
           "Scrypt"
          ],
          [
           "Scrypt"
          ],
          [
           "X11"
          ],
          [
           "PoS"
          ],
          [
           "X11"
          ],
          [
           "SHA-256"
          ],
          [
           "Scrypt"
          ],
          [
           "X11"
          ],
          [
           "Scrypt"
          ],
          [
           "Scrypt"
          ],
          [
           "X11"
          ],
          [
           "CryptoNight"
          ],
          [
           "Scrypt"
          ],
          [
           "Scrypt"
          ],
          [
           "Scrypt"
          ],
          [
           "Scrypt"
          ],
          [
           "Quark"
          ],
          [
           "QuBit"
          ],
          [
           "Scrypt"
          ],
          [
           "CryptoNight"
          ],
          [
           "X11"
          ],
          [
           "Lyra2RE"
          ],
          [
           "X13"
          ],
          [
           "PoS"
          ],
          [
           "Scrypt"
          ],
          [
           "SHA-256"
          ],
          [
           "X11"
          ],
          [
           "X11"
          ],
          [
           "X11"
          ],
          [
           "Scrypt"
          ],
          [
           "X11"
          ],
          [
           "Scrypt"
          ],
          [
           "Scrypt"
          ],
          [
           "CryptoNight-V7"
          ],
          [
           "Scrypt"
          ],
          [
           "Scrypt"
          ],
          [
           "Keccak"
          ],
          [
           "Scrypt"
          ],
          [
           "X13"
          ],
          [
           "X11"
          ],
          [
           "Equihash"
          ],
          [
           "Scrypt"
          ],
          [
           "Scrypt"
          ],
          [
           "Lyra2RE"
          ],
          [
           "Ethash"
          ],
          [
           "X11"
          ],
          [
           "Scrypt"
          ],
          [
           "Dagger-Hashimoto"
          ],
          [
           "X11"
          ],
          [
           "Blake2S"
          ],
          [
           "X11"
          ],
          [
           "Scrypt"
          ],
          [
           "Scrypt"
          ],
          [
           "PoS"
          ],
          [
           "X11"
          ],
          [
           "NIST5"
          ],
          [
           "PoS"
          ],
          [
           "X11"
          ],
          [
           "Scrypt"
          ],
          [
           "Scrypt"
          ],
          [
           "Scrypt"
          ],
          [
           "Scrypt"
          ],
          [
           "SHA-256"
          ],
          [
           "X11"
          ],
          [
           "Scrypt"
          ],
          [
           "Scrypt"
          ],
          [
           "Scrypt"
          ],
          [
           "SHA-256"
          ],
          [
           "PoS"
          ],
          [
           "Scrypt"
          ],
          [
           "X11"
          ],
          [
           "X15"
          ],
          [
           "SHA-256"
          ],
          [
           "Scrypt"
          ],
          [
           "POS 3.0"
          ],
          [
           "CryptoNight-V7"
          ],
          [
           "536"
          ],
          [
           "Argon2d"
          ],
          [
           "Blake2b"
          ],
          [
           "Cloverhash"
          ],
          [
           "CryptoNight"
          ],
          [
           "NIST5"
          ],
          [
           "X11"
          ],
          [
           "NIST5"
          ],
          [
           "Skein"
          ],
          [
           "Scrypt"
          ],
          [
           "X13"
          ],
          [
           "Scrypt"
          ],
          [
           "X11"
          ],
          [
           "X11"
          ],
          [
           "X11"
          ],
          [
           "Scrypt"
          ],
          [
           "CryptoNight"
          ],
          [
           "X13"
          ],
          [
           "Time Travel"
          ],
          [
           "Scrypt"
          ],
          [
           "Keccak"
          ],
          [
           "SkunkHash v2 Raptor"
          ],
          [
           "X11"
          ],
          [
           "Skein"
          ],
          [
           "SHA-256"
          ],
          [
           "X11"
          ],
          [
           "Scrypt"
          ],
          [
           "Scrypt"
          ],
          [
           "VeChainThor Authority"
          ],
          [
           "Scrypt"
          ],
          [
           "PoS"
          ],
          [
           "Scrypt"
          ],
          [
           "Scrypt"
          ],
          [
           "Scrypt"
          ],
          [
           "Scrypt"
          ],
          [
           "Scrypt"
          ],
          [
           "Scrypt"
          ],
          [
           "Scrypt"
          ],
          [
           "Scrypt"
          ],
          [
           "CryptoNight"
          ],
          [
           "SHA-512"
          ],
          [
           "Ouroboros"
          ],
          [
           "X11"
          ],
          [
           "Equihash"
          ],
          [
           "NeoScrypt"
          ],
          [
           "X11"
          ],
          [
           "Scrypt"
          ],
          [
           "NeoScrypt"
          ],
          [
           "Lyra2REv2"
          ],
          [
           "Equihash"
          ],
          [
           "Scrypt"
          ],
          [
           "SHA-256"
          ],
          [
           "NIST5"
          ],
          [
           "PHI1612"
          ],
          [
           "Dagger"
          ],
          [
           "Scrypt"
          ],
          [
           "Quark"
          ],
          [
           "Scrypt"
          ],
          [
           "POS 2.0"
          ],
          [
           "Scrypt"
          ],
          [
           "SkunkHash"
          ],
          [
           "X11"
          ],
          [
           "Quark"
          ],
          [
           "SHA-256"
          ],
          [
           "X11"
          ],
          [
           "NeoScrypt"
          ],
          [
           "Scrypt"
          ],
          [
           "Ethash"
          ],
          [
           "Scrypt"
          ],
          [
           "NeoScrypt"
          ],
          [
           "Quark"
          ],
          [
           "X11"
          ],
          [
           "DPoS"
          ],
          [
           "NIST5"
          ],
          [
           "X13"
          ],
          [
           "Multiple"
          ],
          [
           "Scrypt"
          ],
          [
           "CryptoNight"
          ],
          [
           "CryptoNight"
          ],
          [
           "Ethash"
          ],
          [
           "NIST5"
          ],
          [
           "Quark"
          ],
          [
           "X11"
          ],
          [
           "SHA-256"
          ],
          [
           "CryptoNight-V7"
          ],
          [
           "Scrypt"
          ],
          [
           "Scrypt"
          ],
          [
           "Scrypt"
          ],
          [
           "X11"
          ],
          [
           "SHA-256"
          ],
          [
           "BLAKE256"
          ],
          [
           "X11"
          ],
          [
           "Scrypt"
          ],
          [
           "NeoScrypt"
          ],
          [
           "Quark"
          ],
          [
           "NeoScrypt"
          ],
          [
           "Scrypt"
          ],
          [
           "Scrypt"
          ],
          [
           "Scrypt"
          ],
          [
           "X11"
          ],
          [
           "X11"
          ],
          [
           "SHA-256"
          ],
          [
           "C11"
          ],
          [
           "Scrypt"
          ],
          [
           "Scrypt"
          ],
          [
           "POS 3.0"
          ],
          [
           "Ethash"
          ],
          [
           "Scrypt"
          ],
          [
           "CryptoNight"
          ],
          [
           "SkunkHash"
          ],
          [
           "Scrypt"
          ],
          [
           "CryptoNight"
          ],
          [
           "Equihash"
          ],
          [
           "Skein"
          ],
          [
           "Scrypt"
          ],
          [
           "Dagger"
          ],
          [
           "Lyra2REv2"
          ],
          [
           "X13"
          ],
          [
           "Proof-of-BibleHash"
          ],
          [
           "SHA-256 + Hive"
          ],
          [
           "Scrypt"
          ],
          [
           "Scrypt"
          ],
          [
           "Scrypt"
          ],
          [
           "NeoScrypt"
          ],
          [
           "Equihash"
          ],
          [
           "X11"
          ],
          [
           "C11"
          ],
          [
           "Proof-of-Authority"
          ],
          [
           "X11"
          ],
          [
           "XEVAN"
          ],
          [
           "Scrypt"
          ],
          [
           "VBFT"
          ],
          [
           "Ethash"
          ],
          [
           "X11"
          ],
          [
           "CryptoNight"
          ],
          [
           "NeoScrypt"
          ],
          [
           "Scrypt"
          ],
          [
           "IMesh"
          ],
          [
           "NIST5"
          ],
          [
           "Equihash"
          ],
          [
           "Scrypt"
          ],
          [
           "Scrypt"
          ],
          [
           "Equihash"
          ],
          [
           "Equihash"
          ],
          [
           "Scrypt"
          ],
          [
           "Lyra2Z"
          ],
          [
           "Equihash"
          ],
          [
           "Green Protocol"
          ],
          [
           "PoS"
          ],
          [
           "Scrypt"
          ],
          [
           "Scrypt"
          ],
          [
           "Semux BFT consensus"
          ],
          [
           "Scrypt"
          ],
          [
           "X11"
          ],
          [
           "Quark"
          ],
          [
           "PoS"
          ],
          [
           "CryptoNight"
          ],
          [
           "X16R"
          ],
          [
           "Scrypt"
          ],
          [
           "NIST5"
          ],
          [
           "Lyra2RE"
          ],
          [
           "XEVAN"
          ],
          [
           "Tribus"
          ],
          [
           "Scrypt"
          ],
          [
           "Lyra2Z"
          ],
          [
           "CryptoNight"
          ],
          [
           "CryptoNight Heavy"
          ],
          [
           "CryptoNight"
          ],
          [
           "Scrypt"
          ],
          [
           "Scrypt"
          ],
          [
           "Jump Consistent Hash"
          ],
          [
           "SHA-256D"
          ],
          [
           "CryptoNight"
          ],
          [
           "Scrypt"
          ],
          [
           "X15"
          ],
          [
           "Scrypt"
          ],
          [
           "Quark"
          ],
          [
           "SHA-256"
          ],
          [
           "DPoS"
          ],
          [
           "X16R"
          ],
          [
           "HMQ1725"
          ],
          [
           "X11"
          ],
          [
           "X16R"
          ],
          [
           "Quark"
          ],
          [
           "Quark"
          ],
          [
           "Scrypt"
          ],
          [
           "Zhash"
          ],
          [
           "Lyra2REv2"
          ],
          [
           "Quark"
          ],
          [
           "Scrypt"
          ],
          [
           "Scrypt"
          ],
          [
           "CryptoNight-V7"
          ],
          [
           "Cryptonight-GPU"
          ],
          [
           "Scrypt"
          ],
          [
           "XEVAN"
          ],
          [
           "CryptoNight Heavy"
          ],
          [
           "X11"
          ],
          [
           "X11"
          ],
          [
           "Scrypt"
          ],
          [
           "PoS"
          ],
          [
           "Lyra2REv2"
          ],
          [
           "Scrypt"
          ],
          [
           "SHA-256"
          ],
          [
           "Scrypt"
          ],
          [
           "Keccak"
          ],
          [
           "X11"
          ],
          [
           "X11"
          ],
          [
           "Quark"
          ],
          [
           "Scrypt"
          ],
          [
           "SHA-512"
          ],
          [
           "X16R"
          ],
          [
           "ECC 256K1"
          ],
          [
           "NeoScrypt"
          ],
          [
           "Equihash"
          ],
          [
           "XEVAN"
          ],
          [
           "Quark"
          ],
          [
           "CryptoNight Heavy X"
          ],
          [
           "Lyra2Z"
          ],
          [
           "Ethash"
          ],
          [
           "SHA-256"
          ],
          [
           "XEVAN"
          ],
          [
           "Ethash"
          ],
          [
           "X11"
          ],
          [
           "CryptoNight"
          ],
          [
           "Quark"
          ],
          [
           "SkunkHash"
          ],
          [
           "Quark"
          ],
          [
           "Argon2"
          ],
          [
           "Blake"
          ],
          [
           "Blake"
          ],
          [
           "SHA-256"
          ],
          [
           "Equihash"
          ],
          [
           "Exosis"
          ],
          [
           "Scrypt"
          ],
          [
           "Scrypt"
          ],
          [
           "Equihash"
          ],
          [
           "Quark"
          ],
          [
           "Equihash"
          ],
          [
           "Quark"
          ],
          [
           "Scrypt"
          ],
          [
           "QuBit"
          ],
          [
           "X11"
          ],
          [
           "Scrypt"
          ],
          [
           "Equihash1927"
          ],
          [
           "XEVAN"
          ],
          [
           "SHA-256D"
          ],
          [
           "X11"
          ],
          [
           "SHA-256"
          ],
          [
           "SHA-256"
          ],
          [
           "X13"
          ],
          [
           "SHA-256"
          ],
          [
           "X11"
          ],
          [
           "DPoS"
          ],
          [
           "X11"
          ],
          [
           "Scrypt"
          ],
          [
           "X11"
          ],
          [
           "Scrypt"
          ],
          [
           "X11"
          ],
          [
           "NeoScrypt"
          ],
          [
           "QuBit"
          ],
          [
           "Scrypt"
          ],
          [
           "Blake"
          ],
          [
           "Scrypt"
          ],
          [
           "SHA-256"
          ],
          [
           "Scrypt"
          ],
          [
           "X11"
          ],
          [
           "CryptoNight"
          ],
          [
           "Scrypt"
          ],
          [
           "Scrypt"
          ],
          [
           "SHA-256"
          ],
          [
           "X11"
          ],
          [
           "SHA-256"
          ],
          [
           "Scrypt"
          ],
          [
           "CryptoNight"
          ],
          [
           "Scrypt"
          ],
          [
           "SHA-256"
          ],
          [
           "Scrypt"
          ],
          [
           "Groestl"
          ],
          [
           "X11"
          ],
          [
           "Scrypt"
          ],
          [
           "PoS"
          ],
          [
           "Scrypt"
          ],
          [
           "Scrypt"
          ],
          [
           "X11"
          ],
          [
           "SHA-256"
          ],
          [
           "DPoS"
          ],
          [
           "Scrypt"
          ],
          [
           "Scrypt"
          ],
          [
           "Scrypt"
          ],
          [
           "NeoScrypt"
          ],
          [
           "Scrypt"
          ],
          [
           "SHA3-256"
          ],
          [
           "Multiple"
          ],
          [
           "X13"
          ],
          [
           "Equihash+Scrypt"
          ],
          [
           "DPoS"
          ],
          [
           "Ethash"
          ],
          [
           "DPoS"
          ],
          [
           "Ethash"
          ],
          [
           "SHA-256"
          ],
          [
           "Leased POS"
          ],
          [
           "PoS"
          ],
          [
           "TRC10"
          ],
          [
           "PoS"
          ],
          [
           "SHA-256"
          ],
          [
           "Scrypt"
          ],
          [
           "CryptoNight"
          ],
          [
           "Equihash"
          ],
          [
           "Scrypt"
          ]
         ],
         "hovertemplate": "<b>%{hovertext}</b><br><br>class=%{marker.color}<br>PC 1=%{x}<br>PC 2=%{y}<br>PC 3=%{z}<br>Algorithm=%{customdata[0]}<extra></extra>",
         "hovertext": [
          "42 Coin",
          "404Coin",
          "808",
          "EliteCoin",
          "Bitcoin",
          "Ethereum",
          "Litecoin",
          "Dash",
          "Monero",
          "Ethereum Classic",
          "ZCash",
          "Bitshares",
          "DigiByte",
          "BitcoinDark",
          "Bitstake",
          "PayCoin",
          "ProsperCoin",
          "KoboCoin",
          "Spreadcoin",
          "ACoin",
          "Aero Coin",
          "ApexCoin",
          "ArchCoin",
          "Argentum",
          "Aurora Coin",
          "BetaCoin",
          "BlueCoin",
          "MyriadCoin",
          "MoonCoin",
          "ZetaCoin",
          "SexCoin",
          "Quatloo",
          "EnergyCoin",
          "QuarkCoin",
          "Riecoin",
          "Digitalcoin ",
          "LimeCoinX",
          "BitBar",
          "BitMark",
          "CashCoin",
          "Catcoin",
          "CryptoBullion",
          "CannaCoin",
          "CinderCoin",
          "CoolCoin",
          "CryptCoin",
          "CasinoCoin",
          "eMark",
          "Diamond",
          "Verge",
          "DarkCash",
          "DarkShibe",
          "DevCoin",
          "EarthCoin",
          "E-Gulden",
          "Elacoin",
          "Einsteinium",
          "Emerald",
          "Exclusive Coin",
          "Flappy Coin",
          "Fuel2Coin",
          "FIBRE",
          "FireRoosterCoin",
          "FlutterCoin",
          "Franko",
          "FeatherCoin",
          "GrandCoin",
          "GlobalCoin",
          "GoldCoin",
          "GlyphCoin",
          "Halcyon",
          "HoboNickels",
          "HunterCoin",
          "HyperStake",
          "Infinite Coin",
          "IOCoin",
          "IXcoin",
          "JumBucks Coin",
          "JudgeCoin",
          "KrugerCoin",
          "LuckyCoin",
          "Litebar ",
          "LitecoinDark",
          "LibrexCoin",
          "MaxCoin",
          "MegaCoin",
          "MediterraneanCoin",
          "MintCoin",
          "MinCoin",
          "MazaCoin",
          "Nautilus Coin",
          "NavCoin",
          "NoirBits",
          "NobleCoin",
          "Namecoin",
          "NyanCoin",
          "OpalCoin",
          "Orbitcoin",
          "PotCoin",
          "PhoenixCoin",
          "Reddcoin",
          "RipOffCoin",
          "RonPaulCoin",
          "StableCoin",
          "ShieldCoin",
          "SilkCoin",
          "SmartCoin",
          "SpainCoin",
          "SecureCoin",
          "SuperCoin",
          "SyncCoin",
          "SysCoin",
          "TeslaCoin",
          "TigerCoin",
          "TittieCoin",
          "TorCoin",
          "TerraCoin",
          "Umbrella",
          "UnbreakableCoin",
          "Unobtanium",
          "UroCoin",
          "UnitaryStatus Dollar",
          "UltraCoin",
          "Utility Coin",
          "ViaCoin",
          "VootCoin",
          "VeriCoin",
          "Vertcoin",
          "WorldCoin",
          "SocialXbotCoin",
          "X11 Coin",
          "Crypti",
          "JouleCoin",
          "StealthCoin",
          "XXXCoin",
          "ZCC Coin",
          "ByteCoin",
          "DigitalNote ",
          "BurstCoin",
          "StorjCoin",
          "MonaCoin",
          "Neutron",
          "Sling Coin",
          "KryptCoin",
          "FairCoin",
          "Gulden",
          "RubyCoin",
          "PesetaCoin",
          "Kore",
          "Wild Beast Coin",
          "Dnotes",
          "Flo",
          "MaieutiCoin",
          "8BIT Coin",
          "Sativa Coin",
          "AeroMe",
          "ArtByte",
          "MasterTraderCoin",
          "BitCredit",
          "Folding Coin",
          "Ucoin",
          "Unitus",
          "CypherPunkCoin",
          "MaryJane Coin",
          "OmniCron",
          "CyberCoin",
          "Vtorrent",
          "GreenCoin",
          "Unattanium",
          "Cryptonite",
          "Gridmaster",
          "ConSpiracy Coin ",
          "MasterCoin",
          "SoonCoin",
          "1Credit",
          "ViorCoin",
          "IslaCoin",
          "Quicksilver coin",
          "Nexus",
          "MarsCoin ",
          "Singular",
          "Crypto",
          "Anarchists Prime",
          "Droidz",
          "BowsCoin",
          "CryptoCircuits",
          "Squall Coin",
          "Milllionaire Coin",
          "Song Coin",
          "BitZeny",
          "Diggits",
          "Expanse",
          "MapCoin",
          "Paycon",
          "Siacoin",
          "Emercoin",
          "BlitzCoin",
          "EverGreenCoin",
          "MindCoin",
          "I0coin",
          "Decred",
          "DogeCoinDark",
          "Revolution VR",
          "HOdlcoin",
          "EDRCoin",
          "Hitcoin",
          "Gamecredits",
          "Dashcoin",
          "DubaiCoin",
          "BiosCrypto",
          "CarpeDiemCoin",
          "PWR Coin",
          "TrumpCoin",
          "BillaryCoin",
          "EthereumScrypt",
          "Phalanx",
          "SunShotCoin",
          "GPU Coin",
          "HempCoin",
          "Adzcoin",
          "VirtaCoin",
          "SoilCoin",
          "YoCoin",
          "Universal Currency",
          "AEON",
          "SibCoin",
          "EuropeCoin",
          "Anti Bitcoin",
          "ZeitCoin",
          "SwingCoin",
          "SafeExchangeCoin",
          "Nebuchadnezzar",
          "Francs",
          "BolivarCoin",
          "GIZMOcoin",
          "SecretCoin",
          "Ratecoin",
          "Digital Bullion Gold",
          "Revenu",
          "Clinton",
          "Clockcoin",
          "VIP Tokens",
          "OrlyCoin",
          "BitSend",
          "16BitCoin",
          "ChessCoin",
          "ReeCoin",
          "Omni",
          "Let it Ride",
          "PutinCoin",
          "iBankCoin",
          "Frankywillcoin",
          "MudraCoin",
          "PizzaCoin",
          "Lutetium Coin",
          "Komodo",
          "GoldBlocks",
          "WayCoin",
          "CarterCoin",
          "Karbo",
          "BitTokens",
          "ZayedCoin",
          "MustangCoin",
          "ZoneCoin",
          "Circuits of Value",
          "RootCoin",
          "DopeCoin",
          "PROUD Money",
          "BitCurrency",
          "DollarCoin",
          "Swiscoin",
          "Shilling",
          "BuzzCoin",
          "Opair",
          "PesoBit",
          "GBR Coin",
          "Halloween Coin",
          "FujiCoin",
          "ZCoin",
          "LeaCoin",
          "CoffeeCoin",
          "RoyalCoin",
          "Zurcoin",
          "GanjaCoin V2",
          "TeamUP",
          "LanaCoin",
          "Elementrem",
          "CashOut",
          "ZClassic",
          "ARK",
          "InsaneCoin",
          "LuckChain",
          "KiloCoin",
          "Hush",
          "ArtexCoin",
          "EmberCoin",
          "XenixCoin",
          "FreeCoin",
          "NPCcoin",
          "PLNCoin",
          "Icobid",
          "AquariusCoin",
          "Kurrent",
          "Creatio",
          "Eternity",
          "Eurocoin",
          "BitcoinFast",
          "Stakenet",
          "BitConnect Coin",
          "MoneyCoin",
          "Enigma",
          "Cannabis Industry Coin",
          "Russiacoin",
          "PandaCoin",
          "GameUnits",
          "GAKHcoin",
          "Allsafe",
          "LiteCreed",
          "OsmiumCoin",
          "Bikercoins",
          "NeptuneClassic",
          "HexxCoin",
          "GoldenBird",
          "Ride My Car",
          "Klingon Empire Darsek",
          "Internet of People",
          "KushCoin",
          "Eryllium",
          "MarxCoin",
          "Printerium",
          "PacCoin",
          "Impeach",
          "Solarflarecoin",
          "Citadel",
          "Zilbercoin",
          "FirstCoin",
          "CreativeChain",
          "BeaverCoin",
          "FindCoin",
          "VaultCoin",
          "Zero",
          "OpenChat",
          "Canada eCoin",
          "Zoin",
          "Musicoin",
          "BnrtxCoin",
          "RenosCoin",
          "DubaiCoin",
          "VirtacoinPlus",
          "TajCoin",
          "Impact",
          "EB3coin",
          "Universe",
          "Atmos",
          "HappyCoin",
          "Coinonat",
          "MacronCoin",
          "Condensate",
          "Independent Money System",
          "ArgusCoin",
          "LomoCoin",
          "Bitcoin Scrypt",
          "ProCurrency",
          "GoldReserve",
          "BenjiRolls",
          "ParallelCoin",
          "GrowthCoin",
          "ILCoin",
          "Phreak",
          "Degas Coin",
          "ZSEcoin",
          "HTML5 Coin",
          "Ultimate Secure Cash",
          "EquiTrader",
          "QTUM",
          "Quantum Resistant Ledger",
          "Espers",
          "Dynamic",
          "Nano",
          "ChanCoin",
          "Dinastycoin",
          "Denarius",
          "DigitalPrice",
          "Virta Unique Coin",
          "Bitcoin Planet",
          "Unify",
          "BritCoin",
          "SocialCoin",
          "Octanox",
          "ArcticCoin",
          "DAS",
          "Linda",
          "LeviarCoin",
          "DeepOnion",
          "Bitcore",
          "gCn Coin",
          "SmartCash",
          "Signatum",
          "Onix",
          "Cream",
          "Bitcoin Cash",
          "Monoeci",
          "CampusCoin",
          "Draftcoin",
          "Vechain",
          "Sojourn Coin",
          "Stakecoin",
          "NewYorkCoin",
          "LiteBitcoin",
          "FrazCoin",
          "Kronecoin",
          "AdCoin",
          "Linx",
          "CoinonatX",
          "Ethereum Dark",
          "Sumokoin",
          "Obsidian",
          "Cardano",
          "Regalcoin",
          "BitcoinZ",
          "TrezarCoin",
          "Elements",
          "TerraNovaCoin",
          "VIVO Coin",
          "Rupee",
          "Bitcoin Gold",
          "WomenCoin",
          "Theresa May Coin",
          "NamoCoin",
          "LUXCoin",
          "Pirl",
          "Xios",
          "Bitcloud 2.0",
          "eBoost",
          "KekCoin",
          "BlackholeCoin",
          "AltCommunity Coin",
          "Pure",
          "Rupaya",
          "Infinity Economics",
          "Pura",
          "Innova",
          "Bitdeal",
          "Ellaism",
          "Sakuracoin",
          "GoByte",
          "Castle",
          "Magnet",
          "Lamden Tau",
          "Electra",
          "Bitcoin Diamond",
          "SHIELD",
          "Cash & Back Coin",
          "UltraNote",
          "BitCoal",
          "DaxxCoin",
          "Bulwark",
          "Kalkulus",
          "AC3",
          "CHIPS",
          "Lethean",
          "GermanCoin",
          "LiteCoin Ultra",
          "PopularCoin",
          "PhantomX",
          "HTML Coin",
          "Photon",
          "Sucre",
          "Fantasy Cash",
          "SparksPay",
          "Digiwage",
          "GunCoin",
          "IrishCoin",
          "Trollcoin",
          "Litecoin Plus",
          "Monkey Project",
          "Pioneer Coin",
          "UnitedBitcoin",
          "Interzone",
          "OP Coin",
          "Valorbit",
          "TokenPay",
          "1717 Masonic Commemorative Token",
          "My Big Coin",
          "TurtleCoin",
          "MUNcoin",
          "Unified Society USDEX",
          "Niobio Cash",
          "Bitcoin Private",
          "Skeincoin",
          "ShareChain",
          "Travelflex",
          "KREDS",
          "Tokyo Coin",
          "BiblePay",
          "LitecoinCash",
          "BitFlip",
          "LottoCoin",
          "LeafCoin",
          "Cerberus",
          "Bitcoin Hush",
          "Crypto Improvement Fund",
          "Stipend",
          "Poa Network",
          "Pushi",
          "Ellerium",
          "Velox",
          "Ontology",
          "Callisto Network",
          "Curium",
          "BitTube",
          "Dinero",
          "Poseidon",
          "Aidos Kuneen",
          "Bitspace",
          "Snowgem",
          "Briacoin",
          "Ignition",
          "Bitrolium",
          "Bitcoin Interest",
          "MedicCoin",
          "Alpenschillling",
          "Zelcash",
          "Bitcoin Green",
          "Deviant Coin",
          "Abjcoin",
          "Profit Hunters Coin",
          "Semux",
          "BitBlocks",
          "FuturoCoin",
          "Carebit",
          "Zealium",
          "Monero Classic",
          "Proton",
          "iDealCash",
          "Jumpcoin",
          "Infinex",
          "Bitcoin Incognito",
          "KEYCO",
          "HollyWoodCoin",
          "GINcoin",
          "PlatinCoin",
          "Loki",
          "Newton Coin",
          "Swisscoin",
          "Xt3ch",
          "MassGrid",
          "TheVig",
          "PluraCoin",
          "EmaratCoin",
          "Dekado",
          "Lynx",
          "Poseidon Quark",
          "BitcoinWSpectrum",
          "Muse",
          "Motion",
          "PlusOneCoin",
          "Axe",
          "Trivechain",
          "Dystem",
          "Giant",
          "Peony Coin",
          "SafeCoin",
          "Absolute Coin",
          "Vitae",
          "HexCoin",
          "TPCash",
          "Webchain",
          "Ryo",
          "MUSDcoin",
          "Urals Coin",
          "Qwertycoin",
          "ARENON",
          "EUNO",
          "MMOCoin",
          "Ketan",
          "NIX",
          "Safe Trade Coin",
          "Project Pai",
          "Mont Blanc",
          "XDNA",
          "PAXEX",
          "Azart",
          "Apollon",
          "ThunderStake",
          "Kcash",
          "Xchange",
          "Acute Angle Cloud",
          "Traid",
          "CrypticCoin",
          "Bettex coin",
          "ZestCoin",
          "X-CASH",
          "Actinium",
          "ETHER-1",
          "Bitcoin SV",
          "BitMoney",
          "Bitcoiin2Gen",
          "Junson Ming Chan Coin",
          "FREDEnergy",
          "Zenad",
          "C25 Coin",
          "HerbCoin",
          "Aquachain",
          "Universal Molecule",
          "Lithium",
          "Smart Bitcoin",
          "PirateCash",
          "Exosis",
          "Block-Logic",
          "Oduwa",
          "Beam",
          "Galilel",
          "Bithereum",
          "Crypto Sports",
          "Credit",
          "SLICE",
          "Dash Platinum",
          "Nasdacoin",
          "Vidulum",
          "Beetle Coin",
          "Titan Coin",
          "Award",
          "BlockStamp",
          "BLAST",
          "Bitcoin Rhodium",
          "GlobalToken",
          "Insane Coin",
          "ALAX",
          "The Freedom Coin",
          "LiteDoge",
          "Boolberry",
          "SolarCoin",
          "TruckCoin",
          "UFO Coin",
          "Ascension Coin",
          "OrangeCoin",
          "BlakeCoin",
          "BitstarCoin",
          "NeosCoin",
          "HyperCoin",
          "PinkCoin",
          "FantomCoin ",
          "Crypto Escudo",
          "AudioCoin",
          "IncaKoin",
          "Piggy Coin",
          "Crown Coin",
          "Genstake",
          "Quazar Coin",
          "SmileyCoin",
          "ParkByte",
          "XiaoMiCoin",
          "Groestlcoin",
          "CapriCoin",
          " ClubCoin",
          "Radium",
          "Bata",
          "Pakcoin",
          "Creditbit ",
          "OKCash",
          "Lisk",
          "HiCoin",
          "WhiteCoin",
          "Dotcoin",
          "FriendshipCoin",
          "The Hempcoin",
          "Fiii",
          "JoinCoin",
          "Triangles Coin",
          "Vollar",
          "EOS",
          "Reality Clash",
          "Oxycoin",
          "iOlite",
          "TigerCash",
          "Waves",
          "Particl",
          "BitTorrent",
          "Nxt",
          "ZEPHYR",
          "Gapcoin",
          "Beldex",
          "Horizen",
          "BitcoinPlus"
         ],
         "legendgroup": "0",
         "marker": {
          "color": [
           0,
           0,
           0,
           0,
           0,
           0,
           0,
           0,
           0,
           0,
           0,
           0,
           0,
           0,
           0,
           0,
           0,
           0,
           0,
           0,
           0,
           0,
           0,
           0,
           0,
           0,
           0,
           0,
           0,
           0,
           0,
           0,
           0,
           0,
           0,
           0,
           0,
           0,
           0,
           0,
           0,
           0,
           0,
           0,
           0,
           0,
           0,
           0,
           0,
           0,
           0,
           0,
           0,
           0,
           0,
           0,
           0,
           0,
           0,
           0,
           0,
           0,
           0,
           0,
           0,
           0,
           0,
           0,
           0,
           0,
           0,
           0,
           0,
           0,
           0,
           0,
           0,
           0,
           0,
           0,
           0,
           0,
           0,
           0,
           0,
           0,
           0,
           0,
           0,
           0,
           0,
           0,
           0,
           0,
           0,
           0,
           0,
           0,
           0,
           0,
           0,
           0,
           0,
           0,
           0,
           0,
           0,
           0,
           0,
           0,
           0,
           0,
           0,
           0,
           0,
           0,
           0,
           0,
           0,
           0,
           0,
           0,
           0,
           0,
           0,
           0,
           0,
           0,
           0,
           0,
           0,
           0,
           0,
           0,
           0,
           0,
           0,
           0,
           0,
           0,
           0,
           0,
           0,
           0,
           0,
           0,
           0,
           0,
           0,
           0,
           0,
           0,
           0,
           0,
           0,
           0,
           0,
           0,
           0,
           0,
           0,
           0,
           0,
           0,
           0,
           0,
           0,
           0,
           0,
           0,
           0,
           0,
           0,
           0,
           0,
           0,
           0,
           0,
           0,
           0,
           0,
           0,
           0,
           0,
           0,
           0,
           0,
           0,
           0,
           0,
           0,
           0,
           0,
           0,
           0,
           0,
           0,
           0,
           0,
           0,
           0,
           0,
           0,
           0,
           0,
           0,
           0,
           0,
           0,
           0,
           0,
           0,
           0,
           0,
           0,
           0,
           0,
           0,
           0,
           0,
           0,
           0,
           0,
           0,
           0,
           0,
           0,
           0,
           0,
           0,
           0,
           0,
           0,
           0,
           0,
           0,
           0,
           0,
           0,
           0,
           0,
           0,
           0,
           0,
           0,
           0,
           0,
           0,
           0,
           0,
           0,
           0,
           0,
           0,
           0,
           0,
           0,
           0,
           0,
           0,
           0,
           0,
           0,
           0,
           0,
           0,
           0,
           0,
           0,
           0,
           0,
           0,
           0,
           0,
           0,
           0,
           0,
           0,
           0,
           0,
           0,
           0,
           0,
           0,
           0,
           0,
           0,
           0,
           0,
           0,
           0,
           0,
           0,
           0,
           0,
           0,
           0,
           0,
           0,
           0,
           0,
           0,
           0,
           0,
           0,
           0,
           0,
           0,
           0,
           0,
           0,
           0,
           0,
           0,
           0,
           0,
           0,
           0,
           0,
           0,
           0,
           0,
           0,
           0,
           0,
           0,
           0,
           0,
           0,
           0,
           0,
           0,
           0,
           0,
           0,
           0,
           0,
           0,
           0,
           0,
           0,
           0,
           0,
           0,
           0,
           0,
           0,
           0,
           0,
           0,
           0,
           0,
           0,
           0,
           0,
           0,
           0,
           0,
           0,
           0,
           0,
           0,
           0,
           0,
           0,
           0,
           0,
           0,
           0,
           0,
           0,
           0,
           0,
           0,
           0,
           0,
           0,
           0,
           0,
           0,
           0,
           0,
           0,
           0,
           0,
           0,
           0,
           0,
           0,
           0,
           0,
           0,
           0,
           0,
           0,
           0,
           0,
           0,
           0,
           0,
           0,
           0,
           0,
           0,
           0,
           0,
           0,
           0,
           0,
           0,
           0,
           0,
           0,
           0,
           0,
           0,
           0,
           0,
           0,
           0,
           0,
           0,
           0,
           0,
           0,
           0,
           0,
           0,
           0,
           0,
           0,
           0,
           0,
           0,
           0,
           0,
           0,
           0,
           0,
           0,
           0,
           0,
           0,
           0,
           0,
           0,
           0,
           0,
           0,
           0,
           0,
           0,
           0,
           0,
           0,
           0,
           0,
           0,
           0,
           0,
           0,
           0,
           0,
           0,
           0,
           0,
           0,
           0,
           0,
           0,
           0,
           0,
           0,
           0,
           0,
           0,
           0,
           0,
           0,
           0,
           0,
           0,
           0,
           0,
           0,
           0,
           0,
           0,
           0,
           0,
           0,
           0,
           0,
           0,
           0,
           0,
           0,
           0,
           0,
           0,
           0,
           0,
           0,
           0,
           0,
           0,
           0,
           0,
           0,
           0,
           0,
           0,
           0,
           0,
           0,
           0,
           0,
           0,
           0,
           0,
           0,
           0,
           0,
           0,
           0,
           0,
           0,
           0,
           0,
           0,
           0,
           0,
           0,
           0,
           0,
           0,
           0,
           0,
           0,
           0,
           0,
           0,
           0,
           0,
           0,
           0,
           0,
           0,
           0,
           0,
           0,
           0,
           0,
           0,
           0,
           0,
           0,
           0,
           0,
           0,
           0,
           0,
           0,
           0,
           0,
           0,
           0,
           0,
           0,
           0,
           0,
           0,
           0,
           0,
           0,
           0,
           0,
           0,
           0,
           0,
           0,
           0,
           0,
           0,
           0,
           0,
           0,
           0,
           0,
           0,
           0,
           0,
           0,
           0,
           0,
           0,
           0,
           0,
           0,
           0,
           0,
           0,
           0,
           0,
           0,
           0,
           0,
           0,
           0,
           0,
           0,
           0,
           0,
           0,
           0,
           0,
           0,
           0,
           0,
           0,
           0,
           0,
           0,
           0,
           0,
           0,
           0,
           0,
           0,
           0,
           0,
           0,
           0,
           0,
           0,
           0,
           0,
           0,
           0,
           0,
           0,
           0,
           0,
           0,
           0,
           0,
           0,
           0,
           0,
           0,
           0,
           0,
           0,
           0,
           0,
           0,
           0,
           0,
           0,
           0,
           0,
           0,
           0,
           0,
           0,
           0,
           0,
           0,
           0,
           0,
           0,
           0,
           0,
           0,
           0,
           0,
           0,
           0,
           0,
           0,
           0,
           0,
           0,
           0,
           0
          ],
          "coloraxis": "coloraxis",
          "symbol": "circle"
         },
         "mode": "markers",
         "name": "0",
         "scene": "scene",
         "showlegend": true,
         "type": "scatter3d",
         "x": [
          -0.2552795800148189,
          -0.2408335406438787,
          -0.12886360986423145,
          0.2874040711732637,
          -0.177820046334396,
          -0.2682456206974121,
          -0.3036184090632087,
          -0.21634918237868433,
          -0.2681100958033937,
          -0.2681679208896328,
          -0.2315814041020172,
          0.2121282211558439,
          -0.07629272911353704,
          -0.12884596471494691,
          -0.2164728255393189,
          0.004918173627343666,
          -0.3044024783744536,
          -0.11532716789895445,
          -0.26552204876774116,
          -0.1780654788250319,
          0.02017156307394601,
          -0.11344599794622424,
          -0.12166201960849991,
          -0.3043143458908379,
          -0.2550313014890473,
          -0.17806547890170465,
          -0.2465802901840772,
          -0.20933677780262208,
          -0.30448241684019955,
          -0.17573529082729403,
          -0.30271618012741985,
          -0.3043807176833649,
          -0.25359478553385384,
          0.06780328462968946,
          -0.2913224270010265,
          -0.30402359740969365,
          -0.26567469454577186,
          -0.25527899765544676,
          -0.3044814496161485,
          -0.25527958070945506,
          -0.3043826045614882,
          -0.25526535453393345,
          -0.3044170509728101,
          -0.1832480007156067,
          -0.121662019819342,
          -0.26560628314518525,
          0.5772124455873215,
          -0.12886360986422957,
          -0.24275366407817012,
          -0.014366182594861474,
          -0.21647282554542266,
          -0.3044814495517431,
          0.07895854053598143,
          -0.13281571132553907,
          -0.30419517404765933,
          -0.3044814497357478,
          -0.30148497788592915,
          -0.30421452827590917,
          0.048853160581107356,
          -0.3044817017597074,
          -0.082855264765561,
          -0.14007380096833713,
          -0.17806547882756002,
          -0.22681350927717867,
          -0.304465804965365,
          -0.2822450402067771,
          -0.2923773017011755,
          -0.3035823553278659,
          -0.3039111207297465,
          -0.21647282555369513,
          -0.11567685788364547,
          -0.2540574691970348,
          -0.23244986949078045,
          -0.05987543369254347,
          0.9358222592666211,
          -0.2162311752120095,
          -0.1777767544942042,
          -0.21647282554434585,
          -0.11344599798556985,
          -0.3024080515181091,
          -0.30421686203161863,
          -0.3044663304914253,
          -0.30448144975341096,
          -0.21647282553856254,
          0.3261959971637619,
          -0.30395912852562884,
          -0.2647711545290281,
          0.1698631203097977,
          -0.30440198692664466,
          -0.1067693433059379,
          -0.12144050682133112,
          -0.1125412305120767,
          -0.17806547894710315,
          -0.2720887839988209,
          -0.17786372973746323,
          -0.2998991034993632,
          -0.1132384992600347,
          -0.23585586908847597,
          -0.25223101225183187,
          -0.2542670391177361,
          0.1460660915087611,
          -0.3044814495768536,
          -0.3044663330984815,
          -0.3041499314884885,
          -0.11567685788616716,
          -0.25527958059234357,
          -0.3041310578319299,
          -0.2667012085950643,
          -0.30448144959955276,
          -0.08216104971381968,
          -0.2164728094222883,
          -0.17035310485173386,
          -0.048531631315465895,
          -0.17746943704291027,
          0.035739100750428514,
          -0.21645322276119844,
          -0.17775148118404172,
          -0.17806547882761734,
          -0.17803428994026982,
          -0.17806272823257868,
          -0.2656581657781967,
          -0.2402343404265585,
          -0.2545918341420478,
          -0.1134459979310913,
          -0.3041645016048111,
          -0.26567469449280723,
          -0.39888790286838743,
          -0.25291762128233314,
          -0.30284396771920885,
          -0.25527958059486533,
          -0.2163776649834388,
          -0.04826138633613403,
          -0.17752886846173777,
          -0.11299292726760206,
          -0.2552795807159278,
          -0.2532535182167092,
          2.4006885634796284,
          -0.024728716192272248,
          0.4222900415605777,
          0.0253085783944438,
          -0.3035478285223207,
          -0.128328013283282,
          -0.17806547882351859,
          -0.12166201961000526,
          -0.24207065248209056,
          -0.29879943969934564,
          -0.12128984946705759,
          -0.3025987602977104,
          -0.11341830934374711,
          -0.3044789589822282,
          -0.1192710228450337,
          -0.30239678373927587,
          0.00475395115845813,
          -0.25525948506755874,
          -0.11334883853261542,
          -0.11344599796135704,
          -0.2936311965225871,
          -0.21647282556153924,
          -0.2873902290407058,
          -0.34365063884529573,
          -0.0828184396100474,
          -0.2315584337253252,
          -0.2635907204756331,
          -0.11567685788364547,
          -0.3043426269654196,
          -0.25527958058982125,
          -0.25512070583754387,
          -0.2413634647205807,
          -0.17806547882099666,
          -0.2384797449905557,
          -0.304481449758447,
          -0.2656746945760375,
          -0.30447296856557793,
          -0.1778948589923416,
          -0.30448047389987376,
          -0.25527958058982125,
          -0.21645210212496893,
          -0.2656746945760375,
          1.090653699155988,
          -0.26523356411698745,
          -0.25527958058982125,
          -0.28659995122233417,
          -0.17786358196235397,
          -0.24001641855178846,
          -0.2654575101915761,
          0.03472307063402351,
          -0.3412289029007165,
          -0.21647282553603994,
          -0.304035613837678,
          -0.30344624754406724,
          -0.12029296675008505,
          -0.26957618897026264,
          -0.08285526451896957,
          -0.11313053257989897,
          0.37246752608830386,
          -0.1282741009439701,
          0.0201715630818852,
          -0.11549161745204298,
          -0.2654574573677434,
          -0.1777780122724742,
          -0.0673250526660102,
          -0.3044814911617526,
          -0.3016064386307953,
          -0.23334978176945004,
          -0.12881336989088096,
          -0.06592746205897293,
          -0.30352535648794754,
          -0.11928354067837418,
          -0.1287933909671224,
          0.11345167882575655,
          0.11956621958432796,
          -0.0022176999378961592,
          -0.08093556215870401,
          -0.2551563831252126,
          -0.2552795806004142,
          -0.1780654788588283,
          -0.26567470016760236,
          -0.12110786793880704,
          -0.2667012210796141,
          -0.2650571104293922,
          -0.3044815025113429,
          -0.25754533331488166,
          -0.3044727364609819,
          -0.12886361039387717,
          -0.32496930338978325,
          -0.24924605021823004,
          -0.21633034545807753,
          -0.17806547892692598,
          0.3844935725830428,
          -0.12880368539499554,
          0.05899154110087657,
          0.0490492129688888,
          -0.3043914917531305,
          -0.26548776292033177,
          -0.21647282553629246,
          -0.2164728255890047,
          -0.21463069717353217,
          0.04877540236764822,
          -0.1288472430542651,
          -0.17806547882710325,
          -0.12863548833971375,
          -0.138931320890176,
          -0.11567685797444181,
          -0.21613894499581263,
          -0.14007380100711733,
          -0.2552795807781403,
          -0.255279581472567,
          -0.30447301004787836,
          0.037796310537283107,
          -0.2441479200169177,
          -0.2552176129239892,
          -0.25391052777277734,
          0.02024001524063743,
          -0.2656558301408802,
          -0.07386058750536795,
          0.010370155818118496,
          -0.21625974798114503,
          -0.082855264765561,
          -0.2546886222142028,
          -0.11917644740176678,
          -0.1288554581781946,
          -0.17797999736239226,
          -0.2164638221530343,
          -0.2552442321032537,
          -0.21875934171883551,
          -0.2552530224799265,
          -0.30288177687079954,
          -0.21647285075735215,
          -0.11934012450936303,
          -0.1779408031003023,
          -0.2959969148433201,
          -0.3043292218733754,
          0.14718241067081475,
          0.049788964323056704,
          -0.2548206335181067,
          -0.3044814497672746,
          -0.2128492407623736,
          -0.26670120849417944,
          -0.2571149554749751,
          -0.17806548386525886,
          0.050811414438545345,
          0.02020579110965284,
          0.0642498096021247,
          -0.19936854638765092,
          0.0490193488614048,
          -0.10603247440350087,
          -0.2693611071833075,
          -0.17806547907320963,
          -0.23160562958164266,
          6.956559305232016,
          -0.21622170276733924,
          -0.25527958311195226,
          -0.30179405137103454,
          -0.2316824820602118,
          -0.254393698463193,
          1.1487226690492278,
          -0.2164200714572488,
          0.04945992881400205,
          -0.12084785390347472,
          -0.25504561499370026,
          -0.25527958109424764,
          -0.2552460446809623,
          -0.2648345782120325,
          0.0490492129688888,
          -0.21638973125670183,
          -0.12869362070103918,
          -0.2550024292460568,
          -0.1752603230395956,
          -0.2551278796906435,
          -0.2551301580562502,
          -0.21646167227032082,
          -0.1192701493606697,
          -0.25516488342556287,
          0.3412577817311688,
          -0.2552320336422526,
          -0.25523418568710954,
          0.24721323375204338,
          -0.21406216190821592,
          -0.3044692098630409,
          -0.11915543719444519,
          -0.2164728261665727,
          -0.2867624110175459,
          -0.11344599906605063,
          0.048775402153267144,
          -0.25495148318996186,
          -0.12882902656229708,
          -0.21639534951904627,
          -0.21647282578825303,
          -0.26567469474663447,
          -0.25511773491024076,
          -0.2583233771404682,
          -0.25527536151108177,
          -0.30448144959703055,
          -0.26819541325624663,
          -0.12162200756966621,
          -0.2675267514030538,
          -0.2474523291332434,
          -0.3044388000197982,
          0.02037041597999618,
          -0.26525870284695807,
          -0.2315877209349646,
          -0.24158905241937997,
          -0.3031145405528021,
          -0.286534195223488,
          -0.2697198760005223,
          -0.26567469502245467,
          -0.1211684710254461,
          -0.29448608317002745,
          -0.21629262076789574,
          -0.14461589835627892,
          -0.2149582370930767,
          -0.30360395066793405,
          -0.12166201984960763,
          0.050296910713287936,
          -0.21617818746873219,
          -0.18913707806492075,
          0.05427107340767359,
          -0.21480716219714968,
          -0.2552060770876074,
          -0.25526385949698716,
          -0.255272737846606,
          -0.30448144959955276,
          0.0061302866065538406,
          -0.21623774030462056,
          -0.30420385907848396,
          -0.3044814495491102,
          -0.11762146345069749,
          -0.16002482253251382,
          0.04893134056811242,
          -0.25498716804054755,
          -0.21647283081612204,
          0.44096647636446856,
          0.004895553359807763,
          -0.3042942535377448,
          0.03863704847885881,
          -0.2674004491390323,
          0.4124303280772875,
          -0.26536269912650656,
          -0.07884147938595387,
          -0.39159069612971675,
          -0.09451098021766864,
          -0.14001669255868301,
          -0.2651936235292772,
          -0.1392120908597772,
          -0.1801406426128299,
          -0.30423319653250475,
          -0.11315482654045649,
          -0.30441070015349797,
          -0.21647282555597927,
          -0.2653181608553718,
          -0.26563878583918926,
          -0.13144980200572115,
          -0.11908965816941057,
          -0.11314594237046206,
          -0.28148077036563685,
          1.9278288629313325,
          -0.21677173691408658,
          0.11474988873207718,
          -0.2639979407806842,
          -0.17958580044508196,
          -0.17781910970156928,
          -0.21630074568548777,
          -0.30448145209394045,
          -0.12140650916584811,
          7.308122406586887,
          -0.3044748331918062,
          0.04883016437288712,
          1.6533557517945627,
          -0.30448145206871907,
          -0.3043485961121877,
          -0.30424249866652736,
          -0.3040344987251706,
          -0.3040198526647513,
          -0.2550120733822847,
          -0.25522208037150523,
          -0.1191610564285463,
          0.17493694504293938,
          0.6089217740234889,
          -0.216373399466071,
          -0.16033360513716946,
          -0.23339954541299746,
          -0.2286711705406193,
          -0.25526396336311236,
          -0.28504479574290237,
          -0.07047021385148931,
          -0.23144697260773853,
          0.4081562513342601,
          -0.1276033858137669,
          -0.13239939602478343,
          -0.1199752547618383,
          -0.25715809790376026,
          -0.25525015027324266,
          0.11387213579739289,
          -0.30311253361440443,
          0.042913849600194134,
          -0.2550555687026975,
          -0.23040228196504436,
          -0.2164728255453388,
          0.24706923971021216,
          0.1279687045555301,
          -0.26327589728008804,
          -0.2850145494156899,
          -0.30448145030322726,
          -0.269545234125466,
          -0.304481449811664,
          -0.2850219826856777,
          4.299467423568851,
          -0.21594986686423637,
          6.959022073090731,
          0.2487255609349026,
          -0.11093332025985375,
          -0.2258547239423328,
          -0.25376024740566483,
          0.14469461285712024,
          -0.11922193327525918,
          -0.26258861517292165,
          -0.006274879104918228,
          0.2473013732687373,
          -0.2645751243829348,
          -0.1780654788739611,
          -0.2623046412392384,
          -0.1880386615114447,
          -0.25516431488225216,
          -0.25020944328803757,
          -0.2158543666973902,
          -0.128863836856037,
          0.29527452006332877,
          -0.2656167967339258,
          -0.25527958060142314,
          -0.2849943947268567,
          0.24744298670365394,
          -0.2809974381657034,
          -0.303858762625026,
          -0.247188167788237,
          -0.2552452928543401,
          -0.08279492694753664,
          -0.26555862480313847,
          -0.17778939562991133,
          -0.28369189736045664,
          -0.25527958563408354,
          -0.4879051228407441,
          0.03754791029363456,
          -0.08687829314738178,
          -0.32279723380151804,
          0.6082264822293235,
          -0.2795381853332452,
          -0.25206441116522876,
          -0.11744993491849152,
          -0.2316824820602118,
          -0.22943566668706394,
          -0.16757616784217433,
          -0.2561540577059436,
          -0.24480431159469113,
          0.02332447557507465,
          0.25633324578733996,
          -0.22274100238233016,
          -0.3043110559333825,
          -0.10609181827419428,
          -0.3044815025113429,
          -0.2851018300612019,
          -0.2316824820602118,
          -0.2627819189487136,
          -0.2344991359639652,
          0.08199581701234465,
          -0.2164431468956448,
          -0.3529472517157099,
          -0.12131195283024179,
          -0.028019995086674455,
          -0.2663299453594015,
          -0.26567469454829407,
          -0.11818762872754723,
          -0.2851018302339678,
          -0.3044257262351974,
          -0.2700592550923033,
          -0.13988503804590333,
          -0.23168248221934826,
          -0.25526800336694766,
          -0.25526339629365685,
          -0.2307055878358444,
          -0.2316824820634909,
          -0.11800257378658525,
          -0.25684426398736754,
          -0.18248061358012763,
          0.012871322390153728,
          0.04907490426729321,
          -0.2551443113445061,
          -0.2552795808420341,
          7.377472308483842,
          -0.2552795818508868,
          -0.26523931586457383,
          0.11536478760719594,
          0.048927028309797914,
          -0.1190642613100655,
          -0.09192460667803719,
          -0.23605593175377146,
          -0.18898721944495583,
          -0.28671830642162927,
          -0.47756428127549294,
          -0.3365925464483034,
          -0.12113210286969125,
          -0.25712292171463863,
          -0.11928238803339174,
          0.2665489976153887,
          0.4460598890238012,
          -0.11563619325131924,
          -0.12155756092870754,
          -0.2572327132741031,
          -0.12039278812635,
          -0.1116156692321058,
          -0.2549838743789503,
          0.018355309631947293,
          1.666618162043623,
          0.2471064253686955,
          0.0055454141891597575,
          2.902928876083847,
          -0.2746930795542682,
          -0.21919733120349624,
          -0.26560633730576044,
          -0.2250969610383685,
          0.2471662015548478,
          0.1135327198200433,
          -0.12164779643724369,
          -0.18690611979160401,
          -0.20423381706754526,
          0.24797355228615586,
          -0.3044620547331541,
          -0.2552056021880255,
          -0.26813229179846415,
          -0.2174389142049005,
          -0.2552795808420341,
          -0.4019529784916922,
          1.62922122458503,
          -0.08259145483480092,
          -0.21605155261752615,
          -0.12018667568160593,
          0.048903095257236455,
          -0.253618216948412,
          -0.12166202168571891,
          -0.14931536966306952,
          -0.12166201974367827,
          -0.19818649161533372,
          -0.0827935938670726,
          -0.2656060244779709,
          0.11345167824614685,
          -0.24076829211727824,
          0.4053460101641944,
          -0.2746707930920406,
          -0.1676490282534418,
          -0.2358999616605644,
          -0.17370157714346518,
          -0.21924250759131314,
          0.0642498098460148,
          -0.3280729970591626,
          -0.257031901087184,
          -0.2697198748876763,
          -0.177819151799951,
          -0.6524311981836093,
          -0.2697198751054218,
          0.15275772450613956,
          -0.09372258896325804,
          0.7032835413706707,
          -0.27960415092458585,
          0.11393512130323073,
          -0.2488039083316174,
          -0.26373338486426234,
          -0.2635380421479026,
          -0.1780654788739608,
          -0.04867855979624042,
          -0.32724316657345925,
          -0.3039983833457952,
          -0.2550772681492455,
          -0.23119390158216127,
          0.11370173652576743,
          -0.231338154456935,
          0.24709572695831708,
          0.16674055963051135,
          -0.263500903926998,
          -0.08284546680547263,
          -0.25499828792664997,
          -0.33125983669045606,
          -0.35022942415657593,
          -0.1085761887770785,
          -0.21626171540109335,
          -0.1780654790858204,
          -0.17734954860702742,
          -0.16263184496776384,
          -0.17690708100217054,
          -0.2161473200971877,
          6.968768489765721,
          -0.08285526457640134,
          -0.04555597510572948,
          -0.2656746945393404,
          -0.3037209815839555,
          -0.21315185730324993,
          -0.23273987252407125,
          -0.21447599564852568,
          -0.2552311556336085,
          -0.26343524291039633,
          -0.2549978770837696,
          0.0048140834518316175,
          -0.2551477243507095,
          -0.210498914108206,
          -0.11928354067825586,
          -0.2937999535336956,
          -0.24185285828299707,
          0.11674074600602306,
          -0.20970641105038992,
          -0.1777507756687541,
          -0.25445814878609874,
          -0.11928354067837418,
          0.10053893818104488,
          -0.12886360992728302,
          -0.24974427448070557,
          -0.2909972821696116,
          -0.21371604155560817,
          -0.2538609425172752,
          0.04882771726488878,
          -0.30441227738730253,
          -0.3035274328296373,
          -0.16865042751742573,
          -0.12784125516987047,
          6.956720991078095,
          0.015246611882564319,
          -0.2518294914351831,
          -0.3044814517912848,
          -0.2358846225114407,
          -0.2552795813464608,
          -0.48693230473064303,
          -0.2324042399141305,
          -0.11344407060924058,
          -0.2781791347929347,
          6.969049757711536,
          -0.2693846219647284,
          6.970443970694556,
          -0.2697198773753398,
          0.018444479328904487,
          0.22312980062926777,
          0.048902493463335875,
          32.0435506335337,
          0.10074984742772879,
          4.084533191230661,
          -0.25507516727470164,
          -0.10586377664099361,
          -0.23158258858961867,
          -0.12166026270496912
         ],
         "y": [
          1.1953358504147107,
          1.1941680276836781,
          0.8406709527009273,
          1.9904048483248102,
          -1.451417233843306,
          -2.1594265332481344,
          -1.0968022632933099,
          1.543631153511416,
          -2.214056153238879,
          -2.1594328123142006,
          -2.007667701968313,
          1.5461317749648762,
          -1.6502999046918756,
          0.8406695264891415,
          1.5436411486940405,
          0.37045483417106717,
          -1.0967388792283337,
          2.0967092960296165,
          -0.7484395369251987,
          -1.4513973931080628,
          1.5526036630213964,
          2.0228065058091156,
          0.7251330078411633,
          -1.0967460034635705,
          1.1953157795757898,
          -1.4513973927771113,
          1.194632593446692,
          -1.6395447292220588,
          -1.0967283150220808,
          -1.451585765417457,
          -1.0968751983686436,
          -1.0967406375346243,
          1.1951996503936206,
          -0.8092804053677595,
          -1.182562017162432,
          -1.0967695079531055,
          -0.7484271969179039,
          1.1953358033416943,
          -1.096732495064963,
          1.1953358509775838,
          -1.0967404858419445,
          1.1953347004270898,
          -1.0967377012527642,
          0.6543920757495224,
          0.7251330087512459,
          -0.7484327273777329,
          0.540580528803205,
          0.840670952700928,
          1.1095575085693823,
          -1.6553061395999258,
          1.5436411487203858,
          -1.096732495342963,
          -1.4721751789577666,
          -1.1106099352879566,
          -1.0967556378621022,
          -1.0967324945487225,
          -1.0969747291286158,
          -1.0967540731345908,
          1.260578606511038,
          -1.0967314067088272,
          1.073438306969939,
          1.7723710199172016,
          -1.4513973930971502,
          0.2643484038399764,
          -1.0967337599646023,
          -1.580366626887271,
          -1.0977109883755891,
          -1.0968051780532624,
          -1.0967786003931417,
          1.5436411487560933,
          2.096737561485427,
          1.1952370553621017,
          -1.637676270860719,
          1.0715805995094898,
          -1.1969985886952434,
          1.5436216137255403,
          -1.4514207335874083,
          1.543641148715737,
          2.0228065059789464,
          -1.0969001075465972,
          -1.0967538846002602,
          -1.0967337175862975,
          -1.0967324944724814,
          1.5436411486907742,
          2.081769342917459,
          -1.0967747197308297,
          -2.2424047140968666,
          0.7015659016159789,
          -1.0967389190748442,
          0.8388848618369129,
          0.7251151005826572,
          2.02273336368229,
          -1.451397392581153,
          -1.0993509819574965,
          -1.4514137024449751,
          -1.097102931979273,
          2.022789731399095,
          0.711929095945495,
          1.19508940644834,
          1.1952539969131235,
          1.1628907720721111,
          -1.0967324952345758,
          -1.0967337171656266,
          -1.096759292857424,
          2.0967375614963135,
          1.1953358504720815,
          -1.0967608207413733,
          -2.2047863855708694,
          -1.0967324951365967,
          1.0733821850479073,
          1.5436411473772507,
          -1.4520208576054632,
          0.1841004043265074,
          -1.4514455770776111,
          1.326165946571777,
          1.5436395640840235,
          -1.451422776475996,
          -1.4513973930969037,
          -1.4513999136028524,
          -1.4513976154823949,
          -0.7484285333399291,
          1.1941195993078786,
          1.1952802536023857,
          2.0228065057437967,
          -1.0967581174235046,
          -0.7484271971465216,
          0.13976048670139107,
          -1.4859135669207981,
          -1.096864867761297,
          1.1953358504829679,
          1.5436334558898008,
          0.1840785564559736,
          -1.451440772619633,
          2.02276987917918,
          1.1953358510055234,
          1.1951720727761672,
          -2.519003395434407,
          -2.322932748068895,
          1.1492513843989207,
          1.347933692754202,
          -1.0968079688503616,
          0.8406276554070599,
          -1.451397393114595,
          0.7251330078476611,
          1.109502293364398,
          -1.0971918152602833,
          0.7251029211588338,
          -1.0968846915669876,
          2.0228042675062867,
          -1.0967326966761892,
          0.7249397230758928,
          -1.0969010195682747,
          0.3704681099023435,
          1.1953342259244417,
          2.0227986514136154,
          2.0228065058744353,
          -1.0976096270921367,
          1.5436411487899508,
          -2.3026408728213092,
          -2.2484830580420687,
          1.073435329142754,
          -1.6377483356302494,
          -1.1758851146924532,
          2.096737561485427,
          -1.0967437178484427,
          1.1953358504611953,
          1.1953230071233913,
          -1.1018348927083514,
          -1.4513973931254809,
          -2.1799157019628033,
          -1.0967324944507435,
          -0.748427196787265,
          -1.09673318096732,
          -1.4514111859331877,
          -1.0967315914312996,
          1.1953358504611953,
          1.543639473384143,
          -0.748427196787265,
          1.9854732083409365,
          -0.7484628580970006,
          1.1953358504611953,
          -2.1590065759338244,
          -1.4514137140412595,
          2.295497720556285,
          -0.7484447542603314,
          1.3916627916527968,
          0.916899220090252,
          1.5436411486798873,
          -1.0967685348048735,
          -1.0968161791834146,
          0.7250223334973717,
          -2.159318968952814,
          1.073438305905548,
          2.0227810038276477,
          -2.278529759798613,
          0.8406233070502738,
          1.5526036629871274,
          2.096722586794056,
          -0.7484447585840619,
          -1.4514206319076906,
          1.2393729262236008,
          -1.0967323157369109,
          -1.0969649111121722,
          -2.087562696077376,
          0.8406668914996666,
          1.5314712347452635,
          -1.096809785731714,
          -2.3152889733618687,
          0.8406652762659712,
          1.4830752035406924,
          -1.475457926814228,
          1.761226631630581,
          -0.04216981272152468,
          1.1953258915365028,
          1.1953358505069183,
          -1.4513973929621833,
          -0.7484271726517531,
          0.7250882120000987,
          -2.2047863316823775,
          -0.748477122197661,
          -1.0967322667473733,
          -2.2569494691126937,
          -1.0967331979390014,
          0.8406709549871063,
          -1.9182661745584109,
          -2.2197304659124253,
          1.543629634588069,
          -1.451397392668246,
          0.6842160760771375,
          0.8406661087902068,
          0.5824734823024764,
          1.2605627577059229,
          -1.096739767405539,
          -0.7484423085648273,
          1.5436411486809765,
          1.5436411489085051,
          1.5434922304736605,
          1.2605848927022636,
          0.8406696319753092,
          -1.4513973930991224,
          0.8406525167980365,
          1.7722786619448203,
          2.0967375618773434,
          1.543614159017114,
          1.7723710200845941,
          1.1953358512740584,
          1.1953358542714922,
          -1.0967331776138924,
          1.3914833853950217,
          1.1944359802243718,
          1.1953308414232542,
          1.1952251762959771,
          1.5525981313598094,
          -0.7484287218874953,
          1.0727111766158008,
          -1.3829449961108211,
          1.5436239238682603,
          1.073438306969939,
          1.195288077914275,
          -2.3152976309511017,
          0.8406702939369884,
          -1.4514043034052617,
          1.5436404208718524,
          1.1953329930879601,
          -1.6387830107928216,
          1.1953337034841192,
          -1.0968618119406313,
          1.5436412575455263,
          0.7249453039637643,
          -1.4514074718885055,
          0.2786123686707575,
          -1.0967448012414465,
          2.2057073158822225,
          1.2605029562409487,
          1.195298748843429,
          -1.0967324944126402,
          1.5433482314540719,
          -2.204786386006332,
          -2.2457334950184435,
          -1.4513973713523536,
          1.2604203002607657,
          1.5526008959538238,
          -0.808993141133815,
          2.1816038495808123,
          1.2605651749440987,
          2.2261772593731513,
          -2.1593363562228243,
          -1.4513973920368248,
          -2.0076657435627787,
          0.2566303508500332,
          1.543620848051629,
          1.1953358613477587,
          -1.0969496397773304,
          -2.0076595307520644,
          -0.7493391557951644,
          1.9207718743948003,
          1.543636884042644,
          1.2605295554563574,
          2.227374940108764,
          1.1953169369225771,
          1.1953358526385076,
          1.1953331398424074,
          -0.7484951103269624,
          1.2605627577059229,
          1.5436344319183835,
          0.8406572108659971,
          1.195313445695893,
          1.4028697882005563,
          1.195323587148397,
          1.1953237779848145,
          1.543640247095123,
          -2.3152900558985343,
          1.1953265797966481,
          0.6877105788706087,
          1.1953320068699682,
          1.1953321807393988,
          1.0128607201138995,
          1.1161568221484812,
          -1.0967334848012102,
          -2.3152993292714257,
          1.5436411514015285,
          -2.1589934431608446,
          2.0228065106427495,
          1.260584893627622,
          1.1953093321681738,
          0.8406681571857801,
          1.5436348855617958,
          1.5436411497685436,
          -0.7484271960508981,
          1.1953227669514497,
          -0.7490204147637936,
          1.1953355096220832,
          -1.0967324951474833,
          -2.2140492541371377,
          0.7251297736509261,
          0.36143105527735836,
          -1.5405582509444185,
          -1.096735943148336,
          1.5525875876870634,
          -0.7484608155334942,
          -2.007667191353636,
          1.194229108809016,
          -1.0968429962221884,
          -2.159011892175449,
          -2.159307348509014,
          -0.7484271948603435,
          0.7250931092043887,
          -2.0925977140056107,
          1.5436265818625763,
          2.2535192052888577,
          1.5435187094147942,
          -1.0968033902872336,
          0.7251330088818847,
          1.2604618938700232,
          1.5436173309907726,
          -0.5197085292680026,
          1.2601406227389294,
          1.5435065005756854,
          1.195329908610787,
          1.1953345798620485,
          1.1953353079714895,
          -1.0967324951365967,
          0.3703576471360736,
          1.5436221446447278,
          -1.0967549356027257,
          -1.096732495354328,
          0.7248063875090484,
          -1.4528557863001186,
          1.2605722867040483,
          1.1953122127380025,
          1.543641171470909,
          2.0517390676683678,
          0.3704566648139799,
          -1.0967476276586647,
          1.3914154202338147,
          -2.214113520473835,
          2.1059621244999085,
          -2.62717638023066,
          -2.2420456052724456,
          -2.2361596312531344,
          -2.31729158414385,
          1.7723664033316562,
          -0.7484660862076556,
          1.7723013599154966,
          1.6228090949869323,
          -1.0967525641149583,
          2.0227829675555773,
          -1.0967382139968234,
          1.5436411487659527,
          -0.7484560189462134,
          -0.7484300998265051,
          1.1853258945051985,
          -2.3153046465862395,
          2.022782249234165,
          -2.2127869749829974,
          -1.2771919611655733,
          -1.5430384403288029,
          1.5116937324802193,
          -0.7485627353950237,
          1.6227642411392953,
          -1.4514173095613916,
          1.5436272377201672,
          -1.096732484369785,
          0.7251123522003577,
          0.7086192027376694,
          -1.09673291806812,
          1.2605804661994227,
          -1.2550054901590273,
          -1.0967324844786508,
          -1.096743235120603,
          -1.096751811432207,
          -1.0967686261290435,
          -1.0967698101273062,
          1.1953142254978684,
          1.1953312021462557,
          -2.315298874325917,
          1.5491383075061214,
          1.230553731901184,
          1.5436331112919266,
          -2.0134272021619433,
          0.7117305291714494,
          -0.7514185699240659,
          1.1953345881212114,
          -1.5801402958979656,
          0.3359820100416334,
          -2.007678569508872,
          1.1417034784606743,
          0.8405690763329913,
          1.7717506282074242,
          1.7981550865085512,
          -2.2569807721579465,
          1.1953334715171613,
          1.4830412154116832,
          -1.0968431584645602,
          1.280779973767588,
          1.1953177413339782,
          0.7360396909720042,
          1.5436411487200248,
          1.0128723613387745,
          0.3605074350437762,
          -0.7486211139330012,
          -1.5801427408409454,
          -1.0967324920992458,
          -2.1593214685546194,
          -1.0967324942210368,
          -1.580142140070961,
          0.46667746689780504,
          1.5435988738557438,
          0.2564312628966964,
          1.7409405149164734,
          2.0226033812819826,
          -1.6382094206603603,
          1.1952130286960114,
          -2.3366282530057365,
          -2.315293953813033,
          -2.159883742895582,
          1.3021535160646798,
          1.012853594904162,
          -0.7485160813249111,
          -1.4513973928968635,
          -2.2145254597651207,
          1.189900579397181,
          1.1953265338992858,
          -1.1011198307286725,
          1.5435911525480663,
          0.8406719324916766,
          -1.0859847888550287,
          -0.7484318774322822,
          1.195335850511273,
          -1.5801443704171516,
          1.012842147838523,
          -1.5804674821990237,
          -1.0967828331488008,
          1.1946817443322986,
          1.1953330786582501,
          1.0734334283725604,
          -0.7484365800596328,
          -1.4514197116776393,
          -1.295065548426997,
          1.1953358722343228,
          2.1994441346165123,
          1.3915034661620362,
          -0.33744364117800757,
          0.21182282877458428,
          -2.3740907345300473,
          -1.5560339874370297,
          1.195075936286009,
          -2.3154372000035344,
          -2.0076595307520644,
          -0.669251720998144,
          -1.1077999118870074,
          -2.2570619401051815,
          -1.486569441970827,
          1.5523487877345286,
          2.1404618694104087,
          2.2188304160312815,
          -1.0967462696825276,
          -1.1127702619758582,
          -1.0967322667473733,
          -1.5801356851537862,
          -2.0076595307520644,
          -0.7486610459010808,
          0.99700353362217,
          2.793288494988069,
          1.5436387497039052,
          1.4566863975413555,
          0.7251047093355713,
          1.1760798418517033,
          -2.159581328409612,
          -0.7484271969070176,
          -2.3153775572018565,
          -1.5801356844080572,
          -1.0967369998542265,
          -1.9877987635773786,
          1.7723557607116234,
          -2.007659530065166,
          1.1953349145820575,
          1.19533454216424,
          -2.007738503073946,
          -2.0076595307379117,
          0.7248371807240132,
          -2.245755374940574,
          0.28440881713190536,
          1.4781498653121832,
          1.2605606815289443,
          1.1953249155167074,
          1.1953358515498516,
          0.16107739167639507,
          1.1953358559044769,
          -0.7484623924057695,
          1.4829205483450045,
          1.260572635844307,
          -2.3153067000672722,
          0.5486001022043054,
          1.1937818513111185,
          -0.5197206442398371,
          -2.1589970084348016,
          0.829933227808603,
          -2.276327983491255,
          0.7250901690859968,
          -2.2457328511382304,
          -2.3152890603299854,
          -2.3409029459237134,
          -2.360989785299931,
          1.1840470856089662,
          0.7251245636197107,
          -2.088263192730675,
          2.2273380785472545,
          -2.3159088392258647,
          1.1953119462516482,
          1.6265012025553969,
          0.04535272699619601,
          1.0128693613654158,
          0.37040412852170784,
          0.8029248594944208,
          -1.2732695204779774,
          -2.2256304400346116,
          -0.7484327229673047,
          1.0187669545710083,
          1.0128645222952999,
          1.4830686519666356,
          0.7251320381778611,
          2.2005446350947593,
          0.8061966593026811,
          1.012799256314183,
          -1.0967340630200093,
          1.1953298806756276,
          -2.2140543402036803,
          -2.0473087163474575,
          1.1953358515498516,
          -0.8353978029603548,
          -2.4510603987989454,
          1.0734169799009974,
          1.543607093202422,
          0.7250137425586938,
          1.2605745719985697,
          -1.4858569292813693,
          0.725133016807303,
          -1.4537215505950578,
          0.7251330084246493,
          0.7515049262979584,
          1.0734333214492895,
          -0.7484327482138015,
          1.483075206042529,
          1.1941629395498727,
          2.1046390234601984,
          -1.273271321299484,
          2.155505469574531,
          0.71193266307311,
          -2.0123466686517086,
          0.9864765066900604,
          -0.8089931421865459,
          -2.3439858310928723,
          -2.245740208527311,
          -2.159307353312517,
          -1.451417306158127,
          0.6935905880267822,
          -2.159307352372638,
          1.0543911791033815,
          -2.3173552533202337,
          0.3009654977026238,
          -1.5560286548424298,
          1.4830361220575423,
          -2.2590792845924215,
          -1.864037061502421,
          -1.8640528540042838,
          -1.4513973928968658,
          -0.18580894131846182,
          -2.2682039515630397,
          -1.096771545509138,
          1.1953194955995043,
          -2.007699025373054,
          1.4830549886805553,
          -2.0076873663423567,
          1.0128702194318449,
          1.1612202319750802,
          -1.175892374459829,
          1.0734375140378434,
          1.195313111453412,
          -2.194669024142897,
          1.4564666910692072,
          2.2263828683373217,
          1.5436240868685207,
          -1.451397391982392,
          -1.4514552687651896,
          -0.2692631352839476,
          -1.4514910370597747,
          1.5436148349020387,
          0.25564336076819716,
          1.073438306153447,
          1.1783820143232984,
          -0.7484271969456648,
          -1.0967929241826546,
          1.543372679173098,
          -1.5843686217973811,
          1.1161902759292894,
          1.1953319378887657,
          -1.8640610898608136,
          1.195313077922828,
          0.3704632489879743,
          1.1953251911061518,
          1.543158218641475,
          -2.315288973362377,
          -1.0975959846516306,
          1.194250536553839,
          0.820816118531098,
          1.543094157454574,
          -1.4514228335103685,
          1.1952694454721686,
          -2.3152889733618687,
          -1.1294741063263136,
          0.840670952973092,
          1.1948883765300549,
          -1.1825883018846552,
          1.5434182904637004,
          1.195221168428528,
          1.2605806634635197,
          -1.0967380872398733,
          -1.0968096168318278,
          1.1215820995324175,
          0.8405883059195518,
          0.25661728042071297,
          0.7140653204393209,
          1.1950569459292162,
          -1.0967324856761727,
          0.7119314209957719,
          1.1953358537271639,
          3.385308197805525,
          -1.637679960007911,
          2.022806349938967,
          -2.149060524042741,
          0.2556206121785667,
          -2.159334455289002,
          0.25550790297881665,
          -2.159307342574731,
          0.3693613682501426,
          3.4753124707225753,
          1.260574618496904,
          -1.7495462481126298,
          1.1819944494052397,
          -0.17794026756564482,
          1.195319328209598,
          -2.316373822164627,
          -2.007667606213466,
          0.7251328656472471
         ],
         "z": [
          -0.4693221914918859,
          -0.4699724456398811,
          -0.35382029026007666,
          -0.5689329684421598,
          0.09898900612668092,
          0.26545235044972776,
          -0.01654069538233126,
          -0.480741363777039,
          0.3603194938924646,
          0.2654488522255143,
          0.27196827209965196,
          0.29755653286501843,
          0.19178123174599213,
          -0.35382108459205247,
          -0.4807357982152449,
          -0.04801814490400338,
          -0.016505402240840565,
          -0.6098224454155504,
          -0.02792232525702758,
          0.09900005372487554,
          -0.24507903045574198,
          -0.5508885679160639,
          -0.16351265405984955,
          -0.016509369459557895,
          -0.4693333671876591,
          0.09900005361797166,
          -0.4697137681968674,
          0.19776994475858092,
          -0.016503197894104864,
          0.09889516554809417,
          -0.016581307556756367,
          -0.01650638203052962,
          -0.4693980282882536,
          0.04475112214058881,
          0.062256211798653587,
          -0.016522456715461972,
          -0.027915454293952,
          -0.4693222177071481,
          -0.01650184757242261,
          -0.4693221916328087,
          -0.016506296810667103,
          -0.4693228318198475,
          -0.01650474626335591,
          -0.25401001454646616,
          -0.16351265435382384,
          -0.02791853365061312,
          -0.05015501622188435,
          -0.3538202902600674,
          -0.3905356342232509,
          0.18899377976561754,
          -0.48073579822375506,
          -0.01650184748262318,
          0.08743068614715951,
          -0.024228998973894564,
          -0.016514733524978824,
          -0.016501847739178406,
          -0.0166367272172894,
          -0.016513862382885762,
          0.06700282303391848,
          -0.016502199132841653,
          -0.17492626109849244,
          -0.565182961738035,
          0.09900005372135051,
          -0.14970499281006253,
          -0.01650255171779359,
          0.16983911168329074,
          -0.0170466904780228,
          -0.016542318199946927,
          -0.016527519658414654,
          -0.48073579823528945,
          -0.6098067037277356,
          -0.4693772021796532,
          0.19881032969729648,
          -0.17596064017422278,
          -0.07233133585965783,
          -0.4807466755735648,
          0.09898705745311633,
          -0.4807357982222536,
          -0.5508885679709224,
          -0.016595177248980745,
          -0.016513757291166813,
          -0.01650252802667015,
          -0.01650184776380582,
          -0.4807357982141899,
          -0.19671734896243512,
          -0.016525358598140773,
          0.3642896964984051,
          -0.17663492672934913,
          -0.016505424322199275,
          -0.35481481701602435,
          -0.16352262490137226,
          -0.5509292937302457,
          0.09900005355467327,
          -0.017959976492525575,
          0.09899097242546845,
          -0.016708111508866738,
          -0.5508979079270223,
          -0.2828546245651854,
          -0.4694594166454426,
          -0.46936776883562714,
          -0.4873877599084909,
          -0.016501847517634345,
          -0.0165025279806515,
          -0.01651677083655844,
          -0.6098067037312522,
          -0.46932219146952153,
          -0.016517619665189873,
          0.3688196405379903,
          -0.016501847549283383,
          -0.1749575090842322,
          -0.48073579893599705,
          0.09865289734329825,
          0.05175006286602236,
          0.0989732242346881,
          -0.085138472686477,
          -0.48073668061670005,
          0.0989859197622386,
          0.09900005372127084,
          0.09899864955088171,
          0.0989999299187582,
          -0.027916198218721034,
          -0.4699994210112063,
          -0.4693531490097874,
          -0.5508885678949641,
          -0.01651611417529605,
          -0.027915454220103983,
          -0.21036906573880423,
          0.23280644858869215,
          -0.01657555557491369,
          -0.46932219147303794,
          -0.480740081644154,
          0.05173789882933973,
          0.09897589939819508,
          -0.5509089617341151,
          -0.4693221916418337,
          -0.4694133932103873,
          0.1568192932565401,
          0.26599399999862167,
          0.3656957963907645,
          -0.09143695954449599,
          -0.01654387246495884,
          -0.35384439904317955,
          0.09900005372698543,
          -0.16351265406194856,
          -0.39056637826065427,
          -0.016757614990964696,
          -0.1635294063054367,
          -0.01658659261225405,
          -0.5508898142708134,
          -0.016501959591481187,
          -0.16362028053558775,
          -0.01659568405708563,
          -0.048010752796236074,
          -0.46932309601551936,
          -0.5508929413178123,
          -0.5508885679371632,
          -0.016990248021837098,
          -0.4807357982462261,
          0.4755149013308102,
          0.3311125307651701,
          -0.17492791840006444,
          0.19877020410541502,
          0.07013361515597558,
          -0.6098067037277356,
          -0.016508096237855357,
          -0.46932219146600507,
          -0.4693293428869596,
          -0.019342981498679822,
          0.09900005373050193,
          0.24728138586207102,
          -0.016501847770827704,
          -0.02791545433615075,
          -0.016502229227765227,
          0.0989923736307726,
          -0.01650222536105951,
          -0.46932219146600507,
          -0.48073673102302733,
          -0.02791545433615075,
          0.4608625748470205,
          -0.027935310716956936,
          -0.46932219146600507,
          0.23377917162796097,
          0.09899096565482063,
          -0.7167238557455026,
          -0.02792523030273474,
          -0.23231147394913695,
          -0.006825958138373659,
          -0.4807357982106734,
          -0.01652191641445084,
          -0.016548445403754677,
          -0.16357427884274606,
          0.26551224258072925,
          -0.1749262607546732,
          -0.5509027679577424,
          0.21702053279446593,
          -0.3538468291551206,
          -0.2450790304446722,
          -0.6098150419564554,
          -0.02792523266231652,
          0.09898711406884937,
          -0.4358503948969947,
          -0.016501905498907444,
          -0.016631259640651846,
          0.3133497523518571,
          -0.3538225517662766,
          -0.487512316404442,
          -0.01654488391053564,
          0.2702501844163294,
          -0.35382345102565566,
          -0.40790927027604956,
          0.08560283108709184,
          -0.5713882082390085,
          0.10506980829052728,
          -0.46932773704323283,
          -0.46932219148077436,
          0.0990000536777534,
          -0.027915462132395576,
          -0.16353759854977765,
          0.3688196231309487,
          -0.02794325352211209,
          -0.01650192132349072,
          0.23282751810148886,
          -0.01650224028425494,
          -0.3538202909985478,
          0.26210231013172897,
          0.36981157328773273,
          -0.48074221298785563,
          0.09900005358280592,
          -0.18629633740492615,
          -0.35382298775490184,
          -0.026828465028069546,
          0.0669939981549809,
          -0.016505896772403415,
          -0.027923868566575232,
          -0.48073579821102497,
          -0.48073579828452156,
          -0.48081871726922,
          0.06700632307034848,
          -0.3538210277794675,
          0.09900005372198756,
          -0.35383056048393385,
          -0.565234387936684,
          -0.6098067038543323,
          -0.48075082751006076,
          -0.5651829617921057,
          -0.4693221917285759,
          -0.4693221926968061,
          -0.016502227360532643,
          -0.09202168429937174,
          -0.46982326249726286,
          -0.4693249809459385,
          -0.4693838163065842,
          -0.24508211235888677,
          -0.027916303442327425,
          -0.17533113594944066,
          0.38453902873937423,
          -0.480745389543695,
          -0.17492626109849244,
          -0.4693487923012621,
          0.2702453639118456,
          -0.35382065726399364,
          0.09899620596177564,
          -0.48073620348626017,
          -0.46932378266566965,
          0.1981940807358856,
          -0.4693233869126868,
          -0.016573853453334682,
          -0.48073583337641423,
          -0.16361716828249506,
          0.0989944417271314,
          -0.13368745139227273,
          -0.01650869973110499,
          -0.6586069582661266,
          0.06696069990780357,
          -0.4693428498169277,
          -0.016501847783135827,
          -0.48089891023274106,
          0.3688196406786535,
          0.27998170623659685,
          0.09900004669735386,
          0.06691467700463388,
          -0.2450805711285549,
          0.044911073342433015,
          -0.5833221348048668,
          0.06699534139279047,
          -0.6472090801829412,
          0.26550256117997867,
          0.09900005337884463,
          0.27196936254883464,
          0.11685408613960653,
          -0.4807471019809358,
          -0.4693221949825788,
          -0.016622850262568725,
          0.27197282187033234,
          -0.028423241767106706,
          -0.607701926709707,
          -0.4807381728171569,
          0.06697551070280715,
          -0.6465422012101022,
          -0.46933272298019235,
          -0.46932219216931975,
          -0.46932370115326405,
          -0.027953270774271895,
          0.0669939981549809,
          -0.480739538708978,
          -0.35382794196834305,
          -0.4693346668581577,
          -0.31936498120845774,
          -0.4693290200030028,
          -0.4693289197084099,
          -0.48073630026509634,
          0.2702495816304937,
          -0.46932735479381044,
          -0.18434994541188746,
          -0.46932433171974436,
          -0.46932423481569024,
          -0.10210621431765496,
          -0.3827014342339241,
          -0.016502398423933896,
          0.27024441813562666,
          -0.48073579908981684,
          0.2337864845505467,
          -0.5508885694774228,
          0.06700632277143957,
          -0.4693369617623051,
          -0.35382184701686564,
          -0.480739285633145,
          -0.48073579856233084,
          -0.027915454574011914,
          -0.4693294766157981,
          -0.028246718336214456,
          -0.46932238145686883,
          -0.01650184754576696,
          0.3603233335719739,
          -0.1635144552414969,
          -0.21698401812237736,
          0.04774944906356941,
          -0.016503767249072303,
          -0.24508798134769647,
          -0.02793418267040916,
          0.27196855645055784,
          -0.4699384398717974,
          -0.016563375817189595,
          0.2337762119492456,
          0.26551870870192634,
          -0.02791545495858456,
          -0.16353486997641542,
          0.21733622368714592,
          -0.480743910039183,
          -0.6320500167521224,
          -0.4808039740086018,
          -0.01654136040619578,
          -0.16351265439602286,
          0.06693783584376191,
          -0.4807490609670288,
          -0.11236885628521505,
          0.06675894782967798,
          -0.4808107756817305,
          -0.469325500118737,
          -0.46932289921537523,
          -0.46932250310502377,
          -0.016501847549283383,
          -0.04807297734077235,
          -0.4807463801277346,
          -0.01651434264281803,
          -0.01650184747895213,
          -0.16369453675808746,
          0.09818798977691164,
          0.066999303849056,
          -0.46933535406440025,
          -0.4807358055726212,
          -0.6348629334950245,
          -0.04801712739036483,
          -0.016510273895460892,
          -0.0920595282497791,
          0.3602875505472319,
          -0.7143955648566994,
          0.36596255904522434,
          0.23733507409425786,
          0.22385990607257825,
          0.26913510256896855,
          -0.5651855323638446,
          -0.027937108785517396,
          -0.5652217498898648,
          -0.4413664720852396,
          -0.016513022031967705,
          -0.5509016743534598,
          -0.016505032354110927,
          -0.4807357982384742,
          -0.027931502905046812,
          -0.02791707062665969,
          -0.47489625976181343,
          0.270241457152583,
          -0.550902074211781,
          0.2479309830686371,
          -0.11698442128560955,
          0.046368421450205394,
          0.055495500092838976,
          -0.027990933074546896,
          -0.4413914469133067,
          0.09898896396650558,
          -0.4807435439879055,
          -0.016501851027175246,
          -0.16352415522498293,
          3.336126499011815,
          -0.016502183410110796,
          0.06700385792691925,
          -0.10462897682787518,
          -0.016501850992009487,
          -0.016507827612054174,
          -0.01651260355469568,
          -0.016521966208260103,
          -0.016522625463922636,
          -0.46933423280692893,
          -0.4693247797093092,
          0.2702446708394275,
          0.2992306175840194,
          -0.13508515646717842,
          -0.4807402737237632,
          0.2687611550359843,
          -0.2829651912508104,
          -0.029581081542162574,
          -0.4693228944933949,
          0.16996513677578928,
          0.0858123879413783,
          0.27196222100322864,
          -0.49918518161434755,
          -0.3538770164467733,
          -0.5655284101751381,
          -0.3899533702563884,
          0.23281008721253477,
          -0.4693235162740964,
          -0.4079281967444168,
          -0.016563466154486062,
          -0.2829422424029255,
          -0.469332274852735,
          -0.32197394435454507,
          -0.48073579822363843,
          -0.1020997330049529,
          -0.05355698844219742,
          -0.028023431328523588,
          0.16996377524791695,
          -0.016501848530407724,
          0.2655108482710011,
          -0.016501847845027465,
          0.1699641098858324,
          -0.05727025510662992,
          -0.48075933840590224,
          0.11674322946231001,
          -0.5826838984068843,
          -0.5510016705382809,
          0.19851346352442698,
          -0.4693905811995635,
          0.25836756167151986,
          0.27024741133524016,
          0.2651976782386091,
          -0.2593815878757498,
          -0.10211018171500513,
          -0.027964950606304887,
          0.09900005365665396,
          0.3600581722930825,
          -0.47234905423412615,
          -0.4693273804071416,
          -0.01894478381775535,
          -0.48076363676507045,
          -0.353820606751733,
          -0.001566586215987995,
          -0.027918060414328948,
          -0.4693221914821814,
          0.16996286812229014,
          -0.10211655645147617,
          0.16978295341234215,
          -0.01652987639719794,
          -0.46968640937878847,
          -0.4693237348569091,
          -0.1749289767672035,
          -0.027920678889454684,
          0.09898762646515094,
          0.07740957282051941,
          -0.46932219849915296,
          -0.7936688988502115,
          -0.09201050315479059,
          0.11850690666462275,
          -0.11924435735592555,
          0.23749951604275002,
          0.1308434303184551,
          -0.46946691509289035,
          0.2701676481008638,
          0.27197282187033234,
          0.01145806535051259,
          -0.022664331533358683,
          0.2327648930665929,
          0.23244124462143095,
          -0.24522095377990888,
          16.8233373845408,
          4.291357111276551,
          -0.016509517461615764,
          -0.02543192578147287,
          -0.01650192132349072,
          0.16996770401619143,
          0.27197282187033234,
          -0.02804566706822089,
          -0.3754103612027912,
          13.462475377917276,
          -0.48073713421095904,
          -0.23972027475798766,
          -0.16352841182813346,
          -0.03332229362837544,
          0.26536609753521084,
          -0.027915454297468636,
          0.2702008511263977,
          0.16996770377530623,
          -0.016504355796718575,
          0.20517631596389854,
          -0.5651914586066167,
          0.27197282164845066,
          -0.4693227125965356,
          -0.4693229199796405,
          0.27192884925000166,
          0.27197282186576094,
          -0.16367737658738127,
          0.27996952072710873,
          -0.18084752278486943,
          -0.013343965659444996,
          0.06699284147879689,
          -0.4693282803805917,
          -0.4693221918176624,
          0.11616856392954136,
          -0.4693221932242921,
          -0.027935052059687448,
          -0.40799538472053193,
          0.06699949777303948,
          0.2702403141059127,
          -0.16038743448302298,
          -0.470187514378913,
          -0.11237560169606607,
          0.23378449923372288,
          0.2341833065678239,
          0.32444906796788403,
          -0.16353650696710928,
          0.2799820648564561,
          0.27025013042180857,
          0.16783313693510107,
          0.24480200051837347,
          -0.47560792520508677,
          -0.16351735610541004,
          0.4307566789545442,
          -0.6465626598065869,
          0.26990503085893264,
          -0.46933550224408105,
          -0.30401582906162505,
          -0.38185173097342934,
          -0.10210140891137788,
          -0.048046378882715804,
          0.07208007515013368,
          -0.013378921579222902,
          0.3706506632957599,
          -0.027918531223600912,
          -0.46621701194402915,
          -0.10210409730308388,
          -0.4079129180784784,
          -0.16351335549678522,
          -0.5967100880939876,
          -0.2199905759030068,
          -0.10214043845736699,
          -0.01650272056454429,
          -0.4693255250482493,
          0.3603204866368166,
          0.25863806379820325,
          -0.4693221918176624,
          0.2130912398399243,
          0.10649519651884391,
          -0.17493813567726504,
          -0.4807547609356205,
          -0.16357906384932272,
          0.06700057458743924,
          0.2328379838144482,
          -0.16351265695608866,
          0.09770593207833814,
          -0.16351265424832692,
          -0.4050737752224363,
          -0.17492903705925397,
          -0.027918545319279425,
          -0.4079092710841917,
          -0.4699754460492118,
          0.9011083447042907,
          -0.013379925031275742,
          16.16064340455544,
          -0.2828526407497825,
          0.269362929398608,
          0.06608533841357274,
          0.04491107368248567,
          0.2387340004107733,
          0.27997796752447207,
          0.26551871025355217,
          0.09898896586145851,
          0.3531252808286121,
          0.2655187099499529,
          -0.18553178828825256,
          0.26909959304372916,
          -0.0733355391928514,
          0.13084639963215566,
          -0.4079310313489351,
          0.32782475111176174,
          0.25207964188200144,
          0.2520708493097579,
          0.09900005365665464,
          0.12495371058138191,
          0.2716698174462164,
          -0.016523591924050382,
          -0.4693312981291421,
          0.27195082876821586,
          -0.4079205259918233,
          0.27195732279131074,
          -0.10210092503824586,
          -0.48831864074978765,
          0.07012957192638077,
          -0.17492670183758535,
          -0.46933485345439513,
          0.2841791810187488,
          -0.23984261254370515,
          -0.6470945721656279,
          -0.4807453023283597,
          0.09900005336126168,
          0.09896782769588178,
          -0.0980689450985514,
          0.09894791074928176,
          -0.4807504501302045,
          0.11630451715465531,
          -0.17492626083474944,
          -0.4787625004182844,
          -0.027915454284984785,
          -0.0165364341456929,
          -0.48088528326327434,
          0.16761074746915242,
          -0.3826828062602442,
          -0.46932437191992965,
          0.2520661967408804,
          -0.4693348718394837,
          -0.04801345957677349,
          -0.4693281266437778,
          -0.4810047006599446,
          0.2702501844164939,
          -0.016982651848397833,
          -0.4699265997987064,
          -0.3648755548013847,
          -0.4810403750117314,
          0.09898588800523815,
          -0.4693591662121067,
          0.2702501844163294,
          -0.03473300552707678,
          -0.35382029034798185,
          -0.46957135083431617,
          0.06224157614363233,
          -0.4808598886797689,
          -0.46938604848025606,
          0.06700396826828932,
          -0.01650496110478145,
          -0.016544790804973966,
          -0.3414792250486427,
          -0.3538663093726792,
          0.11684680813016272,
          -0.16967528887254332,
          -0.46947748966196556,
          -0.01650185060518643,
          -0.2828533305067248,
          -0.4693221925209773,
          19.392200223526217,
          0.1988082759386894,
          -0.5508886546489572,
          0.17722306709379873,
          0.1162918602138844,
          0.26550361964510016,
          0.11622910321457165,
          0.2655187067850364,
          -0.048627001202021305,
          13.247094084040858,
          0.0670006024066601,
          -1.1865893237616307,
          0.5182476942717211,
          -0.0044137717945126045,
          -0.4693313935260319,
          0.26964612239274727,
          0.27196832541638916,
          -0.16351273308653896
         ]
        }
       ],
       "layout": {
        "coloraxis": {
         "colorbar": {
          "title": {
           "text": "class"
          }
         },
         "colorscale": [
          [
           0,
           "#0d0887"
          ],
          [
           0.1111111111111111,
           "#46039f"
          ],
          [
           0.2222222222222222,
           "#7201a8"
          ],
          [
           0.3333333333333333,
           "#9c179e"
          ],
          [
           0.4444444444444444,
           "#bd3786"
          ],
          [
           0.5555555555555556,
           "#d8576b"
          ],
          [
           0.6666666666666666,
           "#ed7953"
          ],
          [
           0.7777777777777778,
           "#fb9f3a"
          ],
          [
           0.8888888888888888,
           "#fdca26"
          ],
          [
           1,
           "#f0f921"
          ]
         ]
        },
        "legend": {
         "title": {
          "text": "class"
         },
         "tracegroupgap": 0,
         "x": 0,
         "y": 1
        },
        "margin": {
         "t": 60
        },
        "scene": {
         "domain": {
          "x": [
           0,
           1
          ],
          "y": [
           0,
           1
          ]
         },
         "xaxis": {
          "title": {
           "text": "PC 1"
          }
         },
         "yaxis": {
          "title": {
           "text": "PC 2"
          }
         },
         "zaxis": {
          "title": {
           "text": "PC 3"
          }
         }
        },
        "template": {
         "data": {
          "bar": [
           {
            "error_x": {
             "color": "#2a3f5f"
            },
            "error_y": {
             "color": "#2a3f5f"
            },
            "marker": {
             "line": {
              "color": "#E5ECF6",
              "width": 0.5
             },
             "pattern": {
              "fillmode": "overlay",
              "size": 10,
              "solidity": 0.2
             }
            },
            "type": "bar"
           }
          ],
          "barpolar": [
           {
            "marker": {
             "line": {
              "color": "#E5ECF6",
              "width": 0.5
             },
             "pattern": {
              "fillmode": "overlay",
              "size": 10,
              "solidity": 0.2
             }
            },
            "type": "barpolar"
           }
          ],
          "carpet": [
           {
            "aaxis": {
             "endlinecolor": "#2a3f5f",
             "gridcolor": "white",
             "linecolor": "white",
             "minorgridcolor": "white",
             "startlinecolor": "#2a3f5f"
            },
            "baxis": {
             "endlinecolor": "#2a3f5f",
             "gridcolor": "white",
             "linecolor": "white",
             "minorgridcolor": "white",
             "startlinecolor": "#2a3f5f"
            },
            "type": "carpet"
           }
          ],
          "choropleth": [
           {
            "colorbar": {
             "outlinewidth": 0,
             "ticks": ""
            },
            "type": "choropleth"
           }
          ],
          "contour": [
           {
            "colorbar": {
             "outlinewidth": 0,
             "ticks": ""
            },
            "colorscale": [
             [
              0,
              "#0d0887"
             ],
             [
              0.1111111111111111,
              "#46039f"
             ],
             [
              0.2222222222222222,
              "#7201a8"
             ],
             [
              0.3333333333333333,
              "#9c179e"
             ],
             [
              0.4444444444444444,
              "#bd3786"
             ],
             [
              0.5555555555555556,
              "#d8576b"
             ],
             [
              0.6666666666666666,
              "#ed7953"
             ],
             [
              0.7777777777777778,
              "#fb9f3a"
             ],
             [
              0.8888888888888888,
              "#fdca26"
             ],
             [
              1,
              "#f0f921"
             ]
            ],
            "type": "contour"
           }
          ],
          "contourcarpet": [
           {
            "colorbar": {
             "outlinewidth": 0,
             "ticks": ""
            },
            "type": "contourcarpet"
           }
          ],
          "heatmap": [
           {
            "colorbar": {
             "outlinewidth": 0,
             "ticks": ""
            },
            "colorscale": [
             [
              0,
              "#0d0887"
             ],
             [
              0.1111111111111111,
              "#46039f"
             ],
             [
              0.2222222222222222,
              "#7201a8"
             ],
             [
              0.3333333333333333,
              "#9c179e"
             ],
             [
              0.4444444444444444,
              "#bd3786"
             ],
             [
              0.5555555555555556,
              "#d8576b"
             ],
             [
              0.6666666666666666,
              "#ed7953"
             ],
             [
              0.7777777777777778,
              "#fb9f3a"
             ],
             [
              0.8888888888888888,
              "#fdca26"
             ],
             [
              1,
              "#f0f921"
             ]
            ],
            "type": "heatmap"
           }
          ],
          "heatmapgl": [
           {
            "colorbar": {
             "outlinewidth": 0,
             "ticks": ""
            },
            "colorscale": [
             [
              0,
              "#0d0887"
             ],
             [
              0.1111111111111111,
              "#46039f"
             ],
             [
              0.2222222222222222,
              "#7201a8"
             ],
             [
              0.3333333333333333,
              "#9c179e"
             ],
             [
              0.4444444444444444,
              "#bd3786"
             ],
             [
              0.5555555555555556,
              "#d8576b"
             ],
             [
              0.6666666666666666,
              "#ed7953"
             ],
             [
              0.7777777777777778,
              "#fb9f3a"
             ],
             [
              0.8888888888888888,
              "#fdca26"
             ],
             [
              1,
              "#f0f921"
             ]
            ],
            "type": "heatmapgl"
           }
          ],
          "histogram": [
           {
            "marker": {
             "pattern": {
              "fillmode": "overlay",
              "size": 10,
              "solidity": 0.2
             }
            },
            "type": "histogram"
           }
          ],
          "histogram2d": [
           {
            "colorbar": {
             "outlinewidth": 0,
             "ticks": ""
            },
            "colorscale": [
             [
              0,
              "#0d0887"
             ],
             [
              0.1111111111111111,
              "#46039f"
             ],
             [
              0.2222222222222222,
              "#7201a8"
             ],
             [
              0.3333333333333333,
              "#9c179e"
             ],
             [
              0.4444444444444444,
              "#bd3786"
             ],
             [
              0.5555555555555556,
              "#d8576b"
             ],
             [
              0.6666666666666666,
              "#ed7953"
             ],
             [
              0.7777777777777778,
              "#fb9f3a"
             ],
             [
              0.8888888888888888,
              "#fdca26"
             ],
             [
              1,
              "#f0f921"
             ]
            ],
            "type": "histogram2d"
           }
          ],
          "histogram2dcontour": [
           {
            "colorbar": {
             "outlinewidth": 0,
             "ticks": ""
            },
            "colorscale": [
             [
              0,
              "#0d0887"
             ],
             [
              0.1111111111111111,
              "#46039f"
             ],
             [
              0.2222222222222222,
              "#7201a8"
             ],
             [
              0.3333333333333333,
              "#9c179e"
             ],
             [
              0.4444444444444444,
              "#bd3786"
             ],
             [
              0.5555555555555556,
              "#d8576b"
             ],
             [
              0.6666666666666666,
              "#ed7953"
             ],
             [
              0.7777777777777778,
              "#fb9f3a"
             ],
             [
              0.8888888888888888,
              "#fdca26"
             ],
             [
              1,
              "#f0f921"
             ]
            ],
            "type": "histogram2dcontour"
           }
          ],
          "mesh3d": [
           {
            "colorbar": {
             "outlinewidth": 0,
             "ticks": ""
            },
            "type": "mesh3d"
           }
          ],
          "parcoords": [
           {
            "line": {
             "colorbar": {
              "outlinewidth": 0,
              "ticks": ""
             }
            },
            "type": "parcoords"
           }
          ],
          "pie": [
           {
            "automargin": true,
            "type": "pie"
           }
          ],
          "scatter": [
           {
            "marker": {
             "colorbar": {
              "outlinewidth": 0,
              "ticks": ""
             }
            },
            "type": "scatter"
           }
          ],
          "scatter3d": [
           {
            "line": {
             "colorbar": {
              "outlinewidth": 0,
              "ticks": ""
             }
            },
            "marker": {
             "colorbar": {
              "outlinewidth": 0,
              "ticks": ""
             }
            },
            "type": "scatter3d"
           }
          ],
          "scattercarpet": [
           {
            "marker": {
             "colorbar": {
              "outlinewidth": 0,
              "ticks": ""
             }
            },
            "type": "scattercarpet"
           }
          ],
          "scattergeo": [
           {
            "marker": {
             "colorbar": {
              "outlinewidth": 0,
              "ticks": ""
             }
            },
            "type": "scattergeo"
           }
          ],
          "scattergl": [
           {
            "marker": {
             "colorbar": {
              "outlinewidth": 0,
              "ticks": ""
             }
            },
            "type": "scattergl"
           }
          ],
          "scattermapbox": [
           {
            "marker": {
             "colorbar": {
              "outlinewidth": 0,
              "ticks": ""
             }
            },
            "type": "scattermapbox"
           }
          ],
          "scatterpolar": [
           {
            "marker": {
             "colorbar": {
              "outlinewidth": 0,
              "ticks": ""
             }
            },
            "type": "scatterpolar"
           }
          ],
          "scatterpolargl": [
           {
            "marker": {
             "colorbar": {
              "outlinewidth": 0,
              "ticks": ""
             }
            },
            "type": "scatterpolargl"
           }
          ],
          "scatterternary": [
           {
            "marker": {
             "colorbar": {
              "outlinewidth": 0,
              "ticks": ""
             }
            },
            "type": "scatterternary"
           }
          ],
          "surface": [
           {
            "colorbar": {
             "outlinewidth": 0,
             "ticks": ""
            },
            "colorscale": [
             [
              0,
              "#0d0887"
             ],
             [
              0.1111111111111111,
              "#46039f"
             ],
             [
              0.2222222222222222,
              "#7201a8"
             ],
             [
              0.3333333333333333,
              "#9c179e"
             ],
             [
              0.4444444444444444,
              "#bd3786"
             ],
             [
              0.5555555555555556,
              "#d8576b"
             ],
             [
              0.6666666666666666,
              "#ed7953"
             ],
             [
              0.7777777777777778,
              "#fb9f3a"
             ],
             [
              0.8888888888888888,
              "#fdca26"
             ],
             [
              1,
              "#f0f921"
             ]
            ],
            "type": "surface"
           }
          ],
          "table": [
           {
            "cells": {
             "fill": {
              "color": "#EBF0F8"
             },
             "line": {
              "color": "white"
             }
            },
            "header": {
             "fill": {
              "color": "#C8D4E3"
             },
             "line": {
              "color": "white"
             }
            },
            "type": "table"
           }
          ]
         },
         "layout": {
          "annotationdefaults": {
           "arrowcolor": "#2a3f5f",
           "arrowhead": 0,
           "arrowwidth": 1
          },
          "autotypenumbers": "strict",
          "coloraxis": {
           "colorbar": {
            "outlinewidth": 0,
            "ticks": ""
           }
          },
          "colorscale": {
           "diverging": [
            [
             0,
             "#8e0152"
            ],
            [
             0.1,
             "#c51b7d"
            ],
            [
             0.2,
             "#de77ae"
            ],
            [
             0.3,
             "#f1b6da"
            ],
            [
             0.4,
             "#fde0ef"
            ],
            [
             0.5,
             "#f7f7f7"
            ],
            [
             0.6,
             "#e6f5d0"
            ],
            [
             0.7,
             "#b8e186"
            ],
            [
             0.8,
             "#7fbc41"
            ],
            [
             0.9,
             "#4d9221"
            ],
            [
             1,
             "#276419"
            ]
           ],
           "sequential": [
            [
             0,
             "#0d0887"
            ],
            [
             0.1111111111111111,
             "#46039f"
            ],
            [
             0.2222222222222222,
             "#7201a8"
            ],
            [
             0.3333333333333333,
             "#9c179e"
            ],
            [
             0.4444444444444444,
             "#bd3786"
            ],
            [
             0.5555555555555556,
             "#d8576b"
            ],
            [
             0.6666666666666666,
             "#ed7953"
            ],
            [
             0.7777777777777778,
             "#fb9f3a"
            ],
            [
             0.8888888888888888,
             "#fdca26"
            ],
            [
             1,
             "#f0f921"
            ]
           ],
           "sequentialminus": [
            [
             0,
             "#0d0887"
            ],
            [
             0.1111111111111111,
             "#46039f"
            ],
            [
             0.2222222222222222,
             "#7201a8"
            ],
            [
             0.3333333333333333,
             "#9c179e"
            ],
            [
             0.4444444444444444,
             "#bd3786"
            ],
            [
             0.5555555555555556,
             "#d8576b"
            ],
            [
             0.6666666666666666,
             "#ed7953"
            ],
            [
             0.7777777777777778,
             "#fb9f3a"
            ],
            [
             0.8888888888888888,
             "#fdca26"
            ],
            [
             1,
             "#f0f921"
            ]
           ]
          },
          "colorway": [
           "#636efa",
           "#EF553B",
           "#00cc96",
           "#ab63fa",
           "#FFA15A",
           "#19d3f3",
           "#FF6692",
           "#B6E880",
           "#FF97FF",
           "#FECB52"
          ],
          "font": {
           "color": "#2a3f5f"
          },
          "geo": {
           "bgcolor": "white",
           "lakecolor": "white",
           "landcolor": "#E5ECF6",
           "showlakes": true,
           "showland": true,
           "subunitcolor": "white"
          },
          "hoverlabel": {
           "align": "left"
          },
          "hovermode": "closest",
          "mapbox": {
           "style": "light"
          },
          "paper_bgcolor": "white",
          "plot_bgcolor": "#E5ECF6",
          "polar": {
           "angularaxis": {
            "gridcolor": "white",
            "linecolor": "white",
            "ticks": ""
           },
           "bgcolor": "#E5ECF6",
           "radialaxis": {
            "gridcolor": "white",
            "linecolor": "white",
            "ticks": ""
           }
          },
          "scene": {
           "xaxis": {
            "backgroundcolor": "#E5ECF6",
            "gridcolor": "white",
            "gridwidth": 2,
            "linecolor": "white",
            "showbackground": true,
            "ticks": "",
            "zerolinecolor": "white"
           },
           "yaxis": {
            "backgroundcolor": "#E5ECF6",
            "gridcolor": "white",
            "gridwidth": 2,
            "linecolor": "white",
            "showbackground": true,
            "ticks": "",
            "zerolinecolor": "white"
           },
           "zaxis": {
            "backgroundcolor": "#E5ECF6",
            "gridcolor": "white",
            "gridwidth": 2,
            "linecolor": "white",
            "showbackground": true,
            "ticks": "",
            "zerolinecolor": "white"
           }
          },
          "shapedefaults": {
           "line": {
            "color": "#2a3f5f"
           }
          },
          "ternary": {
           "aaxis": {
            "gridcolor": "white",
            "linecolor": "white",
            "ticks": ""
           },
           "baxis": {
            "gridcolor": "white",
            "linecolor": "white",
            "ticks": ""
           },
           "bgcolor": "#E5ECF6",
           "caxis": {
            "gridcolor": "white",
            "linecolor": "white",
            "ticks": ""
           }
          },
          "title": {
           "x": 0.05
          },
          "xaxis": {
           "automargin": true,
           "gridcolor": "white",
           "linecolor": "white",
           "ticks": "",
           "title": {
            "standoff": 15
           },
           "zerolinecolor": "white",
           "zerolinewidth": 2
          },
          "yaxis": {
           "automargin": true,
           "gridcolor": "white",
           "linecolor": "white",
           "ticks": "",
           "title": {
            "standoff": 15
           },
           "zerolinecolor": "white",
           "zerolinewidth": 2
          }
         }
        },
        "width": 800
       }
      }
     },
     "metadata": {},
     "output_type": "display_data"
    }
   ],
   "source": [
    "# Creating a 3D-Scatter with the PCA data and the clusters\n",
    "fig = px.scatter_3d(\n",
    "    clustered_df,\n",
    "    x=\"PC 1\",\n",
    "    y=\"PC 2\",\n",
    "    z=\"PC 3\",\n",
    "    color=\"class\",\n",
    "    symbol=\"class\",\n",
    "    width=800,\n",
    "    hover_name=\"CoinName\", \n",
    "    hover_data=[\"Algorithm\"]\n",
    ")\n",
    "fig.update_layout(legend=dict(x=0, y=1))\n",
    "fig.show()\n"
   ]
  },
  {
   "cell_type": "code",
   "execution_count": 429,
   "metadata": {},
   "outputs": [
    {
     "data": {},
     "metadata": {},
     "output_type": "display_data"
    },
    {
     "data": {
      "application/vnd.holoviews_exec.v0+json": "",
      "text/html": [
       "<div id='2565'>\n",
       "\n",
       "\n",
       "\n",
       "\n",
       "\n",
       "  <div class=\"bk-root\" id=\"49a531f5-bd36-4313-bb47-3d25c72e614b\" data-root-id=\"2565\"></div>\n",
       "</div>\n",
       "<script type=\"application/javascript\">(function(root) {\n",
       "  function embed_document(root) {\n",
       "    var docs_json = {\"df3199d8-1690-4dc9-a695-14002bc5f060\":{\"defs\":[{\"extends\":null,\"module\":null,\"name\":\"ReactiveHTML1\",\"overrides\":[],\"properties\":[]},{\"extends\":null,\"module\":null,\"name\":\"FlexBox1\",\"overrides\":[],\"properties\":[{\"default\":\"flex-start\",\"kind\":null,\"name\":\"align_content\"},{\"default\":\"flex-start\",\"kind\":null,\"name\":\"align_items\"},{\"default\":\"row\",\"kind\":null,\"name\":\"flex_direction\"},{\"default\":\"wrap\",\"kind\":null,\"name\":\"flex_wrap\"},{\"default\":\"flex-start\",\"kind\":null,\"name\":\"justify_content\"}]},{\"extends\":null,\"module\":null,\"name\":\"GridStack1\",\"overrides\":[],\"properties\":[{\"default\":\"warn\",\"kind\":null,\"name\":\"mode\"},{\"default\":null,\"kind\":null,\"name\":\"ncols\"},{\"default\":null,\"kind\":null,\"name\":\"nrows\"},{\"default\":true,\"kind\":null,\"name\":\"allow_resize\"},{\"default\":true,\"kind\":null,\"name\":\"allow_drag\"},{\"default\":[],\"kind\":null,\"name\":\"state\"}]},{\"extends\":null,\"module\":null,\"name\":\"click1\",\"overrides\":[],\"properties\":[{\"default\":\"\",\"kind\":null,\"name\":\"terminal_output\"},{\"default\":\"\",\"kind\":null,\"name\":\"debug_name\"},{\"default\":0,\"kind\":null,\"name\":\"clears\"}]},{\"extends\":null,\"module\":null,\"name\":\"TemplateActions1\",\"overrides\":[],\"properties\":[{\"default\":0,\"kind\":null,\"name\":\"open_modal\"},{\"default\":0,\"kind\":null,\"name\":\"close_modal\"}]},{\"extends\":null,\"module\":null,\"name\":\"MaterialTemplateActions1\",\"overrides\":[],\"properties\":[{\"default\":0,\"kind\":null,\"name\":\"open_modal\"},{\"default\":0,\"kind\":null,\"name\":\"close_modal\"}]}],\"roots\":{\"references\":[{\"attributes\":{\"margin\":[5,5,5,5],\"name\":\"HSpacer04415\",\"sizing_mode\":\"stretch_width\"},\"id\":\"2566\",\"type\":\"Spacer\"},{\"attributes\":{\"columns\":[{\"id\":\"2571\"},{\"id\":\"2576\"},{\"id\":\"2581\"},{\"id\":\"2586\"},{\"id\":\"2591\"},{\"id\":\"2596\"},{\"id\":\"2601\"},{\"id\":\"2606\"},{\"id\":\"2611\"}],\"height\":300,\"reorderable\":false,\"source\":{\"id\":\"2567\"},\"view\":{\"id\":\"2616\"},\"width\":700},\"id\":\"2614\",\"type\":\"DataTable\"},{\"attributes\":{\"editor\":{\"id\":\"2595\"},\"field\":\"ProofType\",\"formatter\":{\"id\":\"2594\"},\"title\":\"ProofType\"},\"id\":\"2596\",\"type\":\"TableColumn\"},{\"attributes\":{},\"id\":\"2617\",\"type\":\"UnionRenderers\"},{\"attributes\":{\"editor\":{\"id\":\"2570\"},\"field\":\"Algorithm\",\"formatter\":{\"id\":\"2569\"},\"title\":\"Algorithm\"},\"id\":\"2571\",\"type\":\"TableColumn\"},{\"attributes\":{},\"id\":\"2595\",\"type\":\"StringEditor\"},{\"attributes\":{},\"id\":\"2574\",\"type\":\"StringFormatter\"},{\"attributes\":{\"format\":\"0,0.0[00000]\"},\"id\":\"2599\",\"type\":\"NumberFormatter\"},{\"attributes\":{},\"id\":\"2575\",\"type\":\"StringEditor\"},{\"attributes\":{},\"id\":\"2600\",\"type\":\"NumberEditor\"},{\"attributes\":{\"editor\":{\"id\":\"2575\"},\"field\":\"CoinName\",\"formatter\":{\"id\":\"2574\"},\"title\":\"CoinName\"},\"id\":\"2576\",\"type\":\"TableColumn\"},{\"attributes\":{\"data\":{\"Algorithm\":[\"Scrypt\",\"Scrypt\",\"SHA-256\",\"X13\",\"SHA-256\",\"Ethash\",\"Scrypt\",\"X11\",\"CryptoNight-V7\",\"Ethash\",\"Equihash\",\"SHA-512\",\"Multiple\",\"SHA-256\",\"X11\",\"SHA-256\",\"Scrypt\",\"X15\",\"X11\",\"SHA-256\",\"X13\",\"X13\",\"Scrypt\",\"Scrypt\",\"Scrypt\",\"SHA-256\",\"Scrypt\",\"Multiple\",\"Scrypt\",\"SHA-256\",\"Scrypt\",\"Scrypt\",\"Scrypt\",\"Quark\",\"Groestl\",\"Scrypt\",\"X11\",\"Scrypt\",\"Scrypt\",\"Scrypt\",\"Scrypt\",\"Scrypt\",\"Scrypt\",\"Multiple\",\"Scrypt\",\"X11\",\"Scrypt\",\"SHA-256\",\"Groestl\",\"Multiple\",\"X11\",\"Scrypt\",\"SHA-256\",\"Scrypt\",\"Scrypt\",\"Scrypt\",\"Scrypt\",\"Scrypt\",\"PoS\",\"Scrypt\",\"X11\",\"NIST5\",\"SHA-256\",\"Scrypt\",\"Scrypt\",\"NeoScrypt\",\"Scrypt\",\"Scrypt\",\"Scrypt\",\"X11\",\"X15\",\"Scrypt\",\"Multiple\",\"X11\",\"Scrypt\",\"X11\",\"SHA-256\",\"X11\",\"X13\",\"Scrypt\",\"Scrypt\",\"Scrypt\",\"Scrypt\",\"X11\",\"SHA3\",\"Scrypt\",\"HybridScryptHash256\",\"Scrypt\",\"Scrypt\",\"SHA-256\",\"Scrypt\",\"X13\",\"SHA-256\",\"Scrypt\",\"SHA-256\",\"Scrypt\",\"X13\",\"NeoScrypt\",\"Scrypt\",\"Scrypt\",\"Scrypt\",\"Scrypt\",\"Scrypt\",\"Scrypt\",\"X15\",\"Scrypt\",\"Scrypt\",\"Scrypt-n\",\"Scrypt\",\"X11\",\"X11\",\"SHA-256\",\"Multiple\",\"SHA-256\",\"PHI1612\",\"X11\",\"SHA-256\",\"SHA-256\",\"SHA-256\",\"SHA-256\",\"X11\",\"Scrypt\",\"Scrypt\",\"X13\",\"Scrypt\",\"X11\",\"Scrypt\",\"Lyra2REv2\",\"Scrypt\",\"Scrypt\",\"X11\",\"Multiple\",\"SHA-256\",\"X13\",\"Scrypt\",\"Scrypt\",\"CryptoNight\",\"CryptoNight\",\"Shabal256\",\"Counterparty\",\"Scrypt\",\"SHA-256\",\"SHA-256\",\"Scrypt\",\"Groestl\",\"Scrypt\",\"Scrypt\",\"Scrypt\",\"X13\",\"Scrypt\",\"Scrypt\",\"Scrypt\",\"SHA-256\",\"Scrypt\",\"X13\",\"X13\",\"Scrypt\",\"X11\",\"Momentum\",\"Stanford Folding\",\"X11\",\"Multiple\",\"QuBit\",\"X15\",\"Scrypt\",\"Scrypt\",\"Scrypt\",\"Scrypt\",\"SHA-256\",\"M7 POW\",\"Scrypt\",\"X11\",\"Scrypt\",\"SHA-256\",\"Scrypt\",\"Scrypt\",\"X11\",\"X11\",\"SHA3\",\"X11\",\"Scrypt\",\"Lyra2RE\",\"SHA-256\",\"QUAIT\",\"X11\",\"vDPOS\",\"X11\",\"X11\",\"Scrypt\",\"Scrypt\",\"Scrypt\",\"Ethash\",\"X11\",\"X13\",\"Blake2b\",\"SHA-256\",\"X13\",\"X15\",\"X11\",\"SHA-256\",\"BLAKE256\",\"Scrypt\",\"Scrypt\",\"1GB AES Pattern Search\",\"SHA-256\",\"X11\",\"Scrypt\",\"CryptoNight\",\"SHA-256\",\"Quark\",\"SHA-256\",\"NIST5\",\"Blake\",\"Scrypt\",\"Scrypt\",\"SHA-256\",\"X11\",\"Scrypt\",\"Scrypt-n\",\"X11\",\"Scrypt\",\"Dagger\",\"Scrypt\",\"SHA-256\",\"CryptoNight-Lite\",\"X11GOST\",\"X11\",\"SHA-256\",\"Scrypt\",\"SHA-256\",\"Scrypt\",\"PoS\",\"Scrypt\",\"X11\",\"X11\",\"X11\",\"X11\",\"PoS\",\"SHA-256\",\"SHA-256\",\"SHA-256\",\"NIST5\",\"X15\",\"X11\",\"NIST5\",\"Scrypt\",\"Scrypt\",\"Scrypt\",\"POS 3.0\",\"Scrypt\",\"Scrypt\",\"Scrypt\",\"X13\",\"X11\",\"X11\",\"Equihash\",\"X11\",\"X11\",\"Scrypt\",\"CryptoNight\",\"SHA-256\",\"SHA-256\",\"X11\",\"Scrypt\",\"Multiple\",\"Scrypt\",\"Scrypt\",\"X11\",\"Scrypt\",\"SHA-256\",\"Scrypt\",\"Scrypt\",\"SHA-256D\",\"PoS\",\"Scrypt\",\"Scrypt\",\"X11\",\"Scrypt-n\",\"Lyra2Z\",\"SHA-256\",\"PoS\",\"X13\",\"Quark\",\"X14\",\"PoS\",\"SHA-256D\",\"Ethash\",\"SHA-256\",\"Equihash\",\"DPoS\",\"X11\",\"Scrypt\",\"Scrypt\",\"Equihash\",\"X11\",\"X13\",\"X11\",\"PoS\",\"SHA-256D\",\"Scrypt\",\"Scrypt\",\"Scrypt\",\"X11\",\"PoS\",\"X11\",\"SHA-256\",\"Scrypt\",\"X11\",\"Scrypt\",\"Scrypt\",\"X11\",\"CryptoNight\",\"Scrypt\",\"Scrypt\",\"Scrypt\",\"Scrypt\",\"Quark\",\"QuBit\",\"Scrypt\",\"CryptoNight\",\"X11\",\"Lyra2RE\",\"X13\",\"PoS\",\"Scrypt\",\"SHA-256\",\"X11\",\"X11\",\"X11\",\"Scrypt\",\"X11\",\"Scrypt\",\"Scrypt\",\"CryptoNight-V7\",\"Scrypt\",\"Scrypt\",\"Keccak\",\"Scrypt\",\"X13\",\"X11\",\"Equihash\",\"Scrypt\",\"Scrypt\",\"Lyra2RE\",\"Ethash\",\"X11\",\"Scrypt\",\"Dagger-Hashimoto\",\"X11\",\"Blake2S\",\"X11\",\"Scrypt\",\"Scrypt\",\"PoS\",\"X11\",\"NIST5\",\"PoS\",\"X11\",\"Scrypt\",\"Scrypt\",\"Scrypt\",\"Scrypt\",\"SHA-256\",\"X11\",\"Scrypt\",\"Scrypt\",\"Scrypt\",\"SHA-256\",\"PoS\",\"Scrypt\",\"X11\",\"X15\",\"SHA-256\",\"Scrypt\",\"POS 3.0\",\"CryptoNight-V7\",\"536\",\"Argon2d\",\"Blake2b\",\"Cloverhash\",\"CryptoNight\",\"NIST5\",\"X11\",\"NIST5\",\"Skein\",\"Scrypt\",\"X13\",\"Scrypt\",\"X11\",\"X11\",\"X11\",\"Scrypt\",\"CryptoNight\",\"X13\",\"Time Travel\",\"Scrypt\",\"Keccak\",\"SkunkHash v2 Raptor\",\"X11\",\"Skein\",\"SHA-256\",\"X11\",\"Scrypt\",\"Scrypt\",\"VeChainThor Authority\",\"Scrypt\",\"PoS\",\"Scrypt\",\"Scrypt\",\"Scrypt\",\"Scrypt\",\"Scrypt\",\"Scrypt\",\"Scrypt\",\"Scrypt\",\"CryptoNight\",\"SHA-512\",\"Ouroboros\",\"X11\",\"Equihash\",\"NeoScrypt\",\"X11\",\"Scrypt\",\"NeoScrypt\",\"Lyra2REv2\",\"Equihash\",\"Scrypt\",\"SHA-256\",\"NIST5\",\"PHI1612\",\"Dagger\",\"Scrypt\",\"Quark\",\"Scrypt\",\"POS 2.0\",\"Scrypt\",\"SkunkHash\",\"X11\",\"Quark\",\"SHA-256\",\"X11\",\"NeoScrypt\",\"Scrypt\",\"Ethash\",\"Scrypt\",\"NeoScrypt\",\"Quark\",\"X11\",\"DPoS\",\"NIST5\",\"X13\",\"Multiple\",\"Scrypt\",\"CryptoNight\",\"CryptoNight\",\"Ethash\",\"NIST5\",\"Quark\",\"X11\",\"SHA-256\",\"CryptoNight-V7\",\"Scrypt\",\"Scrypt\",\"Scrypt\",\"X11\",\"SHA-256\",\"BLAKE256\",\"X11\",\"Scrypt\",\"NeoScrypt\",\"Quark\",\"NeoScrypt\",\"Scrypt\",\"Scrypt\",\"Scrypt\",\"X11\",\"X11\",\"SHA-256\",\"C11\",\"Scrypt\",\"Scrypt\",\"POS 3.0\",\"Ethash\",\"Scrypt\",\"CryptoNight\",\"SkunkHash\",\"Scrypt\",\"CryptoNight\",\"Equihash\",\"Skein\",\"Scrypt\",\"Dagger\",\"Lyra2REv2\",\"X13\",\"Proof-of-BibleHash\",\"SHA-256 + Hive\",\"Scrypt\",\"Scrypt\",\"Scrypt\",\"NeoScrypt\",\"Equihash\",\"X11\",\"C11\",\"Proof-of-Authority\",\"X11\",\"XEVAN\",\"Scrypt\",\"VBFT\",\"Ethash\",\"X11\",\"CryptoNight\",\"NeoScrypt\",\"Scrypt\",\"IMesh\",\"NIST5\",\"Equihash\",\"Scrypt\",\"Scrypt\",\"Equihash\",\"Equihash\",\"Scrypt\",\"Lyra2Z\",\"Equihash\",\"Green Protocol\",\"PoS\",\"Scrypt\",\"Scrypt\",\"Semux BFT consensus\",\"Scrypt\",\"X11\",\"Quark\",\"PoS\",\"CryptoNight\",\"X16R\",\"Scrypt\",\"NIST5\",\"Lyra2RE\",\"XEVAN\",\"Tribus\",\"Scrypt\",\"Lyra2Z\",\"CryptoNight\",\"CryptoNight Heavy\",\"CryptoNight\",\"Scrypt\",\"Scrypt\",\"Jump Consistent Hash\",\"SHA-256D\",\"CryptoNight\",\"Scrypt\",\"X15\",\"Scrypt\",\"Quark\",\"SHA-256\",\"DPoS\",\"X16R\",\"HMQ1725\",\"X11\",\"X16R\",\"Quark\",\"Quark\",\"Scrypt\",\"Zhash\",\"Lyra2REv2\",\"Quark\",\"Scrypt\",\"Scrypt\",\"CryptoNight-V7\",\"Cryptonight-GPU\",\"Scrypt\",\"XEVAN\",\"CryptoNight Heavy\",\"X11\",\"X11\",\"Scrypt\",\"PoS\",\"Lyra2REv2\",\"Scrypt\",\"SHA-256\",\"Scrypt\",\"Keccak\",\"X11\",\"X11\",\"Quark\",\"Scrypt\",\"SHA-512\",\"X16R\",\"ECC 256K1\",\"NeoScrypt\",\"Equihash\",\"XEVAN\",\"Quark\",\"CryptoNight Heavy X\",\"Lyra2Z\",\"Ethash\",\"SHA-256\",\"XEVAN\",\"Ethash\",\"X11\",\"CryptoNight\",\"Quark\",\"SkunkHash\",\"Quark\",\"Argon2\",\"Blake\",\"Blake\",\"SHA-256\",\"Equihash\",\"Exosis\",\"Scrypt\",\"Scrypt\",\"Equihash\",\"Quark\",\"Equihash\",\"Quark\",\"Scrypt\",\"QuBit\",\"X11\",\"Scrypt\",\"Equihash1927\",\"XEVAN\",\"SHA-256D\",\"X11\",\"SHA-256\",\"SHA-256\",\"X13\",\"SHA-256\",\"X11\",\"DPoS\",\"X11\",\"Scrypt\",\"X11\",\"Scrypt\",\"X11\",\"NeoScrypt\",\"QuBit\",\"Scrypt\",\"Blake\",\"Scrypt\",\"SHA-256\",\"Scrypt\",\"X11\",\"CryptoNight\",\"Scrypt\",\"Scrypt\",\"SHA-256\",\"X11\",\"SHA-256\",\"Scrypt\",\"CryptoNight\",\"Scrypt\",\"SHA-256\",\"Scrypt\",\"Groestl\",\"X11\",\"Scrypt\",\"PoS\",\"Scrypt\",\"Scrypt\",\"X11\",\"SHA-256\",\"DPoS\",\"Scrypt\",\"Scrypt\",\"Scrypt\",\"NeoScrypt\",\"Scrypt\",\"SHA3-256\",\"Multiple\",\"X13\",\"Equihash+Scrypt\",\"DPoS\",\"Ethash\",\"DPoS\",\"Ethash\",\"SHA-256\",\"Leased POS\",\"PoS\",\"TRC10\",\"PoS\",\"SHA-256\",\"Scrypt\",\"CryptoNight\",\"Equihash\",\"Scrypt\"],\"CoinName\":[\"42 Coin\",\"404Coin\",\"808\",\"EliteCoin\",\"Bitcoin\",\"Ethereum\",\"Litecoin\",\"Dash\",\"Monero\",\"Ethereum Classic\",\"ZCash\",\"Bitshares\",\"DigiByte\",\"BitcoinDark\",\"Bitstake\",\"PayCoin\",\"ProsperCoin\",\"KoboCoin\",\"Spreadcoin\",\"ACoin\",\"Aero Coin\",\"ApexCoin\",\"ArchCoin\",\"Argentum\",\"Aurora Coin\",\"BetaCoin\",\"BlueCoin\",\"MyriadCoin\",\"MoonCoin\",\"ZetaCoin\",\"SexCoin\",\"Quatloo\",\"EnergyCoin\",\"QuarkCoin\",\"Riecoin\",\"Digitalcoin \",\"LimeCoinX\",\"BitBar\",\"BitMark\",\"CashCoin\",\"Catcoin\",\"CryptoBullion\",\"CannaCoin\",\"CinderCoin\",\"CoolCoin\",\"CryptCoin\",\"CasinoCoin\",\"eMark\",\"Diamond\",\"Verge\",\"DarkCash\",\"DarkShibe\",\"DevCoin\",\"EarthCoin\",\"E-Gulden\",\"Elacoin\",\"Einsteinium\",\"Emerald\",\"Exclusive Coin\",\"Flappy Coin\",\"Fuel2Coin\",\"FIBRE\",\"FireRoosterCoin\",\"FlutterCoin\",\"Franko\",\"FeatherCoin\",\"GrandCoin\",\"GlobalCoin\",\"GoldCoin\",\"GlyphCoin\",\"Halcyon\",\"HoboNickels\",\"HunterCoin\",\"HyperStake\",\"Infinite Coin\",\"IOCoin\",\"IXcoin\",\"JumBucks Coin\",\"JudgeCoin\",\"KrugerCoin\",\"LuckyCoin\",\"Litebar \",\"LitecoinDark\",\"LibrexCoin\",\"MaxCoin\",\"MegaCoin\",\"MediterraneanCoin\",\"MintCoin\",\"MinCoin\",\"MazaCoin\",\"Nautilus Coin\",\"NavCoin\",\"NoirBits\",\"NobleCoin\",\"Namecoin\",\"NyanCoin\",\"OpalCoin\",\"Orbitcoin\",\"PotCoin\",\"PhoenixCoin\",\"Reddcoin\",\"RipOffCoin\",\"RonPaulCoin\",\"StableCoin\",\"ShieldCoin\",\"SilkCoin\",\"SmartCoin\",\"SpainCoin\",\"SecureCoin\",\"SuperCoin\",\"SyncCoin\",\"SysCoin\",\"TeslaCoin\",\"TigerCoin\",\"TittieCoin\",\"TorCoin\",\"TerraCoin\",\"Umbrella\",\"UnbreakableCoin\",\"Unobtanium\",\"UroCoin\",\"UnitaryStatus Dollar\",\"UltraCoin\",\"Utility Coin\",\"ViaCoin\",\"VootCoin\",\"VeriCoin\",\"Vertcoin\",\"WorldCoin\",\"SocialXbotCoin\",\"X11 Coin\",\"Crypti\",\"JouleCoin\",\"StealthCoin\",\"XXXCoin\",\"ZCC Coin\",\"ByteCoin\",\"DigitalNote \",\"BurstCoin\",\"StorjCoin\",\"MonaCoin\",\"Neutron\",\"Sling Coin\",\"KryptCoin\",\"FairCoin\",\"Gulden\",\"RubyCoin\",\"PesetaCoin\",\"Kore\",\"Wild Beast Coin\",\"Dnotes\",\"Flo\",\"MaieutiCoin\",\"8BIT Coin\",\"Sativa Coin\",\"AeroMe\",\"ArtByte\",\"MasterTraderCoin\",\"BitCredit\",\"Folding Coin\",\"Ucoin\",\"Unitus\",\"CypherPunkCoin\",\"MaryJane Coin\",\"OmniCron\",\"CyberCoin\",\"Vtorrent\",\"GreenCoin\",\"Unattanium\",\"Cryptonite\",\"Gridmaster\",\"ConSpiracy Coin \",\"MasterCoin\",\"SoonCoin\",\"1Credit\",\"ViorCoin\",\"IslaCoin\",\"Quicksilver coin\",\"Nexus\",\"MarsCoin \",\"Singular\",\"Crypto\",\"Anarchists Prime\",\"Droidz\",\"BowsCoin\",\"CryptoCircuits\",\"Squall Coin\",\"Milllionaire Coin\",\"Song Coin\",\"BitZeny\",\"Diggits\",\"Expanse\",\"MapCoin\",\"Paycon\",\"Siacoin\",\"Emercoin\",\"BlitzCoin\",\"EverGreenCoin\",\"MindCoin\",\"I0coin\",\"Decred\",\"DogeCoinDark\",\"Revolution VR\",\"HOdlcoin\",\"EDRCoin\",\"Hitcoin\",\"Gamecredits\",\"Dashcoin\",\"DubaiCoin\",\"BiosCrypto\",\"CarpeDiemCoin\",\"PWR Coin\",\"TrumpCoin\",\"BillaryCoin\",\"EthereumScrypt\",\"Phalanx\",\"SunShotCoin\",\"GPU Coin\",\"HempCoin\",\"Adzcoin\",\"VirtaCoin\",\"SoilCoin\",\"YoCoin\",\"Universal Currency\",\"AEON\",\"SibCoin\",\"EuropeCoin\",\"Anti Bitcoin\",\"ZeitCoin\",\"SwingCoin\",\"SafeExchangeCoin\",\"Nebuchadnezzar\",\"Francs\",\"BolivarCoin\",\"GIZMOcoin\",\"SecretCoin\",\"Ratecoin\",\"Digital Bullion Gold\",\"Revenu\",\"Clinton\",\"Clockcoin\",\"VIP Tokens\",\"OrlyCoin\",\"BitSend\",\"16BitCoin\",\"ChessCoin\",\"ReeCoin\",\"Omni\",\"Let it Ride\",\"PutinCoin\",\"iBankCoin\",\"Frankywillcoin\",\"MudraCoin\",\"PizzaCoin\",\"Lutetium Coin\",\"Komodo\",\"GoldBlocks\",\"WayCoin\",\"CarterCoin\",\"Karbo\",\"BitTokens\",\"ZayedCoin\",\"MustangCoin\",\"ZoneCoin\",\"Circuits of Value\",\"RootCoin\",\"DopeCoin\",\"PROUD Money\",\"BitCurrency\",\"DollarCoin\",\"Swiscoin\",\"Shilling\",\"BuzzCoin\",\"Opair\",\"PesoBit\",\"GBR Coin\",\"Halloween Coin\",\"FujiCoin\",\"ZCoin\",\"LeaCoin\",\"CoffeeCoin\",\"RoyalCoin\",\"Zurcoin\",\"GanjaCoin V2\",\"TeamUP\",\"LanaCoin\",\"Elementrem\",\"CashOut\",\"ZClassic\",\"ARK\",\"InsaneCoin\",\"LuckChain\",\"KiloCoin\",\"Hush\",\"ArtexCoin\",\"EmberCoin\",\"XenixCoin\",\"FreeCoin\",\"NPCcoin\",\"PLNCoin\",\"Icobid\",\"AquariusCoin\",\"Kurrent\",\"Creatio\",\"Eternity\",\"Eurocoin\",\"BitcoinFast\",\"Stakenet\",\"BitConnect Coin\",\"MoneyCoin\",\"Enigma\",\"Cannabis Industry Coin\",\"Russiacoin\",\"PandaCoin\",\"GameUnits\",\"GAKHcoin\",\"Allsafe\",\"LiteCreed\",\"OsmiumCoin\",\"Bikercoins\",\"NeptuneClassic\",\"HexxCoin\",\"GoldenBird\",\"Ride My Car\",\"Klingon Empire Darsek\",\"Internet of People\",\"KushCoin\",\"Eryllium\",\"MarxCoin\",\"Printerium\",\"PacCoin\",\"Impeach\",\"Solarflarecoin\",\"Citadel\",\"Zilbercoin\",\"FirstCoin\",\"CreativeChain\",\"BeaverCoin\",\"FindCoin\",\"VaultCoin\",\"Zero\",\"OpenChat\",\"Canada eCoin\",\"Zoin\",\"Musicoin\",\"BnrtxCoin\",\"RenosCoin\",\"DubaiCoin\",\"VirtacoinPlus\",\"TajCoin\",\"Impact\",\"EB3coin\",\"Universe\",\"Atmos\",\"HappyCoin\",\"Coinonat\",\"MacronCoin\",\"Condensate\",\"Independent Money System\",\"ArgusCoin\",\"LomoCoin\",\"Bitcoin Scrypt\",\"ProCurrency\",\"GoldReserve\",\"BenjiRolls\",\"ParallelCoin\",\"GrowthCoin\",\"ILCoin\",\"Phreak\",\"Degas Coin\",\"ZSEcoin\",\"HTML5 Coin\",\"Ultimate Secure Cash\",\"EquiTrader\",\"QTUM\",\"Quantum Resistant Ledger\",\"Espers\",\"Dynamic\",\"Nano\",\"ChanCoin\",\"Dinastycoin\",\"Denarius\",\"DigitalPrice\",\"Virta Unique Coin\",\"Bitcoin Planet\",\"Unify\",\"BritCoin\",\"SocialCoin\",\"Octanox\",\"ArcticCoin\",\"DAS\",\"Linda\",\"LeviarCoin\",\"DeepOnion\",\"Bitcore\",\"gCn Coin\",\"SmartCash\",\"Signatum\",\"Onix\",\"Cream\",\"Bitcoin Cash\",\"Monoeci\",\"CampusCoin\",\"Draftcoin\",\"Vechain\",\"Sojourn Coin\",\"Stakecoin\",\"NewYorkCoin\",\"LiteBitcoin\",\"FrazCoin\",\"Kronecoin\",\"AdCoin\",\"Linx\",\"CoinonatX\",\"Ethereum Dark\",\"Sumokoin\",\"Obsidian\",\"Cardano\",\"Regalcoin\",\"BitcoinZ\",\"TrezarCoin\",\"Elements\",\"TerraNovaCoin\",\"VIVO Coin\",\"Rupee\",\"Bitcoin Gold\",\"WomenCoin\",\"Theresa May Coin\",\"NamoCoin\",\"LUXCoin\",\"Pirl\",\"Xios\",\"Bitcloud 2.0\",\"eBoost\",\"KekCoin\",\"BlackholeCoin\",\"AltCommunity Coin\",\"Pure\",\"Rupaya\",\"Infinity Economics\",\"Pura\",\"Innova\",\"Bitdeal\",\"Ellaism\",\"Sakuracoin\",\"GoByte\",\"Castle\",\"Magnet\",\"Lamden Tau\",\"Electra\",\"Bitcoin Diamond\",\"SHIELD\",\"Cash & Back Coin\",\"UltraNote\",\"BitCoal\",\"DaxxCoin\",\"Bulwark\",\"Kalkulus\",\"AC3\",\"CHIPS\",\"Lethean\",\"GermanCoin\",\"LiteCoin Ultra\",\"PopularCoin\",\"PhantomX\",\"HTML Coin\",\"Photon\",\"Sucre\",\"Fantasy Cash\",\"SparksPay\",\"Digiwage\",\"GunCoin\",\"IrishCoin\",\"Trollcoin\",\"Litecoin Plus\",\"Monkey Project\",\"Pioneer Coin\",\"UnitedBitcoin\",\"Interzone\",\"OP Coin\",\"Valorbit\",\"TokenPay\",\"1717 Masonic Commemorative Token\",\"My Big Coin\",\"TurtleCoin\",\"MUNcoin\",\"Unified Society USDEX\",\"Niobio Cash\",\"Bitcoin Private\",\"Skeincoin\",\"ShareChain\",\"Travelflex\",\"KREDS\",\"Tokyo Coin\",\"BiblePay\",\"LitecoinCash\",\"BitFlip\",\"LottoCoin\",\"LeafCoin\",\"Cerberus\",\"Bitcoin Hush\",\"Crypto Improvement Fund\",\"Stipend\",\"Poa Network\",\"Pushi\",\"Ellerium\",\"Velox\",\"Ontology\",\"Callisto Network\",\"Curium\",\"BitTube\",\"Dinero\",\"Poseidon\",\"Aidos Kuneen\",\"Bitspace\",\"Snowgem\",\"Briacoin\",\"Ignition\",\"Bitrolium\",\"Bitcoin Interest\",\"MedicCoin\",\"Alpenschillling\",\"Zelcash\",\"Bitcoin Green\",\"Deviant Coin\",\"Abjcoin\",\"Profit Hunters Coin\",\"Semux\",\"BitBlocks\",\"FuturoCoin\",\"Carebit\",\"Zealium\",\"Monero Classic\",\"Proton\",\"iDealCash\",\"Jumpcoin\",\"Infinex\",\"Bitcoin Incognito\",\"KEYCO\",\"HollyWoodCoin\",\"GINcoin\",\"PlatinCoin\",\"Loki\",\"Newton Coin\",\"Swisscoin\",\"Xt3ch\",\"MassGrid\",\"TheVig\",\"PluraCoin\",\"EmaratCoin\",\"Dekado\",\"Lynx\",\"Poseidon Quark\",\"BitcoinWSpectrum\",\"Muse\",\"Motion\",\"PlusOneCoin\",\"Axe\",\"Trivechain\",\"Dystem\",\"Giant\",\"Peony Coin\",\"SafeCoin\",\"Absolute Coin\",\"Vitae\",\"HexCoin\",\"TPCash\",\"Webchain\",\"Ryo\",\"MUSDcoin\",\"Urals Coin\",\"Qwertycoin\",\"ARENON\",\"EUNO\",\"MMOCoin\",\"Ketan\",\"NIX\",\"Safe Trade Coin\",\"Project Pai\",\"Mont Blanc\",\"XDNA\",\"PAXEX\",\"Azart\",\"Apollon\",\"ThunderStake\",\"Kcash\",\"Xchange\",\"Acute Angle Cloud\",\"Traid\",\"CrypticCoin\",\"Bettex coin\",\"ZestCoin\",\"X-CASH\",\"Actinium\",\"ETHER-1\",\"Bitcoin SV\",\"BitMoney\",\"Bitcoiin2Gen\",\"Junson Ming Chan Coin\",\"FREDEnergy\",\"Zenad\",\"C25 Coin\",\"HerbCoin\",\"Aquachain\",\"Universal Molecule\",\"Lithium\",\"Smart Bitcoin\",\"PirateCash\",\"Exosis\",\"Block-Logic\",\"Oduwa\",\"Beam\",\"Galilel\",\"Bithereum\",\"Crypto Sports\",\"Credit\",\"SLICE\",\"Dash Platinum\",\"Nasdacoin\",\"Vidulum\",\"Beetle Coin\",\"Titan Coin\",\"Award\",\"BlockStamp\",\"BLAST\",\"Bitcoin Rhodium\",\"GlobalToken\",\"Insane Coin\",\"ALAX\",\"The Freedom Coin\",\"LiteDoge\",\"Boolberry\",\"SolarCoin\",\"TruckCoin\",\"UFO Coin\",\"Ascension Coin\",\"OrangeCoin\",\"BlakeCoin\",\"BitstarCoin\",\"NeosCoin\",\"HyperCoin\",\"PinkCoin\",\"FantomCoin \",\"Crypto Escudo\",\"AudioCoin\",\"IncaKoin\",\"Piggy Coin\",\"Crown Coin\",\"Genstake\",\"Quazar Coin\",\"SmileyCoin\",\"ParkByte\",\"XiaoMiCoin\",\"Groestlcoin\",\"CapriCoin\",\" ClubCoin\",\"Radium\",\"Bata\",\"Pakcoin\",\"Creditbit \",\"OKCash\",\"Lisk\",\"HiCoin\",\"WhiteCoin\",\"Dotcoin\",\"FriendshipCoin\",\"The Hempcoin\",\"Fiii\",\"JoinCoin\",\"Triangles Coin\",\"Vollar\",\"EOS\",\"Reality Clash\",\"Oxycoin\",\"iOlite\",\"TigerCash\",\"Waves\",\"Particl\",\"BitTorrent\",\"Nxt\",\"ZEPHYR\",\"Gapcoin\",\"Beldex\",\"Horizen\",\"BitcoinPlus\"],\"PC_1\":{\"__ndarray__\":\"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\",\"dtype\":\"float64\",\"order\":\"little\",\"shape\":[685]},\"PC_2\":{\"__ndarray__\":\"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\",\"dtype\":\"float64\",\"order\":\"little\",\"shape\":[685]},\"PC_3\":{\"__ndarray__\":\"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\",\"dtype\":\"float64\",\"order\":\"little\",\"shape\":[685]},\"ProofType\":[\"PoW/PoS\",\"PoW/PoS\",\"PoW/PoS\",\"PoW/PoS\",\"PoW\",\"PoW\",\"PoW\",\"PoW/PoS\",\"PoW\",\"PoW\",\"PoW\",\"PoS\",\"PoW\",\"PoW/PoS\",\"PoW/PoS\",\"PoS\",\"PoW\",\"PoW/PoS\",\"PoW\",\"PoW\",\"PoS\",\"PoW/PoS\",\"PoS\",\"PoW\",\"PoW/PoS\",\"PoW\",\"PoW/PoS\",\"PoW\",\"PoW\",\"PoW\",\"PoW\",\"PoW\",\"PoW/PoS\",\"PoW\",\"PoW\",\"PoW\",\"PoW\",\"PoW/PoS\",\"PoW\",\"PoW/PoS\",\"PoW\",\"PoW/PoS\",\"PoW\",\"PoW/PoS\",\"PoS\",\"PoW\",\"PoC\",\"PoW/PoS\",\"PoW/PoS\",\"PoW\",\"PoW/PoS\",\"PoW\",\"PoW\",\"PoW\",\"PoW\",\"PoW\",\"PoW\",\"PoW\",\"PoS\",\"PoW\",\"PoS\",\"PoW/PoS\",\"PoW\",\"PoS/PoW/PoT\",\"PoW\",\"PoW\",\"PoW\",\"PoW\",\"PoW\",\"PoW/PoS\",\"PoW/PoS\",\"PoW/PoS\",\"PoW\",\"PoS\",\"PoW\",\"PoW/PoS\",\"PoW\",\"PoW/PoS\",\"PoW/PoS\",\"PoW\",\"PoW\",\"PoW\",\"PoW\",\"PoW/PoS\",\"PoW/PoS\",\"PoW\",\"PoW\",\"PoS\",\"PoW\",\"PoW/PoS\",\"PoS\",\"PoW/PoS\",\"PoW\",\"PoW\",\"PoW\",\"PoW\",\"PoW/PoS\",\"PoW/PoS\",\"PoW/PoS\",\"PoW/PoS\",\"PoW/PoS\",\"PoW\",\"PoW\",\"PoW\",\"PoW/PoS\",\"PoW/PoS\",\"PoW\",\"PoW\",\"PoW\",\"PoS\",\"PoW/PoS\",\"PoW\",\"PoS\",\"PoW\",\"PoS\",\"PoW/PoS\",\"PoW\",\"PoW\",\"PoW\",\"PoW\",\"PoW\",\"PoW/PoS\",\"PoW/PoS\",\"PoW/PoS\",\"PoW\",\"PoW\",\"PoST\",\"PoW\",\"PoW\",\"PoW/PoS\",\"PoW/PoS\",\"PoS\",\"PoW\",\"PoW/PoS\",\"PoW/PoS\",\"PoW/PoS\",\"PoW\",\"PoW\",\"PoC\",\"PoS\",\"PoW\",\"PoW/PoS\",\"PoW\",\"PoS\",\"PoW/PoS\",\"PoW\",\"PoS\",\"PoW\",\"PoW/PoS\",\"PoW\",\"PoS\",\"PoW\",\"PoS\",\"PoW/PoS\",\"PoW/PoS\",\"PoW/PoS\",\"PoW\",\"PoW/PoS\",\"PoW\",\"PoW\",\"PoS\",\"PoW\",\"PoW\",\"PoW/PoS\",\"PoW\",\"PoW/PoS\",\"PoW/PoS\",\"PoW\",\"PoW\",\"PoW\",\"PoW\",\"PoW\",\"PoW\",\"PoW\",\"PoW\",\"PoW/PoS\",\"PoW/PoS\",\"PoW\",\"PoW/nPoS\",\"PoW\",\"PoW/PoS\",\"PoW\",\"PoW\",\"PoW/PoS\",\"PoW\",\"PoS\",\"PoS/PoW\",\"PoW/PoS\",\"PoW\",\"PoW\",\"PoS\",\"PoW\",\"PoS\",\"PoW/PoS\",\"PoW\",\"PoW/PoS\",\"PoS\",\"PoW/PoS\",\"PoW\",\"PoW\",\"PoW/PoS\",\"PoW\",\"PoW\",\"PoW\",\"PoW/PoS\",\"PoW/PoS\",\"PoW\",\"PoW\",\"PoW/PoS\",\"PoW/PoS\",\"PoW\",\"PoW/PoS\",\"PoS\",\"PoW/PoS\",\"PoW/PoS\",\"PoW\",\"PoW\",\"PoS\",\"PoW\",\"PoW\",\"PoW\",\"PoW\",\"PoW\",\"PoW/PoS\",\"PoW\",\"PoW\",\"PoW/PoS\",\"PoW\",\"PoS\",\"PoW/PoS\",\"PoC\",\"PoS\",\"PoW\",\"PoW\",\"PoW/PoS\",\"PoW/PoS\",\"PoW/PoS\",\"PoS\",\"PoW/PoS\",\"PoW\",\"PoW/PoS\",\"PoW/PoS\",\"PoW/PoS\",\"PoW/PoS\",\"PoW/PoS\",\"PoW/PoS\",\"PoW/PoS\",\"PoW\",\"PoS\",\"PoW/PoS\",\"PoW/PoS\",\"PoW/PoS\",\"PoS\",\"PoW\",\"PoS\",\"dPoW/PoW\",\"PoW/PoS\",\"PoS\",\"PoW/PoS\",\"PoW\",\"PoW/PoS\",\"PoW\",\"PoW/PoS\",\"PoW/PoS\",\"PoW\",\"PoW/PoS\",\"PoW\",\"PoW/PoS\",\"PoS\",\"PoW\",\"PoW/PoW\",\"PoW\",\"PoW/PoS\",\"PoS\",\"PoW/PoS\",\"PoW\",\"PoW/PoS\",\"PoW\",\"PoW\",\"PoW\",\"PoS\",\"PoS\",\"PoW\",\"PoW/PoS\",\"PoS\",\"PoW/PoS\",\"PoW\",\"PoW\",\"PoW\",\"DPoS\",\"PoW/PoS\",\"PoW/PoS\",\"PoW\",\"PoW\",\"PoW\",\"PoW/PoS\",\"PoW/PoS\",\"PoS\",\"PoW/PoS\",\"PoW/PoS\",\"PoW/PoS\",\"PoW/PoS\",\"PoW\",\"PoS\",\"PoW/PoS\",\"PoW/PoS\",\"PoW/PoS\",\"TPoS\",\"PoW/PoS\",\"PoW/PoS\",\"PoW/PoS\",\"PoW\",\"PoW/PoS\",\"PoS\",\"PoW/PoS\",\"PoW/PoS\",\"PoS\",\"PoW/PoS\",\"PoW\",\"PoW\",\"PoW/PoS\",\"PoW\",\"PoW/PoS\",\"PoS\",\"PoW/PoS\",\"PoW/PoS\",\"PoW/PoS\",\"PoW/PoS\",\"PoW\",\"PoW/PoS\",\"PoW\",\"PoW/PoS\",\"PoW\",\"PoW\",\"PoS\",\"PoW/PoS \",\"PoW\",\"PoW\",\"PoS\",\"PoW\",\"PoW\",\"PoW/PoS\",\"PoW\",\"PoW\",\"PoW\",\"PoW\",\"PoS\",\"PoW\",\"PoW/PoS\",\"PoW/PoS\",\"PoW/PoS\",\"PoW\",\"PoS\",\"PoS\",\"PoW/PoS\",\"PoW\",\"PoS\",\"PoW/PoS\",\"PoW/PoS\",\"PoW/PoS\",\"PoW/PoS\",\"PoW\",\"PoS\",\"PoW/PoS\",\"PoW\",\"PoW\",\"PoS\",\"PoW\",\"PoS\",\"PoW/PoS\",\"PoW/PoS\",\"PoW/PoS\",\"PoS\",\"PoW\",\"PoS\",\"PoW\",\"PoW/PoS\",\"PoW\",\"PoW\",\"PoW\",\"PoW\",\"PoW/PoS\",\"PoW\",\"PoW/PoS\",\"PoW/PoS\",\"PoW\",\"PoW/PoS\",\"PoW\",\"PoW/PoS\",\"PoW\",\"PoW\",\"PoW/PoS\",\"PoW\",\"PoW/PoS\",\"PoW\",\"PoW\",\"PoW\",\"PoS\",\"PoW\",\"PoW/PoS\",\"PoW\",\"PoW/PoS\",\"PoW\",\"PoS\",\"Proof of Authority\",\"PoW\",\"PoS\",\"PoW\",\"PoW\",\"PoW\",\"PoW\",\"PoW\",\"PoW\",\"PoW/PoS\",\"PoW/PoS\",\"PoW\",\"PoS\",\"PoS\",\"PoW/PoS\",\"PoW\",\"PoW/PoS\",\"PoW\",\"PoW/PoS\",\"PoW\",\"PoS\",\"PoW\",\"PoW/PoS\",\"PoW/PoS\",\"PoW/PoS\",\"PoW/PoS\",\"PoW\",\"PoW/PoS\",\"PoW/PoS\",\"PoW\",\"PoS\",\"PoW/PoS\",\"PoW/PoS\",\"PoW/PoS\",\"PoS\",\"PoS\",\"PoW\",\"PoW\",\"PoW\",\"PoW\",\"PoW\",\"PoW\",\"DPoS\",\"PoW/PoS\",\"DPoS\",\"PoW/PoS\",\"PoW/PoS\",\"PoW\",\"PoW/PoS\",\"PoW\",\"PoW\",\"PoW\",\"PoS\",\"PoS\",\"PoW\",\"PoW\",\"PoW\",\"PoW/PoS\",\"PoW/PoS\",\"PoW\",\"PoW/PoS\",\"PoW/PoS\",\"PoW\",\"PoW\",\"PoW/PoS\",\"PoW\",\"PoS\",\"PoW\",\"PoW\",\"PoW/PoS\",\"PoW/PoS\",\"PoS\",\"PoW\",\"PoW\",\"PoW\",\"PoW/PoS\",\"PoW/PoS\",\"PoS\",\"PoS\",\"PoW and PoS\",\"PoW\",\"PoW\",\"PoW/PoS\",\"PoW\",\"PoW\",\"PoW\",\"PoW\",\"PoW\",\"PoW\",\"PoS\",\"POBh\",\"PoW + Hive\",\"PoW\",\"PoW\",\"PoW\",\"PoW\",\"PoW\",\"PoW\",\"PoW/PoS\",\"PoA\",\"PoW/PoS\",\"PoW/PoS\",\"PoS\",\"PoS\",\"PoW\",\"PoW\",\"PoW\",\"PoW\",\"PoW\",\"PoW\",\"PoW/PoS\",\"PoW\",\"PoW/PoS\",\"PoW/PoS\",\"PoW\",\"PoW\",\"PoS\",\"PoW\",\"PoW/PoS\",\"PoS\",\"PoS\",\"PoW/PoS\",\"PoW/PoS\",\"DPoS\",\"PoW/PoS\",\"PoW\",\"PoW/PoS\",\"PoS\",\"PoW\",\"PoS\",\"PoW/PoS\",\"PoW\",\"PoW\",\"PoS/PoW\",\"PoW\",\"PoS\",\"PoW\",\"PoW\",\"PoW\",\"PoW\",\"PoW/PoS\",\"PoS\",\"PoW\",\"PoW/PoS\",\"PoW\",\"PoW/PoS\",\"PoS\",\"HPoW\",\"PoS\",\"PoS\",\"PoS\",\"PoW\",\"PoW\",\"PoW\",\"PoW/PoS\",\"PoS\",\"PoW/PoS\",\"PoS\",\"PoW/PoS\",\"PoW/PoS\",\"PoS\",\"PoW\",\"PoW/PoS\",\"PoW\",\"PoW\",\"PoW/PoS\",\"PoW\",\"PoW\",\"PoS\",\"PoW/PoS\",\"PoS\",\"PoS\",\"PoW\",\"PoS\",\"PoW\",\"PoS\",\"PoW/PoS\",\"PoS\",\"PoW\",\"PoW/PoS\",\"PoW/PoS\",\"Zero-Knowledge Proof\",\"PoW\",\"DPOS\",\"PoW/PoS\",\"PoW\",\"PoS\",\"PoW\",\"PoW\",\"PoW\",\"PoW\",\"PoW\",\"Pos\",\"PoW\",\"PoS\",\"PoW\",\"POS / MN\",\"PoW\",\"PoW/PoS\",\"PoW\",\"PoW\",\"PoW\",\"PoW\",\"PoS\",\"PoW\",\"PoW\",\"PoW/PoS\",\"PoW\",\"PoW/PoS\",\"PoW\",\"PoS\",\"PoW/PoS\",\"PoW\",\"PoS\",\"PoW/PoS\",\"PoW\",\"PoW/PoS\",\"PoW/PoS\",\"PoW/PoS\",\"PoW\",\"PoW\",\"PoW\",\"PoW\",\"PoW/PoS\",\"DPoS\",\"PoS\",\"PoW/PoS\",\"PoW\",\"PoW\",\"PoW/PoS\",\"PoW\",\"PoW/PoS\",\"PoW/PoS\",\"PoW\",\"PoW/PoS\",\"PoS\",\"PoW/PoS\",\"PoW/PoS\",\"PoW\",\"PoW\",\"PoW/PoS\",\"PoW/PoS\",\"PoW/PoS\",\"PoW\",\"PoW/PoS\",\"PoW\",\"PoW\",\"PoW/PoS\",\"PoW/PoS\",\"PoW\",\"PoW/PoS\",\"PoW/PoS\",\"PoS\",\"PoW\",\"PoW\",\"Proof of Trust\",\"PoW/PoS\",\"DPoS\",\"PoS\",\"PoW/PoS\",\"PoW\",\"PoW/PoS\",\"PoW/PoS\",\"DPoC\",\"PoW\",\"PoW/PoS\",\"PoW\",\"DPoS\",\"PoW\",\"DPoS\",\"PoW\",\"PoS\",\"LPoS\",\"PoS\",\"DPoS\",\"PoS/LPoS\",\"DPoS\",\"PoW/PoS\",\"PoW\",\"PoW\",\"PoS\"],\"TotalCoinSupply\":[\"42\",\"532000000\",\"0\",\"314159265359\",\"21000000\",\"0\",\"84000000\",\"22000000\",\"0\",\"210000000\",\"21000000\",\"3600570502\",\"21000000000\",\"22000000\",\"1300000\",\"12500000\",\"21000000\",\"350000000\",\"20000000\",\"1600000\",\"7000000\",\"6000000\",\"16403135\",\"64000000\",\"16768584\",\"32000000\",\"0\",\"2000000000\",\"384000000000\",\"169795588\",\"250000000\",\"100000000\",\"0\",\"247000000\",\"84000000\",\"48166000\",\"21000000 \",\"500000\",\"27580000\",\"47433600\",\"21000000 \",\"1000000\",\"13140000\",\"114000000\",\"100000000\",\"18000000\",\"40000000000\",\"0\",\"4380000\",\"16555000000\",\"3720000\",\"2043962\",\"21000000000\",\"13500000000\",\"21000000 \",\"75000000\",\"299792458\",\"32000000\",\"0\",\"100000000000\",\"100000000\",\"624000\",\"2602410\",\"0\",\"11235813\",\"336000000\",\"1420609614\",\"70000000\",\"72245700\",\"7000000\",\"0\",\"120000000\",\"42000000\",\"0\",\"90600000000\",\"22000000\",\"21000000\",\"3293010\",\"21600000\",\"265420800\",\"20000000\",\"1350000\",\"82003200\",\"1000000\",\"100000000\",\"42000000\",\"200000000\",\"0\",\"10000000\",\"2419200000\",\"16180000\",\"0\",\"50000000\",\"15000000000\",\"21000000\",\"337000000\",\"0\",\"3770000\",\"420000000\",\"98000000\",\"0\",\"12000000\",\"21000000\",\"250000000\",\"1000000\",\"1000000\",\"51200000\",\"50000000\",\"21000000\",\"0\",\"1000\",\"888000000\",\"100000000\",\"47011968\",\"2300000000\",\"10000000\",\"42000000\",\"2625000\",\"80000000\",\"250000\",\"0\",\"1600000000\",\"100000000\",\"0\",\"23000000\",\"0\",\"0\",\"84000000\",\"265420800\",\"2000000\",\"5500000\",\"0\",\"45000000\",\"0\",\"50000000\",\"1000000000\",\"184467440735\",\"10000000000\",\"2158812800\",\"500000000\",\"105120000\",\"68000000\",\"1000000\",\"17000000\",\"0\",\"1680000000\",\"0\",\"166386000\",\"12000000\",\"2628000\",\"500000000\",\"160000000\",\"2014\",\"0\",\"10000000\",\"12000000\",\"1000000000\",\"10110000\",\"210000000\",\"1000000000\",\"20000000\",\"0\",\"0\",\"0\",\"3371337\",\"0\",\"20000000\",\"10000000000\",\"0\",\"1840000000\",\"84000000\",\"33000000\",\"619478\",\"21000000\",\"92000000000\",\"0\",\"0\",\"33000000\",\"78000000\",\"33000000\",\"0\",\"65789100\",\"53760000\",\"5060000\",\"21000000\",\"0\",\"0\",\"0\",\"210240000\",\"250000000\",\"100000000\",\"16906397\",\"2228921.184\",\"50000000\",\"0\",\"1000000000\",\"3852156\",\"26298000\",\"16000000\",\"21000000\",\"21000000\",\"16500000000\",\"210000000\",\"81962100\",\"22000000\",\"26550000000\",\"84000000\",\"18446744\",\"10500000\",\"20190463.54969237\",\"21626280000 \",\"0\",\"12000000\",\"42000000\",\"4200000\",\"15000000\",\"2250000000\",\"221052632\",\"5000000000\",\"84000000\",\"21000000000\",\"30000000\",\"168351300\",\"210000000\",\"18400000\",\"24000000\",\"384000000\",\"42000000\",\" 99000000000\",\"40000000\",\"2147483647\",\"20000000\",\"20000000\",\"25000000\",\"100000\",\"21000000\",\"75000000\",\"15000000\",\"222725000\",\"2421227\",\"525000000\",\"90000000\",\"36000000\",\"139000000\",\"16000000\",\"74666667\",\"350000000\",\"616448\",\"33500000\",\"2000000000\",\"44333333\",\"100000000\",\"200000000\",\"25000000\",\"657000000\",\"200000000\",\"50000000\",\"100000000\",\"90000000\",\"10000000\",\"21000000\",\"9736000\",\"3000000\",\"21000000\",\"1200000000\",\"0\",\"200000000\",\"10000000000\",\"0\",\"10638298\",\"3100000000\",\"30000000\",\"20000000000\",\"74000000\",\"0\",\"87500000\",\"1500000000\",\"10000000\",\"21400000\",\"2000000000\",\"39999898\",\"2500124\",\"126000000\",\"100000000\",\"301000000\",\"7506000000\",\"26205539\",\"100000000\",\"21000000\",\"125000000\",\"30000000\",\"1000000000\",\"10000000000\",\"21000000\",\"500000000\",\"850000000\",\"3853326.77707314\",\"50000000\",\"7000000000\",\"38540000 \",\"200000000 \",\"42000000\",\"228000000\",\"20000000\",\"60000000\",\"20000000\",\"33000000\",\"76500000\",\"28000000\",\"650659833\",\"5000000\",\"21000000\",\"144000000\",\"32514916898\",\"13000000\",\"3315789\",\"15000000\",\"78835200\",\"2714286\",\"25000000\",\"250000000\",\"9999999\",\"450000000\",\"100000000\",\"500000000\",\"21000000\",\"9354000\",\"100000000\",\"100640000\",\"20000000\",\"100000000000\",\"21933333\",\"20000000\",\"185000000\",\"55000000\",\"110000000\",\"115000000\",\"3360000\",\"14524851.4827\",\"1000000000\",\"17000000\",\"1000000000\",\"100000000 \",\"21000000\",\"454898394\",\"210000000\",\"34426423\",\"2232901\",\"100000000\",\"36900000\",\"110000000\",\"4000000000\",\"112000000\",\"110290030\",\"100000000\",\"48252000\",\"400000000\",\"500000000\",\"21212121\",\"28600000\",\"1000000000\",\"21000000\",\"75000000000\",\"40000000\",\"35520400\",\"1000000\",\"2000000000\",\"2500000000\",\"30000000\",\"105000000\",\"2093500000\",\"90000000000\",\"200084200\",\"72000000\",\"100000000\",\"105000000\",\"50000000000\",\"0\",\"340282367\",\"30000000\",\"2000000000\",\"10000000\",\"100000000\",\"120000000\",\"100000000\",\"19276800\",\"30000000\",\" 75000000\",\"7905634\",\"60000000\",\"18900000\",\"50000000000\",\"54000000\",\"18898187.6216583\",\"21000000\",\"200000000000\",\"5000000000\",\"137500000\",\"1100000000\",\"100000000\",\"21000000\",\"9507271\",\"1010000000\",\"17405891.19707116\",\"86712634466\",\"10500000000\",\"61599965\",\"0\",\"1000000000\",\"20000000\",\"84000000\",\"100000000\",\"100000000\",\"48252000\",\"4200000\",\"88888888\",\"91388946\",\"45000000000\",\"27000000\",\"21000000000\",\"400000000\",\"1800000000\",\"15733333\",\"27000000\",\"24000000\",\"21000000\",\"25000000000\",\"100000000\",\"1200000000\",\"60000000\",\"156306732.71\",\"21000000\",\"200000000\",\"100000000\",\"21000000\",\"14788275.991\",\"5000000\",\"3686860\",\"75000000\",\"9000000000\",\"350000000\",\"45000000\",\"300000000\",\"280000000\",\"105100000\",\"31800000\",\"50000000 \",\"144000000\",\"500000000\",\"30000000000\",\"210000000\",\"660000000\",\"210000000\",\"85000000000\",\"12500000\",\"10000000000\",\"27716121\",\"20000000\",\"550000000\",\"21000000\",\"999481516\",\"50000000000\",\"150000000\",\"4999999999\",\"50000000\",\"90000000000\",\" 90000000000\",\"19800000\",\"4600000\",\"21000000\",\"120000000\",\"500000000\",\"64000000\",\"900000000\",\"4000000\",\"21000000\",\"23000000\",\"20166000\",\"23000000\",\"2000000000\",\"92233720000000000\",\"25000000\",\"1618033\",\"30000000\",\"1000000000000\",\"16600000\",\"232000000\",\"336000000\",\"21000000\",\"17000000\",\"10000000000\",\"100000000\",\"1100000000\",\"800000000\",\"5200000000\",\"840000000\",\"40000000\",\"18406979840\",\"21000000000\",\"31500000\",\"21000000\",\"500000000\",\"19340594\",\"252460800\",\"25000000\",\"60000000\",\"124000000\",\"1000000000\",\"6500000000\",\"22000000\",\"1000000000\",\"100000000\",\"21000000\",\"25000000\",\"50000000\",\"84096000\",\"3000000\",\"5000000\",\"70000000\",\"22300000\",\"500000000\",\"300000000\",\"210000000\",\"21000000\",\"88000000\",\"30000000\",\"100000000\",\"100000000\",\"500000000\",\"100000000\",\"200000000\",\"80000000\",\"18400000\",\"45000000\",\"5121951220\",\"21000000\",\"26280000\",\"21000000\",\"18000000\",\"26000000\",\"10500000\",\"600000518\",\"150000000\",\"184000000000\",\"10200000000\",\"44000000\",\"168000000\",\"100000000\",\"1000000000\",\"84000000\",\"90000000\",\"92000000000\",\"650000000 \",\"100262205\",\"18081806 \",\"22075700\",\"21000000\",\"21000000\",\"82546564\",\"21000000\",\"5151000\",\"16880000000\",\"36000000\",\"52500000\",\"100000000\",\"22105263\",\"1000000000\",\"1750000000\",\"88188888\",\"100000000\",\"210000000\",\"184470000000\",\"55000000\",\"50000000\",\"260000000\",\"210000000\",\"175000000\",\"840000000\",\"2100000000\",\"70000000\",\"366000000\",\"100000000\",\"25000000\",\"250000000\",\"18000000000\",\"1000000000\",\"100000000\",\"1000000000\",\"252000000\",\"7600000000\",\"50000000\",\"29300000\",\"100000000000\",\"84000000\",\"13666237\",\"21000000\",\"70000000000\",\"100000000\",\"0\",\"8080000000\",\"46000000\",\"6100000\",\"54000000\",\"42000000\",\"105120001.44\",\"25228800\",\"20999764\",\"105000000\",\"21000000\",\"120000000\",\"21000000\",\"262800000\",\"19035999\",\"30886000\",\"13370000\",\"74800000000\",\"100000000\",\"19700000\",\"84000000\",\"100000000\",\"500000000\",\"5000000000\",\"420000000\",\"105000000\",\"64000000\",\"2100000\",\"168000000\",\"30000000\",\"1000000000\",\"25000000\",\"35000000000\",\"18450000\",\"98100000000\",\"0\",\"4000000000\",\"0\",\"200000000\",\"7000000000\",\"54256119\",\"21000000\",\"0\",\"500000000\",\"18400000\",\"1000000000\",\"10500000000\",\"190000000\",\"1000000000\",\"42000000\",\"15000000\",\"18446744\",\"50000000000\",\"25000000\",\"400000000\",\"105000000\",\"208000000\",\"160000000\",\"9000000\",\"5000000\",\"182000000\",\"16504333\",\"105000000\",\"159918400\",\"10008835635\",\"300000000\",\"890000000\",\"60168145\",\"300000000\",\"5000000000\",\"2800000\",\"120000\",\"2100000000\",\"0\",\"24487944\",\"0\",\"1000000000\",\"1000000000\",\"100000000\",\"8634140\",\"990000000000\",\"1000000000\",\"2000000000\",\"250000000\",\"1400222610\",\"21000000\",\"1000000\"],\"TotalCoinsMined\":{\"__ndarray__\":\"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\",\"dtype\":\"float64\",\"order\":\"little\",\"shape\":[685]},\"class\":{\"__ndarray__\":\"AAAAAAAAAAAAAAAAAAAAAAAAAAAAAAAAAAAAAAAAAAAAAAAAAAAAAAAAAAAAAAAAAAAAAAAAAAAAAAAAAAAAAAAAAAAAAAAAAAAAAAAAAAAAAAAAAAAAAAAAAAAAAAAAAAAAAAAAAAAAAAAAAAAAAAAAAAAAAAAAAAAAAAAAAAAAAAAAAAAAAAAAAAAAAAAAAAAAAAAAAAAAAAAAAAAAAAAAAAAAAAAAAAAAAAAAAAAAAAAAAAAAAAAAAAAAAAAAAAAAAAAAAAAAAAAAAAAAAAAAAAAAAAAAAAAAAAAAAAAAAAAAAAAAAAAAAAAAAAAAAAAAAAAAAAAAAAAAAAAAAAAAAAAAAAAAAAAAAAAAAAAAAAAAAAAAAAAAAAAAAAAAAAAAAAAAAAAAAAAAAAAAAAAAAAAAAAAAAAAAAAAAAAAAAAAAAAAAAAAAAAAAAAAAAAAAAAAAAAAAAAAAAAAAAAAAAAAAAAAAAAAAAAAAAAAAAAAAAAAAAAAAAAAAAAAAAAAAAAAAAAAAAAAAAAAAAAAAAAAAAAAAAAAAAAAAAAAAAAAAAAAAAAAAAAAAAAAAAAAAAAAAAAAAAAAAAAAAAAAAAAAAAAAAAAAAAAAAAAAAAAAAAAAAAAAAAAAAAAAAAAAAAAAAAAAAAAAAAAAAAAAAAAAAAAAAAAAAAAAAAAAAAAAAAAAAAAAAAAAAAAAAAAAAAAAAAAAAAAAAAAAAAAAAAAAAAAAAAAAAAAAAAAAAAAAAAAAAAAAAAAAAAAAAAAAAAAAAAAAAAAAAAAAAAAAAAAAAAAAAAAAAAAAAAAAAAAAAAAAAAAAAAAAAAAAAAAAAAAAAAAAAAAAAAAAAAAAAAAAAAAAAAAAAAAAAAAAAAAAAAAAAAAAAAAAAAAAAAAAAAAAAAAAAAAAAAAAAAAAAAAAAAAAAAAAAAAAAAAAAAAAAAAAAAAAAAAAAAAAAAAAAAAAAAAAAAAAAAAAAAAAAAAAAAAAAAAAAAAAAAAAAAAAAAAAAAAAAAAAAAAAAAAAAAAAAAAAAAAAAAAAAAAAAAAAAAAAAAAAAAAAAAAAAAAAAAAAAAAAAAAAAAAAAAAAAAAAAAAAAAAAAAAAAAAAAAAAAAAAAAAAAAAAAAAAAAAAAAAAAAAAAAAAAAAAAAAAAAAAAAAAAAAAAAAAAAAAAAAAAAAAAAAAAAAAAAAAAAAAAAAAAAAAAAAAAAAAAAAAAAAAAAAAAAAAAAAAAAAAAAAAAAAAAAAAAAAAAAAAAAAAAAAAAAAAAAAAAAAAAAAAAAAAAAAAAAAAAAAAAAAAAAAAAAAAAAAAAAAAAAAAAAAAAAAAAAAAAAAAAAAAAAAAAAAAAAAAAAAAAAAAAAAAAAAAAAAAAAAAAAAAAAAAAAAAAAAAAAAAAAAAAAAAAAAAAAAAAAAAAAAAAAAAAAAAAAAAAAAAAAAAAAAAAAAAAAAAAAAAAAAAAAAAAAAAAAAAAAAAAAAAAAAAAAAAAAAAAAAAAAAAAAAAAAAAAAAAAAAAAAAAAAAAAAAAAAAAAAAAAAAAAAAAAAAAAAAAAAAAAAAAAAAAAAAAAAAAAAAAAAAAAAAAAAAAAAAAAAAAAAAAAAAAAAAAAAAAAAAAAAAAAAAAAAAAAAAAAAAAAAAAAAAAAAAAAAAAAAAAAAAAAAAAAAAAAAAAAAAAAAAAAAAAAAAAAAAAAAAAAAAAAAAAAAAAAAAAAAAAAAAAAAAAAAAAAAAAAAAAAAAAAAAAAAAAAAAAAAAAAAAAAAAAAAAAAAAAAAAAAAAAAAAAAAAAAAAAAAAAAAAAAAAAAAAAAAAAAAAAAAAAAAAAAAAAAAAAAAAAAAAAAAAAAAAAAAAAAAAAAAAAAAAAAAAAAAAAAAAAAAAAAAAAAAAAAAAAAAAAAAAAAAAAAAAAAAAAAAAAAAAAAAAAAAAAAAAAAAAAAAAAAAAAAAAAAAAAAAAAAAAAAAAAAAAAAAAAAAAAAAAAAAAAAAAAAAAAAAAAAAAAAAAAAAAAAAAAAAAAAAAAAAAAAAAAAAAAAAAAAAAAAAAAAAAAAAAAAAAAAAAAAAAAAAAAAAAAAAAAAAAAAAAAAAAAAAAAAAAAAAAAAAAAAAAAAAAAAAAAAAAAAAAAAAAAAAAAAAAAAAAAAAAAAAAAAAAAAAAAAAAAAAAAAAAAAAAAAAAAAAAAAAAAAAAAAAAAAAAAAAAAAAAAAAAAAAAAAAAAAAAAAAAAAAAAAAAAAAAAAAAAAAAAAAAAAAAAAAAAAAAAAAAAAAAAAAAAAAAAAAAAAAAAAAAAAAAAAAAAAAAAAAAAAAAAAAAAAAAAAAAAAAAAAAAAAAAAAAAAAAAAAAAAAAAAAAAAAAAAAAAAAAAAAAAAAAAAAAAAAAAAAAAAAAAAAAAAAAAAAAAAAAAAAAAAAAAAAAAAAAAAAAAAAAAAAAAAAAAAAAAAAAAAAAAAAAAAAAAAAAAAAAAAAAAAAAAAAAAAAAAAAAAAAAAAAAAAAAAAAAAAAAAAAAAAAAAAAAAAAAAAAAAAAAAAAAAAAAAAAAAAAAAAAAAAAAAAAAAAAAAAAAAAAAAAAAAAAAAAAAAAAAAAAAAAAAAAAAAAAAAAAAAAAAAAAAAAAAAAAAAAAAAAAAAAAAAAAAAAAAAAAAAAAAAAAAAAAAAAAAAAAAAAAAAAAAAAAAAAAAAAAAAAAAAAAAAAAAAAAAAAAAAAAAAAAAAAAAAAAAAAAAAAAAAAAAAAAAAAAAAAAAAAAAAAAAAAAAAAAAAAAAAAAAAAAAAAAAAAAAAAAAAAAAAAAAAAAAAAAAAAAAAAAAAAAAAAAAAAAAAAAAAAAAAAAAAAAAAAAAAAAAAAAAAAAAAAAAAAAAAAAAAAAAAAAAAAAAAAAAAAAAAAAAAAAAAAAAAAAAAAAAAAAAAAAAAAAAAAAAAAAAAAAAAAAAAAAAAAAAAAAAAAAAAAAAAAAAAAAAAAAAAAAAAAAAAAAAAAAAAAAAAAAAAAAAAAAAAAAAAAAAAAAAAAAAAAAAAAAAAAAAAAAAAAAAAAAAAAAAAAAAAAAAAAAAAAAAAAAAAAAAAAAAAAAAAAAAAAAAAAAAAAAAAAAAAAAAAAAAAAAAAAAAAAAAAAAAAAAAAAAAAAAAAAAAAAAAAAAAAAAAAAAAAAAAAAAAAAAAAAAAAAAAAAAAAAAAAAAAAAAAAAAAAAAAAAAAAAAAAAAAAAAAAAAAAAAAAAAAAAAAAAAAAAAAAAAAAAAAAAAAAAAAAAAAAAAAAAAAAAAAAAAAAAAAAAAAAAAAAAAAAAAAAAAAAAAAAAAAAAAAAAAAAAAAAAAAAAAAAAAAAAAAAAAAAAAAAAAAAAAAAAAAAAAAAAAAAAAAAAAAAAAAAAAAAAAAAAAAAAAAAAAAAAAAAAAAAAAAAAAAAAAAAAAAAAAAAAAAAAAAAAAAAAAAAAAAAAAAAAAAAAAAAAAAAAAAAAAAAAAAAAAAAAAAAAAAAAAAAAAAAAAAAAAAAAAAAAAAAAAAAAAAAAAAAAAAAAAAAAAAAAAAAAAAAAAAAAAAAAAAAAAAAAAAAAAAAAAAAAAAAAAAAAAAAAAAAAAAAAAAAAAAAAAAAAAAAAAAAAAAAAAAAAAAAAAAAAAAAAAAAAAAAAAAAAAAAAAAAAAAAAAAAAAAA==\",\"dtype\":\"int32\",\"order\":\"little\",\"shape\":[685]}},\"selected\":{\"id\":\"2568\"},\"selection_policy\":{\"id\":\"2617\"}},\"id\":\"2567\",\"type\":\"ColumnDataSource\"},{\"attributes\":{\"margin\":[5,5,5,5],\"name\":\"HSpacer04416\",\"sizing_mode\":\"stretch_width\"},\"id\":\"2621\",\"type\":\"Spacer\"},{\"attributes\":{},\"id\":\"2579\",\"type\":\"NumberFormatter\"},{\"attributes\":{},\"id\":\"2569\",\"type\":\"StringFormatter\"},{\"attributes\":{\"format\":\"0,0.0[00000]\"},\"id\":\"2604\",\"type\":\"NumberFormatter\"},{\"attributes\":{\"editor\":{\"id\":\"2600\"},\"field\":\"PC_1\",\"formatter\":{\"id\":\"2599\"},\"title\":\"PC 1\"},\"id\":\"2601\",\"type\":\"TableColumn\"},{\"attributes\":{},\"id\":\"2580\",\"type\":\"IntEditor\"},{\"attributes\":{},\"id\":\"2605\",\"type\":\"NumberEditor\"},{\"attributes\":{},\"id\":\"2568\",\"type\":\"Selection\"},{\"attributes\":{\"editor\":{\"id\":\"2580\"},\"field\":\"class\",\"formatter\":{\"id\":\"2579\"},\"title\":\"class\"},\"id\":\"2581\",\"type\":\"TableColumn\"},{\"attributes\":{\"format\":\"0,0.0[00000]\"},\"id\":\"2584\",\"type\":\"NumberFormatter\"},{\"attributes\":{\"format\":\"0,0.0[00000]\"},\"id\":\"2609\",\"type\":\"NumberFormatter\"},{\"attributes\":{\"editor\":{\"id\":\"2605\"},\"field\":\"PC_2\",\"formatter\":{\"id\":\"2604\"},\"title\":\"PC 2\"},\"id\":\"2606\",\"type\":\"TableColumn\"},{\"attributes\":{},\"id\":\"2585\",\"type\":\"NumberEditor\"},{\"attributes\":{},\"id\":\"2610\",\"type\":\"NumberEditor\"},{\"attributes\":{\"source\":{\"id\":\"2567\"}},\"id\":\"2616\",\"type\":\"CDSView\"},{\"attributes\":{},\"id\":\"2589\",\"type\":\"StringFormatter\"},{\"attributes\":{\"editor\":{\"id\":\"2585\"},\"field\":\"TotalCoinsMined\",\"formatter\":{\"id\":\"2584\"},\"title\":\"TotalCoinsMined\"},\"id\":\"2586\",\"type\":\"TableColumn\"},{\"attributes\":{\"editor\":{\"id\":\"2610\"},\"field\":\"PC_3\",\"formatter\":{\"id\":\"2609\"},\"title\":\"PC 3\"},\"id\":\"2611\",\"type\":\"TableColumn\"},{\"attributes\":{},\"id\":\"2590\",\"type\":\"StringEditor\"},{\"attributes\":{\"children\":[{\"id\":\"2566\"},{\"id\":\"2614\"},{\"id\":\"2621\"}],\"margin\":[0,0,0,0],\"name\":\"Row04411\",\"tags\":[\"embedded\"]},\"id\":\"2565\",\"type\":\"Row\"},{\"attributes\":{\"editor\":{\"id\":\"2590\"},\"field\":\"TotalCoinSupply\",\"formatter\":{\"id\":\"2589\"},\"title\":\"TotalCoinSupply\"},\"id\":\"2591\",\"type\":\"TableColumn\"},{\"attributes\":{},\"id\":\"2570\",\"type\":\"StringEditor\"},{\"attributes\":{},\"id\":\"2594\",\"type\":\"StringFormatter\"}],\"root_ids\":[\"2565\"]},\"title\":\"Bokeh Application\",\"version\":\"2.4.2\"}};\n",
       "    var render_items = [{\"docid\":\"df3199d8-1690-4dc9-a695-14002bc5f060\",\"root_ids\":[\"2565\"],\"roots\":{\"2565\":\"49a531f5-bd36-4313-bb47-3d25c72e614b\"}}];\n",
       "    root.Bokeh.embed.embed_items_notebook(docs_json, render_items);\n",
       "  }\n",
       "  if (root.Bokeh !== undefined && root.Bokeh.Panel !== undefined) {\n",
       "    embed_document(root);\n",
       "  } else {\n",
       "    var attempts = 0;\n",
       "    var timer = setInterval(function(root) {\n",
       "      if (root.Bokeh !== undefined && root.Bokeh.Panel !== undefined) {\n",
       "        clearInterval(timer);\n",
       "        embed_document(root);\n",
       "      } else if (document.readyState == \"complete\") {\n",
       "        attempts++;\n",
       "        if (attempts > 200) {\n",
       "          clearInterval(timer);\n",
       "          console.log(\"Bokeh: ERROR: Unable to run BokehJS code because BokehJS library is missing\");\n",
       "        }\n",
       "      }\n",
       "    }, 25, root)\n",
       "  }\n",
       "})(window);</script>"
      ],
      "text/plain": [
       ":Table   [Algorithm,CoinName,class,TotalCoinsMined,TotalCoinSupply,ProofType,PC 1,PC 2,PC 3]"
      ]
     },
     "execution_count": 429,
     "metadata": {
      "application/vnd.holoviews_exec.v0+json": {
       "id": "2565"
      }
     },
     "output_type": "execute_result"
    }
   ],
   "source": [
    "# Create a table with tradable cryptocurrencies.\n",
    "clustered_df.hvplot.table(columns= ['Algorithm','CoinName', 'class', 'TotalCoinsMined', 'TotalCoinSupply', 'ProofType', 'PC 1', 'PC 2', 'PC 3'], sortable=True, selectable=True)"
   ]
  },
  {
   "cell_type": "code",
   "execution_count": 430,
   "metadata": {},
   "outputs": [
    {
     "name": "stdout",
     "output_type": "stream",
     "text": [
      "        Algorithm ProofType  TotalCoinsMined TotalCoinSupply      PC 1  \\\n",
      "0          Scrypt   PoW/PoS     4.199995e+01              42 -0.255280   \n",
      "2          Scrypt   PoW/PoS     1.055185e+09       532000000 -0.240834   \n",
      "4         SHA-256   PoW/PoS     0.000000e+00               0 -0.128864   \n",
      "5             X13   PoW/PoS     2.927942e+10    314159265359  0.287404   \n",
      "7         SHA-256       PoW     1.792718e+07        21000000 -0.177820   \n",
      "...           ...       ...              ...             ...       ...   \n",
      "1238      SHA-256      DPoS     2.000000e+09      2000000000  4.084533   \n",
      "1242       Scrypt   PoW/PoS     1.493105e+07       250000000 -0.255075   \n",
      "1245  CryptoNight       PoW     9.802226e+08      1400222610 -0.105864   \n",
      "1246     Equihash       PoW     7.296538e+06        21000000 -0.231583   \n",
      "1247       Scrypt       PoS     1.283270e+05         1000000 -0.121660   \n",
      "\n",
      "          PC 2      PC 3     CoinName  class  \n",
      "0     1.195336 -0.469322      42 Coin      0  \n",
      "2     1.194168 -0.469972      404Coin      0  \n",
      "4     0.840671 -0.353820          808      0  \n",
      "5     1.990405 -0.568933    EliteCoin      0  \n",
      "7    -1.451417  0.098989      Bitcoin      0  \n",
      "...        ...       ...          ...    ...  \n",
      "1238 -0.177940 -0.004414       ZEPHYR      0  \n",
      "1242  1.195319 -0.469331      Gapcoin      0  \n",
      "1245 -2.316374  0.269646       Beldex      0  \n",
      "1246 -2.007668  0.271968      Horizen      0  \n",
      "1247  0.725133 -0.163513  BitcoinPlus      0  \n",
      "\n",
      "[685 rows x 9 columns]\n"
     ]
    }
   ],
   "source": [
    "# Print the total number of tradable cryptocurrencies.\n",
    "print(clustered_df)"
   ]
  },
  {
   "cell_type": "code",
   "execution_count": 445,
   "metadata": {},
   "outputs": [
    {
     "name": "stdout",
     "output_type": "stream",
     "text": [
      "[[4.55364914e-16 5.94230127e-03]\n",
      " [5.76795558e-09 7.00182308e-03]\n",
      " [0.00000000e+00 5.94230122e-03]\n",
      " ...\n",
      " [1.51812440e-08 6.92655266e-03]\n",
      " [2.27682457e-10 5.94962775e-03]\n",
      " [1.08420218e-11 5.94243008e-03]]\n"
     ]
    }
   ],
   "source": [
    "# Scaling data to create the scatter plot with tradable cryptocurrencies.\n",
    "scaled_df = MinMaxScaler().fit_transform(clustered_df[[\"TotalCoinSupply\", \"TotalCoinsMined\"]])\n",
    "print(scaled_df)"
   ]
  },
  {
   "cell_type": "code",
   "execution_count": 446,
   "metadata": {},
   "outputs": [
    {
     "data": {
      "text/html": [
       "<div>\n",
       "<style scoped>\n",
       "    .dataframe tbody tr th:only-of-type {\n",
       "        vertical-align: middle;\n",
       "    }\n",
       "\n",
       "    .dataframe tbody tr th {\n",
       "        vertical-align: top;\n",
       "    }\n",
       "\n",
       "    .dataframe thead th {\n",
       "        text-align: right;\n",
       "    }\n",
       "</style>\n",
       "<table border=\"1\" class=\"dataframe\">\n",
       "  <thead>\n",
       "    <tr style=\"text-align: right;\">\n",
       "      <th></th>\n",
       "      <th>0</th>\n",
       "      <th>1</th>\n",
       "      <th>CoinName</th>\n",
       "      <th>class</th>\n",
       "    </tr>\n",
       "  </thead>\n",
       "  <tbody>\n",
       "    <tr>\n",
       "      <th>0</th>\n",
       "      <td>4.553649e-16</td>\n",
       "      <td>0.005942</td>\n",
       "      <td>42 Coin</td>\n",
       "      <td>0</td>\n",
       "    </tr>\n",
       "    <tr>\n",
       "      <th>2</th>\n",
       "      <td>5.767956e-09</td>\n",
       "      <td>0.007002</td>\n",
       "      <td>404Coin</td>\n",
       "      <td>0</td>\n",
       "    </tr>\n",
       "    <tr>\n",
       "      <th>4</th>\n",
       "      <td>0.000000e+00</td>\n",
       "      <td>0.005942</td>\n",
       "      <td>808</td>\n",
       "      <td>0</td>\n",
       "    </tr>\n",
       "    <tr>\n",
       "      <th>5</th>\n",
       "      <td>3.406122e-06</td>\n",
       "      <td>0.035342</td>\n",
       "      <td>EliteCoin</td>\n",
       "      <td>0</td>\n",
       "    </tr>\n",
       "    <tr>\n",
       "      <th>7</th>\n",
       "      <td>2.276825e-10</td>\n",
       "      <td>0.005960</td>\n",
       "      <td>Bitcoin</td>\n",
       "      <td>0</td>\n",
       "    </tr>\n",
       "    <tr>\n",
       "      <th>8</th>\n",
       "      <td>0.000000e+00</td>\n",
       "      <td>0.006050</td>\n",
       "      <td>Ethereum</td>\n",
       "      <td>0</td>\n",
       "    </tr>\n",
       "    <tr>\n",
       "      <th>9</th>\n",
       "      <td>9.107298e-10</td>\n",
       "      <td>0.006006</td>\n",
       "      <td>Litecoin</td>\n",
       "      <td>0</td>\n",
       "    </tr>\n",
       "    <tr>\n",
       "      <th>10</th>\n",
       "      <td>2.385245e-10</td>\n",
       "      <td>0.005951</td>\n",
       "      <td>Dash</td>\n",
       "      <td>0</td>\n",
       "    </tr>\n",
       "    <tr>\n",
       "      <th>11</th>\n",
       "      <td>0.000000e+00</td>\n",
       "      <td>0.005960</td>\n",
       "      <td>Monero</td>\n",
       "      <td>0</td>\n",
       "    </tr>\n",
       "    <tr>\n",
       "      <th>12</th>\n",
       "      <td>2.276825e-09</td>\n",
       "      <td>0.006056</td>\n",
       "      <td>Ethereum Classic</td>\n",
       "      <td>0</td>\n",
       "    </tr>\n",
       "  </tbody>\n",
       "</table>\n",
       "</div>"
      ],
      "text/plain": [
       "               0         1          CoinName  class\n",
       "0   4.553649e-16  0.005942           42 Coin      0\n",
       "2   5.767956e-09  0.007002           404Coin      0\n",
       "4   0.000000e+00  0.005942               808      0\n",
       "5   3.406122e-06  0.035342         EliteCoin      0\n",
       "7   2.276825e-10  0.005960           Bitcoin      0\n",
       "8   0.000000e+00  0.006050          Ethereum      0\n",
       "9   9.107298e-10  0.006006          Litecoin      0\n",
       "10  2.385245e-10  0.005951              Dash      0\n",
       "11  0.000000e+00  0.005960            Monero      0\n",
       "12  2.276825e-09  0.006056  Ethereum Classic      0"
      ]
     },
     "execution_count": 446,
     "metadata": {},
     "output_type": "execute_result"
    }
   ],
   "source": [
    "# Create a new DataFrame that has the scaled data with the clustered_df DataFrame index.\n",
    "plot_df = pd.DataFrame(data=scaled_df, index=clustered_df.index)\n",
    "\n",
    "# Add the \"CoinName\" column from the clustered_df DataFrame to the new DataFrame.\n",
    "plot_df[\"CoinName\"] = clustered_df[\"CoinName\"]\n",
    "\n",
    "# Add the \"Class\" column from the clustered_df DataFrame to the new DataFrame. \n",
    "plot_df[\"class\"]= clustered_df ['class']\n",
    "\n",
    "plot_df.head(10)"
   ]
  },
  {
   "cell_type": "code",
   "execution_count": 438,
   "metadata": {},
   "outputs": [
    {
     "ename": "DataError",
     "evalue": "Supplied data does not contain specified dimensions, the following dimensions were not found: ['TotalCoinsMined', 'TotalCoinSupply']\n\nPandasInterface expects tabular data, for more information on supported datatypes see http://holoviews.org/user_guide/Tabular_Datasets.html",
     "output_type": "error",
     "traceback": [
      "\u001b[0;31m---------------------------------------------------------------------------\u001b[0m",
      "\u001b[0;31mDataError\u001b[0m                                 Traceback (most recent call last)",
      "\u001b[0;32m/var/folders/21/qt_jjgf124l7lcyj5rzfm34w0000gn/T/ipykernel_4303/711670018.py\u001b[0m in \u001b[0;36m<module>\u001b[0;34m\u001b[0m\n\u001b[1;32m      4\u001b[0m    \u001b[0my\u001b[0m\u001b[0;34m=\u001b[0m\u001b[0;34m'TotalCoinSupply'\u001b[0m\u001b[0;34m,\u001b[0m\u001b[0;34m\u001b[0m\u001b[0;34m\u001b[0m\u001b[0m\n\u001b[1;32m      5\u001b[0m    \u001b[0mhover_cols\u001b[0m\u001b[0;34m=\u001b[0m\u001b[0;34m[\u001b[0m\u001b[0;34m'CoinName'\u001b[0m\u001b[0;34m]\u001b[0m\u001b[0;34m,\u001b[0m\u001b[0;34m\u001b[0m\u001b[0;34m\u001b[0m\u001b[0m\n\u001b[0;32m----> 6\u001b[0;31m    by='class',)\n\u001b[0m",
      "\u001b[0;32m~/opt/anaconda3/envs/PythonData/lib/python3.7/site-packages/hvplot/plotting/core.py\u001b[0m in \u001b[0;36mscatter\u001b[0;34m(self, x, y, **kwds)\u001b[0m\n\u001b[1;32m    197\u001b[0m             \u001b[0mThe\u001b[0m \u001b[0mHoloViews\u001b[0m \u001b[0mrepresentation\u001b[0m \u001b[0mof\u001b[0m \u001b[0mthe\u001b[0m \u001b[0mplot\u001b[0m\u001b[0;34m.\u001b[0m\u001b[0;34m\u001b[0m\u001b[0;34m\u001b[0m\u001b[0m\n\u001b[1;32m    198\u001b[0m         \"\"\"\n\u001b[0;32m--> 199\u001b[0;31m         \u001b[0;32mreturn\u001b[0m \u001b[0mself\u001b[0m\u001b[0;34m(\u001b[0m\u001b[0mx\u001b[0m\u001b[0;34m,\u001b[0m \u001b[0my\u001b[0m\u001b[0;34m,\u001b[0m \u001b[0mkind\u001b[0m\u001b[0;34m=\u001b[0m\u001b[0;34m'scatter'\u001b[0m\u001b[0;34m,\u001b[0m \u001b[0;34m**\u001b[0m\u001b[0mkwds\u001b[0m\u001b[0;34m)\u001b[0m\u001b[0;34m\u001b[0m\u001b[0;34m\u001b[0m\u001b[0m\n\u001b[0m\u001b[1;32m    200\u001b[0m \u001b[0;34m\u001b[0m\u001b[0m\n\u001b[1;32m    201\u001b[0m     \u001b[0;32mdef\u001b[0m \u001b[0marea\u001b[0m\u001b[0;34m(\u001b[0m\u001b[0mself\u001b[0m\u001b[0;34m,\u001b[0m \u001b[0mx\u001b[0m\u001b[0;34m=\u001b[0m\u001b[0;32mNone\u001b[0m\u001b[0;34m,\u001b[0m \u001b[0my\u001b[0m\u001b[0;34m=\u001b[0m\u001b[0;32mNone\u001b[0m\u001b[0;34m,\u001b[0m \u001b[0my2\u001b[0m\u001b[0;34m=\u001b[0m\u001b[0;32mNone\u001b[0m\u001b[0;34m,\u001b[0m \u001b[0mstacked\u001b[0m\u001b[0;34m=\u001b[0m\u001b[0;32mTrue\u001b[0m\u001b[0;34m,\u001b[0m \u001b[0;34m**\u001b[0m\u001b[0mkwds\u001b[0m\u001b[0;34m)\u001b[0m\u001b[0;34m:\u001b[0m\u001b[0;34m\u001b[0m\u001b[0;34m\u001b[0m\u001b[0m\n",
      "\u001b[0;32m~/opt/anaconda3/envs/PythonData/lib/python3.7/site-packages/hvplot/plotting/core.py\u001b[0m in \u001b[0;36m__call__\u001b[0;34m(self, x, y, kind, **kwds)\u001b[0m\n\u001b[1;32m     77\u001b[0m                 \u001b[0;32mreturn\u001b[0m \u001b[0mpn\u001b[0m\u001b[0;34m.\u001b[0m\u001b[0mpanel\u001b[0m\u001b[0;34m(\u001b[0m\u001b[0mplot\u001b[0m\u001b[0;34m,\u001b[0m \u001b[0;34m**\u001b[0m\u001b[0mpanel_dict\u001b[0m\u001b[0;34m)\u001b[0m\u001b[0;34m\u001b[0m\u001b[0;34m\u001b[0m\u001b[0m\n\u001b[1;32m     78\u001b[0m \u001b[0;34m\u001b[0m\u001b[0m\n\u001b[0;32m---> 79\u001b[0;31m         \u001b[0;32mreturn\u001b[0m \u001b[0mself\u001b[0m\u001b[0;34m.\u001b[0m\u001b[0m_get_converter\u001b[0m\u001b[0;34m(\u001b[0m\u001b[0mx\u001b[0m\u001b[0;34m,\u001b[0m \u001b[0my\u001b[0m\u001b[0;34m,\u001b[0m \u001b[0mkind\u001b[0m\u001b[0;34m,\u001b[0m \u001b[0;34m**\u001b[0m\u001b[0mkwds\u001b[0m\u001b[0;34m)\u001b[0m\u001b[0;34m(\u001b[0m\u001b[0mkind\u001b[0m\u001b[0;34m,\u001b[0m \u001b[0mx\u001b[0m\u001b[0;34m,\u001b[0m \u001b[0my\u001b[0m\u001b[0;34m)\u001b[0m\u001b[0;34m\u001b[0m\u001b[0;34m\u001b[0m\u001b[0m\n\u001b[0m\u001b[1;32m     80\u001b[0m \u001b[0;34m\u001b[0m\u001b[0m\n\u001b[1;32m     81\u001b[0m     \u001b[0;32mdef\u001b[0m \u001b[0m_get_converter\u001b[0m\u001b[0;34m(\u001b[0m\u001b[0mself\u001b[0m\u001b[0;34m,\u001b[0m \u001b[0mx\u001b[0m\u001b[0;34m=\u001b[0m\u001b[0;32mNone\u001b[0m\u001b[0;34m,\u001b[0m \u001b[0my\u001b[0m\u001b[0;34m=\u001b[0m\u001b[0;32mNone\u001b[0m\u001b[0;34m,\u001b[0m \u001b[0mkind\u001b[0m\u001b[0;34m=\u001b[0m\u001b[0;32mNone\u001b[0m\u001b[0;34m,\u001b[0m \u001b[0;34m**\u001b[0m\u001b[0mkwds\u001b[0m\u001b[0;34m)\u001b[0m\u001b[0;34m:\u001b[0m\u001b[0;34m\u001b[0m\u001b[0;34m\u001b[0m\u001b[0m\n",
      "\u001b[0;32m~/opt/anaconda3/envs/PythonData/lib/python3.7/site-packages/hvplot/converter.py\u001b[0m in \u001b[0;36m__call__\u001b[0;34m(self, kind, x, y)\u001b[0m\n\u001b[1;32m   1135\u001b[0m                         \u001b[0mdataset\u001b[0m \u001b[0;34m=\u001b[0m \u001b[0mDataset\u001b[0m\u001b[0;34m(\u001b[0m\u001b[0mdata\u001b[0m\u001b[0;34m)\u001b[0m\u001b[0;34m\u001b[0m\u001b[0;34m\u001b[0m\u001b[0m\n\u001b[1;32m   1136\u001b[0m                     \u001b[0mdataset\u001b[0m \u001b[0;34m=\u001b[0m \u001b[0mdataset\u001b[0m\u001b[0;34m.\u001b[0m\u001b[0mredim\u001b[0m\u001b[0;34m(\u001b[0m\u001b[0;34m**\u001b[0m\u001b[0mself\u001b[0m\u001b[0;34m.\u001b[0m\u001b[0m_redim\u001b[0m\u001b[0;34m)\u001b[0m\u001b[0;34m\u001b[0m\u001b[0;34m\u001b[0m\u001b[0m\n\u001b[0;32m-> 1137\u001b[0;31m                 \u001b[0mobj\u001b[0m \u001b[0;34m=\u001b[0m \u001b[0mmethod\u001b[0m\u001b[0;34m(\u001b[0m\u001b[0mx\u001b[0m\u001b[0;34m,\u001b[0m \u001b[0my\u001b[0m\u001b[0;34m)\u001b[0m\u001b[0;34m\u001b[0m\u001b[0;34m\u001b[0m\u001b[0m\n\u001b[0m\u001b[1;32m   1138\u001b[0m                 \u001b[0mobj\u001b[0m\u001b[0;34m.\u001b[0m\u001b[0m_dataset\u001b[0m \u001b[0;34m=\u001b[0m \u001b[0mdataset\u001b[0m\u001b[0;34m\u001b[0m\u001b[0;34m\u001b[0m\u001b[0m\n\u001b[1;32m   1139\u001b[0m \u001b[0;34m\u001b[0m\u001b[0m\n",
      "\u001b[0;32m~/opt/anaconda3/envs/PythonData/lib/python3.7/site-packages/hvplot/converter.py\u001b[0m in \u001b[0;36mscatter\u001b[0;34m(self, x, y, data)\u001b[0m\n\u001b[1;32m   1472\u001b[0m \u001b[0;34m\u001b[0m\u001b[0m\n\u001b[1;32m   1473\u001b[0m     \u001b[0;32mdef\u001b[0m \u001b[0mscatter\u001b[0m\u001b[0;34m(\u001b[0m\u001b[0mself\u001b[0m\u001b[0;34m,\u001b[0m \u001b[0mx\u001b[0m\u001b[0;34m=\u001b[0m\u001b[0;32mNone\u001b[0m\u001b[0;34m,\u001b[0m \u001b[0my\u001b[0m\u001b[0;34m=\u001b[0m\u001b[0;32mNone\u001b[0m\u001b[0;34m,\u001b[0m \u001b[0mdata\u001b[0m\u001b[0;34m=\u001b[0m\u001b[0;32mNone\u001b[0m\u001b[0;34m)\u001b[0m\u001b[0;34m:\u001b[0m\u001b[0;34m\u001b[0m\u001b[0;34m\u001b[0m\u001b[0m\n\u001b[0;32m-> 1474\u001b[0;31m         \u001b[0;32mreturn\u001b[0m \u001b[0mself\u001b[0m\u001b[0;34m.\u001b[0m\u001b[0mchart\u001b[0m\u001b[0;34m(\u001b[0m\u001b[0mScatter\u001b[0m\u001b[0;34m,\u001b[0m \u001b[0mx\u001b[0m\u001b[0;34m,\u001b[0m \u001b[0my\u001b[0m\u001b[0;34m,\u001b[0m \u001b[0mdata\u001b[0m\u001b[0;34m)\u001b[0m\u001b[0;34m\u001b[0m\u001b[0;34m\u001b[0m\u001b[0m\n\u001b[0m\u001b[1;32m   1475\u001b[0m \u001b[0;34m\u001b[0m\u001b[0m\n\u001b[1;32m   1476\u001b[0m     \u001b[0;32mdef\u001b[0m \u001b[0marea\u001b[0m\u001b[0;34m(\u001b[0m\u001b[0mself\u001b[0m\u001b[0;34m,\u001b[0m \u001b[0mx\u001b[0m\u001b[0;34m=\u001b[0m\u001b[0;32mNone\u001b[0m\u001b[0;34m,\u001b[0m \u001b[0my\u001b[0m\u001b[0;34m=\u001b[0m\u001b[0;32mNone\u001b[0m\u001b[0;34m,\u001b[0m \u001b[0mdata\u001b[0m\u001b[0;34m=\u001b[0m\u001b[0;32mNone\u001b[0m\u001b[0;34m)\u001b[0m\u001b[0;34m:\u001b[0m\u001b[0;34m\u001b[0m\u001b[0;34m\u001b[0m\u001b[0m\n",
      "\u001b[0;32m~/opt/anaconda3/envs/PythonData/lib/python3.7/site-packages/hvplot/converter.py\u001b[0m in \u001b[0;36mchart\u001b[0;34m(self, element, x, y, data)\u001b[0m\n\u001b[1;32m   1442\u001b[0m         \u001b[0mdata\u001b[0m\u001b[0;34m,\u001b[0m \u001b[0mx\u001b[0m\u001b[0;34m,\u001b[0m \u001b[0my\u001b[0m \u001b[0;34m=\u001b[0m \u001b[0mself\u001b[0m\u001b[0;34m.\u001b[0m\u001b[0m_process_chart_args\u001b[0m\u001b[0;34m(\u001b[0m\u001b[0mdata\u001b[0m\u001b[0;34m,\u001b[0m \u001b[0mx\u001b[0m\u001b[0;34m,\u001b[0m \u001b[0my\u001b[0m\u001b[0;34m)\u001b[0m\u001b[0;34m\u001b[0m\u001b[0;34m\u001b[0m\u001b[0m\n\u001b[1;32m   1443\u001b[0m         \u001b[0;32mif\u001b[0m \u001b[0mx\u001b[0m \u001b[0;32mand\u001b[0m \u001b[0my\u001b[0m \u001b[0;32mand\u001b[0m \u001b[0;32mnot\u001b[0m \u001b[0misinstance\u001b[0m\u001b[0;34m(\u001b[0m\u001b[0my\u001b[0m\u001b[0;34m,\u001b[0m \u001b[0;34m(\u001b[0m\u001b[0mlist\u001b[0m\u001b[0;34m,\u001b[0m \u001b[0mtuple\u001b[0m\u001b[0;34m)\u001b[0m\u001b[0;34m)\u001b[0m\u001b[0;34m:\u001b[0m\u001b[0;34m\u001b[0m\u001b[0;34m\u001b[0m\u001b[0m\n\u001b[0;32m-> 1444\u001b[0;31m             \u001b[0;32mreturn\u001b[0m \u001b[0mself\u001b[0m\u001b[0;34m.\u001b[0m\u001b[0msingle_chart\u001b[0m\u001b[0;34m(\u001b[0m\u001b[0melement\u001b[0m\u001b[0;34m,\u001b[0m \u001b[0mx\u001b[0m\u001b[0;34m,\u001b[0m \u001b[0my\u001b[0m\u001b[0;34m,\u001b[0m \u001b[0mdata\u001b[0m\u001b[0;34m)\u001b[0m\u001b[0;34m\u001b[0m\u001b[0;34m\u001b[0m\u001b[0m\n\u001b[0m\u001b[1;32m   1445\u001b[0m         \u001b[0;32melif\u001b[0m \u001b[0mx\u001b[0m \u001b[0;32mand\u001b[0m \u001b[0my\u001b[0m \u001b[0;32mand\u001b[0m \u001b[0mlen\u001b[0m\u001b[0;34m(\u001b[0m\u001b[0my\u001b[0m\u001b[0;34m)\u001b[0m \u001b[0;34m==\u001b[0m \u001b[0;36m1\u001b[0m\u001b[0;34m:\u001b[0m\u001b[0;34m\u001b[0m\u001b[0;34m\u001b[0m\u001b[0m\n\u001b[1;32m   1446\u001b[0m             \u001b[0;32mreturn\u001b[0m \u001b[0mself\u001b[0m\u001b[0;34m.\u001b[0m\u001b[0msingle_chart\u001b[0m\u001b[0;34m(\u001b[0m\u001b[0melement\u001b[0m\u001b[0;34m,\u001b[0m \u001b[0mx\u001b[0m\u001b[0;34m,\u001b[0m \u001b[0my\u001b[0m\u001b[0;34m[\u001b[0m\u001b[0;36m0\u001b[0m\u001b[0;34m]\u001b[0m\u001b[0;34m,\u001b[0m \u001b[0mdata\u001b[0m\u001b[0;34m)\u001b[0m\u001b[0;34m\u001b[0m\u001b[0;34m\u001b[0m\u001b[0m\n",
      "\u001b[0;32m~/opt/anaconda3/envs/PythonData/lib/python3.7/site-packages/hvplot/converter.py\u001b[0m in \u001b[0;36msingle_chart\u001b[0;34m(self, element, x, y, data)\u001b[0m\n\u001b[1;32m   1362\u001b[0m                         \u001b[0;34m.\u001b[0m\u001b[0mredim\u001b[0m\u001b[0;34m(\u001b[0m\u001b[0;34m**\u001b[0m\u001b[0mself\u001b[0m\u001b[0;34m.\u001b[0m\u001b[0m_redim\u001b[0m\u001b[0;34m)\u001b[0m\u001b[0;34m\u001b[0m\u001b[0;34m\u001b[0m\u001b[0m\n\u001b[1;32m   1363\u001b[0m                         .opts(opts))\n\u001b[0;32m-> 1364\u001b[0;31m             chart = Dataset(data, self.by+kdims, vdims).to(\n\u001b[0m\u001b[1;32m   1365\u001b[0m                 element, kdims, vdims, self.by).relabel(**self._relabel)\n\u001b[1;32m   1366\u001b[0m             \u001b[0mchart\u001b[0m \u001b[0;34m=\u001b[0m \u001b[0mchart\u001b[0m\u001b[0;34m.\u001b[0m\u001b[0mlayout\u001b[0m\u001b[0;34m(\u001b[0m\u001b[0;34m)\u001b[0m \u001b[0;32mif\u001b[0m \u001b[0mself\u001b[0m\u001b[0;34m.\u001b[0m\u001b[0msubplots\u001b[0m \u001b[0;32melse\u001b[0m \u001b[0mchart\u001b[0m\u001b[0;34m.\u001b[0m\u001b[0moverlay\u001b[0m\u001b[0;34m(\u001b[0m\u001b[0msort\u001b[0m\u001b[0;34m=\u001b[0m\u001b[0;32mFalse\u001b[0m\u001b[0;34m)\u001b[0m\u001b[0;34m\u001b[0m\u001b[0;34m\u001b[0m\u001b[0m\n",
      "\u001b[0;32m~/opt/anaconda3/envs/PythonData/lib/python3.7/site-packages/holoviews/core/data/__init__.py\u001b[0m in \u001b[0;36m__init__\u001b[0;34m(self, data, kdims, vdims, **kwargs)\u001b[0m\n\u001b[1;32m    343\u001b[0m         \u001b[0;34m(\u001b[0m\u001b[0mdata\u001b[0m\u001b[0;34m,\u001b[0m \u001b[0mself\u001b[0m\u001b[0;34m.\u001b[0m\u001b[0minterface\u001b[0m\u001b[0;34m,\u001b[0m \u001b[0mdims\u001b[0m\u001b[0;34m,\u001b[0m \u001b[0mextra_kws\u001b[0m\u001b[0;34m)\u001b[0m \u001b[0;34m=\u001b[0m \u001b[0minitialized\u001b[0m\u001b[0;34m\u001b[0m\u001b[0;34m\u001b[0m\u001b[0m\n\u001b[1;32m    344\u001b[0m         \u001b[0msuper\u001b[0m\u001b[0;34m(\u001b[0m\u001b[0mDataset\u001b[0m\u001b[0;34m,\u001b[0m \u001b[0mself\u001b[0m\u001b[0;34m)\u001b[0m\u001b[0;34m.\u001b[0m\u001b[0m__init__\u001b[0m\u001b[0;34m(\u001b[0m\u001b[0mdata\u001b[0m\u001b[0;34m,\u001b[0m \u001b[0;34m**\u001b[0m\u001b[0mdict\u001b[0m\u001b[0;34m(\u001b[0m\u001b[0mkwargs\u001b[0m\u001b[0;34m,\u001b[0m \u001b[0;34m**\u001b[0m\u001b[0mdict\u001b[0m\u001b[0;34m(\u001b[0m\u001b[0mdims\u001b[0m\u001b[0;34m,\u001b[0m \u001b[0;34m**\u001b[0m\u001b[0mextra_kws\u001b[0m\u001b[0;34m)\u001b[0m\u001b[0;34m)\u001b[0m\u001b[0;34m)\u001b[0m\u001b[0;34m\u001b[0m\u001b[0;34m\u001b[0m\u001b[0m\n\u001b[0;32m--> 345\u001b[0;31m         \u001b[0mself\u001b[0m\u001b[0;34m.\u001b[0m\u001b[0minterface\u001b[0m\u001b[0;34m.\u001b[0m\u001b[0mvalidate\u001b[0m\u001b[0;34m(\u001b[0m\u001b[0mself\u001b[0m\u001b[0;34m,\u001b[0m \u001b[0mvalidate_vdims\u001b[0m\u001b[0;34m)\u001b[0m\u001b[0;34m\u001b[0m\u001b[0;34m\u001b[0m\u001b[0m\n\u001b[0m\u001b[1;32m    346\u001b[0m \u001b[0;34m\u001b[0m\u001b[0m\n\u001b[1;32m    347\u001b[0m         \u001b[0;31m# Handle _pipeline property\u001b[0m\u001b[0;34m\u001b[0m\u001b[0;34m\u001b[0m\u001b[0;34m\u001b[0m\u001b[0m\n",
      "\u001b[0;32m~/opt/anaconda3/envs/PythonData/lib/python3.7/site-packages/holoviews/core/data/pandas.py\u001b[0m in \u001b[0;36mvalidate\u001b[0;34m(cls, dataset, vdims)\u001b[0m\n\u001b[1;32m    156\u001b[0m             raise DataError(\"Supplied data does not contain specified \"\n\u001b[1;32m    157\u001b[0m                             \u001b[0;34m\"dimensions, the following dimensions were \"\u001b[0m\u001b[0;34m\u001b[0m\u001b[0;34m\u001b[0m\u001b[0m\n\u001b[0;32m--> 158\u001b[0;31m                             \"not found: %s\" % repr(not_found), cls)\n\u001b[0m\u001b[1;32m    159\u001b[0m \u001b[0;34m\u001b[0m\u001b[0m\n\u001b[1;32m    160\u001b[0m \u001b[0;34m\u001b[0m\u001b[0m\n",
      "\u001b[0;31mDataError\u001b[0m: Supplied data does not contain specified dimensions, the following dimensions were not found: ['TotalCoinsMined', 'TotalCoinSupply']\n\nPandasInterface expects tabular data, for more information on supported datatypes see http://holoviews.org/user_guide/Tabular_Datasets.html"
     ]
    }
   ],
   "source": [
    "# Create a hvplot.scatter plot using x=\"TotalCoinsMined\" and y=\"TotalCoinSupply\".\n",
    "plot_df.hvplot.scatter(\n",
    "   x='TotalCoinsMined',\n",
    "   y='TotalCoinSupply',\n",
    "   hover_cols=['CoinName'],\n",
    "   by='class',)"
   ]
  },
  {
   "cell_type": "code",
   "execution_count": null,
   "metadata": {},
   "outputs": [],
   "source": []
  }
 ],
 "metadata": {
  "file_extension": ".py",
  "kernelspec": {
   "display_name": "PythonData",
   "language": "python",
   "name": "pythondata"
  },
  "language_info": {
   "codemirror_mode": {
    "name": "ipython",
    "version": 3
   },
   "file_extension": ".py",
   "mimetype": "text/x-python",
   "name": "python",
   "nbconvert_exporter": "python",
   "pygments_lexer": "ipython3",
   "version": "3.7.13"
  },
  "latex_envs": {
   "LaTeX_envs_menu_present": true,
   "autoclose": false,
   "autocomplete": true,
   "bibliofile": "biblio.bib",
   "cite_by": "apalike",
   "current_citInitial": 1,
   "eqLabelWithNumbers": true,
   "eqNumInitial": 1,
   "hotkeys": {
    "equation": "Ctrl-E",
    "itemize": "Ctrl-I"
   },
   "labels_anchors": false,
   "latex_user_defs": false,
   "report_style_numbering": false,
   "user_envs_cfg": false
  },
  "mimetype": "text/x-python",
  "name": "python",
  "npconvert_exporter": "python",
  "pygments_lexer": "ipython3",
  "version": 3
 },
 "nbformat": 4,
 "nbformat_minor": 2
}
